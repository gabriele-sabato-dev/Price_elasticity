{
 "cells": [
  {
   "cell_type": "code",
   "execution_count": 2,
   "metadata": {
    "pycharm": {
     "is_executing": true
    }
   },
   "outputs": [
    {
     "name": "stdout",
     "output_type": "stream",
     "text": [
      "['report_date', 'session']\n",
      "['report_date', 'marketing_cost_spend']\n"
     ]
    }
   ],
   "source": [
    "from pyspark.sql import SparkSession\n",
    "from pyspark.sql.functions import *\n",
    "spark = SparkSession.builder.master('local').config('spark.driver.memory', '16g').appName('Whole_analysis').getOrCreate()\n",
    "\n",
    "import pandas as pd\n",
    "import numpy as np\n",
    "\n",
    "import psycopg2\n",
    "\n",
    "\n",
    "def connect_redshift_db():\n",
    "    cnx = psycopg2.connect(dbname='dwh',\n",
    "                           host='redshift-prod.data.service.home24.net',\n",
    "                           port='5439',\n",
    "                           user='gabriele_sabato',\n",
    "                           password='zQZ8x6ZhRoTf7GS')\n",
    "    return cnx\n",
    "\n",
    "\n",
    "cnx_redshift = connect_redshift_db()\n",
    "cursor_redshift = cnx_redshift.cursor()\n",
    "\n",
    "\n",
    "def query_to_dataframe(_cursor, _query):\n",
    "    _cursor.execute(_query)\n",
    "    colnames = [desc[0] for desc in _cursor.description]\n",
    "    print(colnames)\n",
    "    return pd.DataFrame(_cursor.fetchall(), columns=colnames)\n",
    "\n",
    "\n",
    "# CREATE MARKET SESSION SPARK DF\n",
    "sql_query_market_session = \"\"\"\n",
    "SELECT report_date, sum(sessions) as session\n",
    "from public.marketing_daily_dashboard_base\n",
    "WHERE report_date >= '2020-01-01' and report_date <= '2021-04-28'\n",
    "group by 1\n",
    "order by 1\n",
    "\"\"\"\n",
    "\n",
    "df_marketing_session = query_to_dataframe(cursor_redshift, sql_query_market_session)\n",
    "\n",
    "df_spark_market_session = spark.createDataFrame(df_marketing_session)\n",
    "\n",
    "# CREATE MARKET COST SPARK DF\n",
    "sql_query_market_cost = \"\"\"\n",
    "SELECT report_date, sum(cost) as marketing_cost_spend\n",
    "FROM public.marketing_cost_consolidated\n",
    "WHERE report_date >= '2020-01-01' and report_date <= '2021-04-28'\n",
    "AND marketing_channel != 'Sales personnel'\n",
    "group by 1\n",
    "order by 1\n",
    "\"\"\"\n",
    "\n",
    "df_marketing_cost = query_to_dataframe(cursor_redshift, sql_query_market_cost)\n",
    "\n",
    "df_spark_market_cost = spark.createDataFrame(df_marketing_cost)\n"
   ]
  },
  {
   "cell_type": "code",
   "execution_count": 3,
   "metadata": {
    "pycharm": {
     "name": "#%%\n"
    }
   },
   "outputs": [
    {
     "data": {
      "text/html": [
       "<div>\n",
       "<style scoped>\n",
       "    .dataframe tbody tr th:only-of-type {\n",
       "        vertical-align: middle;\n",
       "    }\n",
       "\n",
       "    .dataframe tbody tr th {\n",
       "        vertical-align: top;\n",
       "    }\n",
       "\n",
       "    .dataframe thead th {\n",
       "        text-align: right;\n",
       "    }\n",
       "</style>\n",
       "<table border=\"1\" class=\"dataframe\">\n",
       "  <thead>\n",
       "    <tr style=\"text-align: right;\">\n",
       "      <th></th>\n",
       "      <th>report_date</th>\n",
       "      <th>session</th>\n",
       "    </tr>\n",
       "  </thead>\n",
       "  <tbody>\n",
       "    <tr>\n",
       "      <th>479</th>\n",
       "      <td>2021-04-24</td>\n",
       "      <td>20544533</td>\n",
       "    </tr>\n",
       "    <tr>\n",
       "      <th>480</th>\n",
       "      <td>2021-04-25</td>\n",
       "      <td>26104642</td>\n",
       "    </tr>\n",
       "    <tr>\n",
       "      <th>481</th>\n",
       "      <td>2021-04-26</td>\n",
       "      <td>20777885</td>\n",
       "    </tr>\n",
       "    <tr>\n",
       "      <th>482</th>\n",
       "      <td>2021-04-27</td>\n",
       "      <td>18887723</td>\n",
       "    </tr>\n",
       "    <tr>\n",
       "      <th>483</th>\n",
       "      <td>2021-04-28</td>\n",
       "      <td>16624097</td>\n",
       "    </tr>\n",
       "  </tbody>\n",
       "</table>\n",
       "</div>"
      ],
      "text/plain": [
       "    report_date   session\n",
       "479  2021-04-24  20544533\n",
       "480  2021-04-25  26104642\n",
       "481  2021-04-26  20777885\n",
       "482  2021-04-27  18887723\n",
       "483  2021-04-28  16624097"
      ]
     },
     "execution_count": 3,
     "metadata": {},
     "output_type": "execute_result"
    }
   ],
   "source": [
    "df_marketing_session.tail()\n"
   ]
  },
  {
   "cell_type": "code",
   "execution_count": 4,
   "metadata": {
    "pycharm": {
     "name": "#%%\n"
    }
   },
   "outputs": [
    {
     "data": {
      "text/html": [
       "<div>\n",
       "<style scoped>\n",
       "    .dataframe tbody tr th:only-of-type {\n",
       "        vertical-align: middle;\n",
       "    }\n",
       "\n",
       "    .dataframe tbody tr th {\n",
       "        vertical-align: top;\n",
       "    }\n",
       "\n",
       "    .dataframe thead th {\n",
       "        text-align: right;\n",
       "    }\n",
       "</style>\n",
       "<table border=\"1\" class=\"dataframe\">\n",
       "  <thead>\n",
       "    <tr style=\"text-align: right;\">\n",
       "      <th></th>\n",
       "      <th>report_date</th>\n",
       "      <th>marketing_cost_spend</th>\n",
       "    </tr>\n",
       "  </thead>\n",
       "  <tbody>\n",
       "    <tr>\n",
       "      <th>479</th>\n",
       "      <td>2021-04-24</td>\n",
       "      <td>231455.705590999995943275</td>\n",
       "    </tr>\n",
       "    <tr>\n",
       "      <th>480</th>\n",
       "      <td>2021-04-25</td>\n",
       "      <td>315710.252803999996246219</td>\n",
       "    </tr>\n",
       "    <tr>\n",
       "      <th>481</th>\n",
       "      <td>2021-04-26</td>\n",
       "      <td>273506.324894999994080725</td>\n",
       "    </tr>\n",
       "    <tr>\n",
       "      <th>482</th>\n",
       "      <td>2021-04-27</td>\n",
       "      <td>235772.648319000000015843</td>\n",
       "    </tr>\n",
       "    <tr>\n",
       "      <th>483</th>\n",
       "      <td>2021-04-28</td>\n",
       "      <td>222162.568521000000385789</td>\n",
       "    </tr>\n",
       "  </tbody>\n",
       "</table>\n",
       "</div>"
      ],
      "text/plain": [
       "    report_date       marketing_cost_spend\n",
       "479  2021-04-24  231455.705590999995943275\n",
       "480  2021-04-25  315710.252803999996246219\n",
       "481  2021-04-26  273506.324894999994080725\n",
       "482  2021-04-27  235772.648319000000015843\n",
       "483  2021-04-28  222162.568521000000385789"
      ]
     },
     "execution_count": 4,
     "metadata": {},
     "output_type": "execute_result"
    }
   ],
   "source": [
    "df_marketing_cost.tail()\n"
   ]
  },
  {
   "cell_type": "code",
   "execution_count": 5,
   "metadata": {
    "pycharm": {
     "name": "#%%\n"
    }
   },
   "outputs": [
    {
     "data": {
      "text/plain": [
       "[<matplotlib.lines.Line2D at 0x7ff06072cfd0>]"
      ]
     },
     "execution_count": 5,
     "metadata": {},
     "output_type": "execute_result"
    },
    {
     "data": {
      "image/png": "[encoded data removed]",
      "text/plain": [
       "<Figure size 432x288 with 1 Axes>"
      ]
     },
     "metadata": {
      "needs_background": "light"
     },
     "output_type": "display_data"
    }
   ],
   "source": [
    "import matplotlib.pyplot as plt\n",
    "\n",
    "plt.plot(df_marketing_session['report_date'].head(400),df_marketing_session['session'].head(400) )\n"
   ]
  },
  {
   "cell_type": "code",
   "execution_count": 6,
   "metadata": {
    "pycharm": {
     "name": "#%%\n"
    }
   },
   "outputs": [
    {
     "data": {
      "text/plain": [
       "[<matplotlib.lines.Line2D at 0x7ff0609fb250>]"
      ]
     },
     "execution_count": 6,
     "metadata": {},
     "output_type": "execute_result"
    },
    {
     "data": {
      "image/png": "[encoded data removed]",
      "text/plain": [
       "<Figure size 432x288 with 1 Axes>"
      ]
     },
     "metadata": {
      "needs_background": "light"
     },
     "output_type": "display_data"
    }
   ],
   "source": [
    "plt.plot(df_marketing_cost['report_date'].head(400),df_marketing_cost['marketing_cost_spend'].head(400))\n"
   ]
  },
  {
   "cell_type": "code",
   "execution_count": 7,
   "metadata": {
    "pycharm": {
     "name": "#%%\n"
    }
   },
   "outputs": [],
   "source": [
    "df = spark.read.parquet(\n",
    "    '/Users/gabriele.sabato/PycharmProjects/raw_data/price_elasticity_model_data/part-*',\n",
    "    header=True)\n"
   ]
  },
  {
   "cell_type": "code",
   "execution_count": 8,
   "metadata": {
    "pycharm": {
     "name": "#%%\n"
    }
   },
   "outputs": [],
   "source": [
    "df.createOrReplaceTempView('model_data_table')\n"
   ]
  },
  {
   "cell_type": "code",
   "execution_count": 9,
   "metadata": {
    "pycharm": {
     "name": "#%%\n"
    }
   },
   "outputs": [
    {
     "name": "stdout",
     "output_type": "stream",
     "text": [
      "+------------------+-----------+--------------+-----------+-----+\n",
      "|         item_code|update_date|delivery_weeks| item_price|sales|\n",
      "+------------------+-----------+--------------+-----------+-----+\n",
      "|000000000000001000| 2020-02-09|             1|       29.0|   12|\n",
      "|000000000000001000| 2021-05-17|             5|       29.0|    0|\n",
      "|000000001000000008| 2019-07-31|             1|      13.99|    0|\n",
      "|000000001000000008| 2020-02-19|             1|      13.99|    0|\n",
      "|000000001000000008| 2020-07-31|             2|       6.99|    0|\n",
      "|000000001000000008| 2020-09-04|             2|       6.99|    0|\n",
      "|000000001000000013| 2019-08-25|             1|      39.99|    0|\n",
      "|000000001000000013| 2020-02-29|             1|27.98999999|    4|\n",
      "|000000001000000013| 2020-03-06|             1|27.98999999|    1|\n",
      "|000000001000000014| 2019-06-21|             1|74.98999999|    0|\n",
      "|000000001000000014| 2019-08-07|             1|74.98999999|    0|\n",
      "|000000001000000014| 2020-04-13|             1|74.98999999|    1|\n",
      "|000000001000000014| 2020-04-27|             2|74.98999999|    0|\n",
      "|000000001000000014| 2021-02-25|             2|      82.99|    0|\n",
      "|000000001000000016| 2020-01-04|             1|      46.99|    0|\n",
      "|000000001000000016| 2020-01-29|             1|      46.99|    0|\n",
      "|000000001000000016| 2020-05-28|             3|      44.99|    0|\n",
      "|000000001000000016| 2020-06-16|             2|      44.99|    0|\n",
      "|000000001000000016| 2020-08-20|             2|      44.99|    0|\n",
      "|000000001000000016| 2020-11-18|             2|      47.99|    0|\n",
      "+------------------+-----------+--------------+-----------+-----+\n",
      "only showing top 20 rows\n",
      "\n"
     ]
    }
   ],
   "source": [
    "df.show()"
   ]
  },
  {
   "cell_type": "code",
   "execution_count": null,
   "metadata": {
    "pycharm": {
     "is_executing": true,
     "name": "#%%\n"
    }
   },
   "outputs": [],
   "source": [
    "df_sales = df.toPandas()\n",
    "\n"
   ]
  },
  {
   "cell_type": "code",
   "execution_count": null,
   "metadata": {
    "pycharm": {
     "name": "#%%\n"
    }
   },
   "outputs": [],
   "source": [
    "df_d_item = spark.read.parquet('/Users/gabriele.sabato/PycharmProjects/raw_data/redshift_tables/d_item/*')\n"
   ]
  },
  {
   "cell_type": "code",
   "execution_count": null,
   "metadata": {
    "pycharm": {
     "name": "#%%\n"
    }
   },
   "outputs": [],
   "source": [
    "df_d_item.createOrReplaceTempView('d_item_tmp')"
   ]
  },
  {
   "cell_type": "code",
   "execution_count": null,
   "metadata": {
    "pycharm": {
     "name": "#%%\n"
    }
   },
   "outputs": [],
   "source": [
    "df_item_visits = spark.read.parquet(\n",
    "    '/Users/gabriele.sabato/PycharmProjects/raw_data/redshift_tables/item_visits/*202*/*.parquet',header=True)"
   ]
  },
  {
   "cell_type": "code",
   "execution_count": null,
   "metadata": {
    "pycharm": {
     "name": "#%%\n"
    }
   },
   "outputs": [],
   "source": [
    "df_f_orders = spark.read.parquet(\n",
    "    '/Users/gabriele.sabato/PycharmProjects/raw_data/redshift_tables/f_orders/*.parquet',header=True)\n",
    "\n",
    "df_f_orders.createOrReplaceTempView('f_orders')"
   ]
  },
  {
   "cell_type": "code",
   "execution_count": null,
   "metadata": {
    "pycharm": {
     "name": "#%%\n"
    }
   },
   "outputs": [],
   "source": [
    "df_d_calendar = spark.read.parquet(\n",
    "    '/Users/gabriele.sabato/PycharmProjects/raw_data/redshift_tables/d_calendar/*.parquet',header=True)\n",
    "\n",
    "df_d_calendar.createOrReplaceTempView('d_calendar')\n",
    "\n"
   ]
  },
  {
   "cell_type": "code",
   "execution_count": null,
   "metadata": {
    "pycharm": {
     "name": "#%%\n"
    }
   },
   "outputs": [],
   "source": [
    "df_d_order_flags = spark.read.parquet(\n",
    "    '/Users/gabriele.sabato/PycharmProjects/raw_data/redshift_tables/d_order_flags/*.parquet',header=True)\n",
    "\n",
    "df_d_order_flags.createOrReplaceTempView('d_order_flags')\n",
    "\n"
   ]
  },
  {
   "cell_type": "code",
   "execution_count": null,
   "metadata": {
    "pycharm": {
     "name": "#%%\n"
    }
   },
   "outputs": [],
   "source": [
    "df_list_top_seller = spark.sql(\"\"\"\n",
    "SELECT di.item_code,\n",
    "       sum(fo.amount + amount_discount) AS order_amount\n",
    "\n",
    "  FROM f_orders as fo\n",
    "       INNER JOIN d_calendar c ON c.date_skey = fo.order_date_skey\n",
    "       INNER JOIN d_item_tmp di ON di.item_skey = fo.item_skey\n",
    "INNER JOIN d_order_flags dof on dof.order_flags_skey = fo.order_flags_skey\n",
    "\n",
    " WHERE c.date >= '2020-01-01' and c.date <= '2021-04-28' --current_date - 1*interval ' 1 year'\n",
    "and dof.is_cancelled_immediately = 'is not cancelled immediately'\n",
    "and dof.is_cancelled_after_payment = 'is not cancelled after payment'\n",
    "and dof.is_cancelled_before_payment = 'is not cancelled before payment'\n",
    "group by di.item_code\n",
    "ORDER BY order_amount DESC\"\"\")"
   ]
  },
  {
   "cell_type": "code",
   "execution_count": null,
   "metadata": {
    "pycharm": {
     "name": "#%%\n"
    }
   },
   "outputs": [],
   "source": [
    "df_list_top_seller.createOrReplaceTempView('top_seller_list')\n",
    "\n",
    "#df_list_top_seller.show()\n",
    "\n"
   ]
  },
  {
   "cell_type": "code",
   "execution_count": null,
   "metadata": {
    "pycharm": {
     "name": "#%%\n"
    }
   },
   "outputs": [],
   "source": [
    "df_list_top_seller_all= spark.sql(\"\"\"\n",
    "SELECT item_code\n",
    "from top_seller_list\"\"\")\n",
    "\n"
   ]
  },
  {
   "cell_type": "code",
   "execution_count": null,
   "metadata": {
    "pycharm": {
     "name": "#%%\n"
    }
   },
   "outputs": [],
   "source": [
    "top_seller_list_string_all = df_list_top_seller_all.rdd.map(lambda x: x.item_code).collect()\n"
   ]
  },
  {
   "cell_type": "code",
   "execution_count": null,
   "metadata": {
    "pycharm": {
     "name": "#%%\n"
    }
   },
   "outputs": [],
   "source": [
    "\n",
    "N_items = len(top_seller_list_string_all)\n",
    "print(N_items)\n",
    "\n",
    "map_of_items = {}\n"
   ]
  },
  {
   "cell_type": "code",
   "execution_count": null,
   "metadata": {
    "pycharm": {
     "name": "#%%\n"
    }
   },
   "outputs": [],
   "source": [
    "#DEFINE Number of items and get list\n",
    "print(top_seller_list_string_all)"
   ]
  },
  {
   "cell_type": "code",
   "execution_count": null,
   "metadata": {
    "pycharm": {
     "name": "#%%\n"
    }
   },
   "outputs": [],
   "source": [
    "def get_list_of_items(top_seller_list = top_seller_list_string_all):\n",
    "    selected_items = top_seller_list\n",
    "    selected_items[0]= \"'\" + selected_items[0]\n",
    "    selected_items[-1]= selected_items[-1] + \"'\"\n",
    "    separator =  \"' , '\"\n",
    "    f_string = separator.join(selected_items)\n",
    "    return f_string\n",
    "\n",
    "\n",
    "\n",
    "final_string = get_list_of_items()\n"
   ]
  },
  {
   "cell_type": "code",
   "execution_count": null,
   "metadata": {
    "pycharm": {
     "name": "#%%\n"
    }
   },
   "outputs": [],
   "source": [
    "df_item_visits.createOrReplaceTempView('item_visits')\n",
    "\n",
    "df_item_visits_df = spark.sql(\"\"\"SELECT item_code,\n",
    "                                         meta_date,\n",
    "                                        SUM(unique_views) as all_unique_views\n",
    "                                    from item_visits\n",
    "                                  where item_code in ({lista}) and meta_date <= '2021-04-28'\n",
    "                                  GROUP BY item_code, meta_date\"\"\".format(lista=final_string))\n",
    "#df_item_visits_df.show()"
   ]
  },
  {
   "cell_type": "code",
   "execution_count": null,
   "metadata": {
    "pycharm": {
     "name": "#%%\n"
    }
   },
   "outputs": [],
   "source": [
    "df2 = spark.sql(\"\"\"SELECT *\n",
    "                    from model_data_table\n",
    "                    where update_date >= '2020-01-01' and  update_date <= '2021-04-28'\n",
    "                    and item_code in ({lista})\n",
    "                    ORDER BY update_date\"\"\".format(lista=final_string))\n",
    "#df2.show()"
   ]
  },
  {
   "cell_type": "code",
   "execution_count": null,
   "metadata": {
    "pycharm": {
     "name": "#%%\n"
    }
   },
   "outputs": [],
   "source": [
    "df4 = spark.sql (\"\"\"SELECT item_code,\n",
    "                    item_main_category,\n",
    "                    item_sub_category_1,\n",
    "                    item_sub_category_2,\n",
    "                    item_parent_item_code\n",
    "                    from d_item_tmp\n",
    "                    where item_code in ({lista})\"\"\".format(lista=final_string))\n",
    "#df4.show()"
   ]
  },
  {
   "cell_type": "code",
   "execution_count": null,
   "metadata": {
    "pycharm": {
     "name": "#%%\n"
    }
   },
   "outputs": [],
   "source": [
    "df4.createOrReplaceTempView('d_item_filtered')\n",
    "df2.createOrReplaceTempView('model_data_table_YTD')\n",
    "df_item_visits_df.createOrReplaceTempView('item_views_YTD')\n",
    "df_spark_market_session.createOrReplaceTempView('market_session')\n",
    "df_spark_market_cost.createOrReplaceTempView('market_cost')\n"
   ]
  },
  {
   "cell_type": "code",
   "execution_count": null,
   "metadata": {},
   "outputs": [],
   "source": [
    "spark.sql(\"\"\"SELECT COUNT(DISTINCT item_code) from item_views_YTD\"\"\").show()\n",
    "#df_item_visits_df.describe(['item_code']).show()"
   ]
  },
  {
   "cell_type": "code",
   "execution_count": null,
   "metadata": {
    "pycharm": {
     "name": "#%%\n"
    }
   },
   "outputs": [],
   "source": [
    "sql_price_visit_join = \"\"\"\n",
    "SELECT mdt_ytd.*, it_ytd.all_unique_views, ms.session, mc.marketing_cost_spend\n",
    "FROM model_data_table_ytd as mdt_ytd\n",
    "LEFT JOIN item_views_ytd as it_ytd\n",
    "on mdt_ytd.item_code = it_ytd.item_code and mdt_ytd.update_date = it_ytd.meta_date\n",
    "LEFT JOIN market_session as ms\n",
    "on mdt_ytd.update_date = ms.report_date\n",
    "LEFT JOIN market_cost as mc\n",
    "on mdt_ytd.update_date = mc.report_date\n",
    "\"\"\"\n",
    "print(sql_price_visit_join)"
   ]
  },
  {
   "cell_type": "code",
   "execution_count": null,
   "metadata": {
    "pycharm": {
     "name": "#%%\n"
    }
   },
   "outputs": [],
   "source": [
    "df_price_visit_join = spark.sql(sql_price_visit_join)\n",
    "df_price_visit_join.createOrReplaceTempView('mdt_YTD_it')\n",
    "\n",
    "#df_price_visit_join.describe(['item_code']).show()\n",
    "#df_price_visit_join.show()"
   ]
  },
  {
   "cell_type": "code",
   "execution_count": null,
   "metadata": {
    "pycharm": {
     "name": "#%%\n"
    }
   },
   "outputs": [],
   "source": [
    "sql_top_item_query_group_by = \"\"\"\n",
    "WITH tmp_tbl AS (\n",
    "      SELECT *,\n",
    "             CASE\n",
    "                 WHEN lag(delivery_weeks, 1) OVER (PARTITION BY item_code ORDER BY update_date ASC) =\n",
    "                      delivery_weeks\n",
    "                     AND\n",
    "                      lag(item_price, 1) OVER (PARTITION BY item_code ORDER BY update_date ASC) =\n",
    "                      item_price\n",
    "                     THEN NULL\n",
    "                 ELSE RANK() OVER (PARTITION BY item_code ORDER BY update_date)\n",
    "                 END AS ranking_col --filled with row number or delivery week if the previous one is part of the same group,\n",
    "        FROM mdt_YTD_it\n",
    "  ),\n",
    "       tmp_tbl2 AS (\n",
    "           SELECT update_date,\n",
    "                  item_code,\n",
    "                  sales,\n",
    "                  all_unique_views,\n",
    "                  item_price,\n",
    "                  delivery_weeks,\n",
    "                  session,\n",
    "                  marketing_cost_spend,\n",
    "                  CASE\n",
    "                      WHEN ranking_col IS NULL\n",
    "                          THEN last(ranking_col, True) OVER (PARTITION BY item_code ORDER BY update_date ROWS BETWEEN UNBOUNDED PRECEDING and 1 PRECEDING)\n",
    "                      ELSE ranking_col\n",
    "                      END AS ranks\n",
    "             FROM tmp_tbl\n",
    "       )\n",
    "SELECT CAST(MIN(update_date) as date)                     AS min_date,\n",
    "       CAST (MAX(update_date) as date)                    AS max_date,\n",
    "       item_code,\n",
    "       item_price,\n",
    "       delivery_weeks,\n",
    "       avg(sales) as avg_sales,\n",
    "       avg(all_unique_views) as avg_unique_views,\n",
    "       avg(session) as avg_sessions,\n",
    "       avg(marketing_cost_spend) as avg_marketing_cost_spend,\n",
    "       CASE WHEN sum(all_unique_views) <> 0 THEN sum(sales)/sum(all_unique_views) ELSE NULL END as conv_rate,\n",
    "       CAST (datediff(MAX(update_date), MIN(update_date) ) + 1 as int) AS bin\n",
    "  FROM tmp_tbl2\n",
    " GROUP BY ranks, delivery_weeks, item_price, item_code\n",
    " ORDER BY item_code, min_date ASC;\n",
    "\"\"\""
   ]
  },
  {
   "cell_type": "code",
   "execution_count": null,
   "metadata": {
    "pycharm": {
     "name": "#%%\n"
    }
   },
   "outputs": [],
   "source": [
    "print(sql_top_item_query_group_by)"
   ]
  },
  {
   "cell_type": "code",
   "execution_count": null,
   "metadata": {
    "pycharm": {
     "name": "#%%\n"
    }
   },
   "outputs": [],
   "source": [
    "sql_top_item_df = spark.sql(sql_top_item_query_group_by)"
   ]
  },
  {
   "cell_type": "code",
   "execution_count": null,
   "metadata": {
    "pycharm": {
     "name": "#%%\n"
    }
   },
   "outputs": [],
   "source": [
    "#sql_top_item_df.show(5000,False)"
   ]
  },
  {
   "cell_type": "code",
   "execution_count": null,
   "metadata": {
    "pycharm": {
     "name": "#%%\n"
    }
   },
   "outputs": [],
   "source": [
    "#CREATE A TABLE VIEW FOR Top10 sellers\n",
    "sql_top_item_df.createOrReplaceTempView('top_sellers')\n"
   ]
  },
  {
   "cell_type": "code",
   "execution_count": null,
   "metadata": {
    "pycharm": {
     "name": "#%%\n"
    }
   },
   "outputs": [],
   "source": [
    "#JOIN THE TWO TABLEs\n",
    "sql_join_query = \" SELECT top.*, di.item_parent_item_code, di.item_main_category, di.item_sub_category_1, di.item_sub_category_2\" \\\n",
    "                 \"        from top_sellers as top \" \\\n",
    "                 \"INNER JOIN d_item_filtered as di on di.item_code = top.item_code \"\\\n",
    "                 \"ORDER BY top.min_date ASC\""
   ]
  },
  {
   "cell_type": "code",
   "execution_count": null,
   "metadata": {
    "pycharm": {
     "name": "#%%\n"
    }
   },
   "outputs": [],
   "source": [
    "print(sql_join_query)\n"
   ]
  },
  {
   "cell_type": "code",
   "execution_count": null,
   "metadata": {
    "pycharm": {
     "name": "#%%\n"
    }
   },
   "outputs": [],
   "source": [
    "final_top_seller_df = spark.sql(sql_join_query)"
   ]
  },
  {
   "cell_type": "code",
   "execution_count": null,
   "metadata": {
    "pycharm": {
     "name": "#%%\n"
    },
    "scrolled": false
   },
   "outputs": [],
   "source": [
    "#final_top_seller_df.show(3000,False)\n"
   ]
  },
  {
   "cell_type": "code",
   "execution_count": null,
   "metadata": {
    "pycharm": {
     "name": "#%%\n"
    }
   },
   "outputs": [],
   "source": [
    "#final_top_seller_df.describe(['bin']).show()"
   ]
  },
  {
   "cell_type": "code",
   "execution_count": null,
   "metadata": {
    "pycharm": {
     "name": "#%%\n"
    }
   },
   "outputs": [],
   "source": [
    "pd_df_top_sellers = final_top_seller_df.toPandas()\n"
   ]
  },
  {
   "cell_type": "code",
   "execution_count": null,
   "metadata": {},
   "outputs": [],
   "source": [
    "pd_df_top_sellers['log_price'] = np.log(pd_df_top_sellers['item_price']+0.0001)"
   ]
  },
  {
   "cell_type": "code",
   "execution_count": null,
   "metadata": {},
   "outputs": [],
   "source": [
    "pd_df_top_sellers['log_delivery_weeks'] = np.log(pd_df_top_sellers['delivery_weeks']+0.0001)"
   ]
  },
  {
   "cell_type": "code",
   "execution_count": null,
   "metadata": {},
   "outputs": [],
   "source": [
    "pd_df_top_sellers['log_sales'] = np.log(pd_df_top_sellers['avg_sales']+0.0001)\n"
   ]
  },
  {
   "cell_type": "code",
   "execution_count": null,
   "metadata": {
    "pycharm": {
     "name": "#%%\n"
    }
   },
   "outputs": [],
   "source": [
    "pd_df_top_sellers['log_avg_unique_views'] = np.log(pd_df_top_sellers['avg_unique_views']+0.0001)\n"
   ]
  },
  {
   "cell_type": "code",
   "execution_count": null,
   "metadata": {
    "pycharm": {
     "name": "#%%\n"
    }
   },
   "outputs": [],
   "source": [
    "pd_df_top_sellers['log_conv_rate']= np.log(pd_df_top_sellers['conv_rate']+0.0001)\n",
    "pd_df_top_sellers['conv_rate']= pd_df_top_sellers['conv_rate']+0.000001"
   ]
  },
  {
   "cell_type": "code",
   "execution_count": null,
   "metadata": {
    "pycharm": {
     "name": "#%%\n"
    }
   },
   "outputs": [],
   "source": [
    "pd_df_top_sellers['log_avg_sessions'] = np.log(pd_df_top_sellers['avg_sessions'] + 0.0001)\n",
    "\n",
    "pd_df_top_sellers = pd_df_top_sellers.astype({'avg_marketing_cost_spend': float})\n",
    "\n",
    "pd_df_top_sellers.dtypes\n",
    "\n",
    "pd_df_top_sellers['log_avg_marketing_cost_spend'] = np.log(pd_df_top_sellers['avg_marketing_cost_spend'] + 0.0001)"
   ]
  },
  {
   "cell_type": "code",
   "execution_count": null,
   "metadata": {
    "pycharm": {
     "name": "#%%\n"
    }
   },
   "outputs": [],
   "source": [
    "pd_df_top_sellers.to_pickle('/Users/gabriele.sabato/PycharmProjects/raw_data/DataFrames/All_catalogue_seller_YTD_group_by_item_visit_20210607_pre_campaign.pickle')"
   ]
  },
  {
   "cell_type": "code",
   "execution_count": null,
   "metadata": {
    "pycharm": {
     "name": "#%%\n"
    }
   },
   "outputs": [],
   "source": []
  }
 ],
 "metadata": {
  "kernelspec": {
   "display_name": "Python 3",
   "language": "python",
   "name": "python3"
  },
  "language_info": {
   "codemirror_mode": {
    "name": "ipython",
    "version": 3
   },
   "file_extension": ".py",
   "mimetype": "text/x-python",
   "name": "python",
   "nbconvert_exporter": "python",
   "pygments_lexer": "ipython3",
   "version": "3.8.5"
  }
 },
 "nbformat": 4,
 "nbformat_minor": 1
}
