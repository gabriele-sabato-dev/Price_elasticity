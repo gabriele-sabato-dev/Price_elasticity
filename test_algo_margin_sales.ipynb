{
 "cells": [
  {
   "cell_type": "code",
   "execution_count": 2,
   "metadata": {},
   "outputs": [],
   "source": [
    "import math\n",
    "import numpy as np\n",
    "import pandas as pd\n",
    "\n"
   ]
  },
  {
   "cell_type": "code",
   "execution_count": 3,
   "metadata": {
    "pycharm": {
     "name": "#%%\n"
    }
   },
   "outputs": [],
   "source": [
    "df_fin = pd.read_csv('./pickle_files/df_final_spark_top5k_080421.csv',index_col=0)"
   ]
  },
  {
   "cell_type": "code",
   "execution_count": 4,
   "outputs": [],
   "source": [
    "df_fin_true = df_fin[df_fin['has_enough_stat']]"
   ],
   "metadata": {
    "collapsed": false,
    "pycharm": {
     "name": "#%%\n"
    }
   }
  },
  {
   "cell_type": "code",
   "execution_count": 5,
   "outputs": [
    {
     "data": {
      "text/plain": "     item_code  avg_conv_rate  last_price   last_date  avg_unique_views  \\\n0   1000012530       0.016220       99.99  2021-02-13         66.081387   \n2   1000021922       0.023490      114.99  2021-02-16         90.113095   \n3   1000022179       0.003121      479.99  2021-02-06         93.258739   \n5   1000034743       0.005481      279.99  2021-02-04        110.202494   \n10  1000145006       0.004873      289.99  2021-02-04        188.190476   \n\n        PE  PE_err  has_enough_stat      pc2        item_skey  \n0  -0.0187  0.0059             True   44.680  247523697279378  \n2  -0.0194  0.0025             True      NaN  156995084198890  \n3  -0.0136  0.0033             True  276.870   11954970507506  \n5  -0.0186  0.0048             True  171.030  206871238538442  \n10 -0.0086  0.0025             True  188.819  280637889289282  ",
      "text/html": "<div>\n<style scoped>\n    .dataframe tbody tr th:only-of-type {\n        vertical-align: middle;\n    }\n\n    .dataframe tbody tr th {\n        vertical-align: top;\n    }\n\n    .dataframe thead th {\n        text-align: right;\n    }\n</style>\n<table border=\"1\" class=\"dataframe\">\n  <thead>\n    <tr style=\"text-align: right;\">\n      <th></th>\n      <th>item_code</th>\n      <th>avg_conv_rate</th>\n      <th>last_price</th>\n      <th>last_date</th>\n      <th>avg_unique_views</th>\n      <th>PE</th>\n      <th>PE_err</th>\n      <th>has_enough_stat</th>\n      <th>pc2</th>\n      <th>item_skey</th>\n    </tr>\n  </thead>\n  <tbody>\n    <tr>\n      <th>0</th>\n      <td>1000012530</td>\n      <td>0.016220</td>\n      <td>99.99</td>\n      <td>2021-02-13</td>\n      <td>66.081387</td>\n      <td>-0.0187</td>\n      <td>0.0059</td>\n      <td>True</td>\n      <td>44.680</td>\n      <td>247523697279378</td>\n    </tr>\n    <tr>\n      <th>2</th>\n      <td>1000021922</td>\n      <td>0.023490</td>\n      <td>114.99</td>\n      <td>2021-02-16</td>\n      <td>90.113095</td>\n      <td>-0.0194</td>\n      <td>0.0025</td>\n      <td>True</td>\n      <td>NaN</td>\n      <td>156995084198890</td>\n    </tr>\n    <tr>\n      <th>3</th>\n      <td>1000022179</td>\n      <td>0.003121</td>\n      <td>479.99</td>\n      <td>2021-02-06</td>\n      <td>93.258739</td>\n      <td>-0.0136</td>\n      <td>0.0033</td>\n      <td>True</td>\n      <td>276.870</td>\n      <td>11954970507506</td>\n    </tr>\n    <tr>\n      <th>5</th>\n      <td>1000034743</td>\n      <td>0.005481</td>\n      <td>279.99</td>\n      <td>2021-02-04</td>\n      <td>110.202494</td>\n      <td>-0.0186</td>\n      <td>0.0048</td>\n      <td>True</td>\n      <td>171.030</td>\n      <td>206871238538442</td>\n    </tr>\n    <tr>\n      <th>10</th>\n      <td>1000145006</td>\n      <td>0.004873</td>\n      <td>289.99</td>\n      <td>2021-02-04</td>\n      <td>188.190476</td>\n      <td>-0.0086</td>\n      <td>0.0025</td>\n      <td>True</td>\n      <td>188.819</td>\n      <td>280637889289282</td>\n    </tr>\n  </tbody>\n</table>\n</div>"
     },
     "execution_count": 5,
     "metadata": {},
     "output_type": "execute_result"
    }
   ],
   "source": [
    "df_fin_true.head()\n"
   ],
   "metadata": {
    "collapsed": false,
    "pycharm": {
     "name": "#%%\n"
    }
   }
  },
  {
   "cell_type": "code",
   "execution_count": 6,
   "metadata": {
    "pycharm": {
     "name": "#%%\n"
    }
   },
   "outputs": [
    {
     "name": "stdout",
     "output_type": "stream",
     "text": [
      "item_code             int64\n",
      "avg_conv_rate       float64\n",
      "last_price          float64\n",
      "last_date            object\n",
      "avg_unique_views    float64\n",
      "PE                  float64\n",
      "PE_err              float64\n",
      "has_enough_stat        bool\n",
      "pc2                 float64\n",
      "item_skey             int64\n",
      "dtype: object\n"
     ]
    }
   ],
   "source": [
    "df_final_spark=df_fin_true.astype({'pc2': 'float64'})\n",
    "\n",
    "print(df_final_spark.dtypes)\n",
    "\n",
    "df_final_spark.dropna(inplace=True)\n",
    "df_final_spark = df_final_spark[df_final_spark['PE']< 1.0]\n",
    "df_final_spark = df_final_spark[df_final_spark['PE_err']<1.0]"
   ]
  },
  {
   "cell_type": "code",
   "execution_count": 7,
   "metadata": {
    "pycharm": {
     "name": "#%%\n"
    }
   },
   "outputs": [],
   "source": [
    "VAT = 1.19\n",
    "\n",
    "\n"
   ]
  },
  {
   "cell_type": "code",
   "execution_count": 8,
   "outputs": [],
   "source": [
    "df_n_sales = pd.read_csv('./../raw_data/Excel_files/Top5k_Sales_PE.csv',index_col = 0)"
   ],
   "metadata": {
    "collapsed": false,
    "pycharm": {
     "name": "#%%\n"
    }
   }
  },
  {
   "cell_type": "code",
   "execution_count": 9,
   "outputs": [
    {
     "data": {
      "text/plain": "            Sales_PE  Sales_PE_err\n1000021922   -6.5170        1.1057\n1000005727   -2.6853        0.8351\n1000164660   -9.4314        2.6096\n1000176734   -3.0015        0.9799\n1000008470   -5.8561        1.6480",
      "text/html": "<div>\n<style scoped>\n    .dataframe tbody tr th:only-of-type {\n        vertical-align: middle;\n    }\n\n    .dataframe tbody tr th {\n        vertical-align: top;\n    }\n\n    .dataframe thead th {\n        text-align: right;\n    }\n</style>\n<table border=\"1\" class=\"dataframe\">\n  <thead>\n    <tr style=\"text-align: right;\">\n      <th></th>\n      <th>Sales_PE</th>\n      <th>Sales_PE_err</th>\n    </tr>\n  </thead>\n  <tbody>\n    <tr>\n      <th>1000021922</th>\n      <td>-6.5170</td>\n      <td>1.1057</td>\n    </tr>\n    <tr>\n      <th>1000005727</th>\n      <td>-2.6853</td>\n      <td>0.8351</td>\n    </tr>\n    <tr>\n      <th>1000164660</th>\n      <td>-9.4314</td>\n      <td>2.6096</td>\n    </tr>\n    <tr>\n      <th>1000176734</th>\n      <td>-3.0015</td>\n      <td>0.9799</td>\n    </tr>\n    <tr>\n      <th>1000008470</th>\n      <td>-5.8561</td>\n      <td>1.6480</td>\n    </tr>\n  </tbody>\n</table>\n</div>"
     },
     "execution_count": 9,
     "metadata": {},
     "output_type": "execute_result"
    }
   ],
   "source": [
    "df_n_sales.head()"
   ],
   "metadata": {
    "collapsed": false,
    "pycharm": {
     "name": "#%%\n"
    }
   }
  },
  {
   "cell_type": "code",
   "execution_count": 66,
   "outputs": [
    {
     "data": {
      "text/plain": "-6.642132061978545"
     },
     "execution_count": 66,
     "metadata": {},
     "output_type": "execute_result"
    }
   ],
   "source": [
    "df_n_sales['Sales_PE'].mean()"
   ],
   "metadata": {
    "collapsed": false,
    "pycharm": {
     "name": "#%%\n"
    }
   }
  },
  {
   "cell_type": "code",
   "execution_count": 67,
   "outputs": [
    {
     "data": {
      "text/plain": "1000123336   -47.5047\n1000009278   -34.9123\n1000009867   -33.0342\n1000125632   -28.8310\n1000031306   -23.1860\n1000058325   -21.7174\n1000183589   -21.1935\n1000052582   -20.2912\n1000126036   -20.2041\n1000215686   -19.6296\nName: Sales_PE, dtype: float64"
     },
     "execution_count": 67,
     "metadata": {},
     "output_type": "execute_result"
    }
   ],
   "source": [
    "df_n_sales['Sales_PE'].nsmallest(10)\n",
    "\n"
   ],
   "metadata": {
    "collapsed": false,
    "pycharm": {
     "name": "#%%\n"
    }
   }
  },
  {
   "cell_type": "code",
   "execution_count": 10,
   "outputs": [],
   "source": [
    "df_n_sales['item_code'] = df_n_sales.index"
   ],
   "metadata": {
    "collapsed": false,
    "pycharm": {
     "name": "#%%\n"
    }
   }
  },
  {
   "cell_type": "code",
   "execution_count": 11,
   "outputs": [
    {
     "data": {
      "text/plain": "            Sales_PE  Sales_PE_err   item_code\n1000021922   -6.5170        1.1057  1000021922\n1000005727   -2.6853        0.8351  1000005727\n1000164660   -9.4314        2.6096  1000164660\n1000176734   -3.0015        0.9799  1000176734\n1000008470   -5.8561        1.6480  1000008470",
      "text/html": "<div>\n<style scoped>\n    .dataframe tbody tr th:only-of-type {\n        vertical-align: middle;\n    }\n\n    .dataframe tbody tr th {\n        vertical-align: top;\n    }\n\n    .dataframe thead th {\n        text-align: right;\n    }\n</style>\n<table border=\"1\" class=\"dataframe\">\n  <thead>\n    <tr style=\"text-align: right;\">\n      <th></th>\n      <th>Sales_PE</th>\n      <th>Sales_PE_err</th>\n      <th>item_code</th>\n    </tr>\n  </thead>\n  <tbody>\n    <tr>\n      <th>1000021922</th>\n      <td>-6.5170</td>\n      <td>1.1057</td>\n      <td>1000021922</td>\n    </tr>\n    <tr>\n      <th>1000005727</th>\n      <td>-2.6853</td>\n      <td>0.8351</td>\n      <td>1000005727</td>\n    </tr>\n    <tr>\n      <th>1000164660</th>\n      <td>-9.4314</td>\n      <td>2.6096</td>\n      <td>1000164660</td>\n    </tr>\n    <tr>\n      <th>1000176734</th>\n      <td>-3.0015</td>\n      <td>0.9799</td>\n      <td>1000176734</td>\n    </tr>\n    <tr>\n      <th>1000008470</th>\n      <td>-5.8561</td>\n      <td>1.6480</td>\n      <td>1000008470</td>\n    </tr>\n  </tbody>\n</table>\n</div>"
     },
     "execution_count": 11,
     "metadata": {},
     "output_type": "execute_result"
    }
   ],
   "source": [
    "df_n_sales.head()"
   ],
   "metadata": {
    "collapsed": false,
    "pycharm": {
     "name": "#%%df_n_views\n"
    }
   }
  },
  {
   "cell_type": "code",
   "execution_count": 12,
   "outputs": [],
   "source": [
    "df_merged = pd.merge(df_final_spark,df_n_sales, on=\"item_code\")"
   ],
   "metadata": {
    "collapsed": false,
    "pycharm": {
     "name": "#%%\n"
    }
   }
  },
  {
   "cell_type": "code",
   "execution_count": 13,
   "outputs": [
    {
     "data": {
      "text/plain": "    item_code  avg_conv_rate  last_price   last_date  avg_unique_views  \\\n0  1000022179       0.003121      479.99  2021-02-06         93.258739   \n1  1000145006       0.004873      289.99  2021-02-04        188.190476   \n2  1000005727       0.017079       99.99  2021-02-25        170.099034   \n3  1000016028       0.016290      139.99  2021-02-25         26.446154   \n4  1000175476       0.055748       83.99  2021-02-25         80.722222   \n\n       PE  PE_err  has_enough_stat      pc2        item_skey  Sales_PE  \\\n0 -0.0136  0.0033             True  276.870   11954970507506   -7.0455   \n1 -0.0086  0.0025             True  188.819  280637889289282  -10.1897   \n2 -0.0246  0.0044             True   40.729   71488185050378   -2.6853   \n3 -0.0328  0.0057             True   52.430   48800168481821   -4.4643   \n4 -0.0505  0.0061             True   48.799  115260611693891   -2.5839   \n\n   Sales_PE_err  \n0        2.1165  \n1        2.9552  \n2        0.8351  \n3        0.8350  \n4        0.4655  ",
      "text/html": "<div>\n<style scoped>\n    .dataframe tbody tr th:only-of-type {\n        vertical-align: middle;\n    }\n\n    .dataframe tbody tr th {\n        vertical-align: top;\n    }\n\n    .dataframe thead th {\n        text-align: right;\n    }\n</style>\n<table border=\"1\" class=\"dataframe\">\n  <thead>\n    <tr style=\"text-align: right;\">\n      <th></th>\n      <th>item_code</th>\n      <th>avg_conv_rate</th>\n      <th>last_price</th>\n      <th>last_date</th>\n      <th>avg_unique_views</th>\n      <th>PE</th>\n      <th>PE_err</th>\n      <th>has_enough_stat</th>\n      <th>pc2</th>\n      <th>item_skey</th>\n      <th>Sales_PE</th>\n      <th>Sales_PE_err</th>\n    </tr>\n  </thead>\n  <tbody>\n    <tr>\n      <th>0</th>\n      <td>1000022179</td>\n      <td>0.003121</td>\n      <td>479.99</td>\n      <td>2021-02-06</td>\n      <td>93.258739</td>\n      <td>-0.0136</td>\n      <td>0.0033</td>\n      <td>True</td>\n      <td>276.870</td>\n      <td>11954970507506</td>\n      <td>-7.0455</td>\n      <td>2.1165</td>\n    </tr>\n    <tr>\n      <th>1</th>\n      <td>1000145006</td>\n      <td>0.004873</td>\n      <td>289.99</td>\n      <td>2021-02-04</td>\n      <td>188.190476</td>\n      <td>-0.0086</td>\n      <td>0.0025</td>\n      <td>True</td>\n      <td>188.819</td>\n      <td>280637889289282</td>\n      <td>-10.1897</td>\n      <td>2.9552</td>\n    </tr>\n    <tr>\n      <th>2</th>\n      <td>1000005727</td>\n      <td>0.017079</td>\n      <td>99.99</td>\n      <td>2021-02-25</td>\n      <td>170.099034</td>\n      <td>-0.0246</td>\n      <td>0.0044</td>\n      <td>True</td>\n      <td>40.729</td>\n      <td>71488185050378</td>\n      <td>-2.6853</td>\n      <td>0.8351</td>\n    </tr>\n    <tr>\n      <th>3</th>\n      <td>1000016028</td>\n      <td>0.016290</td>\n      <td>139.99</td>\n      <td>2021-02-25</td>\n      <td>26.446154</td>\n      <td>-0.0328</td>\n      <td>0.0057</td>\n      <td>True</td>\n      <td>52.430</td>\n      <td>48800168481821</td>\n      <td>-4.4643</td>\n      <td>0.8350</td>\n    </tr>\n    <tr>\n      <th>4</th>\n      <td>1000175476</td>\n      <td>0.055748</td>\n      <td>83.99</td>\n      <td>2021-02-25</td>\n      <td>80.722222</td>\n      <td>-0.0505</td>\n      <td>0.0061</td>\n      <td>True</td>\n      <td>48.799</td>\n      <td>115260611693891</td>\n      <td>-2.5839</td>\n      <td>0.4655</td>\n    </tr>\n  </tbody>\n</table>\n</div>"
     },
     "execution_count": 13,
     "metadata": {},
     "output_type": "execute_result"
    }
   ],
   "source": [
    "df_merged.head()"
   ],
   "metadata": {
    "collapsed": false,
    "pycharm": {
     "name": "#%%\n"
    }
   }
  },
  {
   "cell_type": "code",
   "execution_count": 14,
   "outputs": [],
   "source": [
    "df_merged['avg_sales'] = df_merged['avg_unique_views']*df_merged['avg_conv_rate']\n"
   ],
   "metadata": {
    "collapsed": false,
    "pycharm": {
     "name": "#%%\n"
    }
   }
  },
  {
   "cell_type": "code",
   "execution_count": 15,
   "metadata": {
    "pycharm": {
     "name": "#%%\n"
    }
   },
   "outputs": [],
   "source": [
    "def create_auxiliary_var(dataf=df_merged):\n",
    "    dataf['Delta_price'] = (dataf['last_price']/VAT - dataf['pc2'])\n",
    "    dataf['Margin_base'] = dataf['avg_sales']*(dataf['Delta_price'])\n",
    "\n",
    "def classify(dataf= df_merged):\n",
    "    dataf['Group_flag'] = np.where(dataf['Margin_base'] < (dataf['Margin_up'] - 3*dataf['Margin_err_up']), 'up',\n",
    "                                        np.where(dataf['Margin_base'] < (dataf['Margin_down'] - 3*dataf['Margin_err_down']), 'down','neutral'))\n",
    "\n",
    "def classify_up(dataf=df_merged):\n",
    "    dataf['Group_flag'] = np.where(dataf['Margin_base'] < (dataf['Margin_up'] - 3*dataf['Margin_err_up']), 'up','neutral_up')\n",
    "\n",
    "def classify_down(dataf=df_merged):\n",
    "    dataf['Group_flag'] = np.where(dataf['Margin_base'] < (dataf['Margin_down'] - 3*dataf['Margin_err_down']), 'down','neutral_down')"
   ]
  },
  {
   "cell_type": "code",
   "execution_count": 16,
   "metadata": {
    "pycharm": {
     "name": "#%%\n"
    }
   },
   "outputs": [],
   "source": [
    "def create_Margin( increment = 0.01, dataf = df_merged, flag = 'up'):\n",
    "    if flag == 'down':\n",
    "        increment = -increment\n",
    "\n",
    "    price          = 'price_'+flag\n",
    "    Delta_price    = 'Delta_price_'+flag\n",
    "    sales          = 'avg_sales_'+flag\n",
    "    sales_err      = 'avg_sales_err_'+flag\n",
    "    Margin         = 'Margin_'+flag\n",
    "    Margin_err     = 'Margin_err_'+flag\n",
    "\n",
    "    #CROSS CHECK THE WHOLE ERROR PROPAGATION!!!!\n",
    "\n",
    "    dataf[price]              =  dataf['last_price']*math.exp(increment)\n",
    "    dataf[Delta_price]        =  (dataf[price]/VAT - dataf['pc2'])\n",
    "    dataf[sales]              =  dataf['avg_sales']*np.exp(dataf['Sales_PE']*np.log(dataf[price]/dataf['last_price']))\n",
    "    dataf[sales_err]          =  np.fabs(dataf[sales])*np.fabs(dataf['Sales_PE_err']*np.log(dataf[price]/dataf['last_price']))\n",
    "    dataf[Margin]             =  dataf[sales]*(dataf[Delta_price])\n",
    "    #Propagate Margin error\n",
    "    dataf[Margin_err]         =  dataf[sales_err]*dataf[Delta_price]\n",
    "\n"
   ]
  },
  {
   "cell_type": "code",
   "execution_count": 17,
   "metadata": {
    "pycharm": {
     "name": "#%%\n"
    }
   },
   "outputs": [],
   "source": [
    "#print(df_final_spark[['item_code','avg_conv_rate','last_price']].head())\n",
    "#create_Margin(0.01)"
   ]
  },
  {
   "cell_type": "code",
   "execution_count": 46,
   "metadata": {
    "pycharm": {
     "name": "#%%\n"
    }
   },
   "outputs": [
    {
     "name": "stdout",
     "output_type": "stream",
     "text": [
      "710\n"
     ]
    }
   ],
   "source": [
    "original_df= df_merged\n",
    "print(len(original_df.index))\n",
    "tmp_df = pd.DataFrame()\n",
    "\n",
    "original_df_up   = pd.DataFrame()\n",
    "original_df_down = pd.DataFrame()"
   ]
  },
  {
   "cell_type": "code",
   "execution_count": 47,
   "metadata": {
    "pycharm": {
     "name": "#%%\n"
    }
   },
   "outputs": [
    {
     "name": "stdout",
     "output_type": "stream",
     "text": [
      "Increment = 0.01\n",
      "589\n",
      "34\n",
      "87\n",
      "Increment = 0.02\n",
      "696\n",
      "14\n",
      "0\n",
      "Increment = 0.03\n",
      "700\n",
      "10\n",
      "0\n",
      "Increment = 0.04\n",
      "703\n",
      "7\n",
      "0\n",
      "Increment = 0.05\n",
      "705\n",
      "5\n",
      "0\n",
      "Increment = 0.1\n",
      "705\n",
      "5\n",
      "0\n",
      "Increment = 0.15\n",
      "705\n",
      "5\n",
      "0\n",
      "Increment = 0.2\n",
      "706\n",
      "4\n",
      "0\n",
      "Increment = 0.25\n",
      "706\n",
      "4\n",
      "0\n",
      "Increment = 0.3\n",
      "706\n",
      "4\n",
      "0\n"
     ]
    }
   ],
   "source": [
    "list_of_columns_up   = ['item_code','avg_conv_rate','avg_unique_views','last_date','last_price','price_up','PE','PE_err','Sales_PE','Sales_PE_err','Delta_price','pc2','avg_sales','avg_sales_up','avg_sales_err_up','Margin_base','Margin_up','Group_flag']\n",
    "list_of_columns_down = ['item_code','avg_conv_rate','avg_unique_views','last_date','last_price','price_down','PE','PE_err','Sales_PE','Sales_PE_err','Delta_price','pc2','avg_sales','avg_sales_down','avg_sales_err_down','Margin_base','Margin_down','Group_flag']\n",
    "create_auxiliary_var(original_df)\n",
    "for inc in [0.01,0.02,0.03,0.04,0.05,0.1,0.15,0.2,0.25,0.3]:\n",
    "    print('Increment = ' + str(inc))\n",
    "    if inc == 0.01:\n",
    "        create_Margin(inc,original_df,'up')\n",
    "        create_Margin(inc,original_df,'down')\n",
    "        classify(original_df)\n",
    "        tmp_df           = tmp_df.append(original_df[original_df['Group_flag'] == 'neutral'])\n",
    "        original_df_up   = original_df_up.append(original_df[original_df['Group_flag'] == 'up'])\n",
    "        original_df_up   = original_df_up[list_of_columns_up]\n",
    "        original_df_down = original_df_down.append(original_df[original_df['Group_flag'] == 'down'])\n",
    "        original_df_down   = original_df_down[list_of_columns_down]\n",
    "        #print('tmp\\n',tmp_df[list_of_columns].head())\n",
    "        #print('up\\n', original_df_up[list_of_columns].head())\n",
    "        #print('down\\n',original_df_down[list_of_columns].head())\n",
    "\n",
    "    if inc > 0.01:\n",
    "        create_Margin(inc,original_df_up,'up')\n",
    "        create_Margin(inc,original_df_down,'down')\n",
    "        classify_up(original_df_up)\n",
    "        classify_down(original_df_down)\n",
    "        tmp_df           = tmp_df.append(original_df_up[original_df_up['Group_flag'] == 'neutral_up'])\n",
    "        tmp_df           = tmp_df.append(original_df_down[original_df_down['Group_flag'] == 'neutral_down'])\n",
    "        original_df_up   = original_df_up[original_df_up['Group_flag'] == 'up']\n",
    "        original_df_down = original_df_down[original_df_down['Group_flag'] == 'down']\n",
    "        #print('tmp\\n',tmp_df[list_of_columns].head())\n",
    "        #print('up\\n', original_df_up[list_of_columns].head())\n",
    "        #print('down\\n',original_df_down[list_of_columns].head())\n",
    "    original_df_down['Margin_base']   = original_df_down['Margin_down']\n",
    "    original_df_up['Margin_base']   = original_df_up['Margin_up']\n",
    "\n",
    "    print(len(tmp_df.index))\n",
    "    print(len(original_df_up.index))\n",
    "    print(len(original_df_down.index))"
   ]
  },
  {
   "cell_type": "code",
   "execution_count": 48,
   "outputs": [
    {
     "data": {
      "text/plain": "      item_code  avg_conv_rate  last_price   last_date  avg_unique_views  \\\n0    1000022179       0.003121      479.99  2021-02-06         93.258739   \n1    1000145006       0.004873      289.99  2021-02-04        188.190476   \n2    1000005727       0.017079       99.99  2021-02-25        170.099034   \n4    1000175476       0.055748       83.99  2021-02-25         80.722222   \n5    1000176734       0.007736      159.99  2021-02-08        100.555556   \n..          ...            ...         ...         ...               ...   \n411  1000196335       0.000697      549.99  2021-01-06        112.662565   \n651  1000041395       0.215808       16.99  2021-02-25         34.981203   \n520  1000184398       0.079964       57.99  2021-02-07         21.415294   \n654  1000002470       0.068160       54.99  2021-02-25         30.527679   \n198  1000002471       0.076057       53.99  2021-02-16         22.187500   \n\n         PE  PE_err has_enough_stat      pc2     item_skey  ...  \\\n0   -0.0136  0.0033            True  276.870  1.195497e+13  ...   \n1   -0.0086  0.0025            True  188.819  2.806379e+14  ...   \n2   -0.0246  0.0044            True   40.729  7.148819e+13  ...   \n4   -0.0505  0.0061            True   48.799  1.152606e+14  ...   \n5   -0.0149  0.0030            True   54.119  3.825599e+13  ...   \n..      ...     ...             ...      ...           ...  ...   \n411  0.0001  0.0000             NaN  334.639           NaN  ...   \n651 -0.1873  0.0388             NaN   11.710           NaN  ...   \n520 -0.0610  0.0115             NaN   43.549           NaN  ...   \n654 -0.0478  0.0071             NaN   39.250           NaN  ...   \n198 -0.0472  0.0071             NaN   38.890           NaN  ...   \n\n     avg_sales_err_up   Margin_up  Margin_err_up  price_down  \\\n0            0.005742   35.413232       0.749521  475.214020   \n1            0.024478   47.476716       1.403032  287.104551   \n2            0.023618  124.836973       1.042514   98.995083   \n4            0.020414   98.625979       0.459104   83.154286   \n5            0.007397   61.656543       0.604172  158.398073   \n..                ...         ...            ...         ...   \n411          0.000644   11.076589       0.094240         NaN   \n651          0.102481   22.250684       0.322813         NaN   \n520          0.024366   11.863193       0.187142         NaN   \n654          0.026256   17.489979       0.244947         NaN   \n198          0.059679   21.798903       0.986182         NaN   \n\n     Delta_price_down  avg_sales_down  avg_sales_err_down  Margin_down  \\\n0          122.469512        0.312341            0.006611    38.252282   \n1           52.445329        1.015517            0.030011    53.259126   \n2           42.460145        2.984204            0.024921   126.709720   \n4           21.078551        4.617874            0.021496    97.338083   \n5           78.988624        0.801580            0.007855    63.315723   \n..                ...             ...                 ...          ...   \n411               NaN             NaN                 NaN          NaN   \n651               NaN             NaN                 NaN          NaN   \n520               NaN             NaN                 NaN          NaN   \n654               NaN             NaN                 NaN          NaN   \n198               NaN             NaN                 NaN          NaN   \n\n     Margin_err_down  Group_flag  \n0           0.809610     neutral  \n1           1.573914     neutral  \n2           1.058153     neutral  \n4           0.453109     neutral  \n5           0.620431     neutral  \n..               ...         ...  \n411              NaN  neutral_up  \n651              NaN  neutral_up  \n520              NaN  neutral_up  \n654              NaN  neutral_up  \n198              NaN  neutral_up  \n\n[706 rows x 28 columns]",
      "text/html": "<div>\n<style scoped>\n    .dataframe tbody tr th:only-of-type {\n        vertical-align: middle;\n    }\n\n    .dataframe tbody tr th {\n        vertical-align: top;\n    }\n\n    .dataframe thead th {\n        text-align: right;\n    }\n</style>\n<table border=\"1\" class=\"dataframe\">\n  <thead>\n    <tr style=\"text-align: right;\">\n      <th></th>\n      <th>item_code</th>\n      <th>avg_conv_rate</th>\n      <th>last_price</th>\n      <th>last_date</th>\n      <th>avg_unique_views</th>\n      <th>PE</th>\n      <th>PE_err</th>\n      <th>has_enough_stat</th>\n      <th>pc2</th>\n      <th>item_skey</th>\n      <th>...</th>\n      <th>avg_sales_err_up</th>\n      <th>Margin_up</th>\n      <th>Margin_err_up</th>\n      <th>price_down</th>\n      <th>Delta_price_down</th>\n      <th>avg_sales_down</th>\n      <th>avg_sales_err_down</th>\n      <th>Margin_down</th>\n      <th>Margin_err_down</th>\n      <th>Group_flag</th>\n    </tr>\n  </thead>\n  <tbody>\n    <tr>\n      <th>0</th>\n      <td>1000022179</td>\n      <td>0.003121</td>\n      <td>479.99</td>\n      <td>2021-02-06</td>\n      <td>93.258739</td>\n      <td>-0.0136</td>\n      <td>0.0033</td>\n      <td>True</td>\n      <td>276.870</td>\n      <td>1.195497e+13</td>\n      <td>...</td>\n      <td>0.005742</td>\n      <td>35.413232</td>\n      <td>0.749521</td>\n      <td>475.214020</td>\n      <td>122.469512</td>\n      <td>0.312341</td>\n      <td>0.006611</td>\n      <td>38.252282</td>\n      <td>0.809610</td>\n      <td>neutral</td>\n    </tr>\n    <tr>\n      <th>1</th>\n      <td>1000145006</td>\n      <td>0.004873</td>\n      <td>289.99</td>\n      <td>2021-02-04</td>\n      <td>188.190476</td>\n      <td>-0.0086</td>\n      <td>0.0025</td>\n      <td>True</td>\n      <td>188.819</td>\n      <td>2.806379e+14</td>\n      <td>...</td>\n      <td>0.024478</td>\n      <td>47.476716</td>\n      <td>1.403032</td>\n      <td>287.104551</td>\n      <td>52.445329</td>\n      <td>1.015517</td>\n      <td>0.030011</td>\n      <td>53.259126</td>\n      <td>1.573914</td>\n      <td>neutral</td>\n    </tr>\n    <tr>\n      <th>2</th>\n      <td>1000005727</td>\n      <td>0.017079</td>\n      <td>99.99</td>\n      <td>2021-02-25</td>\n      <td>170.099034</td>\n      <td>-0.0246</td>\n      <td>0.0044</td>\n      <td>True</td>\n      <td>40.729</td>\n      <td>7.148819e+13</td>\n      <td>...</td>\n      <td>0.023618</td>\n      <td>124.836973</td>\n      <td>1.042514</td>\n      <td>98.995083</td>\n      <td>42.460145</td>\n      <td>2.984204</td>\n      <td>0.024921</td>\n      <td>126.709720</td>\n      <td>1.058153</td>\n      <td>neutral</td>\n    </tr>\n    <tr>\n      <th>4</th>\n      <td>1000175476</td>\n      <td>0.055748</td>\n      <td>83.99</td>\n      <td>2021-02-25</td>\n      <td>80.722222</td>\n      <td>-0.0505</td>\n      <td>0.0061</td>\n      <td>True</td>\n      <td>48.799</td>\n      <td>1.152606e+14</td>\n      <td>...</td>\n      <td>0.020414</td>\n      <td>98.625979</td>\n      <td>0.459104</td>\n      <td>83.154286</td>\n      <td>21.078551</td>\n      <td>4.617874</td>\n      <td>0.021496</td>\n      <td>97.338083</td>\n      <td>0.453109</td>\n      <td>neutral</td>\n    </tr>\n    <tr>\n      <th>5</th>\n      <td>1000176734</td>\n      <td>0.007736</td>\n      <td>159.99</td>\n      <td>2021-02-08</td>\n      <td>100.555556</td>\n      <td>-0.0149</td>\n      <td>0.0030</td>\n      <td>True</td>\n      <td>54.119</td>\n      <td>3.825599e+13</td>\n      <td>...</td>\n      <td>0.007397</td>\n      <td>61.656543</td>\n      <td>0.604172</td>\n      <td>158.398073</td>\n      <td>78.988624</td>\n      <td>0.801580</td>\n      <td>0.007855</td>\n      <td>63.315723</td>\n      <td>0.620431</td>\n      <td>neutral</td>\n    </tr>\n    <tr>\n      <th>...</th>\n      <td>...</td>\n      <td>...</td>\n      <td>...</td>\n      <td>...</td>\n      <td>...</td>\n      <td>...</td>\n      <td>...</td>\n      <td>...</td>\n      <td>...</td>\n      <td>...</td>\n      <td>...</td>\n      <td>...</td>\n      <td>...</td>\n      <td>...</td>\n      <td>...</td>\n      <td>...</td>\n      <td>...</td>\n      <td>...</td>\n      <td>...</td>\n      <td>...</td>\n      <td>...</td>\n    </tr>\n    <tr>\n      <th>411</th>\n      <td>1000196335</td>\n      <td>0.000697</td>\n      <td>549.99</td>\n      <td>2021-01-06</td>\n      <td>112.662565</td>\n      <td>0.0001</td>\n      <td>0.0000</td>\n      <td>NaN</td>\n      <td>334.639</td>\n      <td>NaN</td>\n      <td>...</td>\n      <td>0.000644</td>\n      <td>11.076589</td>\n      <td>0.094240</td>\n      <td>NaN</td>\n      <td>NaN</td>\n      <td>NaN</td>\n      <td>NaN</td>\n      <td>NaN</td>\n      <td>NaN</td>\n      <td>neutral_up</td>\n    </tr>\n    <tr>\n      <th>651</th>\n      <td>1000041395</td>\n      <td>0.215808</td>\n      <td>16.99</td>\n      <td>2021-02-25</td>\n      <td>34.981203</td>\n      <td>-0.1873</td>\n      <td>0.0388</td>\n      <td>NaN</td>\n      <td>11.710</td>\n      <td>NaN</td>\n      <td>...</td>\n      <td>0.102481</td>\n      <td>22.250684</td>\n      <td>0.322813</td>\n      <td>NaN</td>\n      <td>NaN</td>\n      <td>NaN</td>\n      <td>NaN</td>\n      <td>NaN</td>\n      <td>NaN</td>\n      <td>neutral_up</td>\n    </tr>\n    <tr>\n      <th>520</th>\n      <td>1000184398</td>\n      <td>0.079964</td>\n      <td>57.99</td>\n      <td>2021-02-07</td>\n      <td>21.415294</td>\n      <td>-0.0610</td>\n      <td>0.0115</td>\n      <td>NaN</td>\n      <td>43.549</td>\n      <td>NaN</td>\n      <td>...</td>\n      <td>0.024366</td>\n      <td>11.863193</td>\n      <td>0.187142</td>\n      <td>NaN</td>\n      <td>NaN</td>\n      <td>NaN</td>\n      <td>NaN</td>\n      <td>NaN</td>\n      <td>NaN</td>\n      <td>neutral_up</td>\n    </tr>\n    <tr>\n      <th>654</th>\n      <td>1000002470</td>\n      <td>0.068160</td>\n      <td>54.99</td>\n      <td>2021-02-25</td>\n      <td>30.527679</td>\n      <td>-0.0478</td>\n      <td>0.0071</td>\n      <td>NaN</td>\n      <td>39.250</td>\n      <td>NaN</td>\n      <td>...</td>\n      <td>0.026256</td>\n      <td>17.489979</td>\n      <td>0.244947</td>\n      <td>NaN</td>\n      <td>NaN</td>\n      <td>NaN</td>\n      <td>NaN</td>\n      <td>NaN</td>\n      <td>NaN</td>\n      <td>neutral_up</td>\n    </tr>\n    <tr>\n      <th>198</th>\n      <td>1000002471</td>\n      <td>0.076057</td>\n      <td>53.99</td>\n      <td>2021-02-16</td>\n      <td>22.187500</td>\n      <td>-0.0472</td>\n      <td>0.0071</td>\n      <td>NaN</td>\n      <td>38.890</td>\n      <td>NaN</td>\n      <td>...</td>\n      <td>0.059679</td>\n      <td>21.798903</td>\n      <td>0.986182</td>\n      <td>NaN</td>\n      <td>NaN</td>\n      <td>NaN</td>\n      <td>NaN</td>\n      <td>NaN</td>\n      <td>NaN</td>\n      <td>neutral_up</td>\n    </tr>\n  </tbody>\n</table>\n<p>706 rows × 28 columns</p>\n</div>"
     },
     "execution_count": 48,
     "metadata": {},
     "output_type": "execute_result"
    }
   ],
   "source": [
    "tmp_df\n",
    "#print(or_filt_df[or_filt_df['Group_flag'] =='down'])\n",
    "#print(or_filt_df[or_filt_df['Group_flag'] =='up'])\n",
    "#print(or_filt_df[or_filt_df['Group_flag'] =='neutral'])"
   ],
   "metadata": {
    "collapsed": false,
    "pycharm": {
     "name": "#%%\n"
    }
   }
  },
  {
   "cell_type": "code",
   "execution_count": 49,
   "outputs": [
    {
     "data": {
      "text/plain": "              avg_conv_rate  last_price  last_date  avg_unique_views   PE  \\\nGroup_flag                                                                  \nneutral                 589         589        589               589  589   \nneutral_down             87          87         87                87   87   \nneutral_up               30          30         30                30   30   \n\n              PE_err  has_enough_stat  pc2  item_skey  Sales_PE  ...  \\\nGroup_flag                                                       ...   \nneutral          589              589  589        589       589  ...   \nneutral_down      87                0   87          0        87  ...   \nneutral_up        30                0   30          0        30  ...   \n\n              avg_sales_up  avg_sales_err_up  Margin_up  Margin_err_up  \\\nGroup_flag                                                               \nneutral                589               589        589            589   \nneutral_down             0                 0          0              0   \nneutral_up              30                30         30             30   \n\n              price_down  Delta_price_down  avg_sales_down  \\\nGroup_flag                                                   \nneutral              589               589             589   \nneutral_down          87                87              87   \nneutral_up             0                 0               0   \n\n              avg_sales_err_down  Margin_down  Margin_err_down  \nGroup_flag                                                      \nneutral                      589          589              589  \nneutral_down                  87           87               87  \nneutral_up                     0            0                0  \n\n[3 rows x 26 columns]",
      "text/html": "<div>\n<style scoped>\n    .dataframe tbody tr th:only-of-type {\n        vertical-align: middle;\n    }\n\n    .dataframe tbody tr th {\n        vertical-align: top;\n    }\n\n    .dataframe thead th {\n        text-align: right;\n    }\n</style>\n<table border=\"1\" class=\"dataframe\">\n  <thead>\n    <tr style=\"text-align: right;\">\n      <th></th>\n      <th>avg_conv_rate</th>\n      <th>last_price</th>\n      <th>last_date</th>\n      <th>avg_unique_views</th>\n      <th>PE</th>\n      <th>PE_err</th>\n      <th>has_enough_stat</th>\n      <th>pc2</th>\n      <th>item_skey</th>\n      <th>Sales_PE</th>\n      <th>...</th>\n      <th>avg_sales_up</th>\n      <th>avg_sales_err_up</th>\n      <th>Margin_up</th>\n      <th>Margin_err_up</th>\n      <th>price_down</th>\n      <th>Delta_price_down</th>\n      <th>avg_sales_down</th>\n      <th>avg_sales_err_down</th>\n      <th>Margin_down</th>\n      <th>Margin_err_down</th>\n    </tr>\n    <tr>\n      <th>Group_flag</th>\n      <th></th>\n      <th></th>\n      <th></th>\n      <th></th>\n      <th></th>\n      <th></th>\n      <th></th>\n      <th></th>\n      <th></th>\n      <th></th>\n      <th></th>\n      <th></th>\n      <th></th>\n      <th></th>\n      <th></th>\n      <th></th>\n      <th></th>\n      <th></th>\n      <th></th>\n      <th></th>\n      <th></th>\n    </tr>\n  </thead>\n  <tbody>\n    <tr>\n      <th>neutral</th>\n      <td>589</td>\n      <td>589</td>\n      <td>589</td>\n      <td>589</td>\n      <td>589</td>\n      <td>589</td>\n      <td>589</td>\n      <td>589</td>\n      <td>589</td>\n      <td>589</td>\n      <td>...</td>\n      <td>589</td>\n      <td>589</td>\n      <td>589</td>\n      <td>589</td>\n      <td>589</td>\n      <td>589</td>\n      <td>589</td>\n      <td>589</td>\n      <td>589</td>\n      <td>589</td>\n    </tr>\n    <tr>\n      <th>neutral_down</th>\n      <td>87</td>\n      <td>87</td>\n      <td>87</td>\n      <td>87</td>\n      <td>87</td>\n      <td>87</td>\n      <td>0</td>\n      <td>87</td>\n      <td>0</td>\n      <td>87</td>\n      <td>...</td>\n      <td>0</td>\n      <td>0</td>\n      <td>0</td>\n      <td>0</td>\n      <td>87</td>\n      <td>87</td>\n      <td>87</td>\n      <td>87</td>\n      <td>87</td>\n      <td>87</td>\n    </tr>\n    <tr>\n      <th>neutral_up</th>\n      <td>30</td>\n      <td>30</td>\n      <td>30</td>\n      <td>30</td>\n      <td>30</td>\n      <td>30</td>\n      <td>0</td>\n      <td>30</td>\n      <td>0</td>\n      <td>30</td>\n      <td>...</td>\n      <td>30</td>\n      <td>30</td>\n      <td>30</td>\n      <td>30</td>\n      <td>0</td>\n      <td>0</td>\n      <td>0</td>\n      <td>0</td>\n      <td>0</td>\n      <td>0</td>\n    </tr>\n  </tbody>\n</table>\n<p>3 rows × 26 columns</p>\n</div>"
     },
     "execution_count": 49,
     "metadata": {},
     "output_type": "execute_result"
    }
   ],
   "source": [
    "tmp_df.set_index(['Group_flag','item_code']).count(level='Group_flag')\n",
    "#554 neutral, 4 down ,440 up"
   ],
   "metadata": {
    "collapsed": false,
    "pycharm": {
     "name": "#%%\n"
    }
   }
  },
  {
   "cell_type": "code",
   "execution_count": 50,
   "metadata": {
    "pycharm": {
     "name": "#%%\n"
    }
   },
   "outputs": [
    {
     "data": {
      "text/plain": "    item_code  avg_conv_rate  last_price   last_date  avg_unique_views  \\\n0  1000022179       0.003121      479.99  2021-02-06         93.258739   \n1  1000145006       0.004873      289.99  2021-02-04        188.190476   \n2  1000005727       0.017079       99.99  2021-02-25        170.099034   \n4  1000175476       0.055748       83.99  2021-02-25         80.722222   \n5  1000176734       0.007736      159.99  2021-02-08        100.555556   \n\n       PE  PE_err has_enough_stat      pc2     item_skey  ...  \\\n0 -0.0136  0.0033            True  276.870  1.195497e+13  ...   \n1 -0.0086  0.0025            True  188.819  2.806379e+14  ...   \n2 -0.0246  0.0044            True   40.729  7.148819e+13  ...   \n4 -0.0505  0.0061            True   48.799  1.152606e+14  ...   \n5 -0.0149  0.0030            True   54.119  3.825599e+13  ...   \n\n   avg_sales_err_up   Margin_up  Margin_err_up  price_down  Delta_price_down  \\\n0          0.005742   35.413232       0.749521  475.214020        122.469512   \n1          0.024478   47.476716       1.403032  287.104551         52.445329   \n2          0.023618  124.836973       1.042514   98.995083         42.460145   \n4          0.020414   98.625979       0.459104   83.154286         21.078551   \n5          0.007397   61.656543       0.604172  158.398073         78.988624   \n\n   avg_sales_down  avg_sales_err_down  Margin_down  Margin_err_down  \\\n0        0.312341            0.006611    38.252282         0.809610   \n1        1.015517            0.030011    53.259126         1.573914   \n2        2.984204            0.024921   126.709720         1.058153   \n4        4.617874            0.021496    97.338083         0.453109   \n5        0.801580            0.007855    63.315723         0.620431   \n\n   Group_flag  \n0     neutral  \n1     neutral  \n2     neutral  \n4     neutral  \n5     neutral  \n\n[5 rows x 28 columns]",
      "text/html": "<div>\n<style scoped>\n    .dataframe tbody tr th:only-of-type {\n        vertical-align: middle;\n    }\n\n    .dataframe tbody tr th {\n        vertical-align: top;\n    }\n\n    .dataframe thead th {\n        text-align: right;\n    }\n</style>\n<table border=\"1\" class=\"dataframe\">\n  <thead>\n    <tr style=\"text-align: right;\">\n      <th></th>\n      <th>item_code</th>\n      <th>avg_conv_rate</th>\n      <th>last_price</th>\n      <th>last_date</th>\n      <th>avg_unique_views</th>\n      <th>PE</th>\n      <th>PE_err</th>\n      <th>has_enough_stat</th>\n      <th>pc2</th>\n      <th>item_skey</th>\n      <th>...</th>\n      <th>avg_sales_err_up</th>\n      <th>Margin_up</th>\n      <th>Margin_err_up</th>\n      <th>price_down</th>\n      <th>Delta_price_down</th>\n      <th>avg_sales_down</th>\n      <th>avg_sales_err_down</th>\n      <th>Margin_down</th>\n      <th>Margin_err_down</th>\n      <th>Group_flag</th>\n    </tr>\n  </thead>\n  <tbody>\n    <tr>\n      <th>0</th>\n      <td>1000022179</td>\n      <td>0.003121</td>\n      <td>479.99</td>\n      <td>2021-02-06</td>\n      <td>93.258739</td>\n      <td>-0.0136</td>\n      <td>0.0033</td>\n      <td>True</td>\n      <td>276.870</td>\n      <td>1.195497e+13</td>\n      <td>...</td>\n      <td>0.005742</td>\n      <td>35.413232</td>\n      <td>0.749521</td>\n      <td>475.214020</td>\n      <td>122.469512</td>\n      <td>0.312341</td>\n      <td>0.006611</td>\n      <td>38.252282</td>\n      <td>0.809610</td>\n      <td>neutral</td>\n    </tr>\n    <tr>\n      <th>1</th>\n      <td>1000145006</td>\n      <td>0.004873</td>\n      <td>289.99</td>\n      <td>2021-02-04</td>\n      <td>188.190476</td>\n      <td>-0.0086</td>\n      <td>0.0025</td>\n      <td>True</td>\n      <td>188.819</td>\n      <td>2.806379e+14</td>\n      <td>...</td>\n      <td>0.024478</td>\n      <td>47.476716</td>\n      <td>1.403032</td>\n      <td>287.104551</td>\n      <td>52.445329</td>\n      <td>1.015517</td>\n      <td>0.030011</td>\n      <td>53.259126</td>\n      <td>1.573914</td>\n      <td>neutral</td>\n    </tr>\n    <tr>\n      <th>2</th>\n      <td>1000005727</td>\n      <td>0.017079</td>\n      <td>99.99</td>\n      <td>2021-02-25</td>\n      <td>170.099034</td>\n      <td>-0.0246</td>\n      <td>0.0044</td>\n      <td>True</td>\n      <td>40.729</td>\n      <td>7.148819e+13</td>\n      <td>...</td>\n      <td>0.023618</td>\n      <td>124.836973</td>\n      <td>1.042514</td>\n      <td>98.995083</td>\n      <td>42.460145</td>\n      <td>2.984204</td>\n      <td>0.024921</td>\n      <td>126.709720</td>\n      <td>1.058153</td>\n      <td>neutral</td>\n    </tr>\n    <tr>\n      <th>4</th>\n      <td>1000175476</td>\n      <td>0.055748</td>\n      <td>83.99</td>\n      <td>2021-02-25</td>\n      <td>80.722222</td>\n      <td>-0.0505</td>\n      <td>0.0061</td>\n      <td>True</td>\n      <td>48.799</td>\n      <td>1.152606e+14</td>\n      <td>...</td>\n      <td>0.020414</td>\n      <td>98.625979</td>\n      <td>0.459104</td>\n      <td>83.154286</td>\n      <td>21.078551</td>\n      <td>4.617874</td>\n      <td>0.021496</td>\n      <td>97.338083</td>\n      <td>0.453109</td>\n      <td>neutral</td>\n    </tr>\n    <tr>\n      <th>5</th>\n      <td>1000176734</td>\n      <td>0.007736</td>\n      <td>159.99</td>\n      <td>2021-02-08</td>\n      <td>100.555556</td>\n      <td>-0.0149</td>\n      <td>0.0030</td>\n      <td>True</td>\n      <td>54.119</td>\n      <td>3.825599e+13</td>\n      <td>...</td>\n      <td>0.007397</td>\n      <td>61.656543</td>\n      <td>0.604172</td>\n      <td>158.398073</td>\n      <td>78.988624</td>\n      <td>0.801580</td>\n      <td>0.007855</td>\n      <td>63.315723</td>\n      <td>0.620431</td>\n      <td>neutral</td>\n    </tr>\n  </tbody>\n</table>\n<p>5 rows × 28 columns</p>\n</div>"
     },
     "execution_count": 50,
     "metadata": {},
     "output_type": "execute_result"
    }
   ],
   "source": [
    "tmp_df['Margin_base'] = df_merged['Margin_base']\n",
    "tmp_df.head()\n",
    "#df_final_spark.head(400)\n"
   ]
  },
  {
   "cell_type": "code",
   "execution_count": 51,
   "metadata": {
    "pycharm": {
     "name": "#%%\n"
    }
   },
   "outputs": [],
   "source": [
    "#tmp_df[['item_code','avg_conv_rate','last_price','PE','PE_err','has_enough_stat','pc2','price_up','price_down','Margin_base','Margin_up','Margin_err_up','Margin_down','Margin_err_down','Group_flag']].head(400)\n"
   ]
  },
  {
   "cell_type": "code",
   "execution_count": 52,
   "metadata": {
    "pycharm": {
     "name": "#%%\n"
    }
   },
   "outputs": [],
   "source": [
    "tmp_df = tmp_df.sort_index()"
   ]
  },
  {
   "cell_type": "code",
   "execution_count": 53,
   "metadata": {
    "pycharm": {
     "name": "#%%\n"
    }
   },
   "outputs": [],
   "source": [
    "#I AM HERE NEED TO UPDATE THIS\n",
    "tmp_df['Margin_rate_to_base'] = np.where(tmp_df['Group_flag'] == 'neutral', 0.,np.where(tmp_df['Group_flag'] == 'neutral_up', np.log(tmp_df['Margin_up']/tmp_df['Margin_base']),np.log(tmp_df['Margin_down']/tmp_df['Margin_base'])))\n",
    "#tmp_df['Margin_rate_to_last'] = np.log(tmp_df['Margin_down']/tmp_df['Margin_last'])"
   ]
  },
  {
   "cell_type": "code",
   "execution_count": 54,
   "metadata": {
    "pycharm": {
     "name": "#%%\n"
    }
   },
   "outputs": [],
   "source": [
    "list_of_columns_down.append('Margin_err_down')"
   ]
  },
  {
   "cell_type": "code",
   "execution_count": 55,
   "outputs": [],
   "source": [
    "list_of_columns_up.append('Margin_err_up')"
   ],
   "metadata": {
    "collapsed": false,
    "pycharm": {
     "name": "#%%\n"
    }
   }
  },
  {
   "cell_type": "code",
   "execution_count": 56,
   "outputs": [
    {
     "data": {
      "text/plain": "      item_code  avg_conv_rate  avg_unique_views   last_date  last_price  \\\n0    1000022179       0.003121         93.258739  2021-02-06      479.99   \n1    1000145006       0.004873        188.190476  2021-02-04      289.99   \n2    1000005727       0.017079        170.099034  2021-02-25       99.99   \n3    1000016028       0.016290         26.446154  2021-02-25      139.99   \n4    1000175476       0.055748         80.722222  2021-02-25       83.99   \n..          ...            ...               ...         ...         ...   \n705  1000012855       0.003085         70.735185  2021-02-25      449.99   \n706  1000194221       0.025424         40.125730  2021-01-08      159.99   \n707  1000109909       0.012308         55.833333  2021-02-25      239.99   \n708  1000153525       0.008334         73.043478  2021-02-22      104.99   \n709  1000167292       0.008982         65.092308  2021-02-25      104.99   \n\n     price_down      PE  PE_err  Sales_PE  Sales_PE_err  Delta_price      pc2  \\\n0    475.214020 -0.0136  0.0033   -7.0455        2.1165   126.482941  276.870   \n1    287.104551 -0.0086  0.0025  -10.1897        2.9552    54.870076  188.819   \n2     98.995083 -0.0246  0.0044   -2.6853        0.8351    43.296210   40.729   \n3    137.218012 -0.0328  0.0057   -4.4643        0.8350    65.208655   52.430   \n4     83.154286 -0.0505  0.0061   -2.5839        0.4655    21.780832   48.799   \n..          ...     ...     ...       ...           ...          ...      ...   \n705  445.512525 -0.0106  0.0028   -7.0734        2.1955   140.413857  237.729   \n706         NaN -0.0219  0.0041   -2.5069        0.5744    31.096378  103.349   \n707  237.602060 -0.0197  0.0023   -3.0989        0.6622   125.582269   76.090   \n708  103.945332 -0.0379  0.0085   -2.4168        0.7736    65.687891   22.539   \n709  103.945332 -0.0255  0.0055   -3.3646        0.7733    54.386891   33.840   \n\n     avg_sales  avg_sales_down  avg_sales_err_down  Margin_base  Margin_down  \\\n0     0.291093        0.312341            0.006611    36.818246    38.252282   \n1     0.917136        1.015517            0.030011    50.323342    53.259126   \n2     2.905135        2.984204            0.024921   125.781343   126.709720   \n3     0.430796        0.471029            0.007866    28.091607    29.617959   \n4     4.500081        4.617874            0.021496    98.015502    97.338083   \n..         ...             ...                 ...          ...          ...   \n705   0.218215        0.234209            0.005142    30.640387    32.004964   \n706   1.020158             NaN                 NaN    31.723225          NaN   \n707   0.687220        0.708850            0.004694    86.302682    87.596557   \n708   0.608769        0.623661            0.004825    39.988732    40.419458   \n709   0.584680        0.604687            0.004676    31.798953    32.356225   \n\n       Group_flag  Margin_err_down  \n0         neutral         0.809610  \n1         neutral         1.573914  \n2         neutral         1.058153  \n3    neutral_down         0.494620  \n4         neutral         0.453109  \n..            ...              ...  \n705       neutral         0.702669  \n706    neutral_up              NaN  \n707       neutral         0.580064  \n708       neutral         0.312685  \n709       neutral         0.250211  \n\n[706 rows x 19 columns]",
      "text/html": "<div>\n<style scoped>\n    .dataframe tbody tr th:only-of-type {\n        vertical-align: middle;\n    }\n\n    .dataframe tbody tr th {\n        vertical-align: top;\n    }\n\n    .dataframe thead th {\n        text-align: right;\n    }\n</style>\n<table border=\"1\" class=\"dataframe\">\n  <thead>\n    <tr style=\"text-align: right;\">\n      <th></th>\n      <th>item_code</th>\n      <th>avg_conv_rate</th>\n      <th>avg_unique_views</th>\n      <th>last_date</th>\n      <th>last_price</th>\n      <th>price_down</th>\n      <th>PE</th>\n      <th>PE_err</th>\n      <th>Sales_PE</th>\n      <th>Sales_PE_err</th>\n      <th>Delta_price</th>\n      <th>pc2</th>\n      <th>avg_sales</th>\n      <th>avg_sales_down</th>\n      <th>avg_sales_err_down</th>\n      <th>Margin_base</th>\n      <th>Margin_down</th>\n      <th>Group_flag</th>\n      <th>Margin_err_down</th>\n    </tr>\n  </thead>\n  <tbody>\n    <tr>\n      <th>0</th>\n      <td>1000022179</td>\n      <td>0.003121</td>\n      <td>93.258739</td>\n      <td>2021-02-06</td>\n      <td>479.99</td>\n      <td>475.214020</td>\n      <td>-0.0136</td>\n      <td>0.0033</td>\n      <td>-7.0455</td>\n      <td>2.1165</td>\n      <td>126.482941</td>\n      <td>276.870</td>\n      <td>0.291093</td>\n      <td>0.312341</td>\n      <td>0.006611</td>\n      <td>36.818246</td>\n      <td>38.252282</td>\n      <td>neutral</td>\n      <td>0.809610</td>\n    </tr>\n    <tr>\n      <th>1</th>\n      <td>1000145006</td>\n      <td>0.004873</td>\n      <td>188.190476</td>\n      <td>2021-02-04</td>\n      <td>289.99</td>\n      <td>287.104551</td>\n      <td>-0.0086</td>\n      <td>0.0025</td>\n      <td>-10.1897</td>\n      <td>2.9552</td>\n      <td>54.870076</td>\n      <td>188.819</td>\n      <td>0.917136</td>\n      <td>1.015517</td>\n      <td>0.030011</td>\n      <td>50.323342</td>\n      <td>53.259126</td>\n      <td>neutral</td>\n      <td>1.573914</td>\n    </tr>\n    <tr>\n      <th>2</th>\n      <td>1000005727</td>\n      <td>0.017079</td>\n      <td>170.099034</td>\n      <td>2021-02-25</td>\n      <td>99.99</td>\n      <td>98.995083</td>\n      <td>-0.0246</td>\n      <td>0.0044</td>\n      <td>-2.6853</td>\n      <td>0.8351</td>\n      <td>43.296210</td>\n      <td>40.729</td>\n      <td>2.905135</td>\n      <td>2.984204</td>\n      <td>0.024921</td>\n      <td>125.781343</td>\n      <td>126.709720</td>\n      <td>neutral</td>\n      <td>1.058153</td>\n    </tr>\n    <tr>\n      <th>3</th>\n      <td>1000016028</td>\n      <td>0.016290</td>\n      <td>26.446154</td>\n      <td>2021-02-25</td>\n      <td>139.99</td>\n      <td>137.218012</td>\n      <td>-0.0328</td>\n      <td>0.0057</td>\n      <td>-4.4643</td>\n      <td>0.8350</td>\n      <td>65.208655</td>\n      <td>52.430</td>\n      <td>0.430796</td>\n      <td>0.471029</td>\n      <td>0.007866</td>\n      <td>28.091607</td>\n      <td>29.617959</td>\n      <td>neutral_down</td>\n      <td>0.494620</td>\n    </tr>\n    <tr>\n      <th>4</th>\n      <td>1000175476</td>\n      <td>0.055748</td>\n      <td>80.722222</td>\n      <td>2021-02-25</td>\n      <td>83.99</td>\n      <td>83.154286</td>\n      <td>-0.0505</td>\n      <td>0.0061</td>\n      <td>-2.5839</td>\n      <td>0.4655</td>\n      <td>21.780832</td>\n      <td>48.799</td>\n      <td>4.500081</td>\n      <td>4.617874</td>\n      <td>0.021496</td>\n      <td>98.015502</td>\n      <td>97.338083</td>\n      <td>neutral</td>\n      <td>0.453109</td>\n    </tr>\n    <tr>\n      <th>...</th>\n      <td>...</td>\n      <td>...</td>\n      <td>...</td>\n      <td>...</td>\n      <td>...</td>\n      <td>...</td>\n      <td>...</td>\n      <td>...</td>\n      <td>...</td>\n      <td>...</td>\n      <td>...</td>\n      <td>...</td>\n      <td>...</td>\n      <td>...</td>\n      <td>...</td>\n      <td>...</td>\n      <td>...</td>\n      <td>...</td>\n      <td>...</td>\n    </tr>\n    <tr>\n      <th>705</th>\n      <td>1000012855</td>\n      <td>0.003085</td>\n      <td>70.735185</td>\n      <td>2021-02-25</td>\n      <td>449.99</td>\n      <td>445.512525</td>\n      <td>-0.0106</td>\n      <td>0.0028</td>\n      <td>-7.0734</td>\n      <td>2.1955</td>\n      <td>140.413857</td>\n      <td>237.729</td>\n      <td>0.218215</td>\n      <td>0.234209</td>\n      <td>0.005142</td>\n      <td>30.640387</td>\n      <td>32.004964</td>\n      <td>neutral</td>\n      <td>0.702669</td>\n    </tr>\n    <tr>\n      <th>706</th>\n      <td>1000194221</td>\n      <td>0.025424</td>\n      <td>40.125730</td>\n      <td>2021-01-08</td>\n      <td>159.99</td>\n      <td>NaN</td>\n      <td>-0.0219</td>\n      <td>0.0041</td>\n      <td>-2.5069</td>\n      <td>0.5744</td>\n      <td>31.096378</td>\n      <td>103.349</td>\n      <td>1.020158</td>\n      <td>NaN</td>\n      <td>NaN</td>\n      <td>31.723225</td>\n      <td>NaN</td>\n      <td>neutral_up</td>\n      <td>NaN</td>\n    </tr>\n    <tr>\n      <th>707</th>\n      <td>1000109909</td>\n      <td>0.012308</td>\n      <td>55.833333</td>\n      <td>2021-02-25</td>\n      <td>239.99</td>\n      <td>237.602060</td>\n      <td>-0.0197</td>\n      <td>0.0023</td>\n      <td>-3.0989</td>\n      <td>0.6622</td>\n      <td>125.582269</td>\n      <td>76.090</td>\n      <td>0.687220</td>\n      <td>0.708850</td>\n      <td>0.004694</td>\n      <td>86.302682</td>\n      <td>87.596557</td>\n      <td>neutral</td>\n      <td>0.580064</td>\n    </tr>\n    <tr>\n      <th>708</th>\n      <td>1000153525</td>\n      <td>0.008334</td>\n      <td>73.043478</td>\n      <td>2021-02-22</td>\n      <td>104.99</td>\n      <td>103.945332</td>\n      <td>-0.0379</td>\n      <td>0.0085</td>\n      <td>-2.4168</td>\n      <td>0.7736</td>\n      <td>65.687891</td>\n      <td>22.539</td>\n      <td>0.608769</td>\n      <td>0.623661</td>\n      <td>0.004825</td>\n      <td>39.988732</td>\n      <td>40.419458</td>\n      <td>neutral</td>\n      <td>0.312685</td>\n    </tr>\n    <tr>\n      <th>709</th>\n      <td>1000167292</td>\n      <td>0.008982</td>\n      <td>65.092308</td>\n      <td>2021-02-25</td>\n      <td>104.99</td>\n      <td>103.945332</td>\n      <td>-0.0255</td>\n      <td>0.0055</td>\n      <td>-3.3646</td>\n      <td>0.7733</td>\n      <td>54.386891</td>\n      <td>33.840</td>\n      <td>0.584680</td>\n      <td>0.604687</td>\n      <td>0.004676</td>\n      <td>31.798953</td>\n      <td>32.356225</td>\n      <td>neutral</td>\n      <td>0.250211</td>\n    </tr>\n  </tbody>\n</table>\n<p>706 rows × 19 columns</p>\n</div>"
     },
     "execution_count": 56,
     "metadata": {},
     "output_type": "execute_result"
    }
   ],
   "source": [
    "tmp_df[list_of_columns_down]\n",
    "\n"
   ],
   "metadata": {
    "collapsed": false,
    "pycharm": {
     "name": "#%%\n"
    }
   }
  },
  {
   "cell_type": "code",
   "execution_count": 57,
   "outputs": [
    {
     "data": {
      "text/plain": "      item_code  avg_conv_rate  avg_unique_views   last_date  last_price  \\\n0    1000022179       0.003121         93.258739  2021-02-06      479.99   \n1    1000145006       0.004873        188.190476  2021-02-04      289.99   \n2    1000005727       0.017079        170.099034  2021-02-25       99.99   \n3    1000016028       0.016290         26.446154  2021-02-25      139.99   \n4    1000175476       0.055748         80.722222  2021-02-25       83.99   \n..          ...            ...               ...         ...         ...   \n705  1000012855       0.003085         70.735185  2021-02-25      449.99   \n706  1000194221       0.025424         40.125730  2021-01-08      159.99   \n707  1000109909       0.012308         55.833333  2021-02-25      239.99   \n708  1000153525       0.008334         73.043478  2021-02-22      104.99   \n709  1000167292       0.008982         65.092308  2021-02-25      104.99   \n\n       price_up      PE  PE_err  Sales_PE  Sales_PE_err  Delta_price      pc2  \\\n0    484.813980 -0.0136  0.0033   -7.0455        2.1165   126.482941  276.870   \n1    292.904448 -0.0086  0.0025  -10.1897        2.9552    54.870076  188.819   \n2    100.994916 -0.0246  0.0044   -2.6853        0.8351    43.296210   40.729   \n3           NaN -0.0328  0.0057   -4.4643        0.8350    65.208655   52.430   \n4     84.834114 -0.0505  0.0061   -2.5839        0.4655    21.780832   48.799   \n..          ...     ...     ...       ...           ...          ...      ...   \n705  454.512475 -0.0106  0.0028   -7.0734        2.1955   140.413857  237.729   \n706  163.222012 -0.0219  0.0041   -2.5069        0.5744    31.096378  103.349   \n707  242.401940 -0.0197  0.0023   -3.0989        0.6622   125.582269   76.090   \n708  106.045167 -0.0379  0.0085   -2.4168        0.7736    65.687891   22.539   \n709  106.045167 -0.0255  0.0055   -3.3646        0.7733    54.386891   33.840   \n\n     avg_sales  avg_sales_up  avg_sales_err_up  Margin_base   Margin_up  \\\n0     0.291093      0.271289          0.005742    36.818246   35.413232   \n1     0.917136      0.828287          0.024478    50.323342   47.476716   \n2     2.905135      2.828162          0.023618   125.781343  124.836973   \n3     0.430796           NaN               NaN    28.091607         NaN   \n4     4.500081      4.385293          0.020414    98.015502   98.625979   \n..         ...           ...               ...          ...         ...   \n705   0.218215      0.203313          0.004464    30.640387   29.320616   \n706   1.020158      0.970271          0.011146    31.723225   32.807133   \n707   0.687220      0.666251          0.004412    86.302682   85.019646   \n708   0.608769      0.594232          0.004597    39.988732   39.560772   \n709   0.584680      0.565336          0.004372    31.798953   31.248125   \n\n       Group_flag  Margin_err_up  \n0         neutral       0.749521  \n1         neutral       1.403032  \n2         neutral       1.042514  \n3    neutral_down            NaN  \n4         neutral       0.459104  \n..            ...            ...  \n705       neutral       0.643734  \n706    neutral_up       0.376888  \n707       neutral       0.563000  \n708       neutral       0.306042  \n709       neutral       0.241642  \n\n[706 rows x 19 columns]",
      "text/html": "<div>\n<style scoped>\n    .dataframe tbody tr th:only-of-type {\n        vertical-align: middle;\n    }\n\n    .dataframe tbody tr th {\n        vertical-align: top;\n    }\n\n    .dataframe thead th {\n        text-align: right;\n    }\n</style>\n<table border=\"1\" class=\"dataframe\">\n  <thead>\n    <tr style=\"text-align: right;\">\n      <th></th>\n      <th>item_code</th>\n      <th>avg_conv_rate</th>\n      <th>avg_unique_views</th>\n      <th>last_date</th>\n      <th>last_price</th>\n      <th>price_up</th>\n      <th>PE</th>\n      <th>PE_err</th>\n      <th>Sales_PE</th>\n      <th>Sales_PE_err</th>\n      <th>Delta_price</th>\n      <th>pc2</th>\n      <th>avg_sales</th>\n      <th>avg_sales_up</th>\n      <th>avg_sales_err_up</th>\n      <th>Margin_base</th>\n      <th>Margin_up</th>\n      <th>Group_flag</th>\n      <th>Margin_err_up</th>\n    </tr>\n  </thead>\n  <tbody>\n    <tr>\n      <th>0</th>\n      <td>1000022179</td>\n      <td>0.003121</td>\n      <td>93.258739</td>\n      <td>2021-02-06</td>\n      <td>479.99</td>\n      <td>484.813980</td>\n      <td>-0.0136</td>\n      <td>0.0033</td>\n      <td>-7.0455</td>\n      <td>2.1165</td>\n      <td>126.482941</td>\n      <td>276.870</td>\n      <td>0.291093</td>\n      <td>0.271289</td>\n      <td>0.005742</td>\n      <td>36.818246</td>\n      <td>35.413232</td>\n      <td>neutral</td>\n      <td>0.749521</td>\n    </tr>\n    <tr>\n      <th>1</th>\n      <td>1000145006</td>\n      <td>0.004873</td>\n      <td>188.190476</td>\n      <td>2021-02-04</td>\n      <td>289.99</td>\n      <td>292.904448</td>\n      <td>-0.0086</td>\n      <td>0.0025</td>\n      <td>-10.1897</td>\n      <td>2.9552</td>\n      <td>54.870076</td>\n      <td>188.819</td>\n      <td>0.917136</td>\n      <td>0.828287</td>\n      <td>0.024478</td>\n      <td>50.323342</td>\n      <td>47.476716</td>\n      <td>neutral</td>\n      <td>1.403032</td>\n    </tr>\n    <tr>\n      <th>2</th>\n      <td>1000005727</td>\n      <td>0.017079</td>\n      <td>170.099034</td>\n      <td>2021-02-25</td>\n      <td>99.99</td>\n      <td>100.994916</td>\n      <td>-0.0246</td>\n      <td>0.0044</td>\n      <td>-2.6853</td>\n      <td>0.8351</td>\n      <td>43.296210</td>\n      <td>40.729</td>\n      <td>2.905135</td>\n      <td>2.828162</td>\n      <td>0.023618</td>\n      <td>125.781343</td>\n      <td>124.836973</td>\n      <td>neutral</td>\n      <td>1.042514</td>\n    </tr>\n    <tr>\n      <th>3</th>\n      <td>1000016028</td>\n      <td>0.016290</td>\n      <td>26.446154</td>\n      <td>2021-02-25</td>\n      <td>139.99</td>\n      <td>NaN</td>\n      <td>-0.0328</td>\n      <td>0.0057</td>\n      <td>-4.4643</td>\n      <td>0.8350</td>\n      <td>65.208655</td>\n      <td>52.430</td>\n      <td>0.430796</td>\n      <td>NaN</td>\n      <td>NaN</td>\n      <td>28.091607</td>\n      <td>NaN</td>\n      <td>neutral_down</td>\n      <td>NaN</td>\n    </tr>\n    <tr>\n      <th>4</th>\n      <td>1000175476</td>\n      <td>0.055748</td>\n      <td>80.722222</td>\n      <td>2021-02-25</td>\n      <td>83.99</td>\n      <td>84.834114</td>\n      <td>-0.0505</td>\n      <td>0.0061</td>\n      <td>-2.5839</td>\n      <td>0.4655</td>\n      <td>21.780832</td>\n      <td>48.799</td>\n      <td>4.500081</td>\n      <td>4.385293</td>\n      <td>0.020414</td>\n      <td>98.015502</td>\n      <td>98.625979</td>\n      <td>neutral</td>\n      <td>0.459104</td>\n    </tr>\n    <tr>\n      <th>...</th>\n      <td>...</td>\n      <td>...</td>\n      <td>...</td>\n      <td>...</td>\n      <td>...</td>\n      <td>...</td>\n      <td>...</td>\n      <td>...</td>\n      <td>...</td>\n      <td>...</td>\n      <td>...</td>\n      <td>...</td>\n      <td>...</td>\n      <td>...</td>\n      <td>...</td>\n      <td>...</td>\n      <td>...</td>\n      <td>...</td>\n      <td>...</td>\n    </tr>\n    <tr>\n      <th>705</th>\n      <td>1000012855</td>\n      <td>0.003085</td>\n      <td>70.735185</td>\n      <td>2021-02-25</td>\n      <td>449.99</td>\n      <td>454.512475</td>\n      <td>-0.0106</td>\n      <td>0.0028</td>\n      <td>-7.0734</td>\n      <td>2.1955</td>\n      <td>140.413857</td>\n      <td>237.729</td>\n      <td>0.218215</td>\n      <td>0.203313</td>\n      <td>0.004464</td>\n      <td>30.640387</td>\n      <td>29.320616</td>\n      <td>neutral</td>\n      <td>0.643734</td>\n    </tr>\n    <tr>\n      <th>706</th>\n      <td>1000194221</td>\n      <td>0.025424</td>\n      <td>40.125730</td>\n      <td>2021-01-08</td>\n      <td>159.99</td>\n      <td>163.222012</td>\n      <td>-0.0219</td>\n      <td>0.0041</td>\n      <td>-2.5069</td>\n      <td>0.5744</td>\n      <td>31.096378</td>\n      <td>103.349</td>\n      <td>1.020158</td>\n      <td>0.970271</td>\n      <td>0.011146</td>\n      <td>31.723225</td>\n      <td>32.807133</td>\n      <td>neutral_up</td>\n      <td>0.376888</td>\n    </tr>\n    <tr>\n      <th>707</th>\n      <td>1000109909</td>\n      <td>0.012308</td>\n      <td>55.833333</td>\n      <td>2021-02-25</td>\n      <td>239.99</td>\n      <td>242.401940</td>\n      <td>-0.0197</td>\n      <td>0.0023</td>\n      <td>-3.0989</td>\n      <td>0.6622</td>\n      <td>125.582269</td>\n      <td>76.090</td>\n      <td>0.687220</td>\n      <td>0.666251</td>\n      <td>0.004412</td>\n      <td>86.302682</td>\n      <td>85.019646</td>\n      <td>neutral</td>\n      <td>0.563000</td>\n    </tr>\n    <tr>\n      <th>708</th>\n      <td>1000153525</td>\n      <td>0.008334</td>\n      <td>73.043478</td>\n      <td>2021-02-22</td>\n      <td>104.99</td>\n      <td>106.045167</td>\n      <td>-0.0379</td>\n      <td>0.0085</td>\n      <td>-2.4168</td>\n      <td>0.7736</td>\n      <td>65.687891</td>\n      <td>22.539</td>\n      <td>0.608769</td>\n      <td>0.594232</td>\n      <td>0.004597</td>\n      <td>39.988732</td>\n      <td>39.560772</td>\n      <td>neutral</td>\n      <td>0.306042</td>\n    </tr>\n    <tr>\n      <th>709</th>\n      <td>1000167292</td>\n      <td>0.008982</td>\n      <td>65.092308</td>\n      <td>2021-02-25</td>\n      <td>104.99</td>\n      <td>106.045167</td>\n      <td>-0.0255</td>\n      <td>0.0055</td>\n      <td>-3.3646</td>\n      <td>0.7733</td>\n      <td>54.386891</td>\n      <td>33.840</td>\n      <td>0.584680</td>\n      <td>0.565336</td>\n      <td>0.004372</td>\n      <td>31.798953</td>\n      <td>31.248125</td>\n      <td>neutral</td>\n      <td>0.241642</td>\n    </tr>\n  </tbody>\n</table>\n<p>706 rows × 19 columns</p>\n</div>"
     },
     "execution_count": 57,
     "metadata": {},
     "output_type": "execute_result"
    }
   ],
   "source": [
    "tmp_df[list_of_columns_up]"
   ],
   "metadata": {
    "collapsed": false,
    "pycharm": {
     "name": "#%%\n"
    }
   }
  },
  {
   "cell_type": "code",
   "execution_count": null,
   "metadata": {
    "pycharm": {
     "name": "#%%\n"
    }
   },
   "outputs": [],
   "source": [
    "#print(tmp_df['Margin_rate_to_base'].mean()*100)"
   ]
  },
  {
   "cell_type": "code",
   "execution_count": 58,
   "metadata": {
    "pycharm": {
     "name": "#%%\n"
    }
   },
   "outputs": [],
   "source": [
    "tmp_df.to_csv('../raw_data/Excel_files/Margin_result_Sales_PE.csv')"
   ]
  },
  {
   "cell_type": "code",
   "execution_count": 59,
   "outputs": [],
   "source": [
    "tmp_df_only_change=tmp_df[tmp_df['Group_flag']!='neutral']\n"
   ],
   "metadata": {
    "collapsed": false,
    "pycharm": {
     "name": "#%%\n"
    }
   }
  },
  {
   "cell_type": "code",
   "execution_count": 60,
   "outputs": [
    {
     "data": {
      "text/plain": "0.13756086777524523"
     },
     "execution_count": 60,
     "metadata": {},
     "output_type": "execute_result"
    }
   ],
   "source": [
    "tmp_df_only_change['Margin_rate_to_base'].mean()"
   ],
   "metadata": {
    "collapsed": false,
    "pycharm": {
     "name": "#%%\n"
    }
   }
  },
  {
   "cell_type": "code",
   "execution_count": 61,
   "outputs": [
    {
     "data": {
      "text/plain": "198    0.689917\n672    0.367043\n8      0.333292\n544    0.330028\n367    0.311246\n437    0.298487\n426    0.296314\n520    0.290302\n123    0.290195\n184    0.285127\nName: Margin_rate_to_base, dtype: float64"
     },
     "execution_count": 61,
     "metadata": {},
     "output_type": "execute_result"
    }
   ],
   "source": [
    "tmp_df_only_change['Margin_rate_to_base'].nlargest(10)\n"
   ],
   "metadata": {
    "collapsed": false,
    "pycharm": {
     "name": "#%%\n"
    }
   }
  },
  {
   "cell_type": "code",
   "execution_count": 68,
   "outputs": [
    {
     "data": {
      "text/plain": "0.1045135592381947"
     },
     "execution_count": 68,
     "metadata": {},
     "output_type": "execute_result"
    }
   ],
   "source": [
    "tmp_df_only_change['Margin_rate_to_base'].median()\n"
   ],
   "metadata": {
    "collapsed": false,
    "pycharm": {
     "name": "#%%\n"
    }
   }
  },
  {
   "cell_type": "code",
   "execution_count": null,
   "outputs": [],
   "source": [],
   "metadata": {
    "collapsed": false,
    "pycharm": {
     "name": "#%%\n"
    }
   }
  }
 ],
 "metadata": {
  "kernelspec": {
   "display_name": "Python 3",
   "language": "python",
   "name": "python3"
  },
  "language_info": {
   "codemirror_mode": {
    "name": "ipython",
    "version": 3
   },
   "file_extension": ".py",
   "mimetype": "text/x-python",
   "name": "python",
   "nbconvert_exporter": "python",
   "pygments_lexer": "ipython3",
   "version": "3.9.2"
  }
 },
 "nbformat": 4,
 "nbformat_minor": 1
}