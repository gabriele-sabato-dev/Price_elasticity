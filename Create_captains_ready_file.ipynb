{
 "cells": [
  {
   "cell_type": "code",
   "execution_count": 1,
   "outputs": [],
   "source": [
    "from pyspark.sql import SparkSession\n",
    "spark = SparkSession.builder.master('local').config('spark.driver.memory', '16g').appName('Captain').getOrCreate()\n",
    "\n",
    "import pandas as pd\n",
    "import numpy as np\n"
   ],
   "metadata": {
    "collapsed": false,
    "pycharm": {
     "name": "#%%\n"
    }
   }
  },
  {
   "cell_type": "code",
   "execution_count": 2,
   "outputs": [],
   "source": [
    "df_d_item = spark.read.parquet('/Users/gabriele.sabato/PycharmProjects/raw_data/redshift_tables/d_item/*')\n"
   ],
   "metadata": {
    "collapsed": false,
    "pycharm": {
     "name": "#%%\n"
    }
   }
  },
  {
   "cell_type": "code",
   "execution_count": 3,
   "outputs": [],
   "source": [
    "df_d_item.createOrReplaceTempView('d_item_tmp')"
   ],
   "metadata": {
    "collapsed": false,
    "pycharm": {
     "name": "#%%\n"
    }
   }
  },
  {
   "cell_type": "code",
   "execution_count": 4,
   "outputs": [],
   "source": [
    "#read csv files\n",
    "original_df_up = pd.read_csv('../raw_data/Excel_files/Item_margin_up_pre_campaign_202106.csv', index_col=0)\n",
    "original_df_down = pd.read_csv('../raw_data/Excel_files/Item_margin_down_pre_campaign_202106.csv', index_col=0)"
   ],
   "metadata": {
    "collapsed": false,
    "pycharm": {
     "name": "#%%\n"
    }
   }
  },
  {
   "cell_type": "code",
   "execution_count": 5,
   "outputs": [],
   "source": [
    "frames = [original_df_down,original_df_up]\n",
    "together_df = pd.concat(frames)"
   ],
   "metadata": {
    "collapsed": false,
    "pycharm": {
     "name": "#%%\n"
    }
   }
  },
  {
   "cell_type": "code",
   "execution_count": 6,
   "outputs": [],
   "source": [
    "df_spark_together = spark.createDataFrame(together_df)"
   ],
   "metadata": {
    "collapsed": false,
    "pycharm": {
     "name": "#%%\n"
    }
   }
  },
  {
   "cell_type": "code",
   "execution_count": 9,
   "outputs": [],
   "source": [
    "df_spark_together.createOrReplaceTempView('margin_total')"
   ],
   "metadata": {
    "collapsed": false,
    "pycharm": {
     "name": "#%%\n"
    }
   }
  },
  {
   "cell_type": "code",
   "execution_count": 7,
   "outputs": [
    {
     "name": "stdout",
     "output_type": "stream",
     "text": [
      "+----------+------------+----------+--------------+--------+------------+--------------------+-----------------+---------+-------------+-----------------+---------------+------+-------+------------------+--------------------+------------------+--------------------+--------------------+----------+--------------------+\n",
      "| item_code|item_price_x|  max_date|delivery_weeks|sales_pe|sales_pe_err|       beta_del_week|beta_del_week_err|intercept|intercept_err|              pc2|      item_skey|     x|Delta_x|        Delta_cost|       Delta_N_Sales|       log_x_prime|       N_prime_sales|        Delta_Margin|Group_flag|           Increment|\n",
      "+----------+------------+----------+--------------+--------+------------+--------------------+-----------------+---------+-------------+-----------------+---------------+------+-------+------------------+--------------------+------------------+--------------------+--------------------+----------+--------------------+\n",
      "|1000054054|      329.99|2021-04-26|            16| -0.8534|      0.1496|             -0.0117|           0.0032|   5.0027|         0.79|           177.05|258578614695714|329.99| 3.2999|  64.2031932773109| 0.00980919540229885| 5.648239461236493|-0.00470755621922...|  0.6453161330765177|      down|-14.000000000000002%|\n",
      "|1000137922|      629.99|2021-04-28|             3|  -1.952|      0.6018|              -0.073|           0.0314|  12.0455|       3.5729|           369.85|256364191196067|629.99| 6.2999| 90.73092436974792|  0.0224367816091954| 6.294881056509143| -0.4611078223058485|   4.940643105029073|      down|-14.000000000000002%|\n",
      "|1000007431|      104.99|2021-04-28|             1|-18.2928|      2.4617|             -0.1186|           0.1062|  85.2384|      11.3301|            42.99| 73591042629309|104.99| 1.0499| 33.76739495798319| 0.21026206896551727| 4.503042217792267|   2.746549318369617|   4.216400198085061|      down|-14.000000000000002%|\n",
      "|1000048003|      349.99|2021-04-23|             3| -2.7317|      0.3851|             -0.0089|           0.0067|  16.2329|       2.1005|            168.4| 33009929417484|349.99| 3.4999| 87.47504201680675|0.031398850574712645|5.7070816929121335|  0.6161649394719255|  0.5901001016446332|      down|-14.000000000000002%|\n",
      "|1000087583|      219.99|2021-03-28|             9| -1.5979|      0.4264|-0.03700000000000...|           0.0085|   8.7587|       2.1987|           114.22|191583886188344|219.99| 2.1999|46.613025210084025| 0.01836666666666667|5.2427592010392345|0.048295072659405136|  0.7498815660151179|      down|-14.000000000000002%|\n",
      "|1000121623|      479.99|2021-03-29|             7| -1.5505|       0.476|             -0.0427|           0.0119|   9.4705|       2.8145|           270.19|148450292983351|479.99| 4.7999| 80.72705882352943| 0.01782183908045977| 6.022942380617003| -0.1669721611466617|  2.2401543280796132|      down|-14.000000000000002%|\n",
      "|1000213909|      549.99|2021-04-18|             2| -1.8091|      0.3045|             -0.0081|           0.0045|   10.749|       1.7928|           364.37|264156507032532|549.99| 5.4999| 37.72352941176473|0.020794252873563214|  6.15907720650846| -0.4095865742944529|   3.037117809833597|      down|-14.000000000000002%|\n",
      "|1000008070|      249.99|2021-04-15|             2| -3.2426|      0.3129|             -0.0382|           0.0188|  18.2917|       1.7379|98.51899999999999|157942711191560|249.99| 2.4999| 84.24679831932775| 0.03727126436781609| 5.370598027327642|  0.8005988365873868|  1.1385676607169404|      down|-14.000000000000002%|\n",
      "|1000016131|      139.99|2021-04-27|             5| -6.4414|      1.5081|             -0.1626|           0.1015|  31.3304|       6.9357|            52.38| 75474282171847|139.99| 1.3999| 49.96563025210085| 0.07403908045977013| 4.790748101752151| -0.3417248226263005|  4.1777898976529775|      down|-14.000000000000002%|\n",
      "|1000054039|      449.99|2021-04-28|            16| -0.7547|      0.1918|             -0.0193|           0.0097|   4.9099|       1.1513|           230.97|130727629874447|449.99| 4.4999| 98.01428571428578|0.008674712643678159| 5.958402470560642| 0.10429365546788373|  0.3809347433068684|      down|-14.000000000000002%|\n",
      "|1000118217|       74.99|2021-04-28|             1| -4.2246|      1.0301|              0.0088|           0.0611|  19.1717|       4.4217|           30.289|248123653626734| 74.99| 0.7499|24.535621848739492|0.048558620689655184| 4.166531881578714|   1.578569413082569|0.007646751867138812|      down|-14.000000000000002%|\n",
      "|1000129691|      214.99|2021-01-10|             2| -2.2732|      0.2517|             -0.0556|           0.0139|  11.4418|       1.1915|           134.47| 48950551112240|214.99| 2.1499|22.707563025210103| 0.02612873563218391| 5.219768625683472| -0.5349780399036721|  1.7434691991257738|      down|-14.000000000000002%|\n",
      "|1000159195|      369.99|2021-04-28|             3| -1.6962|       0.212|-0.00900000000000...|           0.0047|   9.9075|       1.2326|          240.639|127359044424942|369.99| 3.6999|29.857890756302535| 0.01949655172413793| 5.762653088511422| 0.10588783126692647|   0.190351524599411|      down|-14.000000000000002%|\n",
      "|1000168996|       890.0|2021-04-18|             2| -3.1573|      0.4131|              -0.029|           0.0171|  19.9196|       2.5793|            329.1|165142119851055| 890.0|    8.9|321.57226890756294| 0.03629080459770116| 6.640398572991603| -1.1041304145063862|   21.49687706407061|      down|-14.000000000000002%|\n",
      "|1000178071|      749.99|2021-04-23|             8| -1.8331|      0.4077|             -0.0262|           0.0138|  12.2733|       2.6801|           250.08|128272935265171|749.99| 7.4999|298.23201680672264|0.021070114942528737| 6.469236983373549|   0.204941685777948|   4.746740724493777|      down|-14.000000000000002%|\n",
      "|1000008581|      649.99|2020-12-22|             3| -2.6323|       0.465|             -0.0144|           0.0153|  17.2735|       3.0147|           320.94| 79065555732734|649.99| 6.4999|154.26277310924377|0.030256321839080457|6.3261340884213695|  0.5780172390484282|  0.9103698588914476|      down|-14.000000000000002%|\n",
      "|1000117722|       69.99|2021-04-28|             1| -4.0223|      1.0236|              -0.041|           0.0381|  17.1414|       4.2566|            22.66| 29123456843228| 69.99| 0.6999|28.509159663865546|0.046233333333333335|4.0975294849668655|  0.6189071526177798|  0.8849003656755328|      down|-14.000000000000002%|\n",
      "|1000006343|      429.99|2021-04-28|             3| -1.1313|      0.3417|             -0.0272|           0.0127|   6.8673|       2.0304|           160.84|164019876870631|429.99| 4.2999|153.52243697478994|0.013003448275862068|5.9129390628686505| 0.09639203817669628|   1.581844943429999|      down|-14.000000000000002%|\n",
      "|1000006755|      379.99|2021-04-15|             2| -1.5103|      0.2308|             -0.0122|           0.0085|   8.4369|       1.2269|           127.84| 58236295175808|379.99| 3.7999|149.96781512605043|0.017359770114942528| 5.789322046850108| -0.3311130873577177|  3.8616034158790273|      down|-14.000000000000002%|\n",
      "|1000016135|      399.99|2021-04-22|             5| -7.6895|       1.673|             -0.0678|           0.1158|  46.1338|       9.4806|            159.4|227418228646009|399.99| 3.9999| 133.0296638655463| 0.08838505747126436|5.8406166570608935|  0.8833782155302643|   8.224409961839783|      down|-14.000000000000002%|\n",
      "+----------+------------+----------+--------------+--------+------------+--------------------+-----------------+---------+-------------+-----------------+---------------+------+-------+------------------+--------------------+------------------+--------------------+--------------------+----------+--------------------+\n",
      "only showing top 20 rows\n",
      "\n"
     ]
    }
   ],
   "source": [
    "df_spark_together.show()"
   ],
   "metadata": {
    "collapsed": false,
    "pycharm": {
     "name": "#%%\n"
    }
   }
  },
  {
   "cell_type": "code",
   "execution_count": 10,
   "outputs": [
    {
     "data": {
      "text/plain": "[('item_skey', 'bigint'),\n ('item_code', 'string'),\n ('item_parent_item_code', 'string'),\n ('item_name', 'string'),\n ('item_parent_name', 'string'),\n ('item_brand', 'string'),\n ('item_designer', 'string'),\n ('item_series', 'string'),\n ('item_style', 'string'),\n ('item_colors', 'string'),\n ('item_materials', 'string'),\n ('item_gtin', 'string'),\n ('item_gtin_comparable', 'string'),\n ('item_picture_url_first', 'string'),\n ('item_pdp_url', 'string'),\n ('item_exclusivity', 'string'),\n ('item_is_trusted_shop', 'string'),\n ('item_is_in_catalog', 'string'),\n ('item_main_category', 'string'),\n ('item_sub_category_1', 'string'),\n ('item_sub_category_2', 'string'),\n ('item_type', 'string'),\n ('item_cross_plant_material_status', 'string'),\n ('item_cross_distribution_chain_material_status', 'string'),\n ('item_supplier_item_code', 'string'),\n ('item_supplier_regular', 'string'),\n ('item_supplier_regular_id', 'int'),\n ('item_first_activation_date', 'date'),\n ('item_first_sellable_date', 'date'),\n ('item_shipping_pieces', 'decimal(7,3)'),\n ('item_volume', 'decimal(7,3)'),\n ('item_inventory_flag', 'string'),\n ('item_delivery_type', 'string'),\n ('item_purchase_price', 'decimal(7,3)'),\n ('item_purchase_price_currency', 'string'),\n ('item_inco_terms', 'string'),\n ('item_supplier_lead_time', 'smallint'),\n ('item_sourcing_warehouse', 'string'),\n ('item_country_of_origin', 'string'),\n ('item_cross_plant_deactivation_reason', 'string'),\n ('item_cross_plant_material_status_valid_from', 'date'),\n ('item_cross_distribution_chain_deactivation_reason', 'string'),\n ('item_cross_distribution_chain_material_status_valid_from', 'date'),\n ('item_attributes_bed_size', 'string'),\n ('item_attributes_depth', 'string'),\n ('item_attributes_height', 'string'),\n ('item_attributes_width', 'string'),\n ('item_attributes_wood', 'string'),\n ('item_gross_weight', 'decimal(10,3)'),\n ('item_net_weight', 'decimal(10,3)'),\n ('item_customer_avg_rating', 'decimal(10,2)'),\n ('item_customer_rating_count', 'bigint')]"
     },
     "execution_count": 10,
     "metadata": {},
     "output_type": "execute_result"
    }
   ],
   "source": [
    "df_d_item.dtypes\n"
   ],
   "metadata": {
    "collapsed": false,
    "pycharm": {
     "name": "#%%\n"
    }
   }
  },
  {
   "cell_type": "code",
   "execution_count": 11,
   "outputs": [],
   "source": [
    "df_captain_ready = spark.sql(\"\"\"\n",
    "SELECT di.item_code,\n",
    "       di.item_main_category,\n",
    "       di.item_inventory_flag,\n",
    "       di.item_inco_terms,\n",
    "       pe.item_price_x as price,\n",
    "       pe.sales_pe as price_elasticity,\n",
    "       pe.sales_pe_err as price_elasticity_err,\n",
    "       pe.Increment as price_pct_change\n",
    "\n",
    "  FROM d_item_tmp as di\n",
    "       INNER JOIN margin_total as pe ON pe.item_skey = di.item_skey\n",
    "\"\"\")"
   ],
   "metadata": {
    "collapsed": false,
    "pycharm": {
     "name": "#%%\n"
    }
   }
  },
  {
   "cell_type": "code",
   "execution_count": 12,
   "outputs": [
    {
     "name": "stdout",
     "output_type": "stream",
     "text": [
      "+------------------+--------------------+-------------------+---------------+------+----------------+--------------------+--------------------+\n",
      "|         item_code|  item_main_category|item_inventory_flag|item_inco_terms| price|price_elasticity|price_elasticity_err|    price_pct_change|\n",
      "+------------------+--------------------+-------------------+---------------+------+----------------+--------------------+--------------------+\n",
      "|000000001000054054|     ESSZIMMERTISCHE|                mto|            DDP|329.99|         -0.8534|              0.1496|-14.000000000000002%|\n",
      "|000000001000137922|              BETTEN|               laso|            EXW|629.99|          -1.952|              0.6018|-14.000000000000002%|\n",
      "|000000001000007431|ESSZIMMERSTÜHLE&B...|               laso|            FOB|104.99|        -18.2928|              2.4617|-14.000000000000002%|\n",
      "|000000001000048003|              WOHNEN|               laso|            DDP|349.99|         -2.7317|              0.3851|-14.000000000000002%|\n",
      "|000000001000087583|                 BAD|           dropship|            EXW|219.99|         -1.5979|              0.4264|-14.000000000000002%|\n",
      "|000000001000121623|   SCHLAFZIMMERMÖBEL|            riskshs|            DDP|479.99|         -1.5505|               0.476|-14.000000000000002%|\n",
      "|000000001000213909|              BETTEN|            riskshs|            DDP|549.99|         -1.8091|              0.3045|-14.000000000000002%|\n",
      "|000000001000008070|           FLURMÖBEL|               laso|            FOB|249.99|         -3.2426|              0.3129|-14.000000000000002%|\n",
      "|000000001000016131|ESSZIMMERSTÜHLE&B...|               laso|            FOB|139.99|         -6.4414|              1.5081|-14.000000000000002%|\n",
      "|000000001000054039|     ESSZIMMERTISCHE|                mto|            DDP|449.99|         -0.7547|              0.1918|-14.000000000000002%|\n",
      "|000000001000118217|              GARTEN|               laso|            FOB| 74.99|         -4.2246|              1.0301|-14.000000000000002%|\n",
      "|000000001000129691|                 BAD|           dropship|            DDP|214.99|         -2.2732|              0.2517|-14.000000000000002%|\n",
      "|000000001000159195|           FLURMÖBEL|            riskshs|            DDP|369.99|         -1.6962|               0.212|-14.000000000000002%|\n",
      "|000000001000168996|              WOHNEN|            riskshs|            DDP| 890.0|         -3.1573|              0.4131|-14.000000000000002%|\n",
      "|000000001000178071|              WOHNEN|                tto|            FOB|749.99|         -1.8331|              0.4077|-14.000000000000002%|\n",
      "|000000001000008581|              WOHNEN|               laso|            FOB|649.99|         -2.6323|               0.465|-14.000000000000002%|\n",
      "|000000001000117722|            LEUCHTEN|               laso|            FOB| 69.99|         -4.0223|              1.0236|-14.000000000000002%|\n",
      "|000000001000006343|             POLSTER|               laso|            FOB|429.99|         -1.1313|              0.3417|-14.000000000000002%|\n",
      "|000000001000006755|              WOHNEN|               laso|            FOB|379.99|         -1.5103|              0.2308|-14.000000000000002%|\n",
      "|000000001000016135|ESSZIMMERSTÜHLE&B...|               laso|            FOB|399.99|         -7.6895|               1.673|-14.000000000000002%|\n",
      "+------------------+--------------------+-------------------+---------------+------+----------------+--------------------+--------------------+\n",
      "only showing top 20 rows\n",
      "\n"
     ]
    }
   ],
   "source": [
    "df_captain_ready.show()\n",
    "\n",
    "#df_list_top_seller.show()\n",
    "\n"
   ],
   "metadata": {
    "collapsed": false,
    "pycharm": {
     "name": "#%%\n"
    }
   }
  },
  {
   "cell_type": "code",
   "execution_count": null,
   "outputs": [],
   "source": [
    "#df_item_visits_df.show()"
   ],
   "metadata": {
    "collapsed": false,
    "pycharm": {
     "name": "#%%\n"
    }
   }
  },
  {
   "cell_type": "code",
   "execution_count": 15,
   "outputs": [],
   "source": [
    "\n",
    "pd_captain = df_captain_ready.toPandas()"
   ],
   "metadata": {
    "collapsed": false,
    "pycharm": {
     "name": "#%%\n"
    }
   }
  },
  {
   "cell_type": "code",
   "execution_count": 16,
   "outputs": [],
   "source": [
    "pd_captain.to_csv('/Users/gabriele.sabato/PycharmProjects/raw_data/DataFrames/Fixed_increment_14_pct_captain_ready_202106.csv')\n",
    "\n",
    "\n"
   ],
   "metadata": {
    "collapsed": false,
    "pycharm": {
     "name": "#%%\n"
    }
   }
  }
 ],
 "metadata": {
  "kernelspec": {
   "display_name": "Python 3",
   "language": "python",
   "name": "python3"
  },
  "language_info": {
   "codemirror_mode": {
    "name": "ipython",
    "version": 3
   },
   "file_extension": ".py",
   "mimetype": "text/x-python",
   "name": "python",
   "nbconvert_exporter": "python",
   "pygments_lexer": "ipython3",
   "version": "3.8.5"
  }
 },
 "nbformat": 4,
 "nbformat_minor": 1
}