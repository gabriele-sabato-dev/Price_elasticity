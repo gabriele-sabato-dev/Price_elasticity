{
 "cells": [
  {
   "cell_type": "code",
   "execution_count": 2,
   "metadata": {
    "pycharm": {
     "name": "#%%\n"
    }
   },
   "outputs": [],
   "source": [
    "#IMPORTING scikit packages\n",
    "import sklearn as sk\n",
    "from sklearn.model_selection import train_test_split\n",
    "from sklearn.model_selection import TimeSeriesSplit\n",
    "from sklearn.model_selection import cross_val_score\n",
    "from sklearn.metrics import classification_report\n",
    "from sklearn.linear_model import LinearRegression\n",
    "\n",
    "import statsmodels.api as sm\n",
    "import statsmodels.formula.api as smf\n",
    "from scipy import stats\n",
    "from statsmodels.sandbox.regression.predstd import wls_prediction_std"
   ]
  },
  {
   "cell_type": "code",
   "execution_count": 11,
   "metadata": {
    "pycharm": {
     "name": "#%%\n"
    }
   },
   "outputs": [
    {
     "data": {
      "text/plain": "<IPython.core.display.HTML object>",
      "text/html": "<style>.container { width:100% !important; }</style>"
     },
     "metadata": {},
     "output_type": "display_data"
    }
   ],
   "source": [
    "#IMPORTING SETUP PACKAGES\n",
    "import pickle\n",
    "import os.path\n",
    "import os\n",
    "import pandas as pd\n",
    "import numpy as np\n",
    "\n",
    "import psycopg2\n",
    "import timeit\n",
    "from datetime import datetime, timedelta, date\n",
    "import datetime as dt\n",
    "from calendar import monthrange\n",
    "import random\n",
    "import io\n",
    "import boto3\n",
    "import pyarrow as pa\n",
    "import pyarrow.parquet as pq\n",
    "\n",
    "from s3fs.core import S3FileSystem\n",
    "\n",
    "import s3fs\n",
    "\n",
    "\n",
    "%matplotlib inline\n",
    "import matplotlib.pyplot as plt\n",
    "plt.style.use('seaborn-whitegrid')\n",
    "\n",
    "from IPython.core.display import display, HTML\n",
    "display(HTML(\"<style>.container { width:100% !important; }</style>\"))\n",
    "\n",
    "pd.set_option('display.max_rows', 500)"
   ]
  },
  {
   "cell_type": "code",
   "execution_count": 12,
   "metadata": {
    "pycharm": {
     "name": "#%%\n"
    }
   },
   "outputs": [],
   "source": [
    "df = pd.read_pickle('/Users/gabriele.sabato/PycharmProjects/raw_data/DataFrames/Top_seller_YTD_group_by.pickle')\n",
    "\n",
    "df\n",
    "\n",
    "df_no_group = pd.read_pickle('/Users/gabriele.sabato/PycharmProjects/raw_data/DataFrames/Top_seller_YTD.pickle')"
   ]
  },
  {
   "cell_type": "code",
   "execution_count": 13,
   "metadata": {
    "pycharm": {
     "name": "#%%\n"
    }
   },
   "outputs": [
    {
     "name": "stdout",
     "output_type": "stream",
     "text": [
      "min_date                  object\n",
      "max_date                  object\n",
      "item_code                 object\n",
      "item_price               float64\n",
      "delivery_weeks             int64\n",
      "avg(sales)               float64\n",
      "bin                        int32\n",
      "item_parent_item_code     object\n",
      "item_main_category        object\n",
      "item_sub_category_1       object\n",
      "item_sub_category_2       object\n",
      "log_price                float64\n",
      "log_delivery_weeks       float64\n",
      "log_sales                float64\n",
      "dtype: object\n",
      "item_code                 object\n",
      "update_date               object\n",
      "item_price               float64\n",
      "delivery_weeks             int64\n",
      "sales                      int64\n",
      "item_parent_item_code     object\n",
      "item_main_category        object\n",
      "item_sub_category_1       object\n",
      "item_sub_category_2       object\n",
      "log_price                float64\n",
      "log_delivery_weeks       float64\n",
      "log_sales                float64\n",
      "dtype: object\n"
     ]
    }
   ],
   "source": [
    "print(df.dtypes)\n",
    "print(df_no_group.dtypes)"
   ]
  },
  {
   "cell_type": "code",
   "execution_count": 20,
   "outputs": [
    {
     "name": "stdout",
     "output_type": "stream",
     "text": [
      "                            WLS Regression Results                            \n",
      "==============================================================================\n",
      "Dep. Variable:              log_sales   R-squared:                       0.018\n",
      "Model:                            WLS   Adj. R-squared:                  0.013\n",
      "Method:                 Least Squares   F-statistic:                     3.705\n",
      "Date:                Wed, 09 Dec 2020   Prob (F-statistic):             0.0557\n",
      "Time:                        15:20:06   Log-Likelihood:                -242.57\n",
      "No. Observations:                 200   AIC:                             489.1\n",
      "Df Residuals:                     198   BIC:                             495.7\n",
      "Df Model:                           1                                         \n",
      "Covariance Type:            nonrobust                                         \n",
      "==============================================================================\n",
      "                 coef    std err          t      P>|t|      [0.025      0.975]\n",
      "------------------------------------------------------------------------------\n",
      "const          3.1408      0.396      7.922      0.000       2.359       3.923\n",
      "log_price     -0.1655      0.086     -1.925      0.056      -0.335       0.004\n",
      "==============================================================================\n",
      "Omnibus:                       81.614   Durbin-Watson:                   1.940\n",
      "Prob(Omnibus):                  0.000   Jarque-Bera (JB):              567.986\n",
      "Skew:                           1.367   Prob(JB):                    4.61e-124\n",
      "Kurtosis:                      10.790   Cond. No.                         64.4\n",
      "==============================================================================\n",
      "\n",
      "Notes:\n",
      "[1] Standard Errors assume that the covariance matrix of the errors is correctly specified.\n"
     ]
    }
   ],
   "source": [
    "X = df['log_price']\n",
    "X = sm.add_constant(X)\n",
    "wls_model_no_fe = sm.WLS(exog=X,endog=df['log_sales'], weights =df['bin'] )\n",
    "res_wls_no_fe = wls_model_no_fe.fit()\n",
    "print(res_wls_no_fe.summary())"
   ],
   "metadata": {
    "collapsed": false,
    "pycharm": {
     "name": "#%%\n"
    }
   }
  },
  {
   "cell_type": "code",
   "execution_count": 21,
   "outputs": [
    {
     "name": "stdout",
     "output_type": "stream",
     "text": [
      "                            OLS Regression Results                            \n",
      "==============================================================================\n",
      "Dep. Variable:              log_sales   R-squared:                       0.010\n",
      "Model:                            OLS   Adj. R-squared:                  0.010\n",
      "Method:                 Least Squares   F-statistic:                     32.66\n",
      "Date:                Wed, 09 Dec 2020   Prob (F-statistic):           1.20e-08\n",
      "Time:                        15:20:10   Log-Likelihood:                -3606.1\n",
      "No. Observations:                3230   AIC:                             7216.\n",
      "Df Residuals:                    3228   BIC:                             7228.\n",
      "Df Model:                           1                                         \n",
      "Covariance Type:            nonrobust                                         \n",
      "==============================================================================\n",
      "                 coef    std err          t      P>|t|      [0.025      0.975]\n",
      "------------------------------------------------------------------------------\n",
      "Intercept      3.2323      0.176     18.360      0.000       2.887       3.578\n",
      "log_price     -0.2177      0.038     -5.715      0.000      -0.292      -0.143\n",
      "==============================================================================\n",
      "Omnibus:                      246.952   Durbin-Watson:                   1.714\n",
      "Prob(Omnibus):                  0.000   Jarque-Bera (JB):              327.716\n",
      "Skew:                          -0.662   Prob(JB):                     6.88e-72\n",
      "Kurtosis:                       3.827   Cond. No.                         65.5\n",
      "==============================================================================\n",
      "\n",
      "Notes:\n",
      "[1] Standard Errors assume that the covariance matrix of the errors is correctly specified.\n"
     ]
    }
   ],
   "source": [
    "reg_model_no_fe = smf.ols(\"log_sales ~ log_price\",df_no_group).fit()\n",
    "print(reg_model_no_fe.summary())\n"
   ],
   "metadata": {
    "collapsed": false,
    "pycharm": {
     "name": "#%%\n"
    }
   }
  },
  {
   "cell_type": "code",
   "execution_count": 23,
   "outputs": [
    {
     "name": "stdout",
     "output_type": "stream",
     "text": [
      "                            WLS Regression Results                            \n",
      "==============================================================================\n",
      "Dep. Variable:              log_sales   R-squared:                       0.700\n",
      "Model:                            WLS   Adj. R-squared:                  0.684\n",
      "Method:                 Least Squares   F-statistic:                     44.06\n",
      "Date:                Wed, 09 Dec 2020   Prob (F-statistic):           3.69e-44\n",
      "Time:                        15:22:33   Log-Likelihood:                -124.08\n",
      "No. Observations:                 200   AIC:                             270.2\n",
      "Df Residuals:                     189   BIC:                             306.4\n",
      "Df Model:                          10                                         \n",
      "Covariance Type:            nonrobust                                         \n",
      "======================================================================================================\n",
      "                                         coef    std err          t      P>|t|      [0.025      0.975]\n",
      "------------------------------------------------------------------------------------------------------\n",
      "Intercept                             11.8763      0.831     14.299      0.000      10.238      13.515\n",
      "C(item_code)[T.000000001000015958]     2.1805      0.194     11.234      0.000       1.798       2.563\n",
      "C(item_code)[T.000000001000015959]     1.8250      0.194      9.403      0.000       1.442       2.208\n",
      "C(item_code)[T.000000001000016019]     1.6638      0.167      9.972      0.000       1.335       1.993\n",
      "C(item_code)[T.000000001000016020]     1.7789      0.167     10.662      0.000       1.450       2.108\n",
      "C(item_code)[T.000000001000016021]     2.4905      0.167     14.924      0.000       2.161       2.820\n",
      "C(item_code)[T.000000001000016133]     2.1888      0.167     13.115      0.000       1.860       2.518\n",
      "C(item_code)[T.000000001000022573]     1.5544      0.155     10.014      0.000       1.248       1.861\n",
      "C(item_code)[T.000000001000022708]     0.5487      0.076      7.243      0.000       0.399       0.698\n",
      "C(item_code)[T.000000001000024281]     0.1551      0.077      2.012      0.046       0.003       0.307\n",
      "log_price                             -2.3785      0.205    -11.627      0.000      -2.782      -1.975\n",
      "==============================================================================\n",
      "Omnibus:                        7.604   Durbin-Watson:                   1.462\n",
      "Prob(Omnibus):                  0.022   Jarque-Bera (JB):               10.232\n",
      "Skew:                          -0.244   Prob(JB):                      0.00600\n",
      "Kurtosis:                       3.995   Cond. No.                         267.\n",
      "==============================================================================\n",
      "\n",
      "Notes:\n",
      "[1] Standard Errors assume that the covariance matrix of the errors is correctly specified.\n"
     ]
    }
   ],
   "source": [
    "wls_model_with_fe = smf.wls(\"log_sales ~ log_price + C(item_code)\", df, weights=df['bin']).fit()#+ log_delivery_weeks\n",
    "print(wls_model_with_fe.summary())\n"
   ],
   "metadata": {
    "collapsed": false,
    "pycharm": {
     "name": "#%%\n"
    }
   }
  },
  {
   "cell_type": "code",
   "execution_count": 24,
   "outputs": [
    {
     "name": "stdout",
     "output_type": "stream",
     "text": [
      "                            OLS Regression Results                            \n",
      "==============================================================================\n",
      "Dep. Variable:              log_sales   R-squared:                       0.269\n",
      "Model:                            OLS   Adj. R-squared:                  0.266\n",
      "Method:                 Least Squares   F-statistic:                     118.2\n",
      "Date:                Wed, 09 Dec 2020   Prob (F-statistic):          3.26e-210\n",
      "Time:                        15:22:50   Log-Likelihood:                -3117.2\n",
      "No. Observations:                3230   AIC:                             6256.\n",
      "Df Residuals:                    3219   BIC:                             6323.\n",
      "Df Model:                          10                                         \n",
      "Covariance Type:            nonrobust                                         \n",
      "======================================================================================================\n",
      "                                         coef    std err          t      P>|t|      [0.025      0.975]\n",
      "------------------------------------------------------------------------------------------------------\n",
      "Intercept                             13.1447      0.563     23.351      0.000      12.041      14.248\n",
      "C(item_code)[T.000000001000015958]     2.4728      0.129     19.102      0.000       2.219       2.727\n",
      "C(item_code)[T.000000001000015959]     2.0760      0.129     16.038      0.000       1.822       2.330\n",
      "C(item_code)[T.000000001000016019]     1.8124      0.111     16.300      0.000       1.594       2.030\n",
      "C(item_code)[T.000000001000016020]     2.0127      0.111     18.102      0.000       1.795       2.231\n",
      "C(item_code)[T.000000001000016021]     2.7550      0.111     24.771      0.000       2.537       2.973\n",
      "C(item_code)[T.000000001000016133]     2.4459      0.111     21.991      0.000       2.228       2.664\n",
      "C(item_code)[T.000000001000022573]     1.7900      0.103     17.309      0.000       1.587       1.993\n",
      "C(item_code)[T.000000001000022708]     0.6123      0.050     12.139      0.000       0.513       0.711\n",
      "C(item_code)[T.000000001000024281]     0.2203      0.051      4.292      0.000       0.120       0.321\n",
      "log_price                             -2.7203      0.138    -19.704      0.000      -2.991      -2.450\n",
      "==============================================================================\n",
      "Omnibus:                      397.806   Durbin-Watson:                   1.629\n",
      "Prob(Omnibus):                  0.000   Jarque-Bera (JB):              659.736\n",
      "Skew:                          -0.842   Prob(JB):                    5.50e-144\n",
      "Kurtosis:                       4.438   Cond. No.                         271.\n",
      "==============================================================================\n",
      "\n",
      "Notes:\n",
      "[1] Standard Errors assume that the covariance matrix of the errors is correctly specified.\n"
     ]
    }
   ],
   "source": [
    "reg_model_with_fe = smf.ols(\"log_sales ~ log_price + C(item_code)\", df_no_group).fit()\n",
    "print(reg_model_with_fe.summary())\n",
    "\n"
   ],
   "metadata": {
    "collapsed": false,
    "pycharm": {
     "name": "#%%\n"
    }
   }
  },
  {
   "cell_type": "code",
   "execution_count": 25,
   "outputs": [
    {
     "name": "stdout",
     "output_type": "stream",
     "text": [
      "                            WLS Regression Results                            \n",
      "==============================================================================\n",
      "Dep. Variable:              log_sales   R-squared:                       0.747\n",
      "Model:                            WLS   Adj. R-squared:                  0.733\n",
      "Method:                 Least Squares   F-statistic:                     50.55\n",
      "Date:                Wed, 09 Dec 2020   Prob (F-statistic):           3.10e-50\n",
      "Time:                        15:27:25   Log-Likelihood:                -106.85\n",
      "No. Observations:                 200   AIC:                             237.7\n",
      "Df Residuals:                     188   BIC:                             277.3\n",
      "Df Model:                          11                                         \n",
      "Covariance Type:            nonrobust                                         \n",
      "======================================================================================================\n",
      "                                         coef    std err          t      P>|t|      [0.025      0.975]\n",
      "------------------------------------------------------------------------------------------------------\n",
      "Intercept                             12.5558      0.773     16.253      0.000      11.032      14.080\n",
      "C(item_code)[T.000000001000015958]     2.2949      0.180     12.780      0.000       1.941       2.649\n",
      "C(item_code)[T.000000001000015959]     1.9134      0.179     10.680      0.000       1.560       2.267\n",
      "C(item_code)[T.000000001000016019]     1.7412      0.154     11.305      0.000       1.437       2.045\n",
      "C(item_code)[T.000000001000016020]     1.8381      0.154     11.952      0.000       1.535       2.142\n",
      "C(item_code)[T.000000001000016021]     2.5571      0.154     16.613      0.000       2.254       2.861\n",
      "C(item_code)[T.000000001000016133]     2.3166      0.155     14.945      0.000       2.011       2.622\n",
      "C(item_code)[T.000000001000022573]     1.7644      0.147     11.996      0.000       1.474       2.055\n",
      "C(item_code)[T.000000001000022708]     0.5860      0.070      8.375      0.000       0.448       0.724\n",
      "C(item_code)[T.000000001000024281]     0.1499      0.071      2.114      0.036       0.010       0.290\n",
      "log_price                             -2.4767      0.189    -13.112      0.000      -2.849      -2.104\n",
      "log_delivery_weeks                    -0.3768      0.063     -5.947      0.000      -0.502      -0.252\n",
      "==============================================================================\n",
      "Omnibus:                       42.587   Durbin-Watson:                   1.593\n",
      "Prob(Omnibus):                  0.000   Jarque-Bera (JB):              129.775\n",
      "Skew:                          -0.849   Prob(JB):                     6.60e-29\n",
      "Kurtosis:                       6.562   Cond. No.                         274.\n",
      "==============================================================================\n",
      "\n",
      "Notes:\n",
      "[1] Standard Errors assume that the covariance matrix of the errors is correctly specified.\n"
     ]
    }
   ],
   "source": [
    "wls_model_with_fe_w_del = smf.wls(\"log_sales ~ log_price + log_delivery_weeks + C(item_code)\", df, weights=df['bin']).fit()#+ log_delivery_weeks\n",
    "print(wls_model_with_fe_w_del.summary())"
   ],
   "metadata": {
    "collapsed": false,
    "pycharm": {
     "name": "#%%\n"
    }
   }
  },
  {
   "cell_type": "code",
   "execution_count": 26,
   "outputs": [
    {
     "name": "stdout",
     "output_type": "stream",
     "text": [
      "                            OLS Regression Results                            \n",
      "==============================================================================\n",
      "Dep. Variable:              log_sales   R-squared:                       0.281\n",
      "Model:                            OLS   Adj. R-squared:                  0.279\n",
      "Method:                 Least Squares   F-statistic:                     114.6\n",
      "Date:                Wed, 09 Dec 2020   Prob (F-statistic):          2.02e-221\n",
      "Time:                        15:27:33   Log-Likelihood:                -3088.6\n",
      "No. Observations:                3230   AIC:                             6201.\n",
      "Df Residuals:                    3218   BIC:                             6274.\n",
      "Df Model:                          11                                         \n",
      "Covariance Type:            nonrobust                                         \n",
      "======================================================================================================\n",
      "                                         coef    std err          t      P>|t|      [0.025      0.975]\n",
      "------------------------------------------------------------------------------------------------------\n",
      "Intercept                             13.7730      0.564     24.412      0.000      12.667      14.879\n",
      "C(item_code)[T.000000001000015958]     2.5776      0.129     19.970      0.000       2.324       2.831\n",
      "C(item_code)[T.000000001000015959]     2.1571      0.129     16.751      0.000       1.905       2.410\n",
      "C(item_code)[T.000000001000016019]     1.8833      0.111     17.025      0.000       1.666       2.100\n",
      "C(item_code)[T.000000001000016020]     2.0671      0.110     18.713      0.000       1.850       2.284\n",
      "C(item_code)[T.000000001000016021]     2.8160      0.111     25.472      0.000       2.599       3.033\n",
      "C(item_code)[T.000000001000016133]     2.5629      0.111     23.019      0.000       2.345       2.781\n",
      "C(item_code)[T.000000001000022573]     1.9821      0.106     18.768      0.000       1.775       2.189\n",
      "C(item_code)[T.000000001000022708]     0.6464      0.050     12.874      0.000       0.548       0.745\n",
      "C(item_code)[T.000000001000024281]     0.2156      0.051      4.236      0.000       0.116       0.315\n",
      "log_price                             -2.8114      0.137    -20.463      0.000      -3.081      -2.542\n",
      "log_delivery_weeks                    -0.3444      0.045     -7.574      0.000      -0.434      -0.255\n",
      "==============================================================================\n",
      "Omnibus:                      416.935   Durbin-Watson:                   1.632\n",
      "Prob(Omnibus):                  0.000   Jarque-Bera (JB):              724.449\n",
      "Skew:                          -0.855   Prob(JB):                    4.87e-158\n",
      "Kurtosis:                       4.568   Cond. No.                         278.\n",
      "==============================================================================\n",
      "\n",
      "Notes:\n",
      "[1] Standard Errors assume that the covariance matrix of the errors is correctly specified.\n"
     ]
    }
   ],
   "source": [
    "reg_model_with_fe_w_del = smf.ols(\"log_sales ~ log_price + + log_delivery_weeks + C(item_code)\", df_no_group).fit()\n",
    "print(reg_model_with_fe_w_del.summary())\n"
   ],
   "metadata": {
    "collapsed": false,
    "pycharm": {
     "name": "#%%\n"
    }
   }
  },
  {
   "cell_type": "code",
   "execution_count": null,
   "outputs": [],
   "source": [],
   "metadata": {
    "collapsed": false,
    "pycharm": {
     "name": "#%%\n"
    }
   }
  }
 ],
 "metadata": {
  "kernelspec": {
   "display_name": "Python 3",
   "language": "python",
   "name": "python3"
  },
  "language_info": {
   "codemirror_mode": {
    "name": "ipython",
    "version": 3
   },
   "file_extension": ".py",
   "mimetype": "text/x-python",
   "name": "python",
   "nbconvert_exporter": "python",
   "pygments_lexer": "ipython3",
   "version": "3.8.5"
  }
 },
 "nbformat": 4,
 "nbformat_minor": 1
}