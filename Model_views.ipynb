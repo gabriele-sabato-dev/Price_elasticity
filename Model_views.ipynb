{
 "cells": [
  {
   "cell_type": "code",
   "execution_count": 1,
   "metadata": {
    "pycharm": {
     "name": "#%%\n"
    }
   },
   "outputs": [],
   "source": [
    "\n",
    "from pyspark.sql import SparkSession\n",
    "#from pyspark.sql.functions import *\n",
    "spark = SparkSession.builder.master('local').config('spark.driver.memory', '8g').appName('Ready_for_analysis').getOrCreate()\n",
    "\n"
   ]
  },
  {
   "cell_type": "code",
   "execution_count": 2,
   "metadata": {
    "pycharm": {
     "name": "#%%\n"
    }
   },
   "outputs": [
    {
     "data": {
      "text/plain": "<IPython.core.display.HTML object>",
      "text/html": "<style>.container { width:100% !important; }</style>"
     },
     "metadata": {},
     "output_type": "display_data"
    }
   ],
   "source": [
    "\n",
    "#IMPORTING SETUP PACKAGES\n",
    "import statsmodels.formula.api as smf\n",
    "import pandas as pd\n",
    "import numpy as np\n",
    "\n",
    "%matplotlib inline\n",
    "import matplotlib.pyplot as plt\n",
    "plt.style.use('seaborn-whitegrid')\n",
    "\n",
    "from IPython.core.display import display, HTML\n",
    "display(HTML(\"<style>.container { width:100% !important; }</style>\"))\n",
    "\n",
    "pd.set_option('display.max_rows', 500)\n",
    "\n"
   ]
  },
  {
   "cell_type": "code",
   "execution_count": 3,
   "metadata": {
    "pycharm": {
     "name": "#%%\n"
    }
   },
   "outputs": [],
   "source": [
    "number_of_top_items = '5000'\n",
    "plot_name = number_of_top_items[0] + 'k'\n",
    "\n",
    "#print(plot_name)\n",
    "\n",
    "df = pd.read_pickle('/Users/gabriele.sabato/PycharmProjects/raw_data/DataFrames/Top'+number_of_top_items+'_seller_YTD_group_by_item_visit_20210226.pickle')\n"
   ]
  },
  {
   "cell_type": "code",
   "execution_count": 4,
   "metadata": {
    "pycharm": {
     "name": "#%%q\n"
    }
   },
   "outputs": [],
   "source": [
    "#print(df.item_code.nunique())\n",
    "\n",
    "\n",
    "df['log_avg_unique_views']= np.log(df['avg_unique_views'])"
   ]
  },
  {
   "cell_type": "code",
   "execution_count": 5,
   "metadata": {
    "pycharm": {
     "name": "#%%\n"
    }
   },
   "outputs": [
    {
     "data": {
      "text/plain": "     min_date    max_date           item_code  item_price  delivery_weeks  \\\n0  2020-01-01  2020-05-23  000000001000012530       99.99               1   \n1  2020-01-01  2020-01-02  000000001000012794      219.99               2   \n2  2020-01-01  2020-03-13  000000001000021922      129.99               2   \n3  2020-01-01  2020-01-01  000000001000022179      549.99               3   \n4  2020-01-01  2020-01-01  000000001000024320       99.99               1   \n\n   avg_sales  avg_unique_views  conv_rate  bin item_parent_item_code  \\\n0   0.520833         35.743056   0.014573  144    000000008000000774   \n1   0.000000         27.000000   0.000001    2    000000008000000826   \n2   1.589041        147.191781   0.010797   73  000000001000021922-P   \n3   0.000000         50.000000   0.000001    1    000000008000001920   \n4   0.000000          8.000000   0.000001    1    000000008000002133   \n\n      item_main_category item_sub_category_1       item_sub_category_2  \\\n0  ESSZIMMERSTÜHLE&BÄNKE               BÄNKE                     BÄNKE   \n1                 BETTEN        BETTGESTELLE          MASSIVHOLZBETTEN   \n2                    BAD         BADSCHRÄNKE  WASCHBECKENUNTERSCHRÄNKE   \n3                 BETTEN        BETTGESTELLE             POLSTERBETTEN   \n4  MATRATZEN&LATTENROSTE           MATRATZEN       KALTSCHAUMMATRATZEN   \n\n   log_price  log_delivery_weeks  log_sales  log_avg_unique_views  \\\n0   4.605071            0.000100  -0.652133              3.576356   \n1   5.393583            0.693197  -9.210340              3.295837   \n2   4.867458            0.693197   0.463194              4.991736   \n3   6.309900            1.098646  -9.210340              3.912023   \n4   4.605071            0.000100  -9.210340              2.079442   \n\n   log_conv_rate  \n0      -4.221842  \n1      -9.210340  \n2      -4.519385  \n3      -9.210340  \n4      -9.210340  ",
      "text/html": "<div>\n<style scoped>\n    .dataframe tbody tr th:only-of-type {\n        vertical-align: middle;\n    }\n\n    .dataframe tbody tr th {\n        vertical-align: top;\n    }\n\n    .dataframe thead th {\n        text-align: right;\n    }\n</style>\n<table border=\"1\" class=\"dataframe\">\n  <thead>\n    <tr style=\"text-align: right;\">\n      <th></th>\n      <th>min_date</th>\n      <th>max_date</th>\n      <th>item_code</th>\n      <th>item_price</th>\n      <th>delivery_weeks</th>\n      <th>avg_sales</th>\n      <th>avg_unique_views</th>\n      <th>conv_rate</th>\n      <th>bin</th>\n      <th>item_parent_item_code</th>\n      <th>item_main_category</th>\n      <th>item_sub_category_1</th>\n      <th>item_sub_category_2</th>\n      <th>log_price</th>\n      <th>log_delivery_weeks</th>\n      <th>log_sales</th>\n      <th>log_avg_unique_views</th>\n      <th>log_conv_rate</th>\n    </tr>\n  </thead>\n  <tbody>\n    <tr>\n      <th>0</th>\n      <td>2020-01-01</td>\n      <td>2020-05-23</td>\n      <td>000000001000012530</td>\n      <td>99.99</td>\n      <td>1</td>\n      <td>0.520833</td>\n      <td>35.743056</td>\n      <td>0.014573</td>\n      <td>144</td>\n      <td>000000008000000774</td>\n      <td>ESSZIMMERSTÜHLE&amp;BÄNKE</td>\n      <td>BÄNKE</td>\n      <td>BÄNKE</td>\n      <td>4.605071</td>\n      <td>0.000100</td>\n      <td>-0.652133</td>\n      <td>3.576356</td>\n      <td>-4.221842</td>\n    </tr>\n    <tr>\n      <th>1</th>\n      <td>2020-01-01</td>\n      <td>2020-01-02</td>\n      <td>000000001000012794</td>\n      <td>219.99</td>\n      <td>2</td>\n      <td>0.000000</td>\n      <td>27.000000</td>\n      <td>0.000001</td>\n      <td>2</td>\n      <td>000000008000000826</td>\n      <td>BETTEN</td>\n      <td>BETTGESTELLE</td>\n      <td>MASSIVHOLZBETTEN</td>\n      <td>5.393583</td>\n      <td>0.693197</td>\n      <td>-9.210340</td>\n      <td>3.295837</td>\n      <td>-9.210340</td>\n    </tr>\n    <tr>\n      <th>2</th>\n      <td>2020-01-01</td>\n      <td>2020-03-13</td>\n      <td>000000001000021922</td>\n      <td>129.99</td>\n      <td>2</td>\n      <td>1.589041</td>\n      <td>147.191781</td>\n      <td>0.010797</td>\n      <td>73</td>\n      <td>000000001000021922-P</td>\n      <td>BAD</td>\n      <td>BADSCHRÄNKE</td>\n      <td>WASCHBECKENUNTERSCHRÄNKE</td>\n      <td>4.867458</td>\n      <td>0.693197</td>\n      <td>0.463194</td>\n      <td>4.991736</td>\n      <td>-4.519385</td>\n    </tr>\n    <tr>\n      <th>3</th>\n      <td>2020-01-01</td>\n      <td>2020-01-01</td>\n      <td>000000001000022179</td>\n      <td>549.99</td>\n      <td>3</td>\n      <td>0.000000</td>\n      <td>50.000000</td>\n      <td>0.000001</td>\n      <td>1</td>\n      <td>000000008000001920</td>\n      <td>BETTEN</td>\n      <td>BETTGESTELLE</td>\n      <td>POLSTERBETTEN</td>\n      <td>6.309900</td>\n      <td>1.098646</td>\n      <td>-9.210340</td>\n      <td>3.912023</td>\n      <td>-9.210340</td>\n    </tr>\n    <tr>\n      <th>4</th>\n      <td>2020-01-01</td>\n      <td>2020-01-01</td>\n      <td>000000001000024320</td>\n      <td>99.99</td>\n      <td>1</td>\n      <td>0.000000</td>\n      <td>8.000000</td>\n      <td>0.000001</td>\n      <td>1</td>\n      <td>000000008000002133</td>\n      <td>MATRATZEN&amp;LATTENROSTE</td>\n      <td>MATRATZEN</td>\n      <td>KALTSCHAUMMATRATZEN</td>\n      <td>4.605071</td>\n      <td>0.000100</td>\n      <td>-9.210340</td>\n      <td>2.079442</td>\n      <td>-9.210340</td>\n    </tr>\n  </tbody>\n</table>\n</div>"
     },
     "execution_count": 5,
     "metadata": {},
     "output_type": "execute_result"
    }
   ],
   "source": [
    "df.head()"
   ]
  },
  {
   "cell_type": "code",
   "execution_count": 6,
   "metadata": {
    "pycharm": {
     "name": "#%%\n"
    }
   },
   "outputs": [
    {
     "name": "stdout",
     "output_type": "stream",
     "text": [
      "min_date                  object\n",
      "max_date                  object\n",
      "item_code                 object\n",
      "item_price               float64\n",
      "delivery_weeks             int64\n",
      "avg_sales                float64\n",
      "avg_unique_views         float64\n",
      "conv_rate                float64\n",
      "bin                        int32\n",
      "item_parent_item_code     object\n",
      "item_main_category        object\n",
      "item_sub_category_1       object\n",
      "item_sub_category_2       object\n",
      "log_price                float64\n",
      "log_delivery_weeks       float64\n",
      "log_sales                float64\n",
      "log_avg_unique_views     float64\n",
      "log_conv_rate            float64\n",
      "dtype: object\n"
     ]
    }
   ],
   "source": [
    "print(df.dtypes)"
   ]
  },
  {
   "cell_type": "code",
   "execution_count": 7,
   "metadata": {
    "pycharm": {
     "name": "#%%\n"
    }
   },
   "outputs": [],
   "source": [
    "def filter_df(DF = df,bins=6, avg_PDP = 19.):\n",
    "    df_filt = DF[DF['bin'] > bins]\n",
    "    df_items = df_filt.groupby('item_code').item_price.nunique() > 1\n",
    "    df_filt  = df_filt.merge(df_items,on='item_code',how='inner')\n",
    "    df_filt  = df_filt[df_filt['item_price_y']== True]\n",
    "    #filter PDP\n",
    "    #print(df_filt)\n",
    "    df_filt = df_filt[df_filt['avg_unique_views'] > avg_PDP]\n",
    "    #print(df_filt)\n",
    "    return df_filt"
   ]
  },
  {
   "cell_type": "code",
   "execution_count": 8,
   "metadata": {
    "pycharm": {
     "name": "#%%\n"
    }
   },
   "outputs": [
    {
     "name": "stdout",
     "output_type": "stream",
     "text": [
      "4181\n"
     ]
    }
   ],
   "source": [
    "df_filt = filter_df(df)\n",
    "\n",
    "\n",
    "print(df_filt.item_code.nunique())\n"
   ]
  },
  {
   "cell_type": "code",
   "execution_count": 9,
   "metadata": {
    "pycharm": {
     "name": "#%%\n"
    }
   },
   "outputs": [],
   "source": [
    "#introducing the similarity score\n",
    "sim_score = pd.read_parquet('/Users/gabriele.sabato/PycharmProjects/raw_data/recommendations_prod/part-00000-5f77392a-0bfa-4f0b-a4ae-d816ce2d71de-c000.snappy.parquet')"
   ]
  },
  {
   "cell_type": "code",
   "execution_count": 10,
   "metadata": {
    "pycharm": {
     "name": "#%%\n"
    }
   },
   "outputs": [
    {
     "data": {
      "text/plain": "                        sku     recommended_sku     score\n0        000000001000200072  000000001000200087  0.260000\n1        000000001000200072  000000001000183538  0.216580\n2        000000001000200072  000000001000142209  0.200000\n3        000000001000200072  000000001000204906  0.190794\n4        000000001000200072  000000001000183468  0.183980\n...                     ...                 ...       ...\n3827600  000000001000064787  000000001000115010  0.203238\n3827601  000000001000064787  000000001000112641  0.201339\n3827602  000000001000064787  000000001000046204  0.200052\n3827603  000000001000064787  000000001000114086  0.199867\n3827604  000000001000064787  000000001000049726  0.199657\n\n[3827605 rows x 3 columns]",
      "text/html": "<div>\n<style scoped>\n    .dataframe tbody tr th:only-of-type {\n        vertical-align: middle;\n    }\n\n    .dataframe tbody tr th {\n        vertical-align: top;\n    }\n\n    .dataframe thead th {\n        text-align: right;\n    }\n</style>\n<table border=\"1\" class=\"dataframe\">\n  <thead>\n    <tr style=\"text-align: right;\">\n      <th></th>\n      <th>sku</th>\n      <th>recommended_sku</th>\n      <th>score</th>\n    </tr>\n  </thead>\n  <tbody>\n    <tr>\n      <th>0</th>\n      <td>000000001000200072</td>\n      <td>000000001000200087</td>\n      <td>0.260000</td>\n    </tr>\n    <tr>\n      <th>1</th>\n      <td>000000001000200072</td>\n      <td>000000001000183538</td>\n      <td>0.216580</td>\n    </tr>\n    <tr>\n      <th>2</th>\n      <td>000000001000200072</td>\n      <td>000000001000142209</td>\n      <td>0.200000</td>\n    </tr>\n    <tr>\n      <th>3</th>\n      <td>000000001000200072</td>\n      <td>000000001000204906</td>\n      <td>0.190794</td>\n    </tr>\n    <tr>\n      <th>4</th>\n      <td>000000001000200072</td>\n      <td>000000001000183468</td>\n      <td>0.183980</td>\n    </tr>\n    <tr>\n      <th>...</th>\n      <td>...</td>\n      <td>...</td>\n      <td>...</td>\n    </tr>\n    <tr>\n      <th>3827600</th>\n      <td>000000001000064787</td>\n      <td>000000001000115010</td>\n      <td>0.203238</td>\n    </tr>\n    <tr>\n      <th>3827601</th>\n      <td>000000001000064787</td>\n      <td>000000001000112641</td>\n      <td>0.201339</td>\n    </tr>\n    <tr>\n      <th>3827602</th>\n      <td>000000001000064787</td>\n      <td>000000001000046204</td>\n      <td>0.200052</td>\n    </tr>\n    <tr>\n      <th>3827603</th>\n      <td>000000001000064787</td>\n      <td>000000001000114086</td>\n      <td>0.199867</td>\n    </tr>\n    <tr>\n      <th>3827604</th>\n      <td>000000001000064787</td>\n      <td>000000001000049726</td>\n      <td>0.199657</td>\n    </tr>\n  </tbody>\n</table>\n<p>3827605 rows × 3 columns</p>\n</div>"
     },
     "execution_count": 10,
     "metadata": {},
     "output_type": "execute_result"
    }
   ],
   "source": [
    "sim_score"
   ]
  },
  {
   "cell_type": "code",
   "execution_count": 11,
   "metadata": {
    "pycharm": {
     "name": "#%%\n"
    }
   },
   "outputs": [
    {
     "data": {
      "text/plain": "                        sku     recommended_sku     score\n780      000000001000135008  000000001000135012  0.881024\n781      000000001000135008  000000001000121202  0.715546\n782      000000001000135008  000000001000167468  0.633481\n783      000000001000135008  000000001000166799  0.564164\n784      000000001000135008  000000001000208980  0.544883\n...                     ...                 ...       ...\n3827360  000000001000176744  000000001000171107  0.339302\n3827361  000000001000176744  000000001000163202  0.335340\n3827362  000000001000176744  000000001000163190  0.327887\n3827363  000000001000176744  000000001000176438  0.324293\n3827364  000000001000176744  000000001000171374  0.290227\n\n[82714 rows x 3 columns]",
      "text/html": "<div>\n<style scoped>\n    .dataframe tbody tr th:only-of-type {\n        vertical-align: middle;\n    }\n\n    .dataframe tbody tr th {\n        vertical-align: top;\n    }\n\n    .dataframe thead th {\n        text-align: right;\n    }\n</style>\n<table border=\"1\" class=\"dataframe\">\n  <thead>\n    <tr style=\"text-align: right;\">\n      <th></th>\n      <th>sku</th>\n      <th>recommended_sku</th>\n      <th>score</th>\n    </tr>\n  </thead>\n  <tbody>\n    <tr>\n      <th>780</th>\n      <td>000000001000135008</td>\n      <td>000000001000135012</td>\n      <td>0.881024</td>\n    </tr>\n    <tr>\n      <th>781</th>\n      <td>000000001000135008</td>\n      <td>000000001000121202</td>\n      <td>0.715546</td>\n    </tr>\n    <tr>\n      <th>782</th>\n      <td>000000001000135008</td>\n      <td>000000001000167468</td>\n      <td>0.633481</td>\n    </tr>\n    <tr>\n      <th>783</th>\n      <td>000000001000135008</td>\n      <td>000000001000166799</td>\n      <td>0.564164</td>\n    </tr>\n    <tr>\n      <th>784</th>\n      <td>000000001000135008</td>\n      <td>000000001000208980</td>\n      <td>0.544883</td>\n    </tr>\n    <tr>\n      <th>...</th>\n      <td>...</td>\n      <td>...</td>\n      <td>...</td>\n    </tr>\n    <tr>\n      <th>3827360</th>\n      <td>000000001000176744</td>\n      <td>000000001000171107</td>\n      <td>0.339302</td>\n    </tr>\n    <tr>\n      <th>3827361</th>\n      <td>000000001000176744</td>\n      <td>000000001000163202</td>\n      <td>0.335340</td>\n    </tr>\n    <tr>\n      <th>3827362</th>\n      <td>000000001000176744</td>\n      <td>000000001000163190</td>\n      <td>0.327887</td>\n    </tr>\n    <tr>\n      <th>3827363</th>\n      <td>000000001000176744</td>\n      <td>000000001000176438</td>\n      <td>0.324293</td>\n    </tr>\n    <tr>\n      <th>3827364</th>\n      <td>000000001000176744</td>\n      <td>000000001000171374</td>\n      <td>0.290227</td>\n    </tr>\n  </tbody>\n</table>\n<p>82714 rows × 3 columns</p>\n</div>"
     },
     "execution_count": 11,
     "metadata": {},
     "output_type": "execute_result"
    }
   ],
   "source": [
    "# Filter table with only topX item_code\n",
    "\n",
    "unique_item_codes = list(df_filt.item_code.unique())\n",
    "\n",
    "\n",
    "sim_score_filt = sim_score[sim_score['sku'].isin(unique_item_codes)]\n",
    "\n",
    "sim_score_filt"
   ]
  },
  {
   "cell_type": "code",
   "execution_count": 12,
   "metadata": {
    "pycharm": {
     "name": "#%%\n"
    }
   },
   "outputs": [],
   "source": [
    "#Create a map with X subset for X linear fit:\n",
    "\n",
    "def create_map(list_of_items = unique_item_codes , df=sim_score_filt, score_cut = 0.):\n",
    "    map_of_items = {}\n",
    "    for item_code in list_of_items:\n",
    "        df_mod = df[df['sku'] == item_code]\n",
    "        df_score_filt = df_mod[df_mod['score'] > score_cut]\n",
    "        final_set_sku = list(df_score_filt.recommended_sku)\n",
    "        final_set_sku.insert(0,item_code)\n",
    "        map_of_items[item_code] = final_set_sku\n",
    "    #print(map_of_items)\n",
    "    return map_of_items\n"
   ]
  },
  {
   "cell_type": "code",
   "execution_count": 13,
   "metadata": {
    "pycharm": {
     "name": "#%%\n"
    }
   },
   "outputs": [],
   "source": [
    "sim_score_bin = [0.16]#0.3,0.4,0.5,0.6,0.7,0.8,0.9]\n",
    "\n",
    "\n"
   ]
  },
  {
   "cell_type": "code",
   "execution_count": 14,
   "metadata": {
    "pycharm": {
     "name": "#%%\n"
    }
   },
   "outputs": [],
   "source": [
    "map_of_map_of_items = {}\n",
    "for sim_score_i in sim_score_bin:\n",
    "    Map_of_Items = create_map(score_cut = sim_score_i)\n",
    "    map_of_map_of_items[str(sim_score_i)] = Map_of_Items\n",
    "#print(map_of_map_of_items)"
   ]
  },
  {
   "cell_type": "code",
   "execution_count": 15,
   "metadata": {
    "pycharm": {
     "name": "#%%\n"
    }
   },
   "outputs": [],
   "source": [
    "#load greater dataset\n",
    "largest_dataset = '/Users/gabriele.sabato/PycharmProjects/raw_data/DataFrames/All_catalogue_seller_YTD_group_by_item_visit_20210226.pickle'\n",
    "\n",
    "#df_k = pd.read_pickle(dataset10k)\n",
    "df_k = pd.read_pickle(largest_dataset)"
   ]
  },
  {
   "cell_type": "code",
   "execution_count": 16,
   "metadata": {
    "pycharm": {
     "name": "#%%\n"
    }
   },
   "outputs": [],
   "source": [
    "PDP_bin = [19]#,30,40,50]"
   ]
  },
  {
   "cell_type": "code",
   "execution_count": 17,
   "metadata": {
    "pycharm": {
     "name": "#%%\n"
    }
   },
   "outputs": [],
   "source": [
    "df_PDP_bin_filt = {}\n",
    "for PDP_view in PDP_bin:\n",
    "    df_k_filt = filter_df(df_k, avg_PDP= PDP_view)\n",
    "    df_PDP_bin_filt[PDP_view] = df_k_filt\n",
    "    #print(df_k_filt)\n",
    "\n",
    "#print(df_PDP_bin_filt)\n"
   ]
  },
  {
   "cell_type": "code",
   "execution_count": 18,
   "metadata": {
    "pycharm": {
     "name": "#%%\n"
    }
   },
   "outputs": [],
   "source": [
    "def create_map_of_dataframes(items_map = Map_of_Items,df=df_filt):\n",
    "    map_of_df = {}\n",
    "    for key in items_map.keys():\n",
    "        items  = items_map[key]\n",
    "        #print(f'Item_code = {key}')\n",
    "\n",
    "        df_mod = df[df['item_code'].isin(items)]\n",
    "        #\n",
    "        #print(f'Number of items per cluster {df_mod.item_code.nunique()}')\n",
    "        map_of_df[key]= df_mod\n",
    "    return map_of_df\n",
    "\n"
   ]
  },
  {
   "cell_type": "code",
   "execution_count": 19,
   "metadata": {
    "pycharm": {
     "name": "#%%\n"
    }
   },
   "outputs": [],
   "source": [
    "import numpy as np\n",
    "def run_model(item_code, df, map_results):\n",
    "    #print('\\n')\n",
    "    wls_cr_with_fe = smf.wls(\"log_avg_unique_views ~ log_price + log_delivery_weeks + C(item_code)\", df, weights=df['bin']).fit()\n",
    "    wls_cr_with_fe.summary()\n",
    "    beta_log_price, beta_std_err_log_price = wls_cr_with_fe.params[-2].round(4),wls_cr_with_fe.bse[-2].round(4)\n",
    "    beta_log_del, beta_std_err_log_del = wls_cr_with_fe.params[-1].round(4),wls_cr_with_fe.bse[-1].round(4)\n",
    "    Result_log_price = 'Log_price  = ' + str(beta_log_price) + ' ± ' + str(beta_std_err_log_price)\n",
    "    Result_log_del = 'Log_del_week = ' + str(beta_log_del) + ' ± ' + str(beta_std_err_log_del)\n",
    "    flag_stat_ok = False\n",
    "    if beta_log_price != 0 :\n",
    "        flag_stat_ok = np.fabs((3*beta_std_err_log_price)/beta_log_price) < 1.\n",
    "    #flag_stat_ok = fabs(beta_std_err_log_price/beta_log_price)\n",
    "\n",
    "    if flag_stat_ok:\n",
    "        #print(f'Enough statistics for the item = {item_code}')\n",
    "        #print(Result_log_price)\n",
    "        #print(Result_log_del)\n",
    "        map_results[item_code] = [beta_log_price, beta_std_err_log_price, beta_log_del,beta_std_err_log_del, df.item_code.nunique(), True]\n",
    "        #print(map_results[item_code])\n",
    "        return True\n",
    "    else:\n",
    "        #print(f'Not enough statistics for the item = {item_code}')\n",
    "        #print(Result_log_price)\n",
    "        #print(Result_log_del)\n",
    "        map_results[item_code] = [beta_log_price, beta_std_err_log_price, beta_log_del,beta_std_err_log_del, df.item_code.nunique(), False]\n",
    "        #print(map_results[item_code])\n",
    "        return False\n"
   ]
  },
  {
   "cell_type": "code",
   "execution_count": 20,
   "metadata": {
    "pycharm": {
     "name": "#%%\n"
    }
   },
   "outputs": [
    {
     "name": "stdout",
     "output_type": "stream",
     "text": [
      "Number of items passing the PE cut 4181\n",
      "                    View_PE  View_PE_err  log_del_week  log_del_week_err  \\\n",
      "000000001000012530  -1.6265       0.4565        0.0928            0.0298   \n",
      "000000001000021922  -1.0147       0.1548       -0.0429            0.0294   \n",
      "000000001000034762  -1.3782       0.3497       -0.0082            0.0724   \n",
      "000000001000125896  -1.6598       0.3366       -0.0819            0.0510   \n",
      "000000001000199717  -0.1353       0.6411        0.1802            0.0459   \n",
      "000000001000005727  -0.9853       0.2722        0.1099            0.0321   \n",
      "000000001000007327  -0.3818       0.4126        0.0850            0.0641   \n",
      "000000001000007822  -2.5172       0.8027        0.1204            0.0611   \n",
      "000000001000016194  -0.6809       0.7536        0.0858            0.0695   \n",
      "000000001000022565  -4.4744       1.5870       -0.2397            0.2133   \n",
      "000000001000050787  -2.9477       0.6452       -0.3324            0.1266   \n",
      "000000001000116614  -1.0357       0.3534       -0.0033            0.0326   \n",
      "000000001000117179   1.4832       0.6877        0.1591            0.0317   \n",
      "000000001000164660  -0.8939       0.4596        0.1648            0.0336   \n",
      "000000001000176734  -1.2500       0.3075        0.0993            0.0268   \n",
      "000000001000178079   0.4156       0.7482        0.1213            0.0251   \n",
      "000000001000183575  -1.0279       0.4017        0.0135            0.0465   \n",
      "000000001000008470  -2.7069       0.4026        0.0088            0.0389   \n",
      "000000001000064521  -2.2938       0.3980        0.0207            0.0531   \n",
      "000000001000084258  -2.7170       0.8518        0.1565            0.0892   \n",
      "000000001000124600   0.0471       0.3819        0.1195            0.0210   \n",
      "000000001000159178  -1.1386       0.4684        0.0813            0.0283   \n",
      "000000001000174312  -1.2590       0.2926        0.1819            0.0181   \n",
      "000000001000174905  -0.3176       0.3859       -0.0132            0.0560   \n",
      "000000001000176716  -1.0175       0.3118        0.1112            0.0236   \n",
      "000000001000008827  -0.6919       0.2840        0.0813            0.0236   \n",
      "000000001000012659  -1.4915       0.5638        0.1359            0.0354   \n",
      "000000001000012817  -2.0970       0.4081        0.1071            0.0186   \n",
      "000000001000016080  -0.7705       0.3815        0.0722            0.0343   \n",
      "000000001000022615  -1.0716       0.2736        0.0784            0.1092   \n",
      "000000001000027423  -1.0109       0.3537       -0.0585            0.0409   \n",
      "000000001000032520  -1.1360       0.2173       -0.5171            0.1140   \n",
      "000000001000039244  -1.0041       0.8538       -0.1564            0.1698   \n",
      "000000001000053564   0.1757       0.4538        0.2802            0.1136   \n",
      "000000001000054998  -1.4319       0.8551       -0.0679            0.1109   \n",
      "000000001000091265  -0.6968       0.2345        0.0174            0.0616   \n",
      "000000001000156992  -1.3615       0.2583        0.1592            0.0279   \n",
      "000000001000199454  -1.1280       0.1917       -0.1792            0.1129   \n",
      "000000001000008474  -2.2808       0.4922        0.0680            0.0339   \n",
      "000000001000008491  -1.0576       0.4656        0.0976            0.0355   \n",
      "000000001000012742  -1.1646       0.4378        0.1783            0.0197   \n",
      "000000001000031008  -1.2632       0.6112        0.3650            0.0572   \n",
      "000000001000073238   0.3169       0.5770        0.0864            0.0773   \n",
      "000000001000076760  -0.8651       0.4838       -0.0582            0.0750   \n",
      "000000001000113331   1.7261       0.8294       -0.0624            0.0664   \n",
      "000000001000119830  -1.5390       0.4649       -0.0541            0.0469   \n",
      "000000001000166806  -2.7655       0.5702        0.1181            0.0235   \n",
      "000000001000167289  -2.1573       0.4211        0.1261            0.0179   \n",
      "000000001000191237  -1.3830       0.3364        0.1744            0.0186   \n",
      "000000001000007325  -0.6567       0.4261        0.0610            0.0328   \n",
      "000000001000015512  -2.0340       1.3041       -0.0281            0.1096   \n",
      "000000001000024943   0.2697       0.2785        0.2088            0.0262   \n",
      "000000001000061845  -1.0472       0.6207       -0.0687            0.0762   \n",
      "000000001000065698  -2.3571       0.7190        0.1336            0.0449   \n",
      "000000001000110285  -0.0532       0.3823        0.1060            0.0391   \n",
      "000000001000119198  -2.4606       0.6948        0.1343            0.0269   \n",
      "000000001000153506  -1.3696       0.2225        0.0926            0.0280   \n",
      "000000001000009789  -4.8008       2.3538        0.1017            0.0605   \n",
      "000000001000010051  -3.5285       1.3647        0.6863            0.0958   \n",
      "000000001000053245  -0.1373       0.4502        0.0650            0.0268   \n",
      "000000001000054183  -1.1824       0.1914        0.0160            0.0328   \n",
      "000000001000059232  -2.9509       1.4030        0.1219            0.0909   \n",
      "000000001000080376  -3.7928       0.6518       -0.0306            0.0648   \n",
      "000000001000103655  -1.6602       0.5480        0.0891            0.0562   \n",
      "000000001000124048  -2.0738       0.5811        0.1689            0.0174   \n",
      "000000001000149709   0.0064       0.7177        0.0158            0.1759   \n",
      "000000001000173830  -0.9869       0.3610       -0.0903            0.0711   \n",
      "000000001000180072  -1.8102       0.3117        0.1570            0.0632   \n",
      "000000001000184194  -1.7522       0.4069        0.0219            0.0279   \n",
      "000000001000007079  -1.4929       0.3109       -0.0804            0.0424   \n",
      "000000001000012520  -3.0030       0.6876        0.0464            0.0388   \n",
      "000000001000052646  -1.9472       0.4935        0.0125            0.0524   \n",
      "000000001000054984  -1.4340       0.7057        0.1799            0.0189   \n",
      "000000001000064530  -1.6547       0.3427        0.1486            0.0361   \n",
      "000000001000085424   0.6978       0.5285        0.1673            0.0156   \n",
      "000000001000092325  -0.8248       0.3686       -0.0689            0.0456   \n",
      "000000001000117706  -0.4725       0.4317        0.0366            0.1717   \n",
      "000000001000118225  -1.7176       0.7208        0.0324            0.1025   \n",
      "000000001000178382  -0.6308       0.5513        0.1035            0.4322   \n",
      "000000001000006373  -0.5669       0.5147       -0.0876            0.1056   \n",
      "000000001000008834  -0.1212       0.8386       -0.0725            0.0504   \n",
      "000000001000012569  -2.7737       0.4276        0.0980            0.0192   \n",
      "000000001000025074  -0.8082       0.2369       -0.0348            0.0752   \n",
      "000000001000050884  -0.9883       0.4313        0.1118            0.0239   \n",
      "000000001000052641  -1.9468       0.4650        0.0240            0.0539   \n",
      "000000001000054946  -1.1660       0.5163       -0.1400            0.0634   \n",
      "000000001000054980  -1.7794       0.6104        0.2285            0.0213   \n",
      "000000001000080491  -2.4025       0.5110        0.2388            0.0656   \n",
      "000000001000097071  -1.2204       0.6728        0.0990            0.1125   \n",
      "000000001000123698  -1.1302       0.4899        0.1156            0.0166   \n",
      "000000001000126096   1.8911       1.0614        0.0736            0.0377   \n",
      "000000001000129155  -1.4920       0.4151        0.1482            0.0599   \n",
      "000000001000137914  -1.0436       0.6373        0.1358            0.0279   \n",
      "000000001000008124  -1.3951       0.4604        0.0376            0.0499   \n",
      "000000001000103647  -1.7257       0.3753        0.0479            0.0394   \n",
      "000000001000118214  -2.8933       0.8464        0.1618            0.0379   \n",
      "000000001000005773  -1.1622       0.4295        0.1854            0.0959   \n",
      "000000001000009790   1.3991       1.2675        0.0725            0.0541   \n",
      "000000001000012529  -1.5511       0.4558        0.1008            0.0324   \n",
      "000000001000012836  -1.1605       0.4025        0.1202            0.0299   \n",
      "\n",
      "                    Cluster_size  has_enough_stat  \n",
      "000000001000012530            15             True  \n",
      "000000001000021922            17             True  \n",
      "000000001000034762             8             True  \n",
      "000000001000125896            14             True  \n",
      "000000001000199717            19            False  \n",
      "000000001000005727            16             True  \n",
      "000000001000007327            17            False  \n",
      "000000001000007822            13             True  \n",
      "000000001000016194             9            False  \n",
      "000000001000022565             4            False  \n",
      "000000001000050787            19             True  \n",
      "000000001000116614            14            False  \n",
      "000000001000117179            18            False  \n",
      "000000001000164660            13            False  \n",
      "000000001000176734            15             True  \n",
      "000000001000178079             9            False  \n",
      "000000001000183575            17            False  \n",
      "000000001000008470            14             True  \n",
      "000000001000064521            12             True  \n",
      "000000001000084258             8             True  \n",
      "000000001000124600            18            False  \n",
      "000000001000159178            10            False  \n",
      "000000001000174312            17             True  \n",
      "000000001000174905             8            False  \n",
      "000000001000176716            19             True  \n",
      "000000001000008827            20            False  \n",
      "000000001000012659            12            False  \n",
      "000000001000012817            20             True  \n",
      "000000001000016080            15            False  \n",
      "000000001000022615            10             True  \n",
      "000000001000027423            13            False  \n",
      "000000001000032520            12             True  \n",
      "000000001000039244             6            False  \n",
      "000000001000053564            14            False  \n",
      "000000001000054998             8            False  \n",
      "000000001000091265             8            False  \n",
      "000000001000156992            16             True  \n",
      "000000001000199454             9             True  \n",
      "000000001000008474            10             True  \n",
      "000000001000008491            17            False  \n",
      "000000001000012742            15            False  \n",
      "000000001000031008             8            False  \n",
      "000000001000073238             6            False  \n",
      "000000001000076760            18            False  \n",
      "000000001000113331            11            False  \n",
      "000000001000119830            10             True  \n",
      "000000001000166806            15             True  \n",
      "000000001000167289            17             True  \n",
      "000000001000191237            14             True  \n",
      "000000001000007325            17            False  \n",
      "000000001000015512             4            False  \n",
      "000000001000024943            10            False  \n",
      "000000001000061845            11            False  \n",
      "000000001000065698            15             True  \n",
      "000000001000110285            10            False  \n",
      "000000001000119198            14             True  \n",
      "000000001000153506            14             True  \n",
      "000000001000009789            10            False  \n",
      "000000001000010051             8            False  \n",
      "000000001000053245            20            False  \n",
      "000000001000054183            19             True  \n",
      "000000001000059232            15            False  \n",
      "000000001000080376            20             True  \n",
      "000000001000103655            11             True  \n",
      "000000001000124048            12             True  \n",
      "000000001000149709             5            False  \n",
      "000000001000173830            14            False  \n",
      "000000001000180072            14             True  \n",
      "000000001000184194            16             True  \n",
      "000000001000007079            19             True  \n",
      "000000001000012520            11             True  \n",
      "000000001000052646            11             True  \n",
      "000000001000054984            11            False  \n",
      "000000001000064530            15             True  \n",
      "000000001000085424            14            False  \n",
      "000000001000092325            18            False  \n",
      "000000001000117706            17            False  \n",
      "000000001000118225            15            False  \n",
      "000000001000178382             7            False  \n",
      "000000001000006373            11            False  \n",
      "000000001000008834            15            False  \n",
      "000000001000012569            17             True  \n",
      "000000001000025074             7             True  \n",
      "000000001000050884            21            False  \n",
      "000000001000052641            11             True  \n",
      "000000001000054946            11            False  \n",
      "000000001000054980            12            False  \n",
      "000000001000080491            16             True  \n",
      "000000001000097071             5            False  \n",
      "000000001000123698            17            False  \n",
      "000000001000126096            10            False  \n",
      "000000001000129155            14             True  \n",
      "000000001000137914            11            False  \n",
      "000000001000008124             8             True  \n",
      "000000001000103647            15             True  \n",
      "000000001000118214            19             True  \n",
      "000000001000005773            17            False  \n",
      "000000001000009790             8            False  \n",
      "000000001000012529            13             True  \n",
      "000000001000012836            17            False  \n"
     ]
    },
    {
     "name": "stderr",
     "output_type": "stream",
     "text": [
      "/Users/gabriele.sabato/anaconda3/envs/pythonProject/lib/python3.8/site-packages/scipy/stats/stats.py:1603: UserWarning: kurtosistest only valid for n>=20 ... continuing anyway, n=18\n",
      "  warnings.warn(\"kurtosistest only valid for n>=20 ... continuing \"\n",
      "/Users/gabriele.sabato/anaconda3/envs/pythonProject/lib/python3.8/site-packages/scipy/stats/stats.py:1603: UserWarning: kurtosistest only valid for n>=20 ... continuing anyway, n=18\n",
      "  warnings.warn(\"kurtosistest only valid for n>=20 ... continuing \"\n",
      "/Users/gabriele.sabato/anaconda3/envs/pythonProject/lib/python3.8/site-packages/scipy/stats/stats.py:1603: UserWarning: kurtosistest only valid for n>=20 ... continuing anyway, n=18\n",
      "  warnings.warn(\"kurtosistest only valid for n>=20 ... continuing \"\n",
      "/Users/gabriele.sabato/anaconda3/envs/pythonProject/lib/python3.8/site-packages/statsmodels/stats/stattools.py:74: ValueWarning: omni_normtest is not valid with less than 8 observations; 7 samples were given.\n",
      "  warn(\"omni_normtest is not valid with less than 8 observations; %i \"\n",
      "/Users/gabriele.sabato/anaconda3/envs/pythonProject/lib/python3.8/site-packages/statsmodels/stats/stattools.py:74: ValueWarning: omni_normtest is not valid with less than 8 observations; 3 samples were given.\n",
      "  warn(\"omni_normtest is not valid with less than 8 observations; %i \"\n",
      "/Users/gabriele.sabato/anaconda3/envs/pythonProject/lib/python3.8/site-packages/statsmodels/regression/linear_model.py:1728: RuntimeWarning: divide by zero encountered in true_divide\n",
      "  return 1 - (np.divide(self.nobs - self.k_constant, self.df_resid)\n",
      "/Users/gabriele.sabato/anaconda3/envs/pythonProject/lib/python3.8/site-packages/statsmodels/regression/linear_model.py:1728: RuntimeWarning: invalid value encountered in double_scalars\n",
      "  return 1 - (np.divide(self.nobs - self.k_constant, self.df_resid)\n",
      "/Users/gabriele.sabato/anaconda3/envs/pythonProject/lib/python3.8/site-packages/statsmodels/regression/linear_model.py:1650: RuntimeWarning: divide by zero encountered in double_scalars\n",
      "  return np.dot(wresid, wresid) / self.df_resid\n",
      "/Users/gabriele.sabato/anaconda3/envs/pythonProject/lib/python3.8/site-packages/scipy/stats/stats.py:1603: UserWarning: kurtosistest only valid for n>=20 ... continuing anyway, n=14\n",
      "  warnings.warn(\"kurtosistest only valid for n>=20 ... continuing \"\n",
      "/Users/gabriele.sabato/anaconda3/envs/pythonProject/lib/python3.8/site-packages/statsmodels/stats/stattools.py:74: ValueWarning: omni_normtest is not valid with less than 8 observations; 3 samples were given.\n",
      "  warn(\"omni_normtest is not valid with less than 8 observations; %i \"\n",
      "/Users/gabriele.sabato/anaconda3/envs/pythonProject/lib/python3.8/site-packages/statsmodels/regression/linear_model.py:1728: RuntimeWarning: divide by zero encountered in true_divide\n",
      "  return 1 - (np.divide(self.nobs - self.k_constant, self.df_resid)\n",
      "/Users/gabriele.sabato/anaconda3/envs/pythonProject/lib/python3.8/site-packages/statsmodels/regression/linear_model.py:1728: RuntimeWarning: invalid value encountered in double_scalars\n",
      "  return 1 - (np.divide(self.nobs - self.k_constant, self.df_resid)\n",
      "/Users/gabriele.sabato/anaconda3/envs/pythonProject/lib/python3.8/site-packages/statsmodels/regression/linear_model.py:1650: RuntimeWarning: divide by zero encountered in double_scalars\n",
      "  return np.dot(wresid, wresid) / self.df_resid\n",
      "/Users/gabriele.sabato/anaconda3/envs/pythonProject/lib/python3.8/site-packages/scipy/stats/stats.py:1603: UserWarning: kurtosistest only valid for n>=20 ... continuing anyway, n=8\n",
      "  warnings.warn(\"kurtosistest only valid for n>=20 ... continuing \"\n",
      "/Users/gabriele.sabato/anaconda3/envs/pythonProject/lib/python3.8/site-packages/statsmodels/stats/stattools.py:74: ValueWarning: omni_normtest is not valid with less than 8 observations; 1 samples were given.\n",
      "  warn(\"omni_normtest is not valid with less than 8 observations; %i \"\n",
      "/Users/gabriele.sabato/anaconda3/envs/pythonProject/lib/python3.8/site-packages/statsmodels/regression/linear_model.py:1715: RuntimeWarning: divide by zero encountered in double_scalars\n",
      "  return 1 - self.ssr/self.centered_tss\n",
      "/Users/gabriele.sabato/anaconda3/envs/pythonProject/lib/python3.8/site-packages/statsmodels/regression/linear_model.py:1728: RuntimeWarning: invalid value encountered in true_divide\n",
      "  return 1 - (np.divide(self.nobs - self.k_constant, self.df_resid)\n",
      "/Users/gabriele.sabato/anaconda3/envs/pythonProject/lib/python3.8/site-packages/statsmodels/regression/linear_model.py:1650: RuntimeWarning: divide by zero encountered in double_scalars\n",
      "  return np.dot(wresid, wresid) / self.df_resid\n",
      "/Users/gabriele.sabato/anaconda3/envs/pythonProject/lib/python3.8/site-packages/scipy/stats/stats.py:1603: UserWarning: kurtosistest only valid for n>=20 ... continuing anyway, n=16\n",
      "  warnings.warn(\"kurtosistest only valid for n>=20 ... continuing \"\n",
      "/Users/gabriele.sabato/anaconda3/envs/pythonProject/lib/python3.8/site-packages/scipy/stats/stats.py:1603: UserWarning: kurtosistest only valid for n>=20 ... continuing anyway, n=18\n",
      "  warnings.warn(\"kurtosistest only valid for n>=20 ... continuing \"\n",
      "/Users/gabriele.sabato/anaconda3/envs/pythonProject/lib/python3.8/site-packages/scipy/stats/stats.py:1603: UserWarning: kurtosistest only valid for n>=20 ... continuing anyway, n=19\n",
      "  warnings.warn(\"kurtosistest only valid for n>=20 ... continuing \"\n",
      "/Users/gabriele.sabato/anaconda3/envs/pythonProject/lib/python3.8/site-packages/statsmodels/stats/stattools.py:74: ValueWarning: omni_normtest is not valid with less than 8 observations; 2 samples were given.\n",
      "  warn(\"omni_normtest is not valid with less than 8 observations; %i \"\n",
      "/Users/gabriele.sabato/anaconda3/envs/pythonProject/lib/python3.8/site-packages/statsmodels/regression/linear_model.py:1728: RuntimeWarning: divide by zero encountered in true_divide\n",
      "  return 1 - (np.divide(self.nobs - self.k_constant, self.df_resid)\n",
      "/Users/gabriele.sabato/anaconda3/envs/pythonProject/lib/python3.8/site-packages/statsmodels/regression/linear_model.py:1728: RuntimeWarning: invalid value encountered in double_scalars\n",
      "  return 1 - (np.divide(self.nobs - self.k_constant, self.df_resid)\n",
      "/Users/gabriele.sabato/anaconda3/envs/pythonProject/lib/python3.8/site-packages/statsmodels/regression/linear_model.py:1650: RuntimeWarning: divide by zero encountered in double_scalars\n",
      "  return np.dot(wresid, wresid) / self.df_resid\n",
      "/Users/gabriele.sabato/anaconda3/envs/pythonProject/lib/python3.8/site-packages/scipy/stats/stats.py:1603: UserWarning: kurtosistest only valid for n>=20 ... continuing anyway, n=13\n",
      "  warnings.warn(\"kurtosistest only valid for n>=20 ... continuing \"\n",
      "/Users/gabriele.sabato/anaconda3/envs/pythonProject/lib/python3.8/site-packages/statsmodels/stats/stattools.py:74: ValueWarning: omni_normtest is not valid with less than 8 observations; 3 samples were given.\n",
      "  warn(\"omni_normtest is not valid with less than 8 observations; %i \"\n",
      "/Users/gabriele.sabato/anaconda3/envs/pythonProject/lib/python3.8/site-packages/statsmodels/regression/linear_model.py:1728: RuntimeWarning: divide by zero encountered in true_divide\n",
      "  return 1 - (np.divide(self.nobs - self.k_constant, self.df_resid)\n",
      "/Users/gabriele.sabato/anaconda3/envs/pythonProject/lib/python3.8/site-packages/statsmodels/regression/linear_model.py:1728: RuntimeWarning: invalid value encountered in double_scalars\n",
      "  return 1 - (np.divide(self.nobs - self.k_constant, self.df_resid)\n",
      "/Users/gabriele.sabato/anaconda3/envs/pythonProject/lib/python3.8/site-packages/statsmodels/regression/linear_model.py:1650: RuntimeWarning: divide by zero encountered in double_scalars\n",
      "  return np.dot(wresid, wresid) / self.df_resid\n",
      "/Users/gabriele.sabato/anaconda3/envs/pythonProject/lib/python3.8/site-packages/scipy/stats/stats.py:1603: UserWarning: kurtosistest only valid for n>=20 ... continuing anyway, n=9\n",
      "  warnings.warn(\"kurtosistest only valid for n>=20 ... continuing \"\n",
      "/Users/gabriele.sabato/anaconda3/envs/pythonProject/lib/python3.8/site-packages/scipy/stats/stats.py:1603: UserWarning: kurtosistest only valid for n>=20 ... continuing anyway, n=10\n",
      "  warnings.warn(\"kurtosistest only valid for n>=20 ... continuing \"\n",
      "/Users/gabriele.sabato/anaconda3/envs/pythonProject/lib/python3.8/site-packages/scipy/stats/stats.py:1603: UserWarning: kurtosistest only valid for n>=20 ... continuing anyway, n=15\n",
      "  warnings.warn(\"kurtosistest only valid for n>=20 ... continuing \"\n",
      "/Users/gabriele.sabato/anaconda3/envs/pythonProject/lib/python3.8/site-packages/statsmodels/stats/stattools.py:74: ValueWarning: omni_normtest is not valid with less than 8 observations; 1 samples were given.\n",
      "  warn(\"omni_normtest is not valid with less than 8 observations; %i \"\n",
      "/Users/gabriele.sabato/anaconda3/envs/pythonProject/lib/python3.8/site-packages/statsmodels/regression/linear_model.py:1715: RuntimeWarning: divide by zero encountered in double_scalars\n",
      "  return 1 - self.ssr/self.centered_tss\n",
      "/Users/gabriele.sabato/anaconda3/envs/pythonProject/lib/python3.8/site-packages/statsmodels/regression/linear_model.py:1728: RuntimeWarning: invalid value encountered in true_divide\n",
      "  return 1 - (np.divide(self.nobs - self.k_constant, self.df_resid)\n",
      "/Users/gabriele.sabato/anaconda3/envs/pythonProject/lib/python3.8/site-packages/statsmodels/regression/linear_model.py:1650: RuntimeWarning: divide by zero encountered in double_scalars\n",
      "  return np.dot(wresid, wresid) / self.df_resid\n",
      "/Users/gabriele.sabato/anaconda3/envs/pythonProject/lib/python3.8/site-packages/statsmodels/stats/stattools.py:74: ValueWarning: omni_normtest is not valid with less than 8 observations; 2 samples were given.\n",
      "  warn(\"omni_normtest is not valid with less than 8 observations; %i \"\n",
      "/Users/gabriele.sabato/anaconda3/envs/pythonProject/lib/python3.8/site-packages/statsmodels/regression/linear_model.py:1728: RuntimeWarning: divide by zero encountered in true_divide\n",
      "  return 1 - (np.divide(self.nobs - self.k_constant, self.df_resid)\n",
      "/Users/gabriele.sabato/anaconda3/envs/pythonProject/lib/python3.8/site-packages/statsmodels/regression/linear_model.py:1728: RuntimeWarning: invalid value encountered in double_scalars\n",
      "  return 1 - (np.divide(self.nobs - self.k_constant, self.df_resid)\n",
      "/Users/gabriele.sabato/anaconda3/envs/pythonProject/lib/python3.8/site-packages/statsmodels/regression/linear_model.py:1650: RuntimeWarning: divide by zero encountered in double_scalars\n",
      "  return np.dot(wresid, wresid) / self.df_resid\n",
      "/Users/gabriele.sabato/anaconda3/envs/pythonProject/lib/python3.8/site-packages/scipy/stats/stats.py:1603: UserWarning: kurtosistest only valid for n>=20 ... continuing anyway, n=10\n",
      "  warnings.warn(\"kurtosistest only valid for n>=20 ... continuing \"\n",
      "/Users/gabriele.sabato/anaconda3/envs/pythonProject/lib/python3.8/site-packages/scipy/stats/stats.py:1603: UserWarning: kurtosistest only valid for n>=20 ... continuing anyway, n=11\n",
      "  warnings.warn(\"kurtosistest only valid for n>=20 ... continuing \"\n",
      "/Users/gabriele.sabato/anaconda3/envs/pythonProject/lib/python3.8/site-packages/scipy/stats/stats.py:1603: UserWarning: kurtosistest only valid for n>=20 ... continuing anyway, n=17\n",
      "  warnings.warn(\"kurtosistest only valid for n>=20 ... continuing \"\n",
      "/Users/gabriele.sabato/anaconda3/envs/pythonProject/lib/python3.8/site-packages/statsmodels/stats/stattools.py:74: ValueWarning: omni_normtest is not valid with less than 8 observations; 6 samples were given.\n",
      "  warn(\"omni_normtest is not valid with less than 8 observations; %i \"\n",
      "/Users/gabriele.sabato/anaconda3/envs/pythonProject/lib/python3.8/site-packages/statsmodels/stats/stattools.py:74: ValueWarning: omni_normtest is not valid with less than 8 observations; 6 samples were given.\n",
      "  warn(\"omni_normtest is not valid with less than 8 observations; %i \"\n",
      "/Users/gabriele.sabato/anaconda3/envs/pythonProject/lib/python3.8/site-packages/statsmodels/stats/stattools.py:74: ValueWarning: omni_normtest is not valid with less than 8 observations; 7 samples were given.\n",
      "  warn(\"omni_normtest is not valid with less than 8 observations; %i \"\n",
      "/Users/gabriele.sabato/anaconda3/envs/pythonProject/lib/python3.8/site-packages/scipy/stats/stats.py:1603: UserWarning: kurtosistest only valid for n>=20 ... continuing anyway, n=9\n",
      "  warnings.warn(\"kurtosistest only valid for n>=20 ... continuing \"\n",
      "/Users/gabriele.sabato/anaconda3/envs/pythonProject/lib/python3.8/site-packages/scipy/stats/stats.py:1603: UserWarning: kurtosistest only valid for n>=20 ... continuing anyway, n=8\n",
      "  warnings.warn(\"kurtosistest only valid for n>=20 ... continuing \"\n",
      "/Users/gabriele.sabato/anaconda3/envs/pythonProject/lib/python3.8/site-packages/statsmodels/stats/stattools.py:74: ValueWarning: omni_normtest is not valid with less than 8 observations; 7 samples were given.\n",
      "  warn(\"omni_normtest is not valid with less than 8 observations; %i \"\n",
      "/Users/gabriele.sabato/anaconda3/envs/pythonProject/lib/python3.8/site-packages/scipy/stats/stats.py:1603: UserWarning: kurtosistest only valid for n>=20 ... continuing anyway, n=8\n",
      "  warnings.warn(\"kurtosistest only valid for n>=20 ... continuing \"\n",
      "/Users/gabriele.sabato/anaconda3/envs/pythonProject/lib/python3.8/site-packages/statsmodels/stats/stattools.py:74: ValueWarning: omni_normtest is not valid with less than 8 observations; 5 samples were given.\n",
      "  warn(\"omni_normtest is not valid with less than 8 observations; %i \"\n",
      "/Users/gabriele.sabato/anaconda3/envs/pythonProject/lib/python3.8/site-packages/statsmodels/stats/stattools.py:74: ValueWarning: omni_normtest is not valid with less than 8 observations; 5 samples were given.\n",
      "  warn(\"omni_normtest is not valid with less than 8 observations; %i \"\n",
      "/Users/gabriele.sabato/anaconda3/envs/pythonProject/lib/python3.8/site-packages/statsmodels/stats/stattools.py:74: ValueWarning: omni_normtest is not valid with less than 8 observations; 2 samples were given.\n",
      "  warn(\"omni_normtest is not valid with less than 8 observations; %i \"\n",
      "/Users/gabriele.sabato/anaconda3/envs/pythonProject/lib/python3.8/site-packages/statsmodels/regression/linear_model.py:1728: RuntimeWarning: divide by zero encountered in true_divide\n",
      "  return 1 - (np.divide(self.nobs - self.k_constant, self.df_resid)\n",
      "/Users/gabriele.sabato/anaconda3/envs/pythonProject/lib/python3.8/site-packages/statsmodels/regression/linear_model.py:1728: RuntimeWarning: invalid value encountered in double_scalars\n",
      "  return 1 - (np.divide(self.nobs - self.k_constant, self.df_resid)\n",
      "/Users/gabriele.sabato/anaconda3/envs/pythonProject/lib/python3.8/site-packages/statsmodels/regression/linear_model.py:1650: RuntimeWarning: divide by zero encountered in double_scalars\n",
      "  return np.dot(wresid, wresid) / self.df_resid\n",
      "/Users/gabriele.sabato/anaconda3/envs/pythonProject/lib/python3.8/site-packages/scipy/stats/stats.py:1603: UserWarning: kurtosistest only valid for n>=20 ... continuing anyway, n=12\n",
      "  warnings.warn(\"kurtosistest only valid for n>=20 ... continuing \"\n",
      "/Users/gabriele.sabato/anaconda3/envs/pythonProject/lib/python3.8/site-packages/statsmodels/stats/stattools.py:74: ValueWarning: omni_normtest is not valid with less than 8 observations; 2 samples were given.\n",
      "  warn(\"omni_normtest is not valid with less than 8 observations; %i \"\n",
      "/Users/gabriele.sabato/anaconda3/envs/pythonProject/lib/python3.8/site-packages/statsmodels/regression/linear_model.py:1728: RuntimeWarning: divide by zero encountered in true_divide\n",
      "  return 1 - (np.divide(self.nobs - self.k_constant, self.df_resid)\n",
      "/Users/gabriele.sabato/anaconda3/envs/pythonProject/lib/python3.8/site-packages/statsmodels/regression/linear_model.py:1728: RuntimeWarning: invalid value encountered in double_scalars\n",
      "  return 1 - (np.divide(self.nobs - self.k_constant, self.df_resid)\n",
      "/Users/gabriele.sabato/anaconda3/envs/pythonProject/lib/python3.8/site-packages/statsmodels/regression/linear_model.py:1650: RuntimeWarning: divide by zero encountered in double_scalars\n",
      "  return np.dot(wresid, wresid) / self.df_resid\n",
      "/Users/gabriele.sabato/anaconda3/envs/pythonProject/lib/python3.8/site-packages/scipy/stats/stats.py:1603: UserWarning: kurtosistest only valid for n>=20 ... continuing anyway, n=15\n",
      "  warnings.warn(\"kurtosistest only valid for n>=20 ... continuing \"\n",
      "/Users/gabriele.sabato/anaconda3/envs/pythonProject/lib/python3.8/site-packages/statsmodels/stats/stattools.py:74: ValueWarning: omni_normtest is not valid with less than 8 observations; 4 samples were given.\n",
      "  warn(\"omni_normtest is not valid with less than 8 observations; %i \"\n",
      "/Users/gabriele.sabato/anaconda3/envs/pythonProject/lib/python3.8/site-packages/scipy/stats/stats.py:1603: UserWarning: kurtosistest only valid for n>=20 ... continuing anyway, n=9\n",
      "  warnings.warn(\"kurtosistest only valid for n>=20 ... continuing \"\n",
      "/Users/gabriele.sabato/anaconda3/envs/pythonProject/lib/python3.8/site-packages/statsmodels/stats/stattools.py:74: ValueWarning: omni_normtest is not valid with less than 8 observations; 5 samples were given.\n",
      "  warn(\"omni_normtest is not valid with less than 8 observations; %i \"\n",
      "/Users/gabriele.sabato/anaconda3/envs/pythonProject/lib/python3.8/site-packages/scipy/stats/stats.py:1603: UserWarning: kurtosistest only valid for n>=20 ... continuing anyway, n=18\n",
      "  warnings.warn(\"kurtosistest only valid for n>=20 ... continuing \"\n",
      "/Users/gabriele.sabato/anaconda3/envs/pythonProject/lib/python3.8/site-packages/scipy/stats/stats.py:1603: UserWarning: kurtosistest only valid for n>=20 ... continuing anyway, n=9\n",
      "  warnings.warn(\"kurtosistest only valid for n>=20 ... continuing \"\n",
      "/Users/gabriele.sabato/anaconda3/envs/pythonProject/lib/python3.8/site-packages/scipy/stats/stats.py:1603: UserWarning: kurtosistest only valid for n>=20 ... continuing anyway, n=14\n",
      "  warnings.warn(\"kurtosistest only valid for n>=20 ... continuing \"\n",
      "/Users/gabriele.sabato/anaconda3/envs/pythonProject/lib/python3.8/site-packages/scipy/stats/stats.py:1603: UserWarning: kurtosistest only valid for n>=20 ... continuing anyway, n=9\n",
      "  warnings.warn(\"kurtosistest only valid for n>=20 ... continuing \"\n",
      "/Users/gabriele.sabato/anaconda3/envs/pythonProject/lib/python3.8/site-packages/scipy/stats/stats.py:1603: UserWarning: kurtosistest only valid for n>=20 ... continuing anyway, n=16\n",
      "  warnings.warn(\"kurtosistest only valid for n>=20 ... continuing \"\n",
      "/Users/gabriele.sabato/anaconda3/envs/pythonProject/lib/python3.8/site-packages/scipy/stats/stats.py:1603: UserWarning: kurtosistest only valid for n>=20 ... continuing anyway, n=8\n",
      "  warnings.warn(\"kurtosistest only valid for n>=20 ... continuing \"\n",
      "/Users/gabriele.sabato/anaconda3/envs/pythonProject/lib/python3.8/site-packages/scipy/stats/stats.py:1603: UserWarning: kurtosistest only valid for n>=20 ... continuing anyway, n=17\n",
      "  warnings.warn(\"kurtosistest only valid for n>=20 ... continuing \"\n",
      "/Users/gabriele.sabato/anaconda3/envs/pythonProject/lib/python3.8/site-packages/statsmodels/stats/stattools.py:74: ValueWarning: omni_normtest is not valid with less than 8 observations; 2 samples were given.\n",
      "  warn(\"omni_normtest is not valid with less than 8 observations; %i \"\n",
      "/Users/gabriele.sabato/anaconda3/envs/pythonProject/lib/python3.8/site-packages/statsmodels/regression/linear_model.py:1728: RuntimeWarning: divide by zero encountered in true_divide\n",
      "  return 1 - (np.divide(self.nobs - self.k_constant, self.df_resid)\n",
      "/Users/gabriele.sabato/anaconda3/envs/pythonProject/lib/python3.8/site-packages/statsmodels/regression/linear_model.py:1728: RuntimeWarning: invalid value encountered in double_scalars\n",
      "  return 1 - (np.divide(self.nobs - self.k_constant, self.df_resid)\n",
      "/Users/gabriele.sabato/anaconda3/envs/pythonProject/lib/python3.8/site-packages/statsmodels/regression/linear_model.py:1650: RuntimeWarning: divide by zero encountered in double_scalars\n",
      "  return np.dot(wresid, wresid) / self.df_resid\n",
      "/Users/gabriele.sabato/anaconda3/envs/pythonProject/lib/python3.8/site-packages/scipy/stats/stats.py:1603: UserWarning: kurtosistest only valid for n>=20 ... continuing anyway, n=13\n",
      "  warnings.warn(\"kurtosistest only valid for n>=20 ... continuing \"\n",
      "/Users/gabriele.sabato/anaconda3/envs/pythonProject/lib/python3.8/site-packages/scipy/stats/stats.py:1603: UserWarning: kurtosistest only valid for n>=20 ... continuing anyway, n=10\n",
      "  warnings.warn(\"kurtosistest only valid for n>=20 ... continuing \"\n",
      "/Users/gabriele.sabato/anaconda3/envs/pythonProject/lib/python3.8/site-packages/scipy/stats/stats.py:1603: UserWarning: kurtosistest only valid for n>=20 ... continuing anyway, n=14\n",
      "  warnings.warn(\"kurtosistest only valid for n>=20 ... continuing \"\n",
      "/Users/gabriele.sabato/anaconda3/envs/pythonProject/lib/python3.8/site-packages/scipy/stats/stats.py:1603: UserWarning: kurtosistest only valid for n>=20 ... continuing anyway, n=17\n",
      "  warnings.warn(\"kurtosistest only valid for n>=20 ... continuing \"\n",
      "/Users/gabriele.sabato/anaconda3/envs/pythonProject/lib/python3.8/site-packages/scipy/stats/stats.py:1603: UserWarning: kurtosistest only valid for n>=20 ... continuing anyway, n=9\n",
      "  warnings.warn(\"kurtosistest only valid for n>=20 ... continuing \"\n",
      "/Users/gabriele.sabato/anaconda3/envs/pythonProject/lib/python3.8/site-packages/scipy/stats/stats.py:1603: UserWarning: kurtosistest only valid for n>=20 ... continuing anyway, n=15\n",
      "  warnings.warn(\"kurtosistest only valid for n>=20 ... continuing \"\n",
      "/Users/gabriele.sabato/anaconda3/envs/pythonProject/lib/python3.8/site-packages/statsmodels/stats/stattools.py:74: ValueWarning: omni_normtest is not valid with less than 8 observations; 3 samples were given.\n",
      "  warn(\"omni_normtest is not valid with less than 8 observations; %i \"\n",
      "/Users/gabriele.sabato/anaconda3/envs/pythonProject/lib/python3.8/site-packages/statsmodels/regression/linear_model.py:1728: RuntimeWarning: divide by zero encountered in true_divide\n",
      "  return 1 - (np.divide(self.nobs - self.k_constant, self.df_resid)\n",
      "/Users/gabriele.sabato/anaconda3/envs/pythonProject/lib/python3.8/site-packages/statsmodels/regression/linear_model.py:1728: RuntimeWarning: invalid value encountered in double_scalars\n",
      "  return 1 - (np.divide(self.nobs - self.k_constant, self.df_resid)\n",
      "/Users/gabriele.sabato/anaconda3/envs/pythonProject/lib/python3.8/site-packages/statsmodels/regression/linear_model.py:1650: RuntimeWarning: divide by zero encountered in double_scalars\n",
      "  return np.dot(wresid, wresid) / self.df_resid\n",
      "/Users/gabriele.sabato/anaconda3/envs/pythonProject/lib/python3.8/site-packages/statsmodels/stats/stattools.py:74: ValueWarning: omni_normtest is not valid with less than 8 observations; 5 samples were given.\n",
      "  warn(\"omni_normtest is not valid with less than 8 observations; %i \"\n",
      "/Users/gabriele.sabato/anaconda3/envs/pythonProject/lib/python3.8/site-packages/scipy/stats/stats.py:1603: UserWarning: kurtosistest only valid for n>=20 ... continuing anyway, n=18\n",
      "  warnings.warn(\"kurtosistest only valid for n>=20 ... continuing \"\n",
      "/Users/gabriele.sabato/anaconda3/envs/pythonProject/lib/python3.8/site-packages/scipy/stats/stats.py:1603: UserWarning: kurtosistest only valid for n>=20 ... continuing anyway, n=13\n",
      "  warnings.warn(\"kurtosistest only valid for n>=20 ... continuing \"\n",
      "/Users/gabriele.sabato/anaconda3/envs/pythonProject/lib/python3.8/site-packages/scipy/stats/stats.py:1603: UserWarning: kurtosistest only valid for n>=20 ... continuing anyway, n=16\n",
      "  warnings.warn(\"kurtosistest only valid for n>=20 ... continuing \"\n",
      "/Users/gabriele.sabato/anaconda3/envs/pythonProject/lib/python3.8/site-packages/scipy/stats/stats.py:1603: UserWarning: kurtosistest only valid for n>=20 ... continuing anyway, n=10\n",
      "  warnings.warn(\"kurtosistest only valid for n>=20 ... continuing \"\n",
      "/Users/gabriele.sabato/anaconda3/envs/pythonProject/lib/python3.8/site-packages/scipy/stats/stats.py:1603: UserWarning: kurtosistest only valid for n>=20 ... continuing anyway, n=15\n",
      "  warnings.warn(\"kurtosistest only valid for n>=20 ... continuing \"\n",
      "/Users/gabriele.sabato/anaconda3/envs/pythonProject/lib/python3.8/site-packages/statsmodels/stats/stattools.py:74: ValueWarning: omni_normtest is not valid with less than 8 observations; 3 samples were given.\n",
      "  warn(\"omni_normtest is not valid with less than 8 observations; %i \"\n",
      "/Users/gabriele.sabato/anaconda3/envs/pythonProject/lib/python3.8/site-packages/statsmodels/regression/linear_model.py:1728: RuntimeWarning: divide by zero encountered in true_divide\n",
      "  return 1 - (np.divide(self.nobs - self.k_constant, self.df_resid)\n",
      "/Users/gabriele.sabato/anaconda3/envs/pythonProject/lib/python3.8/site-packages/statsmodels/regression/linear_model.py:1728: RuntimeWarning: invalid value encountered in double_scalars\n",
      "  return 1 - (np.divide(self.nobs - self.k_constant, self.df_resid)\n",
      "/Users/gabriele.sabato/anaconda3/envs/pythonProject/lib/python3.8/site-packages/statsmodels/regression/linear_model.py:1650: RuntimeWarning: divide by zero encountered in double_scalars\n",
      "  return np.dot(wresid, wresid) / self.df_resid\n",
      "/Users/gabriele.sabato/anaconda3/envs/pythonProject/lib/python3.8/site-packages/statsmodels/stats/stattools.py:74: ValueWarning: omni_normtest is not valid with less than 8 observations; 1 samples were given.\n",
      "  warn(\"omni_normtest is not valid with less than 8 observations; %i \"\n",
      "/Users/gabriele.sabato/anaconda3/envs/pythonProject/lib/python3.8/site-packages/statsmodels/regression/linear_model.py:1715: RuntimeWarning: divide by zero encountered in double_scalars\n",
      "  return 1 - self.ssr/self.centered_tss\n",
      "/Users/gabriele.sabato/anaconda3/envs/pythonProject/lib/python3.8/site-packages/statsmodels/regression/linear_model.py:1728: RuntimeWarning: invalid value encountered in true_divide\n",
      "  return 1 - (np.divide(self.nobs - self.k_constant, self.df_resid)\n",
      "/Users/gabriele.sabato/anaconda3/envs/pythonProject/lib/python3.8/site-packages/statsmodels/regression/linear_model.py:1650: RuntimeWarning: divide by zero encountered in double_scalars\n",
      "  return np.dot(wresid, wresid) / self.df_resid\n",
      "/Users/gabriele.sabato/anaconda3/envs/pythonProject/lib/python3.8/site-packages/statsmodels/stats/stattools.py:74: ValueWarning: omni_normtest is not valid with less than 8 observations; 6 samples were given.\n",
      "  warn(\"omni_normtest is not valid with less than 8 observations; %i \"\n",
      "/Users/gabriele.sabato/anaconda3/envs/pythonProject/lib/python3.8/site-packages/scipy/stats/stats.py:1603: UserWarning: kurtosistest only valid for n>=20 ... continuing anyway, n=14\n",
      "  warnings.warn(\"kurtosistest only valid for n>=20 ... continuing \"\n",
      "/Users/gabriele.sabato/anaconda3/envs/pythonProject/lib/python3.8/site-packages/statsmodels/stats/stattools.py:74: ValueWarning: omni_normtest is not valid with less than 8 observations; 4 samples were given.\n",
      "  warn(\"omni_normtest is not valid with less than 8 observations; %i \"\n",
      "/Users/gabriele.sabato/anaconda3/envs/pythonProject/lib/python3.8/site-packages/statsmodels/stats/stattools.py:74: ValueWarning: omni_normtest is not valid with less than 8 observations; 6 samples were given.\n",
      "  warn(\"omni_normtest is not valid with less than 8 observations; %i \"\n"
     ]
    }
   ],
   "source": [
    "df_result = pd.DataFrame()\n",
    "\n",
    "map_of_maps_of_df = {}\n",
    "#print('Cut on PDP, sim_score, result = ')\n",
    "for PDP_cut in df_PDP_bin_filt.keys():\n",
    "    for score_cut in  map_of_map_of_items.keys():\n",
    "        map_of_dfs = create_map_of_dataframes(map_of_map_of_items[score_cut],df=df_PDP_bin_filt[PDP_cut])\n",
    "        map_of_maps_of_df[PDP_cut] = map_of_dfs\n",
    "        print(f'Number of items passing the PE cut {len(map_of_dfs)}')\n",
    "        map_result = {}\n",
    "        #print(\"Model used: conv_rate ~ log_price + log_delivery_weeks + C(item_code)\\n\")\n",
    "        map_items_stat = {}\n",
    "        for key in map_of_dfs.keys():\n",
    "            #map_of_dfs[key].head()\n",
    "            map_items_stat[key] = run_model(key, map_of_dfs[key], map_result)\n",
    "            #print(map_result)\n",
    "        items_stat_series = pd.Series(map_items_stat)\n",
    "        #print(map_items_stat)\n",
    "        #print(items_stat_series)\n",
    "        x,y, y_err, rel_err = {'True':[],'False':[]},{'True':[],'False':[]},{'True':[],'False':[]},{'True':[],'False':[]}\n",
    "        for i_code,flag in items_stat_series.items():\n",
    "        #flag=T\n",
    "            if flag == True:\n",
    "                y['True'].append(map_result[i_code][0])\n",
    "                y_err['True'].append(map_result[i_code][1])\n",
    "                x['True'].append(map_result[i_code][-2])\n",
    "                #print('True',map_result[i_code][0],map_result[i_code][1])\n",
    "                rel_err['True'].append(abs(map_result[i_code][1]/map_result[i_code][0]))\n",
    "\n",
    "            else:\n",
    "                y['False'].append(map_result[i_code][0])\n",
    "                y_err['False'].append(map_result[i_code][1])\n",
    "                x['False'].append(map_result[i_code][-2])\n",
    "                #print('False',map_result[i_code][0],map_result[i_code][1])\n",
    "                rel_err['False'].append(abs(map_result[i_code][1]/map_result[i_code][0]))\n",
    "\n",
    "                continue\n",
    "        #print(f'{PDP_cut},{score_cut} , {len(x)}')\n",
    "        df_result = pd.DataFrame.from_dict(map_result, orient='index', columns = ['View_PE', 'View_PE_err', 'log_del_week', 'log_del_week_err', 'Cluster_size', 'has_enough_stat'])\n",
    "        print (df_result.head(100))"
   ]
  },
  {
   "cell_type": "code",
   "execution_count": 21,
   "outputs": [
    {
     "data": {
      "text/plain": "4181"
     },
     "execution_count": 21,
     "metadata": {},
     "output_type": "execute_result"
    }
   ],
   "source": [
    "len(df_result.index)"
   ],
   "metadata": {
    "collapsed": false,
    "pycharm": {
     "name": "#%%\n"
    }
   }
  },
  {
   "cell_type": "code",
   "execution_count": 24,
   "outputs": [],
   "source": [
    "df_result_true = df_result[df_result['has_enough_stat']==True]"
   ],
   "metadata": {
    "collapsed": false,
    "pycharm": {
     "name": "#%%\n"
    }
   }
  },
  {
   "cell_type": "code",
   "execution_count": 26,
   "outputs": [
    {
     "name": "stdout",
     "output_type": "stream",
     "text": [
      "718128115022.6685 -14.9175\n"
     ]
    }
   ],
   "source": [
    "print(df_result_true['View_PE'].max(),df_result_true['View_PE'].min())"
   ],
   "metadata": {
    "collapsed": false,
    "pycharm": {
     "name": "#%%\n"
    }
   }
  },
  {
   "cell_type": "code",
   "execution_count": 28,
   "outputs": [
    {
     "name": "stdout",
     "output_type": "stream",
     "text": [
      "000000001000189701    7.181281e+11\n",
      "000000001000166901    7.231200e+00\n",
      "000000001000166893    5.953300e+00\n",
      "000000001000166811    3.761100e+00\n",
      "000000001000100147    3.760000e+00\n",
      "Name: View_PE, dtype: float64 \n",
      " 000000001000043212   -14.9175\n",
      "000000001000123336    -9.8241\n",
      "000000001000079660    -9.0082\n",
      "000000001000065870    -8.1032\n",
      "000000001000206918    -7.6650\n",
      "Name: View_PE, dtype: float64\n"
     ]
    }
   ],
   "source": [
    "print(df_result_true['View_PE'].nlargest(5),'\\n',df_result_true['View_PE'].nsmallest(5) )"
   ],
   "metadata": {
    "collapsed": false,
    "pycharm": {
     "name": "#%%\n"
    }
   }
  },
  {
   "cell_type": "code",
   "execution_count": 31,
   "outputs": [],
   "source": [
    "df_result_true = df_result_true[(df_result_true['View_PE'] < 10.) & (df_result_true['View_PE'] > -10.)]"
   ],
   "metadata": {
    "collapsed": false,
    "pycharm": {
     "name": "#%%\n"
    }
   }
  },
  {
   "cell_type": "code",
   "execution_count": 32,
   "outputs": [
    {
     "name": "stdout",
     "output_type": "stream",
     "text": [
      "-1.8787522714203566\n"
     ]
    }
   ],
   "source": [
    "print(df_result_true['View_PE'].mean())"
   ],
   "metadata": {
    "collapsed": false,
    "pycharm": {
     "name": "#%%\n"
    }
   }
  },
  {
   "cell_type": "code",
   "execution_count": 35,
   "outputs": [],
   "source": [
    "import math"
   ],
   "metadata": {
    "collapsed": false,
    "pycharm": {
     "name": "#%%\n"
    }
   }
  },
  {
   "cell_type": "code",
   "execution_count": 36,
   "outputs": [
    {
     "name": "stdout",
     "output_type": "stream",
     "text": [
      "0.024867347691627965\n"
     ]
    }
   ],
   "source": [
    "print(df_result_true['View_PE'].std()/math.sqrt(len(df_result_true.index)))"
   ],
   "metadata": {
    "collapsed": false,
    "pycharm": {
     "name": "#%%\n"
    }
   }
  },
  {
   "cell_type": "code",
   "execution_count": 38,
   "outputs": [
    {
     "data": {
      "text/plain": "Empty DataFrame\nColumns: [View_PE, View_PE_err, log_del_week, log_del_week_err, Cluster_size, has_enough_stat]\nIndex: []",
      "text/html": "<div>\n<style scoped>\n    .dataframe tbody tr th:only-of-type {\n        vertical-align: middle;\n    }\n\n    .dataframe tbody tr th {\n        vertical-align: top;\n    }\n\n    .dataframe thead th {\n        text-align: right;\n    }\n</style>\n<table border=\"1\" class=\"dataframe\">\n  <thead>\n    <tr style=\"text-align: right;\">\n      <th></th>\n      <th>View_PE</th>\n      <th>View_PE_err</th>\n      <th>log_del_week</th>\n      <th>log_del_week_err</th>\n      <th>Cluster_size</th>\n      <th>has_enough_stat</th>\n    </tr>\n  </thead>\n  <tbody>\n  </tbody>\n</table>\n</div>"
     },
     "execution_count": 38,
     "metadata": {},
     "output_type": "execute_result"
    }
   ],
   "source": [
    "#df_result_true[df_result_true['View_PE'].isna()]"
   ],
   "metadata": {
    "collapsed": false,
    "pycharm": {
     "name": "#%%\n"
    }
   }
  },
  {
   "cell_type": "code",
   "execution_count": 40,
   "outputs": [],
   "source": [
    "df_result_true_final = df_result_true[['View_PE','View_PE_err']]"
   ],
   "metadata": {
    "collapsed": false,
    "pycharm": {
     "name": "#%%\n"
    }
   }
  },
  {
   "cell_type": "code",
   "execution_count": 41,
   "outputs": [
    {
     "data": {
      "text/plain": "                    View_PE  View_PE_err\n000000001000012530  -1.6265       0.4565\n000000001000021922  -1.0147       0.1548\n000000001000034762  -1.3782       0.3497\n000000001000125896  -1.6598       0.3366\n000000001000005727  -0.9853       0.2722",
      "text/html": "<div>\n<style scoped>\n    .dataframe tbody tr th:only-of-type {\n        vertical-align: middle;\n    }\n\n    .dataframe tbody tr th {\n        vertical-align: top;\n    }\n\n    .dataframe thead th {\n        text-align: right;\n    }\n</style>\n<table border=\"1\" class=\"dataframe\">\n  <thead>\n    <tr style=\"text-align: right;\">\n      <th></th>\n      <th>View_PE</th>\n      <th>View_PE_err</th>\n    </tr>\n  </thead>\n  <tbody>\n    <tr>\n      <th>000000001000012530</th>\n      <td>-1.6265</td>\n      <td>0.4565</td>\n    </tr>\n    <tr>\n      <th>000000001000021922</th>\n      <td>-1.0147</td>\n      <td>0.1548</td>\n    </tr>\n    <tr>\n      <th>000000001000034762</th>\n      <td>-1.3782</td>\n      <td>0.3497</td>\n    </tr>\n    <tr>\n      <th>000000001000125896</th>\n      <td>-1.6598</td>\n      <td>0.3366</td>\n    </tr>\n    <tr>\n      <th>000000001000005727</th>\n      <td>-0.9853</td>\n      <td>0.2722</td>\n    </tr>\n  </tbody>\n</table>\n</div>"
     },
     "execution_count": 41,
     "metadata": {},
     "output_type": "execute_result"
    }
   ],
   "source": [
    "df_result_true_final.head()\n"
   ],
   "metadata": {
    "collapsed": false,
    "pycharm": {
     "name": "#%%\n"
    }
   }
  },
  {
   "cell_type": "code",
   "execution_count": 42,
   "outputs": [],
   "source": [
    "df_result_true_final.to_csv('./../raw_data/Excel_files/Top5k_View_PE.csv')\n"
   ],
   "metadata": {
    "collapsed": false,
    "pycharm": {
     "name": "#%%\n"
    }
   }
  },
  {
   "cell_type": "code",
   "execution_count": null,
   "outputs": [],
   "source": [],
   "metadata": {
    "collapsed": false,
    "pycharm": {
     "name": "#%%\n"
    }
   }
  }
 ],
 "metadata": {
  "kernelspec": {
   "display_name": "Python 3",
   "language": "python",
   "name": "python3"
  },
  "language_info": {
   "codemirror_mode": {
    "name": "ipython",
    "version": 3
   },
   "file_extension": ".py",
   "mimetype": "text/x-python",
   "name": "python",
   "nbconvert_exporter": "python",
   "pygments_lexer": "ipython3",
   "version": "3.9.2"
  }
 },
 "nbformat": 4,
 "nbformat_minor": 1
}