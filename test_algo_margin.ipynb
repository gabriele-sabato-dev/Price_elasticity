{
 "cells": [
  {
   "cell_type": "code",
   "execution_count": 9,
   "metadata": {
    "collapsed": true
   },
   "outputs": [],
   "source": [
    "import math\n",
    "import numpy as np\n",
    "import pandas as pd\n",
    "\n"
   ]
  },
  {
   "cell_type": "code",
   "execution_count": 12,
   "outputs": [],
   "source": [
    "df_fin = pd.read_csv('./pickle_files/df_final_spark_top5k_080421.csv',index_col=0)"
   ],
   "metadata": {
    "collapsed": false,
    "pycharm": {
     "name": "#%%\n"
    }
   }
  },
  {
   "cell_type": "code",
   "execution_count": 13,
   "outputs": [
    {
     "data": {
      "text/plain": "    item_code  avg_conv_rate  last_price   last_date  avg_unique_views  \\\n0  1000012530       0.016220       99.99  2021-02-13         66.081387   \n1  1000012794       0.014916      259.99  2021-02-25         41.525974   \n2  1000021922       0.023490      114.99  2021-02-16         90.113095   \n3  1000022179       0.003121      479.99  2021-02-06         93.258739   \n4  1000024320       0.024532      119.99  2020-12-01         22.354839   \n\n       PE  PE_err  has_enough_stat      pc2        item_skey  \n0 -0.0187  0.0059             True   44.680  247523697279378  \n1 -0.0120  0.0052            False  141.050  151936474932722  \n2 -0.0194  0.0025             True      NaN  156995084198890  \n3 -0.0136  0.0033             True  276.870   11954970507506  \n4 -0.0220  0.0097            False   65.109   31827848594342  ",
      "text/html": "<div>\n<style scoped>\n    .dataframe tbody tr th:only-of-type {\n        vertical-align: middle;\n    }\n\n    .dataframe tbody tr th {\n        vertical-align: top;\n    }\n\n    .dataframe thead th {\n        text-align: right;\n    }\n</style>\n<table border=\"1\" class=\"dataframe\">\n  <thead>\n    <tr style=\"text-align: right;\">\n      <th></th>\n      <th>item_code</th>\n      <th>avg_conv_rate</th>\n      <th>last_price</th>\n      <th>last_date</th>\n      <th>avg_unique_views</th>\n      <th>PE</th>\n      <th>PE_err</th>\n      <th>has_enough_stat</th>\n      <th>pc2</th>\n      <th>item_skey</th>\n    </tr>\n  </thead>\n  <tbody>\n    <tr>\n      <th>0</th>\n      <td>1000012530</td>\n      <td>0.016220</td>\n      <td>99.99</td>\n      <td>2021-02-13</td>\n      <td>66.081387</td>\n      <td>-0.0187</td>\n      <td>0.0059</td>\n      <td>True</td>\n      <td>44.680</td>\n      <td>247523697279378</td>\n    </tr>\n    <tr>\n      <th>1</th>\n      <td>1000012794</td>\n      <td>0.014916</td>\n      <td>259.99</td>\n      <td>2021-02-25</td>\n      <td>41.525974</td>\n      <td>-0.0120</td>\n      <td>0.0052</td>\n      <td>False</td>\n      <td>141.050</td>\n      <td>151936474932722</td>\n    </tr>\n    <tr>\n      <th>2</th>\n      <td>1000021922</td>\n      <td>0.023490</td>\n      <td>114.99</td>\n      <td>2021-02-16</td>\n      <td>90.113095</td>\n      <td>-0.0194</td>\n      <td>0.0025</td>\n      <td>True</td>\n      <td>NaN</td>\n      <td>156995084198890</td>\n    </tr>\n    <tr>\n      <th>3</th>\n      <td>1000022179</td>\n      <td>0.003121</td>\n      <td>479.99</td>\n      <td>2021-02-06</td>\n      <td>93.258739</td>\n      <td>-0.0136</td>\n      <td>0.0033</td>\n      <td>True</td>\n      <td>276.870</td>\n      <td>11954970507506</td>\n    </tr>\n    <tr>\n      <th>4</th>\n      <td>1000024320</td>\n      <td>0.024532</td>\n      <td>119.99</td>\n      <td>2020-12-01</td>\n      <td>22.354839</td>\n      <td>-0.0220</td>\n      <td>0.0097</td>\n      <td>False</td>\n      <td>65.109</td>\n      <td>31827848594342</td>\n    </tr>\n  </tbody>\n</table>\n</div>"
     },
     "execution_count": 13,
     "metadata": {},
     "output_type": "execute_result"
    }
   ],
   "source": [
    "df_fin.head()"
   ],
   "metadata": {
    "collapsed": false,
    "pycharm": {
     "name": "#%%\n"
    }
   }
  },
  {
   "cell_type": "code",
   "execution_count": 14,
   "outputs": [
    {
     "name": "stdout",
     "output_type": "stream",
     "text": [
      "item_code             int64\n",
      "avg_conv_rate       float64\n",
      "last_price          float64\n",
      "last_date            object\n",
      "avg_unique_views    float64\n",
      "PE                  float64\n",
      "PE_err              float64\n",
      "has_enough_stat        bool\n",
      "pc2                 float64\n",
      "item_skey             int64\n",
      "dtype: object\n"
     ]
    }
   ],
   "source": [
    "df_final_spark=df_fin.astype({'pc2': 'float64'})\n",
    "\n",
    "print(df_final_spark.dtypes)\n",
    "\n",
    "df_final_spark.dropna(inplace=True)\n",
    "df_final_spark = df_final_spark[df_final_spark['PE']< 1.0]\n",
    "df_final_spark = df_final_spark[df_final_spark['PE_err']<1.0]"
   ],
   "metadata": {
    "collapsed": false,
    "pycharm": {
     "name": "#%%\n"
    }
   }
  },
  {
   "cell_type": "code",
   "execution_count": 15,
   "outputs": [],
   "source": [
    "VAT = 1.19\n",
    "\n"
   ],
   "metadata": {
    "collapsed": false,
    "pycharm": {
     "name": "#%%\n"
    }
   }
  },
  {
   "cell_type": "code",
   "execution_count": 16,
   "outputs": [],
   "source": [
    "def create_auxiliary_var(dataf=df_final_spark):\n",
    "    dataf['Delta_price'] = (dataf['last_price']/VAT - dataf['pc2'])\n",
    "    dataf['Margin_base'] = dataf['avg_unique_views']*dataf['avg_conv_rate']*(dataf['Delta_price'])\n",
    "\n",
    "def classify(dataf= df_final_spark):\n",
    "    dataf['Group_flag'] = np.where(dataf['Margin_base'] < (dataf['Margin_up'] - 3*dataf['Margin_err_up']), 'up',\n",
    "                                        np.where(dataf['Margin_base'] < (dataf['Margin_down'] - 3*dataf['Margin_err_down']), 'down','neutral'))\n",
    "\n"
   ],
   "metadata": {
    "collapsed": false,
    "pycharm": {
     "name": "#%%\n"
    }
   }
  },
  {
   "cell_type": "code",
   "execution_count": 17,
   "outputs": [],
   "source": [
    "def create_Margin( increment = 0.01, dataf = df_final_spark, flag = 'up'):\n",
    "    if flag == 'down':\n",
    "        increment = -increment\n",
    "\n",
    "    price          = 'price_'+flag\n",
    "    Delta_price    = 'Delta_price_'+flag\n",
    "    conv_rate      = 'conv_rate_'+flag\n",
    "    conv_rate_err  = 'conv_rate_err_'+flag\n",
    "    Margin         = 'Margin_'+flag\n",
    "    Margin_err     = 'Margin_err_'+flag\n",
    "\n",
    "    dataf[price]              =  dataf['last_price']*math.exp(increment)\n",
    "    dataf[Delta_price]        =  (dataf[price]/VAT - dataf['pc2']) #MEVI I am overwriting this variable\n",
    "    dataf[conv_rate]          =  dataf['avg_conv_rate']*np.exp(dataf['PE']*np.log(dataf[price]/dataf['last_price']))\n",
    "    dataf[conv_rate_err]      =  np.fabs(dataf[conv_rate])*np.fabs(dataf['PE_err']*np.log(dataf[price]/dataf['last_price']))\n",
    "    dataf[Margin]             =  dataf['avg_unique_views']*dataf[conv_rate]*(dataf[Delta_price])\n",
    "    #Propagate Margin error\n",
    "    dataf[Margin_err]          =  dataf['avg_unique_views']*dataf[conv_rate_err]*(dataf[Delta_price])\n",
    "\n"
   ],
   "metadata": {
    "collapsed": false,
    "pycharm": {
     "name": "#%%\n"
    }
   }
  },
  {
   "cell_type": "code",
   "execution_count": 18,
   "outputs": [
    {
     "name": "stdout",
     "output_type": "stream",
     "text": [
      "    item_code  avg_conv_rate  last_price\n",
      "0  1000012530       0.016220       99.99\n",
      "1  1000012794       0.014916      259.99\n",
      "3  1000022179       0.003121      479.99\n",
      "4  1000024320       0.024532      119.99\n",
      "5  1000034743       0.005481      279.99\n"
     ]
    }
   ],
   "source": [
    "print(df_final_spark[['item_code','avg_conv_rate','last_price']].head())\n",
    "#create_Margin(0.01)"
   ],
   "metadata": {
    "collapsed": false,
    "pycharm": {
     "name": "#%%\n"
    }
   }
  },
  {
   "cell_type": "code",
   "execution_count": 30,
   "outputs": [
    {
     "name": "stdout",
     "output_type": "stream",
     "text": [
      "4155\n"
     ]
    }
   ],
   "source": [
    "original_df= df_final_spark\n",
    "print(len(original_df.index))\n",
    "tmp_df = pd.DataFrame()\n",
    "\n",
    "original_df_up   = pd.DataFrame()\n",
    "original_df_down = pd.DataFrame()"
   ],
   "metadata": {
    "collapsed": false,
    "pycharm": {
     "name": "#%%\n"
    }
   }
  },
  {
   "cell_type": "code",
   "execution_count": 31,
   "outputs": [
    {
     "name": "stdout",
     "output_type": "stream",
     "text": [
      "Increment = 0.01\n",
      "tmp\n",
      " Empty DataFrame\n",
      "Columns: [item_code, avg_conv_rate, last_price, last_date, avg_unique_views, PE, PE_err, has_enough_stat, pc2, item_skey, Delta_price, Margin_base, price_up, Delta_price_up, conv_rate_up, conv_rate_err_up, Margin_up, Margin_err_up, price_down, Delta_price_down, conv_rate_down, conv_rate_err_down, Margin_down, Margin_err_down, Group_flag]\n",
      "Index: []\n",
      "\n",
      "[0 rows x 25 columns]\n",
      "up\n",
      "     item_code  avg_conv_rate  last_price   last_date  avg_unique_views  \\\n",
      "0  1000012530       0.016220       99.99  2021-02-13         66.081387   \n",
      "1  1000012794       0.014916      259.99  2021-02-25         41.525974   \n",
      "3  1000022179       0.003121      479.99  2021-02-06         93.258739   \n",
      "4  1000024320       0.024532      119.99  2020-12-01         22.354839   \n",
      "5  1000034743       0.005481      279.99  2021-02-04        110.202494   \n",
      "\n",
      "       PE  PE_err  has_enough_stat      pc2        item_skey  ...  \\\n",
      "0 -0.0187  0.0059             True   44.680  247523697279378  ...   \n",
      "1 -0.0120  0.0052            False  141.050  151936474932722  ...   \n",
      "3 -0.0136  0.0033             True  276.870   11954970507506  ...   \n",
      "4 -0.0220  0.0097            False   65.109   31827848594342  ...   \n",
      "5 -0.0186  0.0048             True  171.030  206871238538442  ...   \n",
      "\n",
      "   conv_rate_err_up  Margin_up  Margin_err_up  price_down  Delta_price_down  \\\n",
      "0      9.567734e-07  43.067609       0.002541   98.995083         38.509145   \n",
      "1      7.755479e-07  49.314333       0.002564  257.403056         75.255089   \n",
      "3      1.029903e-07  37.993099       0.001254  475.214020        122.469512   \n",
      "4      2.379083e-06  20.142108       0.001954  118.796080         34.719638   \n",
      "5      2.630578e-07  40.235416       0.001931  277.204053         61.914582   \n",
      "\n",
      "   conv_rate_down  conv_rate_err_down  Margin_down  Margin_err_down  \\\n",
      "0        0.016223        9.571313e-07    41.282173         0.002436   \n",
      "1        0.014918        7.757341e-07    46.619245         0.002424   \n",
      "3        0.003122        1.030184e-07    35.654815         0.001177   \n",
      "4        0.024537        2.380130e-06    19.044767         0.001847   \n",
      "5        0.005482        2.631557e-07    37.407263         0.001796   \n",
      "\n",
      "   Group_flag  \n",
      "0          up  \n",
      "1          up  \n",
      "3          up  \n",
      "4          up  \n",
      "5          up  \n",
      "\n",
      "[5 rows x 25 columns]\n",
      "down\n",
      " Empty DataFrame\n",
      "Columns: [item_code, avg_conv_rate, last_price, last_date, avg_unique_views, PE, PE_err, has_enough_stat, pc2, item_skey, Delta_price, Margin_base, price_up, Delta_price_up, conv_rate_up, conv_rate_err_up, Margin_up, Margin_err_up, price_down, Delta_price_down, conv_rate_down, conv_rate_err_down, Margin_down, Margin_err_down, Group_flag]\n",
      "Index: []\n",
      "\n",
      "[0 rows x 25 columns]\n",
      "0\n",
      "4155\n",
      "0\n",
      "Increment = 0.02\n",
      "tmp\n",
      "        item_code  avg_conv_rate  last_price   last_date  avg_unique_views  \\\n",
      "2602  1000227560       0.001835      779.99  2020-12-23          43.92868   \n",
      "\n",
      "          PE  PE_err  has_enough_stat      pc2        item_skey  ...  \\\n",
      "2602 -0.5212  0.3953            False  404.139  225659508504783  ...   \n",
      "\n",
      "      conv_rate_err_up  Margin_up  Margin_err_up  price_down  \\\n",
      "2602          0.000014  21.103599       0.166845   772.22897   \n",
      "\n",
      "      Delta_price_down  conv_rate_down  conv_rate_err_down  Margin_down  \\\n",
      "2602        244.792907        0.001845            0.000007    19.834838   \n",
      "\n",
      "      Margin_err_down  Group_flag  \n",
      "2602         0.078407     neutral  \n",
      "\n",
      "[1 rows x 25 columns]\n",
      "up\n",
      "     item_code  avg_conv_rate  last_price   last_date  avg_unique_views  \\\n",
      "0  1000012530       0.016220       99.99  2021-02-13         66.081387   \n",
      "1  1000012794       0.014916      259.99  2021-02-25         41.525974   \n",
      "3  1000022179       0.003121      479.99  2021-02-06         93.258739   \n",
      "4  1000024320       0.024532      119.99  2020-12-01         22.354839   \n",
      "5  1000034743       0.005481      279.99  2021-02-04        110.202494   \n",
      "\n",
      "       PE  PE_err  has_enough_stat      pc2        item_skey  ...  \\\n",
      "0 -0.0187  0.0059             True   44.680  247523697279378  ...   \n",
      "1 -0.0120  0.0052            False  141.050  151936474932722  ...   \n",
      "3 -0.0136  0.0033             True  276.870   11954970507506  ...   \n",
      "4 -0.0220  0.0097            False   65.109   31827848594342  ...   \n",
      "5 -0.0186  0.0048             True  171.030  206871238538442  ...   \n",
      "\n",
      "   conv_rate_err_up  Margin_up  Margin_err_up  price_down  Delta_price_down  \\\n",
      "0      1.913189e-06  43.973419       0.005189   98.995083         38.509145   \n",
      "1      1.550910e-06  50.681822       0.005271  257.403056         75.255089   \n",
      "3      2.059527e-07  39.179489       0.002586  475.214020        122.469512   \n",
      "4      4.757119e-06  20.698762       0.004016  118.796080         34.719638   \n",
      "5      5.260178e-07  41.670156       0.004000  277.204053         61.914582   \n",
      "\n",
      "   conv_rate_down  conv_rate_err_down  Margin_down  Margin_err_down  \\\n",
      "0        0.016223        9.571313e-07    41.282173         0.002436   \n",
      "1        0.014918        7.757341e-07    46.619245         0.002424   \n",
      "3        0.003122        1.030184e-07    35.654815         0.001177   \n",
      "4        0.024537        2.380130e-06    19.044767         0.001847   \n",
      "5        0.005482        2.631557e-07    37.407263         0.001796   \n",
      "\n",
      "   Group_flag  \n",
      "0          up  \n",
      "1          up  \n",
      "3          up  \n",
      "4          up  \n",
      "5          up  \n",
      "\n",
      "[5 rows x 25 columns]\n",
      "down\n",
      " Empty DataFrame\n",
      "Columns: [item_code, avg_conv_rate, last_price, last_date, avg_unique_views, PE, PE_err, has_enough_stat, pc2, item_skey, Delta_price, Margin_base, price_up, Delta_price_up, conv_rate_up, conv_rate_err_up, Margin_up, Margin_err_up, price_down, Delta_price_down, conv_rate_down, conv_rate_err_down, Margin_down, Margin_err_down, Group_flag]\n",
      "Index: []\n",
      "\n",
      "[0 rows x 25 columns]\n",
      "1\n",
      "4154\n",
      "0\n"
     ]
    }
   ],
   "source": [
    "create_auxiliary_var(original_df)\n",
    "for inc in [0.01,0.02]: #np.linspace(0.01,0.1,10):\n",
    "    print('Increment = ' + str(inc))\n",
    "    if inc == 0.01:\n",
    "        create_Margin(inc,original_df,'up')\n",
    "        create_Margin(inc,original_df,'down')\n",
    "        classify(original_df)\n",
    "        tmp_df           = tmp_df.append(original_df[original_df['Group_flag'] == 'neutral'])\n",
    "        original_df_up   = original_df_up.append(original_df[original_df['Group_flag'] == 'up'])\n",
    "        original_df_down = original_df_down.append(original_df[original_df['Group_flag'] == 'down'])\n",
    "        print('tmp\\n',tmp_df.head())\n",
    "        print('up\\n', original_df_up.head())\n",
    "        print('down\\n',original_df_down.head())\n",
    "    if inc > 0.01:\n",
    "        create_Margin(inc,original_df_up,'up')\n",
    "        create_Margin(inc,original_df_down,'down')\n",
    "        classify(original_df_up)\n",
    "        classify(original_df_down)\n",
    "        tmp_df           = tmp_df.append(original_df_up[original_df_up['Group_flag'] == 'neutral'])\n",
    "        tmp_df           = tmp_df.append(original_df_down[original_df_down['Group_flag'] == 'neutral'])\n",
    "        original_df_up   = original_df_up[original_df_up['Group_flag'] == 'up']\n",
    "        original_df_down = original_df_down[original_df_down['Group_flag'] == 'down']\n",
    "        print('tmp\\n',tmp_df.head())\n",
    "        print('up\\n', original_df_up.head())\n",
    "        print('down\\n',original_df_down.head())\n",
    "    original_df_down['Margin_base']   = original_df_down['Margin_down']\n",
    "    original_df_up['Margin_base']   = original_df_up['Margin_up']\n",
    "\n",
    "    print(len(tmp_df.index))\n",
    "    print(len(original_df_up.index))\n",
    "    print(len(original_df_down.index))"
   ],
   "metadata": {
    "collapsed": false,
    "pycharm": {
     "name": "#%%\n"
    }
   }
  },
  {
   "cell_type": "code",
   "execution_count": null,
   "outputs": [],
   "source": [
    "df_final_spark.head(400)\n"
   ],
   "metadata": {
    "collapsed": false,
    "pycharm": {
     "name": "#%%\n"
    }
   }
  },
  {
   "cell_type": "code",
   "execution_count": null,
   "outputs": [],
   "source": [
    "tmp_df[['item_code','avg_conv_rate','last_price','PE','PE_err','has_enough_stat','pc2','price_up','price_down','Margin_base','Margin_up','Margin_err_up','Margin_down','Margin_err_down','Group_flag']].head(400)\n"
   ],
   "metadata": {
    "collapsed": false,
    "pycharm": {
     "name": "#%%\n"
    }
   }
  },
  {
   "cell_type": "code",
   "execution_count": null,
   "outputs": [],
   "source": [
    "tmp_df = tmp_df.sort_index()"
   ],
   "metadata": {
    "collapsed": false,
    "pycharm": {
     "name": "#%%\n"
    }
   }
  },
  {
   "cell_type": "code",
   "execution_count": null,
   "outputs": [],
   "source": [
    "tmp_df['Margin_last'] = tmp_df['Margin_base']\n",
    "tmp_df.head()"
   ],
   "metadata": {
    "collapsed": false,
    "pycharm": {
     "name": "#%%\n"
    }
   }
  },
  {
   "cell_type": "code",
   "execution_count": null,
   "outputs": [],
   "source": [
    "create_Margin(0.01,df_final_spark)\n",
    "df_final_spark.head()"
   ],
   "metadata": {
    "collapsed": false,
    "pycharm": {
     "name": "#%%\n"
    }
   }
  },
  {
   "cell_type": "code",
   "execution_count": null,
   "outputs": [],
   "source": [
    "tmp_df['Margin_base']=df_final_spark['Margin_base']\n",
    "\n",
    "tmp_df['Margin_rate_to_base'] = np.log(tmp_df['Margin_down']/tmp_df['Margin_base'])\n",
    "#tmp_df['Margin_rate_to_last'] = np.log(tmp_df['Margin_down']/tmp_df['Margin_last'])"
   ],
   "metadata": {
    "collapsed": false,
    "pycharm": {
     "name": "#%%\n"
    }
   }
  },
  {
   "cell_type": "code",
   "execution_count": null,
   "outputs": [],
   "source": [
    "tmp_df[['item_code','avg_conv_rate'\t,'last_price','avg_unique_views', 'price_down', 'Delta_price', 'Margin_down','Margin_base','Margin_down_err','Margin_last','Group_flag','Margin_rate_to_base']]"
   ],
   "metadata": {
    "collapsed": false,
    "pycharm": {
     "name": "#%%\n"
    }
   }
  },
  {
   "cell_type": "code",
   "execution_count": null,
   "outputs": [],
   "source": [
    "print(tmp_df['Margin_rate_to_base'].mean()*100)"
   ],
   "metadata": {
    "collapsed": false,
    "pycharm": {
     "name": "#%%\n"
    }
   }
  },
  {
   "cell_type": "code",
   "execution_count": null,
   "outputs": [],
   "source": [
    "tmp_df.to_csv('../raw_data/Excel_files/Margin_result_PE_analysis_PC2_no_stock_no_stat_filter_20210226.csv')\n",
    "\n",
    "\n"
   ],
   "metadata": {
    "collapsed": false,
    "pycharm": {
     "name": "#%%\n"
    }
   }
  }
 ],
 "metadata": {
  "kernelspec": {
   "display_name": "Python 3",
   "language": "python",
   "name": "python3"
  },
  "language_info": {
   "codemirror_mode": {
    "name": "ipython",
    "version": 2
   },
   "file_extension": ".py",
   "mimetype": "text/x-python",
   "name": "python",
   "nbconvert_exporter": "python",
   "pygments_lexer": "ipython2",
   "version": "2.7.6"
  }
 },
 "nbformat": 4,
 "nbformat_minor": 0
}