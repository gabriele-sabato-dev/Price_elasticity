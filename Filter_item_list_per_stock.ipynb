{
 "cells": [
  {
   "cell_type": "code",
   "execution_count": 11,
   "metadata": {
    "collapsed": true
   },
   "outputs": [
    {
     "data": {
      "text/plain": "<IPython.core.display.HTML object>",
      "text/html": "<style>.container { width:100% !important; }</style>"
     },
     "metadata": {},
     "output_type": "display_data"
    }
   ],
   "source": [
    "\n",
    "#IMPORTING SETUP PACKAGES\n",
    "import statsmodels.formula.api as smf\n",
    "import pandas as pd\n",
    "\n",
    "%matplotlib inline\n",
    "import matplotlib.pyplot as plt\n",
    "plt.style.use('seaborn-whitegrid')\n",
    "\n",
    "from IPython.core.display import display, HTML\n",
    "display(HTML(\"<style>.container { width:100% !important; }</style>\"))\n",
    "\n",
    "pd.set_option('display.max_rows', 500)"
   ]
  },
  {
   "cell_type": "code",
   "execution_count": 21,
   "outputs": [],
   "source": [
    "#df_high = pd.read_csv('./pickle_files/Top1k_high_el.csv', index_col='Unnamed: 0')#header=0,names=['item_code','PE','PE_err','log_del_week', 'log_del_week_err','Cluster_size','has_enough_stat'])\n",
    "df_high = pd.read_csv('./pickle_files/Top3k_high_el.csv', header=0,names=['item_code','PE','PE_err','log_del_week', 'log_del_week_err','Cluster_size','has_enough_stat'])\n",
    "df_medium = pd.read_csv('./pickle_files/Top3k_medium_el.csv', header=0,names=['item_code','PE','PE_err','log_del_week', 'log_del_week_err','Cluster_size','has_enough_stat'])\n",
    "df_low = pd.read_csv('./pickle_files/Top3k_low_el.csv', header=0,names=['item_code','PE','PE_err','log_del_week', 'log_del_week_err','Cluster_size','has_enough_stat'])"
   ],
   "metadata": {
    "collapsed": false,
    "pycharm": {
     "name": "#%%\n"
    }
   }
  },
  {
   "cell_type": "code",
   "execution_count": 22,
   "outputs": [],
   "source": [
    "#print(df_high.head(100))\n",
    "#print(df_medium.head(100))\n",
    "#print(df_low.head(100))"
   ],
   "metadata": {
    "collapsed": false,
    "pycharm": {
     "name": "#%%\n"
    }
   }
  },
  {
   "cell_type": "code",
   "execution_count": 23,
   "outputs": [],
   "source": [
    "#print(df_high.columns)"
   ],
   "metadata": {
    "collapsed": false,
    "pycharm": {
     "name": "#%%\n"
    }
   }
  },
  {
   "cell_type": "code",
   "execution_count": 24,
   "outputs": [],
   "source": [
    "df_medium_filt = df_medium[['item_code','PE','PE_err','Cluster_size']]\n",
    "df_high_filt = df_high[['item_code','PE','PE_err','Cluster_size']]\n",
    "df_low_filt = df_low[['item_code','PE','PE_err','Cluster_size']]"
   ],
   "metadata": {
    "collapsed": false,
    "pycharm": {
     "name": "#%%\n"
    }
   }
  },
  {
   "cell_type": "code",
   "execution_count": 25,
   "outputs": [],
   "source": [
    "#print(df_medium_filt.head(100))\n",
    "#print(df_high_filt.head(100))\n",
    "#print(df_low_filt.head(100))"
   ],
   "metadata": {
    "collapsed": false,
    "pycharm": {
     "name": "#%%\n"
    }
   }
  },
  {
   "cell_type": "code",
   "execution_count": 26,
   "outputs": [],
   "source": [
    "df_reach = pd.read_csv('../raw_data/stock_av/item_code_stock_reach.csv')\n"
   ],
   "metadata": {
    "collapsed": false,
    "pycharm": {
     "name": "#%%\n"
    }
   }
  },
  {
   "cell_type": "code",
   "execution_count": 27,
   "outputs": [],
   "source": [
    "#print(df_reach.head(10))"
   ],
   "metadata": {
    "collapsed": false,
    "pycharm": {
     "name": "#%%\n"
    }
   }
  },
  {
   "cell_type": "code",
   "execution_count": 28,
   "outputs": [
    {
     "name": "stdout",
     "output_type": "stream",
     "text": [
      "4078\n"
     ]
    }
   ],
   "source": [
    "avl_item = list(df_reach.item_code.values)\n",
    "print(len(avl_item))"
   ],
   "metadata": {
    "collapsed": false,
    "pycharm": {
     "name": "#%%\n"
    }
   }
  },
  {
   "cell_type": "code",
   "execution_count": 29,
   "outputs": [
    {
     "name": "stdout",
     "output_type": "stream",
     "text": [
      "128\n",
      "133\n",
      "134\n"
     ]
    }
   ],
   "source": [
    "df_high_stock_filt=df_high_filt[df_high_filt['item_code'].isin(avl_item)]\n",
    "df_medium_stock_filt=df_medium_filt[df_medium_filt['item_code'].isin(avl_item)]\n",
    "df_low_stock_filt=df_low_filt[df_low_filt['item_code'].isin(avl_item)]\n",
    "\n",
    "\n",
    "print(len(df_high_stock_filt.index))\n",
    "print(len(df_medium_stock_filt.index))\n",
    "print(len(df_low_stock_filt.index))"
   ],
   "metadata": {
    "collapsed": false,
    "pycharm": {
     "name": "#%%\n"
    }
   }
  },
  {
   "cell_type": "code",
   "execution_count": null,
   "outputs": [],
   "source": [],
   "metadata": {
    "collapsed": false,
    "pycharm": {
     "name": "#%%\n"
    }
   }
  }
 ],
 "metadata": {
  "kernelspec": {
   "display_name": "Python 3",
   "language": "python",
   "name": "python3"
  },
  "language_info": {
   "codemirror_mode": {
    "name": "ipython",
    "version": 2
   },
   "file_extension": ".py",
   "mimetype": "text/x-python",
   "name": "python",
   "nbconvert_exporter": "python",
   "pygments_lexer": "ipython2",
   "version": "2.7.6"
  }
 },
 "nbformat": 4,
 "nbformat_minor": 0
}