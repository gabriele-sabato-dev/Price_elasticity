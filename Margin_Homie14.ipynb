{
 "cells": [
  {
   "cell_type": "code",
   "execution_count": 1,
   "metadata": {
    "collapsed": true
   },
   "outputs": [],
   "source": [
    "import pandas as pd\n",
    "import numpy as np\n",
    "import psycopg2 as psy\n",
    "import query_to_redshift as qtr"
   ]
  },
  {
   "cell_type": "code",
   "execution_count": 2,
   "outputs": [],
   "source": [
    "original_df_up = pd.read_csv('../raw_data/Excel_files/Item_margin_up_pre_campaign_202106.csv', index_col=0)\n",
    "original_df_down = pd.read_csv('../raw_data/Excel_files/Item_margin_down_pre_campaign_202106.csv', index_col=0)"
   ],
   "metadata": {
    "collapsed": false,
    "pycharm": {
     "name": "#%%\n"
    }
   }
  },
  {
   "cell_type": "code",
   "execution_count": 3,
   "outputs": [],
   "source": [
    "homie_days_query = \"\"\"\n",
    "SELECT item_code,\n",
    "       MIN(period_date),\n",
    "       MAX(period_date),\n",
    "       webshop_code,\n",
    "       final_price_amount,\n",
    "       item_campaign_key,\n",
    "       item_campaign_label,\n",
    "       item_campaign_category\n",
    "  from public.item_catalog_history\n",
    " where item_campaign_category like '%HomieDay%'\n",
    "   and item_campaign_key like '%14%'\n",
    "   and sellable_flag = true\n",
    "   and webshop_code = 'DE'\n",
    "   and period_date >= '2021-04-29'\n",
    " GROUP BY item_code, webshop_code, final_price_amount,\n",
    " item_campaign_label, item_campaign_key, item_campaign_category\n",
    "HAVING (MAX(period_date) - MIN(period_date)) > 14.\"\"\"\n"
   ],
   "metadata": {
    "collapsed": false,
    "pycharm": {
     "name": "#%%\n"
    }
   }
  },
  {
   "cell_type": "code",
   "execution_count": 4,
   "outputs": [],
   "source": [
    "homie_bazooka_query = \"\"\"\n",
    "SELECT item_code,\n",
    "       MIN(period_date) as min_date,\n",
    "       MAX(period_date) as max_date,\n",
    "       --webshop_code,\n",
    "       MAX(final_price_amount) as max_price,\n",
    "       MAX(item_campaign_key) as max_item_campaign_key,\n",
    "       MAX(item_campaign_label) as max_item_campaign_label,\n",
    "       MAX(item_campaign_category) as max_item_campaign_category\n",
    "  from public.item_catalog_history\n",
    " where item_campaign_category like '[CAMPAIGN]HomieDay_Voucher_CW17|%'\n",
    "   and item_campaign_key like 'party14%'\n",
    "   and sellable_flag = true\n",
    "   and webshop_code = 'DE'\n",
    "   and period_date >= '2021-04-29'\n",
    " GROUP BY item_code\n",
    "HAVING MIN(period_date) = '2021-04-29'\n",
    "   and MAX(period_date) = '2021-05-10';\"\"\"\n"
   ],
   "metadata": {
    "collapsed": false,
    "pycharm": {
     "name": "#%%\n"
    }
   }
  },
  {
   "cell_type": "code",
   "execution_count": 5,
   "outputs": [],
   "source": [
    "#df_homie14 = qtr.redshift_query_to_dataframe(qtr.cursor_redshift, homie_days_query)\n",
    "df_homie14 = qtr.redshift_query_to_dataframe(qtr.cursor_redshift, homie_bazooka_query)"
   ],
   "metadata": {
    "collapsed": false,
    "pycharm": {
     "name": "#%%\n"
    }
   }
  },
  {
   "cell_type": "code",
   "execution_count": 6,
   "outputs": [
    {
     "name": "stdout",
     "output_type": "stream",
     "text": [
      "7335\n"
     ]
    }
   ],
   "source": [
    "print(len(df_homie14.index))"
   ],
   "metadata": {
    "collapsed": false,
    "pycharm": {
     "name": "#%%\n"
    }
   }
  },
  {
   "cell_type": "code",
   "execution_count": 7,
   "outputs": [
    {
     "name": "stdout",
     "output_type": "stream",
     "text": [
      "            item_code    min_date    max_date                max_price  \\\n",
      "0  000000001000054997  2021-04-29  2021-05-10   749.990000000000000000   \n",
      "1  000000001000151822  2021-04-29  2021-05-10   164.990000000000000000   \n",
      "2  000000001000186860  2021-04-29  2021-05-10  1549.990000000000000000   \n",
      "3  000000001000144471  2021-04-29  2021-05-10   159.990000000000000000   \n",
      "4  000000001000003310  2021-04-29  2021-05-10    77.990000000000000000   \n",
      "\n",
      "          max_item_campaign_key           max_item_campaign_label  \\\n",
      "0  party14|3dmodels|testcynthia  EXTRA -14 %|3dmodels|testcynthia   \n",
      "1              party14|24series              EXTRA -14 %|EXKLUSIV   \n",
      "2                party14|40sale                    EXTRA -14 %|40   \n",
      "3                party14|30sale                    EXTRA -14 %|30   \n",
      "4                party14|50sale                  EXTRA -14 %|Sale   \n",
      "\n",
      "                    max_item_campaign_category  \n",
      "0  [CAMPAIGN]HomieDay_Voucher_CW17|2019032601|  \n",
      "1             [CAMPAIGN]HomieDay_Voucher_CW17|  \n",
      "2             [CAMPAIGN]HomieDay_Voucher_CW17|  \n",
      "3             [CAMPAIGN]HomieDay_Voucher_CW17|  \n",
      "4             [CAMPAIGN]HomieDay_Voucher_CW17|  \n"
     ]
    }
   ],
   "source": [
    "print(df_homie14.head())"
   ],
   "metadata": {
    "collapsed": false,
    "pycharm": {
     "name": "#%%\n"
    }
   }
  },
  {
   "cell_type": "code",
   "execution_count": 8,
   "outputs": [
    {
     "data": {
      "text/plain": "item_code                     object\nmin_date                      object\nmax_date                      object\nmax_price                     object\nmax_item_campaign_key         object\nmax_item_campaign_label       object\nmax_item_campaign_category    object\ndtype: object"
     },
     "execution_count": 8,
     "metadata": {},
     "output_type": "execute_result"
    }
   ],
   "source": [
    "df_homie14.dtypes"
   ],
   "metadata": {
    "collapsed": false,
    "pycharm": {
     "name": "#%%\n"
    }
   }
  },
  {
   "cell_type": "code",
   "execution_count": 9,
   "outputs": [],
   "source": [
    "df_homie14 = df_homie14.astype({'item_code': int})"
   ],
   "metadata": {
    "collapsed": false,
    "pycharm": {
     "name": "#%%\n"
    }
   }
  },
  {
   "cell_type": "code",
   "execution_count": 10,
   "outputs": [
    {
     "data": {
      "text/plain": "item_code                      int64\nmin_date                      object\nmax_date                      object\nmax_price                     object\nmax_item_campaign_key         object\nmax_item_campaign_label       object\nmax_item_campaign_category    object\ndtype: object"
     },
     "execution_count": 10,
     "metadata": {},
     "output_type": "execute_result"
    }
   ],
   "source": [
    "df_homie14.dtypes"
   ],
   "metadata": {
    "collapsed": false,
    "pycharm": {
     "name": "#%%\n"
    }
   }
  },
  {
   "cell_type": "code",
   "execution_count": 11,
   "outputs": [
    {
     "data": {
      "text/plain": "    item_code    min_date    max_date                max_price  \\\n0  1000054997  2021-04-29  2021-05-10   749.990000000000000000   \n1  1000151822  2021-04-29  2021-05-10   164.990000000000000000   \n2  1000186860  2021-04-29  2021-05-10  1549.990000000000000000   \n3  1000144471  2021-04-29  2021-05-10   159.990000000000000000   \n4  1000003310  2021-04-29  2021-05-10    77.990000000000000000   \n\n          max_item_campaign_key           max_item_campaign_label  \\\n0  party14|3dmodels|testcynthia  EXTRA -14 %|3dmodels|testcynthia   \n1              party14|24series              EXTRA -14 %|EXKLUSIV   \n2                party14|40sale                    EXTRA -14 %|40   \n3                party14|30sale                    EXTRA -14 %|30   \n4                party14|50sale                  EXTRA -14 %|Sale   \n\n                    max_item_campaign_category  \n0  [CAMPAIGN]HomieDay_Voucher_CW17|2019032601|  \n1             [CAMPAIGN]HomieDay_Voucher_CW17|  \n2             [CAMPAIGN]HomieDay_Voucher_CW17|  \n3             [CAMPAIGN]HomieDay_Voucher_CW17|  \n4             [CAMPAIGN]HomieDay_Voucher_CW17|  ",
      "text/html": "<div>\n<style scoped>\n    .dataframe tbody tr th:only-of-type {\n        vertical-align: middle;\n    }\n\n    .dataframe tbody tr th {\n        vertical-align: top;\n    }\n\n    .dataframe thead th {\n        text-align: right;\n    }\n</style>\n<table border=\"1\" class=\"dataframe\">\n  <thead>\n    <tr style=\"text-align: right;\">\n      <th></th>\n      <th>item_code</th>\n      <th>min_date</th>\n      <th>max_date</th>\n      <th>max_price</th>\n      <th>max_item_campaign_key</th>\n      <th>max_item_campaign_label</th>\n      <th>max_item_campaign_category</th>\n    </tr>\n  </thead>\n  <tbody>\n    <tr>\n      <th>0</th>\n      <td>1000054997</td>\n      <td>2021-04-29</td>\n      <td>2021-05-10</td>\n      <td>749.990000000000000000</td>\n      <td>party14|3dmodels|testcynthia</td>\n      <td>EXTRA -14 %|3dmodels|testcynthia</td>\n      <td>[CAMPAIGN]HomieDay_Voucher_CW17|2019032601|</td>\n    </tr>\n    <tr>\n      <th>1</th>\n      <td>1000151822</td>\n      <td>2021-04-29</td>\n      <td>2021-05-10</td>\n      <td>164.990000000000000000</td>\n      <td>party14|24series</td>\n      <td>EXTRA -14 %|EXKLUSIV</td>\n      <td>[CAMPAIGN]HomieDay_Voucher_CW17|</td>\n    </tr>\n    <tr>\n      <th>2</th>\n      <td>1000186860</td>\n      <td>2021-04-29</td>\n      <td>2021-05-10</td>\n      <td>1549.990000000000000000</td>\n      <td>party14|40sale</td>\n      <td>EXTRA -14 %|40</td>\n      <td>[CAMPAIGN]HomieDay_Voucher_CW17|</td>\n    </tr>\n    <tr>\n      <th>3</th>\n      <td>1000144471</td>\n      <td>2021-04-29</td>\n      <td>2021-05-10</td>\n      <td>159.990000000000000000</td>\n      <td>party14|30sale</td>\n      <td>EXTRA -14 %|30</td>\n      <td>[CAMPAIGN]HomieDay_Voucher_CW17|</td>\n    </tr>\n    <tr>\n      <th>4</th>\n      <td>1000003310</td>\n      <td>2021-04-29</td>\n      <td>2021-05-10</td>\n      <td>77.990000000000000000</td>\n      <td>party14|50sale</td>\n      <td>EXTRA -14 %|Sale</td>\n      <td>[CAMPAIGN]HomieDay_Voucher_CW17|</td>\n    </tr>\n  </tbody>\n</table>\n</div>"
     },
     "execution_count": 11,
     "metadata": {},
     "output_type": "execute_result"
    }
   ],
   "source": [
    "df_homie14.head()\n"
   ],
   "metadata": {
    "collapsed": false,
    "pycharm": {
     "name": "#%%\n"
    }
   }
  },
  {
   "cell_type": "code",
   "execution_count": 12,
   "outputs": [],
   "source": [
    "merged_down = pd.merge(original_df_down, df_homie14, on='item_code')\n"
   ],
   "metadata": {
    "collapsed": false,
    "pycharm": {
     "name": "#%%\n"
    }
   }
  },
  {
   "cell_type": "code",
   "execution_count": 13,
   "outputs": [],
   "source": [
    "merged_up = pd.merge(original_df_up, df_homie14, on='item_code')"
   ],
   "metadata": {
    "collapsed": false,
    "pycharm": {
     "name": "#%%\n"
    }
   }
  },
  {
   "cell_type": "code",
   "execution_count": 14,
   "outputs": [
    {
     "data": {
      "text/plain": "    item_code  item_price_x  max_date_x  delivery_weeks  sales_pe  \\\n0  1000118440         74.99  2021-04-28               1   -8.4735   \n1  1000086540        349.99  2021-04-28               3   -1.4374   \n2  1000050876        569.99  2021-04-18               2   -1.1908   \n3  1000209625        194.99  2021-04-28              11   -2.3602   \n4  1000177730        329.99  2021-04-28               4   -1.0609   \n\n   sales_pe_err  beta_del_week  beta_del_week_err  intercept  intercept_err  \\\n0        2.2546        -0.3889             0.1521    46.9114        11.1327   \n1        0.2356        -0.0499             0.0098     9.5983         1.4798   \n2        0.3369        -0.0119             0.0089     9.2930         2.1853   \n3        0.4350        -0.0348             0.0131    15.1122         2.7039   \n4        0.2503        -0.0078             0.0053     7.0730         1.5811   \n\n   ...  N_prime_sales  Delta_Margin  Group_flag            Increment  \\\n0  ...       8.829126      3.875773          up  14.000000000000002%   \n1  ...       0.840108      0.778171          up  14.000000000000002%   \n2  ...       1.556809      5.774286          up  14.000000000000002%   \n3  ...       1.974935      1.731161          up  14.000000000000002%   \n4  ...       0.750567      1.220691          up  14.000000000000002%   \n\n     min_date  max_date_y               max_price   max_item_campaign_key  \\\n0  2021-04-29  2021-05-10   74.990000000000000000          party14|40sale   \n1  2021-04-29  2021-05-10  349.990000000000000000        party14|3dmodels   \n2  2021-04-29  2021-05-10  569.990000000000000000        party14|24series   \n3  2021-04-29  2021-05-10  194.990000000000000000  party14|30sale|storage   \n4  2021-04-29  2021-05-10  329.990000000000000000         party14|storage   \n\n   max_item_campaign_label                  max_item_campaign_category  \n0           EXTRA -14 %|40            [CAMPAIGN]HomieDay_Voucher_CW17|  \n1     EXTRA -14 %|3dmodels  [CAMPAIGN]HomieDay_Voucher_CW17|2019032601  \n2     EXTRA -14 %|EXKLUSIV            [CAMPAIGN]HomieDay_Voucher_CW17|  \n3   EXTRA -14 %|30|storage           [CAMPAIGN]HomieDay_Voucher_CW17||  \n4      EXTRA -14 %|storage            [CAMPAIGN]HomieDay_Voucher_CW17|  \n\n[5 rows x 27 columns]",
      "text/html": "<div>\n<style scoped>\n    .dataframe tbody tr th:only-of-type {\n        vertical-align: middle;\n    }\n\n    .dataframe tbody tr th {\n        vertical-align: top;\n    }\n\n    .dataframe thead th {\n        text-align: right;\n    }\n</style>\n<table border=\"1\" class=\"dataframe\">\n  <thead>\n    <tr style=\"text-align: right;\">\n      <th></th>\n      <th>item_code</th>\n      <th>item_price_x</th>\n      <th>max_date_x</th>\n      <th>delivery_weeks</th>\n      <th>sales_pe</th>\n      <th>sales_pe_err</th>\n      <th>beta_del_week</th>\n      <th>beta_del_week_err</th>\n      <th>intercept</th>\n      <th>intercept_err</th>\n      <th>...</th>\n      <th>N_prime_sales</th>\n      <th>Delta_Margin</th>\n      <th>Group_flag</th>\n      <th>Increment</th>\n      <th>min_date</th>\n      <th>max_date_y</th>\n      <th>max_price</th>\n      <th>max_item_campaign_key</th>\n      <th>max_item_campaign_label</th>\n      <th>max_item_campaign_category</th>\n    </tr>\n  </thead>\n  <tbody>\n    <tr>\n      <th>0</th>\n      <td>1000118440</td>\n      <td>74.99</td>\n      <td>2021-04-28</td>\n      <td>1</td>\n      <td>-8.4735</td>\n      <td>2.2546</td>\n      <td>-0.3889</td>\n      <td>0.1521</td>\n      <td>46.9114</td>\n      <td>11.1327</td>\n      <td>...</td>\n      <td>8.829126</td>\n      <td>3.875773</td>\n      <td>up</td>\n      <td>14.000000000000002%</td>\n      <td>2021-04-29</td>\n      <td>2021-05-10</td>\n      <td>74.990000000000000000</td>\n      <td>party14|40sale</td>\n      <td>EXTRA -14 %|40</td>\n      <td>[CAMPAIGN]HomieDay_Voucher_CW17|</td>\n    </tr>\n    <tr>\n      <th>1</th>\n      <td>1000086540</td>\n      <td>349.99</td>\n      <td>2021-04-28</td>\n      <td>3</td>\n      <td>-1.4374</td>\n      <td>0.2356</td>\n      <td>-0.0499</td>\n      <td>0.0098</td>\n      <td>9.5983</td>\n      <td>1.4798</td>\n      <td>...</td>\n      <td>0.840108</td>\n      <td>0.778171</td>\n      <td>up</td>\n      <td>14.000000000000002%</td>\n      <td>2021-04-29</td>\n      <td>2021-05-10</td>\n      <td>349.990000000000000000</td>\n      <td>party14|3dmodels</td>\n      <td>EXTRA -14 %|3dmodels</td>\n      <td>[CAMPAIGN]HomieDay_Voucher_CW17|2019032601</td>\n    </tr>\n    <tr>\n      <th>2</th>\n      <td>1000050876</td>\n      <td>569.99</td>\n      <td>2021-04-18</td>\n      <td>2</td>\n      <td>-1.1908</td>\n      <td>0.3369</td>\n      <td>-0.0119</td>\n      <td>0.0089</td>\n      <td>9.2930</td>\n      <td>2.1853</td>\n      <td>...</td>\n      <td>1.556809</td>\n      <td>5.774286</td>\n      <td>up</td>\n      <td>14.000000000000002%</td>\n      <td>2021-04-29</td>\n      <td>2021-05-10</td>\n      <td>569.990000000000000000</td>\n      <td>party14|24series</td>\n      <td>EXTRA -14 %|EXKLUSIV</td>\n      <td>[CAMPAIGN]HomieDay_Voucher_CW17|</td>\n    </tr>\n    <tr>\n      <th>3</th>\n      <td>1000209625</td>\n      <td>194.99</td>\n      <td>2021-04-28</td>\n      <td>11</td>\n      <td>-2.3602</td>\n      <td>0.4350</td>\n      <td>-0.0348</td>\n      <td>0.0131</td>\n      <td>15.1122</td>\n      <td>2.7039</td>\n      <td>...</td>\n      <td>1.974935</td>\n      <td>1.731161</td>\n      <td>up</td>\n      <td>14.000000000000002%</td>\n      <td>2021-04-29</td>\n      <td>2021-05-10</td>\n      <td>194.990000000000000000</td>\n      <td>party14|30sale|storage</td>\n      <td>EXTRA -14 %|30|storage</td>\n      <td>[CAMPAIGN]HomieDay_Voucher_CW17||</td>\n    </tr>\n    <tr>\n      <th>4</th>\n      <td>1000177730</td>\n      <td>329.99</td>\n      <td>2021-04-28</td>\n      <td>4</td>\n      <td>-1.0609</td>\n      <td>0.2503</td>\n      <td>-0.0078</td>\n      <td>0.0053</td>\n      <td>7.0730</td>\n      <td>1.5811</td>\n      <td>...</td>\n      <td>0.750567</td>\n      <td>1.220691</td>\n      <td>up</td>\n      <td>14.000000000000002%</td>\n      <td>2021-04-29</td>\n      <td>2021-05-10</td>\n      <td>329.990000000000000000</td>\n      <td>party14|storage</td>\n      <td>EXTRA -14 %|storage</td>\n      <td>[CAMPAIGN]HomieDay_Voucher_CW17|</td>\n    </tr>\n  </tbody>\n</table>\n<p>5 rows × 27 columns</p>\n</div>"
     },
     "execution_count": 14,
     "metadata": {},
     "output_type": "execute_result"
    }
   ],
   "source": [
    "merged_up.head()\n"
   ],
   "metadata": {
    "collapsed": false,
    "pycharm": {
     "name": "#%%\n"
    }
   }
  },
  {
   "cell_type": "code",
   "execution_count": 15,
   "outputs": [
    {
     "data": {
      "text/plain": "    item_code  item_price_x  max_date_x  delivery_weeks  sales_pe  \\\n0  1000048003        349.99  2021-04-23               3   -2.7317   \n1  1000129691        214.99  2021-01-10               2   -2.2732   \n2  1000123695        199.99  2021-04-28               1   -2.5115   \n3  1000128456        429.99  2021-04-28               3   -0.7598   \n4  1000091262        289.99  2020-10-14               3   -3.3256   \n\n   sales_pe_err  beta_del_week  beta_del_week_err  intercept  intercept_err  \\\n0        0.3851        -0.0089             0.0067    16.2329         2.1005   \n1        0.2517        -0.0556             0.0139    11.4418         1.1915   \n2        0.4648        -0.0307             0.0166    13.1606         2.3216   \n3        0.2379        -0.0255             0.0155     4.7650         1.3544   \n4        0.4310        -0.1002             0.0091    18.4672         2.3485   \n\n   ...  N_prime_sales  Delta_Margin  Group_flag             Increment  \\\n0  ...       0.616165      0.590100        down  -14.000000000000002%   \n1  ...      -0.534978      1.743469        down  -14.000000000000002%   \n2  ...       0.202093      1.547909        down  -14.000000000000002%   \n3  ...       0.195849      0.222921        down  -14.000000000000002%   \n4  ...      -0.187465      2.056987        down  -14.000000000000002%   \n\n     min_date  max_date_y               max_price  \\\n0  2021-04-29  2021-05-10  349.990000000000000000   \n1  2021-04-29  2021-05-10  229.990000000000000000   \n2  2021-04-29  2021-05-10  199.990000000000000000   \n3  2021-04-29  2021-05-10  429.990000000000000000   \n4  2021-04-29  2021-05-10  319.990000000000000000   \n\n                max_item_campaign_key                 max_item_campaign_label  \\\n0                     party14|storage                     EXTRA -14 %|storage   \n1                      party14|50sale                        EXTRA -14 %|Sale   \n2            party14|24series|storage            EXTRA -14 %|EXKLUSIV|storage   \n3  party14|eurocup|eurocup21|24series  EXTRA -14 %|Euro Cup|Euro Cup|EXKLUSIV   \n4                    party14|24series                    EXTRA -14 %|EXKLUSIV   \n\n           max_item_campaign_category  \n0    [CAMPAIGN]HomieDay_Voucher_CW17|  \n1    [CAMPAIGN]HomieDay_Voucher_CW17|  \n2   [CAMPAIGN]HomieDay_Voucher_CW17||  \n3  [CAMPAIGN]HomieDay_Voucher_CW17|||  \n4    [CAMPAIGN]HomieDay_Voucher_CW17|  \n\n[5 rows x 27 columns]",
      "text/html": "<div>\n<style scoped>\n    .dataframe tbody tr th:only-of-type {\n        vertical-align: middle;\n    }\n\n    .dataframe tbody tr th {\n        vertical-align: top;\n    }\n\n    .dataframe thead th {\n        text-align: right;\n    }\n</style>\n<table border=\"1\" class=\"dataframe\">\n  <thead>\n    <tr style=\"text-align: right;\">\n      <th></th>\n      <th>item_code</th>\n      <th>item_price_x</th>\n      <th>max_date_x</th>\n      <th>delivery_weeks</th>\n      <th>sales_pe</th>\n      <th>sales_pe_err</th>\n      <th>beta_del_week</th>\n      <th>beta_del_week_err</th>\n      <th>intercept</th>\n      <th>intercept_err</th>\n      <th>...</th>\n      <th>N_prime_sales</th>\n      <th>Delta_Margin</th>\n      <th>Group_flag</th>\n      <th>Increment</th>\n      <th>min_date</th>\n      <th>max_date_y</th>\n      <th>max_price</th>\n      <th>max_item_campaign_key</th>\n      <th>max_item_campaign_label</th>\n      <th>max_item_campaign_category</th>\n    </tr>\n  </thead>\n  <tbody>\n    <tr>\n      <th>0</th>\n      <td>1000048003</td>\n      <td>349.99</td>\n      <td>2021-04-23</td>\n      <td>3</td>\n      <td>-2.7317</td>\n      <td>0.3851</td>\n      <td>-0.0089</td>\n      <td>0.0067</td>\n      <td>16.2329</td>\n      <td>2.1005</td>\n      <td>...</td>\n      <td>0.616165</td>\n      <td>0.590100</td>\n      <td>down</td>\n      <td>-14.000000000000002%</td>\n      <td>2021-04-29</td>\n      <td>2021-05-10</td>\n      <td>349.990000000000000000</td>\n      <td>party14|storage</td>\n      <td>EXTRA -14 %|storage</td>\n      <td>[CAMPAIGN]HomieDay_Voucher_CW17|</td>\n    </tr>\n    <tr>\n      <th>1</th>\n      <td>1000129691</td>\n      <td>214.99</td>\n      <td>2021-01-10</td>\n      <td>2</td>\n      <td>-2.2732</td>\n      <td>0.2517</td>\n      <td>-0.0556</td>\n      <td>0.0139</td>\n      <td>11.4418</td>\n      <td>1.1915</td>\n      <td>...</td>\n      <td>-0.534978</td>\n      <td>1.743469</td>\n      <td>down</td>\n      <td>-14.000000000000002%</td>\n      <td>2021-04-29</td>\n      <td>2021-05-10</td>\n      <td>229.990000000000000000</td>\n      <td>party14|50sale</td>\n      <td>EXTRA -14 %|Sale</td>\n      <td>[CAMPAIGN]HomieDay_Voucher_CW17|</td>\n    </tr>\n    <tr>\n      <th>2</th>\n      <td>1000123695</td>\n      <td>199.99</td>\n      <td>2021-04-28</td>\n      <td>1</td>\n      <td>-2.5115</td>\n      <td>0.4648</td>\n      <td>-0.0307</td>\n      <td>0.0166</td>\n      <td>13.1606</td>\n      <td>2.3216</td>\n      <td>...</td>\n      <td>0.202093</td>\n      <td>1.547909</td>\n      <td>down</td>\n      <td>-14.000000000000002%</td>\n      <td>2021-04-29</td>\n      <td>2021-05-10</td>\n      <td>199.990000000000000000</td>\n      <td>party14|24series|storage</td>\n      <td>EXTRA -14 %|EXKLUSIV|storage</td>\n      <td>[CAMPAIGN]HomieDay_Voucher_CW17||</td>\n    </tr>\n    <tr>\n      <th>3</th>\n      <td>1000128456</td>\n      <td>429.99</td>\n      <td>2021-04-28</td>\n      <td>3</td>\n      <td>-0.7598</td>\n      <td>0.2379</td>\n      <td>-0.0255</td>\n      <td>0.0155</td>\n      <td>4.7650</td>\n      <td>1.3544</td>\n      <td>...</td>\n      <td>0.195849</td>\n      <td>0.222921</td>\n      <td>down</td>\n      <td>-14.000000000000002%</td>\n      <td>2021-04-29</td>\n      <td>2021-05-10</td>\n      <td>429.990000000000000000</td>\n      <td>party14|eurocup|eurocup21|24series</td>\n      <td>EXTRA -14 %|Euro Cup|Euro Cup|EXKLUSIV</td>\n      <td>[CAMPAIGN]HomieDay_Voucher_CW17|||</td>\n    </tr>\n    <tr>\n      <th>4</th>\n      <td>1000091262</td>\n      <td>289.99</td>\n      <td>2020-10-14</td>\n      <td>3</td>\n      <td>-3.3256</td>\n      <td>0.4310</td>\n      <td>-0.1002</td>\n      <td>0.0091</td>\n      <td>18.4672</td>\n      <td>2.3485</td>\n      <td>...</td>\n      <td>-0.187465</td>\n      <td>2.056987</td>\n      <td>down</td>\n      <td>-14.000000000000002%</td>\n      <td>2021-04-29</td>\n      <td>2021-05-10</td>\n      <td>319.990000000000000000</td>\n      <td>party14|24series</td>\n      <td>EXTRA -14 %|EXKLUSIV</td>\n      <td>[CAMPAIGN]HomieDay_Voucher_CW17|</td>\n    </tr>\n  </tbody>\n</table>\n<p>5 rows × 27 columns</p>\n</div>"
     },
     "execution_count": 15,
     "metadata": {},
     "output_type": "execute_result"
    }
   ],
   "source": [
    "merged_down.head()"
   ],
   "metadata": {
    "collapsed": false,
    "pycharm": {
     "name": "#%%\n"
    }
   }
  },
  {
   "cell_type": "code",
   "execution_count": 16,
   "outputs": [],
   "source": [
    "list_of_items_up = merged_up['item_code'].to_numpy()"
   ],
   "metadata": {
    "collapsed": false,
    "pycharm": {
     "name": "#%%\n"
    }
   }
  },
  {
   "cell_type": "code",
   "execution_count": 17,
   "outputs": [],
   "source": [
    "list_of_items_down = merged_down['item_code'].to_numpy()\n"
   ],
   "metadata": {
    "collapsed": false,
    "pycharm": {
     "name": "#%%\n"
    }
   }
  },
  {
   "cell_type": "code",
   "execution_count": 18,
   "outputs": [
    {
     "name": "stdout",
     "output_type": "stream",
     "text": [
      "[1000118440 1000086540 1000050876 1000209625 1000177730 1000209641\n",
      " 1000184191 1000187602 1000027369 1000110334 1000008842 1000092019\n",
      " 1000092055 1000118147 1000103648 1000121202 1000056978 1000008016\n",
      " 1000209640 1000104115 1000189778 1000136114 1000209610 1000103647\n",
      " 1000164014 1000205104 1000207389 1000189771 1000177767 1000209634\n",
      " 1000050865 1000117846 1000056783 1000008872 1000039246 1000025086\n",
      " 1000091560 1000015909 1000136205 1000056964 1000025087 1000183841\n",
      " 1000056953 1000086543 1000110022 1000033524 1000216583 1000076797\n",
      " 1000194574 1000209631 1000050842 1000056782 1000152213 1000008037\n",
      " 1000129379 1000119769 1000008035 1000052657 1000123395 1000210971]\n"
     ]
    }
   ],
   "source": [
    "\n",
    "print(list_of_items_up)"
   ],
   "metadata": {
    "collapsed": false,
    "pycharm": {
     "name": "#%%\n"
    }
   }
  },
  {
   "cell_type": "code",
   "execution_count": 19,
   "outputs": [
    {
     "name": "stdout",
     "output_type": "stream",
     "text": [
      "[1000048003 1000129691 1000123695 1000128456 1000091262 1000145854\n",
      " 1000123763 1000110348 1000056742 1000087664 1000071065 1000008825\n",
      " 1000200152 1000024953 1000086500 1000007069 1000024947 1000151788\n",
      " 1000117189 1000007079 1000008056 1000039261 1000210541 1000050883\n",
      " 1000008867 1000008752 1000008808 1000118200 1000113650 1000022120\n",
      " 1000033528 1000131866 1000027408 1000127796 1000126227 1000007429\n",
      " 1000008058 1000007430 1000112303 1000005213 1000197490 1000112266\n",
      " 1000007080 1000153429 1000022436 1000113296 1000187570 1000213239\n",
      " 1000008748 1000151250 1000006442 1000008007 1000126218 1000064654\n",
      " 1000125642 1000008755 1000034491 1000007107 1000050873 1000040375\n",
      " 1000110374 1000117190 1000175476 1000209624 1000027410 1000008814\n",
      " 1000008031 1000210654 1000147149 1000008815 1000149746 1000007083\n",
      " 1000181292 1000183858 1000104291 1000027357 1000008067 1000005178\n",
      " 1000206722 1000134697 1000022129 1000008824 1000092132 1000008809\n",
      " 1000050870 1000022466 1000134688 1000123195 1000126687 1000008827\n",
      " 1000008039 1000027409 1000007325 1000050877 1000104270 1000119258\n",
      " 1000116645 1000182823 1000008699]\n"
     ]
    }
   ],
   "source": [
    "print(list_of_items_down)"
   ],
   "metadata": {
    "collapsed": false,
    "pycharm": {
     "name": "#%%\n"
    }
   }
  },
  {
   "cell_type": "code",
   "execution_count": 20,
   "outputs": [],
   "source": [
    "merged_up['item_code'].to_csv('../raw_data/Excel_files/list_items_up_bazooka.csv')\n",
    "merged_down['item_code'].to_csv('../raw_data/Excel_files/list_items_down_bazooka.csv')"
   ],
   "metadata": {
    "collapsed": false,
    "pycharm": {
     "name": "#%%\n"
    }
   }
  },
  {
   "cell_type": "code",
   "execution_count": null,
   "outputs": [],
   "source": [],
   "metadata": {
    "collapsed": false,
    "pycharm": {
     "name": "#%%\n"
    }
   }
  }
 ],
 "metadata": {
  "kernelspec": {
   "display_name": "Python 3",
   "language": "python",
   "name": "python3"
  },
  "language_info": {
   "codemirror_mode": {
    "name": "ipython",
    "version": 2
   },
   "file_extension": ".py",
   "mimetype": "text/x-python",
   "name": "python",
   "nbconvert_exporter": "python",
   "pygments_lexer": "ipython2",
   "version": "2.7.6"
  }
 },
 "nbformat": 4,
 "nbformat_minor": 0
}