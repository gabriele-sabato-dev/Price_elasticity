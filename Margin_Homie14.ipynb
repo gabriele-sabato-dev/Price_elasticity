{
 "cells": [
  {
   "cell_type": "code",
   "execution_count": 33,
   "metadata": {
    "collapsed": true
   },
   "outputs": [],
   "source": [
    "import pandas as pd\n",
    "import numpy as np\n",
    "import psycopg2 as psy\n",
    "import query_to_redshift as qtr"
   ]
  },
  {
   "cell_type": "code",
   "execution_count": 34,
   "outputs": [],
   "source": [
    "original_df_up = pd.read_csv('../raw_data/Excel_files/Item_margin_up_pre_pc2_change_Feb2021.csv', index_col=0)\n",
    "original_df_down = pd.read_csv('../raw_data/Excel_files/Item_margin_down_pre_pc2_change_Feb2021.csv', index_col=0)"
   ],
   "metadata": {
    "collapsed": false,
    "pycharm": {
     "name": "#%%\n"
    }
   }
  },
  {
   "cell_type": "code",
   "execution_count": 35,
   "outputs": [],
   "source": [
    "homie_days_query = \"\"\"\n",
    "SELECT item_code,\n",
    "       MIN(period_date),\n",
    "       MAX(period_date),\n",
    "       webshop_code,\n",
    "       final_price_amount,\n",
    "       item_campaign_key,\n",
    "       item_campaign_label,\n",
    "       item_campaign_category\n",
    "  from public.item_catalog_history\n",
    " where item_campaign_category like '%HomieDay%'\n",
    "   and item_campaign_key like '%14%'\n",
    "   and sellable_flag = true\n",
    "   and webshop_code = 'DE'\n",
    "   and period_date >= '2021-04-29'\n",
    " GROUP BY item_code, webshop_code, final_price_amount,\n",
    " item_campaign_label, item_campaign_key, item_campaign_category\n",
    "HAVING (MAX(period_date) - MIN(period_date)) > 14.\"\"\"\n"
   ],
   "metadata": {
    "collapsed": false,
    "pycharm": {
     "name": "#%%\n"
    }
   }
  },
  {
   "cell_type": "code",
   "execution_count": 36,
   "outputs": [],
   "source": [
    "homie_bazooka_query = \"\"\"\n",
    "SELECT item_code,\n",
    "       MIN(period_date) as min_date,\n",
    "       MAX(period_date) as max_date,\n",
    "       --webshop_code,\n",
    "       MAX(final_price_amount) as max_price,\n",
    "       MAX(item_campaign_key) as max_item_campaign_key,\n",
    "       MAX(item_campaign_label) as max_item_campaign_label,\n",
    "       MAX(item_campaign_category) as max_item_campaign_category\n",
    "  from public.item_catalog_history\n",
    " where item_campaign_category like '[CAMPAIGN]HomieDay_Voucher_CW17|%'\n",
    "   and item_campaign_key like 'party14%'\n",
    "   and sellable_flag = true\n",
    "   and webshop_code = 'DE'\n",
    "   and period_date >= '2021-04-29'\n",
    " GROUP BY item_code\n",
    "HAVING MIN(period_date) = '2021-04-29'\n",
    "   and MAX(period_date) = '2021-05-10';\"\"\"\n"
   ],
   "metadata": {
    "collapsed": false,
    "pycharm": {
     "name": "#%%\n"
    }
   }
  },
  {
   "cell_type": "code",
   "execution_count": 37,
   "outputs": [],
   "source": [
    "#df_homie14 = qtr.redshift_query_to_dataframe(qtr.cursor_redshift, homie_days_query)\n",
    "df_homie14 = qtr.redshift_query_to_dataframe(qtr.cursor_redshift, homie_bazooka_query)"
   ],
   "metadata": {
    "collapsed": false,
    "pycharm": {
     "name": "#%%\n"
    }
   }
  },
  {
   "cell_type": "code",
   "execution_count": 38,
   "outputs": [
    {
     "name": "stdout",
     "output_type": "stream",
     "text": [
      "7335\n"
     ]
    }
   ],
   "source": [
    "print(len(df_homie14.index))"
   ],
   "metadata": {
    "collapsed": false,
    "pycharm": {
     "name": "#%%\n"
    }
   }
  },
  {
   "cell_type": "code",
   "execution_count": 39,
   "outputs": [
    {
     "name": "stdout",
     "output_type": "stream",
     "text": [
      "            item_code    min_date    max_date                max_price  \\\n",
      "0  000000001000102199  2021-04-29  2021-05-10   449.990000000000000000   \n",
      "1  000000001000239023  2021-04-29  2021-05-10    66.990000000000000000   \n",
      "2  000000001000011689  2021-04-29  2021-05-10  1249.990000000000000000   \n",
      "3  000000001000225158  2021-04-29  2021-05-10   379.990000000000000000   \n",
      "4  000000001000144202  2021-04-29  2021-05-10    79.990000000000000000   \n",
      "\n",
      "  max_item_campaign_key  max_item_campaign_label  \\\n",
      "0   party14|testcynthia  EXTRA -14 %|testcynthia   \n",
      "1        party14|30sale           EXTRA -14 %|30   \n",
      "2      party14|24series     EXTRA -14 %|EXKLUSIV   \n",
      "3        party14|30sale           EXTRA -14 %|30   \n",
      "4        party14|30sale           EXTRA -14 %|30   \n",
      "\n",
      "         max_item_campaign_category  \n",
      "0  [CAMPAIGN]HomieDay_Voucher_CW17|  \n",
      "1  [CAMPAIGN]HomieDay_Voucher_CW17|  \n",
      "2  [CAMPAIGN]HomieDay_Voucher_CW17|  \n",
      "3  [CAMPAIGN]HomieDay_Voucher_CW17|  \n",
      "4  [CAMPAIGN]HomieDay_Voucher_CW17|  \n"
     ]
    }
   ],
   "source": [
    "print(df_homie14.head())"
   ],
   "metadata": {
    "collapsed": false,
    "pycharm": {
     "name": "#%%\n"
    }
   }
  },
  {
   "cell_type": "code",
   "execution_count": 40,
   "outputs": [
    {
     "data": {
      "text/plain": "item_code                     object\nmin_date                      object\nmax_date                      object\nmax_price                     object\nmax_item_campaign_key         object\nmax_item_campaign_label       object\nmax_item_campaign_category    object\ndtype: object"
     },
     "execution_count": 40,
     "metadata": {},
     "output_type": "execute_result"
    }
   ],
   "source": [
    "df_homie14.dtypes"
   ],
   "metadata": {
    "collapsed": false,
    "pycharm": {
     "name": "#%%\n"
    }
   }
  },
  {
   "cell_type": "code",
   "execution_count": 41,
   "outputs": [],
   "source": [
    "df_homie14 = df_homie14.astype({'item_code': int})"
   ],
   "metadata": {
    "collapsed": false,
    "pycharm": {
     "name": "#%%\n"
    }
   }
  },
  {
   "cell_type": "code",
   "execution_count": 42,
   "outputs": [
    {
     "data": {
      "text/plain": "item_code                      int64\nmin_date                      object\nmax_date                      object\nmax_price                     object\nmax_item_campaign_key         object\nmax_item_campaign_label       object\nmax_item_campaign_category    object\ndtype: object"
     },
     "execution_count": 42,
     "metadata": {},
     "output_type": "execute_result"
    }
   ],
   "source": [
    "df_homie14.dtypes"
   ],
   "metadata": {
    "collapsed": false,
    "pycharm": {
     "name": "#%%\n"
    }
   }
  },
  {
   "cell_type": "code",
   "execution_count": 43,
   "outputs": [
    {
     "data": {
      "text/plain": "    item_code    min_date    max_date                max_price  \\\n0  1000102199  2021-04-29  2021-05-10   449.990000000000000000   \n1  1000239023  2021-04-29  2021-05-10    66.990000000000000000   \n2  1000011689  2021-04-29  2021-05-10  1249.990000000000000000   \n3  1000225158  2021-04-29  2021-05-10   379.990000000000000000   \n4  1000144202  2021-04-29  2021-05-10    79.990000000000000000   \n\n  max_item_campaign_key  max_item_campaign_label  \\\n0   party14|testcynthia  EXTRA -14 %|testcynthia   \n1        party14|30sale           EXTRA -14 %|30   \n2      party14|24series     EXTRA -14 %|EXKLUSIV   \n3        party14|30sale           EXTRA -14 %|30   \n4        party14|30sale           EXTRA -14 %|30   \n\n         max_item_campaign_category  \n0  [CAMPAIGN]HomieDay_Voucher_CW17|  \n1  [CAMPAIGN]HomieDay_Voucher_CW17|  \n2  [CAMPAIGN]HomieDay_Voucher_CW17|  \n3  [CAMPAIGN]HomieDay_Voucher_CW17|  \n4  [CAMPAIGN]HomieDay_Voucher_CW17|  ",
      "text/html": "<div>\n<style scoped>\n    .dataframe tbody tr th:only-of-type {\n        vertical-align: middle;\n    }\n\n    .dataframe tbody tr th {\n        vertical-align: top;\n    }\n\n    .dataframe thead th {\n        text-align: right;\n    }\n</style>\n<table border=\"1\" class=\"dataframe\">\n  <thead>\n    <tr style=\"text-align: right;\">\n      <th></th>\n      <th>item_code</th>\n      <th>min_date</th>\n      <th>max_date</th>\n      <th>max_price</th>\n      <th>max_item_campaign_key</th>\n      <th>max_item_campaign_label</th>\n      <th>max_item_campaign_category</th>\n    </tr>\n  </thead>\n  <tbody>\n    <tr>\n      <th>0</th>\n      <td>1000102199</td>\n      <td>2021-04-29</td>\n      <td>2021-05-10</td>\n      <td>449.990000000000000000</td>\n      <td>party14|testcynthia</td>\n      <td>EXTRA -14 %|testcynthia</td>\n      <td>[CAMPAIGN]HomieDay_Voucher_CW17|</td>\n    </tr>\n    <tr>\n      <th>1</th>\n      <td>1000239023</td>\n      <td>2021-04-29</td>\n      <td>2021-05-10</td>\n      <td>66.990000000000000000</td>\n      <td>party14|30sale</td>\n      <td>EXTRA -14 %|30</td>\n      <td>[CAMPAIGN]HomieDay_Voucher_CW17|</td>\n    </tr>\n    <tr>\n      <th>2</th>\n      <td>1000011689</td>\n      <td>2021-04-29</td>\n      <td>2021-05-10</td>\n      <td>1249.990000000000000000</td>\n      <td>party14|24series</td>\n      <td>EXTRA -14 %|EXKLUSIV</td>\n      <td>[CAMPAIGN]HomieDay_Voucher_CW17|</td>\n    </tr>\n    <tr>\n      <th>3</th>\n      <td>1000225158</td>\n      <td>2021-04-29</td>\n      <td>2021-05-10</td>\n      <td>379.990000000000000000</td>\n      <td>party14|30sale</td>\n      <td>EXTRA -14 %|30</td>\n      <td>[CAMPAIGN]HomieDay_Voucher_CW17|</td>\n    </tr>\n    <tr>\n      <th>4</th>\n      <td>1000144202</td>\n      <td>2021-04-29</td>\n      <td>2021-05-10</td>\n      <td>79.990000000000000000</td>\n      <td>party14|30sale</td>\n      <td>EXTRA -14 %|30</td>\n      <td>[CAMPAIGN]HomieDay_Voucher_CW17|</td>\n    </tr>\n  </tbody>\n</table>\n</div>"
     },
     "execution_count": 43,
     "metadata": {},
     "output_type": "execute_result"
    }
   ],
   "source": [
    "df_homie14.head()\n"
   ],
   "metadata": {
    "collapsed": false,
    "pycharm": {
     "name": "#%%\n"
    }
   }
  },
  {
   "cell_type": "code",
   "execution_count": 44,
   "outputs": [],
   "source": [
    "merged_down = pd.merge(original_df_down, df_homie14, on='item_code')\n"
   ],
   "metadata": {
    "collapsed": false,
    "pycharm": {
     "name": "#%%\n"
    }
   }
  },
  {
   "cell_type": "code",
   "execution_count": 45,
   "outputs": [],
   "source": [
    "merged_up = pd.merge(original_df_up, df_homie14, on='item_code')"
   ],
   "metadata": {
    "collapsed": false,
    "pycharm": {
     "name": "#%%\n"
    }
   }
  },
  {
   "cell_type": "code",
   "execution_count": 46,
   "outputs": [
    {
     "data": {
      "text/plain": "    item_code  item_price_x  max_date_x  delivery_weeks  sales_pe  \\\n0  1000008030        229.99  2021-02-22               2   -2.3235   \n1  1000118440         74.99  2021-02-25               1   -8.6519   \n2  1000008014        429.99  2021-02-25               1   -0.6558   \n3  1000008012        579.99  2021-02-25               2   -2.9931   \n4  1000086540        349.99  2021-02-25               2   -1.3911   \n\n   sales_pe_err  beta_del_week  beta_del_week_err  intercept  intercept_err  \\\n0        0.4060        -0.0690             0.0178    16.6206         2.8286   \n1        2.6054        -0.3592             0.1629    49.4656        14.4964   \n2        0.1648        -0.0129             0.0078     4.7260         0.9924   \n3        0.8553        -0.0630             0.0366    21.8786         6.1560   \n4        0.3143        -0.0550             0.0133    11.0650         2.0811   \n\n   ...  N_prime_sales  Delta_Margin  Group_flag            Increment  \\\n0  ...       3.542880      5.786855          up  14.000000000000002%   \n1  ...      10.619435      5.160529          up  14.000000000000002%   \n2  ...       0.650557      1.100490          up  14.000000000000002%   \n3  ...       2.315291      3.198499          up  14.000000000000002%   \n4  ...       2.623796      7.090544          up  14.000000000000002%   \n\n     min_date  max_date_y               max_price  \\\n0  2021-04-29  2021-05-10  269.990000000000000000   \n1  2021-04-29  2021-05-10   74.990000000000000000   \n2  2021-04-29  2021-05-10  449.990000000000000000   \n3  2021-04-29  2021-05-10  579.990000000000000000   \n4  2021-04-29  2021-05-10  349.990000000000000000   \n\n                             max_item_campaign_key  \\\n0          party14|24series|3dmodels|crm-japandiws   \n1                                   party14|40sale   \n2                                 party14|24series   \n3  party14|24series|3dmodels|storage|crm-japandiws   \n4                                 party14|3dmodels   \n\n                     max_item_campaign_label  \\\n0          EXTRA -14 %|EXKLUSIV|3dmodels|crm   \n1                             EXTRA -14 %|40   \n2                       EXTRA -14 %|EXKLUSIV   \n3  EXTRA -14 %|EXKLUSIV|3dmodels|storage|crm   \n4                       EXTRA -14 %|3dmodels   \n\n                      max_item_campaign_category  \n0   [CAMPAIGN]HomieDay_Voucher_CW17||2019032601|  \n1               [CAMPAIGN]HomieDay_Voucher_CW17|  \n2               [CAMPAIGN]HomieDay_Voucher_CW17|  \n3  [CAMPAIGN]HomieDay_Voucher_CW17||2019032601||  \n4     [CAMPAIGN]HomieDay_Voucher_CW17|2019032601  \n\n[5 rows x 27 columns]",
      "text/html": "<div>\n<style scoped>\n    .dataframe tbody tr th:only-of-type {\n        vertical-align: middle;\n    }\n\n    .dataframe tbody tr th {\n        vertical-align: top;\n    }\n\n    .dataframe thead th {\n        text-align: right;\n    }\n</style>\n<table border=\"1\" class=\"dataframe\">\n  <thead>\n    <tr style=\"text-align: right;\">\n      <th></th>\n      <th>item_code</th>\n      <th>item_price_x</th>\n      <th>max_date_x</th>\n      <th>delivery_weeks</th>\n      <th>sales_pe</th>\n      <th>sales_pe_err</th>\n      <th>beta_del_week</th>\n      <th>beta_del_week_err</th>\n      <th>intercept</th>\n      <th>intercept_err</th>\n      <th>...</th>\n      <th>N_prime_sales</th>\n      <th>Delta_Margin</th>\n      <th>Group_flag</th>\n      <th>Increment</th>\n      <th>min_date</th>\n      <th>max_date_y</th>\n      <th>max_price</th>\n      <th>max_item_campaign_key</th>\n      <th>max_item_campaign_label</th>\n      <th>max_item_campaign_category</th>\n    </tr>\n  </thead>\n  <tbody>\n    <tr>\n      <th>0</th>\n      <td>1000008030</td>\n      <td>229.99</td>\n      <td>2021-02-22</td>\n      <td>2</td>\n      <td>-2.3235</td>\n      <td>0.4060</td>\n      <td>-0.0690</td>\n      <td>0.0178</td>\n      <td>16.6206</td>\n      <td>2.8286</td>\n      <td>...</td>\n      <td>3.542880</td>\n      <td>5.786855</td>\n      <td>up</td>\n      <td>14.000000000000002%</td>\n      <td>2021-04-29</td>\n      <td>2021-05-10</td>\n      <td>269.990000000000000000</td>\n      <td>party14|24series|3dmodels|crm-japandiws</td>\n      <td>EXTRA -14 %|EXKLUSIV|3dmodels|crm</td>\n      <td>[CAMPAIGN]HomieDay_Voucher_CW17||2019032601|</td>\n    </tr>\n    <tr>\n      <th>1</th>\n      <td>1000118440</td>\n      <td>74.99</td>\n      <td>2021-02-25</td>\n      <td>1</td>\n      <td>-8.6519</td>\n      <td>2.6054</td>\n      <td>-0.3592</td>\n      <td>0.1629</td>\n      <td>49.4656</td>\n      <td>14.4964</td>\n      <td>...</td>\n      <td>10.619435</td>\n      <td>5.160529</td>\n      <td>up</td>\n      <td>14.000000000000002%</td>\n      <td>2021-04-29</td>\n      <td>2021-05-10</td>\n      <td>74.990000000000000000</td>\n      <td>party14|40sale</td>\n      <td>EXTRA -14 %|40</td>\n      <td>[CAMPAIGN]HomieDay_Voucher_CW17|</td>\n    </tr>\n    <tr>\n      <th>2</th>\n      <td>1000008014</td>\n      <td>429.99</td>\n      <td>2021-02-25</td>\n      <td>1</td>\n      <td>-0.6558</td>\n      <td>0.1648</td>\n      <td>-0.0129</td>\n      <td>0.0078</td>\n      <td>4.7260</td>\n      <td>0.9924</td>\n      <td>...</td>\n      <td>0.650557</td>\n      <td>1.100490</td>\n      <td>up</td>\n      <td>14.000000000000002%</td>\n      <td>2021-04-29</td>\n      <td>2021-05-10</td>\n      <td>449.990000000000000000</td>\n      <td>party14|24series</td>\n      <td>EXTRA -14 %|EXKLUSIV</td>\n      <td>[CAMPAIGN]HomieDay_Voucher_CW17|</td>\n    </tr>\n    <tr>\n      <th>3</th>\n      <td>1000008012</td>\n      <td>579.99</td>\n      <td>2021-02-25</td>\n      <td>2</td>\n      <td>-2.9931</td>\n      <td>0.8553</td>\n      <td>-0.0630</td>\n      <td>0.0366</td>\n      <td>21.8786</td>\n      <td>6.1560</td>\n      <td>...</td>\n      <td>2.315291</td>\n      <td>3.198499</td>\n      <td>up</td>\n      <td>14.000000000000002%</td>\n      <td>2021-04-29</td>\n      <td>2021-05-10</td>\n      <td>579.990000000000000000</td>\n      <td>party14|24series|3dmodels|storage|crm-japandiws</td>\n      <td>EXTRA -14 %|EXKLUSIV|3dmodels|storage|crm</td>\n      <td>[CAMPAIGN]HomieDay_Voucher_CW17||2019032601||</td>\n    </tr>\n    <tr>\n      <th>4</th>\n      <td>1000086540</td>\n      <td>349.99</td>\n      <td>2021-02-25</td>\n      <td>2</td>\n      <td>-1.3911</td>\n      <td>0.3143</td>\n      <td>-0.0550</td>\n      <td>0.0133</td>\n      <td>11.0650</td>\n      <td>2.0811</td>\n      <td>...</td>\n      <td>2.623796</td>\n      <td>7.090544</td>\n      <td>up</td>\n      <td>14.000000000000002%</td>\n      <td>2021-04-29</td>\n      <td>2021-05-10</td>\n      <td>349.990000000000000000</td>\n      <td>party14|3dmodels</td>\n      <td>EXTRA -14 %|3dmodels</td>\n      <td>[CAMPAIGN]HomieDay_Voucher_CW17|2019032601</td>\n    </tr>\n  </tbody>\n</table>\n<p>5 rows × 27 columns</p>\n</div>"
     },
     "execution_count": 46,
     "metadata": {},
     "output_type": "execute_result"
    }
   ],
   "source": [
    "merged_up.head()\n"
   ],
   "metadata": {
    "collapsed": false,
    "pycharm": {
     "name": "#%%\n"
    }
   }
  },
  {
   "cell_type": "code",
   "execution_count": 47,
   "outputs": [
    {
     "data": {
      "text/plain": "    item_code  item_price_x  max_date_x  delivery_weeks  sales_pe  \\\n0  1000147156        429.99  2021-02-25               5   -3.2220   \n1  1000048003        349.99  2021-02-25               2   -2.3721   \n2  1000129691        214.99  2021-01-10               2   -2.4983   \n3  1000008520        269.99  2021-02-16               3   -4.3979   \n4  1000128456        429.99  2021-02-08               6   -1.3928   \n\n   sales_pe_err  beta_del_week  beta_del_week_err  intercept  intercept_err  \\\n0        0.3670        -0.0276             0.0102    18.8254         2.0617   \n1        0.5706         0.0010             0.0125    14.1651         3.0970   \n2        0.3057        -0.0395             0.0149    12.4723         1.4595   \n3        0.5157        -0.0934             0.0422    26.1283         3.0246   \n4        0.3220        -0.0133             0.0162     8.3261         1.8308   \n\n   ...  N_prime_sales  Delta_Margin  Group_flag             Increment  \\\n0  ...      -0.364090      7.237100        down  -14.000000000000002%   \n1  ...       0.629332      0.182455        down  -14.000000000000002%   \n2  ...      -0.647248      2.043591        down  -14.000000000000002%   \n3  ...       1.890267      0.340697        down  -14.000000000000002%   \n4  ...       0.010758      1.906100        down  -14.000000000000002%   \n\n     min_date  max_date_y               max_price  \\\n0  2021-04-29  2021-05-10  429.990000000000000000   \n1  2021-04-29  2021-05-10  349.990000000000000000   \n2  2021-04-29  2021-05-10  229.990000000000000000   \n3  2021-04-29  2021-05-10  269.990000000000000000   \n4  2021-04-29  2021-05-10  429.990000000000000000   \n\n                max_item_campaign_key                 max_item_campaign_label  \\\n0                    party14|24series                    EXTRA -14 %|EXKLUSIV   \n1                     party14|storage                     EXTRA -14 %|storage   \n2                      party14|50sale                        EXTRA -14 %|Sale   \n3                  party14|crm-tvspot                         EXTRA -14 %|crm   \n4  party14|eurocup|eurocup21|24series  EXTRA -14 %|Euro Cup|Euro Cup|EXKLUSIV   \n\n           max_item_campaign_category  \n0    [CAMPAIGN]HomieDay_Voucher_CW17|  \n1    [CAMPAIGN]HomieDay_Voucher_CW17|  \n2    [CAMPAIGN]HomieDay_Voucher_CW17|  \n3    [CAMPAIGN]HomieDay_Voucher_CW17|  \n4  [CAMPAIGN]HomieDay_Voucher_CW17|||  \n\n[5 rows x 27 columns]",
      "text/html": "<div>\n<style scoped>\n    .dataframe tbody tr th:only-of-type {\n        vertical-align: middle;\n    }\n\n    .dataframe tbody tr th {\n        vertical-align: top;\n    }\n\n    .dataframe thead th {\n        text-align: right;\n    }\n</style>\n<table border=\"1\" class=\"dataframe\">\n  <thead>\n    <tr style=\"text-align: right;\">\n      <th></th>\n      <th>item_code</th>\n      <th>item_price_x</th>\n      <th>max_date_x</th>\n      <th>delivery_weeks</th>\n      <th>sales_pe</th>\n      <th>sales_pe_err</th>\n      <th>beta_del_week</th>\n      <th>beta_del_week_err</th>\n      <th>intercept</th>\n      <th>intercept_err</th>\n      <th>...</th>\n      <th>N_prime_sales</th>\n      <th>Delta_Margin</th>\n      <th>Group_flag</th>\n      <th>Increment</th>\n      <th>min_date</th>\n      <th>max_date_y</th>\n      <th>max_price</th>\n      <th>max_item_campaign_key</th>\n      <th>max_item_campaign_label</th>\n      <th>max_item_campaign_category</th>\n    </tr>\n  </thead>\n  <tbody>\n    <tr>\n      <th>0</th>\n      <td>1000147156</td>\n      <td>429.99</td>\n      <td>2021-02-25</td>\n      <td>5</td>\n      <td>-3.2220</td>\n      <td>0.3670</td>\n      <td>-0.0276</td>\n      <td>0.0102</td>\n      <td>18.8254</td>\n      <td>2.0617</td>\n      <td>...</td>\n      <td>-0.364090</td>\n      <td>7.237100</td>\n      <td>down</td>\n      <td>-14.000000000000002%</td>\n      <td>2021-04-29</td>\n      <td>2021-05-10</td>\n      <td>429.990000000000000000</td>\n      <td>party14|24series</td>\n      <td>EXTRA -14 %|EXKLUSIV</td>\n      <td>[CAMPAIGN]HomieDay_Voucher_CW17|</td>\n    </tr>\n    <tr>\n      <th>1</th>\n      <td>1000048003</td>\n      <td>349.99</td>\n      <td>2021-02-25</td>\n      <td>2</td>\n      <td>-2.3721</td>\n      <td>0.5706</td>\n      <td>0.0010</td>\n      <td>0.0125</td>\n      <td>14.1651</td>\n      <td>3.0970</td>\n      <td>...</td>\n      <td>0.629332</td>\n      <td>0.182455</td>\n      <td>down</td>\n      <td>-14.000000000000002%</td>\n      <td>2021-04-29</td>\n      <td>2021-05-10</td>\n      <td>349.990000000000000000</td>\n      <td>party14|storage</td>\n      <td>EXTRA -14 %|storage</td>\n      <td>[CAMPAIGN]HomieDay_Voucher_CW17|</td>\n    </tr>\n    <tr>\n      <th>2</th>\n      <td>1000129691</td>\n      <td>214.99</td>\n      <td>2021-01-10</td>\n      <td>2</td>\n      <td>-2.4983</td>\n      <td>0.3057</td>\n      <td>-0.0395</td>\n      <td>0.0149</td>\n      <td>12.4723</td>\n      <td>1.4595</td>\n      <td>...</td>\n      <td>-0.647248</td>\n      <td>2.043591</td>\n      <td>down</td>\n      <td>-14.000000000000002%</td>\n      <td>2021-04-29</td>\n      <td>2021-05-10</td>\n      <td>229.990000000000000000</td>\n      <td>party14|50sale</td>\n      <td>EXTRA -14 %|Sale</td>\n      <td>[CAMPAIGN]HomieDay_Voucher_CW17|</td>\n    </tr>\n    <tr>\n      <th>3</th>\n      <td>1000008520</td>\n      <td>269.99</td>\n      <td>2021-02-16</td>\n      <td>3</td>\n      <td>-4.3979</td>\n      <td>0.5157</td>\n      <td>-0.0934</td>\n      <td>0.0422</td>\n      <td>26.1283</td>\n      <td>3.0246</td>\n      <td>...</td>\n      <td>1.890267</td>\n      <td>0.340697</td>\n      <td>down</td>\n      <td>-14.000000000000002%</td>\n      <td>2021-04-29</td>\n      <td>2021-05-10</td>\n      <td>269.990000000000000000</td>\n      <td>party14|crm-tvspot</td>\n      <td>EXTRA -14 %|crm</td>\n      <td>[CAMPAIGN]HomieDay_Voucher_CW17|</td>\n    </tr>\n    <tr>\n      <th>4</th>\n      <td>1000128456</td>\n      <td>429.99</td>\n      <td>2021-02-08</td>\n      <td>6</td>\n      <td>-1.3928</td>\n      <td>0.3220</td>\n      <td>-0.0133</td>\n      <td>0.0162</td>\n      <td>8.3261</td>\n      <td>1.8308</td>\n      <td>...</td>\n      <td>0.010758</td>\n      <td>1.906100</td>\n      <td>down</td>\n      <td>-14.000000000000002%</td>\n      <td>2021-04-29</td>\n      <td>2021-05-10</td>\n      <td>429.990000000000000000</td>\n      <td>party14|eurocup|eurocup21|24series</td>\n      <td>EXTRA -14 %|Euro Cup|Euro Cup|EXKLUSIV</td>\n      <td>[CAMPAIGN]HomieDay_Voucher_CW17|||</td>\n    </tr>\n  </tbody>\n</table>\n<p>5 rows × 27 columns</p>\n</div>"
     },
     "execution_count": 47,
     "metadata": {},
     "output_type": "execute_result"
    }
   ],
   "source": [
    "merged_down.head()"
   ],
   "metadata": {
    "collapsed": false,
    "pycharm": {
     "name": "#%%\n"
    }
   }
  },
  {
   "cell_type": "code",
   "execution_count": 48,
   "outputs": [],
   "source": [
    "list_of_items_up = merged_up['item_code'].to_numpy()"
   ],
   "metadata": {
    "collapsed": false,
    "pycharm": {
     "name": "#%%\n"
    }
   }
  },
  {
   "cell_type": "code",
   "execution_count": 49,
   "outputs": [],
   "source": [
    "list_of_items_down = merged_down['item_code'].to_numpy()\n"
   ],
   "metadata": {
    "collapsed": false,
    "pycharm": {
     "name": "#%%\n"
    }
   }
  },
  {
   "cell_type": "code",
   "execution_count": 50,
   "outputs": [
    {
     "name": "stdout",
     "output_type": "stream",
     "text": [
      "[1000008030 1000118440 1000008014 1000008012 1000086540 1000123399\n",
      " 1000152766 1000008000 1000177730 1000209641 1000184191 1000124029\n",
      " 1000002479 1000086500 1000209643 1000008842 1000056963 1000092019\n",
      " 1000181275 1000104255 1000031300 1000092055 1000193120 1000121202\n",
      " 1000027408 1000008016 1000150226 1000189778 1000136114 1000153429\n",
      " 1000086536 1000103647 1000164014 1000205104 1000037843 1000207389\n",
      " 1000189771 1000073217 1000209634 1000008032 1000117190 1000012529\n",
      " 1000119257 1000008031 1000008033 1000008872 1000050844 1000012567\n",
      " 1000039246 1000189796 1000012678 1000015909 1000202053 1000008824\n",
      " 1000110022 1000033524 1000216583 1000076797 1000153434 1000086499\n",
      " 1000123195 1000008037 1000008039 1000012562 1000129379 1000008754\n",
      " 1000119769 1000008035 1000092325 1000214952 1000123395 1000126299]\n"
     ]
    }
   ],
   "source": [
    "\n",
    "print(list_of_items_up)"
   ],
   "metadata": {
    "collapsed": false,
    "pycharm": {
     "name": "#%%\n"
    }
   }
  },
  {
   "cell_type": "code",
   "execution_count": 51,
   "outputs": [
    {
     "name": "stdout",
     "output_type": "stream",
     "text": [
      "[1000147156 1000048003 1000129691 1000008520 1000128456 1000039240\n",
      " 1000110349 1000176687 1000123763 1000056781 1000015037 1000064653\n",
      " 1000110348 1000056742 1000087664 1000008825 1000024953 1000007069\n",
      " 1000086542 1000056777 1000007050 1000117189 1000007079 1000008790\n",
      " 1000008056 1000050883 1000008867 1000125821 1000008752 1000027368\n",
      " 1000176894 1000056779 1000110431 1000202440 1000112304 1000113650\n",
      " 1000148080 1000012676 1000126227 1000158712 1000092554 1000007429\n",
      " 1000008058 1000007430 1000172230 1000112303 1000005213 1000197490\n",
      " 1000007080 1000008833 1000022436 1000168548 1000056747 1000131873\n",
      " 1000113296 1000039128 1000007433 1000008748 1000008007 1000104040\n",
      " 1000126218 1000064654 1000125642 1000008755 1000034491 1000007107\n",
      " 1000050873 1000056975 1000056783 1000008814 1000210654 1000139406\n",
      " 1000008815 1000007083 1000091560 1000027357 1000210651 1000008067\n",
      " 1000024284 1000206722 1000008807 1000177736 1000008809 1000050870\n",
      " 1000210650 1000022466 1000209631 1000129637 1000126687 1000123531\n",
      " 1000056970 1000112267 1000007325 1000032224 1000116645 1000134689\n",
      " 1000008699]\n"
     ]
    }
   ],
   "source": [
    "print(list_of_items_down)"
   ],
   "metadata": {
    "collapsed": false,
    "pycharm": {
     "name": "#%%\n"
    }
   }
  },
  {
   "cell_type": "code",
   "execution_count": 52,
   "outputs": [],
   "source": [
    "merged_up['item_code'].to_csv('../raw_data/Excel_files/list_items_up_prePc2_bazooka.csv')\n",
    "merged_down['item_code'].to_csv('../raw_data/Excel_files/list_items_down_prePc2_bazooka.csv')"
   ],
   "metadata": {
    "collapsed": false,
    "pycharm": {
     "name": "#%%\n"
    }
   }
  },
  {
   "cell_type": "code",
   "execution_count": null,
   "outputs": [],
   "source": [],
   "metadata": {
    "collapsed": false,
    "pycharm": {
     "name": "#%%\n"
    }
   }
  }
 ],
 "metadata": {
  "kernelspec": {
   "display_name": "Python 3",
   "language": "python",
   "name": "python3"
  },
  "language_info": {
   "codemirror_mode": {
    "name": "ipython",
    "version": 2
   },
   "file_extension": ".py",
   "mimetype": "text/x-python",
   "name": "python",
   "nbconvert_exporter": "python",
   "pygments_lexer": "ipython2",
   "version": "2.7.6"
  }
 },
 "nbformat": 4,
 "nbformat_minor": 0
}