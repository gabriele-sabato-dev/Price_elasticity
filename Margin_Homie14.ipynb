{
 "cells": [
  {
   "cell_type": "code",
   "execution_count": 1,
   "metadata": {
    "collapsed": true
   },
   "outputs": [],
   "source": [
    "import pandas as pd\n",
    "import numpy as np\n",
    "import psycopg2 as psy\n",
    "import query_to_redshift as qtr"
   ]
  },
  {
   "cell_type": "code",
   "execution_count": 2,
   "outputs": [],
   "source": [
    "original_df_up = pd.read_csv('../raw_data/Excel_files/Item_margin_up_pre_campaign_202106.csv', index_col=0)\n",
    "original_df_down = pd.read_csv('../raw_data/Excel_files/Item_margin_down_pre_campaign_202106.csv', index_col=0)"
   ],
   "metadata": {
    "collapsed": false,
    "pycharm": {
     "name": "#%%\n"
    }
   }
  },
  {
   "cell_type": "code",
   "execution_count": 3,
   "outputs": [],
   "source": [
    "homie_days_query = \"\"\"\n",
    "SELECT item_code,\n",
    "       MIN(period_date),\n",
    "       MAX(period_date),\n",
    "       webshop_code,\n",
    "       final_price_amount,\n",
    "       item_campaign_key,\n",
    "       item_campaign_label,\n",
    "       item_campaign_category\n",
    "  from public.item_catalog_history\n",
    " where item_campaign_category like '%HomieDay%'\n",
    "   and item_campaign_key like '%14%'\n",
    "   and sellable_flag = true\n",
    "   and webshop_code = 'DE'\n",
    "   and period_date >= '2021-04-29'\n",
    " GROUP BY item_code, webshop_code, final_price_amount,\n",
    " item_campaign_label, item_campaign_key, item_campaign_category\n",
    "HAVING (MAX(period_date) - MIN(period_date)) > 14.\"\"\"\n"
   ],
   "metadata": {
    "collapsed": false,
    "pycharm": {
     "name": "#%%\n"
    }
   }
  },
  {
   "cell_type": "code",
   "execution_count": 4,
   "outputs": [],
   "source": [
    "homie_bazooka_query = \"\"\"\n",
    "SELECT item_code,\n",
    "       MIN(period_date) as min_date,\n",
    "       MAX(period_date) as max_date,\n",
    "       --webshop_code,\n",
    "       MAX(final_price_amount) as max_price,\n",
    "       MAX(item_campaign_key) as max_item_campaign_key,\n",
    "       MAX(item_campaign_label) as max_item_campaign_label,\n",
    "       MAX(item_campaign_category) as max_item_campaign_category\n",
    "  from public.item_catalog_history\n",
    " where item_campaign_category like '[CAMPAIGN]HomieDay_Voucher_CW17|%'\n",
    "   and item_campaign_key like 'party14%'\n",
    "   and sellable_flag = true\n",
    "   and webshop_code = 'DE'\n",
    "   and period_date >= '2021-04-29'\n",
    "   --and item_code = '000000001000109588'\n",
    " GROUP BY item_code\n",
    "HAVING MIN(period_date) = '2021-04-29'\n",
    "   and MAX(period_date) = '2021-05-10';\n",
    "   \"\"\"\n"
   ],
   "metadata": {
    "collapsed": false,
    "pycharm": {
     "name": "#%%\n"
    }
   }
  },
  {
   "cell_type": "code",
   "execution_count": 5,
   "outputs": [],
   "source": [
    "no_campaign_item = \"\"\"SELECT item_code,\n",
    "       final_price_amount,\n",
    "       item_campaign_key\n",
    "       --date_trunc(period_date, 'week')\n",
    "  from public.item_catalog_history\n",
    " where sellable_flag = true\n",
    "   and webshop_code = 'DE'\n",
    "   and period_date >= '2021-04-17'\n",
    "   and period_date <= '2021-04-28'\n",
    "   and item_campaign_key = ''\n",
    "   and item_code in (SELECT item_code\n",
    "                       from public.item_catalog_history\n",
    "                      where item_campaign_category like '[CAMPAIGN]HomieDay_Voucher_CW17|%'\n",
    "                        and item_campaign_key like 'party14%'\n",
    "                        and sellable_flag = true\n",
    "                        and webshop_code = 'DE'\n",
    "                        and period_date >= '2021-04-29'\n",
    "                      GROUP BY item_code\n",
    "                     HAVING MIN(period_date) = '2021-04-29'\n",
    "                        and MAX(period_date) = '2021-05-10')\n",
    " GROUP BY item_code, final_price_amount, item_campaign_key--, date_trunc(period_date, 'week')\n",
    "HAVING COUNT(*) = 12\n",
    " ORDER BY item_code ASC\"\"\""
   ],
   "metadata": {
    "collapsed": false,
    "pycharm": {
     "name": "#%%\n"
    }
   }
  },
  {
   "cell_type": "code",
   "execution_count": 6,
   "outputs": [],
   "source": [
    "no_campaign_item_voucher_value=\"\"\"SELECT ich.item_code,\n",
    "       ich.final_price_amount,\n",
    "       vv.voucher_value,\n",
    "       MIN(ich.period_date) as campaign_start,\n",
    "       MAX(ich.period_date) as campaign_end\n",
    "  from public.item_catalog_history as ich\n",
    "       INNER JOIN (SELECT cp.product_code,\n",
    "                          cp.campaign_date,\n",
    "                          cd.voucher_value --, cd.voucher_value\n",
    "                     FROM public.campaign_details as cd\n",
    "                          INNER JOIN public.campaign_product as cp on cp.campaign_id = cd.id and cp.webshop_code = 'DE'\n",
    "                    WHERE campaign_date >= '2021-04-17'\n",
    "                      and campaign_date <= '2021-04-28'\n",
    "                    GROUP BY product_code, voucher_value, campaign_date\n",
    "  ) as vv\n",
    "       on vv.product_code = ich.item_code and ich.period_date = vv.campaign_date\n",
    " where ich.sellable_flag = true\n",
    "   and ich.webshop_code = 'DE'\n",
    "   and ich.period_date >= '2021-04-17'\n",
    "   and ich.period_date <= '2021-04-28'\n",
    "   and vv.voucher_value = 0\n",
    "   and ich.item_code in (SELECT item_code\n",
    "                           from public.item_catalog_history\n",
    "                          where item_campaign_category like '[CAMPAIGN]HomieDay_Voucher_CW17|%'\n",
    "                            and item_campaign_key like 'party14%'\n",
    "                            and sellable_flag = true\n",
    "                            and webshop_code = 'DE'\n",
    "                            and period_date >= '2021-04-29'\n",
    "                          GROUP BY item_code\n",
    "                         HAVING MIN(period_date) = '2021-04-29'\n",
    "                            and MAX(period_date) = '2021-05-10')\n",
    " GROUP BY ich.item_code, ich.final_price_amount, vv.voucher_value--, date_trunc(period_date, 'week')\n",
    "HAVING COUNT(*) = 12\n",
    " ORDER BY item_code ASC;\"\"\"\n"
   ],
   "metadata": {
    "collapsed": false,
    "pycharm": {
     "name": "#%%\n"
    }
   }
  },
  {
   "cell_type": "code",
   "execution_count": 7,
   "outputs": [],
   "source": [
    "#df_homie14 = qtr.redshift_query_to_dataframe(qtr.cursor_redshift, homie_days_query)\n",
    "#df_homie14 = qtr.redshift_query_to_dataframe(qtr.cursor_redshift, homie_bazooka_query)\n",
    "#df_homie14_no_camp = qtr.redshift_query_to_dataframe(qtr.cursor_redshift, no_campaign_item)\n",
    "df_homie14_no_camp = qtr.redshift_query_to_dataframe(qtr.cursor_redshift, no_campaign_item_voucher_value)"
   ],
   "metadata": {
    "collapsed": false,
    "pycharm": {
     "name": "#%%\n"
    }
   }
  },
  {
   "cell_type": "code",
   "execution_count": 8,
   "outputs": [
    {
     "name": "stdout",
     "output_type": "stream",
     "text": [
      "2740\n"
     ]
    }
   ],
   "source": [
    "print(len(df_homie14_no_camp.index))"
   ],
   "metadata": {
    "collapsed": false,
    "pycharm": {
     "name": "#%%\n"
    }
   }
  },
  {
   "cell_type": "code",
   "execution_count": 9,
   "outputs": [
    {
     "name": "stdout",
     "output_type": "stream",
     "text": [
      "            item_code       final_price_amount  voucher_value campaign_start  \\\n",
      "0  000000001000003443   449.990000000000000000            0.0     2021-04-17   \n",
      "1  000000001000006421  1399.990000000000000000            0.0     2021-04-17   \n",
      "2  000000001000006426  1399.990000000000000000            0.0     2021-04-17   \n",
      "3  000000001000007050   429.990000000000000000            0.0     2021-04-17   \n",
      "4  000000001000007052   449.990000000000000000            0.0     2021-04-17   \n",
      "\n",
      "  campaign_end  \n",
      "0   2021-04-28  \n",
      "1   2021-04-28  \n",
      "2   2021-04-28  \n",
      "3   2021-04-28  \n",
      "4   2021-04-28  \n"
     ]
    }
   ],
   "source": [
    "print(df_homie14_no_camp.head())"
   ],
   "metadata": {
    "collapsed": false,
    "pycharm": {
     "name": "#%%\n"
    }
   }
  },
  {
   "cell_type": "code",
   "execution_count": 10,
   "outputs": [
    {
     "data": {
      "text/plain": "item_code              object\nfinal_price_amount     object\nvoucher_value         float64\ncampaign_start         object\ncampaign_end           object\ndtype: object"
     },
     "execution_count": 10,
     "metadata": {},
     "output_type": "execute_result"
    }
   ],
   "source": [
    "df_homie14_no_camp.dtypes"
   ],
   "metadata": {
    "collapsed": false,
    "pycharm": {
     "name": "#%%\n"
    }
   }
  },
  {
   "cell_type": "code",
   "execution_count": 11,
   "outputs": [],
   "source": [
    "df_homie14_no_camp = df_homie14_no_camp.astype({'item_code': int})"
   ],
   "metadata": {
    "collapsed": false,
    "pycharm": {
     "name": "#%%\n"
    }
   }
  },
  {
   "cell_type": "code",
   "execution_count": 12,
   "outputs": [
    {
     "data": {
      "text/plain": "item_code               int64\nfinal_price_amount     object\nvoucher_value         float64\ncampaign_start         object\ncampaign_end           object\ndtype: object"
     },
     "execution_count": 12,
     "metadata": {},
     "output_type": "execute_result"
    }
   ],
   "source": [
    "df_homie14_no_camp.dtypes"
   ],
   "metadata": {
    "collapsed": false,
    "pycharm": {
     "name": "#%%\n"
    }
   }
  },
  {
   "cell_type": "code",
   "execution_count": 13,
   "outputs": [
    {
     "data": {
      "text/plain": "    item_code       final_price_amount  voucher_value campaign_start  \\\n0  1000003443   449.990000000000000000            0.0     2021-04-17   \n1  1000006421  1399.990000000000000000            0.0     2021-04-17   \n2  1000006426  1399.990000000000000000            0.0     2021-04-17   \n3  1000007050   429.990000000000000000            0.0     2021-04-17   \n4  1000007052   449.990000000000000000            0.0     2021-04-17   \n\n  campaign_end  \n0   2021-04-28  \n1   2021-04-28  \n2   2021-04-28  \n3   2021-04-28  \n4   2021-04-28  ",
      "text/html": "<div>\n<style scoped>\n    .dataframe tbody tr th:only-of-type {\n        vertical-align: middle;\n    }\n\n    .dataframe tbody tr th {\n        vertical-align: top;\n    }\n\n    .dataframe thead th {\n        text-align: right;\n    }\n</style>\n<table border=\"1\" class=\"dataframe\">\n  <thead>\n    <tr style=\"text-align: right;\">\n      <th></th>\n      <th>item_code</th>\n      <th>final_price_amount</th>\n      <th>voucher_value</th>\n      <th>campaign_start</th>\n      <th>campaign_end</th>\n    </tr>\n  </thead>\n  <tbody>\n    <tr>\n      <th>0</th>\n      <td>1000003443</td>\n      <td>449.990000000000000000</td>\n      <td>0.0</td>\n      <td>2021-04-17</td>\n      <td>2021-04-28</td>\n    </tr>\n    <tr>\n      <th>1</th>\n      <td>1000006421</td>\n      <td>1399.990000000000000000</td>\n      <td>0.0</td>\n      <td>2021-04-17</td>\n      <td>2021-04-28</td>\n    </tr>\n    <tr>\n      <th>2</th>\n      <td>1000006426</td>\n      <td>1399.990000000000000000</td>\n      <td>0.0</td>\n      <td>2021-04-17</td>\n      <td>2021-04-28</td>\n    </tr>\n    <tr>\n      <th>3</th>\n      <td>1000007050</td>\n      <td>429.990000000000000000</td>\n      <td>0.0</td>\n      <td>2021-04-17</td>\n      <td>2021-04-28</td>\n    </tr>\n    <tr>\n      <th>4</th>\n      <td>1000007052</td>\n      <td>449.990000000000000000</td>\n      <td>0.0</td>\n      <td>2021-04-17</td>\n      <td>2021-04-28</td>\n    </tr>\n  </tbody>\n</table>\n</div>"
     },
     "execution_count": 13,
     "metadata": {},
     "output_type": "execute_result"
    }
   ],
   "source": [
    "df_homie14_no_camp.head()\n"
   ],
   "metadata": {
    "collapsed": false,
    "pycharm": {
     "name": "#%%\n"
    }
   }
  },
  {
   "cell_type": "code",
   "execution_count": 14,
   "outputs": [],
   "source": [
    "merged_down = pd.merge(original_df_down, df_homie14_no_camp, on='item_code')\n"
   ],
   "metadata": {
    "collapsed": false,
    "pycharm": {
     "name": "#%%\n"
    }
   }
  },
  {
   "cell_type": "code",
   "execution_count": 15,
   "outputs": [],
   "source": [
    "merged_up = pd.merge(original_df_up, df_homie14_no_camp, on='item_code')"
   ],
   "metadata": {
    "collapsed": false,
    "pycharm": {
     "name": "#%%\n"
    }
   }
  },
  {
   "cell_type": "code",
   "execution_count": 16,
   "outputs": [
    {
     "data": {
      "text/plain": "    item_code  item_price_x    max_date  delivery_weeks  sales_pe  \\\n0  1000086540        349.99  2021-04-28               3   -1.4374   \n1  1000050876        569.99  2021-04-18               2   -1.1908   \n2  1000184191        104.99  2021-04-27               4   -4.8137   \n3  1000027369        699.99  2021-04-15               2   -1.0499   \n4  1000008842        369.99  2021-04-24               1   -3.7269   \n\n   sales_pe_err  beta_del_week  beta_del_week_err  intercept  intercept_err  \\\n0        0.2356        -0.0499             0.0098     9.5983         1.4798   \n1        0.3369        -0.0119             0.0089     9.2930         2.1853   \n2        0.8391        -0.0163             0.0412    26.1239         3.8742   \n3        0.3353        -0.0246             0.0122     7.6897         2.1169   \n4        0.5994        -0.0319             0.0291    25.8375         3.8917   \n\n   ...  Delta_N_Sales  log_x_prime  N_prime_sales  Delta_Margin  Group_flag  \\\n0  ...      -0.012720     5.988933       0.840108      0.778171          up   \n1  ...      -0.010538     6.476647       1.556809      5.774286          up   \n2  ...      -0.042599     4.784893       3.025659      0.183779          up   \n3  ...      -0.009291     6.682094       0.624969      0.938321          up   \n4  ...      -0.032981     6.044504       3.278337      4.521200          up   \n\n             Increment      final_price_amount  voucher_value  campaign_start  \\\n0  14.000000000000002%  349.990000000000000000            0.0      2021-04-17   \n1  14.000000000000002%  569.990000000000000000            0.0      2021-04-17   \n2  14.000000000000002%  104.990000000000000000            0.0      2021-04-17   \n3  14.000000000000002%  699.990000000000000000            0.0      2021-04-17   \n4  14.000000000000002%  369.990000000000000000            0.0      2021-04-17   \n\n  campaign_end  \n0   2021-04-28  \n1   2021-04-28  \n2   2021-04-28  \n3   2021-04-28  \n4   2021-04-28  \n\n[5 rows x 25 columns]",
      "text/html": "<div>\n<style scoped>\n    .dataframe tbody tr th:only-of-type {\n        vertical-align: middle;\n    }\n\n    .dataframe tbody tr th {\n        vertical-align: top;\n    }\n\n    .dataframe thead th {\n        text-align: right;\n    }\n</style>\n<table border=\"1\" class=\"dataframe\">\n  <thead>\n    <tr style=\"text-align: right;\">\n      <th></th>\n      <th>item_code</th>\n      <th>item_price_x</th>\n      <th>max_date</th>\n      <th>delivery_weeks</th>\n      <th>sales_pe</th>\n      <th>sales_pe_err</th>\n      <th>beta_del_week</th>\n      <th>beta_del_week_err</th>\n      <th>intercept</th>\n      <th>intercept_err</th>\n      <th>...</th>\n      <th>Delta_N_Sales</th>\n      <th>log_x_prime</th>\n      <th>N_prime_sales</th>\n      <th>Delta_Margin</th>\n      <th>Group_flag</th>\n      <th>Increment</th>\n      <th>final_price_amount</th>\n      <th>voucher_value</th>\n      <th>campaign_start</th>\n      <th>campaign_end</th>\n    </tr>\n  </thead>\n  <tbody>\n    <tr>\n      <th>0</th>\n      <td>1000086540</td>\n      <td>349.99</td>\n      <td>2021-04-28</td>\n      <td>3</td>\n      <td>-1.4374</td>\n      <td>0.2356</td>\n      <td>-0.0499</td>\n      <td>0.0098</td>\n      <td>9.5983</td>\n      <td>1.4798</td>\n      <td>...</td>\n      <td>-0.012720</td>\n      <td>5.988933</td>\n      <td>0.840108</td>\n      <td>0.778171</td>\n      <td>up</td>\n      <td>14.000000000000002%</td>\n      <td>349.990000000000000000</td>\n      <td>0.0</td>\n      <td>2021-04-17</td>\n      <td>2021-04-28</td>\n    </tr>\n    <tr>\n      <th>1</th>\n      <td>1000050876</td>\n      <td>569.99</td>\n      <td>2021-04-18</td>\n      <td>2</td>\n      <td>-1.1908</td>\n      <td>0.3369</td>\n      <td>-0.0119</td>\n      <td>0.0089</td>\n      <td>9.2930</td>\n      <td>2.1853</td>\n      <td>...</td>\n      <td>-0.010538</td>\n      <td>6.476647</td>\n      <td>1.556809</td>\n      <td>5.774286</td>\n      <td>up</td>\n      <td>14.000000000000002%</td>\n      <td>569.990000000000000000</td>\n      <td>0.0</td>\n      <td>2021-04-17</td>\n      <td>2021-04-28</td>\n    </tr>\n    <tr>\n      <th>2</th>\n      <td>1000184191</td>\n      <td>104.99</td>\n      <td>2021-04-27</td>\n      <td>4</td>\n      <td>-4.8137</td>\n      <td>0.8391</td>\n      <td>-0.0163</td>\n      <td>0.0412</td>\n      <td>26.1239</td>\n      <td>3.8742</td>\n      <td>...</td>\n      <td>-0.042599</td>\n      <td>4.784893</td>\n      <td>3.025659</td>\n      <td>0.183779</td>\n      <td>up</td>\n      <td>14.000000000000002%</td>\n      <td>104.990000000000000000</td>\n      <td>0.0</td>\n      <td>2021-04-17</td>\n      <td>2021-04-28</td>\n    </tr>\n    <tr>\n      <th>3</th>\n      <td>1000027369</td>\n      <td>699.99</td>\n      <td>2021-04-15</td>\n      <td>2</td>\n      <td>-1.0499</td>\n      <td>0.3353</td>\n      <td>-0.0246</td>\n      <td>0.0122</td>\n      <td>7.6897</td>\n      <td>2.1169</td>\n      <td>...</td>\n      <td>-0.009291</td>\n      <td>6.682094</td>\n      <td>0.624969</td>\n      <td>0.938321</td>\n      <td>up</td>\n      <td>14.000000000000002%</td>\n      <td>699.990000000000000000</td>\n      <td>0.0</td>\n      <td>2021-04-17</td>\n      <td>2021-04-28</td>\n    </tr>\n    <tr>\n      <th>4</th>\n      <td>1000008842</td>\n      <td>369.99</td>\n      <td>2021-04-24</td>\n      <td>1</td>\n      <td>-3.7269</td>\n      <td>0.5994</td>\n      <td>-0.0319</td>\n      <td>0.0291</td>\n      <td>25.8375</td>\n      <td>3.8917</td>\n      <td>...</td>\n      <td>-0.032981</td>\n      <td>6.044504</td>\n      <td>3.278337</td>\n      <td>4.521200</td>\n      <td>up</td>\n      <td>14.000000000000002%</td>\n      <td>369.990000000000000000</td>\n      <td>0.0</td>\n      <td>2021-04-17</td>\n      <td>2021-04-28</td>\n    </tr>\n  </tbody>\n</table>\n<p>5 rows × 25 columns</p>\n</div>"
     },
     "execution_count": 16,
     "metadata": {},
     "output_type": "execute_result"
    }
   ],
   "source": [
    "merged_up.head()\n"
   ],
   "metadata": {
    "collapsed": false,
    "pycharm": {
     "name": "#%%\n"
    }
   }
  },
  {
   "cell_type": "code",
   "execution_count": 17,
   "outputs": [
    {
     "data": {
      "text/plain": "    item_code  item_price_x    max_date  delivery_weeks  sales_pe  \\\n0  1000048003        349.99  2021-04-23               3   -2.7317   \n1  1000123695        199.99  2021-04-28               1   -2.5115   \n2  1000128456        429.99  2021-04-28               3   -0.7598   \n3  1000091262        289.99  2020-10-14               3   -3.3256   \n4  1000145854        499.99  2021-04-19               2   -1.4837   \n\n   sales_pe_err  beta_del_week  beta_del_week_err  intercept  intercept_err  \\\n0        0.3851        -0.0089             0.0067    16.2329         2.1005   \n1        0.4648        -0.0307             0.0166    13.1606         2.3216   \n2        0.2379        -0.0255             0.0155     4.7650         1.3544   \n3        0.4310        -0.1002             0.0091    18.4672         2.3485   \n4        0.2090         0.0163             0.0108     8.5822         1.1060   \n\n   ...  Delta_N_Sales  log_x_prime  N_prime_sales  Delta_Margin  Group_flag  \\\n0  ...       0.031399     5.707082       0.616165      0.590100        down   \n1  ...       0.028868     5.147444       0.202093      1.547909        down   \n2  ...       0.008733     5.912939       0.195849      0.222921        down   \n3  ...       0.038225     5.519024      -0.187465      2.056987        down   \n4  ...       0.017054     6.063765      -0.382008      4.067149        down   \n\n              Increment      final_price_amount  voucher_value  \\\n0  -14.000000000000002%  349.990000000000000000            0.0   \n1  -14.000000000000002%  199.990000000000000000            0.0   \n2  -14.000000000000002%  429.990000000000000000            0.0   \n3  -14.000000000000002%  319.990000000000000000            0.0   \n4  -14.000000000000002%  499.990000000000000000            0.0   \n\n   campaign_start campaign_end  \n0      2021-04-17   2021-04-28  \n1      2021-04-17   2021-04-28  \n2      2021-04-17   2021-04-28  \n3      2021-04-17   2021-04-28  \n4      2021-04-17   2021-04-28  \n\n[5 rows x 25 columns]",
      "text/html": "<div>\n<style scoped>\n    .dataframe tbody tr th:only-of-type {\n        vertical-align: middle;\n    }\n\n    .dataframe tbody tr th {\n        vertical-align: top;\n    }\n\n    .dataframe thead th {\n        text-align: right;\n    }\n</style>\n<table border=\"1\" class=\"dataframe\">\n  <thead>\n    <tr style=\"text-align: right;\">\n      <th></th>\n      <th>item_code</th>\n      <th>item_price_x</th>\n      <th>max_date</th>\n      <th>delivery_weeks</th>\n      <th>sales_pe</th>\n      <th>sales_pe_err</th>\n      <th>beta_del_week</th>\n      <th>beta_del_week_err</th>\n      <th>intercept</th>\n      <th>intercept_err</th>\n      <th>...</th>\n      <th>Delta_N_Sales</th>\n      <th>log_x_prime</th>\n      <th>N_prime_sales</th>\n      <th>Delta_Margin</th>\n      <th>Group_flag</th>\n      <th>Increment</th>\n      <th>final_price_amount</th>\n      <th>voucher_value</th>\n      <th>campaign_start</th>\n      <th>campaign_end</th>\n    </tr>\n  </thead>\n  <tbody>\n    <tr>\n      <th>0</th>\n      <td>1000048003</td>\n      <td>349.99</td>\n      <td>2021-04-23</td>\n      <td>3</td>\n      <td>-2.7317</td>\n      <td>0.3851</td>\n      <td>-0.0089</td>\n      <td>0.0067</td>\n      <td>16.2329</td>\n      <td>2.1005</td>\n      <td>...</td>\n      <td>0.031399</td>\n      <td>5.707082</td>\n      <td>0.616165</td>\n      <td>0.590100</td>\n      <td>down</td>\n      <td>-14.000000000000002%</td>\n      <td>349.990000000000000000</td>\n      <td>0.0</td>\n      <td>2021-04-17</td>\n      <td>2021-04-28</td>\n    </tr>\n    <tr>\n      <th>1</th>\n      <td>1000123695</td>\n      <td>199.99</td>\n      <td>2021-04-28</td>\n      <td>1</td>\n      <td>-2.5115</td>\n      <td>0.4648</td>\n      <td>-0.0307</td>\n      <td>0.0166</td>\n      <td>13.1606</td>\n      <td>2.3216</td>\n      <td>...</td>\n      <td>0.028868</td>\n      <td>5.147444</td>\n      <td>0.202093</td>\n      <td>1.547909</td>\n      <td>down</td>\n      <td>-14.000000000000002%</td>\n      <td>199.990000000000000000</td>\n      <td>0.0</td>\n      <td>2021-04-17</td>\n      <td>2021-04-28</td>\n    </tr>\n    <tr>\n      <th>2</th>\n      <td>1000128456</td>\n      <td>429.99</td>\n      <td>2021-04-28</td>\n      <td>3</td>\n      <td>-0.7598</td>\n      <td>0.2379</td>\n      <td>-0.0255</td>\n      <td>0.0155</td>\n      <td>4.7650</td>\n      <td>1.3544</td>\n      <td>...</td>\n      <td>0.008733</td>\n      <td>5.912939</td>\n      <td>0.195849</td>\n      <td>0.222921</td>\n      <td>down</td>\n      <td>-14.000000000000002%</td>\n      <td>429.990000000000000000</td>\n      <td>0.0</td>\n      <td>2021-04-17</td>\n      <td>2021-04-28</td>\n    </tr>\n    <tr>\n      <th>3</th>\n      <td>1000091262</td>\n      <td>289.99</td>\n      <td>2020-10-14</td>\n      <td>3</td>\n      <td>-3.3256</td>\n      <td>0.4310</td>\n      <td>-0.1002</td>\n      <td>0.0091</td>\n      <td>18.4672</td>\n      <td>2.3485</td>\n      <td>...</td>\n      <td>0.038225</td>\n      <td>5.519024</td>\n      <td>-0.187465</td>\n      <td>2.056987</td>\n      <td>down</td>\n      <td>-14.000000000000002%</td>\n      <td>319.990000000000000000</td>\n      <td>0.0</td>\n      <td>2021-04-17</td>\n      <td>2021-04-28</td>\n    </tr>\n    <tr>\n      <th>4</th>\n      <td>1000145854</td>\n      <td>499.99</td>\n      <td>2021-04-19</td>\n      <td>2</td>\n      <td>-1.4837</td>\n      <td>0.2090</td>\n      <td>0.0163</td>\n      <td>0.0108</td>\n      <td>8.5822</td>\n      <td>1.1060</td>\n      <td>...</td>\n      <td>0.017054</td>\n      <td>6.063765</td>\n      <td>-0.382008</td>\n      <td>4.067149</td>\n      <td>down</td>\n      <td>-14.000000000000002%</td>\n      <td>499.990000000000000000</td>\n      <td>0.0</td>\n      <td>2021-04-17</td>\n      <td>2021-04-28</td>\n    </tr>\n  </tbody>\n</table>\n<p>5 rows × 25 columns</p>\n</div>"
     },
     "execution_count": 17,
     "metadata": {},
     "output_type": "execute_result"
    }
   ],
   "source": [
    "merged_down.head()"
   ],
   "metadata": {
    "collapsed": false,
    "pycharm": {
     "name": "#%%\n"
    }
   }
  },
  {
   "cell_type": "code",
   "execution_count": 18,
   "outputs": [],
   "source": [
    "list_of_items_up = merged_up['item_code'].to_numpy()"
   ],
   "metadata": {
    "collapsed": false,
    "pycharm": {
     "name": "#%%\n"
    }
   }
  },
  {
   "cell_type": "code",
   "execution_count": 19,
   "outputs": [],
   "source": [
    "list_of_items_down = merged_down['item_code'].to_numpy()\n"
   ],
   "metadata": {
    "collapsed": false,
    "pycharm": {
     "name": "#%%\n"
    }
   }
  },
  {
   "cell_type": "code",
   "execution_count": 20,
   "outputs": [
    {
     "name": "stdout",
     "output_type": "stream",
     "text": [
      "[1000086540 1000050876 1000184191 1000027369 1000008842 1000092019\n",
      " 1000118147 1000103648 1000056978 1000008016 1000189778 1000103647\n",
      " 1000189771 1000177767 1000050865 1000056783 1000008872 1000056964\n",
      " 1000056953 1000110022 1000050842 1000056782 1000152213 1000008037\n",
      " 1000119769 1000008035]\n"
     ]
    }
   ],
   "source": [
    "\n",
    "print(list_of_items_up)"
   ],
   "metadata": {
    "collapsed": false,
    "pycharm": {
     "name": "#%%\n"
    }
   }
  },
  {
   "cell_type": "code",
   "execution_count": 21,
   "outputs": [
    {
     "name": "stdout",
     "output_type": "stream",
     "text": [
      "[1000048003 1000123695 1000128456 1000091262 1000145854 1000123763\n",
      " 1000110348 1000056742 1000071065 1000008825 1000200152 1000024953\n",
      " 1000007069 1000024947 1000117189 1000007079 1000008056 1000210541\n",
      " 1000050883 1000008867 1000008752 1000008808 1000118200 1000022120\n",
      " 1000027408 1000007429 1000008058 1000007430 1000197490 1000007080\n",
      " 1000153429 1000113296 1000008748 1000151250 1000008007 1000125642\n",
      " 1000008755 1000034491 1000007107 1000050873 1000209624 1000027410\n",
      " 1000008814 1000008031 1000147149 1000008815 1000007083 1000027357\n",
      " 1000008067 1000134697 1000022129 1000008824 1000008809 1000050870\n",
      " 1000134688 1000126687 1000008827 1000008039 1000027409 1000007325\n",
      " 1000050877 1000104270 1000119258 1000116645 1000182823 1000008699]\n"
     ]
    }
   ],
   "source": [
    "print(list_of_items_down)"
   ],
   "metadata": {
    "collapsed": false,
    "pycharm": {
     "name": "#%%\n"
    }
   }
  },
  {
   "cell_type": "code",
   "execution_count": 22,
   "outputs": [],
   "source": [
    "merged_up['item_code'].to_csv('../raw_data/Excel_files/list_items_up_bazooka.csv')\n",
    "merged_down['item_code'].to_csv('../raw_data/Excel_files/list_items_down_bazooka.csv')"
   ],
   "metadata": {
    "collapsed": false,
    "pycharm": {
     "name": "#%%\n"
    }
   }
  },
  {
   "cell_type": "code",
   "execution_count": 23,
   "outputs": [],
   "source": [
    "total_bazooka_frames = [merged_up,merged_down]\n",
    "total_bazooka = pd.concat(total_bazooka_frames)"
   ],
   "metadata": {
    "collapsed": false,
    "pycharm": {
     "name": "#%%\n"
    }
   }
  },
  {
   "cell_type": "code",
   "execution_count": 24,
   "outputs": [
    {
     "data": {
      "text/plain": "item_code               int64\nitem_price_x          float64\nmax_date               object\ndelivery_weeks          int64\nsales_pe              float64\nsales_pe_err          float64\nbeta_del_week         float64\nbeta_del_week_err     float64\nintercept             float64\nintercept_err         float64\npc2                   float64\nitem_skey               int64\nx                     float64\nDelta_x               float64\nDelta_cost            float64\nDelta_N_Sales         float64\nlog_x_prime           float64\nN_prime_sales         float64\nDelta_Margin          float64\nGroup_flag             object\nIncrement              object\nfinal_price_amount     object\nvoucher_value         float64\ncampaign_start         object\ncampaign_end           object\ndtype: object"
     },
     "execution_count": 24,
     "metadata": {},
     "output_type": "execute_result"
    }
   ],
   "source": [
    "total_bazooka.dtypes"
   ],
   "metadata": {
    "collapsed": false,
    "pycharm": {
     "name": "#%%\n"
    }
   }
  },
  {
   "cell_type": "code",
   "execution_count": 25,
   "outputs": [],
   "source": [
    "total_bazooka.to_csv('../raw_data/Excel_files/Bazooka.csv')"
   ],
   "metadata": {
    "collapsed": false,
    "pycharm": {
     "name": "#%%\n"
    }
   }
  },
  {
   "cell_type": "code",
   "execution_count": null,
   "outputs": [],
   "source": [],
   "metadata": {
    "collapsed": false,
    "pycharm": {
     "name": "#%%\n"
    }
   }
  }
 ],
 "metadata": {
  "kernelspec": {
   "display_name": "Python 3",
   "language": "python",
   "name": "python3"
  },
  "language_info": {
   "codemirror_mode": {
    "name": "ipython",
    "version": 2
   },
   "file_extension": ".py",
   "mimetype": "text/x-python",
   "name": "python",
   "nbconvert_exporter": "python",
   "pygments_lexer": "ipython2",
   "version": "2.7.6"
  }
 },
 "nbformat": 4,
 "nbformat_minor": 0
}