{
 "cells": [
  {
   "cell_type": "code",
   "execution_count": null,
   "metadata": {
    "collapsed": true,
    "pycharm": {
     "is_executing": true
    }
   },
   "outputs": [],
   "source": [
    "import pandas as pd\n",
    "import numpy as np"
   ]
  },
  {
   "cell_type": "code",
   "execution_count": 27,
   "outputs": [],
   "source": [
    "df_final = pd.read_csv('../raw_data/Excel_files/Margin_result_PE_analysis_PC2.csv')"
   ],
   "metadata": {
    "collapsed": false,
    "pycharm": {
     "name": "#%%\n"
    }
   }
  },
  {
   "cell_type": "code",
   "execution_count": 28,
   "outputs": [
    {
     "name": "stdout",
     "output_type": "stream",
     "text": [
      "   Unnamed: 0   item_code  avg_conv_rate  last_price   last_date  \\\n",
      "0           0  1000024320       0.067821      119.99  2020-12-01   \n",
      "1           1  1000005727       0.029961       99.99  2020-12-09   \n",
      "2           2  1000007822       0.019591      279.99  2020-05-27   \n",
      "3           3  1000114877       0.014925      179.99  2020-12-09   \n",
      "4           5  1000008470       0.043734       99.99  2020-12-09   \n",
      "\n",
      "   avg_unique_views      PE  PE_err      pc2  price_down  conv_rate_down  \\\n",
      "0         22.354839 -0.0854  0.0180   65.109  117.614039        0.067937   \n",
      "1        176.119048 -0.0460  0.0073   41.450   97.034849        0.030002   \n",
      "2        112.271605 -0.0246  0.0073  109.170  274.445827        0.019600   \n",
      "3        193.820216 -0.0218  0.0049   77.859  176.425959        0.014932   \n",
      "4         87.135135 -0.0643  0.0105   49.380   97.034849        0.043819   \n",
      "\n",
      "   conv_rate_down_err  Delta_price  Margin_down  Margin_base  Margin_down_err  \\\n",
      "0            0.000024    35.722933    54.253161    54.160575         0.019531   \n",
      "1            0.000007    42.575210   224.963375   224.653140         0.049267   \n",
      "2            0.000003   126.115714   277.527562   277.391052         0.040519   \n",
      "3            0.000001    73.393101   212.405162   212.312573         0.020816   \n",
      "4            0.000014    34.645210   132.281266   132.026341         0.041669   \n",
      "\n",
      "  Group_flag  Margin_last  Margin_rate_to_base  \n",
      "0    neutral    54.206848             0.001708  \n",
      "1    neutral   224.859916             0.001380  \n",
      "2    neutral   277.459298             0.000492  \n",
      "3    neutral   212.358862             0.000436  \n",
      "4    neutral   132.196236             0.001929  \n"
     ]
    }
   ],
   "source": [
    "print(df_final.head())"
   ],
   "metadata": {
    "collapsed": false,
    "pycharm": {
     "name": "#%%\n"
    }
   }
  },
  {
   "cell_type": "code",
   "execution_count": 29,
   "outputs": [],
   "source": [
    "df_final = df_final[['item_code','last_price','price_down','Margin_rate_to_base','PE','PE_err','pc2']]"
   ],
   "metadata": {
    "collapsed": false,
    "pycharm": {
     "name": "#%%\n"
    }
   }
  },
  {
   "cell_type": "code",
   "execution_count": 30,
   "outputs": [],
   "source": [
    "df_final['Margin_rate_to_base']=df_final['Margin_rate_to_base']*100"
   ],
   "metadata": {
    "collapsed": false,
    "pycharm": {
     "name": "#%%\n"
    }
   }
  },
  {
   "cell_type": "code",
   "execution_count": 31,
   "outputs": [
    {
     "data": {
      "text/plain": "    item_code  last_price  price_down  Margin_rate_to_base      PE  PE_err  \\\n0  1000024320      119.99  117.614039               0.1708 -0.0854  0.0180   \n1  1000005727       99.99   97.034849               0.1380 -0.0460  0.0073   \n2  1000007822      279.99  274.445827               0.0492 -0.0246  0.0073   \n3  1000114877      179.99  176.425959               0.0436 -0.0218  0.0049   \n4  1000008470       99.99   97.034849               0.1929 -0.0643  0.0105   \n\n       pc2  \n0   65.109  \n1   41.450  \n2  109.170  \n3   77.859  \n4   49.380  ",
      "text/html": "<div>\n<style scoped>\n    .dataframe tbody tr th:only-of-type {\n        vertical-align: middle;\n    }\n\n    .dataframe tbody tr th {\n        vertical-align: top;\n    }\n\n    .dataframe thead th {\n        text-align: right;\n    }\n</style>\n<table border=\"1\" class=\"dataframe\">\n  <thead>\n    <tr style=\"text-align: right;\">\n      <th></th>\n      <th>item_code</th>\n      <th>last_price</th>\n      <th>price_down</th>\n      <th>Margin_rate_to_base</th>\n      <th>PE</th>\n      <th>PE_err</th>\n      <th>pc2</th>\n    </tr>\n  </thead>\n  <tbody>\n    <tr>\n      <th>0</th>\n      <td>1000024320</td>\n      <td>119.99</td>\n      <td>117.614039</td>\n      <td>0.1708</td>\n      <td>-0.0854</td>\n      <td>0.0180</td>\n      <td>65.109</td>\n    </tr>\n    <tr>\n      <th>1</th>\n      <td>1000005727</td>\n      <td>99.99</td>\n      <td>97.034849</td>\n      <td>0.1380</td>\n      <td>-0.0460</td>\n      <td>0.0073</td>\n      <td>41.450</td>\n    </tr>\n    <tr>\n      <th>2</th>\n      <td>1000007822</td>\n      <td>279.99</td>\n      <td>274.445827</td>\n      <td>0.0492</td>\n      <td>-0.0246</td>\n      <td>0.0073</td>\n      <td>109.170</td>\n    </tr>\n    <tr>\n      <th>3</th>\n      <td>1000114877</td>\n      <td>179.99</td>\n      <td>176.425959</td>\n      <td>0.0436</td>\n      <td>-0.0218</td>\n      <td>0.0049</td>\n      <td>77.859</td>\n    </tr>\n    <tr>\n      <th>4</th>\n      <td>1000008470</td>\n      <td>99.99</td>\n      <td>97.034849</td>\n      <td>0.1929</td>\n      <td>-0.0643</td>\n      <td>0.0105</td>\n      <td>49.380</td>\n    </tr>\n  </tbody>\n</table>\n</div>"
     },
     "execution_count": 31,
     "metadata": {},
     "output_type": "execute_result"
    }
   ],
   "source": [
    "\n",
    "df_final.head()"
   ],
   "metadata": {
    "collapsed": false,
    "pycharm": {
     "name": "#%%\n"
    }
   }
  },
  {
   "cell_type": "code",
   "execution_count": 32,
   "outputs": [],
   "source": [
    "df_final=df_final.rename(columns={\"last_price\": \"actual_price\", \"price_down\": \"optimal_price\"})"
   ],
   "metadata": {
    "collapsed": false,
    "pycharm": {
     "name": "#%%\n"
    }
   }
  },
  {
   "cell_type": "code",
   "execution_count": 33,
   "outputs": [],
   "source": [
    "from pyspark.sql import SparkSession\n",
    "from pyspark.sql.functions import *\n",
    "spark = SparkSession.builder.master('local').config('spark.driver.memory', '8g').appName('innerjoin').getOrCreate()\n"
   ],
   "metadata": {
    "collapsed": false,
    "pycharm": {
     "name": "#%%\n"
    }
   }
  },
  {
   "cell_type": "code",
   "execution_count": null,
   "outputs": [],
   "source": [],
   "metadata": {
    "collapsed": false,
    "pycharm": {
     "name": "#%%\n"
    }
   }
  },
  {
   "cell_type": "code",
   "execution_count": null,
   "outputs": [],
   "source": [
    "shuffled = df_final.sample(frac=1)\n",
    "result = np.array_split(shuffled, 3)\n",
    "\n",
    "result[0].to_csv('../raw_data/Excel_files/Margin_result_test_1st.csv')\n",
    "result[1].to_csv('../raw_data/Excel_files/Margin_result_test_2nd.csv')\n",
    "result[2].to_csv('../raw_data/Excel_files/Margin_result_test_3rd.csv')"
   ],
   "metadata": {
    "collapsed": false,
    "pycharm": {
     "name": "#%%\n"
    }
   }
  }
 ],
 "metadata": {
  "kernelspec": {
   "display_name": "Python 3",
   "language": "python",
   "name": "python3"
  },
  "language_info": {
   "codemirror_mode": {
    "name": "ipython",
    "version": 2
   },
   "file_extension": ".py",
   "mimetype": "text/x-python",
   "name": "python",
   "nbconvert_exporter": "python",
   "pygments_lexer": "ipython2",
   "version": "2.7.6"
  }
 },
 "nbformat": 4,
 "nbformat_minor": 0
}