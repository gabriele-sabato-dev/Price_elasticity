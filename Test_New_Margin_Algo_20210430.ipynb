{
 "cells": [
  {
   "cell_type": "code",
   "execution_count": 1,
   "metadata": {},
   "outputs": [],
   "source": [
    "import math\n",
    "import numpy as np\n",
    "import pandas as pd\n",
    "\n"
   ]
  },
  {
   "cell_type": "code",
   "execution_count": 2,
   "metadata": {
    "pycharm": {
     "name": "#%%\n"
    }
   },
   "outputs": [],
   "source": [
    "df_fin = pd.read_csv('./pickle_files/df_final_spark_top5k_log_cv_160421.csv',index_col=0)"
   ]
  },
  {
   "cell_type": "code",
   "execution_count": 3,
   "outputs": [],
   "source": [
    "df_fin_true = df_fin[df_fin['has_enough_stat']]"
   ],
   "metadata": {
    "collapsed": false,
    "pycharm": {
     "name": "#%%\n"
    }
   }
  },
  {
   "cell_type": "code",
   "execution_count": 4,
   "outputs": [
    {
     "data": {
      "text/plain": "     item_code  avg_conv_rate  last_price   last_date  avg_unique_views  \\\n2   1000021922       0.023490      114.99  2021-02-16         90.113095   \n3   1000022179       0.003121      479.99  2021-02-06         93.258739   \n10  1000145006       0.004873      289.99  2021-02-04        188.190476   \n14  1000005727       0.017079       99.99  2021-02-25        170.099034   \n17  1000008870       0.001093      619.99  2021-02-11        130.857143   \n\n        PE  PE_err  has_enough_stat      pc2        item_skey  \n2  -4.0089  0.5605             True      NaN  156995084198890  \n3  -3.5759  1.1543             True  276.870   11954970507506  \n10 -4.6079  1.3188             True  188.819  280637889289282  \n14 -1.5183  0.4891             True   40.729   71488185050378  \n17 -3.5079  1.1074             True  259.209  242371880591990  ",
      "text/html": "<div>\n<style scoped>\n    .dataframe tbody tr th:only-of-type {\n        vertical-align: middle;\n    }\n\n    .dataframe tbody tr th {\n        vertical-align: top;\n    }\n\n    .dataframe thead th {\n        text-align: right;\n    }\n</style>\n<table border=\"1\" class=\"dataframe\">\n  <thead>\n    <tr style=\"text-align: right;\">\n      <th></th>\n      <th>item_code</th>\n      <th>avg_conv_rate</th>\n      <th>last_price</th>\n      <th>last_date</th>\n      <th>avg_unique_views</th>\n      <th>PE</th>\n      <th>PE_err</th>\n      <th>has_enough_stat</th>\n      <th>pc2</th>\n      <th>item_skey</th>\n    </tr>\n  </thead>\n  <tbody>\n    <tr>\n      <th>2</th>\n      <td>1000021922</td>\n      <td>0.023490</td>\n      <td>114.99</td>\n      <td>2021-02-16</td>\n      <td>90.113095</td>\n      <td>-4.0089</td>\n      <td>0.5605</td>\n      <td>True</td>\n      <td>NaN</td>\n      <td>156995084198890</td>\n    </tr>\n    <tr>\n      <th>3</th>\n      <td>1000022179</td>\n      <td>0.003121</td>\n      <td>479.99</td>\n      <td>2021-02-06</td>\n      <td>93.258739</td>\n      <td>-3.5759</td>\n      <td>1.1543</td>\n      <td>True</td>\n      <td>276.870</td>\n      <td>11954970507506</td>\n    </tr>\n    <tr>\n      <th>10</th>\n      <td>1000145006</td>\n      <td>0.004873</td>\n      <td>289.99</td>\n      <td>2021-02-04</td>\n      <td>188.190476</td>\n      <td>-4.6079</td>\n      <td>1.3188</td>\n      <td>True</td>\n      <td>188.819</td>\n      <td>280637889289282</td>\n    </tr>\n    <tr>\n      <th>14</th>\n      <td>1000005727</td>\n      <td>0.017079</td>\n      <td>99.99</td>\n      <td>2021-02-25</td>\n      <td>170.099034</td>\n      <td>-1.5183</td>\n      <td>0.4891</td>\n      <td>True</td>\n      <td>40.729</td>\n      <td>71488185050378</td>\n    </tr>\n    <tr>\n      <th>17</th>\n      <td>1000008870</td>\n      <td>0.001093</td>\n      <td>619.99</td>\n      <td>2021-02-11</td>\n      <td>130.857143</td>\n      <td>-3.5079</td>\n      <td>1.1074</td>\n      <td>True</td>\n      <td>259.209</td>\n      <td>242371880591990</td>\n    </tr>\n  </tbody>\n</table>\n</div>"
     },
     "execution_count": 4,
     "metadata": {},
     "output_type": "execute_result"
    }
   ],
   "source": [
    "df_fin_true.head()\n"
   ],
   "metadata": {
    "collapsed": false,
    "pycharm": {
     "name": "#%%\n"
    }
   }
  },
  {
   "cell_type": "code",
   "execution_count": 5,
   "metadata": {
    "pycharm": {
     "name": "#%%\n"
    }
   },
   "outputs": [
    {
     "name": "stdout",
     "output_type": "stream",
     "text": [
      "item_code             int64\n",
      "avg_conv_rate       float64\n",
      "last_price          float64\n",
      "last_date            object\n",
      "avg_unique_views    float64\n",
      "PE                  float64\n",
      "PE_err              float64\n",
      "has_enough_stat        bool\n",
      "pc2                 float64\n",
      "item_skey             int64\n",
      "dtype: object\n"
     ]
    }
   ],
   "source": [
    "df_final_spark=df_fin_true.astype({'pc2': 'float64'})\n",
    "\n",
    "print(df_final_spark.dtypes)\n",
    "\n",
    "df_final_spark.dropna(inplace=True)\n",
    "df_final_spark = df_final_spark[df_final_spark['PE']< 1.0]\n",
    "df_final_spark = df_final_spark[df_final_spark['PE_err']<1.0]"
   ]
  },
  {
   "cell_type": "code",
   "execution_count": 6,
   "metadata": {
    "pycharm": {
     "name": "#%%\n"
    }
   },
   "outputs": [],
   "source": [
    "VAT = 1.19\n",
    "\n"
   ]
  },
  {
   "cell_type": "code",
   "execution_count": 7,
   "outputs": [],
   "source": [
    "df_n_views = pd.read_csv('./../raw_data/Excel_files/Top5k_View_PE.csv',index_col = 0)"
   ],
   "metadata": {
    "collapsed": false,
    "pycharm": {
     "name": "#%%\n"
    }
   }
  },
  {
   "cell_type": "code",
   "execution_count": 8,
   "outputs": [
    {
     "data": {
      "text/plain": "            View_PE  View_PE_err\n1000012530  -1.6265       0.4565\n1000021922  -1.0147       0.1548\n1000034762  -1.3782       0.3497\n1000125896  -1.6598       0.3366\n1000005727  -0.9853       0.2722",
      "text/html": "<div>\n<style scoped>\n    .dataframe tbody tr th:only-of-type {\n        vertical-align: middle;\n    }\n\n    .dataframe tbody tr th {\n        vertical-align: top;\n    }\n\n    .dataframe thead th {\n        text-align: right;\n    }\n</style>\n<table border=\"1\" class=\"dataframe\">\n  <thead>\n    <tr style=\"text-align: right;\">\n      <th></th>\n      <th>View_PE</th>\n      <th>View_PE_err</th>\n    </tr>\n  </thead>\n  <tbody>\n    <tr>\n      <th>1000012530</th>\n      <td>-1.6265</td>\n      <td>0.4565</td>\n    </tr>\n    <tr>\n      <th>1000021922</th>\n      <td>-1.0147</td>\n      <td>0.1548</td>\n    </tr>\n    <tr>\n      <th>1000034762</th>\n      <td>-1.3782</td>\n      <td>0.3497</td>\n    </tr>\n    <tr>\n      <th>1000125896</th>\n      <td>-1.6598</td>\n      <td>0.3366</td>\n    </tr>\n    <tr>\n      <th>1000005727</th>\n      <td>-0.9853</td>\n      <td>0.2722</td>\n    </tr>\n  </tbody>\n</table>\n</div>"
     },
     "execution_count": 8,
     "metadata": {},
     "output_type": "execute_result"
    }
   ],
   "source": [
    "df_n_views.head()"
   ],
   "metadata": {
    "collapsed": false,
    "pycharm": {
     "name": "#%%\n"
    }
   }
  },
  {
   "cell_type": "code",
   "execution_count": 9,
   "outputs": [],
   "source": [
    "df_n_views['item_code'] = df_n_views.index"
   ],
   "metadata": {
    "collapsed": false,
    "pycharm": {
     "name": "#%%\n"
    }
   }
  },
  {
   "cell_type": "code",
   "execution_count": 10,
   "outputs": [
    {
     "data": {
      "text/plain": "            View_PE  View_PE_err   item_code\n1000012530  -1.6265       0.4565  1000012530\n1000021922  -1.0147       0.1548  1000021922\n1000034762  -1.3782       0.3497  1000034762\n1000125896  -1.6598       0.3366  1000125896\n1000005727  -0.9853       0.2722  1000005727",
      "text/html": "<div>\n<style scoped>\n    .dataframe tbody tr th:only-of-type {\n        vertical-align: middle;\n    }\n\n    .dataframe tbody tr th {\n        vertical-align: top;\n    }\n\n    .dataframe thead th {\n        text-align: right;\n    }\n</style>\n<table border=\"1\" class=\"dataframe\">\n  <thead>\n    <tr style=\"text-align: right;\">\n      <th></th>\n      <th>View_PE</th>\n      <th>View_PE_err</th>\n      <th>item_code</th>\n    </tr>\n  </thead>\n  <tbody>\n    <tr>\n      <th>1000012530</th>\n      <td>-1.6265</td>\n      <td>0.4565</td>\n      <td>1000012530</td>\n    </tr>\n    <tr>\n      <th>1000021922</th>\n      <td>-1.0147</td>\n      <td>0.1548</td>\n      <td>1000021922</td>\n    </tr>\n    <tr>\n      <th>1000034762</th>\n      <td>-1.3782</td>\n      <td>0.3497</td>\n      <td>1000034762</td>\n    </tr>\n    <tr>\n      <th>1000125896</th>\n      <td>-1.6598</td>\n      <td>0.3366</td>\n      <td>1000125896</td>\n    </tr>\n    <tr>\n      <th>1000005727</th>\n      <td>-0.9853</td>\n      <td>0.2722</td>\n      <td>1000005727</td>\n    </tr>\n  </tbody>\n</table>\n</div>"
     },
     "execution_count": 10,
     "metadata": {},
     "output_type": "execute_result"
    }
   ],
   "source": [
    "df_n_views.head()"
   ],
   "metadata": {
    "collapsed": false,
    "pycharm": {
     "name": "#%%df_n_views\n"
    }
   }
  },
  {
   "cell_type": "code",
   "execution_count": 11,
   "outputs": [],
   "source": [
    "df_merged = pd.merge(df_final_spark,df_n_views, on=\"item_code\")"
   ],
   "metadata": {
    "collapsed": false,
    "pycharm": {
     "name": "#%%\n"
    }
   }
  },
  {
   "cell_type": "code",
   "execution_count": 12,
   "outputs": [
    {
     "data": {
      "text/plain": "    item_code  avg_conv_rate  last_price   last_date  avg_unique_views  \\\n0  1000005727       0.017079       99.99  2021-02-25        170.099034   \n1  1000016028       0.016290      139.99  2021-02-25         26.446154   \n2  1000175476       0.055748       83.99  2021-02-25         80.722222   \n3  1000176734       0.007736      159.99  2021-02-08        100.555556   \n4  1000194074       0.024822       77.99  2021-02-25         97.437774   \n\n       PE  PE_err  has_enough_stat     pc2        item_skey  View_PE  \\\n0 -1.5183  0.4891             True  40.729   71488185050378  -0.9853   \n1 -2.3105  0.5174             True  52.430   48800168481821  -1.6602   \n2 -2.0583  0.2891             True  48.799  115260611693891  -0.5003   \n3 -1.7633  0.5678             True  54.119   38255991794505  -1.2500   \n4 -1.5244  0.4274             True  43.439  242522860992899  -0.9045   \n\n   View_PE_err  \n0       0.2722  \n1       0.2891  \n2       0.1561  \n3       0.3075  \n4       0.2371  ",
      "text/html": "<div>\n<style scoped>\n    .dataframe tbody tr th:only-of-type {\n        vertical-align: middle;\n    }\n\n    .dataframe tbody tr th {\n        vertical-align: top;\n    }\n\n    .dataframe thead th {\n        text-align: right;\n    }\n</style>\n<table border=\"1\" class=\"dataframe\">\n  <thead>\n    <tr style=\"text-align: right;\">\n      <th></th>\n      <th>item_code</th>\n      <th>avg_conv_rate</th>\n      <th>last_price</th>\n      <th>last_date</th>\n      <th>avg_unique_views</th>\n      <th>PE</th>\n      <th>PE_err</th>\n      <th>has_enough_stat</th>\n      <th>pc2</th>\n      <th>item_skey</th>\n      <th>View_PE</th>\n      <th>View_PE_err</th>\n    </tr>\n  </thead>\n  <tbody>\n    <tr>\n      <th>0</th>\n      <td>1000005727</td>\n      <td>0.017079</td>\n      <td>99.99</td>\n      <td>2021-02-25</td>\n      <td>170.099034</td>\n      <td>-1.5183</td>\n      <td>0.4891</td>\n      <td>True</td>\n      <td>40.729</td>\n      <td>71488185050378</td>\n      <td>-0.9853</td>\n      <td>0.2722</td>\n    </tr>\n    <tr>\n      <th>1</th>\n      <td>1000016028</td>\n      <td>0.016290</td>\n      <td>139.99</td>\n      <td>2021-02-25</td>\n      <td>26.446154</td>\n      <td>-2.3105</td>\n      <td>0.5174</td>\n      <td>True</td>\n      <td>52.430</td>\n      <td>48800168481821</td>\n      <td>-1.6602</td>\n      <td>0.2891</td>\n    </tr>\n    <tr>\n      <th>2</th>\n      <td>1000175476</td>\n      <td>0.055748</td>\n      <td>83.99</td>\n      <td>2021-02-25</td>\n      <td>80.722222</td>\n      <td>-2.0583</td>\n      <td>0.2891</td>\n      <td>True</td>\n      <td>48.799</td>\n      <td>115260611693891</td>\n      <td>-0.5003</td>\n      <td>0.1561</td>\n    </tr>\n    <tr>\n      <th>3</th>\n      <td>1000176734</td>\n      <td>0.007736</td>\n      <td>159.99</td>\n      <td>2021-02-08</td>\n      <td>100.555556</td>\n      <td>-1.7633</td>\n      <td>0.5678</td>\n      <td>True</td>\n      <td>54.119</td>\n      <td>38255991794505</td>\n      <td>-1.2500</td>\n      <td>0.3075</td>\n    </tr>\n    <tr>\n      <th>4</th>\n      <td>1000194074</td>\n      <td>0.024822</td>\n      <td>77.99</td>\n      <td>2021-02-25</td>\n      <td>97.437774</td>\n      <td>-1.5244</td>\n      <td>0.4274</td>\n      <td>True</td>\n      <td>43.439</td>\n      <td>242522860992899</td>\n      <td>-0.9045</td>\n      <td>0.2371</td>\n    </tr>\n  </tbody>\n</table>\n</div>"
     },
     "execution_count": 12,
     "metadata": {},
     "output_type": "execute_result"
    }
   ],
   "source": [
    "df_merged.head()\n"
   ],
   "metadata": {
    "collapsed": false,
    "pycharm": {
     "name": "#%%\n"
    }
   }
  },
  {
   "cell_type": "code",
   "execution_count": 13,
   "outputs": [
    {
     "data": {
      "text/plain": "-2.4940368715083796"
     },
     "execution_count": 13,
     "metadata": {},
     "output_type": "execute_result"
    }
   ],
   "source": [
    "df_merged['PE'].mean()"
   ],
   "metadata": {
    "collapsed": false,
    "pycharm": {
     "name": "#%%\n"
    }
   }
  },
  {
   "cell_type": "code",
   "execution_count": 14,
   "metadata": {
    "pycharm": {
     "name": "#%%\n"
    }
   },
   "outputs": [],
   "source": [
    "def create_auxiliary_var(dataf=df_merged):\n",
    "    dataf['Delta_price'] = (dataf['last_price']/VAT - dataf['pc2'])\n",
    "    dataf['Margin_base'] = dataf['avg_unique_views']*dataf['avg_conv_rate']*(dataf['Delta_price'])\n",
    "\n",
    "def classify(dataf= df_merged):\n",
    "    dataf['Group_flag'] = np.where(dataf['Margin_base'] < (dataf['Margin_up'] - 3*dataf['Margin_err_up']), 'up',\n",
    "                                        np.where(dataf['Margin_base'] < (dataf['Margin_down'] - 3*dataf['Margin_err_down']), 'down','neutral'))\n",
    "\n",
    "def classify_up(dataf=df_merged):\n",
    "    dataf['Group_flag'] = np.where(dataf['Margin_base'] < (dataf['Margin_up'] - 3*dataf['Margin_err_up']), 'up','neutral_up')\n",
    "\n",
    "def classify_down(dataf=df_merged):\n",
    "    dataf['Group_flag'] = np.where(dataf['Margin_base'] < (dataf['Margin_down'] - 3*dataf['Margin_err_down']), 'down','neutral_down')"
   ]
  },
  {
   "cell_type": "code",
   "execution_count": 52,
   "metadata": {
    "pycharm": {
     "name": "#%%\n"
    }
   },
   "outputs": [],
   "source": [
    "def create_Margin( increment = 0.01, dataf = df_merged, flag = 'up'):\n",
    "    if flag == 'down':\n",
    "        increment = -increment\n",
    "\n",
    "    price          = 'price_'+flag\n",
    "    Delta_price    = 'Delta_price_'+flag\n",
    "    conv_rate      = 'conv_rate_'+flag\n",
    "    conv_rate_err  = 'conv_rate_err_'+flag\n",
    "    n_views        = 'avg_unique_views_' + flag\n",
    "    n_views_err    = 'avg_unique_views_err_' + flag\n",
    "    Margin         = 'Margin_'+flag\n",
    "    Margin_err     = 'Margin_err_'+flag\n",
    "\n",
    "    #CROSS CHECK THE WHOLE ERROR PROPAGATION!!!!\n",
    "\n",
    "    dataf[price]              =  dataf['last_price']*math.exp(increment)\n",
    "    dataf[Delta_price]        =  (dataf[price]/VAT - dataf['pc2'])\n",
    "    dataf[conv_rate]          =  dataf['avg_conv_rate']*np.exp(dataf['PE']*np.log(dataf[price]/dataf['last_price']))\n",
    "    dataf[conv_rate_err]      =  np.fabs(dataf[conv_rate])*np.fabs(dataf['PE_err']*np.log(dataf[price]/dataf['last_price']))\n",
    "    dataf[n_views]            =  dataf['avg_unique_views']*np.exp(dataf['View_PE']*np.log(dataf[price]/dataf['last_price']))\n",
    "    dataf[n_views_err]        =  np.fabs(dataf[n_views])*np.fabs(dataf['View_PE_err']*np.log(dataf[price]/dataf['last_price']))\n",
    "    dataf[Margin]             =  dataf[n_views]*dataf[conv_rate]*(dataf[Delta_price])\n",
    "    #Propagate Margin error\n",
    "    dataf[Margin_err]         =  np.sqrt(np.power(dataf[conv_rate]*dataf[n_views_err]*(dataf[Delta_price]),2) + np.power(dataf[n_views]*dataf[conv_rate_err]*(dataf[Delta_price]),2))\n",
    "\n"
   ]
  },
  {
   "cell_type": "code",
   "execution_count": 53,
   "metadata": {
    "pycharm": {
     "name": "#%%\n"
    }
   },
   "outputs": [],
   "source": [
    "#print(df_final_spark[['item_code','avg_conv_rate','last_price']].head())\n",
    "#create_Margin(0.01)"
   ]
  },
  {
   "cell_type": "code",
   "execution_count": 54,
   "metadata": {
    "pycharm": {
     "name": "#%%\n"
    }
   },
   "outputs": [
    {
     "name": "stdout",
     "output_type": "stream",
     "text": [
      "358\n"
     ]
    }
   ],
   "source": [
    "original_df= df_merged\n",
    "print(len(original_df.index))\n",
    "tmp_df = pd.DataFrame()\n",
    "\n",
    "original_df_up   = pd.DataFrame()\n",
    "original_df_down = pd.DataFrame()"
   ]
  },
  {
   "cell_type": "code",
   "execution_count": 55,
   "metadata": {
    "pycharm": {
     "name": "#%%\n"
    }
   },
   "outputs": [
    {
     "name": "stdout",
     "output_type": "stream",
     "text": [
      "Increment = 0.01\n",
      "264\n",
      "20\n",
      "74\n",
      "Increment = 0.2\n",
      "345\n",
      "6\n",
      "7\n",
      "Increment = 0.3\n",
      "353\n",
      "5\n",
      "0\n",
      "Increment = 0.4\n",
      "356\n",
      "2\n",
      "0\n"
     ]
    }
   ],
   "source": [
    "list_of_columns_up   = ['item_code','last_date','last_price','price_up','PE','PE_err','View_PE','View_PE_err','Delta_price','pc2','avg_conv_rate','avg_unique_views','avg_unique_views_up','Margin_base','Margin_up','Group_flag']\n",
    "list_of_columns_down = ['item_code','last_date','last_price','price_down','PE','PE_err','View_PE','View_PE_err','Delta_price','pc2','avg_conv_rate','avg_unique_views','avg_unique_views_down','Margin_base','Margin_down','Group_flag']\n",
    "create_auxiliary_var(original_df)\n",
    "for inc in [0.01,0.2,0.3,0.4]:#,0.3,0.4,0.5]: #np.linspace(0.01,0.1,10):\n",
    "    print('Increment = ' + str(inc))\n",
    "    if inc == 0.01:\n",
    "        create_Margin(inc,original_df,'up')\n",
    "        create_Margin(inc,original_df,'down')\n",
    "        classify(original_df)\n",
    "        tmp_df           = tmp_df.append(original_df[original_df['Group_flag'] == 'neutral'])\n",
    "        original_df_up   = original_df_up.append(original_df[original_df['Group_flag'] == 'up'])\n",
    "        original_df_up   = original_df_up[list_of_columns_up]\n",
    "        original_df_down = original_df_down.append(original_df[original_df['Group_flag'] == 'down'])\n",
    "        original_df_down   = original_df_down[list_of_columns_down]\n",
    "        #print('tmp\\n',tmp_df[list_of_columns].head())\n",
    "        #print('up\\n', original_df_up[list_of_columns].head())\n",
    "        #print('down\\n',original_df_down[list_of_columns].head())\n",
    "\n",
    "    if inc > 0.01:\n",
    "        create_Margin(inc,original_df_up,'up')\n",
    "        create_Margin(inc,original_df_down,'down')\n",
    "        classify_up(original_df_up)\n",
    "        classify_down(original_df_down)\n",
    "        tmp_df           = tmp_df.append(original_df_up[original_df_up['Group_flag'] == 'neutral_up'])\n",
    "        tmp_df           = tmp_df.append(original_df_down[original_df_down['Group_flag'] == 'neutral_down'])\n",
    "        original_df_up   = original_df_up[original_df_up['Group_flag'] == 'up']\n",
    "        original_df_down = original_df_down[original_df_down['Group_flag'] == 'down']\n",
    "        #print('tmp\\n',tmp_df[list_of_columns].head())\n",
    "        #print('up\\n', original_df_up[list_of_columns].head())\n",
    "        #print('down\\n',original_df_down[list_of_columns].head())\n",
    "    original_df_down['Margin_base']   = original_df_down['Margin_down']\n",
    "    original_df_up['Margin_base']   = original_df_up['Margin_up']\n",
    "\n",
    "    print(len(tmp_df.index))\n",
    "    print(len(original_df_up.index))\n",
    "    print(len(original_df_down.index))"
   ]
  },
  {
   "cell_type": "code",
   "execution_count": 56,
   "outputs": [
    {
     "data": {
      "text/plain": "      item_code  avg_conv_rate  last_price   last_date  avg_unique_views  \\\n0    1000005727       0.017079       99.99  2021-02-25        170.099034   \n2    1000175476       0.055748       83.99  2021-02-25         80.722222   \n3    1000176734       0.007736      159.99  2021-02-08        100.555556   \n4    1000194074       0.024822       77.99  2021-02-25         97.437774   \n5    1000008470       0.020172       89.99  2021-02-13        189.558824   \n..          ...            ...         ...         ...               ...   \n269  1000164539       0.018660      104.99  2021-02-20         81.500000   \n295  1000117126       0.021216       99.99  2021-02-22         68.712974   \n36   1000123835       0.011498      269.99  2021-02-13        103.812931   \n242  1000010998       0.007613      269.99  2021-02-16        101.884821   \n307  1000080472       0.094006       49.99  2021-02-09         65.634055   \n\n         PE  PE_err has_enough_stat      pc2     item_skey  ...  \\\n0   -1.5183  0.4891            True   40.729  7.148819e+13  ...   \n2   -2.0583  0.2891            True   48.799  1.152606e+14  ...   \n3   -1.7633  0.5678            True   54.119  3.825599e+13  ...   \n4   -1.5244  0.4274            True   43.439  2.425229e+14  ...   \n5   -2.9257  0.9689            True   48.500  6.600352e+13  ...   \n..      ...     ...             ...      ...           ...  ...   \n269 -2.8948  0.5939             NaN   32.539           NaN  ...   \n295 -1.9683  0.2992             NaN   29.359           NaN  ...   \n36  -0.8812  0.0897             NaN  107.620           NaN  ...   \n242 -0.8785  0.1155             NaN  123.260           NaN  ...   \n307 -0.5717  0.1245             NaN   27.579           NaN  ...   \n\n     Margin_err_up  price_down  Delta_price_down  conv_rate_down  \\\n0         0.700036   98.995083         42.460145        0.017340   \n2         0.324119   83.154286         21.078551        0.056907   \n3         0.398081  158.398073         78.988624        0.007873   \n4         0.262566   77.213987         21.446703        0.025203   \n5         1.057330   89.094585         26.369399        0.020771   \n..             ...         ...               ...             ...   \n269            NaN   77.778505         32.821088        0.044471   \n295            NaN   74.074414         32.888407        0.038291   \n36       13.789975         NaN               NaN             NaN   \n242       9.423496         NaN               NaN             NaN   \n307      16.701145         NaN               NaN             NaN   \n\n     conv_rate_err_down  avg_unique_views_down  avg_unique_views_err_down  \\\n0              0.000085             171.783304                   0.467594   \n2              0.000165              81.127087                   0.126639   \n3              0.000045             101.820389                   0.313098   \n4              0.000108              98.323096                   0.233124   \n5              0.000201             194.760070                   0.784104   \n..                  ...                    ...                        ...   \n269            0.007923             128.667688                  10.653685   \n295            0.003437             108.685461                   7.574290   \n36                  NaN                    NaN                        NaN   \n242                 NaN                    NaN                        NaN   \n307                 NaN                    NaN                        NaN   \n\n     Margin_down  Margin_err_down    Group_flag  \n0     126.479698         0.707961       neutral  \n2      97.313460         0.319725       neutral  \n3      63.323195         0.408890       neutral  \n4      53.146711         0.259760       neutral  \n5     106.671466         1.119214       neutral  \n..           ...              ...           ...  \n269   187.803159        36.897652  neutral_down  \n295   136.872279        15.553867  neutral_down  \n36           NaN              NaN    neutral_up  \n242          NaN              NaN    neutral_up  \n307          NaN              NaN    neutral_up  \n\n[356 rows x 31 columns]",
      "text/html": "<div>\n<style scoped>\n    .dataframe tbody tr th:only-of-type {\n        vertical-align: middle;\n    }\n\n    .dataframe tbody tr th {\n        vertical-align: top;\n    }\n\n    .dataframe thead th {\n        text-align: right;\n    }\n</style>\n<table border=\"1\" class=\"dataframe\">\n  <thead>\n    <tr style=\"text-align: right;\">\n      <th></th>\n      <th>item_code</th>\n      <th>avg_conv_rate</th>\n      <th>last_price</th>\n      <th>last_date</th>\n      <th>avg_unique_views</th>\n      <th>PE</th>\n      <th>PE_err</th>\n      <th>has_enough_stat</th>\n      <th>pc2</th>\n      <th>item_skey</th>\n      <th>...</th>\n      <th>Margin_err_up</th>\n      <th>price_down</th>\n      <th>Delta_price_down</th>\n      <th>conv_rate_down</th>\n      <th>conv_rate_err_down</th>\n      <th>avg_unique_views_down</th>\n      <th>avg_unique_views_err_down</th>\n      <th>Margin_down</th>\n      <th>Margin_err_down</th>\n      <th>Group_flag</th>\n    </tr>\n  </thead>\n  <tbody>\n    <tr>\n      <th>0</th>\n      <td>1000005727</td>\n      <td>0.017079</td>\n      <td>99.99</td>\n      <td>2021-02-25</td>\n      <td>170.099034</td>\n      <td>-1.5183</td>\n      <td>0.4891</td>\n      <td>True</td>\n      <td>40.729</td>\n      <td>7.148819e+13</td>\n      <td>...</td>\n      <td>0.700036</td>\n      <td>98.995083</td>\n      <td>42.460145</td>\n      <td>0.017340</td>\n      <td>0.000085</td>\n      <td>171.783304</td>\n      <td>0.467594</td>\n      <td>126.479698</td>\n      <td>0.707961</td>\n      <td>neutral</td>\n    </tr>\n    <tr>\n      <th>2</th>\n      <td>1000175476</td>\n      <td>0.055748</td>\n      <td>83.99</td>\n      <td>2021-02-25</td>\n      <td>80.722222</td>\n      <td>-2.0583</td>\n      <td>0.2891</td>\n      <td>True</td>\n      <td>48.799</td>\n      <td>1.152606e+14</td>\n      <td>...</td>\n      <td>0.324119</td>\n      <td>83.154286</td>\n      <td>21.078551</td>\n      <td>0.056907</td>\n      <td>0.000165</td>\n      <td>81.127087</td>\n      <td>0.126639</td>\n      <td>97.313460</td>\n      <td>0.319725</td>\n      <td>neutral</td>\n    </tr>\n    <tr>\n      <th>3</th>\n      <td>1000176734</td>\n      <td>0.007736</td>\n      <td>159.99</td>\n      <td>2021-02-08</td>\n      <td>100.555556</td>\n      <td>-1.7633</td>\n      <td>0.5678</td>\n      <td>True</td>\n      <td>54.119</td>\n      <td>3.825599e+13</td>\n      <td>...</td>\n      <td>0.398081</td>\n      <td>158.398073</td>\n      <td>78.988624</td>\n      <td>0.007873</td>\n      <td>0.000045</td>\n      <td>101.820389</td>\n      <td>0.313098</td>\n      <td>63.323195</td>\n      <td>0.408890</td>\n      <td>neutral</td>\n    </tr>\n    <tr>\n      <th>4</th>\n      <td>1000194074</td>\n      <td>0.024822</td>\n      <td>77.99</td>\n      <td>2021-02-25</td>\n      <td>97.437774</td>\n      <td>-1.5244</td>\n      <td>0.4274</td>\n      <td>True</td>\n      <td>43.439</td>\n      <td>2.425229e+14</td>\n      <td>...</td>\n      <td>0.262566</td>\n      <td>77.213987</td>\n      <td>21.446703</td>\n      <td>0.025203</td>\n      <td>0.000108</td>\n      <td>98.323096</td>\n      <td>0.233124</td>\n      <td>53.146711</td>\n      <td>0.259760</td>\n      <td>neutral</td>\n    </tr>\n    <tr>\n      <th>5</th>\n      <td>1000008470</td>\n      <td>0.020172</td>\n      <td>89.99</td>\n      <td>2021-02-13</td>\n      <td>189.558824</td>\n      <td>-2.9257</td>\n      <td>0.9689</td>\n      <td>True</td>\n      <td>48.500</td>\n      <td>6.600352e+13</td>\n      <td>...</td>\n      <td>1.057330</td>\n      <td>89.094585</td>\n      <td>26.369399</td>\n      <td>0.020771</td>\n      <td>0.000201</td>\n      <td>194.760070</td>\n      <td>0.784104</td>\n      <td>106.671466</td>\n      <td>1.119214</td>\n      <td>neutral</td>\n    </tr>\n    <tr>\n      <th>...</th>\n      <td>...</td>\n      <td>...</td>\n      <td>...</td>\n      <td>...</td>\n      <td>...</td>\n      <td>...</td>\n      <td>...</td>\n      <td>...</td>\n      <td>...</td>\n      <td>...</td>\n      <td>...</td>\n      <td>...</td>\n      <td>...</td>\n      <td>...</td>\n      <td>...</td>\n      <td>...</td>\n      <td>...</td>\n      <td>...</td>\n      <td>...</td>\n      <td>...</td>\n      <td>...</td>\n    </tr>\n    <tr>\n      <th>269</th>\n      <td>1000164539</td>\n      <td>0.018660</td>\n      <td>104.99</td>\n      <td>2021-02-20</td>\n      <td>81.500000</td>\n      <td>-2.8948</td>\n      <td>0.5939</td>\n      <td>NaN</td>\n      <td>32.539</td>\n      <td>NaN</td>\n      <td>...</td>\n      <td>NaN</td>\n      <td>77.778505</td>\n      <td>32.821088</td>\n      <td>0.044471</td>\n      <td>0.007923</td>\n      <td>128.667688</td>\n      <td>10.653685</td>\n      <td>187.803159</td>\n      <td>36.897652</td>\n      <td>neutral_down</td>\n    </tr>\n    <tr>\n      <th>295</th>\n      <td>1000117126</td>\n      <td>0.021216</td>\n      <td>99.99</td>\n      <td>2021-02-22</td>\n      <td>68.712974</td>\n      <td>-1.9683</td>\n      <td>0.2992</td>\n      <td>NaN</td>\n      <td>29.359</td>\n      <td>NaN</td>\n      <td>...</td>\n      <td>NaN</td>\n      <td>74.074414</td>\n      <td>32.888407</td>\n      <td>0.038291</td>\n      <td>0.003437</td>\n      <td>108.685461</td>\n      <td>7.574290</td>\n      <td>136.872279</td>\n      <td>15.553867</td>\n      <td>neutral_down</td>\n    </tr>\n    <tr>\n      <th>36</th>\n      <td>1000123835</td>\n      <td>0.011498</td>\n      <td>269.99</td>\n      <td>2021-02-13</td>\n      <td>103.812931</td>\n      <td>-0.8812</td>\n      <td>0.0897</td>\n      <td>NaN</td>\n      <td>107.620</td>\n      <td>NaN</td>\n      <td>...</td>\n      <td>13.789975</td>\n      <td>NaN</td>\n      <td>NaN</td>\n      <td>NaN</td>\n      <td>NaN</td>\n      <td>NaN</td>\n      <td>NaN</td>\n      <td>NaN</td>\n      <td>NaN</td>\n      <td>neutral_up</td>\n    </tr>\n    <tr>\n      <th>242</th>\n      <td>1000010998</td>\n      <td>0.007613</td>\n      <td>269.99</td>\n      <td>2021-02-16</td>\n      <td>101.884821</td>\n      <td>-0.8785</td>\n      <td>0.1155</td>\n      <td>NaN</td>\n      <td>123.260</td>\n      <td>NaN</td>\n      <td>...</td>\n      <td>9.423496</td>\n      <td>NaN</td>\n      <td>NaN</td>\n      <td>NaN</td>\n      <td>NaN</td>\n      <td>NaN</td>\n      <td>NaN</td>\n      <td>NaN</td>\n      <td>NaN</td>\n      <td>neutral_up</td>\n    </tr>\n    <tr>\n      <th>307</th>\n      <td>1000080472</td>\n      <td>0.094006</td>\n      <td>49.99</td>\n      <td>2021-02-09</td>\n      <td>65.634055</td>\n      <td>-0.5717</td>\n      <td>0.1245</td>\n      <td>NaN</td>\n      <td>27.579</td>\n      <td>NaN</td>\n      <td>...</td>\n      <td>16.701145</td>\n      <td>NaN</td>\n      <td>NaN</td>\n      <td>NaN</td>\n      <td>NaN</td>\n      <td>NaN</td>\n      <td>NaN</td>\n      <td>NaN</td>\n      <td>NaN</td>\n      <td>neutral_up</td>\n    </tr>\n  </tbody>\n</table>\n<p>356 rows × 31 columns</p>\n</div>"
     },
     "execution_count": 56,
     "metadata": {},
     "output_type": "execute_result"
    }
   ],
   "source": [
    "\n",
    "tmp_df\n",
    "#print(or_filt_df[or_filt_df['Group_flag'] =='down'])\n",
    "#print(or_filt_df[or_filt_df['Group_flag'] =='up'])\n",
    "#print(or_filt_df[or_filt_df['Group_flag'] =='neutral'])"
   ],
   "metadata": {
    "collapsed": false,
    "pycharm": {
     "name": "#%%\n"
    }
   }
  },
  {
   "cell_type": "code",
   "execution_count": 57,
   "outputs": [
    {
     "data": {
      "text/plain": "              avg_conv_rate  last_price  last_date  avg_unique_views   PE  \\\nGroup_flag                                                                  \nneutral                 264         264        264               264  264   \nneutral_down             74          74         74                74   74   \nneutral_up               18          18         18                18   18   \n\n              PE_err  has_enough_stat  pc2  item_skey  View_PE  ...  \\\nGroup_flag                                                      ...   \nneutral          264              264  264        264      264  ...   \nneutral_down      74                0   74          0       74  ...   \nneutral_up        18                0   18          0       18  ...   \n\n              Margin_up  Margin_err_up  price_down  Delta_price_down  \\\nGroup_flag                                                             \nneutral             264            264         264               264   \nneutral_down          0              0          74                74   \nneutral_up           18             18           0                 0   \n\n              conv_rate_down  conv_rate_err_down  avg_unique_views_down  \\\nGroup_flag                                                                \nneutral                  264                 264                    264   \nneutral_down              74                  74                     74   \nneutral_up                 0                   0                      0   \n\n              avg_unique_views_err_down  Margin_down  Margin_err_down  \nGroup_flag                                                             \nneutral                             264          264              264  \nneutral_down                         74           74               74  \nneutral_up                            0            0                0  \n\n[3 rows x 29 columns]",
      "text/html": "<div>\n<style scoped>\n    .dataframe tbody tr th:only-of-type {\n        vertical-align: middle;\n    }\n\n    .dataframe tbody tr th {\n        vertical-align: top;\n    }\n\n    .dataframe thead th {\n        text-align: right;\n    }\n</style>\n<table border=\"1\" class=\"dataframe\">\n  <thead>\n    <tr style=\"text-align: right;\">\n      <th></th>\n      <th>avg_conv_rate</th>\n      <th>last_price</th>\n      <th>last_date</th>\n      <th>avg_unique_views</th>\n      <th>PE</th>\n      <th>PE_err</th>\n      <th>has_enough_stat</th>\n      <th>pc2</th>\n      <th>item_skey</th>\n      <th>View_PE</th>\n      <th>...</th>\n      <th>Margin_up</th>\n      <th>Margin_err_up</th>\n      <th>price_down</th>\n      <th>Delta_price_down</th>\n      <th>conv_rate_down</th>\n      <th>conv_rate_err_down</th>\n      <th>avg_unique_views_down</th>\n      <th>avg_unique_views_err_down</th>\n      <th>Margin_down</th>\n      <th>Margin_err_down</th>\n    </tr>\n    <tr>\n      <th>Group_flag</th>\n      <th></th>\n      <th></th>\n      <th></th>\n      <th></th>\n      <th></th>\n      <th></th>\n      <th></th>\n      <th></th>\n      <th></th>\n      <th></th>\n      <th></th>\n      <th></th>\n      <th></th>\n      <th></th>\n      <th></th>\n      <th></th>\n      <th></th>\n      <th></th>\n      <th></th>\n      <th></th>\n      <th></th>\n    </tr>\n  </thead>\n  <tbody>\n    <tr>\n      <th>neutral</th>\n      <td>264</td>\n      <td>264</td>\n      <td>264</td>\n      <td>264</td>\n      <td>264</td>\n      <td>264</td>\n      <td>264</td>\n      <td>264</td>\n      <td>264</td>\n      <td>264</td>\n      <td>...</td>\n      <td>264</td>\n      <td>264</td>\n      <td>264</td>\n      <td>264</td>\n      <td>264</td>\n      <td>264</td>\n      <td>264</td>\n      <td>264</td>\n      <td>264</td>\n      <td>264</td>\n    </tr>\n    <tr>\n      <th>neutral_down</th>\n      <td>74</td>\n      <td>74</td>\n      <td>74</td>\n      <td>74</td>\n      <td>74</td>\n      <td>74</td>\n      <td>0</td>\n      <td>74</td>\n      <td>0</td>\n      <td>74</td>\n      <td>...</td>\n      <td>0</td>\n      <td>0</td>\n      <td>74</td>\n      <td>74</td>\n      <td>74</td>\n      <td>74</td>\n      <td>74</td>\n      <td>74</td>\n      <td>74</td>\n      <td>74</td>\n    </tr>\n    <tr>\n      <th>neutral_up</th>\n      <td>18</td>\n      <td>18</td>\n      <td>18</td>\n      <td>18</td>\n      <td>18</td>\n      <td>18</td>\n      <td>0</td>\n      <td>18</td>\n      <td>0</td>\n      <td>18</td>\n      <td>...</td>\n      <td>18</td>\n      <td>18</td>\n      <td>0</td>\n      <td>0</td>\n      <td>0</td>\n      <td>0</td>\n      <td>0</td>\n      <td>0</td>\n      <td>0</td>\n      <td>0</td>\n    </tr>\n  </tbody>\n</table>\n<p>3 rows × 29 columns</p>\n</div>"
     },
     "execution_count": 57,
     "metadata": {},
     "output_type": "execute_result"
    }
   ],
   "source": [
    "tmp_df.set_index(['Group_flag','item_code']).count(level='Group_flag')\n",
    "#554 neutral, 4 down ,440 up"
   ],
   "metadata": {
    "collapsed": false,
    "pycharm": {
     "name": "#%%\n"
    }
   }
  },
  {
   "cell_type": "code",
   "execution_count": 58,
   "outputs": [
    {
     "data": {
      "text/plain": "    item_code  avg_conv_rate  last_price   last_date  avg_unique_views  \\\n0  1000005727       0.017079       99.99  2021-02-25        170.099034   \n2  1000175476       0.055748       83.99  2021-02-25         80.722222   \n3  1000176734       0.007736      159.99  2021-02-08        100.555556   \n4  1000194074       0.024822       77.99  2021-02-25         97.437774   \n5  1000008470       0.020172       89.99  2021-02-13        189.558824   \n\n       PE  PE_err has_enough_stat     pc2     item_skey  ...  Margin_err_up  \\\n0 -1.5183  0.4891            True  40.729  7.148819e+13  ...       0.700036   \n2 -2.0583  0.2891            True  48.799  1.152606e+14  ...       0.324119   \n3 -1.7633  0.5678            True  54.119  3.825599e+13  ...       0.398081   \n4 -1.5244  0.4274            True  43.439  2.425229e+14  ...       0.262566   \n5 -2.9257  0.9689            True  48.500  6.600352e+13  ...       1.057330   \n\n   price_down  Delta_price_down  conv_rate_down  conv_rate_err_down  \\\n0   98.995083         42.460145        0.017340            0.000085   \n2   83.154286         21.078551        0.056907            0.000165   \n3  158.398073         78.988624        0.007873            0.000045   \n4   77.213987         21.446703        0.025203            0.000108   \n5   89.094585         26.369399        0.020771            0.000201   \n\n   avg_unique_views_down  avg_unique_views_err_down  Margin_down  \\\n0             171.783304                   0.467594   126.479698   \n2              81.127087                   0.126639    97.313460   \n3             101.820389                   0.313098    63.323195   \n4              98.323096                   0.233124    53.146711   \n5             194.760070                   0.784104   106.671466   \n\n   Margin_err_down  Group_flag  \n0         0.707961     neutral  \n2         0.319725     neutral  \n3         0.408890     neutral  \n4         0.259760     neutral  \n5         1.119214     neutral  \n\n[5 rows x 31 columns]",
      "text/html": "<div>\n<style scoped>\n    .dataframe tbody tr th:only-of-type {\n        vertical-align: middle;\n    }\n\n    .dataframe tbody tr th {\n        vertical-align: top;\n    }\n\n    .dataframe thead th {\n        text-align: right;\n    }\n</style>\n<table border=\"1\" class=\"dataframe\">\n  <thead>\n    <tr style=\"text-align: right;\">\n      <th></th>\n      <th>item_code</th>\n      <th>avg_conv_rate</th>\n      <th>last_price</th>\n      <th>last_date</th>\n      <th>avg_unique_views</th>\n      <th>PE</th>\n      <th>PE_err</th>\n      <th>has_enough_stat</th>\n      <th>pc2</th>\n      <th>item_skey</th>\n      <th>...</th>\n      <th>Margin_err_up</th>\n      <th>price_down</th>\n      <th>Delta_price_down</th>\n      <th>conv_rate_down</th>\n      <th>conv_rate_err_down</th>\n      <th>avg_unique_views_down</th>\n      <th>avg_unique_views_err_down</th>\n      <th>Margin_down</th>\n      <th>Margin_err_down</th>\n      <th>Group_flag</th>\n    </tr>\n  </thead>\n  <tbody>\n    <tr>\n      <th>0</th>\n      <td>1000005727</td>\n      <td>0.017079</td>\n      <td>99.99</td>\n      <td>2021-02-25</td>\n      <td>170.099034</td>\n      <td>-1.5183</td>\n      <td>0.4891</td>\n      <td>True</td>\n      <td>40.729</td>\n      <td>7.148819e+13</td>\n      <td>...</td>\n      <td>0.700036</td>\n      <td>98.995083</td>\n      <td>42.460145</td>\n      <td>0.017340</td>\n      <td>0.000085</td>\n      <td>171.783304</td>\n      <td>0.467594</td>\n      <td>126.479698</td>\n      <td>0.707961</td>\n      <td>neutral</td>\n    </tr>\n    <tr>\n      <th>2</th>\n      <td>1000175476</td>\n      <td>0.055748</td>\n      <td>83.99</td>\n      <td>2021-02-25</td>\n      <td>80.722222</td>\n      <td>-2.0583</td>\n      <td>0.2891</td>\n      <td>True</td>\n      <td>48.799</td>\n      <td>1.152606e+14</td>\n      <td>...</td>\n      <td>0.324119</td>\n      <td>83.154286</td>\n      <td>21.078551</td>\n      <td>0.056907</td>\n      <td>0.000165</td>\n      <td>81.127087</td>\n      <td>0.126639</td>\n      <td>97.313460</td>\n      <td>0.319725</td>\n      <td>neutral</td>\n    </tr>\n    <tr>\n      <th>3</th>\n      <td>1000176734</td>\n      <td>0.007736</td>\n      <td>159.99</td>\n      <td>2021-02-08</td>\n      <td>100.555556</td>\n      <td>-1.7633</td>\n      <td>0.5678</td>\n      <td>True</td>\n      <td>54.119</td>\n      <td>3.825599e+13</td>\n      <td>...</td>\n      <td>0.398081</td>\n      <td>158.398073</td>\n      <td>78.988624</td>\n      <td>0.007873</td>\n      <td>0.000045</td>\n      <td>101.820389</td>\n      <td>0.313098</td>\n      <td>63.323195</td>\n      <td>0.408890</td>\n      <td>neutral</td>\n    </tr>\n    <tr>\n      <th>4</th>\n      <td>1000194074</td>\n      <td>0.024822</td>\n      <td>77.99</td>\n      <td>2021-02-25</td>\n      <td>97.437774</td>\n      <td>-1.5244</td>\n      <td>0.4274</td>\n      <td>True</td>\n      <td>43.439</td>\n      <td>2.425229e+14</td>\n      <td>...</td>\n      <td>0.262566</td>\n      <td>77.213987</td>\n      <td>21.446703</td>\n      <td>0.025203</td>\n      <td>0.000108</td>\n      <td>98.323096</td>\n      <td>0.233124</td>\n      <td>53.146711</td>\n      <td>0.259760</td>\n      <td>neutral</td>\n    </tr>\n    <tr>\n      <th>5</th>\n      <td>1000008470</td>\n      <td>0.020172</td>\n      <td>89.99</td>\n      <td>2021-02-13</td>\n      <td>189.558824</td>\n      <td>-2.9257</td>\n      <td>0.9689</td>\n      <td>True</td>\n      <td>48.500</td>\n      <td>6.600352e+13</td>\n      <td>...</td>\n      <td>1.057330</td>\n      <td>89.094585</td>\n      <td>26.369399</td>\n      <td>0.020771</td>\n      <td>0.000201</td>\n      <td>194.760070</td>\n      <td>0.784104</td>\n      <td>106.671466</td>\n      <td>1.119214</td>\n      <td>neutral</td>\n    </tr>\n  </tbody>\n</table>\n<p>5 rows × 31 columns</p>\n</div>"
     },
     "execution_count": 58,
     "metadata": {},
     "output_type": "execute_result"
    }
   ],
   "source": [
    "tmp_df['Margin_base'] = df_merged['Margin_base']\n",
    "tmp_df.head()\n",
    "#df_final_spark.head(400)\n"
   ],
   "metadata": {
    "collapsed": false,
    "pycharm": {
     "name": "#%%\n"
    }
   }
  },
  {
   "cell_type": "code",
   "execution_count": 59,
   "outputs": [],
   "source": [
    "#tmp_df[['item_code','avg_conv_rate','last_price','PE','PE_err','has_enough_stat','pc2','price_up','price_down','Margin_base','Margin_up','Margin_err_up','Margin_down','Margin_err_down','Group_flag']].head(400)\n"
   ],
   "metadata": {
    "collapsed": false,
    "pycharm": {
     "name": "#%%\n"
    }
   }
  },
  {
   "cell_type": "code",
   "execution_count": 60,
   "outputs": [],
   "source": [
    "tmp_df = tmp_df.sort_index()"
   ],
   "metadata": {
    "collapsed": false,
    "pycharm": {
     "name": "#%%\n"
    }
   }
  },
  {
   "cell_type": "code",
   "execution_count": 61,
   "outputs": [],
   "source": [
    "tmp_df['Margin_rate_to_base'] = np.where(tmp_df['Group_flag'] == 'neutral', 0.,np.where(tmp_df['Group_flag'] == 'neutral_up', np.log(tmp_df['Margin_up']/tmp_df['Margin_base']),np.log(tmp_df['Margin_down']/tmp_df['Margin_base'])))\n",
    "#tmp_df['Margin_rate_to_last'] = np.log(tmp_df['Margin_down']/tmp_df['Margin_last'])"
   ],
   "metadata": {
    "collapsed": false,
    "pycharm": {
     "name": "#%%\n"
    }
   }
  },
  {
   "cell_type": "code",
   "execution_count": 62,
   "outputs": [],
   "source": [
    "list_of_columns_down.append('Margin_err_down')"
   ],
   "metadata": {
    "collapsed": false,
    "pycharm": {
     "name": "#%%\n"
    }
   }
  },
  {
   "cell_type": "code",
   "execution_count": 63,
   "outputs": [],
   "source": [
    "list_of_columns_up.append('Margin_err_up')"
   ],
   "metadata": {
    "collapsed": false,
    "pycharm": {
     "name": "#%%\n"
    }
   }
  },
  {
   "cell_type": "code",
   "execution_count": 64,
   "outputs": [
    {
     "data": {
      "text/plain": "      item_code   last_date  last_price  price_down      PE  PE_err  View_PE  \\\n0    1000005727  2021-02-25       99.99   98.995083 -1.5183  0.4891  -0.9853   \n1    1000016028  2021-02-25      139.99  114.614118 -2.3105  0.5174  -1.6602   \n2    1000175476  2021-02-25       83.99   83.154286 -2.0583  0.2891  -0.5003   \n3    1000176734  2021-02-08      159.99  158.398073 -1.7633  0.5678  -1.2500   \n4    1000194074  2021-02-25       77.99   77.213987 -1.5244  0.4274  -0.9045   \n..          ...         ...         ...         ...     ...     ...      ...   \n353  1000196399  2021-02-25       84.99   84.144335 -2.9264  0.5390  -1.2779   \n354  1000194221  2021-01-08      159.99         NaN -1.5819  0.3958  -0.9023   \n355  1000109909  2021-02-25      239.99  237.602060 -1.8804  0.3834  -0.9106   \n356  1000123847  2021-02-12      149.99  122.801426 -3.5520  0.9811  -1.3020   \n357  1000167292  2021-02-25      104.99  103.945332 -1.9511  0.4673  -1.0641   \n\n     View_PE_err  Delta_price      pc2  avg_conv_rate  avg_unique_views  \\\n0         0.2722    43.296210   40.729       0.017079        170.099034   \n1         0.2891    65.208655   52.430       0.016290         26.446154   \n2         0.1561    21.780832   48.799       0.055748         80.722222   \n3         0.3075    80.326378   54.119       0.007736        100.555556   \n4         0.2371    22.098815   43.439       0.024822         97.437774   \n..           ...          ...      ...            ...               ...   \n353       0.3463    14.710168   56.710       0.032453         67.459459   \n354       0.2801    31.096378  103.349       0.025424         40.125730   \n355       0.1694   125.582269   76.090       0.012308         55.833333   \n356       0.2721    77.652017   48.390       0.011562         80.744322   \n357       0.2821    54.386891   33.840       0.008982         65.092308   \n\n     avg_unique_views_down  Margin_base  Margin_down    Group_flag  \\\n0               171.783304   125.781343   126.479698       neutral   \n1                36.860877    28.091607    41.828469  neutral_down   \n2                81.127087    98.015502    97.313460       neutral   \n3               101.820389    62.484149    63.323195       neutral   \n4                98.323096    53.448592    53.146711       neutral   \n..                     ...          ...          ...           ...   \n353              68.327056    32.204333    31.964583       neutral   \n354                    NaN    31.723225          NaN    neutral_up   \n355              56.344074    86.302682    87.327262       neutral   \n356             104.761636    72.495808   135.079443  neutral_down   \n357              65.788653    31.798953    32.243370       neutral   \n\n     Margin_err_down  \n0           0.707961  \n1           4.958264  \n2           0.319725  \n3           0.408890  \n4           0.259760  \n..               ...  \n353         0.204784  \n354              NaN  \n355         0.366038  \n356        27.505779  \n357         0.176000  \n\n[356 rows x 17 columns]",
      "text/html": "<div>\n<style scoped>\n    .dataframe tbody tr th:only-of-type {\n        vertical-align: middle;\n    }\n\n    .dataframe tbody tr th {\n        vertical-align: top;\n    }\n\n    .dataframe thead th {\n        text-align: right;\n    }\n</style>\n<table border=\"1\" class=\"dataframe\">\n  <thead>\n    <tr style=\"text-align: right;\">\n      <th></th>\n      <th>item_code</th>\n      <th>last_date</th>\n      <th>last_price</th>\n      <th>price_down</th>\n      <th>PE</th>\n      <th>PE_err</th>\n      <th>View_PE</th>\n      <th>View_PE_err</th>\n      <th>Delta_price</th>\n      <th>pc2</th>\n      <th>avg_conv_rate</th>\n      <th>avg_unique_views</th>\n      <th>avg_unique_views_down</th>\n      <th>Margin_base</th>\n      <th>Margin_down</th>\n      <th>Group_flag</th>\n      <th>Margin_err_down</th>\n    </tr>\n  </thead>\n  <tbody>\n    <tr>\n      <th>0</th>\n      <td>1000005727</td>\n      <td>2021-02-25</td>\n      <td>99.99</td>\n      <td>98.995083</td>\n      <td>-1.5183</td>\n      <td>0.4891</td>\n      <td>-0.9853</td>\n      <td>0.2722</td>\n      <td>43.296210</td>\n      <td>40.729</td>\n      <td>0.017079</td>\n      <td>170.099034</td>\n      <td>171.783304</td>\n      <td>125.781343</td>\n      <td>126.479698</td>\n      <td>neutral</td>\n      <td>0.707961</td>\n    </tr>\n    <tr>\n      <th>1</th>\n      <td>1000016028</td>\n      <td>2021-02-25</td>\n      <td>139.99</td>\n      <td>114.614118</td>\n      <td>-2.3105</td>\n      <td>0.5174</td>\n      <td>-1.6602</td>\n      <td>0.2891</td>\n      <td>65.208655</td>\n      <td>52.430</td>\n      <td>0.016290</td>\n      <td>26.446154</td>\n      <td>36.860877</td>\n      <td>28.091607</td>\n      <td>41.828469</td>\n      <td>neutral_down</td>\n      <td>4.958264</td>\n    </tr>\n    <tr>\n      <th>2</th>\n      <td>1000175476</td>\n      <td>2021-02-25</td>\n      <td>83.99</td>\n      <td>83.154286</td>\n      <td>-2.0583</td>\n      <td>0.2891</td>\n      <td>-0.5003</td>\n      <td>0.1561</td>\n      <td>21.780832</td>\n      <td>48.799</td>\n      <td>0.055748</td>\n      <td>80.722222</td>\n      <td>81.127087</td>\n      <td>98.015502</td>\n      <td>97.313460</td>\n      <td>neutral</td>\n      <td>0.319725</td>\n    </tr>\n    <tr>\n      <th>3</th>\n      <td>1000176734</td>\n      <td>2021-02-08</td>\n      <td>159.99</td>\n      <td>158.398073</td>\n      <td>-1.7633</td>\n      <td>0.5678</td>\n      <td>-1.2500</td>\n      <td>0.3075</td>\n      <td>80.326378</td>\n      <td>54.119</td>\n      <td>0.007736</td>\n      <td>100.555556</td>\n      <td>101.820389</td>\n      <td>62.484149</td>\n      <td>63.323195</td>\n      <td>neutral</td>\n      <td>0.408890</td>\n    </tr>\n    <tr>\n      <th>4</th>\n      <td>1000194074</td>\n      <td>2021-02-25</td>\n      <td>77.99</td>\n      <td>77.213987</td>\n      <td>-1.5244</td>\n      <td>0.4274</td>\n      <td>-0.9045</td>\n      <td>0.2371</td>\n      <td>22.098815</td>\n      <td>43.439</td>\n      <td>0.024822</td>\n      <td>97.437774</td>\n      <td>98.323096</td>\n      <td>53.448592</td>\n      <td>53.146711</td>\n      <td>neutral</td>\n      <td>0.259760</td>\n    </tr>\n    <tr>\n      <th>...</th>\n      <td>...</td>\n      <td>...</td>\n      <td>...</td>\n      <td>...</td>\n      <td>...</td>\n      <td>...</td>\n      <td>...</td>\n      <td>...</td>\n      <td>...</td>\n      <td>...</td>\n      <td>...</td>\n      <td>...</td>\n      <td>...</td>\n      <td>...</td>\n      <td>...</td>\n      <td>...</td>\n      <td>...</td>\n    </tr>\n    <tr>\n      <th>353</th>\n      <td>1000196399</td>\n      <td>2021-02-25</td>\n      <td>84.99</td>\n      <td>84.144335</td>\n      <td>-2.9264</td>\n      <td>0.5390</td>\n      <td>-1.2779</td>\n      <td>0.3463</td>\n      <td>14.710168</td>\n      <td>56.710</td>\n      <td>0.032453</td>\n      <td>67.459459</td>\n      <td>68.327056</td>\n      <td>32.204333</td>\n      <td>31.964583</td>\n      <td>neutral</td>\n      <td>0.204784</td>\n    </tr>\n    <tr>\n      <th>354</th>\n      <td>1000194221</td>\n      <td>2021-01-08</td>\n      <td>159.99</td>\n      <td>NaN</td>\n      <td>-1.5819</td>\n      <td>0.3958</td>\n      <td>-0.9023</td>\n      <td>0.2801</td>\n      <td>31.096378</td>\n      <td>103.349</td>\n      <td>0.025424</td>\n      <td>40.125730</td>\n      <td>NaN</td>\n      <td>31.723225</td>\n      <td>NaN</td>\n      <td>neutral_up</td>\n      <td>NaN</td>\n    </tr>\n    <tr>\n      <th>355</th>\n      <td>1000109909</td>\n      <td>2021-02-25</td>\n      <td>239.99</td>\n      <td>237.602060</td>\n      <td>-1.8804</td>\n      <td>0.3834</td>\n      <td>-0.9106</td>\n      <td>0.1694</td>\n      <td>125.582269</td>\n      <td>76.090</td>\n      <td>0.012308</td>\n      <td>55.833333</td>\n      <td>56.344074</td>\n      <td>86.302682</td>\n      <td>87.327262</td>\n      <td>neutral</td>\n      <td>0.366038</td>\n    </tr>\n    <tr>\n      <th>356</th>\n      <td>1000123847</td>\n      <td>2021-02-12</td>\n      <td>149.99</td>\n      <td>122.801426</td>\n      <td>-3.5520</td>\n      <td>0.9811</td>\n      <td>-1.3020</td>\n      <td>0.2721</td>\n      <td>77.652017</td>\n      <td>48.390</td>\n      <td>0.011562</td>\n      <td>80.744322</td>\n      <td>104.761636</td>\n      <td>72.495808</td>\n      <td>135.079443</td>\n      <td>neutral_down</td>\n      <td>27.505779</td>\n    </tr>\n    <tr>\n      <th>357</th>\n      <td>1000167292</td>\n      <td>2021-02-25</td>\n      <td>104.99</td>\n      <td>103.945332</td>\n      <td>-1.9511</td>\n      <td>0.4673</td>\n      <td>-1.0641</td>\n      <td>0.2821</td>\n      <td>54.386891</td>\n      <td>33.840</td>\n      <td>0.008982</td>\n      <td>65.092308</td>\n      <td>65.788653</td>\n      <td>31.798953</td>\n      <td>32.243370</td>\n      <td>neutral</td>\n      <td>0.176000</td>\n    </tr>\n  </tbody>\n</table>\n<p>356 rows × 17 columns</p>\n</div>"
     },
     "execution_count": 64,
     "metadata": {},
     "output_type": "execute_result"
    }
   ],
   "source": [
    "tmp_df[list_of_columns_down]\n",
    "\n"
   ],
   "metadata": {
    "collapsed": false,
    "pycharm": {
     "name": "#%%\n"
    }
   }
  },
  {
   "cell_type": "code",
   "execution_count": 65,
   "outputs": [
    {
     "data": {
      "text/plain": "      item_code   last_date  last_price    price_up      PE  PE_err  View_PE  \\\n0    1000005727  2021-02-25       99.99  100.994916 -1.5183  0.4891  -0.9853   \n1    1000016028  2021-02-25      139.99         NaN -2.3105  0.5174  -1.6602   \n2    1000175476  2021-02-25       83.99   84.834114 -2.0583  0.2891  -0.5003   \n3    1000176734  2021-02-08      159.99  161.597926 -1.7633  0.5678  -1.2500   \n4    1000194074  2021-02-25       77.99   78.773813 -1.5244  0.4274  -0.9045   \n..          ...         ...         ...         ...     ...     ...      ...   \n353  1000196399  2021-02-25       84.99   85.844164 -2.9264  0.5390  -1.2779   \n354  1000194221  2021-01-08      159.99  195.412227 -1.5819  0.3958  -0.9023   \n355  1000109909  2021-02-25      239.99  242.401940 -1.8804  0.3834  -0.9106   \n356  1000123847  2021-02-12      149.99         NaN -3.5520  0.9811  -1.3020   \n357  1000167292  2021-02-25      104.99  106.045167 -1.9511  0.4673  -1.0641   \n\n     View_PE_err  Delta_price      pc2  avg_conv_rate  avg_unique_views  \\\n0         0.2722    43.296210   40.729       0.017079        170.099034   \n1         0.2891    65.208655   52.430       0.016290         26.446154   \n2         0.1561    21.780832   48.799       0.055748         80.722222   \n3         0.3075    80.326378   54.119       0.007736        100.555556   \n4         0.2371    22.098815   43.439       0.024822         97.437774   \n..           ...          ...      ...            ...               ...   \n353       0.3463    14.710168   56.710       0.032453         67.459459   \n354       0.2801    31.096378  103.349       0.025424         40.125730   \n355       0.1694   125.582269   76.090       0.012308         55.833333   \n356       0.2721    77.652017   48.390       0.011562         80.744322   \n357       0.2821    54.386891   33.840       0.008982         65.092308   \n\n     avg_unique_views_up  Margin_base   Margin_up    Group_flag  Margin_err_up  \n0             168.431278   125.781343  125.064008       neutral       0.700036  \n1                    NaN    28.091607         NaN  neutral_down            NaN  \n2              80.319378    98.015502   98.650935       neutral       0.324119  \n3              99.306434    62.484149   61.649268       neutral       0.398081  \n4              96.560423    53.448592   53.720852       neutral       0.262566  \n..                   ...          ...         ...           ...            ...  \n353            66.602880    32.204333   32.385151       neutral       0.207479  \n354            33.500413    31.723225   37.778585    neutral_up       3.663655  \n355            55.327223    86.302682   85.281825       neutral       0.357464  \n356                  NaN    72.495808         NaN  neutral_down            NaN  \n357            64.403333    31.798953   31.357497       neutral       0.171164  \n\n[356 rows x 17 columns]",
      "text/html": "<div>\n<style scoped>\n    .dataframe tbody tr th:only-of-type {\n        vertical-align: middle;\n    }\n\n    .dataframe tbody tr th {\n        vertical-align: top;\n    }\n\n    .dataframe thead th {\n        text-align: right;\n    }\n</style>\n<table border=\"1\" class=\"dataframe\">\n  <thead>\n    <tr style=\"text-align: right;\">\n      <th></th>\n      <th>item_code</th>\n      <th>last_date</th>\n      <th>last_price</th>\n      <th>price_up</th>\n      <th>PE</th>\n      <th>PE_err</th>\n      <th>View_PE</th>\n      <th>View_PE_err</th>\n      <th>Delta_price</th>\n      <th>pc2</th>\n      <th>avg_conv_rate</th>\n      <th>avg_unique_views</th>\n      <th>avg_unique_views_up</th>\n      <th>Margin_base</th>\n      <th>Margin_up</th>\n      <th>Group_flag</th>\n      <th>Margin_err_up</th>\n    </tr>\n  </thead>\n  <tbody>\n    <tr>\n      <th>0</th>\n      <td>1000005727</td>\n      <td>2021-02-25</td>\n      <td>99.99</td>\n      <td>100.994916</td>\n      <td>-1.5183</td>\n      <td>0.4891</td>\n      <td>-0.9853</td>\n      <td>0.2722</td>\n      <td>43.296210</td>\n      <td>40.729</td>\n      <td>0.017079</td>\n      <td>170.099034</td>\n      <td>168.431278</td>\n      <td>125.781343</td>\n      <td>125.064008</td>\n      <td>neutral</td>\n      <td>0.700036</td>\n    </tr>\n    <tr>\n      <th>1</th>\n      <td>1000016028</td>\n      <td>2021-02-25</td>\n      <td>139.99</td>\n      <td>NaN</td>\n      <td>-2.3105</td>\n      <td>0.5174</td>\n      <td>-1.6602</td>\n      <td>0.2891</td>\n      <td>65.208655</td>\n      <td>52.430</td>\n      <td>0.016290</td>\n      <td>26.446154</td>\n      <td>NaN</td>\n      <td>28.091607</td>\n      <td>NaN</td>\n      <td>neutral_down</td>\n      <td>NaN</td>\n    </tr>\n    <tr>\n      <th>2</th>\n      <td>1000175476</td>\n      <td>2021-02-25</td>\n      <td>83.99</td>\n      <td>84.834114</td>\n      <td>-2.0583</td>\n      <td>0.2891</td>\n      <td>-0.5003</td>\n      <td>0.1561</td>\n      <td>21.780832</td>\n      <td>48.799</td>\n      <td>0.055748</td>\n      <td>80.722222</td>\n      <td>80.319378</td>\n      <td>98.015502</td>\n      <td>98.650935</td>\n      <td>neutral</td>\n      <td>0.324119</td>\n    </tr>\n    <tr>\n      <th>3</th>\n      <td>1000176734</td>\n      <td>2021-02-08</td>\n      <td>159.99</td>\n      <td>161.597926</td>\n      <td>-1.7633</td>\n      <td>0.5678</td>\n      <td>-1.2500</td>\n      <td>0.3075</td>\n      <td>80.326378</td>\n      <td>54.119</td>\n      <td>0.007736</td>\n      <td>100.555556</td>\n      <td>99.306434</td>\n      <td>62.484149</td>\n      <td>61.649268</td>\n      <td>neutral</td>\n      <td>0.398081</td>\n    </tr>\n    <tr>\n      <th>4</th>\n      <td>1000194074</td>\n      <td>2021-02-25</td>\n      <td>77.99</td>\n      <td>78.773813</td>\n      <td>-1.5244</td>\n      <td>0.4274</td>\n      <td>-0.9045</td>\n      <td>0.2371</td>\n      <td>22.098815</td>\n      <td>43.439</td>\n      <td>0.024822</td>\n      <td>97.437774</td>\n      <td>96.560423</td>\n      <td>53.448592</td>\n      <td>53.720852</td>\n      <td>neutral</td>\n      <td>0.262566</td>\n    </tr>\n    <tr>\n      <th>...</th>\n      <td>...</td>\n      <td>...</td>\n      <td>...</td>\n      <td>...</td>\n      <td>...</td>\n      <td>...</td>\n      <td>...</td>\n      <td>...</td>\n      <td>...</td>\n      <td>...</td>\n      <td>...</td>\n      <td>...</td>\n      <td>...</td>\n      <td>...</td>\n      <td>...</td>\n      <td>...</td>\n      <td>...</td>\n    </tr>\n    <tr>\n      <th>353</th>\n      <td>1000196399</td>\n      <td>2021-02-25</td>\n      <td>84.99</td>\n      <td>85.844164</td>\n      <td>-2.9264</td>\n      <td>0.5390</td>\n      <td>-1.2779</td>\n      <td>0.3463</td>\n      <td>14.710168</td>\n      <td>56.710</td>\n      <td>0.032453</td>\n      <td>67.459459</td>\n      <td>66.602880</td>\n      <td>32.204333</td>\n      <td>32.385151</td>\n      <td>neutral</td>\n      <td>0.207479</td>\n    </tr>\n    <tr>\n      <th>354</th>\n      <td>1000194221</td>\n      <td>2021-01-08</td>\n      <td>159.99</td>\n      <td>195.412227</td>\n      <td>-1.5819</td>\n      <td>0.3958</td>\n      <td>-0.9023</td>\n      <td>0.2801</td>\n      <td>31.096378</td>\n      <td>103.349</td>\n      <td>0.025424</td>\n      <td>40.125730</td>\n      <td>33.500413</td>\n      <td>31.723225</td>\n      <td>37.778585</td>\n      <td>neutral_up</td>\n      <td>3.663655</td>\n    </tr>\n    <tr>\n      <th>355</th>\n      <td>1000109909</td>\n      <td>2021-02-25</td>\n      <td>239.99</td>\n      <td>242.401940</td>\n      <td>-1.8804</td>\n      <td>0.3834</td>\n      <td>-0.9106</td>\n      <td>0.1694</td>\n      <td>125.582269</td>\n      <td>76.090</td>\n      <td>0.012308</td>\n      <td>55.833333</td>\n      <td>55.327223</td>\n      <td>86.302682</td>\n      <td>85.281825</td>\n      <td>neutral</td>\n      <td>0.357464</td>\n    </tr>\n    <tr>\n      <th>356</th>\n      <td>1000123847</td>\n      <td>2021-02-12</td>\n      <td>149.99</td>\n      <td>NaN</td>\n      <td>-3.5520</td>\n      <td>0.9811</td>\n      <td>-1.3020</td>\n      <td>0.2721</td>\n      <td>77.652017</td>\n      <td>48.390</td>\n      <td>0.011562</td>\n      <td>80.744322</td>\n      <td>NaN</td>\n      <td>72.495808</td>\n      <td>NaN</td>\n      <td>neutral_down</td>\n      <td>NaN</td>\n    </tr>\n    <tr>\n      <th>357</th>\n      <td>1000167292</td>\n      <td>2021-02-25</td>\n      <td>104.99</td>\n      <td>106.045167</td>\n      <td>-1.9511</td>\n      <td>0.4673</td>\n      <td>-1.0641</td>\n      <td>0.2821</td>\n      <td>54.386891</td>\n      <td>33.840</td>\n      <td>0.008982</td>\n      <td>65.092308</td>\n      <td>64.403333</td>\n      <td>31.798953</td>\n      <td>31.357497</td>\n      <td>neutral</td>\n      <td>0.171164</td>\n    </tr>\n  </tbody>\n</table>\n<p>356 rows × 17 columns</p>\n</div>"
     },
     "execution_count": 65,
     "metadata": {},
     "output_type": "execute_result"
    }
   ],
   "source": [
    "tmp_df[list_of_columns_up]"
   ],
   "metadata": {
    "collapsed": false,
    "pycharm": {
     "name": "#%%\n"
    }
   }
  },
  {
   "cell_type": "code",
   "execution_count": 66,
   "metadata": {
    "pycharm": {
     "name": "#%%\n"
    }
   },
   "outputs": [],
   "source": [
    "tmp_df.to_csv('../raw_data/Excel_files/Margin_result_View_PE.csv')"
   ]
  },
  {
   "cell_type": "code",
   "execution_count": 67,
   "outputs": [
    {
     "data": {
      "text/plain": "      item_code  avg_unique_views  avg_unique_views_up  avg_unique_views_down\n0    1000005727        170.099034           168.431278             171.783304\n2    1000175476         80.722222            80.319378              81.127087\n3    1000176734        100.555556            99.306434             101.820389\n4    1000194074         97.437774            96.560423              98.323096\n5    1000008470        189.558824           184.496481             194.760070\n..          ...               ...                  ...                    ...\n350  1000016020        543.000000           537.187567             548.875324\n351  1000174112        327.649206           321.865110             333.537247\n353  1000196399         67.459459            66.602880              68.327056\n355  1000109909         55.833333            55.327223              56.344074\n357  1000167292         65.092308            64.403333              65.788653\n\n[264 rows x 4 columns]",
      "text/html": "<div>\n<style scoped>\n    .dataframe tbody tr th:only-of-type {\n        vertical-align: middle;\n    }\n\n    .dataframe tbody tr th {\n        vertical-align: top;\n    }\n\n    .dataframe thead th {\n        text-align: right;\n    }\n</style>\n<table border=\"1\" class=\"dataframe\">\n  <thead>\n    <tr style=\"text-align: right;\">\n      <th></th>\n      <th>item_code</th>\n      <th>avg_unique_views</th>\n      <th>avg_unique_views_up</th>\n      <th>avg_unique_views_down</th>\n    </tr>\n  </thead>\n  <tbody>\n    <tr>\n      <th>0</th>\n      <td>1000005727</td>\n      <td>170.099034</td>\n      <td>168.431278</td>\n      <td>171.783304</td>\n    </tr>\n    <tr>\n      <th>2</th>\n      <td>1000175476</td>\n      <td>80.722222</td>\n      <td>80.319378</td>\n      <td>81.127087</td>\n    </tr>\n    <tr>\n      <th>3</th>\n      <td>1000176734</td>\n      <td>100.555556</td>\n      <td>99.306434</td>\n      <td>101.820389</td>\n    </tr>\n    <tr>\n      <th>4</th>\n      <td>1000194074</td>\n      <td>97.437774</td>\n      <td>96.560423</td>\n      <td>98.323096</td>\n    </tr>\n    <tr>\n      <th>5</th>\n      <td>1000008470</td>\n      <td>189.558824</td>\n      <td>184.496481</td>\n      <td>194.760070</td>\n    </tr>\n    <tr>\n      <th>...</th>\n      <td>...</td>\n      <td>...</td>\n      <td>...</td>\n      <td>...</td>\n    </tr>\n    <tr>\n      <th>350</th>\n      <td>1000016020</td>\n      <td>543.000000</td>\n      <td>537.187567</td>\n      <td>548.875324</td>\n    </tr>\n    <tr>\n      <th>351</th>\n      <td>1000174112</td>\n      <td>327.649206</td>\n      <td>321.865110</td>\n      <td>333.537247</td>\n    </tr>\n    <tr>\n      <th>353</th>\n      <td>1000196399</td>\n      <td>67.459459</td>\n      <td>66.602880</td>\n      <td>68.327056</td>\n    </tr>\n    <tr>\n      <th>355</th>\n      <td>1000109909</td>\n      <td>55.833333</td>\n      <td>55.327223</td>\n      <td>56.344074</td>\n    </tr>\n    <tr>\n      <th>357</th>\n      <td>1000167292</td>\n      <td>65.092308</td>\n      <td>64.403333</td>\n      <td>65.788653</td>\n    </tr>\n  </tbody>\n</table>\n<p>264 rows × 4 columns</p>\n</div>"
     },
     "execution_count": 67,
     "metadata": {},
     "output_type": "execute_result"
    }
   ],
   "source": [
    "tmp_df[['item_code','avg_unique_views','avg_unique_views_up','avg_unique_views_down']].dropna()"
   ],
   "metadata": {
    "collapsed": false,
    "pycharm": {
     "name": "#%%\n"
    }
   }
  },
  {
   "cell_type": "code",
   "execution_count": 68,
   "outputs": [],
   "source": [
    "tmp_df_only_change=tmp_df[tmp_df['Group_flag']!='neutral']"
   ],
   "metadata": {
    "collapsed": false,
    "pycharm": {
     "name": "#%%\n"
    }
   }
  },
  {
   "cell_type": "code",
   "execution_count": 69,
   "outputs": [
    {
     "data": {
      "text/plain": "0.45208630641681496"
     },
     "execution_count": 69,
     "metadata": {},
     "output_type": "execute_result"
    }
   ],
   "source": [
    "tmp_df_only_change['Margin_rate_to_base'].mean()"
   ],
   "metadata": {
    "collapsed": false,
    "pycharm": {
     "name": "#%%\n"
    }
   }
  },
  {
   "cell_type": "code",
   "execution_count": 70,
   "outputs": [
    {
     "data": {
      "text/plain": "307    1.008573\n269    0.796379\n248    0.785374\n118    0.770244\n297    0.767550\n58     0.754146\n85     0.746175\n162    0.714835\n242    0.707415\n182    0.701022\nName: Margin_rate_to_base, dtype: float64"
     },
     "execution_count": 70,
     "metadata": {},
     "output_type": "execute_result"
    }
   ],
   "source": [
    "tmp_df_only_change['Margin_rate_to_base'].nlargest(10)\n"
   ],
   "metadata": {
    "collapsed": false,
    "pycharm": {
     "name": "#%%\n"
    }
   }
  },
  {
   "cell_type": "code",
   "execution_count": 71,
   "outputs": [
    {
     "data": {
      "text/plain": "0.4811474967913334"
     },
     "execution_count": 71,
     "metadata": {},
     "output_type": "execute_result"
    }
   ],
   "source": [
    "tmp_df_only_change['Margin_rate_to_base'].median()"
   ],
   "metadata": {
    "collapsed": false,
    "pycharm": {
     "name": "#%%\n"
    }
   }
  },
  {
   "cell_type": "code",
   "execution_count": null,
   "outputs": [],
   "source": [],
   "metadata": {
    "collapsed": false,
    "pycharm": {
     "name": "#%%\n"
    }
   }
  }
 ],
 "metadata": {
  "kernelspec": {
   "display_name": "Python 3",
   "language": "python",
   "name": "python3"
  },
  "language_info": {
   "codemirror_mode": {
    "name": "ipython",
    "version": 3
   },
   "file_extension": ".py",
   "mimetype": "text/x-python",
   "name": "python",
   "nbconvert_exporter": "python",
   "pygments_lexer": "ipython3",
   "version": "3.9.2"
  }
 },
 "nbformat": 4,
 "nbformat_minor": 1
}