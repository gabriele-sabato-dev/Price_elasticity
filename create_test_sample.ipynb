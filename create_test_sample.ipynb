{
 "cells": [
  {
   "cell_type": "code",
   "execution_count": 1,
   "metadata": {
    "collapsed": true
   },
   "outputs": [],
   "source": [
    "import pandas as pd\n",
    "import numpy as np"
   ]
  },
  {
   "cell_type": "code",
   "execution_count": 2,
   "outputs": [],
   "source": [
    "df_final = pd.read_csv('../raw_data/Excel_files/Margin_result_PE_analysis_PC2_20210226.csv')"
   ],
   "metadata": {
    "collapsed": false,
    "pycharm": {
     "name": "#%%\n"
    }
   }
  },
  {
   "cell_type": "code",
   "execution_count": 3,
   "outputs": [
    {
     "name": "stdout",
     "output_type": "stream",
     "text": [
      "   Unnamed: 0   item_code  avg_conv_rate  last_price   last_date  \\\n",
      "0           0  1000012530       0.016220       99.99  2021-02-13   \n",
      "1           1  1000005727       0.017079       99.99  2021-02-25   \n",
      "2           2  1000007327       0.011193      209.99  2021-02-25   \n",
      "3           3  1000114877       0.018526      119.99  2021-02-25   \n",
      "4           4  1000117179       0.002919      319.99  2021-02-25   \n",
      "\n",
      "   avg_unique_views      PE  PE_err      pc2        item_skey  price_down  \\\n",
      "0         66.081387 -0.0187  0.0059   44.680  247523697279378   98.010065   \n",
      "1        170.099034 -0.0246  0.0044   40.729   71488185050378   98.010065   \n",
      "2         46.738462 -0.0229  0.0049   71.500    9591881119337  205.831919   \n",
      "3        269.909091 -0.0155  0.0029   77.859   25038272605281  117.614039   \n",
      "4        104.033696 -0.0242  0.0072  142.550   34780482897946  313.653773   \n",
      "\n",
      "   conv_rate_down  conv_rate_down_err  Delta_price  Margin_down  Margin_base  \\\n",
      "0        0.016226        1.914621e-06    39.345210    42.186330    42.170556   \n",
      "1        0.017087        1.503699e-06    43.296210   125.843243   125.781343   \n",
      "2        0.011198        1.097375e-06   104.962185    54.933356    54.908202   \n",
      "3        0.018531        1.074827e-06    22.972933   114.906480   114.870864   \n",
      "4        0.002920        4.205466e-07   126.349160    38.388223    38.369648   \n",
      "\n",
      "   Margin_down_err Group_flag  Margin_last  Margin_rate_to_base  \n",
      "0         0.004978    neutral    42.178442             0.000374  \n",
      "1         0.011074    neutral   125.812289             0.000492  \n",
      "2         0.005383    neutral    54.920778             0.000458  \n",
      "3         0.006665    neutral   114.888671             0.000310  \n",
      "4         0.005528    neutral    38.378934             0.000484  \n"
     ]
    }
   ],
   "source": [
    "print(df_final.head())"
   ],
   "metadata": {
    "collapsed": false,
    "pycharm": {
     "name": "#%%\n"
    }
   }
  },
  {
   "cell_type": "code",
   "execution_count": 4,
   "outputs": [],
   "source": [
    "df_final = df_final[['item_code','last_price','price_down','Margin_rate_to_base','PE','PE_err','pc2']]"
   ],
   "metadata": {
    "collapsed": false,
    "pycharm": {
     "name": "#%%\n"
    }
   }
  },
  {
   "cell_type": "code",
   "execution_count": 5,
   "outputs": [],
   "source": [
    "df_final['Margin_rate_to_base']=df_final['Margin_rate_to_base']*100"
   ],
   "metadata": {
    "collapsed": false,
    "pycharm": {
     "name": "#%%\n"
    }
   }
  },
  {
   "cell_type": "code",
   "execution_count": 6,
   "outputs": [
    {
     "data": {
      "text/plain": "    item_code  last_price  price_down  Margin_rate_to_base      PE  PE_err  \\\n0  1000012530       99.99   98.010065               0.0374 -0.0187  0.0059   \n1  1000005727       99.99   98.010065               0.0492 -0.0246  0.0044   \n2  1000007327      209.99  205.831919               0.0458 -0.0229  0.0049   \n3  1000114877      119.99  117.614039               0.0310 -0.0155  0.0029   \n4  1000117179      319.99  313.653773               0.0484 -0.0242  0.0072   \n\n       pc2  \n0   44.680  \n1   40.729  \n2   71.500  \n3   77.859  \n4  142.550  ",
      "text/html": "<div>\n<style scoped>\n    .dataframe tbody tr th:only-of-type {\n        vertical-align: middle;\n    }\n\n    .dataframe tbody tr th {\n        vertical-align: top;\n    }\n\n    .dataframe thead th {\n        text-align: right;\n    }\n</style>\n<table border=\"1\" class=\"dataframe\">\n  <thead>\n    <tr style=\"text-align: right;\">\n      <th></th>\n      <th>item_code</th>\n      <th>last_price</th>\n      <th>price_down</th>\n      <th>Margin_rate_to_base</th>\n      <th>PE</th>\n      <th>PE_err</th>\n      <th>pc2</th>\n    </tr>\n  </thead>\n  <tbody>\n    <tr>\n      <th>0</th>\n      <td>1000012530</td>\n      <td>99.99</td>\n      <td>98.010065</td>\n      <td>0.0374</td>\n      <td>-0.0187</td>\n      <td>0.0059</td>\n      <td>44.680</td>\n    </tr>\n    <tr>\n      <th>1</th>\n      <td>1000005727</td>\n      <td>99.99</td>\n      <td>98.010065</td>\n      <td>0.0492</td>\n      <td>-0.0246</td>\n      <td>0.0044</td>\n      <td>40.729</td>\n    </tr>\n    <tr>\n      <th>2</th>\n      <td>1000007327</td>\n      <td>209.99</td>\n      <td>205.831919</td>\n      <td>0.0458</td>\n      <td>-0.0229</td>\n      <td>0.0049</td>\n      <td>71.500</td>\n    </tr>\n    <tr>\n      <th>3</th>\n      <td>1000114877</td>\n      <td>119.99</td>\n      <td>117.614039</td>\n      <td>0.0310</td>\n      <td>-0.0155</td>\n      <td>0.0029</td>\n      <td>77.859</td>\n    </tr>\n    <tr>\n      <th>4</th>\n      <td>1000117179</td>\n      <td>319.99</td>\n      <td>313.653773</td>\n      <td>0.0484</td>\n      <td>-0.0242</td>\n      <td>0.0072</td>\n      <td>142.550</td>\n    </tr>\n  </tbody>\n</table>\n</div>"
     },
     "execution_count": 6,
     "metadata": {},
     "output_type": "execute_result"
    }
   ],
   "source": [
    "\n",
    "df_final.head()"
   ],
   "metadata": {
    "collapsed": false,
    "pycharm": {
     "name": "#%%\n"
    }
   }
  },
  {
   "cell_type": "code",
   "execution_count": 7,
   "outputs": [],
   "source": [
    "df_final=df_final.rename(columns={\"last_price\": \"actual_price\", \"price_down\": \"optimal_price\"})"
   ],
   "metadata": {
    "collapsed": false,
    "pycharm": {
     "name": "#%%\n"
    }
   }
  },
  {
   "cell_type": "code",
   "execution_count": 8,
   "outputs": [],
   "source": [
    "from pyspark.sql import SparkSession\n",
    "from pyspark.sql.functions import *\n",
    "spark = SparkSession.builder.master('local').config('spark.driver.memory', '8g').appName('read_tables').getOrCreate()\n"
   ],
   "metadata": {
    "collapsed": false,
    "pycharm": {
     "name": "#%%\n"
    }
   }
  },
  {
   "cell_type": "code",
   "execution_count": 9,
   "outputs": [],
   "source": [
    "df_d_item = spark.read.parquet('/Users/gabriele.sabato/PycharmProjects/raw_data/redshift_tables/d_item/*')\n"
   ],
   "metadata": {
    "collapsed": false,
    "pycharm": {
     "name": "#%%\n"
    }
   }
  },
  {
   "cell_type": "code",
   "execution_count": 10,
   "outputs": [],
   "source": [
    "df_d_item.createOrReplaceTempView('d_item')"
   ],
   "metadata": {
    "collapsed": false,
    "pycharm": {
     "name": "#%%\n"
    }
   }
  },
  {
   "cell_type": "code",
   "execution_count": 11,
   "outputs": [
    {
     "name": "stdout",
     "output_type": "stream",
     "text": [
      "+---------------+------------------+---------------------+-------------+----------------+----------+-------------+-----------+----------+-----------+--------------+-------------+--------------------+----------------------+--------------------+------------------+--------------------+------------------+-------------------+-------------------+---------+--------------------------------+---------------------------------------------+-----------------------+---------------------+------------------------+--------------------------+------------------------+--------------------+-----------+-------------------+------------------+-------------------+----------------------------+---------------+-----------------------+-----------------------+----------------------+------------------------------------+-------------------------------------------+-------------------------------------------------+--------------------------------------------------------+------------------------+---------------------+----------------------+---------------------+--------------------+\n",
      "|      item_skey|         item_code|item_parent_item_code|    item_name|item_parent_name|item_brand|item_designer|item_series|item_style|item_colors|item_materials|    item_gtin|item_gtin_comparable|item_picture_url_first|        item_pdp_url|  item_exclusivity|item_is_trusted_shop|item_main_category|item_sub_category_1|item_sub_category_2|item_type|item_cross_plant_material_status|item_cross_distribution_chain_material_status|item_supplier_item_code|item_supplier_regular|item_supplier_regular_id|item_first_activation_date|item_first_sellable_date|item_shipping_pieces|item_volume|item_inventory_flag|item_delivery_type|item_purchase_price|item_purchase_price_currency|item_inco_terms|item_supplier_lead_time|item_sourcing_warehouse|item_country_of_origin|item_cross_plant_deactivation_reason|item_cross_plant_material_status_valid_from|item_cross_distribution_chain_deactivation_reason|item_cross_distribution_chain_material_status_valid_from|item_attributes_bed_size|item_attributes_depth|item_attributes_height|item_attributes_width|item_attributes_wood|\n",
      "+---------------+------------------+---------------------+-------------+----------------+----------+-------------+-----------+----------+-----------+--------------+-------------+--------------------+----------------------+--------------------+------------------+--------------------+------------------+-------------------+-------------------+---------+--------------------------------+---------------------------------------------+-----------------------+---------------------+------------------------+--------------------------+------------------------+--------------------+-----------+-------------------+------------------+-------------------+----------------------------+---------------+-----------------------+-----------------------+----------------------+------------------------------------+-------------------------------------------+-------------------------------------------------+--------------------------------------------------------+------------------------+---------------------+----------------------+---------------------+--------------------+\n",
      "|246995205363527|000000000000001000|   000000008000012374|Aufbauservice|   Aufbauservice|          |      UNKNOWN|    UNKNOWN|   UNKNOWN|    UNKNOWN|       UNKNOWN|2050000000003|          comparable|               UNKNOWN|https://www.home2...|sparepartsServices| is not trusted shop|            AUFBAU|             AUFBAU|             AUFBAU|     ZDIN|                              20|                                             |                UNKNOWN|              UNKNOWN|                     -99|                2017-11-20|              2017-11-20|               0.000|      0.000|            UNKNOWN|     parcelservice|              0.000|                     UNKNOWN|        UNKNOWN|                    -99|                UNKNOWN|                    DE|                             UNKNOWN|                                 2017-01-01|                                          UNKNOWN|                                              1970-01-01|                 UNKNOWN|              UNKNOWN|               UNKNOWN|              UNKNOWN|             UNKNOWN|\n",
      "|  1216388560158|000000000000001193|   000000008000012374|Aufbauservice|   Aufbauservice|          |      UNKNOWN|    UNKNOWN|   UNKNOWN|    UNKNOWN|       UNKNOWN|      UNKNOWN|             UNKNOWN|               UNKNOWN|https://www.home2...|sparepartsServices| is not trusted shop|            AUFBAU|             AUFBAU|             AUFBAU|     ZDIN|                              20|                                             |                UNKNOWN|              UNKNOWN|                     -99|                2018-01-11|              2018-01-11|               0.000|      0.000|            UNKNOWN|     parcelservice|              0.000|                     UNKNOWN|        UNKNOWN|                    -99|                UNKNOWN|                    DE|                             UNKNOWN|                                 2017-01-01|                                          UNKNOWN|                                              1970-01-01|                 UNKNOWN|              UNKNOWN|               UNKNOWN|              UNKNOWN|             UNKNOWN|\n",
      "| 80472786708632|000000000000001194|   000000008000012374|Aufbauservice|   Aufbauservice|          |      UNKNOWN|    UNKNOWN|   UNKNOWN|    UNKNOWN|       UNKNOWN|      UNKNOWN|             UNKNOWN|               UNKNOWN|https://www.home2...|sparepartsServices| is not trusted shop|            AUFBAU|             AUFBAU|             AUFBAU|     ZDIN|                              20|                                             |                UNKNOWN|              UNKNOWN|                     -99|                2018-01-11|              2018-01-11|               0.000|      0.000|            UNKNOWN|     parcelservice|              0.000|                     UNKNOWN|        UNKNOWN|                    -99|                UNKNOWN|                    DE|                             UNKNOWN|                                 2017-01-01|                                          UNKNOWN|                                              1970-01-01|                 UNKNOWN|              UNKNOWN|               UNKNOWN|              UNKNOWN|             UNKNOWN|\n",
      "|194561450406777|000000000000001195|   000000008000012374|Aufbauservice|   Aufbauservice|          |      UNKNOWN|    UNKNOWN|   UNKNOWN|    UNKNOWN|       UNKNOWN|      UNKNOWN|             UNKNOWN|               UNKNOWN|https://www.home2...|sparepartsServices| is not trusted shop|            AUFBAU|             AUFBAU|             AUFBAU|     ZDIN|                              20|                                             |                UNKNOWN|              UNKNOWN|                     -99|                2018-01-16|              2018-01-16|               0.000|      0.000|            UNKNOWN|     parcelservice|              0.000|                     UNKNOWN|        UNKNOWN|                    -99|                UNKNOWN|                    DE|                             UNKNOWN|                                 2017-01-01|                                          UNKNOWN|                                              1970-01-01|                 UNKNOWN|              UNKNOWN|               UNKNOWN|              UNKNOWN|             UNKNOWN|\n",
      "| 30812130078943|000000000000001196|   000000008000012374|Aufbauservice|   Aufbauservice|          |      UNKNOWN|    UNKNOWN|   UNKNOWN|    UNKNOWN|       UNKNOWN|      UNKNOWN|             UNKNOWN|               UNKNOWN|https://www.home2...|sparepartsServices| is not trusted shop|            AUFBAU|             AUFBAU|             AUFBAU|     ZDIN|                              20|                                             |                UNKNOWN|              UNKNOWN|                     -99|                2018-01-16|              2018-01-16|               0.000|      0.000|            UNKNOWN|     parcelservice|              0.000|                     UNKNOWN|        UNKNOWN|                    -99|                UNKNOWN|                    DE|                             UNKNOWN|                                 2017-01-01|                                          UNKNOWN|                                              1970-01-01|                 UNKNOWN|              UNKNOWN|               UNKNOWN|              UNKNOWN|             UNKNOWN|\n",
      "|252506326476483|000000000000001197|   000000008000012374|Aufbauservice|   Aufbauservice|          |      UNKNOWN|    UNKNOWN|   UNKNOWN|    UNKNOWN|       UNKNOWN|      UNKNOWN|             UNKNOWN|               UNKNOWN|https://www.home2...|sparepartsServices| is not trusted shop|            AUFBAU|             AUFBAU|             AUFBAU|     ZDIN|                              20|                                             |                UNKNOWN|              UNKNOWN|                     -99|                2018-01-12|              2018-01-12|               0.000|      0.000|            UNKNOWN|     parcelservice|              0.000|                     UNKNOWN|        UNKNOWN|                    -99|                UNKNOWN|                    DE|                             UNKNOWN|                                 2017-01-01|                                          UNKNOWN|                                              1970-01-01|                 UNKNOWN|              UNKNOWN|               UNKNOWN|              UNKNOWN|             UNKNOWN|\n",
      "|137331546705301|000000000000001198|   000000008000012374|Aufbauservice|   Aufbauservice|          |      UNKNOWN|    UNKNOWN|   UNKNOWN|    UNKNOWN|       UNKNOWN|      UNKNOWN|             UNKNOWN|               UNKNOWN|https://www.home2...|sparepartsServices| is not trusted shop|            AUFBAU|             AUFBAU|             AUFBAU|     ZDIN|                              20|                                             |                UNKNOWN|              UNKNOWN|                     -99|                2018-01-16|              2018-01-16|               0.000|      0.000|            UNKNOWN|     parcelservice|              0.000|                     UNKNOWN|        UNKNOWN|                    -99|                UNKNOWN|                    DE|                             UNKNOWN|                                 2017-01-01|                                          UNKNOWN|                                              1970-01-01|                 UNKNOWN|              UNKNOWN|               UNKNOWN|              UNKNOWN|             UNKNOWN|\n",
      "|148133458693150|000000000000001199|   000000008000012374|Aufbauservice|   Aufbauservice|          |      UNKNOWN|    UNKNOWN|   UNKNOWN|    UNKNOWN|       UNKNOWN|      UNKNOWN|             UNKNOWN|               UNKNOWN|https://www.home2...|sparepartsServices| is not trusted shop|            AUFBAU|             AUFBAU|             AUFBAU|     ZDIN|                              20|                                             |                UNKNOWN|              UNKNOWN|                     -99|                2018-01-16|              2018-01-16|               0.000|      0.000|            UNKNOWN|     parcelservice|              0.000|                     UNKNOWN|        UNKNOWN|                    -99|                UNKNOWN|                    DE|                             UNKNOWN|                                 2017-01-01|                                          UNKNOWN|                                              1970-01-01|                 UNKNOWN|              UNKNOWN|               UNKNOWN|              UNKNOWN|             UNKNOWN|\n",
      "| 95518085222501|000000000000001200|   000000008000012374|Aufbauservice|   Aufbauservice|          |      UNKNOWN|    UNKNOWN|   UNKNOWN|    UNKNOWN|       UNKNOWN|      UNKNOWN|             UNKNOWN|               UNKNOWN|https://www.home2...|sparepartsServices| is not trusted shop|            AUFBAU|             AUFBAU|             AUFBAU|     ZDIN|                              20|                                             |                UNKNOWN|              UNKNOWN|                     -99|                2018-01-16|              2018-01-16|               0.000|      0.000|            UNKNOWN|     parcelservice|              0.000|                     UNKNOWN|        UNKNOWN|                    -99|                UNKNOWN|                    DE|                             UNKNOWN|                                 2017-01-01|                                          UNKNOWN|                                              1970-01-01|                 UNKNOWN|              UNKNOWN|               UNKNOWN|              UNKNOWN|             UNKNOWN|\n",
      "|203177097081578|000000000000001201|   000000008000012374|Aufbauservice|   Aufbauservice|          |      UNKNOWN|    UNKNOWN|   UNKNOWN|    UNKNOWN|       UNKNOWN|      UNKNOWN|             UNKNOWN|               UNKNOWN|https://www.home2...|sparepartsServices| is not trusted shop|            AUFBAU|             AUFBAU|             AUFBAU|     ZDIN|                              20|                                             |                UNKNOWN|              UNKNOWN|                     -99|                2018-01-11|              2018-01-11|               0.000|      0.000|            UNKNOWN|     parcelservice|              0.000|                     UNKNOWN|        UNKNOWN|                    -99|                UNKNOWN|                    DE|                             UNKNOWN|                                 2017-01-01|                                          UNKNOWN|                                              1970-01-01|                 UNKNOWN|              UNKNOWN|               UNKNOWN|              UNKNOWN|             UNKNOWN|\n",
      "| 85492699319980|000000000000001202|   000000008000012374|Aufbauservice|   Aufbauservice|          |      UNKNOWN|    UNKNOWN|   UNKNOWN|    UNKNOWN|       UNKNOWN|      UNKNOWN|             UNKNOWN|               UNKNOWN|https://www.home2...|sparepartsServices| is not trusted shop|            AUFBAU|             AUFBAU|             AUFBAU|     ZDIN|                              20|                                             |                UNKNOWN|              UNKNOWN|                     -99|                2018-01-16|              2018-01-16|               0.000|      0.000|            UNKNOWN|     parcelservice|              0.000|                     UNKNOWN|        UNKNOWN|                    -99|                UNKNOWN|                    DE|                             UNKNOWN|                                 2017-01-01|                                          UNKNOWN|                                              1970-01-01|                 UNKNOWN|              UNKNOWN|               UNKNOWN|              UNKNOWN|             UNKNOWN|\n",
      "|154332525896223|000000000000001203|   000000008000012374|Aufbauservice|   Aufbauservice|          |      UNKNOWN|    UNKNOWN|   UNKNOWN|    UNKNOWN|       UNKNOWN|      UNKNOWN|             UNKNOWN|               UNKNOWN|https://www.home2...|sparepartsServices| is not trusted shop|            AUFBAU|             AUFBAU|             AUFBAU|     ZDIN|                              20|                                             |                UNKNOWN|              UNKNOWN|                     -99|                2017-11-22|              2017-11-22|               0.000|      0.000|            UNKNOWN|     parcelservice|              0.000|                     UNKNOWN|        UNKNOWN|                    -99|                UNKNOWN|                    DE|                             UNKNOWN|                                 2017-01-01|                                          UNKNOWN|                                              1970-01-01|                 UNKNOWN|              UNKNOWN|               UNKNOWN|              UNKNOWN|             UNKNOWN|\n",
      "|218889718810311|000000000000001204|   000000008000012374|Aufbauservice|   Aufbauservice|          |      UNKNOWN|    UNKNOWN|   UNKNOWN|    UNKNOWN|       UNKNOWN|      UNKNOWN|             UNKNOWN|               UNKNOWN|https://www.home2...|sparepartsServices| is not trusted shop|            AUFBAU|             AUFBAU|             AUFBAU|     ZDIN|                              20|                                             |                UNKNOWN|              UNKNOWN|                     -99|                2018-01-16|              2018-01-16|               0.000|      0.000|            UNKNOWN|     parcelservice|              0.000|                     UNKNOWN|        UNKNOWN|                    -99|                UNKNOWN|                    DE|                             UNKNOWN|                                 2017-01-01|                                          UNKNOWN|                                              1970-01-01|                 UNKNOWN|              UNKNOWN|               UNKNOWN|              UNKNOWN|             UNKNOWN|\n",
      "| 66247685964836|000000000000001205|   000000008000012374|Aufbauservice|   Aufbauservice|          |      UNKNOWN|    UNKNOWN|   UNKNOWN|    UNKNOWN|       UNKNOWN|      UNKNOWN|             UNKNOWN|               UNKNOWN|https://www.home2...|sparepartsServices| is not trusted shop|            AUFBAU|             AUFBAU|             AUFBAU|     ZDIN|                              20|                                             |                UNKNOWN|              UNKNOWN|                     -99|                2018-01-16|              2018-01-16|               0.000|      0.000|            UNKNOWN|     parcelservice|              0.000|                     UNKNOWN|        UNKNOWN|                    -99|                UNKNOWN|                    DE|                             UNKNOWN|                                 2017-01-01|                                          UNKNOWN|                                              1970-01-01|                 UNKNOWN|              UNKNOWN|               UNKNOWN|              UNKNOWN|             UNKNOWN|\n",
      "|126339402813727|000000000000001206|   000000008000012374|Aufbauservice|   Aufbauservice|          |      UNKNOWN|    UNKNOWN|   UNKNOWN|    UNKNOWN|       UNKNOWN|      UNKNOWN|             UNKNOWN|               UNKNOWN|https://www.home2...|sparepartsServices| is not trusted shop|            AUFBAU|             AUFBAU|             AUFBAU|     ZDIN|                              20|                                             |                UNKNOWN|              UNKNOWN|                     -99|                2018-01-16|              2018-01-16|               0.000|      0.000|            UNKNOWN|     parcelservice|              0.000|                     UNKNOWN|        UNKNOWN|                    -99|                UNKNOWN|                    DE|                             UNKNOWN|                                 2017-01-01|                                          UNKNOWN|                                              1970-01-01|                 UNKNOWN|              UNKNOWN|               UNKNOWN|              UNKNOWN|             UNKNOWN|\n",
      "| 46436241793073|000000000000001207|   000000008000012374|Aufbauservice|   Aufbauservice|          |      UNKNOWN|    UNKNOWN|   UNKNOWN|    UNKNOWN|       UNKNOWN|      UNKNOWN|             UNKNOWN|               UNKNOWN|https://www.home2...|sparepartsServices| is not trusted shop|            AUFBAU|             AUFBAU|             AUFBAU|     ZDIN|                              20|                                             |                UNKNOWN|              UNKNOWN|                     -99|                2018-01-26|              2018-01-26|               0.000|      0.000|            UNKNOWN|     parcelservice|              0.000|                     UNKNOWN|        UNKNOWN|                    -99|                UNKNOWN|                    DE|                             UNKNOWN|                                 2017-01-01|                                          UNKNOWN|                                              1970-01-01|                 UNKNOWN|              UNKNOWN|               UNKNOWN|              UNKNOWN|             UNKNOWN|\n",
      "| 51791312620986|000000000000001208|   000000008000012374|Aufbauservice|   Aufbauservice|          |      UNKNOWN|    UNKNOWN|   UNKNOWN|    UNKNOWN|       UNKNOWN|      UNKNOWN|             UNKNOWN|               UNKNOWN|https://www.home2...|sparepartsServices| is not trusted shop|            AUFBAU|             AUFBAU|             AUFBAU|     ZDIN|                              20|                                             |                UNKNOWN|              UNKNOWN|                     -99|                2018-01-26|              2018-01-26|               0.000|      0.000|            UNKNOWN|     parcelservice|              0.000|                     UNKNOWN|        UNKNOWN|                    -99|                UNKNOWN|                    DE|                             UNKNOWN|                                 2017-01-01|                                          UNKNOWN|                                              1970-01-01|                 UNKNOWN|              UNKNOWN|               UNKNOWN|              UNKNOWN|             UNKNOWN|\n",
      "|223036029198421|000000000000001209|   000000008000012374|Aufbauservice|   Aufbauservice|          |      UNKNOWN|    UNKNOWN|   UNKNOWN|    UNKNOWN|       UNKNOWN|      UNKNOWN|             UNKNOWN|               UNKNOWN|https://www.home2...|sparepartsServices| is not trusted shop|            AUFBAU|             AUFBAU|             AUFBAU|     ZDIN|                              20|                                             |                UNKNOWN|              UNKNOWN|                     -99|                2018-01-26|              2018-01-26|               0.000|      0.000|            UNKNOWN|     parcelservice|              0.000|                     UNKNOWN|        UNKNOWN|                    -99|                UNKNOWN|                    DE|                             UNKNOWN|                                 2017-01-01|                                          UNKNOWN|                                              1970-01-01|                 UNKNOWN|              UNKNOWN|               UNKNOWN|              UNKNOWN|             UNKNOWN|\n",
      "|153842263516029|000000000000001210|   000000008000012374|Aufbauservice|   Aufbauservice|          |      UNKNOWN|    UNKNOWN|   UNKNOWN|    UNKNOWN|       UNKNOWN|      UNKNOWN|             UNKNOWN|               UNKNOWN|https://www.home2...|sparepartsServices| is not trusted shop|            AUFBAU|             AUFBAU|             AUFBAU|     ZDIN|                              20|                                             |                UNKNOWN|              UNKNOWN|                     -99|                2018-01-26|              2018-01-26|               0.000|      0.000|            UNKNOWN|     parcelservice|              0.000|                     UNKNOWN|        UNKNOWN|                    -99|                UNKNOWN|                    DE|                             UNKNOWN|                                 2017-01-01|                                          UNKNOWN|                                              1970-01-01|                 UNKNOWN|              UNKNOWN|               UNKNOWN|              UNKNOWN|             UNKNOWN|\n",
      "| 24562983294856|000000000000001211|   000000008000012374|Aufbauservice|   Aufbauservice|          |      UNKNOWN|    UNKNOWN|   UNKNOWN|    UNKNOWN|       UNKNOWN|      UNKNOWN|             UNKNOWN|               UNKNOWN|https://www.home2...|sparepartsServices| is not trusted shop|            AUFBAU|             AUFBAU|             AUFBAU|     ZDIN|                              20|                                             |                UNKNOWN|              UNKNOWN|                     -99|                2018-01-26|              2018-01-26|               0.000|      0.000|            UNKNOWN|     parcelservice|              0.000|                     UNKNOWN|        UNKNOWN|                    -99|                UNKNOWN|                    DE|                             UNKNOWN|                                 2017-01-01|                                          UNKNOWN|                                              1970-01-01|                 UNKNOWN|              UNKNOWN|               UNKNOWN|              UNKNOWN|             UNKNOWN|\n",
      "+---------------+------------------+---------------------+-------------+----------------+----------+-------------+-----------+----------+-----------+--------------+-------------+--------------------+----------------------+--------------------+------------------+--------------------+------------------+-------------------+-------------------+---------+--------------------------------+---------------------------------------------+-----------------------+---------------------+------------------------+--------------------------+------------------------+--------------------+-----------+-------------------+------------------+-------------------+----------------------------+---------------+-----------------------+-----------------------+----------------------+------------------------------------+-------------------------------------------+-------------------------------------------------+--------------------------------------------------------+------------------------+---------------------+----------------------+---------------------+--------------------+\n",
      "only showing top 20 rows\n",
      "\n"
     ]
    }
   ],
   "source": [
    "df_d_item.show()"
   ],
   "metadata": {
    "collapsed": false,
    "pycharm": {
     "name": "#%%\n"
    }
   }
  },
  {
   "cell_type": "code",
   "execution_count": 12,
   "outputs": [],
   "source": [
    "df_spark_final = spark.createDataFrame(df_final)\n"
   ],
   "metadata": {
    "collapsed": false,
    "pycharm": {
     "name": "#%%\n"
    }
   }
  },
  {
   "cell_type": "code",
   "execution_count": 13,
   "outputs": [],
   "source": [
    "df_spark_final.createOrReplaceTempView('margin')"
   ],
   "metadata": {
    "collapsed": false,
    "pycharm": {
     "name": "#%%\n"
    }
   }
  },
  {
   "cell_type": "code",
   "execution_count": 14,
   "outputs": [
    {
     "name": "stdout",
     "output_type": "stream",
     "text": [
      "+-----------+---------+----------------+-----------------------+--------------------------+--------------------------+--------------------------+--------------------------------+---------------------------------+---------------------------------------+\n",
      "|  item_skey|shop_skey|item_status_skey|item_status_weekly_skey|item_pc1_costs_before_cogs|item_pc2_costs_before_cogs|group_pc2_margin_simulated|group_pc2_margin_ratio_simulated|group_pc2_margin_simulated_pocket|group_pc2_margin_ratio_simulated_pocket|\n",
      "+-----------+---------+----------------+-----------------------+--------------------------+--------------------------+--------------------------+--------------------------------+---------------------------------+---------------------------------------+\n",
      "| 4184608796|        1|               4|                      4|                   674.169|                   800.340|                      null|                            null|                             null|                                   null|\n",
      "| 4184608796|        2|               4|                      4|                   674.169|                   870.350|                      null|                            null|                             null|                                   null|\n",
      "| 4184608796|        3|               4|                      4|                   674.169|                   790.220|                      null|                            null|                             null|                                   null|\n",
      "| 4184608796|        4|               4|                      4|                   674.169|                   857.970|                      null|                            null|                             null|                                   null|\n",
      "| 4184608796|        5|               4|                      4|                   674.169|                   894.669|                      null|                            null|                             null|                                   null|\n",
      "| 4184608796|        6|               4|                      4|                   674.169|                   797.919|                      null|                            null|                             null|                                   null|\n",
      "| 4184608796|        7|               1|                      1|                   674.169|                   930.220|                      null|                            null|                             null|                                   null|\n",
      "| 4184608796|        8|               4|                      4|                   674.169|                   800.460|                      null|                            null|                             null|                                   null|\n",
      "|43499951512|        1|               4|                      4|                   334.100|                   342.220|                      null|                            null|                             null|                                   null|\n",
      "|43499951512|        2|               4|                      4|                   346.199|                   356.050|                      null|                            null|                             null|                                   null|\n",
      "|43499951512|        3|               4|                      4|                   340.420|                   345.029|                      null|                            null|                             null|                                   null|\n",
      "|43499951512|        4|               4|                      4|                   342.639|                   364.730|                      null|                            null|                             null|                                   null|\n",
      "|43499951512|        5|               1|                      1|                   364.889|                   376.800|                      null|                            null|                             null|                                   null|\n",
      "|43499951512|        6|               4|                      4|                   340.420|                   350.509|                      null|                            null|                             null|                                   null|\n",
      "|43499951512|        7|               1|                      1|                   348.870|                   358.019|                      null|                            null|                             null|                                   null|\n",
      "|43499951512|        8|               1|                      1|                   334.100|                   341.730|                      null|                            null|                             null|                                   null|\n",
      "|63209271384|        1|               4|                      4|                    94.890|                   113.050|                      null|                            null|                             null|                                   null|\n",
      "|63209271384|        2|               4|                      4|                   101.750|                   128.300|                      null|                            null|                             null|                                   null|\n",
      "|63209271384|        3|               4|                      4|                    96.849|                   116.930|                      null|                            null|                             null|                                   null|\n",
      "|63209271384|        4|               4|                      4|                    97.829|                   127.860|                      null|                            null|                             null|                                   null|\n",
      "+-----------+---------+----------------+-----------------------+--------------------------+--------------------------+--------------------------+--------------------------------+---------------------------------+---------------------------------------+\n",
      "only showing top 20 rows\n",
      "\n"
     ]
    }
   ],
   "source": [
    "sp_df_pc2 = spark.read.parquet(\n",
    "    '/Users/gabriele.sabato/PycharmProjects/raw_data/redshift_tables/f_item_status_last/*.parquet',\n",
    "    header=True)\n",
    "sp_df_pc2.show()"
   ],
   "metadata": {
    "collapsed": false,
    "pycharm": {
     "name": "#%%\n"
    }
   }
  },
  {
   "cell_type": "code",
   "execution_count": 15,
   "outputs": [],
   "source": [
    "sp_df_pc2.createOrReplaceTempView('f_item_last_status')"
   ],
   "metadata": {
    "collapsed": false,
    "pycharm": {
     "name": "#%%\n"
    }
   }
  },
  {
   "cell_type": "code",
   "execution_count": 16,
   "outputs": [
    {
     "name": "stdout",
     "output_type": "stream",
     "text": [
      "+----------+------------+------------------+--------------------+-------+------+------------------+---------------------+--------------------+-------------------+--------------------+----------------+---------------+---------+\n",
      "| item_code|actual_price|     optimal_price| Margin_rate_to_base|     PE|PE_err|               pc2|item_parent_item_code|  item_main_category|item_inventory_flag|item_gtin_comparable|item_exclusivity|      item_skey|pc1_costs|\n",
      "+----------+------------+------------------+--------------------+-------+------+------------------+---------------------+--------------------+-------------------+--------------------+----------------+---------------+---------+\n",
      "|1000012530|       99.99| 98.01006534394246| 0.03740000000003154|-0.0187|0.0059|             44.68|   000000008000000774|ESSZIMMERSTÜHLE&B...|               laso|      non-comparable|       exclusive|247523697279378|   37.450|\n",
      "|1000005727|       99.99| 98.01006534394246| 0.04920000000001229|-0.0246|0.0044|            40.729|   000000008000012393|ESSZIMMERSTÜHLE&B...|               laso|      non-comparable|      whiteLabel| 71488185050378|   33.229|\n",
      "|1000007327|      209.99|205.83191940768555| 0.04580000000003032|-0.0229|0.0049|              71.5| 000000001000007327-P|              WOHNEN|               laso|      non-comparable|       exclusive|  9591881119337|   63.259|\n",
      "|1000114877|      119.99|117.61403881007757| 0.03100000000000433|-0.0155|0.0029|            77.859|   000000008000012444|              WOHNEN|               laso|          comparable|      whiteLabel| 25038272605281|   64.719|\n",
      "|1000117179|      319.99| 313.6537734714286| 0.04840000000000617|-0.0242|0.0072|            142.55| 000000001000117179-P|              WOHNEN|               laso|      non-comparable|       exclusive| 34780482897946|  102.849|\n",
      "|1000176734|      159.99|156.82198574234778|  0.0297999999999753|-0.0149| 0.003|            54.119|   000000008000012403|ESSZIMMERSTÜHLE&B...|             former|      non-comparable|       exclusive| 38255991794505|   45.689|\n",
      "|1000008470|       89.99|  88.2080786108749| 0.07319999999999689|-0.0366|0.0073|              48.5|   000000008000000525|ESSZIMMERSTÜHLE&B...|               laso|      non-comparable|      whiteLabel| 66003517992621|   40.539|\n",
      "|1000129145|      179.99|176.42595920848285| 0.03619999999999928|-0.0181|0.0033|             93.76| 000000001000129145-P|           FLURMÖBEL|               laso|          comparable|      whiteLabel| 92807562060189|   84.650|\n",
      "|1000012817|      289.99|  284.247813272226|0.025600000000017317|-0.0128|0.0025|            157.72|   000000008000000830|              BETTEN|               laso|      non-comparable|       exclusive| 24436568574430|  111.950|\n",
      "|1000022615|       34.99| 34.29715157900337| 0.12500000000000552|-0.0625|0.0131|12.359000000000002|   000000008000001983|MATRATZEN&LATTENR...|               laso|          comparable| thirdPartyBrand| 74462021394914|   11.279|\n",
      "|1000104023|      399.99| 392.0696673359689| 0.04000000000003134|  -0.02| 0.005|           226.139| 000000001000104023-P|     ESSZIMMERTISCHE|             former|          comparable| thirdPartyBrand| 20953685067427|  182.490|\n",
      "|1000156992|      139.99| 137.2180122762127|0.017800000000030392|-0.0089|0.0024|            49.619| 000000001000156992-P|            LEUCHTEN|               laso|      non-comparable|       exclusive| 69450844745155|   40.539|\n",
      "|1000182807|      969.99| 950.7829111208196|  0.0470000000000295|-0.0235|0.0044|             331.8| 000000001000182807-P|              GARTEN|               laso|      non-comparable|      whiteLabel|100679798534570|  231.330|\n",
      "|1000008474|      139.99| 137.2180122762127|0.062400000000030355|-0.0312|  0.01|            60.159|   000000008000000526|ESSZIMMERSTÜHLE&B...|               laso|      non-comparable|      whiteLabel|154928563530175|   51.659|\n",
      "|1000008491|      139.99| 137.2180122762127| 0.06740000000000412|-0.0337|0.0059| 53.68899999999999|   000000008000000530|ESSZIMMERSTÜHLE&B...|               laso|      non-comparable|      whiteLabel| 73662191637457|   45.299|\n",
      "|1000022564|      164.99|161.72297910888156| 0.17920000000000413|-0.0896|0.0242| 90.01899999999999|   000000008000001977|MATRATZEN&LATTENR...|               laso|          comparable| thirdPartyBrand|196145403809982|   53.250|\n",
      "|1000174114|      114.99|111.59153190274294| 0.06509999999999783|-0.0217|0.0035|             76.79|   000000008000012444|              WOHNEN|               laso|          comparable|      whiteLabel|169682504248479|   63.689|\n",
      "|1000061845|      399.99| 392.0696673359689|0.037400000000009335|-0.0187|0.0049|            228.34|   000000008000006783|              BETTEN|               laso|      non-comparable|      whiteLabel|  2692801778218|  173.319|\n",
      "|1000065698|      249.99|245.03986633995572| 0.04379999999998211|-0.0219|0.0059|            178.27| 000000001000065698-P|              GARTEN|               laso|          comparable| thirdPartyBrand|135975807930039|  143.340|\n",
      "|1000110285|       51.99| 50.96052902521821|0.061399999999972324|-0.0307|0.0101|             25.23|   000000008000012336|       HEIMTEXTILIEN|               laso|      non-comparable|      whiteLabel|108943076297895|   17.559|\n",
      "+----------+------------+------------------+--------------------+-------+------+------------------+---------------------+--------------------+-------------------+--------------------+----------------+---------------+---------+\n",
      "only showing top 20 rows\n",
      "\n"
     ]
    }
   ],
   "source": [
    "df_d_item_table_margin = spark.sql(\"\"\"SELECT    margin.*,\n",
    "                                                di.item_parent_item_code, di.item_main_category, di.item_inventory_flag, di.item_gtin_comparable,di.item_exclusivity,di.item_skey,\n",
    "                                                fils.item_pc1_costs_before_cogs as pc1_costs\n",
    "                                                from margin\n",
    "                                                INNER JOIN d_item as di on di.item_code = margin.item_code\n",
    "                                                INNER JOIN f_item_last_status as fils on fils.item_skey=di.item_skey and fils.shop_skey=1\n",
    "                                                \"\"\")\n",
    "\n",
    "df_d_item_table_margin.show()"
   ],
   "metadata": {
    "collapsed": false,
    "pycharm": {
     "name": "#%%\n"
    }
   }
  },
  {
   "cell_type": "code",
   "execution_count": 17,
   "outputs": [],
   "source": [
    "df_d_item_table_margin.createOrReplaceTempView('item_margin')"
   ],
   "metadata": {
    "collapsed": false,
    "pycharm": {
     "name": "#%%\n"
    }
   }
  },
  {
   "cell_type": "code",
   "execution_count": 18,
   "outputs": [],
   "source": [
    "df_standalone_item = spark.sql(\"\"\"SELECT *\n",
    "                from item_margin\n",
    "                where item_parent_item_code like '%-P' \"\"\")\n",
    "\n",
    "#127 items"
   ],
   "metadata": {
    "collapsed": false,
    "pycharm": {
     "name": "#%%\n"
    }
   }
  },
  {
   "cell_type": "code",
   "execution_count": 19,
   "outputs": [],
   "source": [
    "df_pd_sa_item=df_standalone_item.toPandas()"
   ],
   "metadata": {
    "collapsed": false,
    "pycharm": {
     "name": "#%%\n"
    }
   }
  },
  {
   "cell_type": "code",
   "execution_count": 19,
   "outputs": [],
   "source": [],
   "metadata": {
    "collapsed": false,
    "pycharm": {
     "name": "#%%\n"
    }
   }
  },
  {
   "cell_type": "code",
   "execution_count": 20,
   "outputs": [
    {
     "data": {
      "text/plain": "0    1000007327\n1    1000117179\n2    1000129145\n3    1000104023\n4    1000156992\nName: item_code, dtype: int64"
     },
     "execution_count": 20,
     "metadata": {},
     "output_type": "execute_result"
    }
   ],
   "source": [
    "df_pd_sa_item['item_code'].head()\n"
   ],
   "metadata": {
    "collapsed": false,
    "pycharm": {
     "name": "#%%\n"
    }
   }
  },
  {
   "cell_type": "code",
   "execution_count": 21,
   "outputs": [],
   "source": [
    "item_sa_list = list(df_pd_sa_item['item_code'])"
   ],
   "metadata": {
    "collapsed": false,
    "pycharm": {
     "name": "#%%\n"
    }
   }
  },
  {
   "cell_type": "code",
   "execution_count": 22,
   "outputs": [
    {
     "name": "stdout",
     "output_type": "stream",
     "text": [
      "[1000007327, 1000117179, 1000129145, 1000104023, 1000156992, 1000182807, 1000065698, 1000153506, 1000054183, 1000092325, 1000111508, 1000123698, 1000051350, 1000118214, 1000008048, 1000123220, 1000050850, 1000150712, 1000008748, 1000119757, 1000065873, 1000110022, 1000117175, 1000118448, 1000007776, 1000008540, 1000110390, 1000047992, 1000145703, 1000015609, 1000033614, 1000007385, 1000048014, 1000054182, 1000123474, 1000129148, 1000039125, 1000022032, 1000022035, 1000027404, 1000114113, 1000164750, 1000008176, 1000123519, 1000135008, 1000008815, 1000169000, 1000183892, 1000098236, 1000181283, 1000007403, 1000176929, 1000112672, 1000116754, 1000116755, 1000182984, 1000008729, 1000104058, 1000197007, 1000050844, 1000007705, 1000034837, 1000119632, 1000005221, 1000170702, 1000008531, 1000065695, 1000015550, 1000021855, 1000150715, 1000123758, 1000154383, 1000127861, 1000129701, 1000120238, 1000131989, 1000015906, 1000008069, 1000008532, 1000008204, 1000050849, 1000200158, 1000008807, 1000133361, 1000178362, 1000008513, 1000189233, 1000117164, 1000190260, 1000189234, 1000039134, 1000117180, 1000008509, 1000123450, 1000039137, 1000118154, 1000008130, 1000022033, 1000176592, 1000092125, 1000116763, 1000117127, 1000123457, 1000183952, 1000054605, 1000069675, 1000007393, 1000039133, 1000007405, 1000008170, 1000008518, 1000015943, 1000118981, 1000117727, 1000192625, 1000007722, 1000118957, 1000048012, 1000151257, 1000153533, 1000014946, 1000033640, 1000127878, 1000161914, 1000008049, 1000176445, 1000123451, 1000048010, 1000008754, 1000118250, 1000118309, 1000008833, 1000054035, 1000133273, 1000184269, 1000007717, 1000153532, 1000127486, 1000021892, 1000127863, 1000176584, 1000007798, 1000119823, 1000181277, 1000182529, 1000007057, 1000150718, 1000161916, 1000039141, 1000117393, 1000015756, 1000171334, 1000008823, 1000147134, 1000157002, 1000008514, 1000171358, 1000176687, 1000028505, 1000113287, 1000184298, 1000015549, 1000183932, 1000006076, 1000117699, 1000118291, 1000022030, 1000039157, 1000117136, 1000000145, 1000074998, 1000124790, 1000117126, 1000183890, 1000116756, 1000110005, 1000005222, 1000104232, 1000134698, 1000128962, 1000213915, 1000117186, 1000161915, 1000008757, 1000135305, 1000183955, 1000197021, 1000075018, 1000182809, 1000123760, 1000065733, 1000123447, 1000007056, 1000117156, 1000034876, 1000110397, 1000190204, 1000126923, 1000048005, 1000008482, 1000134688, 1000119769, 1000008758, 1000065719, 1000095038, 1000118141, 1000186801, 1000200167, 1000007436, 1000008715, 1000129708, 1000123152, 1000110431, 1000123430, 1000123774, 1000123773, 1000123818, 1000047957, 1000015616, 1000021861, 1000153525]\n"
     ]
    }
   ],
   "source": [
    "print(item_sa_list)"
   ],
   "metadata": {
    "collapsed": false,
    "pycharm": {
     "name": "#%%\n"
    }
   }
  },
  {
   "cell_type": "code",
   "execution_count": 23,
   "outputs": [],
   "source": [
    "pd_d_item_margin = df_d_item_table_margin.toPandas()\n",
    "\n",
    "\n"
   ],
   "metadata": {
    "collapsed": false,
    "pycharm": {
     "name": "#%%\n"
    }
   }
  },
  {
   "cell_type": "code",
   "execution_count": 24,
   "outputs": [],
   "source": [
    "import psycopg2\n",
    "\n",
    "def connect_redshift_db():\n",
    "    cnx = psycopg2.connect(dbname= 'dwh',\n",
    "                     host='redshift-prod.data.service.home24.net',\n",
    "                     port= '5439',\n",
    "                     user= 'gabriele_sabato',\n",
    "                     password= 'zQZ8x6ZhRoTf7GS')\n",
    "    return cnx\n",
    "cnx_redshift = connect_redshift_db()\n",
    "cursor_redshift = cnx_redshift.cursor()"
   ],
   "metadata": {
    "collapsed": false,
    "pycharm": {
     "name": "#%%\n"
    }
   }
  },
  {
   "cell_type": "code",
   "execution_count": 25,
   "outputs": [],
   "source": [
    "def query_to_dataframe(_cursor, _query):\n",
    "    _cursor.execute(_query)\n",
    "    colnames = [desc[0] for desc in _cursor.description]\n",
    "    print(colnames)\n",
    "    return pd.DataFrame(_cursor.fetchall(), columns=colnames)"
   ],
   "metadata": {
    "collapsed": false,
    "pycharm": {
     "name": "#%%\n"
    }
   }
  },
  {
   "cell_type": "code",
   "execution_count": 26,
   "outputs": [
    {
     "name": "stdout",
     "output_type": "stream",
     "text": [
      "[\" '000000001000012530' , \", \" '000000001000005727' , \", \" '000000001000007327' , \", \" '000000001000114877' , \", \" '000000001000117179' , \", \" '000000001000176734' , \", \" '000000001000008470' , \", \" '000000001000129145' , \", \" '000000001000012817' , \", \" '000000001000022615' , \", \" '000000001000104023' , \", \" '000000001000156992' , \", \" '000000001000182807' , \", \" '000000001000008474' , \", \" '000000001000008491' , \", \" '000000001000022564' , \", \" '000000001000174114' , \", \" '000000001000061845' , \", \" '000000001000065698' , \", \" '000000001000110285' , \", \" '000000001000153506' , \", \" '000000001000022482' , \", \" '000000001000054183' , \", \" '000000001000173830' , \", \" '000000001000184194' , \", \" '000000001000016092' , \", \" '000000001000092325' , \", \" '000000001000111508' , \", \" '000000001000138433' , \", \" '000000001000006373' , \", \" '000000001000012569' , \", \" '000000001000080491' , \", \" '000000001000123698' , \", \" '000000001000016094' , \", \" '000000001000016096' , \", \" '000000001000051350' , \", \" '000000001000118214' , \", \" '000000001000118866' , \", \" '000000001000005773' , \", \" '000000001000008048' , \", \" '000000001000117277' , \", \" '000000001000123220' , \", \" '000000001000135858' , \", \" '000000001000016021' , \", \" '000000001000050850' , \", \" '000000001000110255' , \", \" '000000001000150712' , \", \" '000000001000006422' , \", \" '000000001000008748' , \", \" '000000001000022411' , \", \" '000000001000119757' , \", \" '000000001000123763' , \", \" '000000001000119213' , \", \" '000000001000006082' , \", \" '000000001000027430' , \", \" '000000001000065873' , \", \" '000000001000110022' , \", \" '000000001000117175' , \", \" '000000001000117280' , \", \" '000000001000037730' , \", \" '000000001000118448' , \", \" '000000001000174104' , \", \" '000000001000186229' , \", \" '000000001000007776' , \", \" '000000001000008029' , \", \" '000000001000008540' , \", \" '000000001000092348' , \", \" '000000001000110390' , \", \" '000000001000047992' , \", \" '000000001000145703' , \", \" '000000001000153549' , \", \" '000000001000008533' , \", \" '000000001000015609' , \", \" '000000001000016109' , \", \" '000000001000169678' , \", \" '000000001000174103' , \", \" '000000001000188586' , \", \" '000000001000008032' , \", \" '000000001000179467' , \", \" '000000001000179476' , \", \" '000000001000015595' , \", \" '000000001000016098' , \", \" '000000001000016121' , \", \" '000000001000015962' , \", \" '000000001000022603' , \", \" '000000001000187582' , \", \" '000000001000033614' , \", \" '000000001000006744' , \", \" '000000001000007385' , \", \" '000000001000007591' , \", \" '000000001000048014' , \", \" '000000001000054182' , \", \" '000000001000053373' , \", \" '000000001000176732' , \", \" '000000001000022409' , \", \" '000000001000024281' , \", \" '000000001000027340' , \", \" '000000001000123474' , \", \" '000000001000129148' , \", \" '000000001000008184' , \", \" '000000001000048015' , \", \" '000000001000008050' , \", \" '000000001000092551' , \", \" '000000001000039125' , \", \" '000000001000208445' , \", \" '000000001000015959' , \", \" '000000001000016061' , \", \" '000000001000022032' , \", \" '000000001000022035' , \", \" '000000001000050877' , \", \" '000000001000027404' , \", \" '000000001000052623' , \", \" '000000001000114091' , \", \" '000000001000114113' , \", \" '000000001000164750' , \", \" '000000001000008176' , \", \" '000000001000015924' , \", \" '000000001000016078' , \", \" '000000001000032632' , \", \" '000000001000123519' , \", \" '000000001000135008' , \", \" '000000001000176717' , \", \" '000000001000092141' , \", \" '000000001000008815' , \", \" '000000001000114875' , \", \" '000000001000164538' , \", \" '000000001000012445' , \", \" '000000001000092144' , \", \" '000000001000169000' , \", \" '000000001000016139' , \", \" '000000001000183892' , \", \" '000000001000086543' , \", \" '000000001000007595' , \", \" '000000001000098236' , \", \" '000000001000181283' , \", \" '000000001000005744' , \", \" '000000001000007403' , \", \" '000000001000127446' , \", \" '000000001000006347' , \", \" '000000001000015958' , \", \" '000000001000056892' , \", \" '000000001000109923' , \", \" '000000001000113323' , \", \" '000000001000176929' , \", \" '000000001000007449' , \", \" '000000001000112672' , \", \" '000000001000116754' , \", \" '000000001000151691' , \", \" '000000001000008039' , \", \" '000000001000116755' , \", \" '000000001000182984' , \", \" '000000001000008729' , \", \" '000000001000118440' , \", \" '000000001000118867' , \", \" '000000001000179475' , \", \" '000000001000016027' , \", \" '000000001000048013' , \", \" '000000001000104058' , \", \" '000000001000197007' , \", \" '000000001000050844' , \", \" '000000001000110286' , \", \" '000000001000007705' , \", \" '000000001000034837' , \", \" '000000001000119632' , \", \" '000000001000007433' , \", \" '000000001000174090' , \", \" '000000001000006093' , \", \" '000000001000005221' , \", \" '000000001000005729' , \", \" '000000001000064492' , \", \" '000000001000117318' , \", \" '000000001000170702' , \", \" '000000001000177734' , \", \" '000000001000008531' , \", \" '000000001000065695' , \", \" '000000001000008038' , \", \" '000000001000015550' , \", \" '000000001000016118' , \", \" '000000001000022575' , \", \" '000000001000053411' , \", \" '000000001000129700' , \", \" '000000001000153558' , \", \" '000000001000177736' , \", \" '000000001000178563' , \", \" '000000001000021855' , \", \" '000000001000117316' , \", \" '000000001000150715' , \", \" '000000001000123758' , \", \" '000000001000125108' , \", \" '000000001000154383' , \", \" '000000001000127861' , \", \" '000000001000129701' , \", \" '000000001000131686' , \", \" '000000001000135758' , \", \" '000000001000086582' , \", \" '000000001000007034' , \", \" '000000001000120238' , \", \" '000000001000126299' , \", \" '000000001000131989' , \", \" '000000001000183865' , \", \" '000000001000015906' , \", \" '000000001000163191' , \", \" '000000001000174097' , \", \" '000000001000008069' , \", \" '000000001000008532' , \", \" '000000001000022356' , \", \" '000000001000012835' , \", \" '000000001000176743' , \", \" '000000001000008204' , \", \" '000000001000015626' , \", \" '000000001000050849' , \", \" '000000001000127964' , \", \" '000000001000200158' , \", \" '000000001000008807' , \", \" '000000001000037846' , \", \" '000000001000022398' , \", \" '000000001000126836' , \", \" '000000001000063421' , \", \" '000000001000133361' , \", \" '000000001000163197' , \", \" '000000001000178362' , \", \" '000000001000008513' , \", \" '000000001000016119' , \", \" '000000001000091266' , \", \" '000000001000124203' , \", \" '000000001000119730' , \", \" '000000001000189233' , \", \" '000000001000008466' , \", \" '000000001000016110' , \", \" '000000001000117164' , \", \" '000000001000190260' , \", \" '000000001000027359' , \", \" '000000001000086550' , \", \" '000000001000189234' , \", \" '000000001000008063' , \", \" '000000001000086536' , \", \" '000000001000006092' , \", \" '000000001000039134' , \", \" '000000001000064649' , \", \" '000000001000117180' , \", \" '000000001000016035' , \", \" '000000001000050876' , \", \" '000000001000008509' , \", \" '000000001000094984' , \", \" '000000001000116607' , \", \" '000000001000104033' , \", \" '000000001000199054' , \", \" '000000001000015989' , \", \" '000000001000119223' , \", \" '000000001000179463' , \", \" '000000001000210750' , \", \" '000000001000123450' , \", \" '000000001000164647' , \", \" '000000001000012792' , \", \" '000000001000015963' , \", \" '000000001000039137' , \", \" '000000001000118154' , \", \" '000000001000008130' , \", \" '000000001000008146' , \", \" '000000001000015997' , \", \" '000000001000022033' , \", \" '000000001000110399' , \", \" '000000001000128255' , \", \" '000000001000176592' , \", \" '000000001000008056' , \", \" '000000001000022562' , \", \" '000000001000022708' , \", \" '000000001000016017' , \", \" '000000001000213909' , \", \" '000000001000092125' , \", \" '000000001000178027' , \", \" '000000001000022585' , \", \" '000000001000164526' , \", \" '000000001000006375' , \", \" '000000001000022542' , \", \" '000000001000116763' , \", \" '000000001000117127' , \", \" '000000001000022392' , \", \" '000000001000123457' , \", \" '000000001000129336' , \", \" '000000001000183952' , \", \" '000000001000054605' , \", \" '000000001000069675' , \", \" '000000001000091263' , \", \" '000000001000173491' , \", \" '000000001000007393' , \", \" '000000001000006085' , \", \" '000000001000012821' , \", \" '000000001000008017' , \", \" '000000001000039133' , \", \" '000000001000139406' , \", \" '000000001000007592' , \", \" '000000001000119666' , \", \" '000000001000123856' , \", \" '000000001000167293' , \", \" '000000001000178560' , \", \" '000000001000178639' , \", \" '000000001000007405' , \", \" '000000001000008170' , \", \" '000000001000008518' , \", \" '000000001000015943' , \", \" '000000001000118981' , \", \" '000000001000008012' , \", \" '000000001000139473' , \", \" '000000001000016029' , \", \" '000000001000086499' , \", \" '000000001000112678' , \", \" '000000001000116645' , \", \" '000000001000117727' , \", \" '000000001000127963' , \", \" '000000001000192625' , \", \" '000000001000007722' , \", \" '000000001000092145' , \", \" '000000001000176710' , \", \" '000000001000118957' , \", \" '000000001000005726' , \", \" '000000001000008185' , \", \" '000000001000048012' , \", \" '000000001000110460' , \", \" '000000001000008035' , \", \" '000000001000021903' , \", \" '000000001000050873' , \", \" '000000001000079665' , \", \" '000000001000091516' , \", \" '000000001000151257' , \", \" '000000001000187565' , \", \" '000000001000006757' , \", \" '000000001000016125' , \", \" '000000001000016036' , \", \" '000000001000022466' , \", \" '000000001000153533' , \", \" '000000001000008000' , \", \" '000000001000173700' , \", \" '000000001000014946' , \", \" '000000001000033640' , \", \" '000000001000114123' , \", \" '000000001000127878' , \", \" '000000001000161914' , \", \" '000000001000199056' , \", \" '000000001000008014' , \", \" '000000001000008049' , \", \" '000000001000153557' , \", \" '000000001000176445' , \", \" '000000001000114009' , \", \" '000000001000123451' , \", \" '000000001000178634' , \", \" '000000001000006102' , \", \" '000000001000016124' , \", \" '000000001000016130' , \", \" '000000001000048010' , \", \" '000000001000163167' , \", \" '000000001000179044' , \", \" '000000001000008754' , \", \" '000000001000118250' , \", \" '000000001000118309' , \", \" '000000001000123755' , \", \" '000000001000182665' , \", \" '000000001000008833' , \", \" '000000001000054035' , \", \" '000000001000133273' , \", \" '000000001000184269' , \", \" '000000001000012658' , \", \" '000000001000079876' , \", \" '000000001000126497' , \", \" '000000001000007447' , \", \" '000000001000176719' , \", \" '000000001000006087' , \", \" '000000001000006083' , \", \" '000000001000086544' , \", \" '000000001000129713' , \", \" '000000001000176744' , \", \" '000000001000006715' , \", \" '000000001000007717' , \", \" '000000001000008019' , \", \" '000000001000022578' , \", \" '000000001000153532' , \", \" '000000001000127486' , \", \" '000000001000012462' , \", \" '000000001000027428' , \", \" '000000001000062031' , \", \" '000000001000123504' , \", \" '000000001000007448' , \", \" '000000001000016060' , \", \" '000000001000021892' , \", \" '000000001000127863' , \", \" '000000001000176584' , \", \" '000000001000007798' , \", \" '000000001000008058' , \", \" '000000001000015909' , \", \" '000000001000015960' , \", \" '000000001000110002' , \", \" '000000001000119823' , \", \" '000000001000181277' , \", \" '000000001000182529' , \", \" '000000001000006755' , \", \" '000000001000007057' , \", \" '000000001000008071' , \", \" '000000001000150718' , \", \" '000000001000016047' , \", \" '000000001000064496' , \", \" '000000001000161916' , \", \" '000000001000024887' , \", \" '000000001000027400' , \", \" '000000001000006090' , \", \" '000000001000039141' , \", \" '000000001000123272' , \", \" '000000001000007546' , \", \" '000000001000007577' , \", \" '000000001000015944' , \", \" '000000001000117393' , \", \" '000000001000006086' , \", \" '000000001000008105' , \", \" '000000001000022292' , \", \" '000000001000048017' , \", \" '000000001000165563' , \", \" '000000001000015756' , \", \" '000000001000016116' , \", \" '000000001000028818' , \", \" '000000001000129699' , \", \" '000000001000169675' , \", \" '000000001000008033' , \", \" '000000001000064696' , \", \" '000000001000112668' , \", \" '000000001000147842' , \", \" '000000001000008007' , \", \" '000000001000171334' , \", \" '000000001000005769' , \", \" '000000001000008823' , \", \" '000000001000015713' , \", \" '000000001000110328' , \", \" '000000001000117282' , \", \" '000000001000174093' , \", \" '000000001000112669' , \", \" '000000001000147134' , \", \" '000000001000157002' , \", \" '000000001000008514' , \", \" '000000001000008529' , \", \" '000000001000063419' , \", \" '000000001000171358' , \", \" '000000001000176687' , \", \" '000000001000022573' , \", \" '000000001000028505' , \", \" '000000001000007446' , \", \" '000000001000012754' , \", \" '000000001000086500' , \", \" '000000001000113287' , \", \" '000000001000184298' , \", \" '000000001000015549' , \", \" '000000001000171151' , \", \" '000000001000183932' , \", \" '000000001000008770' , \", \" '000000001000016019' , \", \" '000000001000024954' , \", \" '000000001000006076' , \", \" '000000001000008037' , \", \" '000000001000091298' , \", \" '000000001000117699' , \", \" '000000001000118291' , \", \" '000000001000123195' , \", \" '000000001000177744' , \", \" '000000001000128138' , \", \" '000000001000138434' , \", \" '000000001000022030' , \", \" '000000001000039157' , \", \" '000000001000037756' , \", \" '000000001000114867' , \", \" '000000001000117136' , \", \" '000000001000007430' , \", \" '000000001000012567' , \", \" '000000001000012769' , \", \" '000000001000050869' , \", \" '000000001000000145' , \", \" '000000001000008194' , \", \" '000000001000016015' , \", \" '000000001000074998' , \", \" '000000001000124790' , \", \" '000000001000064493' , \", \" '000000001000117126' , \", \" '000000001000174653' , \", \" '000000001000183890' , \", \" '000000001000015662' , \", \" '000000001000053657' , \", \" '000000001000092323' , \", \" '000000001000116756' , \", \" '000000001000174110' , \", \" '000000001000015891' , \", \" '000000001000110005' , \", \" '000000001000005222' , \", \" '000000001000008492' , \", \" '000000001000104232' , \", \" '000000001000134698' , \", \" '000000001000151692' , \", \" '000000001000128962' , \", \" '000000001000213915' , \", \" '000000001000007072' , \", \" '000000001000008016' , \", \" '000000001000022386' , \", \" '000000001000121906' , \", \" '000000001000117186' , \", \" '000000001000161915' , \", \" '000000001000008757' , \", \" '000000001000027357' , \", \" '000000001000135305' , \", \" '000000001000183955' , \", \" '000000001000197021' , \", \" '000000001000006348' , \", \" '000000001000062044' , \", \" '000000001000075018' , \", \" '000000001000117325' , \", \" '000000001000182809' , \", \" '000000001000199045' , \", \" '000000001000022560' , \", \" '000000001000113606' , \", \" '000000001000123760' , \", \" '000000001000012813' , \", \" '000000001000123744' , \", \" '000000001000178060' , \", \" '000000001000065733' , \", \" '000000001000125111' , \", \" '000000001000123447' , \", \" '000000001000007056' , \", \" '000000001000008526' , \", \" '000000001000050866' , \", \" '000000001000117156' , \", \" '000000001000071065' , \", \" '000000001000119692' , \", \" '000000001000008034' , \", \" '000000001000015695' , \", \" '000000001000034876' , \", \" '000000001000062034' , \", \" '000000001000076401' , \", \" '000000001000110397' , \", \" '000000001000113304' , \", \" '000000001000190204' , \", \" '000000001000024284' , \", \" '000000001000126923' , \", \" '000000001000048005' , \", \" '000000001000076720' , \", \" '000000001000109884' , \", \" '000000001000008482' , \", \" '000000001000122530' , \", \" '000000001000134688' , \", \" '000000001000006756' , \", \" '000000001000123817' , \", \" '000000001000124194' , \", \" '000000001000164525' , \", \" '000000001000008078' , \", \" '000000001000012442' , \", \" '000000001000012685' , \", \" '000000001000119769' , \", \" '000000001000012814' , \", \" '000000001000015678' , \", \" '000000001000008758' , \", \" '000000001000065719' , \", \" '000000001000094982' , \", \" '000000001000095038' , \", \" '000000001000118141' , \", \" '000000001000118984' , \", \" '000000001000186801' , \", \" '000000001000200167' , \", \" '000000001000005775' , \", \" '000000001000022385' , \", \" '000000001000008195' , \", \" '000000001000039246' , \", \" '000000001000007436' , \", \" '000000001000008715' , \", \" '000000001000129708' , \", \" '000000001000123854' , \", \" '000000001000179460' , \", \" '000000001000022391' , \", \" '000000001000022710' , \", \" '000000001000123152' , \", \" '000000001000016026' , \", \" '000000001000131853' , \", \" '000000001000188886' , \", \" '000000001000022387' , \", \" '000000001000025086' , \", \" '000000001000079655' , \", \" '000000001000007033' , \", \" '000000001000022586' , \", \" '000000001000123392' , \", \" '000000001000008143' , \", \" '000000001000110431' , \", \" '000000001000123430' , \", \" '000000001000123774' , \", \" '000000001000124202' , \", \" '000000001000063648' , \", \" '000000001000118958' , \", \" '000000001000123773' , \", \" '000000001000123818' , \", \" '000000001000178629' , \", \" '000000001000226298' , \", \" '000000001000007597' , \", \" '000000001000012676' , \", \" '000000001000016020' , \", \" '000000001000024940' , \", \" '000000001000047957' , \", \" '000000001000016201' , \", \" '000000001000188888' , \", \" '000000001000012855' , \", \" '000000001000015616' , \", \" '000000001000021861' , \", \" '000000001000006713' , \", \" '000000001000109909' , \", \" '000000001000153525' , \", \" '000000001000167292' , \", \" '000000001000179473' , \"]\n"
     ]
    }
   ],
   "source": [
    "item_list=list(pd_d_item_margin['item_code'])\n",
    "new_list = []\n",
    "final_list = \"\"\n",
    "\n",
    "for i in item_list:\n",
    "    new_list.append(\" '00000000\" + str(i)+\"' , \" )\n",
    "\n",
    "print(new_list)\n",
    "final_list = final_list.join(new_list)\n",
    "final_list=final_list[0:-3]"
   ],
   "metadata": {
    "collapsed": false,
    "pycharm": {
     "name": "#%%\n"
    }
   }
  },
  {
   "cell_type": "code",
   "execution_count": 26,
   "outputs": [],
   "source": [],
   "metadata": {
    "collapsed": false,
    "pycharm": {
     "name": "#%%\n"
    }
   }
  },
  {
   "cell_type": "code",
   "execution_count": 27,
   "outputs": [
    {
     "name": "stdout",
     "output_type": "stream",
     "text": [
      " '000000001000012530' ,  '000000001000005727' ,  '000000001000007327' ,  '000000001000114877' ,  '000000001000117179' ,  '000000001000176734' ,  '000000001000008470' ,  '000000001000129145' ,  '000000001000012817' ,  '000000001000022615' ,  '000000001000104023' ,  '000000001000156992' ,  '000000001000182807' ,  '000000001000008474' ,  '000000001000008491' ,  '000000001000022564' ,  '000000001000174114' ,  '000000001000061845' ,  '000000001000065698' ,  '000000001000110285' ,  '000000001000153506' ,  '000000001000022482' ,  '000000001000054183' ,  '000000001000173830' ,  '000000001000184194' ,  '000000001000016092' ,  '000000001000092325' ,  '000000001000111508' ,  '000000001000138433' ,  '000000001000006373' ,  '000000001000012569' ,  '000000001000080491' ,  '000000001000123698' ,  '000000001000016094' ,  '000000001000016096' ,  '000000001000051350' ,  '000000001000118214' ,  '000000001000118866' ,  '000000001000005773' ,  '000000001000008048' ,  '000000001000117277' ,  '000000001000123220' ,  '000000001000135858' ,  '000000001000016021' ,  '000000001000050850' ,  '000000001000110255' ,  '000000001000150712' ,  '000000001000006422' ,  '000000001000008748' ,  '000000001000022411' ,  '000000001000119757' ,  '000000001000123763' ,  '000000001000119213' ,  '000000001000006082' ,  '000000001000027430' ,  '000000001000065873' ,  '000000001000110022' ,  '000000001000117175' ,  '000000001000117280' ,  '000000001000037730' ,  '000000001000118448' ,  '000000001000174104' ,  '000000001000186229' ,  '000000001000007776' ,  '000000001000008029' ,  '000000001000008540' ,  '000000001000092348' ,  '000000001000110390' ,  '000000001000047992' ,  '000000001000145703' ,  '000000001000153549' ,  '000000001000008533' ,  '000000001000015609' ,  '000000001000016109' ,  '000000001000169678' ,  '000000001000174103' ,  '000000001000188586' ,  '000000001000008032' ,  '000000001000179467' ,  '000000001000179476' ,  '000000001000015595' ,  '000000001000016098' ,  '000000001000016121' ,  '000000001000015962' ,  '000000001000022603' ,  '000000001000187582' ,  '000000001000033614' ,  '000000001000006744' ,  '000000001000007385' ,  '000000001000007591' ,  '000000001000048014' ,  '000000001000054182' ,  '000000001000053373' ,  '000000001000176732' ,  '000000001000022409' ,  '000000001000024281' ,  '000000001000027340' ,  '000000001000123474' ,  '000000001000129148' ,  '000000001000008184' ,  '000000001000048015' ,  '000000001000008050' ,  '000000001000092551' ,  '000000001000039125' ,  '000000001000208445' ,  '000000001000015959' ,  '000000001000016061' ,  '000000001000022032' ,  '000000001000022035' ,  '000000001000050877' ,  '000000001000027404' ,  '000000001000052623' ,  '000000001000114091' ,  '000000001000114113' ,  '000000001000164750' ,  '000000001000008176' ,  '000000001000015924' ,  '000000001000016078' ,  '000000001000032632' ,  '000000001000123519' ,  '000000001000135008' ,  '000000001000176717' ,  '000000001000092141' ,  '000000001000008815' ,  '000000001000114875' ,  '000000001000164538' ,  '000000001000012445' ,  '000000001000092144' ,  '000000001000169000' ,  '000000001000016139' ,  '000000001000183892' ,  '000000001000086543' ,  '000000001000007595' ,  '000000001000098236' ,  '000000001000181283' ,  '000000001000005744' ,  '000000001000007403' ,  '000000001000127446' ,  '000000001000006347' ,  '000000001000015958' ,  '000000001000056892' ,  '000000001000109923' ,  '000000001000113323' ,  '000000001000176929' ,  '000000001000007449' ,  '000000001000112672' ,  '000000001000116754' ,  '000000001000151691' ,  '000000001000008039' ,  '000000001000116755' ,  '000000001000182984' ,  '000000001000008729' ,  '000000001000118440' ,  '000000001000118867' ,  '000000001000179475' ,  '000000001000016027' ,  '000000001000048013' ,  '000000001000104058' ,  '000000001000197007' ,  '000000001000050844' ,  '000000001000110286' ,  '000000001000007705' ,  '000000001000034837' ,  '000000001000119632' ,  '000000001000007433' ,  '000000001000174090' ,  '000000001000006093' ,  '000000001000005221' ,  '000000001000005729' ,  '000000001000064492' ,  '000000001000117318' ,  '000000001000170702' ,  '000000001000177734' ,  '000000001000008531' ,  '000000001000065695' ,  '000000001000008038' ,  '000000001000015550' ,  '000000001000016118' ,  '000000001000022575' ,  '000000001000053411' ,  '000000001000129700' ,  '000000001000153558' ,  '000000001000177736' ,  '000000001000178563' ,  '000000001000021855' ,  '000000001000117316' ,  '000000001000150715' ,  '000000001000123758' ,  '000000001000125108' ,  '000000001000154383' ,  '000000001000127861' ,  '000000001000129701' ,  '000000001000131686' ,  '000000001000135758' ,  '000000001000086582' ,  '000000001000007034' ,  '000000001000120238' ,  '000000001000126299' ,  '000000001000131989' ,  '000000001000183865' ,  '000000001000015906' ,  '000000001000163191' ,  '000000001000174097' ,  '000000001000008069' ,  '000000001000008532' ,  '000000001000022356' ,  '000000001000012835' ,  '000000001000176743' ,  '000000001000008204' ,  '000000001000015626' ,  '000000001000050849' ,  '000000001000127964' ,  '000000001000200158' ,  '000000001000008807' ,  '000000001000037846' ,  '000000001000022398' ,  '000000001000126836' ,  '000000001000063421' ,  '000000001000133361' ,  '000000001000163197' ,  '000000001000178362' ,  '000000001000008513' ,  '000000001000016119' ,  '000000001000091266' ,  '000000001000124203' ,  '000000001000119730' ,  '000000001000189233' ,  '000000001000008466' ,  '000000001000016110' ,  '000000001000117164' ,  '000000001000190260' ,  '000000001000027359' ,  '000000001000086550' ,  '000000001000189234' ,  '000000001000008063' ,  '000000001000086536' ,  '000000001000006092' ,  '000000001000039134' ,  '000000001000064649' ,  '000000001000117180' ,  '000000001000016035' ,  '000000001000050876' ,  '000000001000008509' ,  '000000001000094984' ,  '000000001000116607' ,  '000000001000104033' ,  '000000001000199054' ,  '000000001000015989' ,  '000000001000119223' ,  '000000001000179463' ,  '000000001000210750' ,  '000000001000123450' ,  '000000001000164647' ,  '000000001000012792' ,  '000000001000015963' ,  '000000001000039137' ,  '000000001000118154' ,  '000000001000008130' ,  '000000001000008146' ,  '000000001000015997' ,  '000000001000022033' ,  '000000001000110399' ,  '000000001000128255' ,  '000000001000176592' ,  '000000001000008056' ,  '000000001000022562' ,  '000000001000022708' ,  '000000001000016017' ,  '000000001000213909' ,  '000000001000092125' ,  '000000001000178027' ,  '000000001000022585' ,  '000000001000164526' ,  '000000001000006375' ,  '000000001000022542' ,  '000000001000116763' ,  '000000001000117127' ,  '000000001000022392' ,  '000000001000123457' ,  '000000001000129336' ,  '000000001000183952' ,  '000000001000054605' ,  '000000001000069675' ,  '000000001000091263' ,  '000000001000173491' ,  '000000001000007393' ,  '000000001000006085' ,  '000000001000012821' ,  '000000001000008017' ,  '000000001000039133' ,  '000000001000139406' ,  '000000001000007592' ,  '000000001000119666' ,  '000000001000123856' ,  '000000001000167293' ,  '000000001000178560' ,  '000000001000178639' ,  '000000001000007405' ,  '000000001000008170' ,  '000000001000008518' ,  '000000001000015943' ,  '000000001000118981' ,  '000000001000008012' ,  '000000001000139473' ,  '000000001000016029' ,  '000000001000086499' ,  '000000001000112678' ,  '000000001000116645' ,  '000000001000117727' ,  '000000001000127963' ,  '000000001000192625' ,  '000000001000007722' ,  '000000001000092145' ,  '000000001000176710' ,  '000000001000118957' ,  '000000001000005726' ,  '000000001000008185' ,  '000000001000048012' ,  '000000001000110460' ,  '000000001000008035' ,  '000000001000021903' ,  '000000001000050873' ,  '000000001000079665' ,  '000000001000091516' ,  '000000001000151257' ,  '000000001000187565' ,  '000000001000006757' ,  '000000001000016125' ,  '000000001000016036' ,  '000000001000022466' ,  '000000001000153533' ,  '000000001000008000' ,  '000000001000173700' ,  '000000001000014946' ,  '000000001000033640' ,  '000000001000114123' ,  '000000001000127878' ,  '000000001000161914' ,  '000000001000199056' ,  '000000001000008014' ,  '000000001000008049' ,  '000000001000153557' ,  '000000001000176445' ,  '000000001000114009' ,  '000000001000123451' ,  '000000001000178634' ,  '000000001000006102' ,  '000000001000016124' ,  '000000001000016130' ,  '000000001000048010' ,  '000000001000163167' ,  '000000001000179044' ,  '000000001000008754' ,  '000000001000118250' ,  '000000001000118309' ,  '000000001000123755' ,  '000000001000182665' ,  '000000001000008833' ,  '000000001000054035' ,  '000000001000133273' ,  '000000001000184269' ,  '000000001000012658' ,  '000000001000079876' ,  '000000001000126497' ,  '000000001000007447' ,  '000000001000176719' ,  '000000001000006087' ,  '000000001000006083' ,  '000000001000086544' ,  '000000001000129713' ,  '000000001000176744' ,  '000000001000006715' ,  '000000001000007717' ,  '000000001000008019' ,  '000000001000022578' ,  '000000001000153532' ,  '000000001000127486' ,  '000000001000012462' ,  '000000001000027428' ,  '000000001000062031' ,  '000000001000123504' ,  '000000001000007448' ,  '000000001000016060' ,  '000000001000021892' ,  '000000001000127863' ,  '000000001000176584' ,  '000000001000007798' ,  '000000001000008058' ,  '000000001000015909' ,  '000000001000015960' ,  '000000001000110002' ,  '000000001000119823' ,  '000000001000181277' ,  '000000001000182529' ,  '000000001000006755' ,  '000000001000007057' ,  '000000001000008071' ,  '000000001000150718' ,  '000000001000016047' ,  '000000001000064496' ,  '000000001000161916' ,  '000000001000024887' ,  '000000001000027400' ,  '000000001000006090' ,  '000000001000039141' ,  '000000001000123272' ,  '000000001000007546' ,  '000000001000007577' ,  '000000001000015944' ,  '000000001000117393' ,  '000000001000006086' ,  '000000001000008105' ,  '000000001000022292' ,  '000000001000048017' ,  '000000001000165563' ,  '000000001000015756' ,  '000000001000016116' ,  '000000001000028818' ,  '000000001000129699' ,  '000000001000169675' ,  '000000001000008033' ,  '000000001000064696' ,  '000000001000112668' ,  '000000001000147842' ,  '000000001000008007' ,  '000000001000171334' ,  '000000001000005769' ,  '000000001000008823' ,  '000000001000015713' ,  '000000001000110328' ,  '000000001000117282' ,  '000000001000174093' ,  '000000001000112669' ,  '000000001000147134' ,  '000000001000157002' ,  '000000001000008514' ,  '000000001000008529' ,  '000000001000063419' ,  '000000001000171358' ,  '000000001000176687' ,  '000000001000022573' ,  '000000001000028505' ,  '000000001000007446' ,  '000000001000012754' ,  '000000001000086500' ,  '000000001000113287' ,  '000000001000184298' ,  '000000001000015549' ,  '000000001000171151' ,  '000000001000183932' ,  '000000001000008770' ,  '000000001000016019' ,  '000000001000024954' ,  '000000001000006076' ,  '000000001000008037' ,  '000000001000091298' ,  '000000001000117699' ,  '000000001000118291' ,  '000000001000123195' ,  '000000001000177744' ,  '000000001000128138' ,  '000000001000138434' ,  '000000001000022030' ,  '000000001000039157' ,  '000000001000037756' ,  '000000001000114867' ,  '000000001000117136' ,  '000000001000007430' ,  '000000001000012567' ,  '000000001000012769' ,  '000000001000050869' ,  '000000001000000145' ,  '000000001000008194' ,  '000000001000016015' ,  '000000001000074998' ,  '000000001000124790' ,  '000000001000064493' ,  '000000001000117126' ,  '000000001000174653' ,  '000000001000183890' ,  '000000001000015662' ,  '000000001000053657' ,  '000000001000092323' ,  '000000001000116756' ,  '000000001000174110' ,  '000000001000015891' ,  '000000001000110005' ,  '000000001000005222' ,  '000000001000008492' ,  '000000001000104232' ,  '000000001000134698' ,  '000000001000151692' ,  '000000001000128962' ,  '000000001000213915' ,  '000000001000007072' ,  '000000001000008016' ,  '000000001000022386' ,  '000000001000121906' ,  '000000001000117186' ,  '000000001000161915' ,  '000000001000008757' ,  '000000001000027357' ,  '000000001000135305' ,  '000000001000183955' ,  '000000001000197021' ,  '000000001000006348' ,  '000000001000062044' ,  '000000001000075018' ,  '000000001000117325' ,  '000000001000182809' ,  '000000001000199045' ,  '000000001000022560' ,  '000000001000113606' ,  '000000001000123760' ,  '000000001000012813' ,  '000000001000123744' ,  '000000001000178060' ,  '000000001000065733' ,  '000000001000125111' ,  '000000001000123447' ,  '000000001000007056' ,  '000000001000008526' ,  '000000001000050866' ,  '000000001000117156' ,  '000000001000071065' ,  '000000001000119692' ,  '000000001000008034' ,  '000000001000015695' ,  '000000001000034876' ,  '000000001000062034' ,  '000000001000076401' ,  '000000001000110397' ,  '000000001000113304' ,  '000000001000190204' ,  '000000001000024284' ,  '000000001000126923' ,  '000000001000048005' ,  '000000001000076720' ,  '000000001000109884' ,  '000000001000008482' ,  '000000001000122530' ,  '000000001000134688' ,  '000000001000006756' ,  '000000001000123817' ,  '000000001000124194' ,  '000000001000164525' ,  '000000001000008078' ,  '000000001000012442' ,  '000000001000012685' ,  '000000001000119769' ,  '000000001000012814' ,  '000000001000015678' ,  '000000001000008758' ,  '000000001000065719' ,  '000000001000094982' ,  '000000001000095038' ,  '000000001000118141' ,  '000000001000118984' ,  '000000001000186801' ,  '000000001000200167' ,  '000000001000005775' ,  '000000001000022385' ,  '000000001000008195' ,  '000000001000039246' ,  '000000001000007436' ,  '000000001000008715' ,  '000000001000129708' ,  '000000001000123854' ,  '000000001000179460' ,  '000000001000022391' ,  '000000001000022710' ,  '000000001000123152' ,  '000000001000016026' ,  '000000001000131853' ,  '000000001000188886' ,  '000000001000022387' ,  '000000001000025086' ,  '000000001000079655' ,  '000000001000007033' ,  '000000001000022586' ,  '000000001000123392' ,  '000000001000008143' ,  '000000001000110431' ,  '000000001000123430' ,  '000000001000123774' ,  '000000001000124202' ,  '000000001000063648' ,  '000000001000118958' ,  '000000001000123773' ,  '000000001000123818' ,  '000000001000178629' ,  '000000001000226298' ,  '000000001000007597' ,  '000000001000012676' ,  '000000001000016020' ,  '000000001000024940' ,  '000000001000047957' ,  '000000001000016201' ,  '000000001000188888' ,  '000000001000012855' ,  '000000001000015616' ,  '000000001000021861' ,  '000000001000006713' ,  '000000001000109909' ,  '000000001000153525' ,  '000000001000167292' ,  '000000001000179473'\n"
     ]
    }
   ],
   "source": [
    "print(final_list)"
   ],
   "metadata": {
    "collapsed": false,
    "pycharm": {
     "name": "#%%\n"
    }
   }
  },
  {
   "cell_type": "code",
   "execution_count": 28,
   "outputs": [],
   "source": [
    "campaign_flag = \"\"\"SELECT item_code,item_campaign_category, item_campaign_key, item_campaign_label\n",
    "                    FROM dwh.public.item_catalog\n",
    "                    WHERE item_code in ({FINAL_LIST})\n",
    "                        and app_domain_id=1 \"\"\".format(FINAL_LIST=final_list)\n",
    "\n"
   ],
   "metadata": {
    "collapsed": false,
    "pycharm": {
     "name": "#%%\n"
    }
   }
  },
  {
   "cell_type": "code",
   "execution_count": 29,
   "outputs": [
    {
     "name": "stdout",
     "output_type": "stream",
     "text": [
      "['item_code', 'item_campaign_category', 'item_campaign_key', 'item_campaign_label']\n"
     ]
    }
   ],
   "source": [
    "df_campaign = query_to_dataframe(cursor_redshift, campaign_flag)\n",
    "\n"
   ],
   "metadata": {
    "collapsed": false,
    "pycharm": {
     "name": "#%%\n"
    }
   }
  },
  {
   "cell_type": "code",
   "execution_count": 30,
   "outputs": [
    {
     "data": {
      "text/plain": "            item_code item_campaign_category item_campaign_key  \\\n0  000000001000007385             2020061801           sidewow   \n1  000000001000007717                                 garden12   \n2  000000001000008770             2020061801           sidewow   \n3  000000001000008815                                            \n4  000000001000012754                         crm-skandideluxe   \n\n  item_campaign_label  \n0         EXTRA -12 %  \n1         EXTRA -12 %  \n2         EXTRA -12 %  \n3                      \n4                 crm  ",
      "text/html": "<div>\n<style scoped>\n    .dataframe tbody tr th:only-of-type {\n        vertical-align: middle;\n    }\n\n    .dataframe tbody tr th {\n        vertical-align: top;\n    }\n\n    .dataframe thead th {\n        text-align: right;\n    }\n</style>\n<table border=\"1\" class=\"dataframe\">\n  <thead>\n    <tr style=\"text-align: right;\">\n      <th></th>\n      <th>item_code</th>\n      <th>item_campaign_category</th>\n      <th>item_campaign_key</th>\n      <th>item_campaign_label</th>\n    </tr>\n  </thead>\n  <tbody>\n    <tr>\n      <th>0</th>\n      <td>000000001000007385</td>\n      <td>2020061801</td>\n      <td>sidewow</td>\n      <td>EXTRA -12 %</td>\n    </tr>\n    <tr>\n      <th>1</th>\n      <td>000000001000007717</td>\n      <td></td>\n      <td>garden12</td>\n      <td>EXTRA -12 %</td>\n    </tr>\n    <tr>\n      <th>2</th>\n      <td>000000001000008770</td>\n      <td>2020061801</td>\n      <td>sidewow</td>\n      <td>EXTRA -12 %</td>\n    </tr>\n    <tr>\n      <th>3</th>\n      <td>000000001000008815</td>\n      <td></td>\n      <td></td>\n      <td></td>\n    </tr>\n    <tr>\n      <th>4</th>\n      <td>000000001000012754</td>\n      <td></td>\n      <td>crm-skandideluxe</td>\n      <td>crm</td>\n    </tr>\n  </tbody>\n</table>\n</div>"
     },
     "execution_count": 30,
     "metadata": {},
     "output_type": "execute_result"
    }
   ],
   "source": [
    "df_campaign.head()"
   ],
   "metadata": {
    "collapsed": false,
    "pycharm": {
     "name": "#%%\n"
    }
   }
  },
  {
   "cell_type": "code",
   "execution_count": 31,
   "outputs": [
    {
     "name": "stdout",
     "output_type": "stream",
     "text": [
      "247523697279378,71488185050378,9591881119337,25038272605281,34780482897946,38255991794505,66003517992621,92807562060189,24436568574430,74462021394914,20953685067427,69450844745155,100679798534570,154928563530175,73662191637457,196145403809982,169682504248479,2692801778218,135975807930039,108943076297895,246252078866332,138994088712555,46842188366232,120211027959520,200966160233429,20395642409368,127226683695048,20211508201120,128820719966683,122763093380873,187786938344533,186011930802648,108213988466089,141224110778088,151983822903626,198292212567208,216387891363420,229844485949139,114004594017798,138230763214441,208217315863442,129323200930102,234935292544715,139976088621728,112618974590311,119918308738011,42654719757498,2066942130973,146728563835247,112186534043649,260759150426570,228313132843940,220427820739992,187990528223809,157121327029411,159724038661318,170043872779977,206469256249904,175131193104788,99929938066990,237753328512171,172434730983905,128892152043482,275853413058574,38894203764772,33337140820305,187933000919936,52261297703691,117678961274856,43519991060918,258301027523634,122551537412102,155541362292937,207973439231826,114870748347904,231320324933583,155335976186971,208839644178623,259225594075877,145092394774507,178117027160469,122852719934137,40600078796222,12266273821396,46777765603668,33705088178790,150234808602526,193805536010638,243711583123936,334741852012,21230624892838,272585357974472,240663993920799,276748653582874,214537856349442,193965148837658,197309312386423,79244817724690,145729679157584,268820259706070,129532752091524,249992649050054,242711281131014,237087986828394,111468949671615,9035724444596,195300073118248,24941311350710,150559803859725,30665665923141,19821460454327,248701551637707,253450727554160,158929177295243,129324595043880,179304691953073,225193567899707,148567268114659,160069753483773,25872685387946,8199572265134,212335951089404,280405675172418,46566709943353,261038671724774,168130736529890,67582320822294,256427297067491,272236947247337,101610859166342,186419994568911,106784211493378,144661034357412,37143918336671,76259323823003,280236223876035,114456887640461,61438661468234,274614720789317,267978314001215,156034130589512,240490083680411,29009512530747,162783582248875,130287756272114,247342516133910,54820617361654,103599874648533,237415504332616,42546890156722,52972621812757,110658339312980,278723050144937,249821281061092,70775308640469,131717246601692,220656341027182,223048256413542,100880329635660,133042799683279,255537420255320,237717633339234,153534193828197,262837910242600,186084745019701,78247410979667,124649577165259,217412946975163,43690124958978,172371109644420,25648895772245,77413333651120,244557555544119,277771169659235,240517819235363,54367664865911,224379213048008,224970205531626,131991043960473,168859665868424,229489756010420,247258750081040,127923727173915,41838833317293,177867612436569,179726595227046,280167192314378,68042752144878,55282382078485,190012131450742,46804181544601,85072271713330,262839123975955,74791779574524,17364828398359,56514497656749,171547641991926,280897218701764,8684066029172,249795300228272,76830606155097,37308455990754,67351262357493,254452344890500,231630093951941,3084842360059,192860619495930,210004706971224,66638276848471,361263665728,28206605692982,110730616868341,127985423490653,106575019702418,265222387595124,94294509514732,87796177263399,17206497755234,8217810429632,360969770608,23581714749905,49181536255241,195947062260022,62027153462597,185382822967255,85534997553785,130746555786740,242414134009858,4679187658941,166597534785698,243025461615057,211019409602478,64266339186502,242775108143777,191901280879268,195324529868591,180637755967801,156892027158444,131609155817558,114497512087798,258019616606963,263000659110271,159783266443916,5513234055296,73579963076183,40064799058107,9784488727117,103430505949823,144801863390186,257589061091375,151232670357743,174553241483844,87353603854685,150969302386654,190907462373673,126474258939818,71639128058520,276557436881830,274649188172684,106527189114009,32439642919942,218467466723115,4743687304473,194399097775254,203295642736114,220272398836685,227489380897240,155578817996563,264156507032532,250099917074037,130898365313300,217516047981029,107577203039115,208201507135881,176215530395166,274075713909269,102053495782000,50643552316946,83189263464546,197826514460138,226056970266229,125636880853906,224168963060410,46930535585967,39417935889339,176799387526875,230148732147853,205675266232694,119192712739075,219820037295230,16439374755079,68863405493505,125941064751487,231395848729199,231742782865803,198989234815505,112690398467178,34464922734439,202286836886376,273296986673338,212977385322722,220104350403679,228755825764127,164959753695682,87754582392444,225886641249898,162793803195499,6710010110942,119015485745674,82615301559630,220732636744901,216361572479715,67130592224033,159138380923629,51126360439840,140675761544268,109907397386514,239413401716274,223580265422335,15837031295463,8403177563876,13324091265648,28428714014044,130341282058175,250112953447129,246848932339739,241269647600955,263392468867237,101540004679971,66236478610215,83209366763861,40898643840062,175078134472797,84423349855069,189901990951973,192252758064061,212381532442249,55802229332412,194277474485047,170248428817467,198025059863765,105187647955746,254952496345729,202498930410110,229616101357016,266606750985776,54358093789905,135548881433591,10212811239854,266783578959943,172564674893084,158973162756363,265012382185854,255803968009345,254554288254123,248026461387288,104658229113950,51441865290601,246114879238165,194513254478283,140969050031134,188268432019601,73917799795659,79748064182968,276201728464948,99173985444052,159873254216576,25295960929925,131356342332379,157741570084238,22243884870493,223092578644750,203430210265916,179554901995022,52510706281744,193304607250034,233940582917090,67516613153376,136337577988108,135793771261175,116775162581637,183343538453397,127240573060788,204805912778231,201762283033909,264710645918837,200831613914288,107287824426750,231903116515667,193110271702219,246955615942631,250156088257373,33509490766833,156196301036531,58236295175808,245668566461211,263963232869559,223758850285871,182292294267983,62283380424214,44571462757542,145009688375028,242734206834418,139144004332886,132154195753589,81708851723990,28193404316663,144192246497840,208283314508376,207772490510482,271490005348332,214765453134470,42804983606192,128329036768132,100955898072523,118009898234949,163291541413366,113694964607092,278588316198970,273734211932880,66963783882478,122688511489876,213349118036031,248127394187482,115172300350033,239757370327626,202926279592062,120606266757622,67976616944208,222759424742819,99539138836860,265520204304909,159984119783390,76251561769083,85283376495454,181688688290343,66629321797248,71117618882083,144786489259905,19058872057974,221972753085993,53156434769451,9054193971115,37573399998073,263118660995533,117060631087130,31962195432248,60216053946774,202710630144928,131154744200637,113194346280461,274294188006762,230404099404235,172387483105216,281220082101072,32288152001464,102966511094370,195343614806418,206330810754823,227544061148279,58944316031565,227939764543732,225852146365268,169339544452094,137051231107740,113586006834701,272069589615886,25604358630496,38069159201644,151962763295018,43674745588476,134848287063586,230875670340,47267081206564,256952634820831,57280719065297,226836511614723,97047154850474,11588758900108,125275364833788,81404086970392,153561441439123,165617980367623,182046393780247,245994076064426,82501599420782,234649803809926,239171034887123,126726639276166,225062353574294,163684869132783,28967904551963,106757428346985,212988324181707,169278023694598,8720923924658,40063326901032,84890945821922,123693257177821,223750516697987,41788660037773,186043018712948,120996514956594,265696845435310,82618853258736,267622274565702,69117060001748,192815737621959,234605401484709,150695347425397,21796710868464,222434064907901,253245334995850,171526647937477,221863924027536,26801050195300,215776386515910,273254869476,192895494803839,246732930388974,18552714471770,266082742268048,119375879681148,76887057725394,186379332323327,41916326130177,213208340176149,250610225331033,114989301623070,211691046659577,130039506121902,259271869553144,63408354926053,202283652818525,36547654754278,79901715274133,216885186720544,259393652335166,156552484593166,173098439216288,7207872307743,55817732494820,92823342602427,96629520669002,174065942265267,68297149207901,97447041664339,90807004529049,137181740983392,3330130587640,50117879007341,206494889865216,184992540849594,204342988700328,270303459201655,273147568020627,237879031537005,49187826093122,219696395721183,6438233210568,181399470032847,214919223070503,35113005783351,6572744456707,102471488739350,225928783089682,102104125242641,206999846838170,52826002028388,173013166080805,163032588387671,225327220533995,166993346607397,68666392103769,68721651252160,246338629370797,121004419482036,176003381057305,248471135498298,247288384410249,15649807261442,99585779467094,225990138262107,166064183242809,68993858578946,229926417895469,253803324183158,122224109464650,137927041100483,113895476085976,186723497900747,137222611778968,87000202965261,236736047927002,277692488431065,112051669067364,48698321559027,13609939244188,71616981912448,138035519331961,160593684266953,111722517234505,230451663783282,110432679644198,35724202108659,279956010579014,142441836666160\n"
     ]
    }
   ],
   "source": [
    "item_skey_list = list(pd_d_item_margin['item_skey'])\n",
    "string_ints = [str(int) for int in item_skey_list]\n",
    "str_of_ints = \",\".join(string_ints)\n",
    "print(str_of_ints)\n",
    "\n"
   ],
   "metadata": {
    "collapsed": false,
    "pycharm": {
     "name": "#%%\n"
    }
   }
  },
  {
   "cell_type": "code",
   "execution_count": 32,
   "outputs": [],
   "source": [
    "last_price_rule = \"\"\"\n",
    "SELECT item_skey, item_final_price_rule, period_date_skey--item_final_price_rule\n",
    "  from dwh.star_analytical.f_item_attribute_history\n",
    " where shop_skey = 1\n",
    "   and period_date_skey = (SELECT MAX(period_date_skey)\n",
    "                             FROM dwh.star_analytical.f_item_attribute_history)\n",
    "   and item_skey in ({ITEM_SKEY})\n",
    "\"\"\".format(ITEM_SKEY=str_of_ints)"
   ],
   "metadata": {
    "collapsed": false,
    "pycharm": {
     "name": "#%%\n"
    }
   }
  },
  {
   "cell_type": "code",
   "execution_count": 33,
   "outputs": [
    {
     "name": "stdout",
     "output_type": "stream",
     "text": [
      "['item_skey', 'item_final_price_rule', 'period_date_skey']\n"
     ]
    }
   ],
   "source": [
    "df_last_price_rule = query_to_dataframe(cursor_redshift, last_price_rule)"
   ],
   "metadata": {
    "collapsed": false,
    "pycharm": {
     "name": "#%%\n"
    }
   }
  },
  {
   "cell_type": "code",
   "execution_count": 34,
   "outputs": [],
   "source": [
    "sp_last_price_rule = spark.createDataFrame(df_last_price_rule)\n",
    "sp_last_price_rule.createOrReplaceTempView('last_price_rule')\n",
    "sp_campaign = spark.createDataFrame(df_campaign)\n",
    "sp_campaign.createOrReplaceTempView('campaign')"
   ],
   "metadata": {
    "collapsed": false,
    "pycharm": {
     "name": "#%%\n"
    }
   }
  },
  {
   "cell_type": "code",
   "execution_count": 35,
   "outputs": [],
   "source": [
    "final_df_margin = spark.sql(\"\"\"SELECT im.*,\n",
    "                    lpr.item_final_price_rule,\n",
    "                    camp.item_campaign_key,\n",
    "                    camp.item_campaign_label\n",
    "                    from item_margin as im\n",
    "                    INNER JOIN last_price_rule as lpr on lpr.item_skey = im.item_skey\n",
    "                    INNER JOIN campaign as camp on CAST(camp.item_code as int) = im.item_code\n",
    "                    \"\"\")"
   ],
   "metadata": {
    "collapsed": false,
    "pycharm": {
     "name": "#%%\n"
    }
   }
  },
  {
   "cell_type": "code",
   "execution_count": 36,
   "outputs": [
    {
     "name": "stdout",
     "output_type": "stream",
     "text": [
      "+----------+------------+------------------+--------------------+--------------------+------+------------------+---------------------+--------------------+-------------------+--------------------+------------------+---------------+---------+---------------------+------------------+--------------------+\n",
      "| item_code|actual_price|     optimal_price| Margin_rate_to_base|                  PE|PE_err|               pc2|item_parent_item_code|  item_main_category|item_inventory_flag|item_gtin_comparable|  item_exclusivity|      item_skey|pc1_costs|item_final_price_rule| item_campaign_key| item_campaign_label|\n",
      "+----------+------------+------------------+--------------------+--------------------+------+------------------+---------------------+--------------------+-------------------+--------------------+------------------+---------------+---------+---------------------+------------------+--------------------+\n",
      "|1000007776|      269.99|262.01058960276174| 0.09539999999997688|             -0.0318|0.0045|             143.5| 000000001000007776-P|              GARTEN|               laso|      non-comparable|        whiteLabel|275853413058574|   92.870|           catloaf-v4|          garden12|         EXTRA -12 %|\n",
      "|1000016121|      249.99|245.03986633995572|0.021200000000009708|             -0.0106|0.0026|            128.19|   000000008000001098|ESSZIMMERSTÜHLE&B...|               laso|          comparable|        whiteLabel| 40600078796222|  100.330|           catloaf-v4|           sidewow|         EXTRA -12 %|\n",
      "|1000213909|      549.99| 539.0994683319824|0.031799999999967535|             -0.0159| 0.005|           356.069|   000000008000006470|              BETTEN|               laso|          comparable|thirdPartyBrandNew|264156507032532|  279.649|      competitorGS-v6|                  |                    |\n",
      "|1000006102|       85.99| 84.28728391764788| 0.07920000000001176|             -0.0396|0.0087|            39.619|   000000008000000264|ESSZIMMERSTÜHLE&B...|               laso|      non-comparable|        whiteLabel| 54358093789905|   32.280|           catloaf-v4|                  |                    |\n",
      "|1000037846|      139.99| 137.2180122762127| 0.11399999999999845|              -0.057|0.0155|            80.959|   000000008000004105|MATRATZEN&LATTENR...|               laso|          comparable|   thirdPartyBrand|265222387595124|   73.420|           catloaf-v4|                  |                    |\n",
      "|1000015924|      129.99|127.41602554314512|0.021399999999998122|             -0.0107|0.0021|            77.359|   000000008000020898|              WOHNEN|               laso|          comparable|        whiteLabel|225193567899707|   69.069|           catloaf-v4|                  |                    |\n",
      "|1000128255|       69.99| 68.60410514473979| 0.08479999999999026|             -0.0424|0.0071|             26.59|   000000008000017374|            LEUCHTEN|               laso|      non-comparable|        whiteLabel|  4743687304473|   19.359|           catloaf-v4|           sidewow|         EXTRA -12 %|\n",
      "|1000006755|      379.99|  372.465693869834|0.020599999999996444|             -0.0103|0.0022|            127.72|   000000008000000334|              WOHNEN|               laso|      non-comparable|         exclusive| 58236295175808|   76.799|           catloaf-v4|           sidewow|         EXTRA -12 %|\n",
      "|1000007403|      299.99| 294.0498000052935| 0.03199999999999764|              -0.016|0.0045|159.94899999999998| 000000001000007403-P|     ESSZIMMERTISCHE|             former|      non-comparable|        whiteLabel|114456887640461|  120.319|            former-v5|     wow12|sidewow|EXTRA -12 %|EXTRA...|\n",
      "|1000008492|      139.99| 137.2180122762127| 0.05619999999999932|             -0.0281|0.0066|53.288999999999994|   000000008000000530|ESSZIMMERSTÜHLE&B...|               laso|      non-comparable|        whiteLabel|126726639276166|   45.299|           catloaf-v4|                  |                    |\n",
      "|1000014946|     1099.99|1078.2087386506978|0.023600000000010654|             -0.0118|0.0031|            469.37| 000000001000014946-P|              WOHNEN|               laso|          comparable|        whiteLabel| 84423349855069|  417.050|           catloaf-v4|                  |                    |\n",
      "|1000015609|      149.99|147.01999900928024|  0.0251999999999923|             -0.0126|0.0031|             98.68| 000000001000015609-P|     ESSZIMMERTISCHE|               laso|          comparable|        whiteLabel|155541362292937|   70.400|           catloaf-v4|                  |                    |\n",
      "|1000123272|      329.99| 323.4557602044962| 0.02659999999999507|             -0.0133|0.0023|181.78900000000002|   000000008000016605|                BÜRO|               laso|          comparable|        whiteLabel| 81708851723990|  130.410|          fallback-v3|                  |                    |\n",
      "|1000022562|      164.99|160.11380858016838|  0.2219999999999979|-0.07400000000000001|0.0102|              89.0|   000000008000001977|MATRATZEN&LATTENR...|               laso|          comparable|   thirdPartyBrand|220272398836685|   53.250|           catloaf-v4|     wow12|sidewow|EXTRA -12 %|EXTRA...|\n",
      "|1000027400|      124.99|122.51503217661131| 0.07120000000001303|             -0.0356|0.0111|             67.68|   000000008000002431|ESSZIMMERSTÜHLE&B...|               laso|          comparable|        whiteLabel|242734206834418|   59.109|           catloaf-v4|     wow12|sidewow|EXTRA -12 %|EXTRA...|\n",
      "|1000094982|      399.99| 392.0696673359689| 0.03679999999998502|             -0.0184|0.0038|            181.46|   000000008000023135|              WOHNEN|            riskshs|          comparable|   thirdPartyBrand|270303459201655|  159.139|           catloaf-v4|wow12|sidewow|test|EXTRA -12 %|EXTRA...|\n",
      "|1000129700|       94.99| 93.10907197740869| 0.03339999999997274|             -0.0167|0.0038|             57.82|   000000008000017684|              WOHNEN|               laso|          comparable|        whiteLabel|229489756010420|   50.649|      competitorGS-v6|wow12|sidewow|test|EXTRA -12 %|EXTRA...|\n",
      "|1000186801|      599.99| 588.1094019973201|0.031599999999979006|             -0.0158|0.0031|            199.16| 000000001000186801-P|              WOHNEN|               laso|      non-comparable|        whiteLabel|219696395721183|  155.880|          fallback-v3|                  |                    |\n",
      "|1000008038|      399.99| 392.0696673359689|0.018600000000011246|             -0.0093| 0.003|           151.139|   000000008000000490|     ESSZIMMERTISCHE|               laso|      non-comparable|         exclusive| 54367664865911|  104.470|           catloaf-v4|                  |                    |\n",
      "|1000039141|      189.99|186.22794594155044| 0.04559999999999742|             -0.0228|0.0059|           104.959| 000000001000039141-P|   SCHLAFZIMMERMÖBEL|               laso|      non-comparable|         exclusive|132154195753589|   77.760|           catloaf-v4|                  |                    |\n",
      "+----------+------------+------------------+--------------------+--------------------+------+------------------+---------------------+--------------------+-------------------+--------------------+------------------+---------------+---------+---------------------+------------------+--------------------+\n",
      "only showing top 20 rows\n",
      "\n"
     ]
    }
   ],
   "source": [
    "final_df_margin.show()"
   ],
   "metadata": {
    "collapsed": false,
    "pycharm": {
     "name": "#%%\n"
    }
   }
  },
  {
   "cell_type": "code",
   "execution_count": 37,
   "outputs": [],
   "source": [
    "df_margin_panda= final_df_margin.toPandas()\n"
   ],
   "metadata": {
    "collapsed": false,
    "pycharm": {
     "name": "#%%\n"
    }
   }
  },
  {
   "cell_type": "code",
   "execution_count": 38,
   "outputs": [],
   "source": [
    "df_wow = df_margin_panda[df_margin_panda['item_campaign_key'].str.contains('wow')]"
   ],
   "metadata": {
    "collapsed": false,
    "pycharm": {
     "name": "#%%\n"
    }
   }
  },
  {
   "cell_type": "code",
   "execution_count": 39,
   "outputs": [
    {
     "name": "stdout",
     "output_type": "stream",
     "text": [
      "291\n"
     ]
    }
   ],
   "source": [
    "print(len(df_wow['item_code']))"
   ],
   "metadata": {
    "collapsed": false,
    "pycharm": {
     "name": "#%%\n"
    }
   }
  },
  {
   "cell_type": "code",
   "execution_count": 40,
   "outputs": [],
   "source": [
    "df_not_wow = df_margin_panda[~df_margin_panda['item_campaign_key'].str.contains('wow')]"
   ],
   "metadata": {
    "collapsed": false,
    "pycharm": {
     "name": "#%%\n"
    }
   }
  },
  {
   "cell_type": "code",
   "execution_count": 41,
   "outputs": [
    {
     "name": "stdout",
     "output_type": "stream",
     "text": [
      "316\n"
     ]
    }
   ],
   "source": [
    "print(len(df_not_wow))"
   ],
   "metadata": {
    "collapsed": false,
    "pycharm": {
     "name": "#%%\n"
    }
   }
  },
  {
   "cell_type": "code",
   "execution_count": 42,
   "outputs": [],
   "source": [
    "df_not_wow_sa = df_not_wow[df_not_wow['item_parent_item_code'].str.contains('-P')]"
   ],
   "metadata": {
    "collapsed": false,
    "pycharm": {
     "name": "#%%\n"
    }
   }
  },
  {
   "cell_type": "code",
   "execution_count": 43,
   "outputs": [
    {
     "name": "stdout",
     "output_type": "stream",
     "text": [
      "122\n"
     ]
    }
   ],
   "source": [
    "print(len(df_not_wow_sa))"
   ],
   "metadata": {
    "collapsed": false,
    "pycharm": {
     "name": "#%%\n"
    }
   }
  },
  {
   "cell_type": "code",
   "execution_count": 44,
   "outputs": [],
   "source": [
    "df_sa = df_margin_panda[df_margin_panda['item_parent_item_code'].str.contains('-P')]"
   ],
   "metadata": {
    "collapsed": false,
    "pycharm": {
     "name": "#%%\n"
    }
   }
  },
  {
   "cell_type": "code",
   "execution_count": 45,
   "outputs": [
    {
     "name": "stdout",
     "output_type": "stream",
     "text": [
      "221\n"
     ]
    }
   ],
   "source": [
    "print(df_sa['item_code'].nunique())"
   ],
   "metadata": {
    "collapsed": false,
    "pycharm": {
     "name": "#%%\n"
    }
   }
  },
  {
   "cell_type": "code",
   "execution_count": 46,
   "outputs": [
    {
     "name": "stdout",
     "output_type": "stream",
     "text": [
      "221\n"
     ]
    }
   ],
   "source": [
    "print(len(df_sa['item_code'].index))"
   ],
   "metadata": {
    "collapsed": false,
    "pycharm": {
     "name": "#%%\n"
    }
   }
  },
  {
   "cell_type": "code",
   "execution_count": 47,
   "outputs": [],
   "source": [
    "\n",
    "df_margin_panda.to_csv('../raw_data/Excel_files/Margin_result_all_in_20210226.csv')"
   ],
   "metadata": {
    "collapsed": false,
    "pycharm": {
     "name": "#%%\n"
    }
   }
  },
  {
   "cell_type": "code",
   "execution_count": 48,
   "outputs": [],
   "source": [
    "df_sa.to_csv('../raw_data/Excel_files/Margin_result_sa_20210226.csv')\n"
   ],
   "metadata": {
    "collapsed": false,
    "pycharm": {
     "name": "#%%\n"
    }
   }
  },
  {
   "cell_type": "code",
   "execution_count": 49,
   "outputs": [],
   "source": [
    "shuffled = df_sa.sample(frac=1)\n",
    "result = np.array_split(shuffled, 3)\n",
    "\n",
    "two_third = pd.concat([result[0], result[1]])\n",
    "\n",
    "two_third.to_csv('../raw_data/Excel_files/Margin_result_sa_test_20210226.csv')\n",
    "result[2].to_csv('../raw_data/Excel_files/Margin_result_sa_control_20210226.csv')\n",
    "\n"
   ],
   "metadata": {
    "collapsed": false,
    "pycharm": {
     "name": "#%%\n"
    }
   }
  },
  {
   "cell_type": "code",
   "execution_count": 49,
   "outputs": [],
   "source": [],
   "metadata": {
    "collapsed": false,
    "pycharm": {
     "name": "#%%\n"
    }
   }
  }
 ],
 "metadata": {
  "kernelspec": {
   "display_name": "Python 3",
   "language": "python",
   "name": "python3"
  },
  "language_info": {
   "codemirror_mode": {
    "name": "ipython",
    "version": 2
   },
   "file_extension": ".py",
   "mimetype": "text/x-python",
   "name": "python",
   "nbconvert_exporter": "python",
   "pygments_lexer": "ipython2",
   "version": "2.7.6"
  }
 },
 "nbformat": 4,
 "nbformat_minor": 0
}