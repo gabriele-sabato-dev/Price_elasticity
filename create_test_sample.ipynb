{
 "cells": [
  {
   "cell_type": "code",
   "execution_count": 186,
   "metadata": {
    "collapsed": true
   },
   "outputs": [],
   "source": [
    "import pandas as pd\n",
    "import numpy as np"
   ]
  },
  {
   "cell_type": "code",
   "execution_count": 187,
   "outputs": [],
   "source": [
    "df_final = pd.read_csv('../raw_data/Excel_files/Margin_result_PE_analysis_PC2.csv')"
   ],
   "metadata": {
    "collapsed": false,
    "pycharm": {
     "name": "#%%\n"
    }
   }
  },
  {
   "cell_type": "code",
   "execution_count": 188,
   "outputs": [
    {
     "name": "stdout",
     "output_type": "stream",
     "text": [
      "   Unnamed: 0   item_code  avg_conv_rate  last_price   last_date  \\\n",
      "0           0  1000024320       0.067821      119.99  2020-12-01   \n",
      "1           1  1000005727       0.029961       99.99  2020-12-09   \n",
      "2           2  1000007822       0.019591      279.99  2020-05-27   \n",
      "3           3  1000114877       0.014925      179.99  2020-12-09   \n",
      "4           5  1000008470       0.043734       99.99  2020-12-09   \n",
      "\n",
      "   avg_unique_views      PE  PE_err      pc2  price_down  conv_rate_down  \\\n",
      "0         22.354839 -0.0854  0.0180   65.109  117.614039        0.067937   \n",
      "1        176.119048 -0.0460  0.0073   41.450   97.034849        0.030002   \n",
      "2        112.271605 -0.0246  0.0073  109.170  274.445827        0.019600   \n",
      "3        193.820216 -0.0218  0.0049   77.859  176.425959        0.014932   \n",
      "4         87.135135 -0.0643  0.0105   49.380   97.034849        0.043819   \n",
      "\n",
      "   conv_rate_down_err  Delta_price  Margin_down  Margin_base  Margin_down_err  \\\n",
      "0            0.000024    35.722933    54.253161    54.160575         0.019531   \n",
      "1            0.000007    42.575210   224.963375   224.653140         0.049267   \n",
      "2            0.000003   126.115714   277.527562   277.391052         0.040519   \n",
      "3            0.000001    73.393101   212.405162   212.312573         0.020816   \n",
      "4            0.000014    34.645210   132.281266   132.026341         0.041669   \n",
      "\n",
      "  Group_flag  Margin_last  Margin_rate_to_base  \n",
      "0    neutral    54.206848             0.001708  \n",
      "1    neutral   224.859916             0.001380  \n",
      "2    neutral   277.459298             0.000492  \n",
      "3    neutral   212.358862             0.000436  \n",
      "4    neutral   132.196236             0.001929  \n"
     ]
    }
   ],
   "source": [
    "print(df_final.head())"
   ],
   "metadata": {
    "collapsed": false,
    "pycharm": {
     "name": "#%%\n"
    }
   }
  },
  {
   "cell_type": "code",
   "execution_count": 189,
   "outputs": [],
   "source": [
    "df_final = df_final[['item_code','last_price','price_down','Margin_rate_to_base','PE','PE_err','pc2']]"
   ],
   "metadata": {
    "collapsed": false,
    "pycharm": {
     "name": "#%%\n"
    }
   }
  },
  {
   "cell_type": "code",
   "execution_count": 190,
   "outputs": [],
   "source": [
    "df_final['Margin_rate_to_base']=df_final['Margin_rate_to_base']*100"
   ],
   "metadata": {
    "collapsed": false,
    "pycharm": {
     "name": "#%%\n"
    }
   }
  },
  {
   "cell_type": "code",
   "execution_count": 191,
   "outputs": [
    {
     "data": {
      "text/plain": "    item_code  last_price  price_down  Margin_rate_to_base      PE  PE_err  \\\n0  1000024320      119.99  117.614039               0.1708 -0.0854  0.0180   \n1  1000005727       99.99   97.034849               0.1380 -0.0460  0.0073   \n2  1000007822      279.99  274.445827               0.0492 -0.0246  0.0073   \n3  1000114877      179.99  176.425959               0.0436 -0.0218  0.0049   \n4  1000008470       99.99   97.034849               0.1929 -0.0643  0.0105   \n\n       pc2  \n0   65.109  \n1   41.450  \n2  109.170  \n3   77.859  \n4   49.380  ",
      "text/html": "<div>\n<style scoped>\n    .dataframe tbody tr th:only-of-type {\n        vertical-align: middle;\n    }\n\n    .dataframe tbody tr th {\n        vertical-align: top;\n    }\n\n    .dataframe thead th {\n        text-align: right;\n    }\n</style>\n<table border=\"1\" class=\"dataframe\">\n  <thead>\n    <tr style=\"text-align: right;\">\n      <th></th>\n      <th>item_code</th>\n      <th>last_price</th>\n      <th>price_down</th>\n      <th>Margin_rate_to_base</th>\n      <th>PE</th>\n      <th>PE_err</th>\n      <th>pc2</th>\n    </tr>\n  </thead>\n  <tbody>\n    <tr>\n      <th>0</th>\n      <td>1000024320</td>\n      <td>119.99</td>\n      <td>117.614039</td>\n      <td>0.1708</td>\n      <td>-0.0854</td>\n      <td>0.0180</td>\n      <td>65.109</td>\n    </tr>\n    <tr>\n      <th>1</th>\n      <td>1000005727</td>\n      <td>99.99</td>\n      <td>97.034849</td>\n      <td>0.1380</td>\n      <td>-0.0460</td>\n      <td>0.0073</td>\n      <td>41.450</td>\n    </tr>\n    <tr>\n      <th>2</th>\n      <td>1000007822</td>\n      <td>279.99</td>\n      <td>274.445827</td>\n      <td>0.0492</td>\n      <td>-0.0246</td>\n      <td>0.0073</td>\n      <td>109.170</td>\n    </tr>\n    <tr>\n      <th>3</th>\n      <td>1000114877</td>\n      <td>179.99</td>\n      <td>176.425959</td>\n      <td>0.0436</td>\n      <td>-0.0218</td>\n      <td>0.0049</td>\n      <td>77.859</td>\n    </tr>\n    <tr>\n      <th>4</th>\n      <td>1000008470</td>\n      <td>99.99</td>\n      <td>97.034849</td>\n      <td>0.1929</td>\n      <td>-0.0643</td>\n      <td>0.0105</td>\n      <td>49.380</td>\n    </tr>\n  </tbody>\n</table>\n</div>"
     },
     "execution_count": 191,
     "metadata": {},
     "output_type": "execute_result"
    }
   ],
   "source": [
    "\n",
    "df_final.head()"
   ],
   "metadata": {
    "collapsed": false,
    "pycharm": {
     "name": "#%%\n"
    }
   }
  },
  {
   "cell_type": "code",
   "execution_count": 192,
   "outputs": [],
   "source": [
    "df_final=df_final.rename(columns={\"last_price\": \"actual_price\", \"price_down\": \"optimal_price\"})"
   ],
   "metadata": {
    "collapsed": false,
    "pycharm": {
     "name": "#%%\n"
    }
   }
  },
  {
   "cell_type": "code",
   "execution_count": 193,
   "outputs": [],
   "source": [
    "from pyspark.sql import SparkSession\n",
    "from pyspark.sql.functions import *\n",
    "spark = SparkSession.builder.master('local').config('spark.driver.memory', '8g').appName('read_tables').getOrCreate()\n"
   ],
   "metadata": {
    "collapsed": false,
    "pycharm": {
     "name": "#%%\n"
    }
   }
  },
  {
   "cell_type": "code",
   "execution_count": 194,
   "outputs": [],
   "source": [
    "df_d_item = spark.read.parquet('/Users/gabriele.sabato/PycharmProjects/raw_data/redshift_tables/d_item/*')\n"
   ],
   "metadata": {
    "collapsed": false,
    "pycharm": {
     "name": "#%%\n"
    }
   }
  },
  {
   "cell_type": "code",
   "execution_count": 195,
   "outputs": [],
   "source": [
    "df_d_item.createOrReplaceTempView('d_item')"
   ],
   "metadata": {
    "collapsed": false,
    "pycharm": {
     "name": "#%%\n"
    }
   }
  },
  {
   "cell_type": "code",
   "execution_count": 196,
   "outputs": [
    {
     "name": "stdout",
     "output_type": "stream",
     "text": [
      "+---------------+------------------+---------------------+-------------+----------------+----------+-------------+-----------+----------+-----------+--------------+-------------+--------------------+----------------------+--------------------+------------------+--------------------+------------------+-------------------+-------------------+---------+--------------------------------+---------------------------------------------+-----------------------+---------------------+------------------------+--------------------------+------------------------+--------------------+-----------+-------------------+------------------+-------------------+----------------------------+---------------+-----------------------+-----------------------+----------------------+------------------------------------+-------------------------------------------+-------------------------------------------------+--------------------------------------------------------+\n",
      "|      item_skey|         item_code|item_parent_item_code|    item_name|item_parent_name|item_brand|item_designer|item_series|item_style|item_colors|item_materials|    item_gtin|item_gtin_comparable|item_picture_url_first|        item_pdp_url|  item_exclusivity|item_is_trusted_shop|item_main_category|item_sub_category_1|item_sub_category_2|item_type|item_cross_plant_material_status|item_cross_distribution_chain_material_status|item_supplier_item_code|item_supplier_regular|item_supplier_regular_id|item_first_activation_date|item_first_sellable_date|item_shipping_pieces|item_volume|item_inventory_flag|item_delivery_type|item_purchase_price|item_purchase_price_currency|item_inco_terms|item_supplier_lead_time|item_sourcing_warehouse|item_country_of_origin|item_cross_plant_deactivation_reason|item_cross_plant_material_status_valid_from|item_cross_distribution_chain_deactivation_reason|item_cross_distribution_chain_material_status_valid_from|\n",
      "+---------------+------------------+---------------------+-------------+----------------+----------+-------------+-----------+----------+-----------+--------------+-------------+--------------------+----------------------+--------------------+------------------+--------------------+------------------+-------------------+-------------------+---------+--------------------------------+---------------------------------------------+-----------------------+---------------------+------------------------+--------------------------+------------------------+--------------------+-----------+-------------------+------------------+-------------------+----------------------------+---------------+-----------------------+-----------------------+----------------------+------------------------------------+-------------------------------------------+-------------------------------------------------+--------------------------------------------------------+\n",
      "|246995205363527|000000000000001000|   000000008000012374|Aufbauservice|   Aufbauservice|          |      UNKNOWN|    UNKNOWN|   UNKNOWN|    UNKNOWN|       UNKNOWN|2050000000003|          comparable|               UNKNOWN|https://www.home2...|sparepartsServices| is not trusted shop|            AUFBAU|             AUFBAU|             AUFBAU|     ZDIN|                              20|                                             |                UNKNOWN|              UNKNOWN|                     -99|                2017-11-20|              2017-11-20|               0.000|      0.000|            UNKNOWN|     parcelservice|              0.000|                     UNKNOWN|        UNKNOWN|                    -99|                UNKNOWN|                    DE|                             UNKNOWN|                                 2017-01-01|                                          UNKNOWN|                                              1970-01-01|\n",
      "|  1216388560158|000000000000001193|   000000008000012374|Aufbauservice|   Aufbauservice|          |      UNKNOWN|    UNKNOWN|   UNKNOWN|    UNKNOWN|       UNKNOWN|      UNKNOWN|             UNKNOWN|               UNKNOWN|https://www.home2...|sparepartsServices| is not trusted shop|            AUFBAU|             AUFBAU|             AUFBAU|     ZDIN|                              20|                                             |                UNKNOWN|              UNKNOWN|                     -99|                2018-01-11|              2018-01-11|               0.000|      0.000|            UNKNOWN|     parcelservice|              0.000|                     UNKNOWN|        UNKNOWN|                    -99|                UNKNOWN|                    DE|                             UNKNOWN|                                 2017-01-01|                                          UNKNOWN|                                              1970-01-01|\n",
      "| 80472786708632|000000000000001194|   000000008000012374|Aufbauservice|   Aufbauservice|          |      UNKNOWN|    UNKNOWN|   UNKNOWN|    UNKNOWN|       UNKNOWN|      UNKNOWN|             UNKNOWN|               UNKNOWN|https://www.home2...|sparepartsServices| is not trusted shop|            AUFBAU|             AUFBAU|             AUFBAU|     ZDIN|                              20|                                             |                UNKNOWN|              UNKNOWN|                     -99|                2018-01-11|              2018-01-11|               0.000|      0.000|            UNKNOWN|     parcelservice|              0.000|                     UNKNOWN|        UNKNOWN|                    -99|                UNKNOWN|                    DE|                             UNKNOWN|                                 2017-01-01|                                          UNKNOWN|                                              1970-01-01|\n",
      "|194561450406777|000000000000001195|   000000008000012374|Aufbauservice|   Aufbauservice|          |      UNKNOWN|    UNKNOWN|   UNKNOWN|    UNKNOWN|       UNKNOWN|      UNKNOWN|             UNKNOWN|               UNKNOWN|https://www.home2...|sparepartsServices| is not trusted shop|            AUFBAU|             AUFBAU|             AUFBAU|     ZDIN|                              20|                                             |                UNKNOWN|              UNKNOWN|                     -99|                2018-01-16|              2018-01-16|               0.000|      0.000|            UNKNOWN|     parcelservice|              0.000|                     UNKNOWN|        UNKNOWN|                    -99|                UNKNOWN|                    DE|                             UNKNOWN|                                 2017-01-01|                                          UNKNOWN|                                              1970-01-01|\n",
      "| 30812130078943|000000000000001196|   000000008000012374|Aufbauservice|   Aufbauservice|          |      UNKNOWN|    UNKNOWN|   UNKNOWN|    UNKNOWN|       UNKNOWN|      UNKNOWN|             UNKNOWN|               UNKNOWN|https://www.home2...|sparepartsServices| is not trusted shop|            AUFBAU|             AUFBAU|             AUFBAU|     ZDIN|                              20|                                             |                UNKNOWN|              UNKNOWN|                     -99|                2018-01-16|              2018-01-16|               0.000|      0.000|            UNKNOWN|     parcelservice|              0.000|                     UNKNOWN|        UNKNOWN|                    -99|                UNKNOWN|                    DE|                             UNKNOWN|                                 2017-01-01|                                          UNKNOWN|                                              1970-01-01|\n",
      "|252506326476483|000000000000001197|   000000008000012374|Aufbauservice|   Aufbauservice|          |      UNKNOWN|    UNKNOWN|   UNKNOWN|    UNKNOWN|       UNKNOWN|      UNKNOWN|             UNKNOWN|               UNKNOWN|https://www.home2...|sparepartsServices| is not trusted shop|            AUFBAU|             AUFBAU|             AUFBAU|     ZDIN|                              20|                                             |                UNKNOWN|              UNKNOWN|                     -99|                2018-01-12|              2018-01-12|               0.000|      0.000|            UNKNOWN|     parcelservice|              0.000|                     UNKNOWN|        UNKNOWN|                    -99|                UNKNOWN|                    DE|                             UNKNOWN|                                 2017-01-01|                                          UNKNOWN|                                              1970-01-01|\n",
      "|137331546705301|000000000000001198|   000000008000012374|Aufbauservice|   Aufbauservice|          |      UNKNOWN|    UNKNOWN|   UNKNOWN|    UNKNOWN|       UNKNOWN|      UNKNOWN|             UNKNOWN|               UNKNOWN|https://www.home2...|sparepartsServices| is not trusted shop|            AUFBAU|             AUFBAU|             AUFBAU|     ZDIN|                              20|                                             |                UNKNOWN|              UNKNOWN|                     -99|                2018-01-16|              2018-01-16|               0.000|      0.000|            UNKNOWN|     parcelservice|              0.000|                     UNKNOWN|        UNKNOWN|                    -99|                UNKNOWN|                    DE|                             UNKNOWN|                                 2017-01-01|                                          UNKNOWN|                                              1970-01-01|\n",
      "|148133458693150|000000000000001199|   000000008000012374|Aufbauservice|   Aufbauservice|          |      UNKNOWN|    UNKNOWN|   UNKNOWN|    UNKNOWN|       UNKNOWN|      UNKNOWN|             UNKNOWN|               UNKNOWN|https://www.home2...|sparepartsServices| is not trusted shop|            AUFBAU|             AUFBAU|             AUFBAU|     ZDIN|                              20|                                             |                UNKNOWN|              UNKNOWN|                     -99|                2018-01-16|              2018-01-16|               0.000|      0.000|            UNKNOWN|     parcelservice|              0.000|                     UNKNOWN|        UNKNOWN|                    -99|                UNKNOWN|                    DE|                             UNKNOWN|                                 2017-01-01|                                          UNKNOWN|                                              1970-01-01|\n",
      "| 95518085222501|000000000000001200|   000000008000012374|Aufbauservice|   Aufbauservice|          |      UNKNOWN|    UNKNOWN|   UNKNOWN|    UNKNOWN|       UNKNOWN|      UNKNOWN|             UNKNOWN|               UNKNOWN|https://www.home2...|sparepartsServices| is not trusted shop|            AUFBAU|             AUFBAU|             AUFBAU|     ZDIN|                              20|                                             |                UNKNOWN|              UNKNOWN|                     -99|                2018-01-16|              2018-01-16|               0.000|      0.000|            UNKNOWN|     parcelservice|              0.000|                     UNKNOWN|        UNKNOWN|                    -99|                UNKNOWN|                    DE|                             UNKNOWN|                                 2017-01-01|                                          UNKNOWN|                                              1970-01-01|\n",
      "|203177097081578|000000000000001201|   000000008000012374|Aufbauservice|   Aufbauservice|          |      UNKNOWN|    UNKNOWN|   UNKNOWN|    UNKNOWN|       UNKNOWN|      UNKNOWN|             UNKNOWN|               UNKNOWN|https://www.home2...|sparepartsServices| is not trusted shop|            AUFBAU|             AUFBAU|             AUFBAU|     ZDIN|                              20|                                             |                UNKNOWN|              UNKNOWN|                     -99|                2018-01-11|              2018-01-11|               0.000|      0.000|            UNKNOWN|     parcelservice|              0.000|                     UNKNOWN|        UNKNOWN|                    -99|                UNKNOWN|                    DE|                             UNKNOWN|                                 2017-01-01|                                          UNKNOWN|                                              1970-01-01|\n",
      "| 85492699319980|000000000000001202|   000000008000012374|Aufbauservice|   Aufbauservice|          |      UNKNOWN|    UNKNOWN|   UNKNOWN|    UNKNOWN|       UNKNOWN|      UNKNOWN|             UNKNOWN|               UNKNOWN|https://www.home2...|sparepartsServices| is not trusted shop|            AUFBAU|             AUFBAU|             AUFBAU|     ZDIN|                              20|                                             |                UNKNOWN|              UNKNOWN|                     -99|                2018-01-16|              2018-01-16|               0.000|      0.000|            UNKNOWN|     parcelservice|              0.000|                     UNKNOWN|        UNKNOWN|                    -99|                UNKNOWN|                    DE|                             UNKNOWN|                                 2017-01-01|                                          UNKNOWN|                                              1970-01-01|\n",
      "|154332525896223|000000000000001203|   000000008000012374|Aufbauservice|   Aufbauservice|          |      UNKNOWN|    UNKNOWN|   UNKNOWN|    UNKNOWN|       UNKNOWN|      UNKNOWN|             UNKNOWN|               UNKNOWN|https://www.home2...|sparepartsServices| is not trusted shop|            AUFBAU|             AUFBAU|             AUFBAU|     ZDIN|                              20|                                             |                UNKNOWN|              UNKNOWN|                     -99|                2017-11-22|              2017-11-22|               0.000|      0.000|            UNKNOWN|     parcelservice|              0.000|                     UNKNOWN|        UNKNOWN|                    -99|                UNKNOWN|                    DE|                             UNKNOWN|                                 2017-01-01|                                          UNKNOWN|                                              1970-01-01|\n",
      "|218889718810311|000000000000001204|   000000008000012374|Aufbauservice|   Aufbauservice|          |      UNKNOWN|    UNKNOWN|   UNKNOWN|    UNKNOWN|       UNKNOWN|      UNKNOWN|             UNKNOWN|               UNKNOWN|https://www.home2...|sparepartsServices| is not trusted shop|            AUFBAU|             AUFBAU|             AUFBAU|     ZDIN|                              20|                                             |                UNKNOWN|              UNKNOWN|                     -99|                2018-01-16|              2018-01-16|               0.000|      0.000|            UNKNOWN|     parcelservice|              0.000|                     UNKNOWN|        UNKNOWN|                    -99|                UNKNOWN|                    DE|                             UNKNOWN|                                 2017-01-01|                                          UNKNOWN|                                              1970-01-01|\n",
      "| 66247685964836|000000000000001205|   000000008000012374|Aufbauservice|   Aufbauservice|          |      UNKNOWN|    UNKNOWN|   UNKNOWN|    UNKNOWN|       UNKNOWN|      UNKNOWN|             UNKNOWN|               UNKNOWN|https://www.home2...|sparepartsServices| is not trusted shop|            AUFBAU|             AUFBAU|             AUFBAU|     ZDIN|                              20|                                             |                UNKNOWN|              UNKNOWN|                     -99|                2018-01-16|              2018-01-16|               0.000|      0.000|            UNKNOWN|     parcelservice|              0.000|                     UNKNOWN|        UNKNOWN|                    -99|                UNKNOWN|                    DE|                             UNKNOWN|                                 2017-01-01|                                          UNKNOWN|                                              1970-01-01|\n",
      "|126339402813727|000000000000001206|   000000008000012374|Aufbauservice|   Aufbauservice|          |      UNKNOWN|    UNKNOWN|   UNKNOWN|    UNKNOWN|       UNKNOWN|      UNKNOWN|             UNKNOWN|               UNKNOWN|https://www.home2...|sparepartsServices| is not trusted shop|            AUFBAU|             AUFBAU|             AUFBAU|     ZDIN|                              20|                                             |                UNKNOWN|              UNKNOWN|                     -99|                2018-01-16|              2018-01-16|               0.000|      0.000|            UNKNOWN|     parcelservice|              0.000|                     UNKNOWN|        UNKNOWN|                    -99|                UNKNOWN|                    DE|                             UNKNOWN|                                 2017-01-01|                                          UNKNOWN|                                              1970-01-01|\n",
      "| 46436241793073|000000000000001207|   000000008000012374|Aufbauservice|   Aufbauservice|          |      UNKNOWN|    UNKNOWN|   UNKNOWN|    UNKNOWN|       UNKNOWN|      UNKNOWN|             UNKNOWN|               UNKNOWN|https://www.home2...|sparepartsServices| is not trusted shop|            AUFBAU|             AUFBAU|             AUFBAU|     ZDIN|                              20|                                             |                UNKNOWN|              UNKNOWN|                     -99|                2018-01-26|              2018-01-26|               0.000|      0.000|            UNKNOWN|     parcelservice|              0.000|                     UNKNOWN|        UNKNOWN|                    -99|                UNKNOWN|                    DE|                             UNKNOWN|                                 2017-01-01|                                          UNKNOWN|                                              1970-01-01|\n",
      "| 51791312620986|000000000000001208|   000000008000012374|Aufbauservice|   Aufbauservice|          |      UNKNOWN|    UNKNOWN|   UNKNOWN|    UNKNOWN|       UNKNOWN|      UNKNOWN|             UNKNOWN|               UNKNOWN|https://www.home2...|sparepartsServices| is not trusted shop|            AUFBAU|             AUFBAU|             AUFBAU|     ZDIN|                              20|                                             |                UNKNOWN|              UNKNOWN|                     -99|                2018-01-26|              2018-01-26|               0.000|      0.000|            UNKNOWN|     parcelservice|              0.000|                     UNKNOWN|        UNKNOWN|                    -99|                UNKNOWN|                    DE|                             UNKNOWN|                                 2017-01-01|                                          UNKNOWN|                                              1970-01-01|\n",
      "|223036029198421|000000000000001209|   000000008000012374|Aufbauservice|   Aufbauservice|          |      UNKNOWN|    UNKNOWN|   UNKNOWN|    UNKNOWN|       UNKNOWN|      UNKNOWN|             UNKNOWN|               UNKNOWN|https://www.home2...|sparepartsServices| is not trusted shop|            AUFBAU|             AUFBAU|             AUFBAU|     ZDIN|                              20|                                             |                UNKNOWN|              UNKNOWN|                     -99|                2018-01-26|              2018-01-26|               0.000|      0.000|            UNKNOWN|     parcelservice|              0.000|                     UNKNOWN|        UNKNOWN|                    -99|                UNKNOWN|                    DE|                             UNKNOWN|                                 2017-01-01|                                          UNKNOWN|                                              1970-01-01|\n",
      "|153842263516029|000000000000001210|   000000008000012374|Aufbauservice|   Aufbauservice|          |      UNKNOWN|    UNKNOWN|   UNKNOWN|    UNKNOWN|       UNKNOWN|      UNKNOWN|             UNKNOWN|               UNKNOWN|https://www.home2...|sparepartsServices| is not trusted shop|            AUFBAU|             AUFBAU|             AUFBAU|     ZDIN|                              20|                                             |                UNKNOWN|              UNKNOWN|                     -99|                2018-01-26|              2018-01-26|               0.000|      0.000|            UNKNOWN|     parcelservice|              0.000|                     UNKNOWN|        UNKNOWN|                    -99|                UNKNOWN|                    DE|                             UNKNOWN|                                 2017-01-01|                                          UNKNOWN|                                              1970-01-01|\n",
      "| 24562983294856|000000000000001211|   000000008000012374|Aufbauservice|   Aufbauservice|          |      UNKNOWN|    UNKNOWN|   UNKNOWN|    UNKNOWN|       UNKNOWN|      UNKNOWN|             UNKNOWN|               UNKNOWN|https://www.home2...|sparepartsServices| is not trusted shop|            AUFBAU|             AUFBAU|             AUFBAU|     ZDIN|                              20|                                             |                UNKNOWN|              UNKNOWN|                     -99|                2018-01-26|              2018-01-26|               0.000|      0.000|            UNKNOWN|     parcelservice|              0.000|                     UNKNOWN|        UNKNOWN|                    -99|                UNKNOWN|                    DE|                             UNKNOWN|                                 2017-01-01|                                          UNKNOWN|                                              1970-01-01|\n",
      "+---------------+------------------+---------------------+-------------+----------------+----------+-------------+-----------+----------+-----------+--------------+-------------+--------------------+----------------------+--------------------+------------------+--------------------+------------------+-------------------+-------------------+---------+--------------------------------+---------------------------------------------+-----------------------+---------------------+------------------------+--------------------------+------------------------+--------------------+-----------+-------------------+------------------+-------------------+----------------------------+---------------+-----------------------+-----------------------+----------------------+------------------------------------+-------------------------------------------+-------------------------------------------------+--------------------------------------------------------+\n",
      "only showing top 20 rows\n",
      "\n"
     ]
    }
   ],
   "source": [
    "df_d_item.show()"
   ],
   "metadata": {
    "collapsed": false,
    "pycharm": {
     "name": "#%%\n"
    }
   }
  },
  {
   "cell_type": "code",
   "execution_count": 197,
   "outputs": [],
   "source": [
    "df_spark_final = spark.createDataFrame(df_final)\n"
   ],
   "metadata": {
    "collapsed": false,
    "pycharm": {
     "name": "#%%\n"
    }
   }
  },
  {
   "cell_type": "code",
   "execution_count": 198,
   "outputs": [],
   "source": [
    "df_spark_final.createOrReplaceTempView('margin')"
   ],
   "metadata": {
    "collapsed": false,
    "pycharm": {
     "name": "#%%\n"
    }
   }
  },
  {
   "cell_type": "code",
   "execution_count": 199,
   "outputs": [
    {
     "name": "stdout",
     "output_type": "stream",
     "text": [
      "+-----------+---------+----------------+-----------------------+--------------------------+--------------------------+--------------------------+--------------------------------+---------------------------------+---------------------------------------+\n",
      "|  item_skey|shop_skey|item_status_skey|item_status_weekly_skey|item_pc1_costs_before_cogs|item_pc2_costs_before_cogs|group_pc2_margin_simulated|group_pc2_margin_ratio_simulated|group_pc2_margin_simulated_pocket|group_pc2_margin_ratio_simulated_pocket|\n",
      "+-----------+---------+----------------+-----------------------+--------------------------+--------------------------+--------------------------+--------------------------------+---------------------------------+---------------------------------------+\n",
      "| 4226129468|        1|               4|                      4|                    26.070|                    28.239|                      null|                            null|                             null|                                   null|\n",
      "| 4226129468|        2|               4|                      4|                    31.770|                    38.799|                      null|                            null|                             null|                                   null|\n",
      "| 4226129468|        3|               4|                      4|                    31.770|                    38.390|                      null|                            null|                             null|                                   null|\n",
      "| 4226129468|        4|               4|                      4|                    31.770|                    38.170|                      null|                            null|                             null|                                   null|\n",
      "| 4226129468|        5|               1|                      1|                    20.370|                    22.340|                      null|                            null|                             null|                                   null|\n",
      "| 4226129468|        6|               4|                      4|                    31.770|                    38.369|                      null|                            null|                             null|                                   null|\n",
      "| 4226129468|        7|               1|                      1|                    20.370|                    23.770|                      null|                            null|                             null|                                   null|\n",
      "| 4226129468|        8|               1|                      1|                    26.070|                    28.120|                      null|                            null|                             null|                                   null|\n",
      "| 9618921976|        1|               1|                      1|                      null|                      null|                      null|                            null|                             null|                                   null|\n",
      "| 9618921976|        2|               1|                      1|                      null|                      null|                      null|                            null|                             null|                                   null|\n",
      "| 9618921976|        3|               1|                      1|                      null|                      null|                      null|                            null|                             null|                                   null|\n",
      "| 9618921976|        4|               1|                      1|                      null|                      null|                      null|                            null|                             null|                                   null|\n",
      "| 9618921976|        5|               1|                      1|                      null|                      null|                      null|                            null|                             null|                                   null|\n",
      "| 9618921976|        6|               1|                      1|                      null|                      null|                      null|                            null|                             null|                                   null|\n",
      "| 9618921976|        7|               1|                      1|                      null|                      null|                      null|                            null|                             null|                                   null|\n",
      "| 9618921976|        8|               1|                      1|                      null|                      null|                      null|                            null|                             null|                                   null|\n",
      "|58682001671|        1|               1|                      1|                      null|                      null|                      null|                            null|                             null|                                   null|\n",
      "|58682001671|        2|               1|                      1|                      null|                      null|                      null|                            null|                             null|                                   null|\n",
      "|58682001671|        3|               1|                      1|                      null|                      null|                      null|                            null|                             null|                                   null|\n",
      "|58682001671|        4|               1|                      1|                      null|                      null|                      null|                            null|                             null|                                   null|\n",
      "+-----------+---------+----------------+-----------------------+--------------------------+--------------------------+--------------------------+--------------------------------+---------------------------------+---------------------------------------+\n",
      "only showing top 20 rows\n",
      "\n"
     ]
    }
   ],
   "source": [
    "sp_df_pc2 = spark.read.parquet(\n",
    "    '/Users/gabriele.sabato/PycharmProjects/raw_data/redshift_tables/f_item_status_last/*.parquet',\n",
    "    header=True)\n",
    "sp_df_pc2.show()"
   ],
   "metadata": {
    "collapsed": false,
    "pycharm": {
     "name": "#%%\n"
    }
   }
  },
  {
   "cell_type": "code",
   "execution_count": 200,
   "outputs": [],
   "source": [
    "sp_df_pc2.createOrReplaceTempView('f_item_last_status')"
   ],
   "metadata": {
    "collapsed": false,
    "pycharm": {
     "name": "#%%\n"
    }
   }
  },
  {
   "cell_type": "code",
   "execution_count": 201,
   "outputs": [
    {
     "name": "stdout",
     "output_type": "stream",
     "text": [
      "+----------+------------+------------------+--------------------+-------+--------------------+------------------+---------------------+--------------------+-------------------+--------------------+----------------+---------------+---------+\n",
      "| item_code|actual_price|     optimal_price| Margin_rate_to_base|     PE|              PE_err|               pc2|item_parent_item_code|  item_main_category|item_inventory_flag|item_gtin_comparable|item_exclusivity|      item_skey|pc1_costs|\n",
      "+----------+------------+------------------+--------------------+-------+--------------------+------------------+---------------------+--------------------+-------------------+--------------------+----------------+---------------+---------+\n",
      "|1000024320|      119.99|117.61403881007757| 0.17080000000001125|-0.0854|0.018000000000000002|            65.109|   000000008000002133|MATRATZEN&LATTENR...|               laso|          comparable| thirdPartyBrand| 31827848594342|   53.299|\n",
      "|1000005727|       99.99| 97.03484889951531|  0.1380000000000024| -0.046|              0.0073|             41.45|   000000008000012393|ESSZIMMERSTÜHLE&B...|               laso|      non-comparable|      whiteLabel| 71488185050378|   33.930|\n",
      "|1000007822|      279.99| 274.4458265391584| 0.04920000000001229|-0.0246|              0.0073|            109.17| 000000001000007822-P|              GARTEN|               laso|      non-comparable|      whiteLabel|224785681040185|   64.829|\n",
      "|1000114877|      179.99|176.42595920848285| 0.04360000000000409|-0.0218|              0.0049|            77.859|   000000008000012444|              WOHNEN|               laso|          comparable|      whiteLabel| 25038272605281|   64.719|\n",
      "|1000008470|       99.99| 97.03484889951531| 0.19290000000000468|-0.0643|              0.0105|             49.38|   000000008000000525|ESSZIMMERSTÜHLE&B...|               laso|      non-comparable|      whiteLabel| 66003517992621|   41.409|\n",
      "|1000022615|       34.99| 34.29715157900337| 0.17760000000000298|-0.0888|              0.0186|12.359000000000002|   000000008000001983|MATRATZEN&LATTENR...|               laso|          comparable| thirdPartyBrand| 74462021394914|   11.279|\n",
      "|1000182807|      749.99| 735.1392029933335| 0.05379999999999115|-0.0269|              0.0057|           337.029| 000000001000182807-P|              GARTEN|               laso|      non-comparable|      whiteLabel|100679798534570|  236.460|\n",
      "|1000008474|      129.99|127.41602554314512| 0.08659999999998803|-0.0433|              0.0123|             61.28|   000000008000000526|ESSZIMMERSTÜHLE&B...|               laso|      non-comparable|      whiteLabel|154928563530175|   52.750|\n",
      "|1000008491|      129.99|127.41602554314512| 0.07699999999996822|-0.0385|              0.0094|             54.67|   000000008000000530|ESSZIMMERSTÜHLE&B...|               laso|      non-comparable|      whiteLabel| 73662191637457|   46.259|\n",
      "|1000174114|      114.99|112.71304544354378| 0.06379999999999585|-0.0319|              0.0054|             76.79|   000000008000012444|              WOHNEN|               laso|          comparable|      whiteLabel|169682504248479|   63.689|\n",
      "|1000061845|      399.99| 392.0696673359689| 0.05080000000002524|-0.0254|               0.006|            228.34|   000000008000006783|              BETTEN|               laso|      non-comparable|      whiteLabel|  2692801778218|  173.319|\n",
      "|1000065698|      249.99|245.03986633995572|0.048200000000001554|-0.0241|              0.0068|            178.27| 000000001000065698-P|              GARTEN|               laso|          comparable| thirdPartyBrand|135975807930039|  143.340|\n",
      "|1000022482|      144.99| 140.7048979091982|  0.2915999999999961|-0.0972|0.013999999999999999| 79.40899999999999|   000000008000001971|MATRATZEN&LATTENR...|               laso|          comparable| thirdPartyBrand|138994088712555|   44.170|\n",
      "|1000054183|      169.99|166.62397247541534|0.024599999999989183|-0.0123|              0.0025|            86.109| 000000001000054183-P|              WOHNEN|               laso|          comparable|      whiteLabel| 46842188366232|   70.870|\n",
      "|1000173830|      819.99| 803.7531101248062| 0.03840000000000053|-0.0192|              0.0053|            507.38|   000000008000016893|              BETTEN|               laso|          comparable| thirdPartyBrand|120211027959520|  414.490|\n",
      "|1000016092|      329.99| 323.4557602044962| 0.05999999999999705|  -0.03|              0.0059|           159.509|   000000008000001041|ESSZIMMERSTÜHLE&B...|               laso|          comparable|      whiteLabel| 20395642409368|  111.620|\n",
      "|1000063634|      164.99|161.72297910888156|   0.087000000000019|-0.0435|              0.0141|             82.39| 000000001000063634-P|ESSZIMMERSTÜHLE&B...|               laso|          comparable|      whiteLabel| 65394400347680|   55.439|\n",
      "|1000092325|      279.99| 274.4458265391584| 0.02679999999999442|-0.0134|              0.0044|            154.21| 000000001000092325-P|              WOHNEN|               laso|          comparable| thirdPartyBrand|127226683695048|  112.500|\n",
      "|1000111508|      149.99|145.55712557694073| 0.06990000000003285|-0.0233|              0.0033|             71.37| 000000001000111508-P|              WOHNEN|               laso|      non-comparable|       exclusive| 20211508201120|   62.590|\n",
      "|1000138433|      149.99|147.01999900928024| 0.09219999999997011|-0.0461|              0.0108|            48.299|   000000008000018839|ESSZIMMERSTÜHLE&B...|               laso|          comparable|      whiteLabel|128820719966683|   40.539|\n",
      "+----------+------------+------------------+--------------------+-------+--------------------+------------------+---------------------+--------------------+-------------------+--------------------+----------------+---------------+---------+\n",
      "only showing top 20 rows\n",
      "\n"
     ]
    }
   ],
   "source": [
    "df_d_item_table_margin = spark.sql(\"\"\"SELECT    margin.*,\n",
    "                                                di.item_parent_item_code, di.item_main_category, di.item_inventory_flag, di.item_gtin_comparable,di.item_exclusivity,di.item_skey,\n",
    "                                                fils.item_pc1_costs_before_cogs as pc1_costs\n",
    "                                                from margin\n",
    "                                                INNER JOIN d_item as di on di.item_code = margin.item_code\n",
    "                                                INNER JOIN f_item_last_status as fils on fils.item_skey=di.item_skey and fils.shop_skey=1\n",
    "                                                \"\"\")\n",
    "\n",
    "df_d_item_table_margin.show()"
   ],
   "metadata": {
    "collapsed": false,
    "pycharm": {
     "name": "#%%\n"
    }
   }
  },
  {
   "cell_type": "code",
   "execution_count": 202,
   "outputs": [],
   "source": [
    "df_d_item_table_margin.createOrReplaceTempView('item_margin')"
   ],
   "metadata": {
    "collapsed": false,
    "pycharm": {
     "name": "#%%\n"
    }
   }
  },
  {
   "cell_type": "code",
   "execution_count": 203,
   "outputs": [],
   "source": [
    "df_standalone_item = spark.sql(\"\"\"SELECT *\n",
    "                from item_margin\n",
    "                where item_parent_item_code like '%-P' \"\"\")\n",
    "\n",
    "#127 items"
   ],
   "metadata": {
    "collapsed": false,
    "pycharm": {
     "name": "#%%\n"
    }
   }
  },
  {
   "cell_type": "code",
   "execution_count": 204,
   "outputs": [],
   "source": [
    "df_pd_sa_item=df_standalone_item.toPandas()"
   ],
   "metadata": {
    "collapsed": false,
    "pycharm": {
     "name": "#%%\n"
    }
   }
  },
  {
   "cell_type": "code",
   "execution_count": 205,
   "outputs": [],
   "source": [
    "shuffled = df_pd_sa_item.sample(frac=1)\n",
    "result = np.array_split(shuffled, 3)\n",
    "\n",
    "result[0].to_csv('../raw_data/Excel_files/Margin_result_standalone_test_1st.csv')\n",
    "result[1].to_csv('../raw_data/Excel_files/Margin_result_standalone_test_2nd.csv')\n",
    "result[2].to_csv('../raw_data/Excel_files/Margin_result_standalone_test_3rd.csv')"
   ],
   "metadata": {
    "collapsed": false,
    "pycharm": {
     "name": "#%%\n"
    }
   }
  },
  {
   "cell_type": "code",
   "execution_count": 206,
   "outputs": [
    {
     "data": {
      "text/plain": "0    1000007822\n1    1000182807\n2    1000065698\n3    1000054183\n4    1000063634\nName: item_code, dtype: int64"
     },
     "execution_count": 206,
     "metadata": {},
     "output_type": "execute_result"
    }
   ],
   "source": [
    "df_pd_sa_item['item_code'].head()\n"
   ],
   "metadata": {
    "collapsed": false,
    "pycharm": {
     "name": "#%%\n"
    }
   }
  },
  {
   "cell_type": "code",
   "execution_count": 207,
   "outputs": [],
   "source": [
    "item_sa_list = list(df_pd_sa_item['item_code'])"
   ],
   "metadata": {
    "collapsed": false,
    "pycharm": {
     "name": "#%%\n"
    }
   }
  },
  {
   "cell_type": "code",
   "execution_count": 208,
   "outputs": [
    {
     "name": "stdout",
     "output_type": "stream",
     "text": [
      "[1000007822, 1000182807, 1000065698, 1000054183, 1000063634, 1000092325, 1000111508, 1000053479, 1000123698, 1000051350, 1000118214, 1000008048, 1000123220, 1000050850, 1000056199, 1000008748, 1000119757, 1000110022, 1000118448, 1000110390, 1000145703, 1000015609, 1000007385, 1000048014, 1000054182, 1000086507, 1000117698, 1000039125, 1000065722, 1000022035, 1000114113, 1000164750, 1000123519, 1000008815, 1000183892, 1000015538, 1000098236, 1000181283, 1000007403, 1000112672, 1000008729, 1000015607, 1000007705, 1000034837, 1000119632, 1000008531, 1000065695, 1000150715, 1000123758, 1000129701, 1000120238, 1000015906, 1000008532, 1000008204, 1000050849, 1000008807, 1000008513, 1000117164, 1000190260, 1000189234, 1000039134, 1000008509, 1000123450, 1000092125, 1000065870, 1000069675, 1000039133, 1000007405, 1000008170, 1000008518, 1000015943, 1000118981, 1000192625, 1000007722, 1000118957, 1000048012, 1000014946, 1000033640, 1000127878, 1000008049, 1000048010, 1000008754, 1000054035, 1000133273, 1000127486, 1000021892, 1000080483, 1000015756, 1000171334, 1000008823, 1000157002, 1000008514, 1000171358, 1000176687, 1000028505, 1000113287, 1000114889, 1000006076, 1000118291, 1000022030, 1000074998, 1000118226, 1000124790, 1000117126, 1000116756, 1000117655, 1000005222, 1000134698, 1000117186, 1000008757, 1000114882, 1000197021, 1000075018, 1000065733, 1000123447, 1000034876, 1000086554, 1000048005, 1000008482, 1000095038, 1000186801, 1000200167, 1000007436, 1000110431, 1000123773, 1000015616, 1000127864]\n"
     ]
    }
   ],
   "source": [
    "print(item_sa_list)"
   ],
   "metadata": {
    "collapsed": false,
    "pycharm": {
     "name": "#%%\n"
    }
   }
  },
  {
   "cell_type": "code",
   "execution_count": 209,
   "outputs": [],
   "source": [
    "pd_d_item_margin = df_d_item_table_margin.toPandas()\n",
    "\n",
    "\n"
   ],
   "metadata": {
    "collapsed": false,
    "pycharm": {
     "name": "#%%\n"
    }
   }
  },
  {
   "cell_type": "code",
   "execution_count": 210,
   "outputs": [],
   "source": [
    "import psycopg2\n",
    "\n",
    "def connect_redshift_db():\n",
    "    cnx = psycopg2.connect(dbname= 'dwh',\n",
    "                     host='redshift-prod.data.service.home24.net',\n",
    "                     port= '5439',\n",
    "                     user= 'gabriele_sabato',\n",
    "                     password= 'zQZ8x6ZhRoTf7GS')\n",
    "    return cnx\n",
    "cnx_redshift = connect_redshift_db()\n",
    "cursor_redshift = cnx_redshift.cursor()"
   ],
   "metadata": {
    "collapsed": false,
    "pycharm": {
     "name": "#%%\n"
    }
   }
  },
  {
   "cell_type": "code",
   "execution_count": 211,
   "outputs": [],
   "source": [
    "def query_to_dataframe(_cursor, _query):\n",
    "    _cursor.execute(_query)\n",
    "    colnames = [desc[0] for desc in _cursor.description]\n",
    "    print(colnames)\n",
    "    return pd.DataFrame(_cursor.fetchall(), columns=colnames)"
   ],
   "metadata": {
    "collapsed": false,
    "pycharm": {
     "name": "#%%\n"
    }
   }
  },
  {
   "cell_type": "code",
   "execution_count": 212,
   "outputs": [
    {
     "name": "stdout",
     "output_type": "stream",
     "text": [
      "[\" '000000001000024320' , \", \" '000000001000005727' , \", \" '000000001000007822' , \", \" '000000001000114877' , \", \" '000000001000008470' , \", \" '000000001000022615' , \", \" '000000001000182807' , \", \" '000000001000008474' , \", \" '000000001000008491' , \", \" '000000001000174114' , \", \" '000000001000061845' , \", \" '000000001000065698' , \", \" '000000001000022482' , \", \" '000000001000054183' , \", \" '000000001000173830' , \", \" '000000001000016092' , \", \" '000000001000063634' , \", \" '000000001000092325' , \", \" '000000001000111508' , \", \" '000000001000138433' , \", \" '000000001000012569' , \", \" '000000001000016014' , \", \" '000000001000053479' , \", \" '000000001000123698' , \", \" '000000001000016094' , \", \" '000000001000016096' , \", \" '000000001000051350' , \", \" '000000001000118214' , \", \" '000000001000118866' , \", \" '000000001000005736' , \", \" '000000001000008048' , \", \" '000000001000123220' , \", \" '000000001000016021' , \", \" '000000001000050850' , \", \" '000000001000056199' , \", \" '000000001000006422' , \", \" '000000001000008748' , \", \" '000000001000022411' , \", \" '000000001000024310' , \", \" '000000001000119757' , \", \" '000000001000119213' , \", \" '000000001000006082' , \", \" '000000001000012561' , \", \" '000000001000110022' , \", \" '000000001000037730' , \", \" '000000001000118448' , \", \" '000000001000008029' , \", \" '000000001000092348' , \", \" '000000001000110390' , \", \" '000000001000145703' , \", \" '000000001000153549' , \", \" '000000001000015609' , \", \" '000000001000016109' , \", \" '000000001000174103' , \", \" '000000001000188586' , \", \" '000000001000008032' , \", \" '000000001000015595' , \", \" '000000001000016098' , \", \" '000000001000016121' , \", \" '000000001000024323' , \", \" '000000001000015962' , \", \" '000000001000022603' , \", \" '000000001000007385' , \", \" '000000001000007591' , \", \" '000000001000048014' , \", \" '000000001000054182' , \", \" '000000001000022409' , \", \" '000000001000024281' , \", \" '000000001000081556' , \", \" '000000001000008184' , \", \" '000000001000048015' , \", \" '000000001000086507' , \", \" '000000001000008050' , \", \" '000000001000092551' , \", \" '000000001000117698' , \", \" '000000001000008010' , \", \" '000000001000039125' , \", \" '000000001000015959' , \", \" '000000001000016061' , \", \" '000000001000065722' , \", \" '000000001000022035' , \", \" '000000001000114113' , \", \" '000000001000164750' , \", \" '000000001000015924' , \", \" '000000001000123519' , \", \" '000000001000176717' , \", \" '000000001000092141' , \", \" '000000001000008815' , \", \" '000000001000114875' , \", \" '000000001000012445' , \", \" '000000001000012645' , \", \" '000000001000126887' , \", \" '000000001000126898' , \", \" '000000001000183892' , \", \" '000000001000015538' , \", \" '000000001000086543' , \", \" '000000001000015659' , \", \" '000000001000022178' , \", \" '000000001000098236' , \", \" '000000001000181283' , \", \" '000000001000007403' , \", \" '000000001000015958' , \", \" '000000001000113323' , \", \" '000000001000007449' , \", \" '000000001000112672' , \", \" '000000001000151691' , \", \" '000000001000008039' , \", \" '000000001000008729' , \", \" '000000001000113344' , \", \" '000000001000118440' , \", \" '000000001000118867' , \", \" '000000001000016027' , \", \" '000000001000015607' , \", \" '000000001000048013' , \", \" '000000001000007705' , \", \" '000000001000034837' , \", \" '000000001000119632' , \", \" '000000001000174090' , \", \" '000000001000006093' , \", \" '000000001000016140' , \", \" '000000001000064492' , \", \" '000000001000177734' , \", \" '000000001000008531' , \", \" '000000001000065695' , \", \" '000000001000016118' , \", \" '000000001000022575' , \", \" '000000001000129700' , \", \" '000000001000177736' , \", \" '000000001000178563' , \", \" '000000001000117316' , \", \" '000000001000150715' , \", \" '000000001000012644' , \", \" '000000001000123758' , \", \" '000000001000125108' , \", \" '000000001000129701' , \", \" '000000001000131686' , \", \" '000000001000007034' , \", \" '000000001000120238' , \", \" '000000001000015906' , \", \" '000000001000174097' , \", \" '000000001000008532' , \", \" '000000001000022356' , \", \" '000000001000012835' , \", \" '000000001000176743' , \", \" '000000001000008204' , \", \" '000000001000050849' , \", \" '000000001000056743' , \", \" '000000001000127964' , \", \" '000000001000008807' , \", \" '000000001000126836' , \", \" '000000001000063421' , \", \" '000000001000178654' , \", \" '000000001000008513' , \", \" '000000001000016119' , \", \" '000000001000091266' , \", \" '000000001000016110' , \", \" '000000001000117164' , \", \" '000000001000190260' , \", \" '000000001000008775' , \", \" '000000001000086550' , \", \" '000000001000189234' , \", \" '000000001000008063' , \", \" '000000001000086536' , \", \" '000000001000006092' , \", \" '000000001000039134' , \", \" '000000001000016035' , \", \" '000000001000008509' , \", \" '000000001000094984' , \", \" '000000001000116607' , \", \" '000000001000024312' , \", \" '000000001000104033' , \", \" '000000001000015989' , \", \" '000000001000119223' , \", \" '000000001000210750' , \", \" '000000001000123450' , \", \" '000000001000012792' , \", \" '000000001000008146' , \", \" '000000001000128255' , \", \" '000000001000008056' , \", \" '000000001000022562' , \", \" '000000001000022708' , \", \" '000000001000016017' , \", \" '000000001000092125' , \", \" '000000001000022585' , \", \" '000000001000022392' , \", \" '000000001000065870' , \", \" '000000001000069675' , \", \" '000000001000006085' , \", \" '000000001000012821' , \", \" '000000001000008017' , \", \" '000000001000039133' , \", \" '000000001000139406' , \", \" '000000001000007592' , \", \" '000000001000119666' , \", \" '000000001000167293' , \", \" '000000001000007405' , \", \" '000000001000008170' , \", \" '000000001000008518' , \", \" '000000001000015943' , \", \" '000000001000118981' , \", \" '000000001000008012' , \", \" '000000001000086540' , \", \" '000000001000139473' , \", \" '000000001000016029' , \", \" '000000001000086499' , \", \" '000000001000116645' , \", \" '000000001000192625' , \", \" '000000001000007722' , \", \" '000000001000176710' , \", \" '000000001000118957' , \", \" '000000001000005726' , \", \" '000000001000008185' , \", \" '000000001000048012' , \", \" '000000001000110460' , \", \" '000000001000050873' , \", \" '000000001000079665' , \", \" '000000001000016125' , \", \" '000000001000024313' , \", \" '000000001000092553' , \", \" '000000001000008000' , \", \" '000000001000173700' , \", \" '000000001000014946' , \", \" '000000001000033640' , \", \" '000000001000127878' , \", \" '000000001000005177' , \", \" '000000001000008049' , \", \" '000000001000153557' , \", \" '000000001000006102' , \", \" '000000001000016124' , \", \" '000000001000048010' , \", \" '000000001000008754' , \", \" '000000001000027431' , \", \" '000000001000123755' , \", \" '000000001000182665' , \", \" '000000001000054035' , \", \" '000000001000133273' , \", \" '000000001000079876' , \", \" '000000001000080044' , \", \" '000000001000007447' , \", \" '000000001000176719' , \", \" '000000001000006087' , \", \" '000000001000006083' , \", \" '000000001000086544' , \", \" '000000001000129713' , \", \" '000000001000176744' , \", \" '000000001000006475' , \", \" '000000001000006715' , \", \" '000000001000022578' , \", \" '000000001000127486' , \", \" '000000001000012462' , \", \" '000000001000062031' , \", \" '000000001000123504' , \", \" '000000001000007448' , \", \" '000000001000021892' , \", \" '000000001000080483' , \", \" '000000001000008058' , \", \" '000000001000015960' , \", \" '000000001000006755' , \", \" '000000001000008071' , \", \" '000000001000064496' , \", \" '000000001000024887' , \", \" '000000001000027400' , \", \" '000000001000112670' , \", \" '000000001000123272' , \", \" '000000001000007546' , \", \" '000000001000015944' , \", \" '000000001000006086' , \", \" '000000001000008105' , \", \" '000000001000015756' , \", \" '000000001000016116' , \", \" '000000001000129699' , \", \" '000000001000064696' , \", \" '000000001000112668' , \", \" '000000001000008007' , \", \" '000000001000171334' , \", \" '000000001000008823' , \", \" '000000001000174093' , \", \" '000000001000185465' , \", \" '000000001000112669' , \", \" '000000001000157002' , \", \" '000000001000008514' , \", \" '000000001000008529' , \", \" '000000001000063419' , \", \" '000000001000171358' , \", \" '000000001000176687' , \", \" '000000001000022573' , \", \" '000000001000028505' , \", \" '000000001000086500' , \", \" '000000001000113287' , \", \" '000000001000114889' , \", \" '000000001000008770' , \", \" '000000001000016019' , \", \" '000000001000024954' , \", \" '000000001000110727' , \", \" '000000001000006076' , \", \" '000000001000008037' , \", \" '000000001000037757' , \", \" '000000001000091298' , \", \" '000000001000118291' , \", \" '000000001000177744' , \", \" '000000001000128138' , \", \" '000000001000022030' , \", \" '000000001000037756' , \", \" '000000001000114867' , \", \" '000000001000012567' , \", \" '000000001000012769' , \", \" '000000001000050869' , \", \" '000000001000050886' , \", \" '000000001000008194' , \", \" '000000001000016015' , \", \" '000000001000074998' , \", \" '000000001000118226' , \", \" '000000001000124790' , \", \" '000000001000117126' , \", \" '000000001000178624' , \", \" '000000001000015662' , \", \" '000000001000053657' , \", \" '000000001000092323' , \", \" '000000001000116756' , \", \" '000000001000117655' , \", \" '000000001000015891' , \", \" '000000001000005222' , \", \" '000000001000008492' , \", \" '000000001000134698' , \", \" '000000001000151692' , \", \" '000000001000007072' , \", \" '000000001000008016' , \", \" '000000001000022386' , \", \" '000000001000121906' , \", \" '000000001000117186' , \", \" '000000001000008757' , \", \" '000000001000114882' , \", \" '000000001000197021' , \", \" '000000001000006348' , \", \" '000000001000062044' , \", \" '000000001000075018' , \", \" '000000001000117325' , \", \" '000000001000113606' , \", \" '000000001000012813' , \", \" '000000001000065733' , \", \" '000000001000125111' , \", \" '000000001000123447' , \", \" '000000001000008526' , \", \" '000000001000123286' , \", \" '000000001000071065' , \", \" '000000001000015695' , \", \" '000000001000030909' , \", \" '000000001000034876' , \", \" '000000001000062034' , \", \" '000000001000086554' , \", \" '000000001000113304' , \", \" '000000001000008030' , \", \" '000000001000048005' , \", \" '000000001000109884' , \", \" '000000001000008482' , \", \" '000000001000122530' , \", \" '000000001000024088' , \", \" '000000001000123817' , \", \" '000000001000164525' , \", \" '000000001000012442' , \", \" '000000001000024315' , \", \" '000000001000012814' , \", \" '000000001000015678' , \", \" '000000001000095038' , \", \" '000000001000118984' , \", \" '000000001000186801' , \", \" '000000001000200167' , \", \" '000000001000005775' , \", \" '000000001000022385' , \", \" '000000001000007436' , \", \" '000000001000123854' , \", \" '000000001000022710' , \", \" '000000001000006084' , \", \" '000000001000016026' , \", \" '000000001000131853' , \", \" '000000001000022387' , \", \" '000000001000025086' , \", \" '000000001000022586' , \", \" '000000001000022566' , \", \" '000000001000008143' , \", \" '000000001000110431' , \", \" '000000001000118958' , \", \" '000000001000123773' , \", \" '000000001000007597' , \", \" '000000001000016020' , \", \" '000000001000007818' , \", \" '000000001000012855' , \", \" '000000001000015616' , \", \" '000000001000127864' , \", \" '000000001000006713' , \", \" '000000001000109909' , \", \" '000000001000118255' , \"]\n"
     ]
    }
   ],
   "source": [
    "item_list=list(pd_d_item_margin['item_code'])\n",
    "new_list = []\n",
    "final_list = \"\"\n",
    "\n",
    "for i in item_list:\n",
    "    new_list.append(\" '00000000\" + str(i)+\"' , \" )\n",
    "\n",
    "print(new_list)\n",
    "final_list = final_list.join(new_list)\n",
    "final_list=final_list[0:-3]"
   ],
   "metadata": {
    "collapsed": false,
    "pycharm": {
     "name": "#%%\n"
    }
   }
  },
  {
   "cell_type": "code",
   "execution_count": 139,
   "outputs": [],
   "source": [],
   "metadata": {
    "collapsed": false,
    "pycharm": {
     "name": "#%%\n"
    }
   }
  },
  {
   "cell_type": "code",
   "execution_count": 213,
   "outputs": [
    {
     "name": "stdout",
     "output_type": "stream",
     "text": [
      " '000000001000024320' ,  '000000001000005727' ,  '000000001000007822' ,  '000000001000114877' ,  '000000001000008470' ,  '000000001000022615' ,  '000000001000182807' ,  '000000001000008474' ,  '000000001000008491' ,  '000000001000174114' ,  '000000001000061845' ,  '000000001000065698' ,  '000000001000022482' ,  '000000001000054183' ,  '000000001000173830' ,  '000000001000016092' ,  '000000001000063634' ,  '000000001000092325' ,  '000000001000111508' ,  '000000001000138433' ,  '000000001000012569' ,  '000000001000016014' ,  '000000001000053479' ,  '000000001000123698' ,  '000000001000016094' ,  '000000001000016096' ,  '000000001000051350' ,  '000000001000118214' ,  '000000001000118866' ,  '000000001000005736' ,  '000000001000008048' ,  '000000001000123220' ,  '000000001000016021' ,  '000000001000050850' ,  '000000001000056199' ,  '000000001000006422' ,  '000000001000008748' ,  '000000001000022411' ,  '000000001000024310' ,  '000000001000119757' ,  '000000001000119213' ,  '000000001000006082' ,  '000000001000012561' ,  '000000001000110022' ,  '000000001000037730' ,  '000000001000118448' ,  '000000001000008029' ,  '000000001000092348' ,  '000000001000110390' ,  '000000001000145703' ,  '000000001000153549' ,  '000000001000015609' ,  '000000001000016109' ,  '000000001000174103' ,  '000000001000188586' ,  '000000001000008032' ,  '000000001000015595' ,  '000000001000016098' ,  '000000001000016121' ,  '000000001000024323' ,  '000000001000015962' ,  '000000001000022603' ,  '000000001000007385' ,  '000000001000007591' ,  '000000001000048014' ,  '000000001000054182' ,  '000000001000022409' ,  '000000001000024281' ,  '000000001000081556' ,  '000000001000008184' ,  '000000001000048015' ,  '000000001000086507' ,  '000000001000008050' ,  '000000001000092551' ,  '000000001000117698' ,  '000000001000008010' ,  '000000001000039125' ,  '000000001000015959' ,  '000000001000016061' ,  '000000001000065722' ,  '000000001000022035' ,  '000000001000114113' ,  '000000001000164750' ,  '000000001000015924' ,  '000000001000123519' ,  '000000001000176717' ,  '000000001000092141' ,  '000000001000008815' ,  '000000001000114875' ,  '000000001000012445' ,  '000000001000012645' ,  '000000001000126887' ,  '000000001000126898' ,  '000000001000183892' ,  '000000001000015538' ,  '000000001000086543' ,  '000000001000015659' ,  '000000001000022178' ,  '000000001000098236' ,  '000000001000181283' ,  '000000001000007403' ,  '000000001000015958' ,  '000000001000113323' ,  '000000001000007449' ,  '000000001000112672' ,  '000000001000151691' ,  '000000001000008039' ,  '000000001000008729' ,  '000000001000113344' ,  '000000001000118440' ,  '000000001000118867' ,  '000000001000016027' ,  '000000001000015607' ,  '000000001000048013' ,  '000000001000007705' ,  '000000001000034837' ,  '000000001000119632' ,  '000000001000174090' ,  '000000001000006093' ,  '000000001000016140' ,  '000000001000064492' ,  '000000001000177734' ,  '000000001000008531' ,  '000000001000065695' ,  '000000001000016118' ,  '000000001000022575' ,  '000000001000129700' ,  '000000001000177736' ,  '000000001000178563' ,  '000000001000117316' ,  '000000001000150715' ,  '000000001000012644' ,  '000000001000123758' ,  '000000001000125108' ,  '000000001000129701' ,  '000000001000131686' ,  '000000001000007034' ,  '000000001000120238' ,  '000000001000015906' ,  '000000001000174097' ,  '000000001000008532' ,  '000000001000022356' ,  '000000001000012835' ,  '000000001000176743' ,  '000000001000008204' ,  '000000001000050849' ,  '000000001000056743' ,  '000000001000127964' ,  '000000001000008807' ,  '000000001000126836' ,  '000000001000063421' ,  '000000001000178654' ,  '000000001000008513' ,  '000000001000016119' ,  '000000001000091266' ,  '000000001000016110' ,  '000000001000117164' ,  '000000001000190260' ,  '000000001000008775' ,  '000000001000086550' ,  '000000001000189234' ,  '000000001000008063' ,  '000000001000086536' ,  '000000001000006092' ,  '000000001000039134' ,  '000000001000016035' ,  '000000001000008509' ,  '000000001000094984' ,  '000000001000116607' ,  '000000001000024312' ,  '000000001000104033' ,  '000000001000015989' ,  '000000001000119223' ,  '000000001000210750' ,  '000000001000123450' ,  '000000001000012792' ,  '000000001000008146' ,  '000000001000128255' ,  '000000001000008056' ,  '000000001000022562' ,  '000000001000022708' ,  '000000001000016017' ,  '000000001000092125' ,  '000000001000022585' ,  '000000001000022392' ,  '000000001000065870' ,  '000000001000069675' ,  '000000001000006085' ,  '000000001000012821' ,  '000000001000008017' ,  '000000001000039133' ,  '000000001000139406' ,  '000000001000007592' ,  '000000001000119666' ,  '000000001000167293' ,  '000000001000007405' ,  '000000001000008170' ,  '000000001000008518' ,  '000000001000015943' ,  '000000001000118981' ,  '000000001000008012' ,  '000000001000086540' ,  '000000001000139473' ,  '000000001000016029' ,  '000000001000086499' ,  '000000001000116645' ,  '000000001000192625' ,  '000000001000007722' ,  '000000001000176710' ,  '000000001000118957' ,  '000000001000005726' ,  '000000001000008185' ,  '000000001000048012' ,  '000000001000110460' ,  '000000001000050873' ,  '000000001000079665' ,  '000000001000016125' ,  '000000001000024313' ,  '000000001000092553' ,  '000000001000008000' ,  '000000001000173700' ,  '000000001000014946' ,  '000000001000033640' ,  '000000001000127878' ,  '000000001000005177' ,  '000000001000008049' ,  '000000001000153557' ,  '000000001000006102' ,  '000000001000016124' ,  '000000001000048010' ,  '000000001000008754' ,  '000000001000027431' ,  '000000001000123755' ,  '000000001000182665' ,  '000000001000054035' ,  '000000001000133273' ,  '000000001000079876' ,  '000000001000080044' ,  '000000001000007447' ,  '000000001000176719' ,  '000000001000006087' ,  '000000001000006083' ,  '000000001000086544' ,  '000000001000129713' ,  '000000001000176744' ,  '000000001000006475' ,  '000000001000006715' ,  '000000001000022578' ,  '000000001000127486' ,  '000000001000012462' ,  '000000001000062031' ,  '000000001000123504' ,  '000000001000007448' ,  '000000001000021892' ,  '000000001000080483' ,  '000000001000008058' ,  '000000001000015960' ,  '000000001000006755' ,  '000000001000008071' ,  '000000001000064496' ,  '000000001000024887' ,  '000000001000027400' ,  '000000001000112670' ,  '000000001000123272' ,  '000000001000007546' ,  '000000001000015944' ,  '000000001000006086' ,  '000000001000008105' ,  '000000001000015756' ,  '000000001000016116' ,  '000000001000129699' ,  '000000001000064696' ,  '000000001000112668' ,  '000000001000008007' ,  '000000001000171334' ,  '000000001000008823' ,  '000000001000174093' ,  '000000001000185465' ,  '000000001000112669' ,  '000000001000157002' ,  '000000001000008514' ,  '000000001000008529' ,  '000000001000063419' ,  '000000001000171358' ,  '000000001000176687' ,  '000000001000022573' ,  '000000001000028505' ,  '000000001000086500' ,  '000000001000113287' ,  '000000001000114889' ,  '000000001000008770' ,  '000000001000016019' ,  '000000001000024954' ,  '000000001000110727' ,  '000000001000006076' ,  '000000001000008037' ,  '000000001000037757' ,  '000000001000091298' ,  '000000001000118291' ,  '000000001000177744' ,  '000000001000128138' ,  '000000001000022030' ,  '000000001000037756' ,  '000000001000114867' ,  '000000001000012567' ,  '000000001000012769' ,  '000000001000050869' ,  '000000001000050886' ,  '000000001000008194' ,  '000000001000016015' ,  '000000001000074998' ,  '000000001000118226' ,  '000000001000124790' ,  '000000001000117126' ,  '000000001000178624' ,  '000000001000015662' ,  '000000001000053657' ,  '000000001000092323' ,  '000000001000116756' ,  '000000001000117655' ,  '000000001000015891' ,  '000000001000005222' ,  '000000001000008492' ,  '000000001000134698' ,  '000000001000151692' ,  '000000001000007072' ,  '000000001000008016' ,  '000000001000022386' ,  '000000001000121906' ,  '000000001000117186' ,  '000000001000008757' ,  '000000001000114882' ,  '000000001000197021' ,  '000000001000006348' ,  '000000001000062044' ,  '000000001000075018' ,  '000000001000117325' ,  '000000001000113606' ,  '000000001000012813' ,  '000000001000065733' ,  '000000001000125111' ,  '000000001000123447' ,  '000000001000008526' ,  '000000001000123286' ,  '000000001000071065' ,  '000000001000015695' ,  '000000001000030909' ,  '000000001000034876' ,  '000000001000062034' ,  '000000001000086554' ,  '000000001000113304' ,  '000000001000008030' ,  '000000001000048005' ,  '000000001000109884' ,  '000000001000008482' ,  '000000001000122530' ,  '000000001000024088' ,  '000000001000123817' ,  '000000001000164525' ,  '000000001000012442' ,  '000000001000024315' ,  '000000001000012814' ,  '000000001000015678' ,  '000000001000095038' ,  '000000001000118984' ,  '000000001000186801' ,  '000000001000200167' ,  '000000001000005775' ,  '000000001000022385' ,  '000000001000007436' ,  '000000001000123854' ,  '000000001000022710' ,  '000000001000006084' ,  '000000001000016026' ,  '000000001000131853' ,  '000000001000022387' ,  '000000001000025086' ,  '000000001000022586' ,  '000000001000022566' ,  '000000001000008143' ,  '000000001000110431' ,  '000000001000118958' ,  '000000001000123773' ,  '000000001000007597' ,  '000000001000016020' ,  '000000001000007818' ,  '000000001000012855' ,  '000000001000015616' ,  '000000001000127864' ,  '000000001000006713' ,  '000000001000109909' ,  '000000001000118255'\n"
     ]
    }
   ],
   "source": [
    "print(final_list)"
   ],
   "metadata": {
    "collapsed": false,
    "pycharm": {
     "name": "#%%\n"
    }
   }
  },
  {
   "cell_type": "code",
   "execution_count": 214,
   "outputs": [],
   "source": [
    "campaign_flag = \"\"\"SELECT item_code,item_campaign_category, item_campaign_key, item_campaign_label\n",
    "                    FROM dwh.public.item_catalog\n",
    "                    WHERE item_code in ({FINAL_LIST})\n",
    "                        and app_domain_id=1 \"\"\".format(FINAL_LIST=final_list)\n",
    "\n"
   ],
   "metadata": {
    "collapsed": false,
    "pycharm": {
     "name": "#%%\n"
    }
   }
  },
  {
   "cell_type": "code",
   "execution_count": 215,
   "outputs": [
    {
     "name": "stdout",
     "output_type": "stream",
     "text": [
      "['item_code', 'item_campaign_category', 'item_campaign_key', 'item_campaign_label']\n"
     ]
    }
   ],
   "source": [
    "df_campaign = query_to_dataframe(cursor_redshift, campaign_flag)\n",
    "\n"
   ],
   "metadata": {
    "collapsed": false,
    "pycharm": {
     "name": "#%%\n"
    }
   }
  },
  {
   "cell_type": "code",
   "execution_count": 216,
   "outputs": [
    {
     "data": {
      "text/plain": "            item_code item_campaign_category    item_campaign_key  \\\n0  000000001000006076                      |  wow12|crm-favdining   \n1  000000001000008016             2019032601             3dmodels   \n2  000000001000008032                                               \n3  000000001000008509            2020061801|         sidewow|test   \n4  000000001000008729                                               \n\n        item_campaign_label  \n0           EXTRA -12 %|crm  \n1                  3dmodels  \n2                            \n3  EXTRA -12 %|Test Valerie  \n4                            ",
      "text/html": "<div>\n<style scoped>\n    .dataframe tbody tr th:only-of-type {\n        vertical-align: middle;\n    }\n\n    .dataframe tbody tr th {\n        vertical-align: top;\n    }\n\n    .dataframe thead th {\n        text-align: right;\n    }\n</style>\n<table border=\"1\" class=\"dataframe\">\n  <thead>\n    <tr style=\"text-align: right;\">\n      <th></th>\n      <th>item_code</th>\n      <th>item_campaign_category</th>\n      <th>item_campaign_key</th>\n      <th>item_campaign_label</th>\n    </tr>\n  </thead>\n  <tbody>\n    <tr>\n      <th>0</th>\n      <td>000000001000006076</td>\n      <td>|</td>\n      <td>wow12|crm-favdining</td>\n      <td>EXTRA -12 %|crm</td>\n    </tr>\n    <tr>\n      <th>1</th>\n      <td>000000001000008016</td>\n      <td>2019032601</td>\n      <td>3dmodels</td>\n      <td>3dmodels</td>\n    </tr>\n    <tr>\n      <th>2</th>\n      <td>000000001000008032</td>\n      <td></td>\n      <td></td>\n      <td></td>\n    </tr>\n    <tr>\n      <th>3</th>\n      <td>000000001000008509</td>\n      <td>2020061801|</td>\n      <td>sidewow|test</td>\n      <td>EXTRA -12 %|Test Valerie</td>\n    </tr>\n    <tr>\n      <th>4</th>\n      <td>000000001000008729</td>\n      <td></td>\n      <td></td>\n      <td></td>\n    </tr>\n  </tbody>\n</table>\n</div>"
     },
     "execution_count": 216,
     "metadata": {},
     "output_type": "execute_result"
    }
   ],
   "source": [
    "df_campaign.head()"
   ],
   "metadata": {
    "collapsed": false,
    "pycharm": {
     "name": "#%%\n"
    }
   }
  },
  {
   "cell_type": "code",
   "execution_count": 219,
   "outputs": [
    {
     "name": "stdout",
     "output_type": "stream",
     "text": [
      "31827848594342,71488185050378,224785681040185,25038272605281,66003517992621,74462021394914,100679798534570,154928563530175,73662191637457,169682504248479,2692801778218,135975807930039,138994088712555,46842188366232,120211027959520,20395642409368,65394400347680,127226683695048,20211508201120,128820719966683,187786938344533,227315835050470,234030476658978,108213988466089,141224110778088,151983822903626,198292212567208,216387891363420,229844485949139,134464046095856,138230763214441,129323200930102,139976088621728,112618974590311,274875034798182,2066942130973,146728563835247,112186534043649,82894169698233,260759150426570,220427820739992,187990528223809,69176282043018,170043872779977,99929938066990,237753328512171,38894203764772,187933000919936,52261297703691,43519991060918,258301027523634,155541362292937,207973439231826,231320324933583,155335976186971,208839644178623,178117027160469,122852719934137,40600078796222,131660168656219,12266273821396,46777765603668,243711583123936,334741852012,21230624892838,272585357974472,214537856349442,193965148837658,21145435249874,268820259706070,129532752091524,197416153088483,249992649050054,242711281131014,186571909572816,250720344272450,237087986828394,9035724444596,195300073118248,10226039184750,150559803859725,158929177295243,129324595043880,225193567899707,25872685387946,212335951089404,280405675172418,46566709943353,261038671724774,67582320822294,256850933266700,24267608991147,66155785620546,186419994568911,133600203054161,106784211493378,46637711468783,189055303299157,37143918336671,76259323823003,114456887640461,267978314001215,29009512530747,130287756272114,247342516133910,103599874648533,237415504332616,110658339312980,157001007195424,278723050144937,249821281061092,131717246601692,275151296631557,220656341027182,237717633339234,153534193828197,262837910242600,78247410979667,124649577165259,103374827140597,172371109644420,244557555544119,277771169659235,240517819235363,224970205531626,131991043960473,229489756010420,127923727173915,41838833317293,179726595227046,280167192314378,158708593058356,68042752144878,55282382078485,85072271713330,262839123975955,56514497656749,171547641991926,76830606155097,67351262357493,231630093951941,3084842360059,192860619495930,210004706971224,66638276848471,28206605692982,97151487063608,110730616868341,106575019702418,87796177263399,17206497755234,5748820064107,49181536255241,195947062260022,62027153462597,4679187658941,166597534785698,243025461615057,24982330489325,64266339186502,242775108143777,191901280879268,195324529868591,180637755967801,156892027158444,258019616606963,159783266443916,5513234055296,73579963076183,249610696800721,40064799058107,103430505949823,144801863390186,151232670357743,174553241483844,150969302386654,274649188172684,4743687304473,203295642736114,220272398836685,227489380897240,155578817996563,250099917074037,217516047981029,50643552316946,169076467441036,224168963060410,230148732147853,205675266232694,119192712739075,219820037295230,16439374755079,68863405493505,125941064751487,231742782865803,34464922734439,202286836886376,273296986673338,212977385322722,220104350403679,228755825764127,279472326115586,164959753695682,87754582392444,225886641249898,6710010110942,220732636744901,216361572479715,159138380923629,51126360439840,140675761544268,109907397386514,239413401716274,223580265422335,13324091265648,28428714014044,263392468867237,41992615911459,47359064340687,40898643840062,175078134472797,84423349855069,189901990951973,212381532442249,46102348697759,198025059863765,105187647955746,54358093789905,135548881433591,266783578959943,265012382185854,111494792815120,248026461387288,104658229113950,246114879238165,194513254478283,73917799795659,270694730581945,276201728464948,99173985444052,159873254216576,25295960929925,131356342332379,157741570084238,22243884870493,90875137198581,223092578644750,52510706281744,233940582917090,67516613153376,135793771261175,116775162581637,183343538453397,204805912778231,127314305136754,107287824426750,193110271702219,58236295175808,263963232869559,62283380424214,145009688375028,242734206834418,107316178067892,81708851723990,28193404316663,208283314508376,271490005348332,214765453134470,118009898234949,163291541413366,278588316198970,122688511489876,213349118036031,115172300350033,239757370327626,120606266757622,265520204304909,216545368536971,159984119783390,85283376495454,181688688290343,66629321797248,71117618882083,144786489259905,19058872057974,221972753085993,53156434769451,263118660995533,117060631087130,133894332194442,113194346280461,274294188006762,230404099404235,234515976025924,172387483105216,281220082101072,199358565444107,32288152001464,195343614806418,227544061148279,58944316031565,225852146365268,137051231107740,113586006834701,38069159201644,151962763295018,43674745588476,201951766236139,230875670340,47267081206564,256952634820831,180113896796741,57280719065297,97047154850474,103669272370126,81404086970392,153561441439123,165617980367623,182046393780247,81968746297433,82501599420782,239171034887123,126726639276166,163684869132783,28967904551963,169278023694598,8720923924658,40063326901032,84890945821922,123693257177821,41788660037773,228176744991707,82618853258736,267622274565702,69117060001748,192815737621959,234605401484709,253245334995850,221863924027536,273254869476,192895494803839,246732930388974,266082742268048,258033432329233,186379332323327,250610225331033,27916007748151,114989301623070,211691046659577,182231273221449,63408354926053,166122491071574,216885186720544,156552484593166,173098439216288,7207872307743,207920956497800,96629520669002,68297149207901,90807004529049,24655879112660,50117879007341,206494889865216,273147568020627,49187826093122,219696395721183,6438233210568,181399470032847,214919223070503,102471488739350,206999846838170,163032588387671,46642755396793,166993346607397,68666392103769,246338629370797,121004419482036,247288384410249,60319288606144,99585779467094,225990138262107,122224109464650,137927041100483,87000202965261,277692488431065,40677360113974,138035519331961,160593684266953,58747168410721,230451663783282,110432679644198,79751655906979\n"
     ]
    }
   ],
   "source": [
    "item_skey_list = list(pd_d_item_margin['item_skey'])\n",
    "string_ints = [str(int) for int in item_skey_list]\n",
    "str_of_ints = \",\".join(string_ints)\n",
    "print(str_of_ints)\n",
    "\n"
   ],
   "metadata": {
    "collapsed": false,
    "pycharm": {
     "name": "#%%\n"
    }
   }
  },
  {
   "cell_type": "code",
   "execution_count": 222,
   "outputs": [],
   "source": [
    "last_price_rule = \"\"\"\n",
    "SELECT item_skey, item_final_price_rule, period_date_skey--item_final_price_rule\n",
    "  from dwh.star_analytical.f_item_attribute_history\n",
    " where shop_skey = 1\n",
    "   and period_date_skey = (SELECT MAX(period_date_skey)\n",
    "                             FROM dwh.star_analytical.f_item_attribute_history)\n",
    "   and item_skey in ({ITEM_SKEY})\n",
    "\"\"\".format(ITEM_SKEY=str_of_ints)"
   ],
   "metadata": {
    "collapsed": false,
    "pycharm": {
     "name": "#%%\n"
    }
   }
  },
  {
   "cell_type": "code",
   "execution_count": 223,
   "outputs": [
    {
     "name": "stdout",
     "output_type": "stream",
     "text": [
      "['item_skey', 'item_final_price_rule', 'period_date_skey']\n"
     ]
    }
   ],
   "source": [
    "df_last_price_rule = query_to_dataframe(cursor_redshift, last_price_rule)"
   ],
   "metadata": {
    "collapsed": false,
    "pycharm": {
     "name": "#%%\n"
    }
   }
  },
  {
   "cell_type": "code",
   "execution_count": 224,
   "outputs": [],
   "source": [
    "sp_last_price_rule = spark.createDataFrame(df_last_price_rule)\n",
    "sp_last_price_rule.createOrReplaceTempView('last_price_rule')\n",
    "sp_campaign = spark.createDataFrame(df_campaign)\n",
    "sp_campaign.createOrReplaceTempView('campaign')"
   ],
   "metadata": {
    "collapsed": false,
    "pycharm": {
     "name": "#%%\n"
    }
   }
  },
  {
   "cell_type": "code",
   "execution_count": 231,
   "outputs": [],
   "source": [
    "final_df_margin = spark.sql(\"\"\"SELECT im.*,\n",
    "                    lpr.item_final_price_rule,\n",
    "                    camp.item_campaign_key,\n",
    "                    camp.item_campaign_label\n",
    "                    from item_margin as im\n",
    "                    INNER JOIN last_price_rule as lpr on lpr.item_skey = im.item_skey\n",
    "                    INNER JOIN campaign as camp on CAST(camp.item_code as int) = im.item_code\n",
    "                    \"\"\")"
   ],
   "metadata": {
    "collapsed": false,
    "pycharm": {
     "name": "#%%\n"
    }
   }
  },
  {
   "cell_type": "code",
   "execution_count": 241,
   "outputs": [
    {
     "name": "stdout",
     "output_type": "stream",
     "text": [
      "+----------+------------+------------------+--------------------+--------------------+------+------------------+---------------------+--------------------+-------------------+--------------------+----------------+---------------+---------+---------------------+--------------------+--------------------+\n",
      "| item_code|actual_price|     optimal_price| Margin_rate_to_base|                  PE|PE_err|               pc2|item_parent_item_code|  item_main_category|item_inventory_flag|item_gtin_comparable|item_exclusivity|      item_skey|pc1_costs|item_final_price_rule|   item_campaign_key| item_campaign_label|\n",
      "+----------+------------+------------------+--------------------+--------------------+------+------------------+---------------------+--------------------+-------------------+--------------------+----------------+---------------+---------+---------------------+--------------------+--------------------+\n",
      "|1000016121|      307.99| 301.8913893917476| 0.04020000000001083|             -0.0201| 0.005|            130.34|   000000008000001098|ESSZIMMERSTÜHLE&B...|               laso|          comparable|      whiteLabel| 40600078796222|  102.440|           catloaf-v4|             sidewow|         EXTRA -12 %|\n",
      "|1000114882|      199.99|  196.029932674618|0.050800000000003044|             -0.0254|0.0067| 98.62899999999999| 000000001000114882-P|             POLSTER|               laso|          comparable|      whiteLabel|228176744991707|   72.049|           catloaf-v4|        sidewow|test|EXTRA -12 %|Test ...|\n",
      "|1000008030|      249.99|245.03986633995572| 0.03540000000000962|             -0.0177|0.0051|            101.64|   000000008000000488|     ESSZIMMERTISCHE|               laso|      non-comparable|       exclusive|166122491071574|   63.990|           catloaf-v4|sidewow|3dmodels|...|EXTRA -12 %|3dmod...|\n",
      "|1000006102|       79.99| 78.40609187780734| 0.16539999999999774|             -0.0827|0.0162|             38.42|   000000008000000264|ESSZIMMERSTÜHLE&B...|               laso|      non-comparable|      whiteLabel| 54358093789905|   31.100|           catloaf-v4|       crm-favdining|                 crm|\n",
      "|1000015924|      129.99|127.41602554314512| 0.03079999999999023|             -0.0154|0.0029|            77.359|   000000008000020898|              WOHNEN|               laso|          comparable|      whiteLabel|225193567899707|   69.069|      competitorGS-v6|                    |                    |\n",
      "|1000065870|      529.99| 519.4954948658474| 0.07420000000001398|             -0.0371|0.0123|           308.839| 000000001000065870-P|              GARTEN|warehouse-undefined|          comparable| thirdPartyBrand|169076467441036|  300.740|          fallback-v2|            garden12|         EXTRA -12 %|\n",
      "|1000128255| 64.98999999|63.703111768404035| 0.10979999999999439|             -0.0549|0.0098|             27.03|   000000008000017374|            LEUCHTEN|               laso|      non-comparable|      whiteLabel|  4743687304473|   19.789|           catloaf-v4|             sidewow|         EXTRA -12 %|\n",
      "|1000006755|      349.99| 339.6462322866424| 0.05279999999999468|             -0.0176|0.0025|            129.34|   000000008000000334|              WOHNEN|               laso|      non-comparable|       exclusive| 58236295175808|   78.390|           catloaf-v4|             sidewow|         EXTRA -12 %|\n",
      "|1000007403|      299.99| 294.0498000052935|  0.0398000000000162|             -0.0199|0.0058|            162.62| 000000001000007403-P|     ESSZIMMERTISCHE|             former|      non-comparable|      whiteLabel|114456887640461|  122.940|            former-v5| wow12|crm-favdining|     EXTRA -12 %|crm|\n",
      "|1000008492|      129.99|127.41602554314512| 0.08099999999999485|             -0.0405|0.0096|             54.27|   000000008000000530|ESSZIMMERSTÜHLE&B...|               laso|      non-comparable|      whiteLabel|126726639276166|   46.259|           catloaf-v4|                    |                    |\n",
      "|1000014946|     1099.99|1078.2087386506978|0.029400000000013162|             -0.0147|0.0046|            469.37| 000000001000014946-P|              WOHNEN|               laso|          comparable|      whiteLabel| 84423349855069|  417.050|           catloaf-v4|       crm-favdining|                 crm|\n",
      "|1000015609|      149.99|147.01999900928024| 0.02699999999998873|             -0.0135|0.0039|             98.68| 000000001000015609-P|     ESSZIMMERTISCHE|               laso|          comparable|      whiteLabel|155541362292937|   70.400|      competitorGS-v6|                    |                    |\n",
      "|1000118255|      299.99| 294.0498000052935|  0.0251999999999923|             -0.0126|0.0034|164.31900000000002|   000000008000017165|             POLSTER|               laso|      non-comparable|      whiteLabel| 79751655906979|  119.190|           catloaf-v4|                    |                    |\n",
      "|1000123272|      329.99| 323.4557602044962| 0.02719999999999941|             -0.0136|0.0042|181.78900000000002|   000000008000016605|                BÜRO|               laso|          comparable|      whiteLabel| 81708851723990|  130.410|          fallback-v2|                    |                    |\n",
      "|1000022562|      164.99|160.11380858016838|  0.3090000000000245|-0.10300000000000001|0.0139|              89.0|   000000008000001977|MATRATZEN&LATTENR...|               laso|          comparable| thirdPartyBrand|220272398836685|   53.250|           catloaf-v4|               wow12|         EXTRA -12 %|\n",
      "|1000027400|      149.99|147.01999900928024| 0.15199999999998823|              -0.076|0.0158|             66.14|   000000008000002431|ESSZIMMERSTÜHLE&B...|               laso|          comparable|      whiteLabel|242734206834418|   57.600|           catloaf-v4|               wow12|         EXTRA -12 %|\n",
      "|1000129700|       99.99| 98.01006534394246| 0.04039999999997608|             -0.0202|0.0055|             57.82|   000000008000017684|              WOHNEN|               laso|          comparable|      whiteLabel|229489756010420|   50.649|      competitorGS-v6|        sidewow|test|EXTRA -12 %|Test ...|\n",
      "|1000186801|      599.99| 588.1094019973201|0.030599999999999485|             -0.0153|0.0047|            202.68| 000000001000186801-P|              WOHNEN|               laso|      non-comparable|      whiteLabel|219696395721183|  159.330|          fallback-v2|       crm-favdining|                 crm|\n",
      "|1000118440|       74.99| 73.50509851127356| 0.16900000000002713|             -0.0845|0.0186|              34.6|   000000008000017295|MATRATZEN&LATTENR...|               laso|          comparable| thirdPartyBrand|278723050144937|   33.390|           catloaf-v4|                    |                    |\n",
      "|1000022615|       34.99| 34.29715157900337| 0.17760000000000298|             -0.0888|0.0186|12.359000000000002|   000000008000001983|MATRATZEN&LATTENR...|               laso|          comparable| thirdPartyBrand| 74462021394914|   11.279|           catloaf-v4|             sidewow|         EXTRA -12 %|\n",
      "+----------+------------+------------------+--------------------+--------------------+------+------------------+---------------------+--------------------+-------------------+--------------------+----------------+---------------+---------+---------------------+--------------------+--------------------+\n",
      "only showing top 20 rows\n",
      "\n"
     ]
    }
   ],
   "source": [
    "final_df_margin.show()"
   ],
   "metadata": {
    "collapsed": false,
    "pycharm": {
     "name": "#%%\n"
    }
   }
  },
  {
   "cell_type": "code",
   "execution_count": 250,
   "outputs": [],
   "source": [
    "df_margin_panda= final_df_margin.toPandas()\n"
   ],
   "metadata": {
    "collapsed": false,
    "pycharm": {
     "name": "#%%\n"
    }
   }
  },
  {
   "cell_type": "code",
   "execution_count": 251,
   "outputs": [],
   "source": [
    "df_wow = df_margin_panda[df_margin_panda['item_campaign_key'].str.contains('wow')]"
   ],
   "metadata": {
    "collapsed": false,
    "pycharm": {
     "name": "#%%\n"
    }
   }
  },
  {
   "cell_type": "code",
   "execution_count": 252,
   "outputs": [
    {
     "name": "stdout",
     "output_type": "stream",
     "text": [
      "193\n"
     ]
    }
   ],
   "source": [
    "print(len(df_wow['item_code']))"
   ],
   "metadata": {
    "collapsed": false,
    "pycharm": {
     "name": "#%%\n"
    }
   }
  },
  {
   "cell_type": "code",
   "execution_count": 253,
   "outputs": [],
   "source": [
    "df_not_wow = df_margin_panda[~df_margin_panda['item_campaign_key'].str.contains('wow')]"
   ],
   "metadata": {
    "collapsed": false,
    "pycharm": {
     "name": "#%%\n"
    }
   }
  },
  {
   "cell_type": "code",
   "execution_count": 254,
   "outputs": [
    {
     "name": "stdout",
     "output_type": "stream",
     "text": [
      "199\n"
     ]
    }
   ],
   "source": [
    "print(len(df_not_wow))"
   ],
   "metadata": {
    "collapsed": false,
    "pycharm": {
     "name": "#%%\n"
    }
   }
  },
  {
   "cell_type": "code",
   "execution_count": 255,
   "outputs": [],
   "source": [
    "df_not_wow_sa = df_not_wow[df_not_wow['item_parent_item_code'].str.contains('-P')]"
   ],
   "metadata": {
    "collapsed": false,
    "pycharm": {
     "name": "#%%\n"
    }
   }
  },
  {
   "cell_type": "code",
   "execution_count": 256,
   "outputs": [
    {
     "name": "stdout",
     "output_type": "stream",
     "text": [
      "74\n"
     ]
    }
   ],
   "source": [
    "print(len(df_not_wow_sa))"
   ],
   "metadata": {
    "collapsed": false,
    "pycharm": {
     "name": "#%%\n"
    }
   }
  },
  {
   "cell_type": "code",
   "execution_count": 259,
   "outputs": [],
   "source": [
    "df_sa = df_margin_panda[df_margin_panda['item_parent_item_code'].str.contains('-P')]"
   ],
   "metadata": {
    "collapsed": false,
    "pycharm": {
     "name": "#%%\n"
    }
   }
  },
  {
   "cell_type": "code",
   "execution_count": 260,
   "outputs": [
    {
     "name": "stdout",
     "output_type": "stream",
     "text": [
      "127\n"
     ]
    }
   ],
   "source": [
    "print(len(df_sa))"
   ],
   "metadata": {
    "collapsed": false,
    "pycharm": {
     "name": "#%%\n"
    }
   }
  },
  {
   "cell_type": "code",
   "execution_count": 261,
   "outputs": [],
   "source": [
    "\n",
    "df_margin_panda.to_csv('../raw_data/Excel_files/Margin_result_all_in_v0.csv')"
   ],
   "metadata": {
    "collapsed": false,
    "pycharm": {
     "name": "#%%\n"
    }
   }
  },
  {
   "cell_type": "code",
   "execution_count": null,
   "outputs": [],
   "source": [],
   "metadata": {
    "collapsed": false,
    "pycharm": {
     "name": "#%%\n"
    }
   }
  }
 ],
 "metadata": {
  "kernelspec": {
   "display_name": "Python 3",
   "language": "python",
   "name": "python3"
  },
  "language_info": {
   "codemirror_mode": {
    "name": "ipython",
    "version": 2
   },
   "file_extension": ".py",
   "mimetype": "text/x-python",
   "name": "python",
   "nbconvert_exporter": "python",
   "pygments_lexer": "ipython2",
   "version": "2.7.6"
  }
 },
 "nbformat": 4,
 "nbformat_minor": 0
}