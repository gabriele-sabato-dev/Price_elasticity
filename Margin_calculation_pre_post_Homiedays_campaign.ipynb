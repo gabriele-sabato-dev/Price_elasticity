{
 "cells": [
  {
   "cell_type": "code",
   "execution_count": 4,
   "metadata": {
    "collapsed": true
   },
   "outputs": [],
   "source": [
    "import pandas as pd\n",
    "import numpy as np\n",
    "from pyspark.sql import SparkSession\n",
    "spark = SparkSession.builder.master('local').config('spark.driver.memory', '16g').appName('Margin_pre_post').getOrCreate()"
   ]
  },
  {
   "cell_type": "code",
   "execution_count": 5,
   "outputs": [],
   "source": [
    "total_bazooka = pd.read_csv('../raw_data/Excel_files/Bazooka.csv', index_col=0)"
   ],
   "metadata": {
    "collapsed": false,
    "pycharm": {
     "name": "#%%\n"
    }
   }
  },
  {
   "cell_type": "code",
   "execution_count": 6,
   "outputs": [
    {
     "data": {
      "text/plain": "    item_code  item_price_x    max_date  delivery_weeks  sales_pe  \\\n0  1000086540        349.99  2021-04-28               3   -1.4374   \n1  1000050876        569.99  2021-04-18               2   -1.1908   \n2  1000184191        104.99  2021-04-27               4   -4.8137   \n3  1000027369        699.99  2021-04-15               2   -1.0499   \n4  1000008842        369.99  2021-04-24               1   -3.7269   \n\n   sales_pe_err  beta_del_week  beta_del_week_err  intercept  intercept_err  \\\n0        0.2356        -0.0499             0.0098     9.5983         1.4798   \n1        0.3369        -0.0119             0.0089     9.2930         2.1853   \n2        0.8391        -0.0163             0.0412    26.1239         3.8742   \n3        0.3353        -0.0246             0.0122     7.6897         2.1169   \n4        0.5994        -0.0319             0.0291    25.8375         3.8917   \n\n   ...  Delta_N_Sales  log_x_prime  N_prime_sales  Delta_Margin  Group_flag  \\\n0  ...      -0.012720     5.988933       0.840108      0.778171          up   \n1  ...      -0.010538     6.476647       1.556809      5.774286          up   \n2  ...      -0.042599     4.784893       3.025659      0.183779          up   \n3  ...      -0.009291     6.682094       0.624969      0.938321          up   \n4  ...      -0.032981     6.044504       3.278337      4.521200          up   \n\n             Increment  final_price_amount  voucher_value  campaign_start  \\\n0  14.000000000000002%              349.99            0.0      2021-04-17   \n1  14.000000000000002%              569.99            0.0      2021-04-17   \n2  14.000000000000002%              104.99            0.0      2021-04-17   \n3  14.000000000000002%              699.99            0.0      2021-04-17   \n4  14.000000000000002%              369.99            0.0      2021-04-17   \n\n  campaign_end  \n0   2021-04-28  \n1   2021-04-28  \n2   2021-04-28  \n3   2021-04-28  \n4   2021-04-28  \n\n[5 rows x 25 columns]",
      "text/html": "<div>\n<style scoped>\n    .dataframe tbody tr th:only-of-type {\n        vertical-align: middle;\n    }\n\n    .dataframe tbody tr th {\n        vertical-align: top;\n    }\n\n    .dataframe thead th {\n        text-align: right;\n    }\n</style>\n<table border=\"1\" class=\"dataframe\">\n  <thead>\n    <tr style=\"text-align: right;\">\n      <th></th>\n      <th>item_code</th>\n      <th>item_price_x</th>\n      <th>max_date</th>\n      <th>delivery_weeks</th>\n      <th>sales_pe</th>\n      <th>sales_pe_err</th>\n      <th>beta_del_week</th>\n      <th>beta_del_week_err</th>\n      <th>intercept</th>\n      <th>intercept_err</th>\n      <th>...</th>\n      <th>Delta_N_Sales</th>\n      <th>log_x_prime</th>\n      <th>N_prime_sales</th>\n      <th>Delta_Margin</th>\n      <th>Group_flag</th>\n      <th>Increment</th>\n      <th>final_price_amount</th>\n      <th>voucher_value</th>\n      <th>campaign_start</th>\n      <th>campaign_end</th>\n    </tr>\n  </thead>\n  <tbody>\n    <tr>\n      <th>0</th>\n      <td>1000086540</td>\n      <td>349.99</td>\n      <td>2021-04-28</td>\n      <td>3</td>\n      <td>-1.4374</td>\n      <td>0.2356</td>\n      <td>-0.0499</td>\n      <td>0.0098</td>\n      <td>9.5983</td>\n      <td>1.4798</td>\n      <td>...</td>\n      <td>-0.012720</td>\n      <td>5.988933</td>\n      <td>0.840108</td>\n      <td>0.778171</td>\n      <td>up</td>\n      <td>14.000000000000002%</td>\n      <td>349.99</td>\n      <td>0.0</td>\n      <td>2021-04-17</td>\n      <td>2021-04-28</td>\n    </tr>\n    <tr>\n      <th>1</th>\n      <td>1000050876</td>\n      <td>569.99</td>\n      <td>2021-04-18</td>\n      <td>2</td>\n      <td>-1.1908</td>\n      <td>0.3369</td>\n      <td>-0.0119</td>\n      <td>0.0089</td>\n      <td>9.2930</td>\n      <td>2.1853</td>\n      <td>...</td>\n      <td>-0.010538</td>\n      <td>6.476647</td>\n      <td>1.556809</td>\n      <td>5.774286</td>\n      <td>up</td>\n      <td>14.000000000000002%</td>\n      <td>569.99</td>\n      <td>0.0</td>\n      <td>2021-04-17</td>\n      <td>2021-04-28</td>\n    </tr>\n    <tr>\n      <th>2</th>\n      <td>1000184191</td>\n      <td>104.99</td>\n      <td>2021-04-27</td>\n      <td>4</td>\n      <td>-4.8137</td>\n      <td>0.8391</td>\n      <td>-0.0163</td>\n      <td>0.0412</td>\n      <td>26.1239</td>\n      <td>3.8742</td>\n      <td>...</td>\n      <td>-0.042599</td>\n      <td>4.784893</td>\n      <td>3.025659</td>\n      <td>0.183779</td>\n      <td>up</td>\n      <td>14.000000000000002%</td>\n      <td>104.99</td>\n      <td>0.0</td>\n      <td>2021-04-17</td>\n      <td>2021-04-28</td>\n    </tr>\n    <tr>\n      <th>3</th>\n      <td>1000027369</td>\n      <td>699.99</td>\n      <td>2021-04-15</td>\n      <td>2</td>\n      <td>-1.0499</td>\n      <td>0.3353</td>\n      <td>-0.0246</td>\n      <td>0.0122</td>\n      <td>7.6897</td>\n      <td>2.1169</td>\n      <td>...</td>\n      <td>-0.009291</td>\n      <td>6.682094</td>\n      <td>0.624969</td>\n      <td>0.938321</td>\n      <td>up</td>\n      <td>14.000000000000002%</td>\n      <td>699.99</td>\n      <td>0.0</td>\n      <td>2021-04-17</td>\n      <td>2021-04-28</td>\n    </tr>\n    <tr>\n      <th>4</th>\n      <td>1000008842</td>\n      <td>369.99</td>\n      <td>2021-04-24</td>\n      <td>1</td>\n      <td>-3.7269</td>\n      <td>0.5994</td>\n      <td>-0.0319</td>\n      <td>0.0291</td>\n      <td>25.8375</td>\n      <td>3.8917</td>\n      <td>...</td>\n      <td>-0.032981</td>\n      <td>6.044504</td>\n      <td>3.278337</td>\n      <td>4.521200</td>\n      <td>up</td>\n      <td>14.000000000000002%</td>\n      <td>369.99</td>\n      <td>0.0</td>\n      <td>2021-04-17</td>\n      <td>2021-04-28</td>\n    </tr>\n  </tbody>\n</table>\n<p>5 rows × 25 columns</p>\n</div>"
     },
     "execution_count": 6,
     "metadata": {},
     "output_type": "execute_result"
    }
   ],
   "source": [
    "total_bazooka.head()"
   ],
   "metadata": {
    "collapsed": false,
    "pycharm": {
     "name": "#%%\n"
    }
   }
  },
  {
   "cell_type": "code",
   "execution_count": 7,
   "outputs": [],
   "source": [
    "bazooka_ready = total_bazooka[['item_code', 'pc2','Group_flag']]"
   ],
   "metadata": {
    "collapsed": false,
    "pycharm": {
     "name": "#%%\n"
    }
   }
  },
  {
   "cell_type": "code",
   "execution_count": 8,
   "outputs": [],
   "source": [
    "s_bazooka = spark.createDataFrame(bazooka_ready)"
   ],
   "metadata": {
    "collapsed": false,
    "pycharm": {
     "name": "#%%\n"
    }
   }
  },
  {
   "cell_type": "code",
   "execution_count": 9,
   "outputs": [],
   "source": [
    "#retrieve sales\n",
    "df_sales = spark.read.parquet(\n",
    "    '/Users/gabriele.sabato/PycharmProjects/raw_data/price_elasticity_model_data/part-*',\n",
    "    header=True)"
   ],
   "metadata": {
    "collapsed": false,
    "pycharm": {
     "name": "#%%\n"
    }
   }
  },
  {
   "cell_type": "code",
   "execution_count": 10,
   "outputs": [
    {
     "data": {
      "text/plain": "[('item_code', 'string'),\n ('update_date', 'date'),\n ('delivery_weeks', 'bigint'),\n ('item_price', 'double'),\n ('sales', 'bigint')]"
     },
     "execution_count": 10,
     "metadata": {},
     "output_type": "execute_result"
    }
   ],
   "source": [
    "df_sales.dtypes"
   ],
   "metadata": {
    "collapsed": false,
    "pycharm": {
     "name": "#%%\n"
    }
   }
  },
  {
   "cell_type": "code",
   "execution_count": 11,
   "outputs": [],
   "source": [
    "s_bazooka.createOrReplaceTempView('bazooka')\n",
    "df_sales.createOrReplaceTempView('sales')"
   ],
   "metadata": {
    "collapsed": false,
    "pycharm": {
     "name": "#%%\n"
    }
   }
  },
  {
   "cell_type": "code",
   "execution_count": 12,
   "outputs": [
    {
     "name": "stdout",
     "output_type": "stream",
     "text": [
      "+------------------+-----------+--------------+-----------+-----+\n",
      "|         item_code|update_date|delivery_weeks| item_price|sales|\n",
      "+------------------+-----------+--------------+-----------+-----+\n",
      "|000000000000001000| 2020-02-09|             1|       29.0|   12|\n",
      "|000000000000001000| 2021-05-17|             5|       29.0|    0|\n",
      "|000000001000000008| 2019-07-31|             1|      13.99|    0|\n",
      "|000000001000000008| 2020-02-19|             1|      13.99|    0|\n",
      "|000000001000000008| 2020-07-31|             2|       6.99|    0|\n",
      "|000000001000000008| 2020-09-04|             2|       6.99|    0|\n",
      "|000000001000000013| 2019-08-25|             1|      39.99|    0|\n",
      "|000000001000000013| 2020-02-29|             1|27.98999999|    4|\n",
      "|000000001000000013| 2020-03-06|             1|27.98999999|    1|\n",
      "|000000001000000014| 2019-06-21|             1|74.98999999|    0|\n",
      "|000000001000000014| 2019-08-07|             1|74.98999999|    0|\n",
      "|000000001000000014| 2020-04-13|             1|74.98999999|    1|\n",
      "|000000001000000014| 2020-04-27|             2|74.98999999|    0|\n",
      "|000000001000000014| 2021-02-25|             2|      82.99|    0|\n",
      "|000000001000000016| 2020-01-04|             1|      46.99|    0|\n",
      "|000000001000000016| 2020-01-29|             1|      46.99|    0|\n",
      "|000000001000000016| 2020-05-28|             3|      44.99|    0|\n",
      "|000000001000000016| 2020-06-16|             2|      44.99|    0|\n",
      "|000000001000000016| 2020-08-20|             2|      44.99|    0|\n",
      "|000000001000000016| 2020-11-18|             2|      47.99|    0|\n",
      "+------------------+-----------+--------------+-----------+-----+\n",
      "only showing top 20 rows\n",
      "\n"
     ]
    }
   ],
   "source": [
    "df_sales.show()"
   ],
   "metadata": {
    "collapsed": false,
    "pycharm": {
     "name": "#%%\n"
    }
   }
  },
  {
   "cell_type": "code",
   "execution_count": 13,
   "outputs": [],
   "source": [
    "int_query= spark.sql(\"\"\"SELECT s.item_code,\n",
    "       CASE WHEN s.update_date >= '2021-04-17' and s.update_date <= '2021-04-28'\n",
    "        THEN s.sales * (s.item_price/1.19 - b.pc2) END as Margin_before,\n",
    "       CASE WHEN s.update_date > '2021-04-28' and s.update_date <= '2021-05-10'\n",
    "        THEN s.sales * (s.item_price* (1-0.14)/1.19 - b.pc2) END as Margin_HD,--applying 14% discount on the price,\n",
    "        b.Group_flag as flag,\n",
    "        s.update_date,\n",
    "        s.item_price,\n",
    "        s.sales\n",
    "  from bazooka as b\n",
    "  inner join sales as s on CAST(s.item_code as bigint) = b.item_code\n",
    "    where  s.update_date >= '2021-04-17' and s.update_date <= '2021-05-10'\n",
    "    ORDER BY item_code,update_date\"\"\")"
   ],
   "metadata": {
    "collapsed": false,
    "pycharm": {
     "name": "#%%\n"
    }
   }
  },
  {
   "cell_type": "code",
   "execution_count": 13,
   "outputs": [],
   "source": [],
   "metadata": {
    "collapsed": false,
    "pycharm": {
     "name": "#%%\n"
    }
   }
  },
  {
   "cell_type": "code",
   "execution_count": 14,
   "outputs": [
    {
     "name": "stdout",
     "output_type": "stream",
     "text": [
      "+------------------+------------------+------------------+----+-----------+----------+-----+\n",
      "|         item_code|     Margin_before|         Margin_HD|flag|update_date|item_price|sales|\n",
      "+------------------+------------------+------------------+----+-----------+----------+-----+\n",
      "|000000001000007069|               0.0|              null|down| 2021-04-17|    269.99|    0|\n",
      "|000000001000007069|               0.0|              null|down| 2021-04-18|    269.99|    0|\n",
      "|000000001000007069|130.52335294117648|              null|down| 2021-04-19|    269.99|    1|\n",
      "|000000001000007069|               0.0|              null|down| 2021-04-20|    269.99|    0|\n",
      "|000000001000007069|               0.0|              null|down| 2021-04-21|    269.99|    0|\n",
      "|000000001000007069|               0.0|              null|down| 2021-04-22|    269.99|    0|\n",
      "|000000001000007069|               0.0|              null|down| 2021-04-23|    269.99|    0|\n",
      "|000000001000007069|261.04670588235297|              null|down| 2021-04-24|    269.99|    2|\n",
      "|000000001000007069|               0.0|              null|down| 2021-04-25|    269.99|    0|\n",
      "|000000001000007069|261.04670588235297|              null|down| 2021-04-26|    269.99|    2|\n",
      "|000000001000007069|130.52335294117648|              null|down| 2021-04-27|    269.99|    1|\n",
      "|000000001000007069|130.52335294117648|              null|down| 2021-04-28|    269.99|    1|\n",
      "|000000001000007069|              null|               0.0|down| 2021-04-29|    269.99|    0|\n",
      "|000000001000007069|              null|               0.0|down| 2021-04-30|    269.99|    0|\n",
      "|000000001000007069|              null|               0.0|down| 2021-05-01|    269.99|    0|\n",
      "|000000001000007069|              null| 395.0392941176472|down| 2021-05-02|    269.99|    4|\n",
      "|000000001000007069|              null|  98.7598235294118|down| 2021-05-03|    269.99|    1|\n",
      "|000000001000007069|              null|               0.0|down| 2021-05-04|    269.99|    0|\n",
      "|000000001000007069|              null|               0.0|down| 2021-05-05|    269.99|    0|\n",
      "|000000001000007069|              null|               0.0|down| 2021-05-06|    269.99|    0|\n",
      "|000000001000007069|              null|               0.0|down| 2021-05-07|    269.99|    0|\n",
      "|000000001000007069|              null|               0.0|down| 2021-05-08|    269.99|    0|\n",
      "|000000001000007069|              null|               0.0|down| 2021-05-09|    269.99|    0|\n",
      "|000000001000007069|              null|               0.0|down| 2021-05-10|    269.99|    0|\n",
      "|000000001000007079|               0.0|              null|down| 2021-04-17|    579.99|    0|\n",
      "|000000001000007079|255.96755462184873|              null|down| 2021-04-18|    579.99|    1|\n",
      "|000000001000007079|               0.0|              null|down| 2021-04-19|    579.99|    0|\n",
      "|000000001000007079|               0.0|              null|down| 2021-04-20|    579.99|    0|\n",
      "|000000001000007079|511.93510924369747|              null|down| 2021-04-21|    579.99|    2|\n",
      "|000000001000007079|               0.0|              null|down| 2021-04-22|    579.99|    0|\n",
      "|000000001000007079|511.93510924369747|              null|down| 2021-04-23|    579.99|    2|\n",
      "|000000001000007079|               0.0|              null|down| 2021-04-24|    579.99|    0|\n",
      "|000000001000007079|255.96755462184873|              null|down| 2021-04-25|    579.99|    1|\n",
      "|000000001000007079|255.96755462184873|              null|down| 2021-04-26|    579.99|    1|\n",
      "|000000001000007079|               0.0|              null|down| 2021-04-27|    579.99|    0|\n",
      "|000000001000007079|255.96755462184873|              null|down| 2021-04-28|    579.99|    1|\n",
      "|000000001000007079|              null|               0.0|down| 2021-04-29|    579.99|    0|\n",
      "|000000001000007079|              null|187.73343697478995|down| 2021-04-30|    579.99|    1|\n",
      "|000000001000007079|              null|               0.0|down| 2021-05-01|    579.99|    0|\n",
      "|000000001000007079|              null| 375.4668739495799|down| 2021-05-02|    579.99|    2|\n",
      "|000000001000007079|              null| 375.4668739495799|down| 2021-05-03|    579.99|    2|\n",
      "|000000001000007079|              null| 375.4668739495799|down| 2021-05-04|    579.99|    2|\n",
      "|000000001000007079|              null|187.73343697478995|down| 2021-05-05|    579.99|    1|\n",
      "|000000001000007079|              null|               0.0|down| 2021-05-06|    579.99|    0|\n",
      "|000000001000007079|              null|               0.0|down| 2021-05-07|    579.99|    0|\n",
      "|000000001000007079|              null|               0.0|down| 2021-05-08|    579.99|    0|\n",
      "|000000001000007079|              null|               0.0|down| 2021-05-09|    579.99|    0|\n",
      "|000000001000007079|              null|187.73343697478995|down| 2021-05-10|    579.99|    1|\n",
      "|000000001000007080|               0.0|              null|down| 2021-04-17|    649.99|    0|\n",
      "|000000001000007080|               0.0|              null|down| 2021-04-18|    649.99|    0|\n",
      "+------------------+------------------+------------------+----+-----------+----------+-----+\n",
      "only showing top 50 rows\n",
      "\n"
     ]
    }
   ],
   "source": [
    "int_query.show(50)"
   ],
   "metadata": {
    "collapsed": false,
    "pycharm": {
     "name": "#%%\n"
    }
   }
  },
  {
   "cell_type": "code",
   "execution_count": 61,
   "outputs": [],
   "source": [
    "margin_calculation = spark.sql(\"\"\"\n",
    "WITH margins as (SELECT s.item_code,\n",
    "       CASE WHEN s.update_date >= '2021-04-17' and s.update_date <= '2021-04-28'\n",
    "        THEN s.sales * (s.item_price/1.19 - b.pc2) END as Margin_before,\n",
    "       CASE WHEN s.update_date > '2021-04-28' and s.update_date <= '2021-05-10'\n",
    "        THEN s.sales * (s.item_price/1.19 - b.pc2) END as Margin_HD,\n",
    "        b.Group_flag as flag\n",
    "  from bazooka as b\n",
    "  inner join sales as s on CAST(s.item_code as bigint) = b.item_code\n",
    "    where  s.update_date >= '2021-04-17' and s.update_date <= '2021-05-10')\n",
    "    SELECT item_code,\n",
    "           SUM(Margin_before) as Tot_Margin_before,\n",
    "           SUM(Margin_HD) as Tot_Margin_campaign,\n",
    "           MAX(flag) as Group_flag\n",
    "            from margins\n",
    "            GROUP BY item_code\"\"\")\n"
   ],
   "metadata": {
    "collapsed": false,
    "pycharm": {
     "name": "#%%\n"
    }
   }
  },
  {
   "cell_type": "code",
   "execution_count": 62,
   "outputs": [
    {
     "name": "stdout",
     "output_type": "stream",
     "text": [
      "+------------------+------------------+-------------------+----------+\n",
      "|         item_code| Tot_Margin_before|Tot_Margin_campaign|Group_flag|\n",
      "+------------------+------------------+-------------------+----------+\n",
      "|000000001000008827| 1512.329941176471|  1944.424210084034|      down|\n",
      "|000000001000007325| 684.0110924369749|  513.0083193277312|      down|\n",
      "|000000001000007079|2047.7404369747896| 2303.7079915966387|      down|\n",
      "|000000001000034491| 97.95596638655465|                0.0|      down|\n",
      "|000000001000103647| 432.3385714285715| 1297.0157142857145|        up|\n",
      "|000000001000008748| 977.4410924369749|                0.0|      down|\n",
      "|000000001000050883| 698.0238655462186| 1396.0477310924373|      down|\n",
      "|000000001000118200| 200.4795798319328|                0.0|      down|\n",
      "|000000001000123763|134.63386554621852| 134.63386554621852|      down|\n",
      "|000000001000200152| 248.4977647058824| 331.33035294117656|      down|\n",
      "|000000001000110022|1734.9747899159665|  3036.205882352942|        up|\n",
      "|000000001000007080| 3402.961008403362|  3402.961008403362|      down|\n",
      "|000000001000008867|           800.493|            533.662|      down|\n",
      "|000000001000008824| 781.4617647058824| 1562.9235294117648|      down|\n",
      "|000000001000056782|               0.0| 228.42427731092437|        up|\n",
      "|000000001000189771| 636.4304117647059|  666.7366218487396|        up|\n",
      "|000000001000117189| 5291.503361344538|  4938.736470588235|      down|\n",
      "|000000001000092019| 436.1697478991597| 2289.8911764705886|        up|\n",
      "|000000001000050877|486.96855462184874| 486.96855462184874|      down|\n",
      "|000000001000008808|  1336.38756302521|   1336.38756302521|      down|\n",
      "+------------------+------------------+-------------------+----------+\n",
      "only showing top 20 rows\n",
      "\n"
     ]
    }
   ],
   "source": [
    "margin_calculation.show()\n"
   ],
   "metadata": {
    "collapsed": false,
    "pycharm": {
     "name": "#%%\n"
    }
   }
  },
  {
   "cell_type": "code",
   "execution_count": 63,
   "outputs": [],
   "source": [
    "margin_calc = margin_calculation.toPandas()"
   ],
   "metadata": {
    "collapsed": false,
    "pycharm": {
     "name": "#%%\n"
    }
   }
  },
  {
   "cell_type": "code",
   "execution_count": 64,
   "outputs": [],
   "source": [
    "margin_calc = margin_calc.astype({'Tot_Margin_before': float,'Tot_Margin_campaign': float })"
   ],
   "metadata": {
    "collapsed": false,
    "pycharm": {
     "name": "#%%\n"
    }
   }
  },
  {
   "cell_type": "code",
   "execution_count": 65,
   "outputs": [],
   "source": [
    "margin_calc = margin_calc[margin_calc['Tot_Margin_before'] > 0.00]\n",
    "margin_calc = margin_calc[margin_calc['Tot_Margin_campaign'] > 0.00]"
   ],
   "metadata": {
    "collapsed": false,
    "pycharm": {
     "name": "#%%\n"
    }
   }
  },
  {
   "cell_type": "code",
   "execution_count": 66,
   "outputs": [],
   "source": [
    "margin_calc['Rate'] =(margin_calc['Tot_Margin_campaign'] - margin_calc['Tot_Margin_before']) /margin_calc['Tot_Margin_before']*100"
   ],
   "metadata": {
    "collapsed": false,
    "pycharm": {
     "name": "#%%\n"
    }
   }
  },
  {
   "cell_type": "code",
   "execution_count": 67,
   "outputs": [
    {
     "data": {
      "text/plain": "            item_code  Tot_Margin_before  Tot_Margin_campaign Group_flag  \\\n0  000000001000008827        1512.329941          1944.424210       down   \n1  000000001000007325         684.011092           513.008319       down   \n2  000000001000007079        2047.740437          2303.707992       down   \n4  000000001000103647         432.338571          1297.015714         up   \n6  000000001000050883         698.023866          1396.047731       down   \n\n         Rate  \n0   28.571429  \n1  -25.000000  \n2   12.500000  \n4  200.000000  \n6  100.000000  ",
      "text/html": "<div>\n<style scoped>\n    .dataframe tbody tr th:only-of-type {\n        vertical-align: middle;\n    }\n\n    .dataframe tbody tr th {\n        vertical-align: top;\n    }\n\n    .dataframe thead th {\n        text-align: right;\n    }\n</style>\n<table border=\"1\" class=\"dataframe\">\n  <thead>\n    <tr style=\"text-align: right;\">\n      <th></th>\n      <th>item_code</th>\n      <th>Tot_Margin_before</th>\n      <th>Tot_Margin_campaign</th>\n      <th>Group_flag</th>\n      <th>Rate</th>\n    </tr>\n  </thead>\n  <tbody>\n    <tr>\n      <th>0</th>\n      <td>000000001000008827</td>\n      <td>1512.329941</td>\n      <td>1944.424210</td>\n      <td>down</td>\n      <td>28.571429</td>\n    </tr>\n    <tr>\n      <th>1</th>\n      <td>000000001000007325</td>\n      <td>684.011092</td>\n      <td>513.008319</td>\n      <td>down</td>\n      <td>-25.000000</td>\n    </tr>\n    <tr>\n      <th>2</th>\n      <td>000000001000007079</td>\n      <td>2047.740437</td>\n      <td>2303.707992</td>\n      <td>down</td>\n      <td>12.500000</td>\n    </tr>\n    <tr>\n      <th>4</th>\n      <td>000000001000103647</td>\n      <td>432.338571</td>\n      <td>1297.015714</td>\n      <td>up</td>\n      <td>200.000000</td>\n    </tr>\n    <tr>\n      <th>6</th>\n      <td>000000001000050883</td>\n      <td>698.023866</td>\n      <td>1396.047731</td>\n      <td>down</td>\n      <td>100.000000</td>\n    </tr>\n  </tbody>\n</table>\n</div>"
     },
     "execution_count": 67,
     "metadata": {},
     "output_type": "execute_result"
    }
   ],
   "source": [
    "margin_calc.head()"
   ],
   "metadata": {
    "collapsed": false,
    "pycharm": {
     "name": "#%%\n"
    }
   }
  },
  {
   "cell_type": "code",
   "execution_count": 68,
   "outputs": [],
   "source": [
    "margin_calc_down = margin_calc[margin_calc['Group_flag'] == 'down']"
   ],
   "metadata": {
    "collapsed": false,
    "pycharm": {
     "name": "#%%\n"
    }
   }
  },
  {
   "cell_type": "code",
   "execution_count": 73,
   "outputs": [
    {
     "data": {
      "text/plain": "44.40483266017532"
     },
     "execution_count": 73,
     "metadata": {},
     "output_type": "execute_result"
    }
   ],
   "source": [
    "margin_calc_down['Rate'].mean()"
   ],
   "metadata": {
    "collapsed": false,
    "pycharm": {
     "name": "#%%\n"
    }
   }
  },
  {
   "cell_type": "code",
   "execution_count": 74,
   "outputs": [
    {
     "data": {
      "text/plain": "88.14083604456275"
     },
     "execution_count": 74,
     "metadata": {},
     "output_type": "execute_result"
    }
   ],
   "source": [
    "margin_calc[margin_calc['Group_flag'] == 'up']['Rate'].mean()"
   ],
   "metadata": {
    "collapsed": false,
    "pycharm": {
     "name": "#%%\n"
    }
   }
  },
  {
   "cell_type": "code",
   "execution_count": null,
   "outputs": [],
   "source": [],
   "metadata": {
    "collapsed": false,
    "pycharm": {
     "name": "#%%\n"
    }
   }
  }
 ],
 "metadata": {
  "kernelspec": {
   "display_name": "Python 3",
   "language": "python",
   "name": "python3"
  },
  "language_info": {
   "codemirror_mode": {
    "name": "ipython",
    "version": 2
   },
   "file_extension": ".py",
   "mimetype": "text/x-python",
   "name": "python",
   "nbconvert_exporter": "python",
   "pygments_lexer": "ipython2",
   "version": "2.7.6"
  }
 },
 "nbformat": 4,
 "nbformat_minor": 0
}