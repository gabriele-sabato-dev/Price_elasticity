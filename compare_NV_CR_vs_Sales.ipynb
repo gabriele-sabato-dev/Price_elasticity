{
 "cells": [
  {
   "cell_type": "code",
   "execution_count": 2,
   "metadata": {
    "collapsed": true
   },
   "outputs": [],
   "source": [
    "import math\n",
    "import numpy as np\n",
    "import pandas as pd\n",
    "\n"
   ]
  },
  {
   "cell_type": "code",
   "execution_count": 3,
   "outputs": [],
   "source": [
    "df_view = pd.read_csv('../raw_data/Excel_files/Margin_result_View_PE.csv',index_col=0)\n"
   ],
   "metadata": {
    "collapsed": false,
    "pycharm": {
     "name": "#%%\n"
    }
   }
  },
  {
   "cell_type": "code",
   "execution_count": 4,
   "outputs": [],
   "source": [
    "df_sales = pd.read_csv('../raw_data/Excel_files/Margin_result_Sales_PE.csv',index_col=0)"
   ],
   "metadata": {
    "collapsed": false,
    "pycharm": {
     "name": "#%%\n"
    }
   }
  },
  {
   "cell_type": "code",
   "execution_count": 5,
   "outputs": [],
   "source": [
    "df_merged = pd.merge(df_view,df_sales, on='item_code')"
   ],
   "metadata": {
    "collapsed": false,
    "pycharm": {
     "name": "#%%\n"
    }
   }
  },
  {
   "cell_type": "code",
   "execution_count": 6,
   "outputs": [
    {
     "data": {
      "text/plain": "    item_code  avg_conv_rate_x  last_price_x last_date_x  avg_unique_views_x  \\\n0  1000022179         0.003121        479.99  2021-02-06           93.258739   \n1  1000145006         0.004873        289.99  2021-02-04          188.190476   \n2  1000005727         0.017079         99.99  2021-02-25          170.099034   \n3  1000016028         0.016290        139.99  2021-02-25           26.446154   \n4  1000175476         0.055748         83.99  2021-02-25           80.722222   \n\n     PE_x  PE_err_x has_enough_stat_x    pc2_x   item_skey_x  ...  \\\n0 -0.0136    0.0033              True  276.870  1.195497e+13  ...   \n1 -0.0086    0.0025               NaN  188.819           NaN  ...   \n2 -0.0246    0.0044               NaN   40.729           NaN  ...   \n3 -0.0328    0.0057              True   52.430  4.880017e+13  ...   \n4 -0.0505    0.0061               NaN   48.799           NaN  ...   \n\n   Margin_up_y  Margin_err_up_y  price_down_y  Delta_price_down_y  \\\n0    35.413232         0.749521    475.214020          122.469512   \n1    47.476716         1.403032    287.104551           52.445329   \n2   124.836973         1.042514     98.995083           42.460145   \n3          NaN              NaN    137.218012           62.879254   \n4    98.625979         0.459104     83.154286           21.078551   \n\n   avg_sales_down  avg_sales_err_down  Margin_down_y  Margin_err_down_y  \\\n0        0.312341            0.006611      38.252282           0.809610   \n1        1.015517            0.030011      53.259126           1.573914   \n2        2.984204            0.024921     126.709720           1.058153   \n3        0.471029            0.007866      29.617959           0.494620   \n4        4.617874            0.021496      97.338083           0.453109   \n\n   Group_flag_y  Margin_rate_to_base_y  \n0       neutral                0.00000  \n1       neutral                0.00000  \n2       neutral                0.00000  \n3  neutral_down                0.05291  \n4       neutral                0.00000  \n\n[5 rows x 60 columns]",
      "text/html": "<div>\n<style scoped>\n    .dataframe tbody tr th:only-of-type {\n        vertical-align: middle;\n    }\n\n    .dataframe tbody tr th {\n        vertical-align: top;\n    }\n\n    .dataframe thead th {\n        text-align: right;\n    }\n</style>\n<table border=\"1\" class=\"dataframe\">\n  <thead>\n    <tr style=\"text-align: right;\">\n      <th></th>\n      <th>item_code</th>\n      <th>avg_conv_rate_x</th>\n      <th>last_price_x</th>\n      <th>last_date_x</th>\n      <th>avg_unique_views_x</th>\n      <th>PE_x</th>\n      <th>PE_err_x</th>\n      <th>has_enough_stat_x</th>\n      <th>pc2_x</th>\n      <th>item_skey_x</th>\n      <th>...</th>\n      <th>Margin_up_y</th>\n      <th>Margin_err_up_y</th>\n      <th>price_down_y</th>\n      <th>Delta_price_down_y</th>\n      <th>avg_sales_down</th>\n      <th>avg_sales_err_down</th>\n      <th>Margin_down_y</th>\n      <th>Margin_err_down_y</th>\n      <th>Group_flag_y</th>\n      <th>Margin_rate_to_base_y</th>\n    </tr>\n  </thead>\n  <tbody>\n    <tr>\n      <th>0</th>\n      <td>1000022179</td>\n      <td>0.003121</td>\n      <td>479.99</td>\n      <td>2021-02-06</td>\n      <td>93.258739</td>\n      <td>-0.0136</td>\n      <td>0.0033</td>\n      <td>True</td>\n      <td>276.870</td>\n      <td>1.195497e+13</td>\n      <td>...</td>\n      <td>35.413232</td>\n      <td>0.749521</td>\n      <td>475.214020</td>\n      <td>122.469512</td>\n      <td>0.312341</td>\n      <td>0.006611</td>\n      <td>38.252282</td>\n      <td>0.809610</td>\n      <td>neutral</td>\n      <td>0.00000</td>\n    </tr>\n    <tr>\n      <th>1</th>\n      <td>1000145006</td>\n      <td>0.004873</td>\n      <td>289.99</td>\n      <td>2021-02-04</td>\n      <td>188.190476</td>\n      <td>-0.0086</td>\n      <td>0.0025</td>\n      <td>NaN</td>\n      <td>188.819</td>\n      <td>NaN</td>\n      <td>...</td>\n      <td>47.476716</td>\n      <td>1.403032</td>\n      <td>287.104551</td>\n      <td>52.445329</td>\n      <td>1.015517</td>\n      <td>0.030011</td>\n      <td>53.259126</td>\n      <td>1.573914</td>\n      <td>neutral</td>\n      <td>0.00000</td>\n    </tr>\n    <tr>\n      <th>2</th>\n      <td>1000005727</td>\n      <td>0.017079</td>\n      <td>99.99</td>\n      <td>2021-02-25</td>\n      <td>170.099034</td>\n      <td>-0.0246</td>\n      <td>0.0044</td>\n      <td>NaN</td>\n      <td>40.729</td>\n      <td>NaN</td>\n      <td>...</td>\n      <td>124.836973</td>\n      <td>1.042514</td>\n      <td>98.995083</td>\n      <td>42.460145</td>\n      <td>2.984204</td>\n      <td>0.024921</td>\n      <td>126.709720</td>\n      <td>1.058153</td>\n      <td>neutral</td>\n      <td>0.00000</td>\n    </tr>\n    <tr>\n      <th>3</th>\n      <td>1000016028</td>\n      <td>0.016290</td>\n      <td>139.99</td>\n      <td>2021-02-25</td>\n      <td>26.446154</td>\n      <td>-0.0328</td>\n      <td>0.0057</td>\n      <td>True</td>\n      <td>52.430</td>\n      <td>4.880017e+13</td>\n      <td>...</td>\n      <td>NaN</td>\n      <td>NaN</td>\n      <td>137.218012</td>\n      <td>62.879254</td>\n      <td>0.471029</td>\n      <td>0.007866</td>\n      <td>29.617959</td>\n      <td>0.494620</td>\n      <td>neutral_down</td>\n      <td>0.05291</td>\n    </tr>\n    <tr>\n      <th>4</th>\n      <td>1000175476</td>\n      <td>0.055748</td>\n      <td>83.99</td>\n      <td>2021-02-25</td>\n      <td>80.722222</td>\n      <td>-0.0505</td>\n      <td>0.0061</td>\n      <td>NaN</td>\n      <td>48.799</td>\n      <td>NaN</td>\n      <td>...</td>\n      <td>98.625979</td>\n      <td>0.459104</td>\n      <td>83.154286</td>\n      <td>21.078551</td>\n      <td>4.617874</td>\n      <td>0.021496</td>\n      <td>97.338083</td>\n      <td>0.453109</td>\n      <td>neutral</td>\n      <td>0.00000</td>\n    </tr>\n  </tbody>\n</table>\n<p>5 rows × 60 columns</p>\n</div>"
     },
     "execution_count": 6,
     "metadata": {},
     "output_type": "execute_result"
    }
   ],
   "source": [
    "df_merged.head()"
   ],
   "metadata": {
    "collapsed": false,
    "pycharm": {
     "name": "#%%\n"
    }
   }
  },
  {
   "cell_type": "code",
   "execution_count": 8,
   "outputs": [],
   "source": [
    "df_merged_diff = df_merged[df_merged['Group_flag_x']!=df_merged['Group_flag_y']]\n",
    "\n",
    "df_merged_same = df_merged[df_merged['Group_flag_x']==df_merged['Group_flag_y']]"
   ],
   "metadata": {
    "collapsed": false,
    "pycharm": {
     "name": "#%%\n"
    }
   }
  },
  {
   "cell_type": "code",
   "execution_count": 14,
   "outputs": [
    {
     "data": {
      "text/plain": "item_code                      int64\navg_conv_rate_x              float64\nlast_price_x                 float64\nlast_date_x                   object\navg_unique_views_x           float64\nPE_x                         float64\nPE_err_x                     float64\nhas_enough_stat_x             object\npc2_x                        float64\nitem_skey_x                  float64\nView_PE                      float64\nView_PE_err                  float64\nDelta_price_x                float64\nMargin_base_x                float64\nprice_up_x                   float64\nDelta_price_up_x             float64\nconv_rate_up                 float64\nconv_rate_err_up             float64\navg_unique_views_up          float64\navg_unique_views_err_up      float64\nMargin_up_x                  float64\nMargin_err_up_x              float64\nprice_down_x                 float64\nDelta_price_down_x           float64\nconv_rate_down               float64\nconv_rate_err_down           float64\navg_unique_views_down        float64\navg_unique_views_err_down    float64\nMargin_down_x                float64\nMargin_err_down_x            float64\nGroup_flag_x                  object\nMargin_rate_to_base_x        float64\navg_conv_rate_y              float64\nlast_price_y                 float64\nlast_date_y                   object\navg_unique_views_y           float64\nPE_y                         float64\nPE_err_y                     float64\nhas_enough_stat_y             object\npc2_y                        float64\nitem_skey_y                  float64\nSales_PE                     float64\nSales_PE_err                 float64\navg_sales                    float64\nDelta_price_y                float64\nMargin_base_y                float64\nprice_up_y                   float64\nDelta_price_up_y             float64\navg_sales_up                 float64\navg_sales_err_up             float64\nMargin_up_y                  float64\nMargin_err_up_y              float64\nprice_down_y                 float64\nDelta_price_down_y           float64\navg_sales_down               float64\navg_sales_err_down           float64\nMargin_down_y                float64\nMargin_err_down_y            float64\nGroup_flag_y                  object\nMargin_rate_to_base_y        float64\ndtype: object"
     },
     "execution_count": 14,
     "metadata": {},
     "output_type": "execute_result"
    }
   ],
   "source": [
    "df_merged.dtypes"
   ],
   "metadata": {
    "collapsed": false,
    "pycharm": {
     "name": "#%%\n"
    }
   }
  },
  {
   "cell_type": "code",
   "execution_count": 16,
   "outputs": [
    {
     "data": {
      "text/plain": "    item_code  avg_conv_rate_x  last_price_x  avg_unique_views_x    PE_x  \\\n1  1000145006         0.004873        289.99          188.190476 -0.0086   \n2  1000005727         0.017079         99.99          170.099034 -0.0246   \n3  1000016028         0.016290        139.99           26.446154 -0.0328   \n4  1000175476         0.055748         83.99           80.722222 -0.0505   \n6  1000194074         0.024822         77.99           97.437774 -0.0149   \n\n   PE_err_x  View_PE  View_PE_err  Delta_price_x  price_up_x  ...  \\\n1    0.0025  -2.7277       0.5322      54.870076  354.194586  ...   \n2    0.0044  -0.9853       0.2722      43.296210  122.128062  ...   \n3    0.0057  -1.6602       0.2891      65.208655  141.396923  ...   \n4    0.0061  -0.5003       0.1561      21.780832  125.298356  ...   \n6    0.0036  -0.9045       0.2371      22.098815  105.275488  ...   \n\n   Margin_base_x  Margin_base_y  Margin_down_x  Margin_down_y  Margin_up_x  \\\n1      50.323342      50.323342            NaN      53.259126    57.741046   \n2     125.781343     125.781343            NaN     126.709720   146.938483   \n3      28.091607      28.091607       28.05838      29.617959    28.120794   \n4      98.015502      98.015502            NaN      97.338083   203.956168   \n6      53.448592      53.448592            NaN      53.138421    82.653429   \n\n   Margin_up_y  Group_flag_x  Group_flag_y  Margin_rate_to_base_x  \\\n1    47.476716    neutral_up       neutral               0.137499   \n2   124.836973    neutral_up       neutral               0.155469   \n3          NaN       neutral  neutral_down               0.000000   \n4    98.625979    neutral_up       neutral               0.732779   \n6    53.729233    neutral_up       neutral               0.435936   \n\n   Margin_rate_to_base_y  \n1                0.00000  \n2                0.00000  \n3                0.05291  \n4                0.00000  \n6                0.00000  \n\n[5 rows x 33 columns]",
      "text/html": "<div>\n<style scoped>\n    .dataframe tbody tr th:only-of-type {\n        vertical-align: middle;\n    }\n\n    .dataframe tbody tr th {\n        vertical-align: top;\n    }\n\n    .dataframe thead th {\n        text-align: right;\n    }\n</style>\n<table border=\"1\" class=\"dataframe\">\n  <thead>\n    <tr style=\"text-align: right;\">\n      <th></th>\n      <th>item_code</th>\n      <th>avg_conv_rate_x</th>\n      <th>last_price_x</th>\n      <th>avg_unique_views_x</th>\n      <th>PE_x</th>\n      <th>PE_err_x</th>\n      <th>View_PE</th>\n      <th>View_PE_err</th>\n      <th>Delta_price_x</th>\n      <th>price_up_x</th>\n      <th>...</th>\n      <th>Margin_base_x</th>\n      <th>Margin_base_y</th>\n      <th>Margin_down_x</th>\n      <th>Margin_down_y</th>\n      <th>Margin_up_x</th>\n      <th>Margin_up_y</th>\n      <th>Group_flag_x</th>\n      <th>Group_flag_y</th>\n      <th>Margin_rate_to_base_x</th>\n      <th>Margin_rate_to_base_y</th>\n    </tr>\n  </thead>\n  <tbody>\n    <tr>\n      <th>1</th>\n      <td>1000145006</td>\n      <td>0.004873</td>\n      <td>289.99</td>\n      <td>188.190476</td>\n      <td>-0.0086</td>\n      <td>0.0025</td>\n      <td>-2.7277</td>\n      <td>0.5322</td>\n      <td>54.870076</td>\n      <td>354.194586</td>\n      <td>...</td>\n      <td>50.323342</td>\n      <td>50.323342</td>\n      <td>NaN</td>\n      <td>53.259126</td>\n      <td>57.741046</td>\n      <td>47.476716</td>\n      <td>neutral_up</td>\n      <td>neutral</td>\n      <td>0.137499</td>\n      <td>0.00000</td>\n    </tr>\n    <tr>\n      <th>2</th>\n      <td>1000005727</td>\n      <td>0.017079</td>\n      <td>99.99</td>\n      <td>170.099034</td>\n      <td>-0.0246</td>\n      <td>0.0044</td>\n      <td>-0.9853</td>\n      <td>0.2722</td>\n      <td>43.296210</td>\n      <td>122.128062</td>\n      <td>...</td>\n      <td>125.781343</td>\n      <td>125.781343</td>\n      <td>NaN</td>\n      <td>126.709720</td>\n      <td>146.938483</td>\n      <td>124.836973</td>\n      <td>neutral_up</td>\n      <td>neutral</td>\n      <td>0.155469</td>\n      <td>0.00000</td>\n    </tr>\n    <tr>\n      <th>3</th>\n      <td>1000016028</td>\n      <td>0.016290</td>\n      <td>139.99</td>\n      <td>26.446154</td>\n      <td>-0.0328</td>\n      <td>0.0057</td>\n      <td>-1.6602</td>\n      <td>0.2891</td>\n      <td>65.208655</td>\n      <td>141.396923</td>\n      <td>...</td>\n      <td>28.091607</td>\n      <td>28.091607</td>\n      <td>28.05838</td>\n      <td>29.617959</td>\n      <td>28.120794</td>\n      <td>NaN</td>\n      <td>neutral</td>\n      <td>neutral_down</td>\n      <td>0.000000</td>\n      <td>0.05291</td>\n    </tr>\n    <tr>\n      <th>4</th>\n      <td>1000175476</td>\n      <td>0.055748</td>\n      <td>83.99</td>\n      <td>80.722222</td>\n      <td>-0.0505</td>\n      <td>0.0061</td>\n      <td>-0.5003</td>\n      <td>0.1561</td>\n      <td>21.780832</td>\n      <td>125.298356</td>\n      <td>...</td>\n      <td>98.015502</td>\n      <td>98.015502</td>\n      <td>NaN</td>\n      <td>97.338083</td>\n      <td>203.956168</td>\n      <td>98.625979</td>\n      <td>neutral_up</td>\n      <td>neutral</td>\n      <td>0.732779</td>\n      <td>0.00000</td>\n    </tr>\n    <tr>\n      <th>6</th>\n      <td>1000194074</td>\n      <td>0.024822</td>\n      <td>77.99</td>\n      <td>97.437774</td>\n      <td>-0.0149</td>\n      <td>0.0036</td>\n      <td>-0.9045</td>\n      <td>0.2371</td>\n      <td>22.098815</td>\n      <td>105.275488</td>\n      <td>...</td>\n      <td>53.448592</td>\n      <td>53.448592</td>\n      <td>NaN</td>\n      <td>53.138421</td>\n      <td>82.653429</td>\n      <td>53.729233</td>\n      <td>neutral_up</td>\n      <td>neutral</td>\n      <td>0.435936</td>\n      <td>0.00000</td>\n    </tr>\n  </tbody>\n</table>\n<p>5 rows × 33 columns</p>\n</div>"
     },
     "execution_count": 16,
     "metadata": {},
     "output_type": "execute_result"
    }
   ],
   "source": [
    "list_of_columns =['item_code','avg_conv_rate_x','last_price_x','avg_unique_views_x','PE_x','PE_err_x','View_PE','View_PE_err','Delta_price_x','price_up_x','price_down_x',\n",
    "                  'conv_rate_up',\n",
    "                  'conv_rate_err_up',\n",
    "                  'Delta_price_down_x',\n",
    "                  'Sales_PE',\n",
    "                  'Sales_PE_err',\n",
    "                  'avg_sales',\n",
    "                  'price_up_y',\n",
    "                  'avg_sales_up',\n",
    "                  'avg_sales_err_up',\n",
    "                  'price_down_y','avg_sales_down','avg_sales_err_down',\n",
    "                  'Margin_base_x',\n",
    "                  'Margin_base_y',\n",
    "                  'Margin_down_x',\n",
    "                  'Margin_down_y',\n",
    "                  'Margin_up_x',\n",
    "                  'Margin_up_y',\n",
    "                  'Group_flag_x',\n",
    "                  'Group_flag_y',\n",
    "                  'Margin_rate_to_base_x',\n",
    "                  'Margin_rate_to_base_y']\n",
    "\n",
    "\n",
    "df_merged_diff[list_of_columns].head()"
   ],
   "metadata": {
    "collapsed": false,
    "pycharm": {
     "name": "#%%\n"
    }
   }
  },
  {
   "cell_type": "code",
   "execution_count": 18,
   "outputs": [
    {
     "data": {
      "text/plain": "      item_code  avg_conv_rate_x  last_price_x  avg_unique_views_x    PE_x  \\\n0    1000022179         0.003121        479.99           93.258739 -0.0136   \n5    1000176734         0.007736        159.99          100.555556 -0.0149   \n7    1000008470         0.020172         89.99          189.558824 -0.0366   \n9    1000176716         0.008680        139.99           59.020833 -0.0258   \n10   1000012817         0.008463        289.99          125.562500 -0.0128   \n..          ...              ...           ...                 ...     ...   \n487  1000015961         0.010587        149.99          270.973684 -0.0355   \n489  1000012562         0.005956        289.99          185.453096 -0.0084   \n495  1000012855         0.003085        449.99           70.735185 -0.0106   \n496  1000194221         0.025424        159.99           40.125730 -0.0219   \n498  1000167292         0.008982        104.99           65.092308 -0.0255   \n\n     PE_err_x  View_PE  View_PE_err  Delta_price_x  price_up_x  ...  \\\n0      0.0033  -2.0624       0.3918     126.482941  484.813980  ...   \n5      0.0030  -1.2500       0.3075      80.326378  161.597926  ...   \n7      0.0073  -2.7069       0.4026      27.121849   90.894415  ...   \n9      0.0047  -1.0175       0.3118      74.519655  141.396923  ...   \n10     0.0025  -2.0970       0.4081      85.969076  292.904448  ...   \n..        ...      ...          ...            ...         ...  ...   \n487    0.0039  -1.1598       0.2452      70.862017  151.497425  ...   \n489    0.0023  -1.9157       0.4638      87.949076  292.904448  ...   \n495    0.0028  -2.1841       0.4650     140.413857  454.512475  ...   \n496    0.0041  -0.9023       0.2801      31.096378  215.963911  ...   \n498    0.0055  -1.0641       0.2821      54.386891  106.045167  ...   \n\n     Margin_base_x  Margin_base_y  Margin_down_x  Margin_down_y  Margin_up_x  \\\n0        36.818246      36.818246      36.397796      38.252282    37.217555   \n5        62.484149      62.484149      62.225675      63.315723    62.736622   \n7       103.706328     103.706328     103.633714     106.910144   103.727248   \n9        38.174773      38.174773      37.969212      39.251813    38.377940   \n10       91.352937      91.352937      90.669241      94.345367    91.993924   \n..             ...            ...            ...            ...          ...   \n487     203.281303     203.281303     202.084703     206.721594   204.456664   \n489      97.150654      97.150654      96.307561     100.598448    97.953043   \n495      30.640387      30.640387      30.481015      32.004964    30.786549   \n496      31.723225      31.723225            NaN            NaN    60.407529   \n498      31.798953      31.798953      31.628431      32.356225    31.967168   \n\n     Margin_up_y  Group_flag_x  Group_flag_y  Margin_rate_to_base_x  \\\n0      35.413232       neutral       neutral               0.000000   \n5      61.656543       neutral       neutral               0.000000   \n7     100.548363       neutral       neutral               0.000000   \n9      37.123894       neutral       neutral               0.000000   \n10     88.409420       neutral       neutral               0.000000   \n..           ...           ...           ...                    ...   \n487   199.870577       neutral       neutral               0.000000   \n489    93.774992       neutral       neutral               0.000000   \n495    29.320616       neutral       neutral               0.000000   \n496    32.807133    neutral_up    neutral_up               0.644065   \n498    31.248125       neutral       neutral               0.000000   \n\n     Margin_rate_to_base_y  \n0                 0.000000  \n5                 0.000000  \n7                 0.000000  \n9                 0.000000  \n10                0.000000  \n..                     ...  \n487               0.000000  \n489               0.000000  \n495               0.000000  \n496               0.033597  \n498               0.000000  \n\n[236 rows x 33 columns]",
      "text/html": "<div>\n<style scoped>\n    .dataframe tbody tr th:only-of-type {\n        vertical-align: middle;\n    }\n\n    .dataframe tbody tr th {\n        vertical-align: top;\n    }\n\n    .dataframe thead th {\n        text-align: right;\n    }\n</style>\n<table border=\"1\" class=\"dataframe\">\n  <thead>\n    <tr style=\"text-align: right;\">\n      <th></th>\n      <th>item_code</th>\n      <th>avg_conv_rate_x</th>\n      <th>last_price_x</th>\n      <th>avg_unique_views_x</th>\n      <th>PE_x</th>\n      <th>PE_err_x</th>\n      <th>View_PE</th>\n      <th>View_PE_err</th>\n      <th>Delta_price_x</th>\n      <th>price_up_x</th>\n      <th>...</th>\n      <th>Margin_base_x</th>\n      <th>Margin_base_y</th>\n      <th>Margin_down_x</th>\n      <th>Margin_down_y</th>\n      <th>Margin_up_x</th>\n      <th>Margin_up_y</th>\n      <th>Group_flag_x</th>\n      <th>Group_flag_y</th>\n      <th>Margin_rate_to_base_x</th>\n      <th>Margin_rate_to_base_y</th>\n    </tr>\n  </thead>\n  <tbody>\n    <tr>\n      <th>0</th>\n      <td>1000022179</td>\n      <td>0.003121</td>\n      <td>479.99</td>\n      <td>93.258739</td>\n      <td>-0.0136</td>\n      <td>0.0033</td>\n      <td>-2.0624</td>\n      <td>0.3918</td>\n      <td>126.482941</td>\n      <td>484.813980</td>\n      <td>...</td>\n      <td>36.818246</td>\n      <td>36.818246</td>\n      <td>36.397796</td>\n      <td>38.252282</td>\n      <td>37.217555</td>\n      <td>35.413232</td>\n      <td>neutral</td>\n      <td>neutral</td>\n      <td>0.000000</td>\n      <td>0.000000</td>\n    </tr>\n    <tr>\n      <th>5</th>\n      <td>1000176734</td>\n      <td>0.007736</td>\n      <td>159.99</td>\n      <td>100.555556</td>\n      <td>-0.0149</td>\n      <td>0.0030</td>\n      <td>-1.2500</td>\n      <td>0.3075</td>\n      <td>80.326378</td>\n      <td>161.597926</td>\n      <td>...</td>\n      <td>62.484149</td>\n      <td>62.484149</td>\n      <td>62.225675</td>\n      <td>63.315723</td>\n      <td>62.736622</td>\n      <td>61.656543</td>\n      <td>neutral</td>\n      <td>neutral</td>\n      <td>0.000000</td>\n      <td>0.000000</td>\n    </tr>\n    <tr>\n      <th>7</th>\n      <td>1000008470</td>\n      <td>0.020172</td>\n      <td>89.99</td>\n      <td>189.558824</td>\n      <td>-0.0366</td>\n      <td>0.0073</td>\n      <td>-2.7069</td>\n      <td>0.4026</td>\n      <td>27.121849</td>\n      <td>90.894415</td>\n      <td>...</td>\n      <td>103.706328</td>\n      <td>103.706328</td>\n      <td>103.633714</td>\n      <td>106.910144</td>\n      <td>103.727248</td>\n      <td>100.548363</td>\n      <td>neutral</td>\n      <td>neutral</td>\n      <td>0.000000</td>\n      <td>0.000000</td>\n    </tr>\n    <tr>\n      <th>9</th>\n      <td>1000176716</td>\n      <td>0.008680</td>\n      <td>139.99</td>\n      <td>59.020833</td>\n      <td>-0.0258</td>\n      <td>0.0047</td>\n      <td>-1.0175</td>\n      <td>0.3118</td>\n      <td>74.519655</td>\n      <td>141.396923</td>\n      <td>...</td>\n      <td>38.174773</td>\n      <td>38.174773</td>\n      <td>37.969212</td>\n      <td>39.251813</td>\n      <td>38.377940</td>\n      <td>37.123894</td>\n      <td>neutral</td>\n      <td>neutral</td>\n      <td>0.000000</td>\n      <td>0.000000</td>\n    </tr>\n    <tr>\n      <th>10</th>\n      <td>1000012817</td>\n      <td>0.008463</td>\n      <td>289.99</td>\n      <td>125.562500</td>\n      <td>-0.0128</td>\n      <td>0.0025</td>\n      <td>-2.0970</td>\n      <td>0.4081</td>\n      <td>85.969076</td>\n      <td>292.904448</td>\n      <td>...</td>\n      <td>91.352937</td>\n      <td>91.352937</td>\n      <td>90.669241</td>\n      <td>94.345367</td>\n      <td>91.993924</td>\n      <td>88.409420</td>\n      <td>neutral</td>\n      <td>neutral</td>\n      <td>0.000000</td>\n      <td>0.000000</td>\n    </tr>\n    <tr>\n      <th>...</th>\n      <td>...</td>\n      <td>...</td>\n      <td>...</td>\n      <td>...</td>\n      <td>...</td>\n      <td>...</td>\n      <td>...</td>\n      <td>...</td>\n      <td>...</td>\n      <td>...</td>\n      <td>...</td>\n      <td>...</td>\n      <td>...</td>\n      <td>...</td>\n      <td>...</td>\n      <td>...</td>\n      <td>...</td>\n      <td>...</td>\n      <td>...</td>\n      <td>...</td>\n      <td>...</td>\n    </tr>\n    <tr>\n      <th>487</th>\n      <td>1000015961</td>\n      <td>0.010587</td>\n      <td>149.99</td>\n      <td>270.973684</td>\n      <td>-0.0355</td>\n      <td>0.0039</td>\n      <td>-1.1598</td>\n      <td>0.2452</td>\n      <td>70.862017</td>\n      <td>151.497425</td>\n      <td>...</td>\n      <td>203.281303</td>\n      <td>203.281303</td>\n      <td>202.084703</td>\n      <td>206.721594</td>\n      <td>204.456664</td>\n      <td>199.870577</td>\n      <td>neutral</td>\n      <td>neutral</td>\n      <td>0.000000</td>\n      <td>0.000000</td>\n    </tr>\n    <tr>\n      <th>489</th>\n      <td>1000012562</td>\n      <td>0.005956</td>\n      <td>289.99</td>\n      <td>185.453096</td>\n      <td>-0.0084</td>\n      <td>0.0023</td>\n      <td>-1.9157</td>\n      <td>0.4638</td>\n      <td>87.949076</td>\n      <td>292.904448</td>\n      <td>...</td>\n      <td>97.150654</td>\n      <td>97.150654</td>\n      <td>96.307561</td>\n      <td>100.598448</td>\n      <td>97.953043</td>\n      <td>93.774992</td>\n      <td>neutral</td>\n      <td>neutral</td>\n      <td>0.000000</td>\n      <td>0.000000</td>\n    </tr>\n    <tr>\n      <th>495</th>\n      <td>1000012855</td>\n      <td>0.003085</td>\n      <td>449.99</td>\n      <td>70.735185</td>\n      <td>-0.0106</td>\n      <td>0.0028</td>\n      <td>-2.1841</td>\n      <td>0.4650</td>\n      <td>140.413857</td>\n      <td>454.512475</td>\n      <td>...</td>\n      <td>30.640387</td>\n      <td>30.640387</td>\n      <td>30.481015</td>\n      <td>32.004964</td>\n      <td>30.786549</td>\n      <td>29.320616</td>\n      <td>neutral</td>\n      <td>neutral</td>\n      <td>0.000000</td>\n      <td>0.000000</td>\n    </tr>\n    <tr>\n      <th>496</th>\n      <td>1000194221</td>\n      <td>0.025424</td>\n      <td>159.99</td>\n      <td>40.125730</td>\n      <td>-0.0219</td>\n      <td>0.0041</td>\n      <td>-0.9023</td>\n      <td>0.2801</td>\n      <td>31.096378</td>\n      <td>215.963911</td>\n      <td>...</td>\n      <td>31.723225</td>\n      <td>31.723225</td>\n      <td>NaN</td>\n      <td>NaN</td>\n      <td>60.407529</td>\n      <td>32.807133</td>\n      <td>neutral_up</td>\n      <td>neutral_up</td>\n      <td>0.644065</td>\n      <td>0.033597</td>\n    </tr>\n    <tr>\n      <th>498</th>\n      <td>1000167292</td>\n      <td>0.008982</td>\n      <td>104.99</td>\n      <td>65.092308</td>\n      <td>-0.0255</td>\n      <td>0.0055</td>\n      <td>-1.0641</td>\n      <td>0.2821</td>\n      <td>54.386891</td>\n      <td>106.045167</td>\n      <td>...</td>\n      <td>31.798953</td>\n      <td>31.798953</td>\n      <td>31.628431</td>\n      <td>32.356225</td>\n      <td>31.967168</td>\n      <td>31.248125</td>\n      <td>neutral</td>\n      <td>neutral</td>\n      <td>0.000000</td>\n      <td>0.000000</td>\n    </tr>\n  </tbody>\n</table>\n<p>236 rows × 33 columns</p>\n</div>"
     },
     "execution_count": 18,
     "metadata": {},
     "output_type": "execute_result"
    }
   ],
   "source": [
    "df_merged_same[list_of_columns].head(300)"
   ],
   "metadata": {
    "collapsed": false,
    "pycharm": {
     "name": "#%%\n"
    }
   }
  },
  {
   "cell_type": "code",
   "execution_count": null,
   "outputs": [],
   "source": [],
   "metadata": {
    "collapsed": false,
    "pycharm": {
     "name": "#%%\n"
    }
   }
  }
 ],
 "metadata": {
  "kernelspec": {
   "display_name": "Python 3",
   "language": "python",
   "name": "python3"
  },
  "language_info": {
   "codemirror_mode": {
    "name": "ipython",
    "version": 2
   },
   "file_extension": ".py",
   "mimetype": "text/x-python",
   "name": "python",
   "nbconvert_exporter": "python",
   "pygments_lexer": "ipython2",
   "version": "2.7.6"
  }
 },
 "nbformat": 4,
 "nbformat_minor": 0
}