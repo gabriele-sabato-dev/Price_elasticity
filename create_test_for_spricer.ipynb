{
 "cells": [
  {
   "cell_type": "code",
   "execution_count": 33,
   "outputs": [],
   "source": [
    "import pandas as pd\n",
    "import numpy as np"
   ],
   "metadata": {
    "collapsed": false,
    "pycharm": {
     "name": "#%%\n"
    }
   }
  },
  {
   "cell_type": "code",
   "execution_count": 34,
   "outputs": [],
   "source": [
    "df_test = pd.read_csv('../raw_data/Excel_files/Margin_result_sa_20210226.csv')"
   ],
   "metadata": {
    "collapsed": false,
    "pycharm": {
     "name": "#%%\n"
    }
   }
  },
  {
   "cell_type": "code",
   "execution_count": 35,
   "outputs": [],
   "source": [
    "df_test_items = df_test[['item_code']]\n"
   ],
   "metadata": {
    "collapsed": false,
    "pycharm": {
     "name": "#%%\n"
    }
   }
  },
  {
   "cell_type": "code",
   "execution_count": 36,
   "outputs": [],
   "source": [
    "List_of_flag = list([True for i in range(0,221)])"
   ],
   "metadata": {
    "collapsed": false,
    "pycharm": {
     "name": "#%%\n"
    }
   }
  },
  {
   "cell_type": "code",
   "execution_count": 37,
   "outputs": [
    {
     "name": "stdout",
     "output_type": "stream",
     "text": [
      "[True, True, True, True, True, True, True, True, True, True, True, True, True, True, True, True, True, True, True, True, True, True, True, True, True, True, True, True, True, True, True, True, True, True, True, True, True, True, True, True, True, True, True, True, True, True, True, True, True, True, True, True, True, True, True, True, True, True, True, True, True, True, True, True, True, True, True, True, True, True, True, True, True, True, True, True, True, True, True, True, True, True, True, True, True, True, True, True, True, True, True, True, True, True, True, True, True, True, True, True, True, True, True, True, True, True, True, True, True, True, True, True, True, True, True, True, True, True, True, True, True, True, True, True, True, True, True, True, True, True, True, True, True, True, True, True, True, True, True, True, True, True, True, True, True, True, True, True, True, True, True, True, True, True, True, True, True, True, True, True, True, True, True, True, True, True, True, True, True, True, True, True, True, True, True, True, True, True, True, True, True, True, True, True, True, True, True, True, True, True, True, True, True, True, True, True, True, True, True, True, True, True, True, True, True, True, True, True, True, True, True, True, True, True, True, True, True, True, True, True, True]\n"
     ]
    }
   ],
   "source": [
    "print(List_of_flag)"
   ],
   "metadata": {
    "collapsed": false,
    "pycharm": {
     "name": "#%%\n"
    }
   }
  },
  {
   "cell_type": "code",
   "execution_count": 38,
   "outputs": [],
   "source": [
    "df_test_items.insert(1,\"Price_elasticity_flag\",List_of_flag)\n"
   ],
   "metadata": {
    "collapsed": false,
    "pycharm": {
     "name": "#%%\n"
    }
   }
  },
  {
   "cell_type": "code",
   "execution_count": 39,
   "outputs": [
    {
     "data": {
      "text/plain": "      item_code  Price_elasticity_flag\n0    1000007776                   True\n1    1000007403                   True\n2    1000014946                   True\n3    1000015609                   True\n4    1000186801                   True\n..          ...                    ...\n216  1000119823                   True\n217  1000123758                   True\n218  1000065873                   True\n219  1000114113                   True\n220  1000127878                   True\n\n[221 rows x 2 columns]",
      "text/html": "<div>\n<style scoped>\n    .dataframe tbody tr th:only-of-type {\n        vertical-align: middle;\n    }\n\n    .dataframe tbody tr th {\n        vertical-align: top;\n    }\n\n    .dataframe thead th {\n        text-align: right;\n    }\n</style>\n<table border=\"1\" class=\"dataframe\">\n  <thead>\n    <tr style=\"text-align: right;\">\n      <th></th>\n      <th>item_code</th>\n      <th>Price_elasticity_flag</th>\n    </tr>\n  </thead>\n  <tbody>\n    <tr>\n      <th>0</th>\n      <td>1000007776</td>\n      <td>True</td>\n    </tr>\n    <tr>\n      <th>1</th>\n      <td>1000007403</td>\n      <td>True</td>\n    </tr>\n    <tr>\n      <th>2</th>\n      <td>1000014946</td>\n      <td>True</td>\n    </tr>\n    <tr>\n      <th>3</th>\n      <td>1000015609</td>\n      <td>True</td>\n    </tr>\n    <tr>\n      <th>4</th>\n      <td>1000186801</td>\n      <td>True</td>\n    </tr>\n    <tr>\n      <th>...</th>\n      <td>...</td>\n      <td>...</td>\n    </tr>\n    <tr>\n      <th>216</th>\n      <td>1000119823</td>\n      <td>True</td>\n    </tr>\n    <tr>\n      <th>217</th>\n      <td>1000123758</td>\n      <td>True</td>\n    </tr>\n    <tr>\n      <th>218</th>\n      <td>1000065873</td>\n      <td>True</td>\n    </tr>\n    <tr>\n      <th>219</th>\n      <td>1000114113</td>\n      <td>True</td>\n    </tr>\n    <tr>\n      <th>220</th>\n      <td>1000127878</td>\n      <td>True</td>\n    </tr>\n  </tbody>\n</table>\n<p>221 rows × 2 columns</p>\n</div>"
     },
     "execution_count": 39,
     "metadata": {},
     "output_type": "execute_result"
    }
   ],
   "source": [
    "df_test_items"
   ],
   "metadata": {
    "collapsed": false,
    "pycharm": {
     "name": "#%%\n"
    }
   }
  },
  {
   "cell_type": "code",
   "execution_count": 40,
   "outputs": [],
   "source": [
    "list_of_env = list(['1_de_DE_00000000' for i in range(0,221)])"
   ],
   "metadata": {
    "collapsed": false,
    "pycharm": {
     "name": "#%%\n"
    }
   }
  },
  {
   "cell_type": "code",
   "execution_count": 41,
   "outputs": [],
   "source": [
    "df_test_items.insert(0,\"env\",list_of_env)"
   ],
   "metadata": {
    "collapsed": false,
    "pycharm": {
     "name": "#%%\n"
    }
   }
  },
  {
   "cell_type": "code",
   "execution_count": 42,
   "outputs": [
    {
     "data": {
      "text/plain": "                  env   item_code  Price_elasticity_flag\n0    1_de_DE_00000000  1000007776                   True\n1    1_de_DE_00000000  1000007403                   True\n2    1_de_DE_00000000  1000014946                   True\n3    1_de_DE_00000000  1000015609                   True\n4    1_de_DE_00000000  1000186801                   True\n..                ...         ...                    ...\n216  1_de_DE_00000000  1000119823                   True\n217  1_de_DE_00000000  1000123758                   True\n218  1_de_DE_00000000  1000065873                   True\n219  1_de_DE_00000000  1000114113                   True\n220  1_de_DE_00000000  1000127878                   True\n\n[221 rows x 3 columns]",
      "text/html": "<div>\n<style scoped>\n    .dataframe tbody tr th:only-of-type {\n        vertical-align: middle;\n    }\n\n    .dataframe tbody tr th {\n        vertical-align: top;\n    }\n\n    .dataframe thead th {\n        text-align: right;\n    }\n</style>\n<table border=\"1\" class=\"dataframe\">\n  <thead>\n    <tr style=\"text-align: right;\">\n      <th></th>\n      <th>env</th>\n      <th>item_code</th>\n      <th>Price_elasticity_flag</th>\n    </tr>\n  </thead>\n  <tbody>\n    <tr>\n      <th>0</th>\n      <td>1_de_DE_00000000</td>\n      <td>1000007776</td>\n      <td>True</td>\n    </tr>\n    <tr>\n      <th>1</th>\n      <td>1_de_DE_00000000</td>\n      <td>1000007403</td>\n      <td>True</td>\n    </tr>\n    <tr>\n      <th>2</th>\n      <td>1_de_DE_00000000</td>\n      <td>1000014946</td>\n      <td>True</td>\n    </tr>\n    <tr>\n      <th>3</th>\n      <td>1_de_DE_00000000</td>\n      <td>1000015609</td>\n      <td>True</td>\n    </tr>\n    <tr>\n      <th>4</th>\n      <td>1_de_DE_00000000</td>\n      <td>1000186801</td>\n      <td>True</td>\n    </tr>\n    <tr>\n      <th>...</th>\n      <td>...</td>\n      <td>...</td>\n      <td>...</td>\n    </tr>\n    <tr>\n      <th>216</th>\n      <td>1_de_DE_00000000</td>\n      <td>1000119823</td>\n      <td>True</td>\n    </tr>\n    <tr>\n      <th>217</th>\n      <td>1_de_DE_00000000</td>\n      <td>1000123758</td>\n      <td>True</td>\n    </tr>\n    <tr>\n      <th>218</th>\n      <td>1_de_DE_00000000</td>\n      <td>1000065873</td>\n      <td>True</td>\n    </tr>\n    <tr>\n      <th>219</th>\n      <td>1_de_DE_00000000</td>\n      <td>1000114113</td>\n      <td>True</td>\n    </tr>\n    <tr>\n      <th>220</th>\n      <td>1_de_DE_00000000</td>\n      <td>1000127878</td>\n      <td>True</td>\n    </tr>\n  </tbody>\n</table>\n<p>221 rows × 3 columns</p>\n</div>"
     },
     "execution_count": 42,
     "metadata": {},
     "output_type": "execute_result"
    }
   ],
   "source": [
    "df_test_items\n"
   ],
   "metadata": {
    "collapsed": false,
    "pycharm": {
     "name": "#%%\n"
    }
   }
  },
  {
   "cell_type": "code",
   "execution_count": 43,
   "outputs": [],
   "source": [
    "df_test_items = df_test_items.astype({'item_code': 'string'})"
   ],
   "metadata": {
    "collapsed": false,
    "pycharm": {
     "name": "#%%\n"
    }
   }
  },
  {
   "cell_type": "code",
   "execution_count": 44,
   "outputs": [],
   "source": [
    "df_test_items['id'] = df_test_items['env'] + df_test_items['item_code'] "
   ],
   "metadata": {
    "collapsed": false,
    "pycharm": {
     "name": "#%%\n"
    }
   }
  },
  {
   "cell_type": "code",
   "execution_count": 47,
   "outputs": [],
   "source": [
    "df_test_items= df_test_items[['id', 'Price_elasticity_flag']]"
   ],
   "metadata": {
    "collapsed": false,
    "pycharm": {
     "name": "#%%\n"
    }
   }
  },
  {
   "cell_type": "code",
   "execution_count": 48,
   "outputs": [],
   "source": [
    "df_test_items.to_csv('../raw_data/Excel_files/Items_to_test_Spricer_ready.csv')"
   ],
   "metadata": {
    "collapsed": false,
    "pycharm": {
     "name": "#%%\n"
    }
   }
  },
  {
   "cell_type": "code",
   "execution_count": null,
   "outputs": [],
   "source": [],
   "metadata": {
    "collapsed": false,
    "pycharm": {
     "name": "#%%\n"
    }
   }
  }
 ],
 "metadata": {
  "kernelspec": {
   "display_name": "Python 3",
   "language": "python",
   "name": "python3"
  },
  "language_info": {
   "codemirror_mode": {
    "name": "ipython",
    "version": 2
   },
   "file_extension": ".py",
   "mimetype": "text/x-python",
   "name": "python",
   "nbconvert_exporter": "python",
   "pygments_lexer": "ipython2",
   "version": "2.7.6"
  }
 },
 "nbformat": 4,
 "nbformat_minor": 0
}