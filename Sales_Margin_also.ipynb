{
 "cells": [
  {
   "cell_type": "code",
   "execution_count": 2,
   "outputs": [],
   "source": [
    "\n",
    "import pandas as pd\n",
    "import numpy as np\n"
   ],
   "metadata": {
    "collapsed": false,
    "pycharm": {
     "name": "#%%\n"
    }
   }
  },
  {
   "cell_type": "code",
   "execution_count": 3,
   "outputs": [],
   "source": [
    "df_PE_Sales = pd.read_csv('./../raw_data/Excel_files/Top5k_Sales_PE_new_model_20210607_pre_campaign.csv', index_col=0)\n"
   ],
   "metadata": {
    "collapsed": false,
    "pycharm": {
     "name": "#%%\n"
    }
   }
  },
  {
   "cell_type": "code",
   "execution_count": 4,
   "outputs": [
    {
     "name": "stdout",
     "output_type": "stream",
     "text": [
      "            Sales_PE  Sales_PE_err  del_week  del_week_err  intercept  \\\n",
      "1000021922   -2.7164        0.2643   -0.0611        0.0123    13.5324   \n",
      "1000080319   -2.0123        0.5307   -0.0389        0.0125    12.2816   \n",
      "1000005727   -5.7830        0.9409   -0.0610        0.0520    29.7002   \n",
      "1000007327   -2.9895        0.5150   -0.0096        0.0173    16.2228   \n",
      "1000016194   -3.6670        0.4812   -0.0314        0.0125    19.4484   \n",
      "1000048008   -1.2746        0.2520   -0.0204        0.0068     6.1285   \n",
      "1000116614   -4.0372        0.5501   -0.0601        0.0178    28.5740   \n",
      "1000123776   -4.4525        1.2165   -0.0663        0.0834    20.8146   \n",
      "1000175476   -3.4585        0.4831   -0.1496        0.1339    15.8979   \n",
      "1000176734   -1.9881        0.5152   -0.0021        0.0239    10.7002   \n",
      "1000008470   -7.7407        1.2494   -0.0820        0.0545    36.8637   \n",
      "1000124600   -2.9983        0.4939   -0.0315        0.0144    19.5207   \n",
      "1000159178   -1.4844        0.3631   -0.0099        0.0048     8.2118   \n",
      "1000174312   -2.4396        0.2262   -0.0224        0.0050    15.0294   \n",
      "1000174905   -1.9266        0.2402   -0.0102        0.0091    10.9985   \n",
      "1000176716   -6.4762        1.1889   -0.0748        0.0710    34.5708   \n",
      "1000008827   -3.3405        0.3829   -0.0855        0.0297    19.1459   \n",
      "1000016080   -2.2008        0.5579   -0.0274        0.0201    11.8066   \n",
      "1000022615  -11.0377        1.7160   -0.2295        0.2040    56.1722   \n",
      "1000027423   -1.4168        0.1895   -0.0127        0.0050     8.8045   \n",
      "\n",
      "            intercept_err  \n",
      "1000021922         1.2491  \n",
      "1000080319         3.1825  \n",
      "1000005727         4.3197  \n",
      "1000007327         2.7397  \n",
      "1000016194         2.4576  \n",
      "1000048008         1.0587  \n",
      "1000116614         3.8360  \n",
      "1000123776         5.2952  \n",
      "1000175476         2.0783  \n",
      "1000176734         2.6128  \n",
      "1000008470         5.7987  \n",
      "1000124600         3.1474  \n",
      "1000159178         1.9734  \n",
      "1000174312         1.3155  \n",
      "1000174905         1.3308  \n",
      "1000176716         5.5473  \n",
      "1000008827         1.9885  \n",
      "1000016080         2.7737  \n",
      "1000022615         8.6778  \n",
      "1000027423         1.0791  \n",
      "Sales_PE         float64\n",
      "Sales_PE_err     float64\n",
      "del_week         float64\n",
      "del_week_err     float64\n",
      "intercept        float64\n",
      "intercept_err    float64\n",
      "dtype: object\n"
     ]
    }
   ],
   "source": [
    "###INTRODUCING THE REST\n",
    "print(df_PE_Sales.head(20))\n",
    "print(df_PE_Sales.dtypes)"
   ],
   "metadata": {
    "collapsed": false,
    "pycharm": {
     "name": "#%%\n"
    }
   }
  },
  {
   "cell_type": "code",
   "execution_count": 5,
   "outputs": [],
   "source": [
    "df_filt = pd.read_csv('./../raw_data/Excel_files/Top5k_PE_filtered_20210607_pre_campaign.csv', index_col=0)"
   ],
   "metadata": {
    "collapsed": false,
    "pycharm": {
     "name": "#%%\n"
    }
   }
  },
  {
   "cell_type": "code",
   "execution_count": 6,
   "outputs": [
    {
     "name": "stdout",
     "output_type": "stream",
     "text": [
      "2305\n"
     ]
    }
   ],
   "source": [
    "#PREPARE THE CONVERSION RATE FILE\n",
    "#final_items = list(df_result_true.index.values)\n",
    "final_items = list(df_PE_Sales.index.values)\n",
    "print(len(final_items))\n",
    "\n"
   ],
   "metadata": {
    "collapsed": false,
    "pycharm": {
     "name": "#%%\n"
    }
   }
  },
  {
   "cell_type": "code",
   "execution_count": 7,
   "outputs": [
    {
     "name": "stdout",
     "output_type": "stream",
     "text": [
      "     min_date    max_date   item_code  item_price_x  delivery_weeks  \\\n",
      "0  2020-01-01  2020-03-13  1000021922        129.99               2   \n",
      "1  2020-04-15  2020-04-21  1000021922        119.99               4   \n",
      "2  2020-04-23  2020-06-07  1000021922        129.99               2   \n",
      "3  2020-06-11  2020-07-25  1000021922        129.99               2   \n",
      "4  2020-07-31  2020-08-10  1000021922        119.99               2   \n",
      "5  2020-08-11  2020-08-18  1000021922        129.99               2   \n",
      "6  2020-08-19  2020-08-25  1000021922        129.99               3   \n",
      "7  2020-08-26  2020-09-17  1000021922        129.99               2   \n",
      "8  2020-10-03  2020-10-13  1000021922        114.99               2   \n",
      "9  2020-11-29  2020-12-06  1000021922        114.99              15   \n",
      "\n",
      "   avg_sales  avg_unique_views  avg_sessions  avg_marketing_cost_spend  \\\n",
      "0   1.589041        147.191781  1.607617e+08             204747.147616   \n",
      "1   1.571429         79.428571  1.645571e+08             164942.044505   \n",
      "2   2.086957         89.173913  1.495730e+08             124168.262194   \n",
      "3   1.311111         74.022222  1.187547e+08             101518.823123   \n",
      "4   1.636364         82.000000  1.126150e+08             125065.144351   \n",
      "5   1.500000         79.625000  1.112158e+08             130220.519333   \n",
      "6   0.714286         85.285714  1.156463e+08             153833.902362   \n",
      "7   1.434783         94.652174  1.188805e+08             190901.015308   \n",
      "8   4.363636        130.000000  1.499574e+08             242327.080560   \n",
      "9   1.000000         80.250000  1.209609e+08             259227.187096   \n",
      "\n",
      "   conv_rate  ...  item_sub_category_1       item_sub_category_2 log_price  \\\n",
      "0   0.010797  ...          BADSCHRÄNKE  WASCHBECKENUNTERSCHRÄNKE  4.867458   \n",
      "1   0.019785  ...          BADSCHRÄNKE  WASCHBECKENUNTERSCHRÄNKE  4.787409   \n",
      "2   0.023404  ...          BADSCHRÄNKE  WASCHBECKENUNTERSCHRÄNKE  4.867458   \n",
      "3   0.017713  ...          BADSCHRÄNKE  WASCHBECKENUNTERSCHRÄNKE  4.867458   \n",
      "4   0.019957  ...          BADSCHRÄNKE  WASCHBECKENUNTERSCHRÄNKE  4.787409   \n",
      "5   0.018839  ...          BADSCHRÄNKE  WASCHBECKENUNTERSCHRÄNKE  4.867458   \n",
      "6   0.008376  ...          BADSCHRÄNKE  WASCHBECKENUNTERSCHRÄNKE  4.867458   \n",
      "7   0.015159  ...          BADSCHRÄNKE  WASCHBECKENUNTERSCHRÄNKE  4.867458   \n",
      "8   0.033567  ...          BADSCHRÄNKE  WASCHBECKENUNTERSCHRÄNKE  4.744846   \n",
      "9   0.012462  ...          BADSCHRÄNKE  WASCHBECKENUNTERSCHRÄNKE  4.744846   \n",
      "\n",
      "  log_delivery_weeks log_sales  log_avg_unique_views  log_conv_rate  \\\n",
      "0           0.693197  0.463194              4.991737      -4.519385   \n",
      "1           1.386319  0.452049              4.374859      -3.917831   \n",
      "2           0.693197  0.735755              4.490590      -3.750618   \n",
      "3           0.693197  0.270951              4.304367      -4.027861   \n",
      "4           0.693197  0.492538              4.406720      -3.909244   \n",
      "5           0.693197  0.405532              4.377329      -3.966569   \n",
      "6           1.098646 -0.336332              4.446008      -4.770610   \n",
      "7           0.693197  0.361083              4.550210      -4.182620   \n",
      "8           0.693197  1.473329              4.867535      -3.391254   \n",
      "9           2.708057  0.000100              4.385148      -4.377154   \n",
      "\n",
      "   log_avg_sessions  log_avg_marketing_cost_spend  item_price_y  \n",
      "0         18.895434                     12.229531          True  \n",
      "1         18.918768                     12.013349          True  \n",
      "2         18.823295                     11.729393          True  \n",
      "3         18.592571                     11.528000          True  \n",
      "4         18.539485                     11.736590          True  \n",
      "5         18.526983                     11.776985          True  \n",
      "6         18.566047                     11.943629          True  \n",
      "7         18.593630                     12.159510          True  \n",
      "8         18.825862                     12.398044          True  \n",
      "9         18.610978                     12.465460          True  \n",
      "\n",
      "[10 rows x 23 columns]\n"
     ]
    }
   ],
   "source": [
    "print(df_filt.head(10))"
   ],
   "metadata": {
    "collapsed": false,
    "pycharm": {
     "name": "#%%\n"
    }
   }
  },
  {
   "cell_type": "code",
   "execution_count": 8,
   "outputs": [],
   "source": [
    "df_final = df_filt[df_filt['item_code'].isin(final_items)]"
   ],
   "metadata": {
    "collapsed": false,
    "pycharm": {
     "name": "#%%\n"
    }
   }
  },
  {
   "cell_type": "code",
   "execution_count": 9,
   "outputs": [
    {
     "name": "stdout",
     "output_type": "stream",
     "text": [
      "     min_date    max_date   item_code  item_price_x  delivery_weeks  \\\n",
      "0  2020-01-01  2020-03-13  1000021922        129.99               2   \n",
      "1  2020-04-15  2020-04-21  1000021922        119.99               4   \n",
      "2  2020-04-23  2020-06-07  1000021922        129.99               2   \n",
      "3  2020-06-11  2020-07-25  1000021922        129.99               2   \n",
      "4  2020-07-31  2020-08-10  1000021922        119.99               2   \n",
      "\n",
      "   avg_sales  avg_unique_views  avg_sessions  avg_marketing_cost_spend  \\\n",
      "0   1.589041        147.191781  1.607617e+08             204747.147616   \n",
      "1   1.571429         79.428571  1.645571e+08             164942.044505   \n",
      "2   2.086957         89.173913  1.495730e+08             124168.262194   \n",
      "3   1.311111         74.022222  1.187547e+08             101518.823123   \n",
      "4   1.636364         82.000000  1.126150e+08             125065.144351   \n",
      "\n",
      "   conv_rate  ...  item_sub_category_1       item_sub_category_2 log_price  \\\n",
      "0   0.010797  ...          BADSCHRÄNKE  WASCHBECKENUNTERSCHRÄNKE  4.867458   \n",
      "1   0.019785  ...          BADSCHRÄNKE  WASCHBECKENUNTERSCHRÄNKE  4.787409   \n",
      "2   0.023404  ...          BADSCHRÄNKE  WASCHBECKENUNTERSCHRÄNKE  4.867458   \n",
      "3   0.017713  ...          BADSCHRÄNKE  WASCHBECKENUNTERSCHRÄNKE  4.867458   \n",
      "4   0.019957  ...          BADSCHRÄNKE  WASCHBECKENUNTERSCHRÄNKE  4.787409   \n",
      "\n",
      "  log_delivery_weeks log_sales  log_avg_unique_views  log_conv_rate  \\\n",
      "0           0.693197  0.463194              4.991737      -4.519385   \n",
      "1           1.386319  0.452049              4.374859      -3.917831   \n",
      "2           0.693197  0.735755              4.490590      -3.750618   \n",
      "3           0.693197  0.270951              4.304367      -4.027861   \n",
      "4           0.693197  0.492538              4.406720      -3.909244   \n",
      "\n",
      "   log_avg_sessions  log_avg_marketing_cost_spend  item_price_y  \n",
      "0         18.895434                     12.229531          True  \n",
      "1         18.918768                     12.013349          True  \n",
      "2         18.823295                     11.729393          True  \n",
      "3         18.592571                     11.528000          True  \n",
      "4         18.539485                     11.736590          True  \n",
      "\n",
      "[5 rows x 23 columns]\n"
     ]
    }
   ],
   "source": [
    "print(df_final.head())"
   ],
   "metadata": {
    "collapsed": false,
    "pycharm": {
     "name": "#%%\n"
    }
   }
  },
  {
   "cell_type": "code",
   "execution_count": 10,
   "outputs": [],
   "source": [
    "from pyspark.sql import SparkSession\n",
    "\n",
    "spark = SparkSession.builder.master('local').config('spark.driver.memory', '8g').appName(\n",
    "    'Sales_Margin_also').getOrCreate()\n"
   ],
   "metadata": {
    "collapsed": false,
    "pycharm": {
     "name": "#%%\n"
    }
   }
  },
  {
   "cell_type": "code",
   "execution_count": 11,
   "outputs": [],
   "source": [
    "df_to_spark = df_final.groupby(['item_code']).nth(-1)\n",
    "df_to_spark.reset_index(level=0, inplace=True)\n",
    "df_to_spark.rename(columns={'index': 'item_code'}, inplace=True)\n"
   ],
   "metadata": {
    "collapsed": false,
    "pycharm": {
     "name": "#%%\n"
    }
   }
  },
  {
   "cell_type": "code",
   "execution_count": 12,
   "outputs": [],
   "source": [
    "df_to_spark = df_to_spark[[\n",
    "    'item_code',\n",
    "    'min_date',\n",
    "    'max_date',\n",
    "    'item_price_x',\n",
    "    'delivery_weeks',\n",
    "    'avg_sales',\n",
    "    'avg_unique_views',\n",
    "    'avg_sessions',\n",
    "    'avg_marketing_cost_spend',\n",
    "    'conv_rate',\n",
    "    'bin',\n",
    "    'log_price',\n",
    "    'log_delivery_weeks',\n",
    "    'log_sales',\n",
    "    'log_avg_unique_views',\n",
    "    'log_conv_rate',\n",
    "    'log_avg_sessions',\n",
    "    'log_avg_marketing_cost_spend']]"
   ],
   "metadata": {
    "collapsed": false,
    "pycharm": {
     "name": "#%%\n"
    }
   }
  },
  {
   "cell_type": "code",
   "execution_count": 13,
   "outputs": [
    {
     "data": {
      "text/plain": "item_code                         int64\nmin_date                         object\nmax_date                         object\nitem_price_x                    float64\ndelivery_weeks                    int64\navg_sales                       float64\navg_unique_views                float64\navg_sessions                    float64\navg_marketing_cost_spend        float64\nconv_rate                       float64\nbin                               int64\nlog_price                       float64\nlog_delivery_weeks              float64\nlog_sales                       float64\nlog_avg_unique_views            float64\nlog_conv_rate                   float64\nlog_avg_sessions                float64\nlog_avg_marketing_cost_spend    float64\ndtype: object"
     },
     "execution_count": 13,
     "metadata": {},
     "output_type": "execute_result"
    }
   ],
   "source": [
    "df_to_spark.dtypes\n"
   ],
   "metadata": {
    "collapsed": false,
    "pycharm": {
     "name": "#%%\n"
    }
   }
  },
  {
   "cell_type": "code",
   "execution_count": 14,
   "outputs": [],
   "source": [
    "df_final = df_final[[\n",
    "    'item_code',\n",
    "    'min_date',\n",
    "    'max_date',\n",
    "    'item_price_x',\n",
    "    'delivery_weeks',\n",
    "    'avg_sales',\n",
    "    'avg_unique_views',\n",
    "    'avg_sessions',\n",
    "    'avg_marketing_cost_spend',\n",
    "    'conv_rate',\n",
    "    'bin',\n",
    "    'log_price',\n",
    "    'log_delivery_weeks',\n",
    "    'log_sales',\n",
    "    'log_avg_unique_views',\n",
    "    'log_conv_rate',\n",
    "    'log_avg_sessions',\n",
    "    'log_avg_marketing_cost_spend']]\n",
    "spark_df = spark.createDataFrame(df_final)"
   ],
   "metadata": {
    "collapsed": false,
    "pycharm": {
     "name": "#%%\n"
    }
   }
  },
  {
   "cell_type": "code",
   "execution_count": 15,
   "outputs": [],
   "source": [
    "spark_df.createOrReplaceTempView('Final_table')\n"
   ],
   "metadata": {
    "collapsed": false,
    "pycharm": {
     "name": "#%%\n"
    }
   }
  },
  {
   "cell_type": "code",
   "execution_count": 16,
   "outputs": [
    {
     "name": "stdout",
     "output_type": "stream",
     "text": [
      "+----------+------------+----------+--------------+\n",
      "| item_code|item_price_x|  max_date|delivery_weeks|\n",
      "+----------+------------+----------+--------------+\n",
      "|1000016121|      299.99|2021-04-28|             1|\n",
      "|1000021904|      239.99|2021-04-23|             3|\n",
      "|1000054054|      329.99|2021-04-26|            16|\n",
      "|1000064483|       53.99|2021-03-07|             1|\n",
      "|1000137922|      629.99|2021-04-28|             3|\n",
      "|1000208251|      419.99|2021-02-26|             3|\n",
      "|1000211528|       94.99|2021-04-28|             1|\n",
      "|1000007431|      104.99|2021-04-28|             1|\n",
      "|1000008030|      269.99|2021-04-15|             2|\n",
      "|1000021988|       66.99|2021-03-15|             1|\n",
      "|1000048003|      349.99|2021-04-23|             3|\n",
      "|1000080285|      139.99|2021-04-15|             2|\n",
      "|1000087583|      219.99|2021-03-28|             9|\n",
      "|1000101087|      264.99|2021-04-15|             2|\n",
      "|1000101103|      249.99|2021-04-02|             3|\n",
      "|1000104169|      119.99|2021-04-28|             1|\n",
      "|1000121623|      479.99|2021-03-29|             7|\n",
      "|1000128954|      629.99|2021-04-11|             8|\n",
      "|1000151265|      579.99|2021-01-14|             8|\n",
      "|1000173828|      799.99|2021-03-30|             3|\n",
      "+----------+------------+----------+--------------+\n",
      "only showing top 20 rows\n",
      "\n"
     ]
    }
   ],
   "source": [
    "spark_last_price = spark.sql(\"\"\"with max_price as (SELECT item_code, ROW_NUMBER() over (PARTITION BY item_code ORDER BY max_date DESC) as rn,\n",
    "                                                    item_price_x, max_date, delivery_weeks\n",
    "                                                    from final_table)\n",
    "                                SELECT item_code, item_price_x, max_date, delivery_weeks\n",
    "                                from max_price\n",
    "                                where rn=1\n",
    "                            \"\"\")\n",
    "spark_last_price.show()"
   ],
   "metadata": {
    "collapsed": false,
    "pycharm": {
     "name": "#%%\n"
    }
   }
  },
  {
   "cell_type": "code",
   "execution_count": 17,
   "outputs": [],
   "source": [
    "spark_last_price.createOrReplaceTempView('last_price')\n"
   ],
   "metadata": {
    "collapsed": false,
    "pycharm": {
     "name": "#%%\n"
    }
   }
  },
  {
   "cell_type": "code",
   "execution_count": 18,
   "outputs": [
    {
     "data": {
      "text/plain": "Sales_PE         float64\nSales_PE_err     float64\ndel_week         float64\ndel_week_err     float64\nintercept        float64\nintercept_err    float64\ndtype: object"
     },
     "execution_count": 18,
     "metadata": {},
     "output_type": "execute_result"
    }
   ],
   "source": [
    "df_PE_Sales.dtypes"
   ],
   "metadata": {
    "collapsed": false,
    "pycharm": {
     "name": "#%%\n"
    }
   }
  },
  {
   "cell_type": "code",
   "execution_count": 19,
   "outputs": [],
   "source": [
    "\n",
    "#df_result_true.reset_index(level=0,inplace=True)\n",
    "df_PE_Sales.reset_index(level=0, inplace=True)\n",
    "\n"
   ],
   "metadata": {
    "collapsed": false,
    "pycharm": {
     "name": "#%%\n"
    }
   }
  },
  {
   "cell_type": "code",
   "execution_count": 20,
   "outputs": [],
   "source": [
    "df_PE_Sales.rename(columns={'index': 'item_code'}, inplace=True)"
   ],
   "metadata": {
    "collapsed": false,
    "pycharm": {
     "name": "#%%\n"
    }
   }
  },
  {
   "cell_type": "code",
   "execution_count": 21,
   "outputs": [
    {
     "name": "stdout",
     "output_type": "stream",
     "text": [
      "    item_code  Sales_PE  Sales_PE_err  del_week  del_week_err  intercept  \\\n",
      "0  1000021922   -2.7164        0.2643   -0.0611        0.0123    13.5324   \n",
      "1  1000080319   -2.0123        0.5307   -0.0389        0.0125    12.2816   \n",
      "2  1000005727   -5.7830        0.9409   -0.0610        0.0520    29.7002   \n",
      "3  1000007327   -2.9895        0.5150   -0.0096        0.0173    16.2228   \n",
      "4  1000016194   -3.6670        0.4812   -0.0314        0.0125    19.4484   \n",
      "\n",
      "   intercept_err  \n",
      "0         1.2491  \n",
      "1         3.1825  \n",
      "2         4.3197  \n",
      "3         2.7397  \n",
      "4         2.4576  \n"
     ]
    }
   ],
   "source": [
    "print(df_PE_Sales.head())"
   ],
   "metadata": {
    "collapsed": false,
    "pycharm": {
     "name": "#%%\n"
    }
   }
  },
  {
   "cell_type": "code",
   "execution_count": 22,
   "outputs": [],
   "source": [
    "spark_PE_df = spark.createDataFrame(df_PE_Sales)"
   ],
   "metadata": {
    "collapsed": false,
    "pycharm": {
     "name": "#%%\n"
    }
   }
  },
  {
   "cell_type": "code",
   "execution_count": 23,
   "outputs": [
    {
     "name": "stdout",
     "output_type": "stream",
     "text": [
      "+----------+-------------------+------------+--------------------+--------------------+---------+------------------+\n",
      "| item_code|           Sales_PE|Sales_PE_err|            del_week|        del_week_err|intercept|     intercept_err|\n",
      "+----------+-------------------+------------+--------------------+--------------------+---------+------------------+\n",
      "|1000021922|            -2.7164|      0.2643|             -0.0611|              0.0123|  13.5324|            1.2491|\n",
      "|1000080319|            -2.0123|      0.5307|             -0.0389|              0.0125|  12.2816|            3.1825|\n",
      "|1000005727|-5.7829999999999995|      0.9409|              -0.061|0.052000000000000005|  29.7002|            4.3197|\n",
      "|1000007327|            -2.9895|       0.515|             -0.0096|              0.0173|  16.2228|            2.7397|\n",
      "|1000016194|             -3.667|      0.4812|             -0.0314|              0.0125|  19.4484|            2.4576|\n",
      "|1000048008|            -1.2746|       0.252|             -0.0204|              0.0068|   6.1285|            1.0587|\n",
      "|1000116614|            -4.0372|      0.5501|             -0.0601|              0.0178|   28.574|3.8360000000000003|\n",
      "|1000123776|            -4.4525|      1.2165|             -0.0663|              0.0834|  20.8146|            5.2952|\n",
      "|1000175476|            -3.4585|      0.4831|             -0.1496|              0.1339|  15.8979|            2.0783|\n",
      "|1000176734|            -1.9881|      0.5152|             -0.0021|              0.0239|  10.7002|            2.6128|\n",
      "|1000008470|            -7.7407|      1.2494|-0.08199999999999999|              0.0545|  36.8637|            5.7987|\n",
      "|1000124600|            -2.9983|      0.4939|             -0.0315|              0.0144|  19.5207|            3.1474|\n",
      "|1000159178|            -1.4844|      0.3631|             -0.0099|              0.0048|   8.2118|            1.9734|\n",
      "|1000174312|            -2.4396|      0.2262|             -0.0224|               0.005|  15.0294|            1.3155|\n",
      "|1000174905|            -1.9266|      0.2402|             -0.0102|              0.0091|  10.9985|            1.3308|\n",
      "|1000176716|            -6.4762|      1.1889|             -0.0748|               0.071|  34.5708|            5.5473|\n",
      "|1000008827|            -3.3405|      0.3829|             -0.0855|              0.0297|  19.1459|            1.9885|\n",
      "|1000016080|            -2.2008|      0.5579|             -0.0274|              0.0201|  11.8066|            2.7737|\n",
      "|1000022615|           -11.0377|       1.716|             -0.2295|               0.204|  56.1722|            8.6778|\n",
      "|1000027423|            -1.4168|      0.1895|             -0.0127|               0.005|   8.8045|            1.0791|\n",
      "+----------+-------------------+------------+--------------------+--------------------+---------+------------------+\n",
      "only showing top 20 rows\n",
      "\n"
     ]
    }
   ],
   "source": [
    "spark_PE_df.show()"
   ],
   "metadata": {
    "collapsed": false,
    "pycharm": {
     "name": "#%%\n"
    }
   }
  },
  {
   "cell_type": "code",
   "execution_count": 24,
   "outputs": [],
   "source": [
    "spark_PE_df.createOrReplaceTempView('final_PE')"
   ],
   "metadata": {
    "collapsed": false,
    "pycharm": {
     "name": "#%%\n"
    }
   }
  },
  {
   "cell_type": "code",
   "execution_count": 25,
   "outputs": [
    {
     "name": "stdout",
     "output_type": "stream",
     "text": [
      "+----------+------------+----------+--------------+--------+-------------------+--------------------+--------------------+-------------------+-------------+\n",
      "| item_code|item_price_x|  max_date|delivery_weeks|sales_pe|       sales_pe_err|       beta_del_week|   beta_del_week_err|          intercept|intercept_err|\n",
      "+----------+------------+----------+--------------+--------+-------------------+--------------------+--------------------+-------------------+-------------+\n",
      "|1000016121|      299.99|2021-04-28|             1| -1.5734|             0.3957|             -0.0107|0.013000000000000001|             9.6288|        2.286|\n",
      "|1000021904|      239.99|2021-04-23|             3| -3.8838|             0.8329|             -0.0205|              0.0227|            22.0802|       4.5178|\n",
      "|1000054054|      329.99|2021-04-26|            16| -0.8534|             0.1496|             -0.0117|              0.0032|             5.0027|         0.79|\n",
      "|1000064483|       53.99|2021-03-07|             1| -2.8085|             0.6689|             -0.0159|              0.0247|            16.9157|       3.9106|\n",
      "|1000137922|      629.99|2021-04-28|             3|  -1.952|             0.6018|              -0.073|              0.0314|            12.0455|       3.5729|\n",
      "|1000208251|      419.99|2021-02-26|             3| -0.8957|             0.2646|             -0.0329|               0.008|             5.9722|       1.5214|\n",
      "|1000211528|       94.99|2021-04-28|             1| -3.0491|             0.5367|             -0.0499|              0.0357|            17.5739|       2.7976|\n",
      "|1000007431|      104.99|2021-04-28|             1|-18.2928|             2.4617|             -0.1186|              0.1062|            85.2384|      11.3301|\n",
      "|1000008030|      269.99|2021-04-15|             2| -2.3703|             0.4269|             -0.0517|              0.0147|             14.215|       2.3461|\n",
      "|1000021988|       66.99|2021-03-15|             1|  3.6143|             1.0257|             -0.0986|              0.0385|-14.245999999999999|       4.3113|\n",
      "|1000048003|      349.99|2021-04-23|             3| -2.7317|             0.3851|             -0.0089|              0.0067|            16.2329|       2.1005|\n",
      "|1000080285|      139.99|2021-04-15|             2| -2.6669|             0.6424|             -0.0648|              0.0157|            13.8496|       3.1919|\n",
      "|1000087583|      219.99|2021-03-28|             9| -1.5979|             0.4264|-0.03700000000000...|              0.0085|             8.7587|       2.1987|\n",
      "|1000101087|      264.99|2021-04-15|             2| -1.8002|             0.4523|             -0.0054|              0.0055|            10.8156|       2.7041|\n",
      "|1000101103|      249.99|2021-04-02|             3| -2.0557|             0.5955|             -0.0122|              0.0155| 12.890999999999998|       3.7054|\n",
      "|1000104169|      119.99|2021-04-28|             1| -2.1983|             0.3644|             -0.0511|              0.0147|            11.7273|         1.78|\n",
      "|1000121623|      479.99|2021-03-29|             7| -1.5505|0.47600000000000003|             -0.0427|              0.0119|             9.4705|       2.8145|\n",
      "|1000128954|      629.99|2021-04-11|             8|  -1.181|             0.2423|             -0.0135|              0.0071|             8.2086|       1.5703|\n",
      "|1000151265|      579.99|2021-01-14|             8| -4.8146|             1.5768|              0.0397|              0.0633|            32.1312|      10.3033|\n",
      "|1000173828|      799.99|2021-03-30|             3| -2.1336|             0.3467|             -0.0143|              0.0082|            14.4824|       2.3399|\n",
      "+----------+------------+----------+--------------+--------+-------------------+--------------------+--------------------+-------------------+-------------+\n",
      "only showing top 20 rows\n",
      "\n"
     ]
    }
   ],
   "source": [
    "spark_final = spark.sql(\"\"\"SELECT ftf.*,\n",
    "                            fpe.sales_pe,\n",
    "                            fpe.sales_pe_err,\n",
    "                            fpe.del_week as beta_del_week,\n",
    "                            fpe.del_week_err as beta_del_week_err,\n",
    "                            fpe.intercept,\n",
    "                            fpe.intercept_err\n",
    "                            from last_price as ftf\n",
    "                            INNER JOIN final_pe as fpe on fpe.item_code = ftf.item_code\"\"\")\n",
    "spark_final.show()\n",
    "spark_final.createOrReplaceTempView('spark_final_tmp')"
   ],
   "metadata": {
    "collapsed": false,
    "pycharm": {
     "name": "#%%\n"
    }
   }
  },
  {
   "cell_type": "code",
   "execution_count": 26,
   "outputs": [],
   "source": [
    "#spark.sql(\"\"\"SELECT COUNT(DISTINCT item_code)\n",
    "#from spark_final_tmp\"\"\").show()\n",
    "\n"
   ],
   "metadata": {
    "collapsed": false,
    "pycharm": {
     "name": "#%%\n"
    }
   }
  },
  {
   "cell_type": "code",
   "execution_count": 29,
   "outputs": [
    {
     "name": "stdout",
     "output_type": "stream",
     "text": [
      "+---------------+------------------+---------------------+-------------+----------------+----------+-------------+-----------+----------+-----------+--------------+-------------+--------------------+----------------------+--------------------+------------------+--------------------+------------------+------------------+-------------------+-------------------+---------+--------------------------------+---------------------------------------------+-----------------------+---------------------+------------------------+--------------------------+------------------------+--------------------+-----------+-------------------+------------------+-------------------+----------------------------+---------------+-----------------------+-----------------------+----------------------+------------------------------------+-------------------------------------------+-------------------------------------------------+--------------------------------------------------------+------------------------+---------------------+----------------------+---------------------+--------------------+-----------------+---------------+------------------------+--------------------------+\n",
      "|      item_skey|         item_code|item_parent_item_code|    item_name|item_parent_name|item_brand|item_designer|item_series|item_style|item_colors|item_materials|    item_gtin|item_gtin_comparable|item_picture_url_first|        item_pdp_url|  item_exclusivity|item_is_trusted_shop|item_is_in_catalog|item_main_category|item_sub_category_1|item_sub_category_2|item_type|item_cross_plant_material_status|item_cross_distribution_chain_material_status|item_supplier_item_code|item_supplier_regular|item_supplier_regular_id|item_first_activation_date|item_first_sellable_date|item_shipping_pieces|item_volume|item_inventory_flag|item_delivery_type|item_purchase_price|item_purchase_price_currency|item_inco_terms|item_supplier_lead_time|item_sourcing_warehouse|item_country_of_origin|item_cross_plant_deactivation_reason|item_cross_plant_material_status_valid_from|item_cross_distribution_chain_deactivation_reason|item_cross_distribution_chain_material_status_valid_from|item_attributes_bed_size|item_attributes_depth|item_attributes_height|item_attributes_width|item_attributes_wood|item_gross_weight|item_net_weight|item_customer_avg_rating|item_customer_rating_count|\n",
      "+---------------+------------------+---------------------+-------------+----------------+----------+-------------+-----------+----------+-----------+--------------+-------------+--------------------+----------------------+--------------------+------------------+--------------------+------------------+------------------+-------------------+-------------------+---------+--------------------------------+---------------------------------------------+-----------------------+---------------------+------------------------+--------------------------+------------------------+--------------------+-----------+-------------------+------------------+-------------------+----------------------------+---------------+-----------------------+-----------------------+----------------------+------------------------------------+-------------------------------------------+-------------------------------------------------+--------------------------------------------------------+------------------------+---------------------+----------------------+---------------------+--------------------+-----------------+---------------+------------------------+--------------------------+\n",
      "|246995205363527|000000000000001000|   000000008000012374|Aufbauservice|   Aufbauservice|          |      UNKNOWN|    UNKNOWN|   UNKNOWN|    UNKNOWN|       UNKNOWN|2050000000003|          comparable|               UNKNOWN|https://www.home2...|sparepartsServices| is not trusted shop|     is in catalog|            AUFBAU|             AUFBAU|             AUFBAU|     ZDIN|                              20|                                             |                UNKNOWN|              UNKNOWN|                     -99|                2017-11-20|              2017-11-20|               0.000|      0.000|            UNKNOWN|     parcelservice|              0.000|                     UNKNOWN|        UNKNOWN|                    -99|                UNKNOWN|                    DE|                             UNKNOWN|                                 2017-01-01|                                          UNKNOWN|                                              1970-01-01|                 UNKNOWN|              UNKNOWN|               UNKNOWN|              UNKNOWN|             UNKNOWN|            0.000|          0.000|                    0.00|                       -99|\n",
      "|  1216388560158|000000000000001193|   000000008000012374|Aufbauservice|   Aufbauservice|          |      UNKNOWN|    UNKNOWN|   UNKNOWN|    UNKNOWN|       UNKNOWN|      UNKNOWN|             UNKNOWN|               UNKNOWN|https://www.home2...|sparepartsServices| is not trusted shop|     is in catalog|            AUFBAU|             AUFBAU|             AUFBAU|     ZDIN|                              20|                                             |                UNKNOWN|              UNKNOWN|                     -99|                2018-01-11|              2018-01-11|               0.000|      0.000|            UNKNOWN|     parcelservice|              0.000|                     UNKNOWN|        UNKNOWN|                    -99|                UNKNOWN|                    DE|                             UNKNOWN|                                 2017-01-01|                                          UNKNOWN|                                              1970-01-01|                 UNKNOWN|              UNKNOWN|               UNKNOWN|              UNKNOWN|             UNKNOWN|            0.000|          0.000|                    0.00|                       -99|\n",
      "| 80472786708632|000000000000001194|   000000008000012374|Aufbauservice|   Aufbauservice|          |      UNKNOWN|    UNKNOWN|   UNKNOWN|    UNKNOWN|       UNKNOWN|      UNKNOWN|             UNKNOWN|               UNKNOWN|https://www.home2...|sparepartsServices| is not trusted shop|     is in catalog|            AUFBAU|             AUFBAU|             AUFBAU|     ZDIN|                              20|                                             |                UNKNOWN|              UNKNOWN|                     -99|                2018-01-11|              2018-01-11|               0.000|      0.000|            UNKNOWN|     parcelservice|              0.000|                     UNKNOWN|        UNKNOWN|                    -99|                UNKNOWN|                    DE|                             UNKNOWN|                                 2017-01-01|                                          UNKNOWN|                                              1970-01-01|                 UNKNOWN|              UNKNOWN|               UNKNOWN|              UNKNOWN|             UNKNOWN|            0.000|          0.000|                    0.00|                       -99|\n",
      "|194561450406777|000000000000001195|   000000008000012374|Aufbauservice|   Aufbauservice|          |      UNKNOWN|    UNKNOWN|   UNKNOWN|    UNKNOWN|       UNKNOWN|      UNKNOWN|             UNKNOWN|               UNKNOWN|https://www.home2...|sparepartsServices| is not trusted shop|     is in catalog|            AUFBAU|             AUFBAU|             AUFBAU|     ZDIN|                              20|                                             |                UNKNOWN|              UNKNOWN|                     -99|                2018-01-16|              2018-01-16|               0.000|      0.000|            UNKNOWN|     parcelservice|              0.000|                     UNKNOWN|        UNKNOWN|                    -99|                UNKNOWN|                    DE|                             UNKNOWN|                                 2017-01-01|                                          UNKNOWN|                                              1970-01-01|                 UNKNOWN|              UNKNOWN|               UNKNOWN|              UNKNOWN|             UNKNOWN|            0.000|          0.000|                    0.00|                       -99|\n",
      "| 30812130078943|000000000000001196|   000000008000012374|Aufbauservice|   Aufbauservice|          |      UNKNOWN|    UNKNOWN|   UNKNOWN|    UNKNOWN|       UNKNOWN|      UNKNOWN|             UNKNOWN|               UNKNOWN|https://www.home2...|sparepartsServices| is not trusted shop|     is in catalog|            AUFBAU|             AUFBAU|             AUFBAU|     ZDIN|                              20|                                             |                UNKNOWN|              UNKNOWN|                     -99|                2018-01-16|              2018-01-16|               0.000|      0.000|            UNKNOWN|     parcelservice|              0.000|                     UNKNOWN|        UNKNOWN|                    -99|                UNKNOWN|                    DE|                             UNKNOWN|                                 2017-01-01|                                          UNKNOWN|                                              1970-01-01|                 UNKNOWN|              UNKNOWN|               UNKNOWN|              UNKNOWN|             UNKNOWN|            0.000|          0.000|                    0.00|                       -99|\n",
      "|252506326476483|000000000000001197|   000000008000012374|Aufbauservice|   Aufbauservice|          |      UNKNOWN|    UNKNOWN|   UNKNOWN|    UNKNOWN|       UNKNOWN|      UNKNOWN|             UNKNOWN|               UNKNOWN|https://www.home2...|sparepartsServices| is not trusted shop|     is in catalog|            AUFBAU|             AUFBAU|             AUFBAU|     ZDIN|                              20|                                             |                UNKNOWN|              UNKNOWN|                     -99|                2018-01-12|              2018-01-12|               0.000|      0.000|            UNKNOWN|     parcelservice|              0.000|                     UNKNOWN|        UNKNOWN|                    -99|                UNKNOWN|                    DE|                             UNKNOWN|                                 2017-01-01|                                          UNKNOWN|                                              1970-01-01|                 UNKNOWN|              UNKNOWN|               UNKNOWN|              UNKNOWN|             UNKNOWN|            0.000|          0.000|                    0.00|                       -99|\n",
      "|137331546705301|000000000000001198|   000000008000012374|Aufbauservice|   Aufbauservice|          |      UNKNOWN|    UNKNOWN|   UNKNOWN|    UNKNOWN|       UNKNOWN|      UNKNOWN|             UNKNOWN|               UNKNOWN|https://www.home2...|sparepartsServices| is not trusted shop|     is in catalog|            AUFBAU|             AUFBAU|             AUFBAU|     ZDIN|                              20|                                             |                UNKNOWN|              UNKNOWN|                     -99|                2018-01-16|              2018-01-16|               0.000|      0.000|            UNKNOWN|     parcelservice|              0.000|                     UNKNOWN|        UNKNOWN|                    -99|                UNKNOWN|                    DE|                             UNKNOWN|                                 2017-01-01|                                          UNKNOWN|                                              1970-01-01|                 UNKNOWN|              UNKNOWN|               UNKNOWN|              UNKNOWN|             UNKNOWN|            0.000|          0.000|                    0.00|                       -99|\n",
      "|148133458693150|000000000000001199|   000000008000012374|Aufbauservice|   Aufbauservice|          |      UNKNOWN|    UNKNOWN|   UNKNOWN|    UNKNOWN|       UNKNOWN|      UNKNOWN|             UNKNOWN|               UNKNOWN|https://www.home2...|sparepartsServices| is not trusted shop|     is in catalog|            AUFBAU|             AUFBAU|             AUFBAU|     ZDIN|                              20|                                             |                UNKNOWN|              UNKNOWN|                     -99|                2018-01-16|              2018-01-16|               0.000|      0.000|            UNKNOWN|     parcelservice|              0.000|                     UNKNOWN|        UNKNOWN|                    -99|                UNKNOWN|                    DE|                             UNKNOWN|                                 2017-01-01|                                          UNKNOWN|                                              1970-01-01|                 UNKNOWN|              UNKNOWN|               UNKNOWN|              UNKNOWN|             UNKNOWN|            0.000|          0.000|                    0.00|                       -99|\n",
      "| 95518085222501|000000000000001200|   000000008000012374|Aufbauservice|   Aufbauservice|          |      UNKNOWN|    UNKNOWN|   UNKNOWN|    UNKNOWN|       UNKNOWN|      UNKNOWN|             UNKNOWN|               UNKNOWN|https://www.home2...|sparepartsServices| is not trusted shop|     is in catalog|            AUFBAU|             AUFBAU|             AUFBAU|     ZDIN|                              20|                                             |                UNKNOWN|              UNKNOWN|                     -99|                2018-01-16|              2018-01-16|               0.000|      0.000|            UNKNOWN|     parcelservice|              0.000|                     UNKNOWN|        UNKNOWN|                    -99|                UNKNOWN|                    DE|                             UNKNOWN|                                 2017-01-01|                                          UNKNOWN|                                              1970-01-01|                 UNKNOWN|              UNKNOWN|               UNKNOWN|              UNKNOWN|             UNKNOWN|            0.000|          0.000|                    0.00|                       -99|\n",
      "|203177097081578|000000000000001201|   000000008000012374|Aufbauservice|   Aufbauservice|          |      UNKNOWN|    UNKNOWN|   UNKNOWN|    UNKNOWN|       UNKNOWN|      UNKNOWN|             UNKNOWN|               UNKNOWN|https://www.home2...|sparepartsServices| is not trusted shop|     is in catalog|            AUFBAU|             AUFBAU|             AUFBAU|     ZDIN|                              20|                                             |                UNKNOWN|              UNKNOWN|                     -99|                2018-01-11|              2018-01-11|               0.000|      0.000|            UNKNOWN|     parcelservice|              0.000|                     UNKNOWN|        UNKNOWN|                    -99|                UNKNOWN|                    DE|                             UNKNOWN|                                 2017-01-01|                                          UNKNOWN|                                              1970-01-01|                 UNKNOWN|              UNKNOWN|               UNKNOWN|              UNKNOWN|             UNKNOWN|            0.000|          0.000|                    0.00|                       -99|\n",
      "| 85492699319980|000000000000001202|   000000008000012374|Aufbauservice|   Aufbauservice|          |      UNKNOWN|    UNKNOWN|   UNKNOWN|    UNKNOWN|       UNKNOWN|      UNKNOWN|             UNKNOWN|               UNKNOWN|https://www.home2...|sparepartsServices| is not trusted shop|     is in catalog|            AUFBAU|             AUFBAU|             AUFBAU|     ZDIN|                              20|                                             |                UNKNOWN|              UNKNOWN|                     -99|                2018-01-16|              2018-01-16|               0.000|      0.000|            UNKNOWN|     parcelservice|              0.000|                     UNKNOWN|        UNKNOWN|                    -99|                UNKNOWN|                    DE|                             UNKNOWN|                                 2017-01-01|                                          UNKNOWN|                                              1970-01-01|                 UNKNOWN|              UNKNOWN|               UNKNOWN|              UNKNOWN|             UNKNOWN|            0.000|          0.000|                    0.00|                       -99|\n",
      "|154332525896223|000000000000001203|   000000008000012374|Aufbauservice|   Aufbauservice|          |      UNKNOWN|    UNKNOWN|   UNKNOWN|    UNKNOWN|       UNKNOWN|      UNKNOWN|             UNKNOWN|               UNKNOWN|https://www.home2...|sparepartsServices| is not trusted shop|     is in catalog|            AUFBAU|             AUFBAU|             AUFBAU|     ZDIN|                              20|                                             |                UNKNOWN|              UNKNOWN|                     -99|                2017-11-22|              2017-11-22|               0.000|      0.000|            UNKNOWN|     parcelservice|              0.000|                     UNKNOWN|        UNKNOWN|                    -99|                UNKNOWN|                    DE|                             UNKNOWN|                                 2017-01-01|                                          UNKNOWN|                                              1970-01-01|                 UNKNOWN|              UNKNOWN|               UNKNOWN|              UNKNOWN|             UNKNOWN|            0.000|          0.000|                    0.00|                       -99|\n",
      "|218889718810311|000000000000001204|   000000008000012374|Aufbauservice|   Aufbauservice|          |      UNKNOWN|    UNKNOWN|   UNKNOWN|    UNKNOWN|       UNKNOWN|      UNKNOWN|             UNKNOWN|               UNKNOWN|https://www.home2...|sparepartsServices| is not trusted shop|     is in catalog|            AUFBAU|             AUFBAU|             AUFBAU|     ZDIN|                              20|                                             |                UNKNOWN|              UNKNOWN|                     -99|                2018-01-16|              2018-01-16|               0.000|      0.000|            UNKNOWN|     parcelservice|              0.000|                     UNKNOWN|        UNKNOWN|                    -99|                UNKNOWN|                    DE|                             UNKNOWN|                                 2017-01-01|                                          UNKNOWN|                                              1970-01-01|                 UNKNOWN|              UNKNOWN|               UNKNOWN|              UNKNOWN|             UNKNOWN|            0.000|          0.000|                    0.00|                       -99|\n",
      "| 66247685964836|000000000000001205|   000000008000012374|Aufbauservice|   Aufbauservice|          |      UNKNOWN|    UNKNOWN|   UNKNOWN|    UNKNOWN|       UNKNOWN|      UNKNOWN|             UNKNOWN|               UNKNOWN|https://www.home2...|sparepartsServices| is not trusted shop|     is in catalog|            AUFBAU|             AUFBAU|             AUFBAU|     ZDIN|                              20|                                             |                UNKNOWN|              UNKNOWN|                     -99|                2018-01-16|              2018-01-16|               0.000|      0.000|            UNKNOWN|     parcelservice|              0.000|                     UNKNOWN|        UNKNOWN|                    -99|                UNKNOWN|                    DE|                             UNKNOWN|                                 2017-01-01|                                          UNKNOWN|                                              1970-01-01|                 UNKNOWN|              UNKNOWN|               UNKNOWN|              UNKNOWN|             UNKNOWN|            0.000|          0.000|                    0.00|                       -99|\n",
      "|126339402813727|000000000000001206|   000000008000012374|Aufbauservice|   Aufbauservice|          |      UNKNOWN|    UNKNOWN|   UNKNOWN|    UNKNOWN|       UNKNOWN|      UNKNOWN|             UNKNOWN|               UNKNOWN|https://www.home2...|sparepartsServices| is not trusted shop|     is in catalog|            AUFBAU|             AUFBAU|             AUFBAU|     ZDIN|                              20|                                             |                UNKNOWN|              UNKNOWN|                     -99|                2018-01-16|              2018-01-16|               0.000|      0.000|            UNKNOWN|     parcelservice|              0.000|                     UNKNOWN|        UNKNOWN|                    -99|                UNKNOWN|                    DE|                             UNKNOWN|                                 2017-01-01|                                          UNKNOWN|                                              1970-01-01|                 UNKNOWN|              UNKNOWN|               UNKNOWN|              UNKNOWN|             UNKNOWN|            0.000|          0.000|                    0.00|                       -99|\n",
      "| 46436241793073|000000000000001207|   000000008000012374|Aufbauservice|   Aufbauservice|          |      UNKNOWN|    UNKNOWN|   UNKNOWN|    UNKNOWN|       UNKNOWN|      UNKNOWN|             UNKNOWN|               UNKNOWN|https://www.home2...|sparepartsServices| is not trusted shop|     is in catalog|            AUFBAU|             AUFBAU|             AUFBAU|     ZDIN|                              20|                                             |                UNKNOWN|              UNKNOWN|                     -99|                2018-01-26|              2018-01-26|               0.000|      0.000|            UNKNOWN|     parcelservice|              0.000|                     UNKNOWN|        UNKNOWN|                    -99|                UNKNOWN|                    DE|                             UNKNOWN|                                 2017-01-01|                                          UNKNOWN|                                              1970-01-01|                 UNKNOWN|              UNKNOWN|               UNKNOWN|              UNKNOWN|             UNKNOWN|            0.000|          0.000|                    0.00|                       -99|\n",
      "| 51791312620986|000000000000001208|   000000008000012374|Aufbauservice|   Aufbauservice|          |      UNKNOWN|    UNKNOWN|   UNKNOWN|    UNKNOWN|       UNKNOWN|      UNKNOWN|             UNKNOWN|               UNKNOWN|https://www.home2...|sparepartsServices| is not trusted shop|     is in catalog|            AUFBAU|             AUFBAU|             AUFBAU|     ZDIN|                              20|                                             |                UNKNOWN|              UNKNOWN|                     -99|                2018-01-26|              2018-01-26|               0.000|      0.000|            UNKNOWN|     parcelservice|              0.000|                     UNKNOWN|        UNKNOWN|                    -99|                UNKNOWN|                    DE|                             UNKNOWN|                                 2017-01-01|                                          UNKNOWN|                                              1970-01-01|                 UNKNOWN|              UNKNOWN|               UNKNOWN|              UNKNOWN|             UNKNOWN|            0.000|          0.000|                    0.00|                       -99|\n",
      "|223036029198421|000000000000001209|   000000008000012374|Aufbauservice|   Aufbauservice|          |      UNKNOWN|    UNKNOWN|   UNKNOWN|    UNKNOWN|       UNKNOWN|      UNKNOWN|             UNKNOWN|               UNKNOWN|https://www.home2...|sparepartsServices| is not trusted shop|     is in catalog|            AUFBAU|             AUFBAU|             AUFBAU|     ZDIN|                              20|                                             |                UNKNOWN|              UNKNOWN|                     -99|                2018-01-26|              2018-01-26|               0.000|      0.000|            UNKNOWN|     parcelservice|              0.000|                     UNKNOWN|        UNKNOWN|                    -99|                UNKNOWN|                    DE|                             UNKNOWN|                                 2017-01-01|                                          UNKNOWN|                                              1970-01-01|                 UNKNOWN|              UNKNOWN|               UNKNOWN|              UNKNOWN|             UNKNOWN|            0.000|          0.000|                    0.00|                       -99|\n",
      "|153842263516029|000000000000001210|   000000008000012374|Aufbauservice|   Aufbauservice|          |      UNKNOWN|    UNKNOWN|   UNKNOWN|    UNKNOWN|       UNKNOWN|      UNKNOWN|             UNKNOWN|               UNKNOWN|https://www.home2...|sparepartsServices| is not trusted shop|     is in catalog|            AUFBAU|             AUFBAU|             AUFBAU|     ZDIN|                              20|                                             |                UNKNOWN|              UNKNOWN|                     -99|                2018-01-26|              2018-01-26|               0.000|      0.000|            UNKNOWN|     parcelservice|              0.000|                     UNKNOWN|        UNKNOWN|                    -99|                UNKNOWN|                    DE|                             UNKNOWN|                                 2017-01-01|                                          UNKNOWN|                                              1970-01-01|                 UNKNOWN|              UNKNOWN|               UNKNOWN|              UNKNOWN|             UNKNOWN|            0.000|          0.000|                    0.00|                       -99|\n",
      "| 24562983294856|000000000000001211|   000000008000012374|Aufbauservice|   Aufbauservice|          |      UNKNOWN|    UNKNOWN|   UNKNOWN|    UNKNOWN|       UNKNOWN|      UNKNOWN|             UNKNOWN|               UNKNOWN|https://www.home2...|sparepartsServices| is not trusted shop|     is in catalog|            AUFBAU|             AUFBAU|             AUFBAU|     ZDIN|                              20|                                             |                UNKNOWN|              UNKNOWN|                     -99|                2018-01-26|              2018-01-26|               0.000|      0.000|            UNKNOWN|     parcelservice|              0.000|                     UNKNOWN|        UNKNOWN|                    -99|                UNKNOWN|                    DE|                             UNKNOWN|                                 2017-01-01|                                          UNKNOWN|                                              1970-01-01|                 UNKNOWN|              UNKNOWN|               UNKNOWN|              UNKNOWN|             UNKNOWN|            0.000|          0.000|                    0.00|                       -99|\n",
      "+---------------+------------------+---------------------+-------------+----------------+----------+-------------+-----------+----------+-----------+--------------+-------------+--------------------+----------------------+--------------------+------------------+--------------------+------------------+------------------+-------------------+-------------------+---------+--------------------------------+---------------------------------------------+-----------------------+---------------------+------------------------+--------------------------+------------------------+--------------------+-----------+-------------------+------------------+-------------------+----------------------------+---------------+-----------------------+-----------------------+----------------------+------------------------------------+-------------------------------------------+-------------------------------------------------+--------------------------------------------------------+------------------------+---------------------+----------------------+---------------------+--------------------+-----------------+---------------+------------------------+--------------------------+\n",
      "only showing top 20 rows\n",
      "\n"
     ]
    }
   ],
   "source": [
    "#Introduce d_item table\n",
    "sp_df_item = spark.read.parquet(\n",
    "    '/Users/gabriele.sabato/PycharmProjects/raw_data/redshift_tables/d_item/*.parquet',\n",
    "    header=True)\n",
    "sp_df_item.show()"
   ],
   "metadata": {
    "collapsed": false,
    "pycharm": {
     "name": "#%%\n"
    }
   }
  },
  {
   "cell_type": "code",
   "execution_count": 30,
   "outputs": [
    {
     "name": "stdout",
     "output_type": "stream",
     "text": [
      "+-----------+---------+----------------+-----------------------+--------------------------+--------------------------+--------------------------+--------------------------------+---------------------------------+---------------------------------------+\n",
      "|  item_skey|shop_skey|item_status_skey|item_status_weekly_skey|item_pc1_costs_before_cogs|item_pc2_costs_before_cogs|group_pc2_margin_simulated|group_pc2_margin_ratio_simulated|group_pc2_margin_simulated_pocket|group_pc2_margin_ratio_simulated_pocket|\n",
      "+-----------+---------+----------------+-----------------------+--------------------------+--------------------------+--------------------------+--------------------------------+---------------------------------+---------------------------------------+\n",
      "| 9022444508|        1|               1|                      1|                      null|                      null|                      null|                            null|                             null|                                   null|\n",
      "| 9022444508|        2|               1|                      1|                      null|                      null|                      null|                            null|                             null|                                   null|\n",
      "| 9022444508|        3|               1|                      1|                      null|                      null|                      null|                            null|                             null|                                   null|\n",
      "| 9022444508|        4|               1|                      1|                      null|                      null|                      null|                            null|                             null|                                   null|\n",
      "| 9022444508|        5|               1|                      1|                      null|                      null|                      null|                            null|                             null|                                   null|\n",
      "| 9022444508|        6|               1|                      1|                      null|                      null|                      null|                            null|                             null|                                   null|\n",
      "| 9022444508|        7|               1|                      1|                      null|                      null|                      null|                            null|                             null|                                   null|\n",
      "| 9022444508|        8|               1|                      1|                      null|                      null|                      null|                            null|                             null|                                   null|\n",
      "|11603522693|        1|               1|                      1|                      null|                      null|                      null|                            null|                             null|                                   null|\n",
      "|11603522693|        2|               1|                      1|                      null|                      null|                      null|                            null|                             null|                                   null|\n",
      "|11603522693|        3|               1|                      1|                      null|                      null|                      null|                            null|                             null|                                   null|\n",
      "|11603522693|        4|               1|                      1|                      null|                      null|                      null|                            null|                             null|                                   null|\n",
      "|11603522693|        5|               1|                      1|                      null|                      null|                      null|                            null|                             null|                                   null|\n",
      "|11603522693|        6|               1|                      1|                      null|                      null|                      null|                            null|                             null|                                   null|\n",
      "|11603522693|        7|               1|                      1|                      null|                      null|                      null|                            null|                             null|                                   null|\n",
      "|11603522693|        8|               1|                      1|                      null|                      null|                      null|                            null|                             null|                                   null|\n",
      "|52611470619|        1|               4|                      3|                    14.840|                    20.010|                      null|                            null|                             null|                                   null|\n",
      "|52611470619|        2|               1|                      1|                    14.840|                    28.160|                      null|                            null|                             null|                                   null|\n",
      "|52611470619|        3|               4|                      3|                    14.840|                    23.210|                      null|                            null|                             null|                                   null|\n",
      "|52611470619|        4|               4|                      3|                    14.840|                    24.340|                      null|                            null|                             null|                                   null|\n",
      "+-----------+---------+----------------+-----------------------+--------------------------+--------------------------+--------------------------+--------------------------------+---------------------------------+---------------------------------------+\n",
      "only showing top 20 rows\n",
      "\n"
     ]
    }
   ],
   "source": [
    "#Introduce PC2 table\n",
    "sp_df_pc2 = spark.read.parquet(\n",
    "    '/Users/gabriele.sabato/PycharmProjects/raw_data/redshift_tables/f_item_status_last/*.parquet',\n",
    "    header=True)\n",
    "sp_df_pc2.show()"
   ],
   "metadata": {
    "collapsed": false,
    "pycharm": {
     "name": "#%%\n"
    }
   }
  },
  {
   "cell_type": "code",
   "execution_count": 37,
   "outputs": [],
   "source": [
    "sp_df_item.createOrReplaceTempView('d_item_tmp')\n",
    "sp_df_pc2.createOrReplaceTempView('d_item_pc2')"
   ],
   "metadata": {
    "collapsed": false,
    "pycharm": {
     "name": "#%%\n"
    }
   }
  },
  {
   "cell_type": "code",
   "execution_count": 38,
   "outputs": [
    {
     "name": "stdout",
     "output_type": "stream",
     "text": [
      "+------------+------------------+-------+\n",
      "|   item_skey|         item_code|    pc2|\n",
      "+------------+------------------+-------+\n",
      "| 52611470619|000000001000134743| 20.010|\n",
      "| 84385921703|000000001000071807|156.289|\n",
      "| 86157195106|000000001000244511| 13.960|\n",
      "|155168951323|000000001000168394| 93.569|\n",
      "|160741357340|000000001000209207|159.479|\n",
      "|192734622947|000000001000094810|355.430|\n",
      "|205869855153|000000001000085488|248.090|\n",
      "|224112330866|000000001000174074| 18.070|\n",
      "|232914582312|000000001000219189| 17.859|\n",
      "|250762505087|000000001000066133|  8.210|\n",
      "|254111485931|000000001000179190|321.079|\n",
      "|263925540263|000000001000116596| 60.799|\n",
      "|295387713504|000000001000248814|761.179|\n",
      "|296512802915|000000001000156944| 19.090|\n",
      "|310102063324|000000001000136606| 56.909|\n",
      "|318946574713|000000001000039659|205.020|\n",
      "|350221455850|000000001000033289| 29.219|\n",
      "|365206948338|000000001000112137| 50.729|\n",
      "|374059249977|000000001000177970| 58.630|\n",
      "|475846433003|000000001000050340| 25.399|\n",
      "+------------+------------------+-------+\n",
      "only showing top 20 rows\n",
      "\n"
     ]
    }
   ],
   "source": [
    "pc2_table = spark.sql(\"\"\" WITH pc2_avg as (\n",
    "                            SELECT item_skey,\n",
    "                            item_pc2_costs_before_cogs as pc2\n",
    "                            from d_item_pc2\n",
    "                            where shop_skey = 1 and item_pc2_costs_before_cogs IS NOT NULL)\n",
    "                            SELECT pc.item_skey,di.item_code, pc.pc2\n",
    "                            from d_item_tmp as di\n",
    "                            INNER JOIN pc2_avg as pc on pc.item_skey = di.item_skey\n",
    "                            where di.item_code like '0%'\n",
    "                            \"\"\")\n",
    "pc2_table.show()"
   ],
   "metadata": {
    "collapsed": false,
    "pycharm": {
     "name": "#%%\n"
    }
   }
  },
  {
   "cell_type": "code",
   "execution_count": 39,
   "outputs": [],
   "source": [
    "pc2_table.createOrReplaceTempView('pc2_table')"
   ],
   "metadata": {
    "collapsed": false,
    "pycharm": {
     "name": "#%%\n"
    }
   }
  },
  {
   "cell_type": "code",
   "execution_count": 40,
   "outputs": [
    {
     "name": "stdout",
     "output_type": "stream",
     "text": [
      "+----------------+\n",
      "|count(item_code)|\n",
      "+----------------+\n",
      "|          246731|\n",
      "+----------------+\n",
      "\n"
     ]
    }
   ],
   "source": [
    "spark.sql(\"\"\"SELECT COUNT(item_code) FROM pc2_table\"\"\").show()\n",
    "#spark.sql(\"\"\"SELECT COUNT(item_skey) FROM pc2_table\"\"\").show()"
   ],
   "metadata": {
    "collapsed": false,
    "pycharm": {
     "name": "#%%\n"
    }
   }
  },
  {
   "cell_type": "code",
   "execution_count": 42,
   "outputs": [
    {
     "name": "stdout",
     "output_type": "stream",
     "text": [
      "+----------+------------+----------+--------------+--------+-------------------+--------------------+--------------------+-------------------+-------------+-------+---------------+\n",
      "| item_code|item_price_x|  max_date|delivery_weeks|sales_pe|       sales_pe_err|       beta_del_week|   beta_del_week_err|          intercept|intercept_err|    pc2|      item_skey|\n",
      "+----------+------------+----------+--------------+--------+-------------------+--------------------+--------------------+-------------------+-------------+-------+---------------+\n",
      "|1000016121|      299.99|2021-04-28|             1| -1.5734|             0.3957|             -0.0107|0.013000000000000001|             9.6288|        2.286|130.330| 40600078796222|\n",
      "|1000021904|      239.99|2021-04-23|             3| -3.8838|             0.8329|             -0.0205|              0.0227|            22.0802|       4.5178|123.280|138251605120553|\n",
      "|1000054054|      329.99|2021-04-26|            16| -0.8534|             0.1496|             -0.0117|              0.0032|             5.0027|         0.79|177.050|258578614695714|\n",
      "|1000064483|       53.99|2021-03-07|             1| -2.8085|             0.6689|             -0.0159|              0.0247|            16.9157|       3.9106| 30.640|277856157534661|\n",
      "|1000137922|      629.99|2021-04-28|             3|  -1.952|             0.6018|              -0.073|              0.0314|            12.0455|       3.5729|369.850|256364191196067|\n",
      "|1000208251|      419.99|2021-02-26|             3| -0.8957|             0.2646|             -0.0329|               0.008|             5.9722|       1.5214|245.330|281170387287781|\n",
      "|1000211528|       94.99|2021-04-28|             1| -3.0491|             0.5367|             -0.0499|              0.0357|            17.5739|       2.7976| 50.789| 48817714062240|\n",
      "|1000007431|      104.99|2021-04-28|             1|-18.2928|             2.4617|             -0.1186|              0.1062|            85.2384|      11.3301| 42.990| 73591042629309|\n",
      "|1000008030|      269.99|2021-04-15|             2| -2.3703|             0.4269|             -0.0517|              0.0147|             14.215|       2.3461|103.550|166122491071574|\n",
      "|1000021988|       66.99|2021-03-15|             1|  3.6143|             1.0257|             -0.0986|              0.0385|-14.245999999999999|       4.3113| 42.590|118363529402010|\n",
      "|1000048003|      349.99|2021-04-23|             3| -2.7317|             0.3851|             -0.0089|              0.0067|            16.2329|       2.1005|168.400| 33009929417484|\n",
      "|1000080285|      139.99|2021-04-15|             2| -2.6669|             0.6424|             -0.0648|              0.0157|            13.8496|       3.1919| 93.459|269148416883408|\n",
      "|1000087583|      219.99|2021-03-28|             9| -1.5979|             0.4264|-0.03700000000000...|              0.0085|             8.7587|       2.1987|114.220|191583886188344|\n",
      "|1000101087|      264.99|2021-04-15|             2| -1.8002|             0.4523|             -0.0054|              0.0055|            10.8156|       2.7041|152.259|127764241568821|\n",
      "|1000101103|      249.99|2021-04-02|             3| -2.0557|             0.5955|             -0.0122|              0.0155| 12.890999999999998|       3.7054|143.160| 70121275023858|\n",
      "|1000104169|      119.99|2021-04-28|             1| -2.1983|             0.3644|             -0.0511|              0.0147|            11.7273|         1.78| 53.109| 85044611492193|\n",
      "|1000121623|      479.99|2021-03-29|             7| -1.5505|0.47600000000000003|             -0.0427|              0.0119|             9.4705|       2.8145|270.190|148450292983351|\n",
      "|1000128954|      629.99|2021-04-11|             8|  -1.181|             0.2423|             -0.0135|              0.0071|             8.2086|       1.5703|219.569|162926904430731|\n",
      "|1000151265|      579.99|2021-01-14|             8| -4.8146|             1.5768|              0.0397|              0.0633|            32.1312|      10.3033|403.769|164144424516062|\n",
      "|1000173828|      799.99|2021-03-30|             3| -2.1336|             0.3467|             -0.0143|              0.0082|            14.4824|       2.3399|538.059|154633886297033|\n",
      "+----------+------------+----------+--------------+--------+-------------------+--------------------+--------------------+-------------------+-------------+-------+---------------+\n",
      "only showing top 20 rows\n",
      "\n"
     ]
    }
   ],
   "source": [
    "spark_pc2_final = spark.sql(\"\"\" SELECT sp.*, pc.pc2, pc.item_skey\n",
    "                                from spark_final_tmp as sp\n",
    "                                 INNER JOIN pc2_table as pc on sp.item_code = pc.item_code\n",
    "                                 \"\"\")\n",
    "\n",
    "spark_pc2_final.show()"
   ],
   "metadata": {
    "collapsed": false,
    "pycharm": {
     "name": "#%%\n"
    }
   }
  },
  {
   "cell_type": "code",
   "execution_count": 43,
   "outputs": [],
   "source": [
    "df_final_spark = spark_pc2_final.toPandas()"
   ],
   "metadata": {
    "collapsed": false,
    "pycharm": {
     "name": "#%%\n"
    }
   }
  },
  {
   "cell_type": "code",
   "execution_count": 44,
   "outputs": [],
   "source": [
    "df_final_spark = df_final_spark.astype({'pc2': 'float64'})"
   ],
   "metadata": {
    "collapsed": false,
    "pycharm": {
     "name": "#%%\n"
    }
   }
  },
  {
   "cell_type": "code",
   "execution_count": 45,
   "outputs": [],
   "source": [
    "df_final_spark.to_csv('./pickle_files/df_Sales_PE_ready_for_Margin_20210607.csv')"
   ],
   "metadata": {
    "collapsed": false,
    "pycharm": {
     "name": "#%%\n"
    }
   }
  },
  {
   "cell_type": "code",
   "execution_count": 46,
   "outputs": [],
   "source": [
    "\n",
    "#After_VAT = 0.81\n",
    "import math"
   ],
   "metadata": {
    "collapsed": false,
    "pycharm": {
     "name": "#%%\n"
    }
   }
  },
  {
   "cell_type": "code",
   "execution_count": 47,
   "outputs": [
    {
     "data": {
      "text/plain": "item_code              int64\nitem_price_x         float64\nmax_date              object\ndelivery_weeks         int64\nsales_pe             float64\nsales_pe_err         float64\nbeta_del_week        float64\nbeta_del_week_err    float64\nintercept            float64\nintercept_err        float64\npc2                  float64\nitem_skey              int64\ndtype: object"
     },
     "execution_count": 47,
     "metadata": {},
     "output_type": "execute_result"
    }
   ],
   "source": [
    "df_final_spark.dtypes"
   ],
   "metadata": {
    "collapsed": false,
    "pycharm": {
     "name": "#%%\n"
    }
   }
  },
  {
   "cell_type": "code",
   "execution_count": 48,
   "outputs": [
    {
     "data": {
      "text/plain": "    item_code  item_price_x    max_date  delivery_weeks  sales_pe  \\\n0  1000016121        299.99  2021-04-28               1   -1.5734   \n1  1000021904        239.99  2021-04-23               3   -3.8838   \n2  1000054054        329.99  2021-04-26              16   -0.8534   \n3  1000064483         53.99  2021-03-07               1   -2.8085   \n4  1000137922        629.99  2021-04-28               3   -1.9520   \n\n   sales_pe_err  beta_del_week  beta_del_week_err  intercept  intercept_err  \\\n0        0.3957        -0.0107             0.0130     9.6288         2.2860   \n1        0.8329        -0.0205             0.0227    22.0802         4.5178   \n2        0.1496        -0.0117             0.0032     5.0027         0.7900   \n3        0.6689        -0.0159             0.0247    16.9157         3.9106   \n4        0.6018        -0.0730             0.0314    12.0455         3.5729   \n\n      pc2        item_skey  \n0  130.33   40600078796222  \n1  123.28  138251605120553  \n2  177.05  258578614695714  \n3   30.64  277856157534661  \n4  369.85  256364191196067  ",
      "text/html": "<div>\n<style scoped>\n    .dataframe tbody tr th:only-of-type {\n        vertical-align: middle;\n    }\n\n    .dataframe tbody tr th {\n        vertical-align: top;\n    }\n\n    .dataframe thead th {\n        text-align: right;\n    }\n</style>\n<table border=\"1\" class=\"dataframe\">\n  <thead>\n    <tr style=\"text-align: right;\">\n      <th></th>\n      <th>item_code</th>\n      <th>item_price_x</th>\n      <th>max_date</th>\n      <th>delivery_weeks</th>\n      <th>sales_pe</th>\n      <th>sales_pe_err</th>\n      <th>beta_del_week</th>\n      <th>beta_del_week_err</th>\n      <th>intercept</th>\n      <th>intercept_err</th>\n      <th>pc2</th>\n      <th>item_skey</th>\n    </tr>\n  </thead>\n  <tbody>\n    <tr>\n      <th>0</th>\n      <td>1000016121</td>\n      <td>299.99</td>\n      <td>2021-04-28</td>\n      <td>1</td>\n      <td>-1.5734</td>\n      <td>0.3957</td>\n      <td>-0.0107</td>\n      <td>0.0130</td>\n      <td>9.6288</td>\n      <td>2.2860</td>\n      <td>130.33</td>\n      <td>40600078796222</td>\n    </tr>\n    <tr>\n      <th>1</th>\n      <td>1000021904</td>\n      <td>239.99</td>\n      <td>2021-04-23</td>\n      <td>3</td>\n      <td>-3.8838</td>\n      <td>0.8329</td>\n      <td>-0.0205</td>\n      <td>0.0227</td>\n      <td>22.0802</td>\n      <td>4.5178</td>\n      <td>123.28</td>\n      <td>138251605120553</td>\n    </tr>\n    <tr>\n      <th>2</th>\n      <td>1000054054</td>\n      <td>329.99</td>\n      <td>2021-04-26</td>\n      <td>16</td>\n      <td>-0.8534</td>\n      <td>0.1496</td>\n      <td>-0.0117</td>\n      <td>0.0032</td>\n      <td>5.0027</td>\n      <td>0.7900</td>\n      <td>177.05</td>\n      <td>258578614695714</td>\n    </tr>\n    <tr>\n      <th>3</th>\n      <td>1000064483</td>\n      <td>53.99</td>\n      <td>2021-03-07</td>\n      <td>1</td>\n      <td>-2.8085</td>\n      <td>0.6689</td>\n      <td>-0.0159</td>\n      <td>0.0247</td>\n      <td>16.9157</td>\n      <td>3.9106</td>\n      <td>30.64</td>\n      <td>277856157534661</td>\n    </tr>\n    <tr>\n      <th>4</th>\n      <td>1000137922</td>\n      <td>629.99</td>\n      <td>2021-04-28</td>\n      <td>3</td>\n      <td>-1.9520</td>\n      <td>0.6018</td>\n      <td>-0.0730</td>\n      <td>0.0314</td>\n      <td>12.0455</td>\n      <td>3.5729</td>\n      <td>369.85</td>\n      <td>256364191196067</td>\n    </tr>\n  </tbody>\n</table>\n</div>"
     },
     "execution_count": 48,
     "metadata": {},
     "output_type": "execute_result"
    }
   ],
   "source": [
    "df_final_spark.head()"
   ],
   "metadata": {
    "collapsed": false,
    "pycharm": {
     "name": "#%%\n"
    }
   }
  },
  {
   "cell_type": "code",
   "execution_count": 49,
   "outputs": [
    {
     "data": {
      "text/plain": "(array([  2.,   0.,   0.,   2.,   1.,   3.,   4.,   6.,  13.,  14.,  23.,\n         31.,  52.,  61., 121., 293., 635., 946.,  86.,   4.,   1.,   4.,\n          1.,   0.,   1.]),\n array([-25.2784 , -23.91928, -22.56016, -21.20104, -19.84192, -18.4828 ,\n        -17.12368, -15.76456, -14.40544, -13.04632, -11.6872 , -10.32808,\n         -8.96896,  -7.60984,  -6.25072,  -4.8916 ,  -3.53248,  -2.17336,\n         -0.81424,   0.54488,   1.904  ,   3.26312,   4.62224,   5.98136,\n          7.34048,   8.6996 ]),\n <BarContainer object of 25 artists>)"
     },
     "execution_count": 49,
     "metadata": {},
     "output_type": "execute_result"
    },
    {
     "data": {
      "text/plain": "<Figure size 432x288 with 1 Axes>",
      "image/png": "[encoded data removed]"
     },
     "metadata": {
      "needs_background": "light"
     },
     "output_type": "display_data"
    }
   ],
   "source": [
    "import matplotlib.pyplot as plt\n",
    "\n",
    "plt.hist(df_final_spark['sales_pe'], bins=25)"
   ],
   "metadata": {
    "collapsed": false,
    "pycharm": {
     "name": "#%%\n"
    }
   }
  },
  {
   "cell_type": "code",
   "execution_count": 50,
   "outputs": [
    {
     "data": {
      "text/plain": "(array([  1.,   0.,   0.,   1.,   2.,   6.,   0., 118., 917., 626., 297.,\n        129.,  72.,  44.,  25.,  28.,  11.,   9.,   6.,   6.,   3.,   0.,\n          1.,   0.,   2.]),\n array([-51.6542  , -44.493124, -37.332048, -30.170972, -23.009896,\n        -15.84882 ,  -8.687744,  -1.526668,   5.634408,  12.795484,\n         19.95656 ,  27.117636,  34.278712,  41.439788,  48.600864,\n         55.76194 ,  62.923016,  70.084092,  77.245168,  84.406244,\n         91.56732 ,  98.728396, 105.889472, 113.050548, 120.211624,\n        127.3727  ]),\n <BarContainer object of 25 artists>)"
     },
     "execution_count": 50,
     "metadata": {},
     "output_type": "execute_result"
    },
    {
     "data": {
      "text/plain": "<Figure size 432x288 with 1 Axes>",
      "image/png": "[encoded data removed]"
     },
     "metadata": {
      "needs_background": "light"
     },
     "output_type": "display_data"
    }
   ],
   "source": [
    "plt.hist(df_final_spark['intercept'], bins=25)"
   ],
   "metadata": {
    "collapsed": false,
    "pycharm": {
     "name": "#%%\n"
    }
   }
  },
  {
   "cell_type": "code",
   "execution_count": 51,
   "outputs": [
    {
     "data": {
      "text/plain": "<matplotlib.collections.PathCollection at 0x7ff1c9414b20>"
     },
     "execution_count": 51,
     "metadata": {},
     "output_type": "execute_result"
    },
    {
     "data": {
      "text/plain": "<Figure size 432x288 with 1 Axes>",
      "image/png": "[encoded data removed]"
     },
     "metadata": {
      "needs_background": "light"
     },
     "output_type": "display_data"
    }
   ],
   "source": [
    "plt.scatter(df_final_spark['intercept'], df_final_spark['intercept_err'])"
   ],
   "metadata": {
    "collapsed": false,
    "pycharm": {
     "name": "#%%\n"
    }
   }
  },
  {
   "cell_type": "code",
   "execution_count": 52,
   "outputs": [],
   "source": [
    "df_intercept_filter = df_final_spark.copy()\n",
    "df_intercept_filter['intercept_rel_err'] = np.fabs(df_final_spark['intercept_err'] / df_final_spark['intercept'])\n",
    "df_intercept_filter['beta_del_week_rel_err'] = np.fabs(\n",
    "    df_final_spark['beta_del_week_err'] / df_final_spark['beta_del_week'])"
   ],
   "metadata": {
    "collapsed": false,
    "pycharm": {
     "name": "#%%\n"
    }
   }
  },
  {
   "cell_type": "code",
   "execution_count": 53,
   "outputs": [
    {
     "data": {
      "text/plain": "984     0.329848\n881     0.329776\n2077    0.329402\n1999    0.328433\n776     0.328301\nName: intercept_rel_err, dtype: float64"
     },
     "execution_count": 53,
     "metadata": {},
     "output_type": "execute_result"
    }
   ],
   "source": [
    "#df_intercept_filter['intercept_rel_err'].nlargest()\n",
    "df_intercept_filter = df_intercept_filter[3 * df_intercept_filter['intercept_rel_err'] < 1]\n",
    "df_intercept_filter['intercept_rel_err'].nlargest()"
   ],
   "metadata": {
    "collapsed": false,
    "pycharm": {
     "name": "#%%\n"
    }
   }
  },
  {
   "cell_type": "code",
   "execution_count": 54,
   "outputs": [
    {
     "data": {
      "text/plain": "1680    0.324060\n2236    0.321744\n1318    0.317442\n983     0.315509\n127     0.310579\nName: intercept_rel_err, dtype: float64"
     },
     "execution_count": 54,
     "metadata": {},
     "output_type": "execute_result"
    }
   ],
   "source": [
    "df_intercept_filter['beta_del_week_rel_err'].nlargest()\n",
    "df_del_week_filter = df_intercept_filter[3 * df_intercept_filter['beta_del_week_rel_err'] < 1]\n",
    "df_del_week_filter['intercept_rel_err'].nlargest()"
   ],
   "metadata": {
    "collapsed": false,
    "pycharm": {
     "name": "#%%\n"
    }
   }
  },
  {
   "cell_type": "code",
   "execution_count": 55,
   "outputs": [
    {
     "data": {
      "text/plain": "<matplotlib.collections.PathCollection at 0x7ff1c7b035b0>"
     },
     "execution_count": 55,
     "metadata": {},
     "output_type": "execute_result"
    },
    {
     "data": {
      "text/plain": "<Figure size 432x288 with 1 Axes>",
      "image/png": "[encoded data removed]"
     },
     "metadata": {
      "needs_background": "light"
     },
     "output_type": "display_data"
    }
   ],
   "source": [
    "plt.scatter(df_del_week_filter['beta_del_week'], df_del_week_filter['beta_del_week_err'])"
   ],
   "metadata": {
    "collapsed": false,
    "pycharm": {
     "name": "#%%\n"
    }
   }
  },
  {
   "cell_type": "code",
   "execution_count": 56,
   "outputs": [
    {
     "data": {
      "text/plain": "<matplotlib.collections.PathCollection at 0x7ff1c8300760>"
     },
     "execution_count": 56,
     "metadata": {},
     "output_type": "execute_result"
    },
    {
     "data": {
      "text/plain": "<Figure size 432x288 with 1 Axes>",
      "image/png": "[encoded data removed]"
     },
     "metadata": {
      "needs_background": "light"
     },
     "output_type": "display_data"
    }
   ],
   "source": [
    "plt.scatter(df_intercept_filter['intercept'], df_intercept_filter['intercept_err'])"
   ],
   "metadata": {
    "collapsed": false,
    "pycharm": {
     "name": "#%%\n"
    }
   }
  },
  {
   "cell_type": "code",
   "execution_count": 57,
   "outputs": [],
   "source": [
    "####### MARGIN #########\n",
    "def calculate_Margin(dataf=df_final_spark, increment=0.01, direction='up', prev_inc = 0.0):\n",
    "    if direction == 'down':\n",
    "        increment *= -1\n",
    "        prev_inc  *= -1\n",
    "\n",
    "    VAT = 1.19\n",
    "\n",
    "    N = int(increment/0.01)\n",
    "    M = int(prev_inc/0.01)\n",
    "    N_minus_M = N - M\n",
    "    #print('N = ', N, 'M = ', M, 'N - M = ', N_minus_M)\n",
    "    if np.fabs(increment) == 0.01:\n",
    "        dataf['x'] = dataf['item_price_x']\n",
    "        dataf['Delta_x'] = dataf['item_price_x'] * 0.01\n",
    "\n",
    "    dataf['Delta_cost'] = ((dataf['x'] + M * dataf['Delta_x'])/VAT - dataf['pc2']) #change! x + 1dx\n",
    "\n",
    "    dataf['Delta_N_Sales'] = N_minus_M * (dataf['Delta_x'] / (dataf['x'] + M * dataf['Delta_x'])) * dataf['sales_pe']\n",
    "    dataf['log_x_prime'] = np.log(dataf['x'] + N*dataf['Delta_x'])\n",
    "    dataf['N_prime_sales'] = dataf['sales_pe'] * dataf['log_x_prime'] + (\n",
    "            dataf['beta_del_week'] * dataf['delivery_weeks']) + dataf['intercept']\n",
    "    dataf['Delta_Margin'] = dataf['Delta_N_Sales'] * dataf['Delta_cost'] + dataf['N_prime_sales'] * N_minus_M * dataf['Delta_x']\n",
    "    #dataf['N_prime_sales_err'] = np.sqrt(np.power(dataf['log_x_prime'] * dataf['sales_pe_err'], 2) + np.power(\n",
    "    #    dataf['beta_del_week_err'] * dataf['delivery_weeks'], 2) + np.power(dataf['intercept_err'], 2))\n",
    "    #dataf['Delta_Margin_err'] = np.sqrt(\n",
    "    #    np.power(dataf['sales_pe_err'] * dataf['Delta_cost'] * dataf['Delta_x'] / dataf['x'], 2) + np.power(\n",
    "    #        dataf['N_prime_sales_err'] * dataf['Delta_x'], 2))\n",
    "\n",
    "    #dataf['N_prime_sales_err_no_intercept_err'] = np.sqrt(\n",
    "    #    np.power(dataf['log_x_prime'] * dataf['sales_pe_err'], 2) + np.power(\n",
    "    #        dataf['beta_del_week_err'] * dataf['delivery_weeks'], 2))\n",
    "    #dataf['Delta_Margin_err_no_intercept'] = np.sqrt(\n",
    "    ##    np.power(dataf['sales_pe_err'] * dataf['Delta_cost'] * dataf['Delta_x'] / dataf['x'], 2) + np.power(\n",
    "    #        dataf['N_prime_sales_err_no_intercept_err'] * dataf['Delta_x'], 2))\n",
    "    #dataf['N_prime_sales_err_no_del_week'] = np.sqrt(\n",
    "    #    np.power(dataf['log_x_prime'] * dataf['sales_pe_err'], 2) + + np.power(dataf['intercept_err'], 2))\n",
    "    #dataf['Delta_Margin_err_no_del_week'] = np.sqrt(\n",
    "    #    np.power(dataf['sales_pe_err'] * dataf['Delta_cost'] * dataf['Delta_x'] / dataf['x'], 2) + np.power(\n",
    "    #        dataf['N_prime_sales_err_no_del_week'] * dataf['Delta_x'], 2))"
   ],
   "metadata": {
    "collapsed": false,
    "pycharm": {
     "name": "#%%\n"
    }
   }
  },
  {
   "cell_type": "code",
   "execution_count": 58,
   "outputs": [],
   "source": [
    "def classify(dataf=df_final_spark, flag='up'):\n",
    "    direction = ['up', 'down']\n",
    "    if flag == 'down':\n",
    "        direction = direction[::-1]\n",
    "    dataf['Group_flag'] = np.where(3 * dataf['Delta_Margin_err'] - np.fabs(dataf['Delta_Margin']) > 0, 'neutral',\n",
    "                                   np.where(\n",
    "                                       dataf['Delta_Margin'] > 0, direction[0],\n",
    "                                       direction[1]))\n",
    "\n"
   ],
   "metadata": {
    "collapsed": false,
    "pycharm": {
     "name": "#%%\n"
    }
   }
  },
  {
   "cell_type": "code",
   "execution_count": 59,
   "outputs": [],
   "source": [
    "def classify_no_err(dataf=df_final_spark, flag='up'):\n",
    "    direction = ['up', 'down']\n",
    "    if flag == 'down':\n",
    "        direction = direction[::-1]\n",
    "\n",
    "    dataf['Group_flag'] = np.where(dataf['Delta_Margin'] > 0, direction[0], 'not_defined')\n"
   ],
   "metadata": {
    "collapsed": false,
    "pycharm": {
     "name": "#%%\n"
    }
   }
  },
  {
   "cell_type": "code",
   "execution_count": 60,
   "outputs": [
    {
     "name": "stdout",
     "output_type": "stream",
     "text": [
      "2304\n"
     ]
    }
   ],
   "source": [
    "original_df = df_final_spark.copy()\n",
    "print(len(original_df.index))\n",
    "tmp_df = pd.DataFrame()\n",
    "original_df_up = pd.DataFrame()\n",
    "original_df_down = pd.DataFrame()"
   ],
   "metadata": {
    "collapsed": false,
    "pycharm": {
     "name": "#%%\n"
    }
   }
  },
  {
   "cell_type": "code",
   "execution_count": 61,
   "outputs": [
    {
     "name": "stdout",
     "output_type": "stream",
     "text": [
      "Increment = 0.01\n",
      "913\n",
      "1350\n",
      "Increment = 0.05\n",
      "840\n",
      "1250\n",
      "Increment = 0.1\n",
      "727\n",
      "1090\n",
      "Increment = 0.13\n",
      "645\n",
      "937\n",
      "Increment = 0.14\n",
      "615\n",
      "872\n"
     ]
    }
   ],
   "source": [
    "list_of_columns = [\n",
    "    'item_code',\n",
    "    'item_price_x',\n",
    "    'x',\n",
    "    'delivery_weeks',\n",
    "    'sales_pe',\n",
    "    'sales_pe_err',\n",
    "    'beta_del_week',\n",
    "    'beta_del_week_err',\n",
    "    'intercept',\n",
    "    'intercept_err',\n",
    "    'Delta_x',\n",
    "    'Delta_Margin']\n",
    "increments_list = [0.01, 0.05, 0.1, 0.13, 0.14]\n",
    "\n",
    "for index, inc in enumerate(increments_list):\n",
    "    print('Increment = ' + str(inc))\n",
    "\n",
    "    if inc == 0.01:\n",
    "        original_tmp = original_df.copy()  #create tmp df\n",
    "        calculate_Margin(original_df, inc, 'up')  #calculate Margin up\n",
    "        classify_no_err(original_df, 'up')  #classify the new dataframe\n",
    "        original_df_up = original_df_up.append(original_df[original_df['Group_flag'] == 'up'])\n",
    "        #print(original_df.dtypes)\n",
    "        #print(original_tmp.dtypes)\n",
    "        #tmp_df = tmp_df.append(original_df[original_df['Group_flag'] == 'not_defined'])\n",
    "\n",
    "        calculate_Margin(original_tmp, inc, 'down')\n",
    "        classify_no_err(original_tmp, 'down')\n",
    "        original_df_down = original_df_down.append(original_tmp[original_tmp['Group_flag'] == 'down'])\n",
    "        #tmp_df = tmp_df.append(original_tmp[original_tmp['Group_flag'] == 'not_defined'])\n",
    "        #print('up\\n', original_df_up[list_of_columns].head())\n",
    "        #print('down\\n', original_df_down[list_of_columns].head())\n",
    "        #print('tmp_df\\n', tmp_df.head())\n",
    "        #print('Total items\\n', len(tmp_df.index) +len(original_df_up.index) + len(original_df_down.index))\n",
    "    if inc > 0.01:\n",
    "        #increment_price(original_df_up)\n",
    "        calculate_Margin(original_df_up, inc, 'up', increments_list[index-1])\n",
    "        classify_no_err(original_df_up, 'up')\n",
    "        #tmp_df = tmp_df.append(original_df_up[original_df_up['Group_flag'] == 'not_defined'])\n",
    "        original_df_up = original_df_up[original_df_up['Group_flag'] == 'up']\n",
    "\n",
    "        #increment_price(original_df_down)\n",
    "        calculate_Margin(original_df_down, inc, 'down', increments_list[index-1])\n",
    "        classify_no_err(original_df_down, 'down')\n",
    "        #tmp_df = tmp_df.append(original_df_down[original_df_down['Group_flag'] == 'not_defined'])\n",
    "        original_df_down = original_df_down[original_df_down['Group_flag'] == 'down']\n",
    "        #print('up\\n', original_df_up[list_of_columns].head())\n",
    "        #print('down\\n', original_df_down[list_of_columns].head())\n",
    "        #print('tmp\\n',tmp_df_neutral.head())\n",
    "        #print('up\\n', original_df_up.head())\n",
    "        #print('down\\n',original_df_down.head())\n",
    "\n",
    "    #original_df_down['Margin_base'] = original_df_down['Margin_down']\n",
    "    #original_df_up['Margin_base'] = original_df_up['Margin_up']\n",
    "    original_df_up ['Increment'] = f'{inc*100.}%'\n",
    "    original_df_down ['Increment'] = f'{-inc*100.}%'\n",
    "    print(len(original_df_up.index))\n",
    "    print(len(original_df_down.index))\n",
    "    #print(original_df_up.head())\n"
   ],
   "metadata": {
    "collapsed": false,
    "pycharm": {
     "name": "#%%\n"
    }
   }
  },
  {
   "cell_type": "code",
   "execution_count": 62,
   "outputs": [
    {
     "data": {
      "text/plain": "     item_code  item_price_x    max_date  delivery_weeks  sales_pe  \\\n2   1000054054        329.99  2021-04-26              16   -0.8534   \n4   1000137922        629.99  2021-04-28               3   -1.9520   \n7   1000007431        104.99  2021-04-28               1  -18.2928   \n10  1000048003        349.99  2021-04-23               3   -2.7317   \n12  1000087583        219.99  2021-03-28               9   -1.5979   \n\n    sales_pe_err  beta_del_week  beta_del_week_err  intercept  intercept_err  \\\n2         0.1496        -0.0117             0.0032     5.0027         0.7900   \n4         0.6018        -0.0730             0.0314    12.0455         3.5729   \n7         2.4617        -0.1186             0.1062    85.2384        11.3301   \n10        0.3851        -0.0089             0.0067    16.2329         2.1005   \n12        0.4264        -0.0370             0.0085     8.7587         2.1987   \n\n    ...        item_skey       x  Delta_x  Delta_cost  Delta_N_Sales  \\\n2   ...  258578614695714  329.99   3.2999   64.203193       0.009809   \n4   ...  256364191196067  629.99   6.2999   90.730924       0.022437   \n7   ...   73591042629309  104.99   1.0499   33.767395       0.210262   \n10  ...   33009929417484  349.99   3.4999   87.475042       0.031399   \n12  ...  191583886188344  219.99   2.1999   46.613025       0.018367   \n\n    log_x_prime  N_prime_sales  Delta_Margin  Group_flag             Increment  \n2      5.648239      -0.004708      0.645316        down  -14.000000000000002%  \n4      6.294881      -0.461108      4.940643        down  -14.000000000000002%  \n7      4.503042       2.746549      4.216400        down  -14.000000000000002%  \n10     5.707082       0.616165      0.590100        down  -14.000000000000002%  \n12     5.242759       0.048295      0.749882        down  -14.000000000000002%  \n\n[5 rows x 21 columns]",
      "text/html": "<div>\n<style scoped>\n    .dataframe tbody tr th:only-of-type {\n        vertical-align: middle;\n    }\n\n    .dataframe tbody tr th {\n        vertical-align: top;\n    }\n\n    .dataframe thead th {\n        text-align: right;\n    }\n</style>\n<table border=\"1\" class=\"dataframe\">\n  <thead>\n    <tr style=\"text-align: right;\">\n      <th></th>\n      <th>item_code</th>\n      <th>item_price_x</th>\n      <th>max_date</th>\n      <th>delivery_weeks</th>\n      <th>sales_pe</th>\n      <th>sales_pe_err</th>\n      <th>beta_del_week</th>\n      <th>beta_del_week_err</th>\n      <th>intercept</th>\n      <th>intercept_err</th>\n      <th>...</th>\n      <th>item_skey</th>\n      <th>x</th>\n      <th>Delta_x</th>\n      <th>Delta_cost</th>\n      <th>Delta_N_Sales</th>\n      <th>log_x_prime</th>\n      <th>N_prime_sales</th>\n      <th>Delta_Margin</th>\n      <th>Group_flag</th>\n      <th>Increment</th>\n    </tr>\n  </thead>\n  <tbody>\n    <tr>\n      <th>2</th>\n      <td>1000054054</td>\n      <td>329.99</td>\n      <td>2021-04-26</td>\n      <td>16</td>\n      <td>-0.8534</td>\n      <td>0.1496</td>\n      <td>-0.0117</td>\n      <td>0.0032</td>\n      <td>5.0027</td>\n      <td>0.7900</td>\n      <td>...</td>\n      <td>258578614695714</td>\n      <td>329.99</td>\n      <td>3.2999</td>\n      <td>64.203193</td>\n      <td>0.009809</td>\n      <td>5.648239</td>\n      <td>-0.004708</td>\n      <td>0.645316</td>\n      <td>down</td>\n      <td>-14.000000000000002%</td>\n    </tr>\n    <tr>\n      <th>4</th>\n      <td>1000137922</td>\n      <td>629.99</td>\n      <td>2021-04-28</td>\n      <td>3</td>\n      <td>-1.9520</td>\n      <td>0.6018</td>\n      <td>-0.0730</td>\n      <td>0.0314</td>\n      <td>12.0455</td>\n      <td>3.5729</td>\n      <td>...</td>\n      <td>256364191196067</td>\n      <td>629.99</td>\n      <td>6.2999</td>\n      <td>90.730924</td>\n      <td>0.022437</td>\n      <td>6.294881</td>\n      <td>-0.461108</td>\n      <td>4.940643</td>\n      <td>down</td>\n      <td>-14.000000000000002%</td>\n    </tr>\n    <tr>\n      <th>7</th>\n      <td>1000007431</td>\n      <td>104.99</td>\n      <td>2021-04-28</td>\n      <td>1</td>\n      <td>-18.2928</td>\n      <td>2.4617</td>\n      <td>-0.1186</td>\n      <td>0.1062</td>\n      <td>85.2384</td>\n      <td>11.3301</td>\n      <td>...</td>\n      <td>73591042629309</td>\n      <td>104.99</td>\n      <td>1.0499</td>\n      <td>33.767395</td>\n      <td>0.210262</td>\n      <td>4.503042</td>\n      <td>2.746549</td>\n      <td>4.216400</td>\n      <td>down</td>\n      <td>-14.000000000000002%</td>\n    </tr>\n    <tr>\n      <th>10</th>\n      <td>1000048003</td>\n      <td>349.99</td>\n      <td>2021-04-23</td>\n      <td>3</td>\n      <td>-2.7317</td>\n      <td>0.3851</td>\n      <td>-0.0089</td>\n      <td>0.0067</td>\n      <td>16.2329</td>\n      <td>2.1005</td>\n      <td>...</td>\n      <td>33009929417484</td>\n      <td>349.99</td>\n      <td>3.4999</td>\n      <td>87.475042</td>\n      <td>0.031399</td>\n      <td>5.707082</td>\n      <td>0.616165</td>\n      <td>0.590100</td>\n      <td>down</td>\n      <td>-14.000000000000002%</td>\n    </tr>\n    <tr>\n      <th>12</th>\n      <td>1000087583</td>\n      <td>219.99</td>\n      <td>2021-03-28</td>\n      <td>9</td>\n      <td>-1.5979</td>\n      <td>0.4264</td>\n      <td>-0.0370</td>\n      <td>0.0085</td>\n      <td>8.7587</td>\n      <td>2.1987</td>\n      <td>...</td>\n      <td>191583886188344</td>\n      <td>219.99</td>\n      <td>2.1999</td>\n      <td>46.613025</td>\n      <td>0.018367</td>\n      <td>5.242759</td>\n      <td>0.048295</td>\n      <td>0.749882</td>\n      <td>down</td>\n      <td>-14.000000000000002%</td>\n    </tr>\n  </tbody>\n</table>\n<p>5 rows × 21 columns</p>\n</div>"
     },
     "execution_count": 62,
     "metadata": {},
     "output_type": "execute_result"
    }
   ],
   "source": [
    "original_df_up.head()\n",
    "original_df_down.head()"
   ],
   "metadata": {
    "collapsed": false,
    "pycharm": {
     "name": "#%%\n"
    }
   }
  },
  {
   "cell_type": "code",
   "execution_count": 63,
   "outputs": [],
   "source": [
    "original_df_up.to_csv('../raw_data/Excel_files/Item_margin_up_pre_campaign_202106.csv')\n",
    "original_df_down.to_csv('../raw_data/Excel_files/Item_margin_down_pre_campaign_202106.csv')\n"
   ],
   "metadata": {
    "collapsed": false,
    "pycharm": {
     "name": "#%%\n"
    }
   }
  },
  {
   "cell_type": "code",
   "execution_count": 64,
   "outputs": [
    {
     "data": {
      "text/plain": "item_code              int64\nitem_price_x         float64\nmax_date              object\ndelivery_weeks         int64\nsales_pe             float64\nsales_pe_err         float64\nbeta_del_week        float64\nbeta_del_week_err    float64\nintercept            float64\nintercept_err        float64\npc2                  float64\nitem_skey              int64\nx                    float64\nDelta_x              float64\nDelta_cost           float64\nDelta_N_Sales        float64\nlog_x_prime          float64\nN_prime_sales        float64\nDelta_Margin         float64\nGroup_flag            object\nIncrement             object\ndtype: object"
     },
     "execution_count": 64,
     "metadata": {},
     "output_type": "execute_result"
    }
   ],
   "source": [
    "original_df_up.dtypes\n"
   ],
   "metadata": {
    "collapsed": false,
    "pycharm": {
     "name": "#%%\n"
    }
   }
  },
  {
   "cell_type": "code",
   "execution_count": null,
   "outputs": [],
   "source": [],
   "metadata": {
    "collapsed": false,
    "pycharm": {
     "name": "#%%\n"
    }
   }
  },
  {
   "cell_type": "code",
   "execution_count": 55,
   "outputs": [
    {
     "ename": "KeyError",
     "evalue": "'Delta_Margin_err'",
     "output_type": "error",
     "traceback": [
      "\u001B[0;31m---------------------------------------------------------------------------\u001B[0m",
      "\u001B[0;31mKeyError\u001B[0m                                  Traceback (most recent call last)",
      "\u001B[0;32m~/anaconda3/envs/pythonProject/lib/python3.8/site-packages/pandas/core/indexes/base.py\u001B[0m in \u001B[0;36mget_loc\u001B[0;34m(self, key, method, tolerance)\u001B[0m\n\u001B[1;32m   2888\u001B[0m             \u001B[0;32mtry\u001B[0m\u001B[0;34m:\u001B[0m\u001B[0;34m\u001B[0m\u001B[0;34m\u001B[0m\u001B[0m\n\u001B[0;32m-> 2889\u001B[0;31m                 \u001B[0;32mreturn\u001B[0m \u001B[0mself\u001B[0m\u001B[0;34m.\u001B[0m\u001B[0m_engine\u001B[0m\u001B[0;34m.\u001B[0m\u001B[0mget_loc\u001B[0m\u001B[0;34m(\u001B[0m\u001B[0mcasted_key\u001B[0m\u001B[0;34m)\u001B[0m\u001B[0;34m\u001B[0m\u001B[0;34m\u001B[0m\u001B[0m\n\u001B[0m\u001B[1;32m   2890\u001B[0m             \u001B[0;32mexcept\u001B[0m \u001B[0mKeyError\u001B[0m \u001B[0;32mas\u001B[0m \u001B[0merr\u001B[0m\u001B[0;34m:\u001B[0m\u001B[0;34m\u001B[0m\u001B[0;34m\u001B[0m\u001B[0m\n",
      "\u001B[0;32mpandas/_libs/index.pyx\u001B[0m in \u001B[0;36mpandas._libs.index.IndexEngine.get_loc\u001B[0;34m()\u001B[0m\n",
      "\u001B[0;32mpandas/_libs/index.pyx\u001B[0m in \u001B[0;36mpandas._libs.index.IndexEngine.get_loc\u001B[0;34m()\u001B[0m\n",
      "\u001B[0;32mpandas/_libs/hashtable_class_helper.pxi\u001B[0m in \u001B[0;36mpandas._libs.hashtable.PyObjectHashTable.get_item\u001B[0;34m()\u001B[0m\n",
      "\u001B[0;32mpandas/_libs/hashtable_class_helper.pxi\u001B[0m in \u001B[0;36mpandas._libs.hashtable.PyObjectHashTable.get_item\u001B[0;34m()\u001B[0m\n",
      "\u001B[0;31mKeyError\u001B[0m: 'Delta_Margin_err'",
      "\nThe above exception was the direct cause of the following exception:\n",
      "\u001B[0;31mKeyError\u001B[0m                                  Traceback (most recent call last)",
      "\u001B[0;32m<ipython-input-55-30c0f2ec8b65>\u001B[0m in \u001B[0;36m<module>\u001B[0;34m\u001B[0m\n\u001B[0;32m----> 1\u001B[0;31m \u001B[0moriginal_tmp\u001B[0m\u001B[0;34m[\u001B[0m\u001B[0;34m'DM_err_ratios'\u001B[0m\u001B[0;34m]\u001B[0m \u001B[0;34m=\u001B[0m \u001B[0moriginal_tmp\u001B[0m\u001B[0;34m[\u001B[0m\u001B[0;34m'Delta_Margin_err'\u001B[0m\u001B[0;34m]\u001B[0m \u001B[0;34m/\u001B[0m \u001B[0moriginal_tmp\u001B[0m\u001B[0;34m[\u001B[0m\u001B[0;34m'Delta_Margin_err_no_intercept'\u001B[0m\u001B[0;34m]\u001B[0m\u001B[0;34m\u001B[0m\u001B[0;34m\u001B[0m\u001B[0m\n\u001B[0m\u001B[1;32m      2\u001B[0m original_tmp['N_sales_err_ratios'] = original_tmp['N_prime_sales_err'] / original_tmp[\n\u001B[1;32m      3\u001B[0m     'N_prime_sales_err_no_intercept_err']\n\u001B[1;32m      4\u001B[0m \u001B[0moriginal_tmp\u001B[0m\u001B[0;34m[\u001B[0m\u001B[0;34m'DM_err_ratios_dw'\u001B[0m\u001B[0;34m]\u001B[0m \u001B[0;34m=\u001B[0m \u001B[0moriginal_tmp\u001B[0m\u001B[0;34m[\u001B[0m\u001B[0;34m'Delta_Margin_err'\u001B[0m\u001B[0;34m]\u001B[0m \u001B[0;34m/\u001B[0m \u001B[0moriginal_tmp\u001B[0m\u001B[0;34m[\u001B[0m\u001B[0;34m'Delta_Margin_err_no_del_week'\u001B[0m\u001B[0;34m]\u001B[0m\u001B[0;34m\u001B[0m\u001B[0;34m\u001B[0m\u001B[0m\n\u001B[1;32m      5\u001B[0m original_tmp['N_sales_err_ratios_dw'] = original_tmp['N_prime_sales_err'] / original_tmp[\n",
      "\u001B[0;32m~/anaconda3/envs/pythonProject/lib/python3.8/site-packages/pandas/core/frame.py\u001B[0m in \u001B[0;36m__getitem__\u001B[0;34m(self, key)\u001B[0m\n\u001B[1;32m   2897\u001B[0m             \u001B[0;32mif\u001B[0m \u001B[0mself\u001B[0m\u001B[0;34m.\u001B[0m\u001B[0mcolumns\u001B[0m\u001B[0;34m.\u001B[0m\u001B[0mnlevels\u001B[0m \u001B[0;34m>\u001B[0m \u001B[0;36m1\u001B[0m\u001B[0;34m:\u001B[0m\u001B[0;34m\u001B[0m\u001B[0;34m\u001B[0m\u001B[0m\n\u001B[1;32m   2898\u001B[0m                 \u001B[0;32mreturn\u001B[0m \u001B[0mself\u001B[0m\u001B[0;34m.\u001B[0m\u001B[0m_getitem_multilevel\u001B[0m\u001B[0;34m(\u001B[0m\u001B[0mkey\u001B[0m\u001B[0;34m)\u001B[0m\u001B[0;34m\u001B[0m\u001B[0;34m\u001B[0m\u001B[0m\n\u001B[0;32m-> 2899\u001B[0;31m             \u001B[0mindexer\u001B[0m \u001B[0;34m=\u001B[0m \u001B[0mself\u001B[0m\u001B[0;34m.\u001B[0m\u001B[0mcolumns\u001B[0m\u001B[0;34m.\u001B[0m\u001B[0mget_loc\u001B[0m\u001B[0;34m(\u001B[0m\u001B[0mkey\u001B[0m\u001B[0;34m)\u001B[0m\u001B[0;34m\u001B[0m\u001B[0;34m\u001B[0m\u001B[0m\n\u001B[0m\u001B[1;32m   2900\u001B[0m             \u001B[0;32mif\u001B[0m \u001B[0mis_integer\u001B[0m\u001B[0;34m(\u001B[0m\u001B[0mindexer\u001B[0m\u001B[0;34m)\u001B[0m\u001B[0;34m:\u001B[0m\u001B[0;34m\u001B[0m\u001B[0;34m\u001B[0m\u001B[0m\n\u001B[1;32m   2901\u001B[0m                 \u001B[0mindexer\u001B[0m \u001B[0;34m=\u001B[0m \u001B[0;34m[\u001B[0m\u001B[0mindexer\u001B[0m\u001B[0;34m]\u001B[0m\u001B[0;34m\u001B[0m\u001B[0;34m\u001B[0m\u001B[0m\n",
      "\u001B[0;32m~/anaconda3/envs/pythonProject/lib/python3.8/site-packages/pandas/core/indexes/base.py\u001B[0m in \u001B[0;36mget_loc\u001B[0;34m(self, key, method, tolerance)\u001B[0m\n\u001B[1;32m   2889\u001B[0m                 \u001B[0;32mreturn\u001B[0m \u001B[0mself\u001B[0m\u001B[0;34m.\u001B[0m\u001B[0m_engine\u001B[0m\u001B[0;34m.\u001B[0m\u001B[0mget_loc\u001B[0m\u001B[0;34m(\u001B[0m\u001B[0mcasted_key\u001B[0m\u001B[0;34m)\u001B[0m\u001B[0;34m\u001B[0m\u001B[0;34m\u001B[0m\u001B[0m\n\u001B[1;32m   2890\u001B[0m             \u001B[0;32mexcept\u001B[0m \u001B[0mKeyError\u001B[0m \u001B[0;32mas\u001B[0m \u001B[0merr\u001B[0m\u001B[0;34m:\u001B[0m\u001B[0;34m\u001B[0m\u001B[0;34m\u001B[0m\u001B[0m\n\u001B[0;32m-> 2891\u001B[0;31m                 \u001B[0;32mraise\u001B[0m \u001B[0mKeyError\u001B[0m\u001B[0;34m(\u001B[0m\u001B[0mkey\u001B[0m\u001B[0;34m)\u001B[0m \u001B[0;32mfrom\u001B[0m \u001B[0merr\u001B[0m\u001B[0;34m\u001B[0m\u001B[0;34m\u001B[0m\u001B[0m\n\u001B[0m\u001B[1;32m   2892\u001B[0m \u001B[0;34m\u001B[0m\u001B[0m\n\u001B[1;32m   2893\u001B[0m         \u001B[0;32mif\u001B[0m \u001B[0mtolerance\u001B[0m \u001B[0;32mis\u001B[0m \u001B[0;32mnot\u001B[0m \u001B[0;32mNone\u001B[0m\u001B[0;34m:\u001B[0m\u001B[0;34m\u001B[0m\u001B[0;34m\u001B[0m\u001B[0m\n",
      "\u001B[0;31mKeyError\u001B[0m: 'Delta_Margin_err'"
     ]
    }
   ],
   "source": [
    "#original_tmp['DM_err_ratios'] = original_tmp['Delta_Margin_err'] / original_tmp['Delta_Margin_err_no_intercept']\n",
    "#original_tmp['N_sales_err_ratios'] = original_tmp['N_prime_sales_err'] / original_tmp[\n",
    "#    'N_prime_sales_err_no_intercept_err']\n",
    "#original_tmp['DM_err_ratios_dw'] = original_tmp['Delta_Margin_err'] / original_tmp['Delta_Margin_err_no_del_week']\n",
    "#original_tmp['N_sales_err_ratios_dw'] = original_tmp['N_prime_sales_err'] / original_tmp[\n",
    "#    'N_prime_sales_err_no_del_week']\n",
    "#print(original_tmp['DM_err_ratios'].mean(), original_tmp['N_sales_err_ratios'].mean())\n",
    "#print(original_tmp['DM_err_ratios_dw'].mean(), original_tmp['N_sales_err_ratios_dw'].mean())\n",
    "\n"
   ],
   "metadata": {
    "collapsed": false,
    "pycharm": {
     "name": "#%%\n"
    }
   }
  }
 ],
 "metadata": {
  "kernelspec": {
   "display_name": "Python 3",
   "language": "python",
   "name": "python3"
  },
  "language_info": {
   "codemirror_mode": {
    "name": "ipython",
    "version": 2
   },
   "file_extension": ".py",
   "mimetype": "text/x-python",
   "name": "python",
   "nbconvert_exporter": "python",
   "pygments_lexer": "ipython2",
   "version": "2.7.6"
  }
 },
 "nbformat": 4,
 "nbformat_minor": 0
}