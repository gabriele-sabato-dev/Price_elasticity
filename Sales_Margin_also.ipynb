{
 "cells": [
  {
   "cell_type": "code",
   "execution_count": 1,
   "outputs": [],
   "source": [
    "\n",
    "import pandas as pd\n",
    "import numpy as np\n"
   ],
   "metadata": {
    "collapsed": false,
    "pycharm": {
     "name": "#%%\n"
    }
   }
  },
  {
   "cell_type": "code",
   "execution_count": 2,
   "outputs": [],
   "source": [
    "df_PE_Sales = pd.read_csv('./../raw_data/Excel_files/Top5k_Sales_PE_new_model_20210507.csv', index_col=0)\n"
   ],
   "metadata": {
    "collapsed": false,
    "pycharm": {
     "name": "#%%\n"
    }
   }
  },
  {
   "cell_type": "code",
   "execution_count": 3,
   "outputs": [
    {
     "name": "stdout",
     "output_type": "stream",
     "text": [
      "            Sales_PE  Sales_PE_err  del_week  del_week_err  intercept  \\\n",
      "1000012530   -1.9986        0.3847   -0.0240        0.0169    11.0518   \n",
      "1000021922   -2.3047        0.2505   -0.0345        0.0099    11.5462   \n",
      "1000080319   -1.5376        0.3309   -0.0250        0.0074     9.3911   \n",
      "1000125896   -0.5441        0.1666   -0.0100        0.0046     3.7622   \n",
      "1000005727   -5.7456        1.1035   -0.0922        0.0790    29.4246   \n",
      "1000007327   -1.8716        0.3578   -0.0080        0.0124    10.2591   \n",
      "1000050787   -3.9959        1.0663   -0.0878        0.0826    21.4206   \n",
      "1000116614   -3.3340        0.5784   -0.0406        0.0225    21.3211   \n",
      "1000164660   -0.8282        0.2429   -0.0071        0.0133     5.7976   \n",
      "1000176734   -2.7749        0.4104   -0.0730        0.0275    14.7727   \n",
      "1000008470   -8.2657        0.6928   -0.0557        0.0241    39.3230   \n",
      "1000124600   -1.6738        0.4070   -0.0213        0.0100    10.9776   \n",
      "1000159178   -1.1119        0.2857   -0.0097        0.0048     6.3552   \n",
      "1000174312   -2.6934        0.3556   -0.0242        0.0179    16.1872   \n",
      "1000174905   -1.9409        0.2498   -0.0093        0.0096    11.0558   \n",
      "1000176716   -6.7715        1.2755   -0.0836        0.0569    32.4449   \n",
      "1000008538   -3.2084        0.3525   -0.0844        0.0266    16.5710   \n",
      "1000008827   -1.7967        0.3774   -0.0608        0.0254    11.6513   \n",
      "1000012817   -1.7782        0.4191   -0.0149        0.0298    12.3421   \n",
      "1000016080   -2.3994        0.6182   -0.0424        0.0295    13.1402   \n",
      "\n",
      "            intercept_err  \n",
      "1000012530         1.9883  \n",
      "1000021922         1.1942  \n",
      "1000080319         1.9848  \n",
      "1000125896         1.0965  \n",
      "1000005727         5.0642  \n",
      "1000007327         1.9009  \n",
      "1000050787         5.4106  \n",
      "1000116614         3.6502  \n",
      "1000164660         1.6667  \n",
      "1000176734         2.0802  \n",
      "1000008470         3.2167  \n",
      "1000124600         2.5982  \n",
      "1000159178         1.5791  \n",
      "1000174312         2.1281  \n",
      "1000174905         1.3825  \n",
      "1000176716         6.0079  \n",
      "1000008538         1.7177  \n",
      "1000008827         2.4096  \n",
      "1000012817         2.9116  \n",
      "1000016080         3.1988  \n",
      "Sales_PE         float64\n",
      "Sales_PE_err     float64\n",
      "del_week         float64\n",
      "del_week_err     float64\n",
      "intercept        float64\n",
      "intercept_err    float64\n",
      "dtype: object\n"
     ]
    }
   ],
   "source": [
    "###INTRODUCING THE REST\n",
    "print(df_PE_Sales.head(20))\n",
    "print(df_PE_Sales.dtypes)"
   ],
   "metadata": {
    "collapsed": false,
    "pycharm": {
     "name": "#%%\n"
    }
   }
  },
  {
   "cell_type": "code",
   "execution_count": 4,
   "outputs": [],
   "source": [
    "df_filt = pd.read_csv('./../raw_data/Excel_files/Top5k_PE_filtered_20210510.csv', index_col=0)"
   ],
   "metadata": {
    "collapsed": false,
    "pycharm": {
     "name": "#%%\n"
    }
   }
  },
  {
   "cell_type": "code",
   "execution_count": 5,
   "outputs": [
    {
     "name": "stdout",
     "output_type": "stream",
     "text": [
      "2368\n"
     ]
    }
   ],
   "source": [
    "#PREPARE THE CONVERSION RATE FILE\n",
    "#final_items = list(df_result_true.index.values)\n",
    "final_items = list(df_PE_Sales.index.values)\n",
    "print(len(final_items))\n",
    "\n"
   ],
   "metadata": {
    "collapsed": false,
    "pycharm": {
     "name": "#%%\n"
    }
   }
  },
  {
   "cell_type": "code",
   "execution_count": 6,
   "outputs": [
    {
     "name": "stdout",
     "output_type": "stream",
     "text": [
      "      min_date    max_date   item_code  item_price_x  delivery_weeks  \\\n",
      "0   2020-01-01  2020-05-23  1000012530         99.99               1   \n",
      "2   2020-05-31  2020-06-26  1000012530         99.99               1   \n",
      "5   2020-08-06  2020-08-20  1000012530         99.99               1   \n",
      "7   2020-09-16  2020-10-31  1000012530         99.99               1   \n",
      "8   2020-11-01  2020-11-07  1000012530         99.99               1   \n",
      "9   2020-11-10  2020-11-22  1000012530         99.99               1   \n",
      "11  2020-12-08  2020-12-27  1000012530         99.99               1   \n",
      "12  2021-01-05  2021-02-13  1000012530         99.99               1   \n",
      "13  2020-01-01  2020-03-13  1000021922        129.99               2   \n",
      "14  2020-04-15  2020-04-21  1000021922        119.99               4   \n",
      "\n",
      "    avg_sales  avg_unique_views  avg_sessions  avg_marketing_cost_spend  \\\n",
      "0    0.520833         35.743056  1.394209e+08             180433.654445   \n",
      "2    0.444444         49.814815  1.140903e+08              92373.876624   \n",
      "5    0.533333         19.800000  9.381221e+07             123726.228592   \n",
      "7    0.478261         36.652174  1.145263e+08             233867.366074   \n",
      "8    1.714286         81.142857  1.253514e+08             305831.619103   \n",
      "9    0.923077         72.307692  1.090217e+08             240115.376765   \n",
      "11   0.600000         35.000000  5.938486e+07             134854.763992   \n",
      "12   1.050000         75.875000  6.347826e+07             335803.514363   \n",
      "13   1.589041        147.191781  1.422123e+08             204747.147616   \n",
      "14   1.571429         79.428571  1.455697e+08             164942.044505   \n",
      "\n",
      "    conv_rate  ...  item_sub_category_1       item_sub_category_2 log_price  \\\n",
      "0    0.014573  ...                BÄNKE                     BÄNKE  4.605071   \n",
      "2    0.008923  ...                BÄNKE                     BÄNKE  4.605071   \n",
      "5    0.026937  ...                BÄNKE                     BÄNKE  4.605071   \n",
      "7    0.013050  ...                BÄNKE                     BÄNKE  4.605071   \n",
      "8    0.021128  ...                BÄNKE                     BÄNKE  4.605071   \n",
      "9    0.012767  ...                BÄNKE                     BÄNKE  4.605071   \n",
      "11   0.017144  ...                BÄNKE                     BÄNKE  4.605071   \n",
      "12   0.013840  ...                BÄNKE                     BÄNKE  4.605071   \n",
      "13   0.010797  ...          BADSCHRÄNKE  WASCHBECKENUNTERSCHRÄNKE  4.867458   \n",
      "14   0.019785  ...          BADSCHRÄNKE  WASCHBECKENUNTERSCHRÄNKE  4.787409   \n",
      "\n",
      "   log_delivery_weeks log_sales  log_avg_unique_views  log_conv_rate  \\\n",
      "0            0.000100 -0.652133              3.576359      -4.221842   \n",
      "2            0.000100 -0.810705              3.908314      -4.708097   \n",
      "5            0.000100 -0.628421              2.985687      -3.610585   \n",
      "7            0.000100 -0.737390              3.601475      -4.331437   \n",
      "8            0.000100  0.539055              4.396213      -3.852493   \n",
      "9            0.000100 -0.079934              4.280932      -4.353170   \n",
      "11           0.000100 -0.510659              3.555351      -4.060357   \n",
      "12           0.000100  0.048885              4.329089      -4.273097   \n",
      "13           0.693197  0.463194              4.991737      -4.519385   \n",
      "14           1.386319  0.452049              4.374859      -3.917831   \n",
      "\n",
      "    log_avg_sessions  log_avg_marketing_cost_spend  item_price_y  \n",
      "0          18.753008                     12.103118          True  \n",
      "2          18.552501                     11.433599          True  \n",
      "5          18.356806                     11.725827          True  \n",
      "7          18.556315                     12.362509          True  \n",
      "8          18.646632                     12.630790          True  \n",
      "9          18.507058                     12.388875          True  \n",
      "11         17.899550                     11.811954          True  \n",
      "12         17.966208                     12.724281          True  \n",
      "13         18.772831                     12.229531          True  \n",
      "14         18.796166                     12.013349          True  \n",
      "\n",
      "[10 rows x 23 columns]\n"
     ]
    }
   ],
   "source": [
    "print(df_filt.head(10))"
   ],
   "metadata": {
    "collapsed": false,
    "pycharm": {
     "name": "#%%\n"
    }
   }
  },
  {
   "cell_type": "code",
   "execution_count": 7,
   "outputs": [],
   "source": [
    "df_final = df_filt[df_filt['item_code'].isin(final_items)]"
   ],
   "metadata": {
    "collapsed": false,
    "pycharm": {
     "name": "#%%\n"
    }
   }
  },
  {
   "cell_type": "code",
   "execution_count": 8,
   "outputs": [
    {
     "name": "stdout",
     "output_type": "stream",
     "text": [
      "     min_date    max_date   item_code  item_price_x  delivery_weeks  \\\n",
      "0  2020-01-01  2020-05-23  1000012530         99.99               1   \n",
      "2  2020-05-31  2020-06-26  1000012530         99.99               1   \n",
      "5  2020-08-06  2020-08-20  1000012530         99.99               1   \n",
      "7  2020-09-16  2020-10-31  1000012530         99.99               1   \n",
      "8  2020-11-01  2020-11-07  1000012530         99.99               1   \n",
      "\n",
      "   avg_sales  avg_unique_views  avg_sessions  avg_marketing_cost_spend  \\\n",
      "0   0.520833         35.743056  1.394209e+08             180433.654445   \n",
      "2   0.444444         49.814815  1.140903e+08              92373.876624   \n",
      "5   0.533333         19.800000  9.381221e+07             123726.228592   \n",
      "7   0.478261         36.652174  1.145263e+08             233867.366074   \n",
      "8   1.714286         81.142857  1.253514e+08             305831.619103   \n",
      "\n",
      "   conv_rate  ...  item_sub_category_1 item_sub_category_2 log_price  \\\n",
      "0   0.014573  ...                BÄNKE               BÄNKE  4.605071   \n",
      "2   0.008923  ...                BÄNKE               BÄNKE  4.605071   \n",
      "5   0.026937  ...                BÄNKE               BÄNKE  4.605071   \n",
      "7   0.013050  ...                BÄNKE               BÄNKE  4.605071   \n",
      "8   0.021128  ...                BÄNKE               BÄNKE  4.605071   \n",
      "\n",
      "  log_delivery_weeks log_sales  log_avg_unique_views  log_conv_rate  \\\n",
      "0             0.0001 -0.652133              3.576359      -4.221842   \n",
      "2             0.0001 -0.810705              3.908314      -4.708097   \n",
      "5             0.0001 -0.628421              2.985687      -3.610585   \n",
      "7             0.0001 -0.737390              3.601475      -4.331437   \n",
      "8             0.0001  0.539055              4.396213      -3.852493   \n",
      "\n",
      "   log_avg_sessions  log_avg_marketing_cost_spend  item_price_y  \n",
      "0         18.753008                     12.103118          True  \n",
      "2         18.552501                     11.433599          True  \n",
      "5         18.356806                     11.725827          True  \n",
      "7         18.556315                     12.362509          True  \n",
      "8         18.646632                     12.630790          True  \n",
      "\n",
      "[5 rows x 23 columns]\n"
     ]
    }
   ],
   "source": [
    "print(df_final.head())"
   ],
   "metadata": {
    "collapsed": false,
    "pycharm": {
     "name": "#%%\n"
    }
   }
  },
  {
   "cell_type": "code",
   "execution_count": 9,
   "outputs": [],
   "source": [
    "from pyspark.sql import SparkSession\n",
    "\n",
    "spark = SparkSession.builder.master('local').config('spark.driver.memory', '8g').appName(\n",
    "    'Sales_Margin_also').getOrCreate()\n"
   ],
   "metadata": {
    "collapsed": false,
    "pycharm": {
     "name": "#%%\n"
    }
   }
  },
  {
   "cell_type": "code",
   "execution_count": 10,
   "outputs": [],
   "source": [
    "df_to_spark = df_final.groupby(['item_code']).nth(-1)\n",
    "df_to_spark.reset_index(level=0, inplace=True)\n",
    "df_to_spark.rename(columns={'index': 'item_code'}, inplace=True)\n"
   ],
   "metadata": {
    "collapsed": false,
    "pycharm": {
     "name": "#%%\n"
    }
   }
  },
  {
   "cell_type": "code",
   "execution_count": 11,
   "outputs": [],
   "source": [
    "df_to_spark = df_to_spark[[\n",
    "    'item_code',\n",
    "    'min_date',\n",
    "    'max_date',\n",
    "    'item_price_x',\n",
    "    'delivery_weeks',\n",
    "    'avg_sales',\n",
    "    'avg_unique_views',\n",
    "    'avg_sessions',\n",
    "    'avg_marketing_cost_spend',\n",
    "    'conv_rate',\n",
    "    'bin',\n",
    "    'log_price',\n",
    "    'log_delivery_weeks',\n",
    "    'log_sales',\n",
    "    'log_avg_unique_views',\n",
    "    'log_conv_rate',\n",
    "    'log_avg_sessions',\n",
    "    'log_avg_marketing_cost_spend']]"
   ],
   "metadata": {
    "collapsed": false,
    "pycharm": {
     "name": "#%%\n"
    }
   }
  },
  {
   "cell_type": "code",
   "execution_count": 12,
   "outputs": [
    {
     "data": {
      "text/plain": "item_code                         int64\nmin_date                         object\nmax_date                         object\nitem_price_x                    float64\ndelivery_weeks                    int64\navg_sales                       float64\navg_unique_views                float64\navg_sessions                    float64\navg_marketing_cost_spend        float64\nconv_rate                       float64\nbin                               int64\nlog_price                       float64\nlog_delivery_weeks              float64\nlog_sales                       float64\nlog_avg_unique_views            float64\nlog_conv_rate                   float64\nlog_avg_sessions                float64\nlog_avg_marketing_cost_spend    float64\ndtype: object"
     },
     "execution_count": 12,
     "metadata": {},
     "output_type": "execute_result"
    }
   ],
   "source": [
    "df_to_spark.dtypes\n"
   ],
   "metadata": {
    "collapsed": false,
    "pycharm": {
     "name": "#%%\n"
    }
   }
  },
  {
   "cell_type": "code",
   "execution_count": 13,
   "outputs": [],
   "source": [
    "df_final = df_final[[\n",
    "    'item_code',\n",
    "    'min_date',\n",
    "    'max_date',\n",
    "    'item_price_x',\n",
    "    'delivery_weeks',\n",
    "    'avg_sales',\n",
    "    'avg_unique_views',\n",
    "    'avg_sessions',\n",
    "    'avg_marketing_cost_spend',\n",
    "    'conv_rate',\n",
    "    'bin',\n",
    "    'log_price',\n",
    "    'log_delivery_weeks',\n",
    "    'log_sales',\n",
    "    'log_avg_unique_views',\n",
    "    'log_conv_rate',\n",
    "    'log_avg_sessions',\n",
    "    'log_avg_marketing_cost_spend']]\n",
    "spark_df = spark.createDataFrame(df_final)"
   ],
   "metadata": {
    "collapsed": false,
    "pycharm": {
     "name": "#%%\n"
    }
   }
  },
  {
   "cell_type": "code",
   "execution_count": 14,
   "outputs": [],
   "source": [
    "spark_df.createOrReplaceTempView('Final_table')\n"
   ],
   "metadata": {
    "collapsed": false,
    "pycharm": {
     "name": "#%%\n"
    }
   }
  },
  {
   "cell_type": "code",
   "execution_count": 15,
   "outputs": [
    {
     "name": "stdout",
     "output_type": "stream",
     "text": [
      "+----------+------------+----------+--------------+\n",
      "| item_code|item_price_x|  max_date|delivery_weeks|\n",
      "+----------+------------+----------+--------------+\n",
      "|1000012836|      319.99|2021-02-01|             2|\n",
      "|1000016121|      249.99|2021-02-21|             1|\n",
      "|1000054054|      349.99|2021-02-25|             4|\n",
      "|1000064483|       51.99|2021-02-19|             3|\n",
      "|1000076400|      329.99|2021-02-25|             4|\n",
      "|1000128161|      124.99|2021-02-25|             1|\n",
      "|1000147156|      429.99|2021-02-25|             5|\n",
      "|1000182808|     1049.99|2021-02-25|             2|\n",
      "|1000211528|       94.99|2021-02-25|             1|\n",
      "|1000007431|      104.99|2021-01-27|             4|\n",
      "|1000008030|      229.99|2021-02-22|             2|\n",
      "|1000008789|      124.99|2020-12-30|             1|\n",
      "|1000048003|      349.99|2021-02-25|             2|\n",
      "|1000087583|      199.99|2021-02-15|             9|\n",
      "|1000101087|      249.99|2021-02-25|             3|\n",
      "|1000101103|      249.99|2020-10-23|             3|\n",
      "|1000121623|      469.99|2021-01-14|             5|\n",
      "|1000128954|      669.99|2021-02-25|             5|\n",
      "|1000151265|      579.99|2021-01-14|             8|\n",
      "|1000173828|      799.99|2021-02-25|             5|\n",
      "+----------+------------+----------+--------------+\n",
      "only showing top 20 rows\n",
      "\n"
     ]
    }
   ],
   "source": [
    "spark_last_price = spark.sql(\"\"\"with max_price as (SELECT item_code, ROW_NUMBER() over (PARTITION BY item_code ORDER BY max_date DESC) as rn,\n",
    "                                                    item_price_x, max_date, delivery_weeks\n",
    "                                                    from final_table)\n",
    "                                SELECT item_code, item_price_x, max_date, delivery_weeks\n",
    "                                from max_price\n",
    "                                where rn=1\n",
    "                            \"\"\")\n",
    "spark_last_price.show()"
   ],
   "metadata": {
    "collapsed": false,
    "pycharm": {
     "name": "#%%\n"
    }
   }
  },
  {
   "cell_type": "code",
   "execution_count": 16,
   "outputs": [],
   "source": [
    "spark_last_price.createOrReplaceTempView('last_price')\n"
   ],
   "metadata": {
    "collapsed": false,
    "pycharm": {
     "name": "#%%\n"
    }
   }
  },
  {
   "cell_type": "code",
   "execution_count": 17,
   "outputs": [
    {
     "data": {
      "text/plain": "Sales_PE         float64\nSales_PE_err     float64\ndel_week         float64\ndel_week_err     float64\nintercept        float64\nintercept_err    float64\ndtype: object"
     },
     "execution_count": 17,
     "metadata": {},
     "output_type": "execute_result"
    }
   ],
   "source": [
    "df_PE_Sales.dtypes"
   ],
   "metadata": {
    "collapsed": false,
    "pycharm": {
     "name": "#%%\n"
    }
   }
  },
  {
   "cell_type": "code",
   "execution_count": 18,
   "outputs": [],
   "source": [
    "\n",
    "#df_result_true.reset_index(level=0,inplace=True)\n",
    "df_PE_Sales.reset_index(level=0, inplace=True)\n",
    "\n"
   ],
   "metadata": {
    "collapsed": false,
    "pycharm": {
     "name": "#%%\n"
    }
   }
  },
  {
   "cell_type": "code",
   "execution_count": 19,
   "outputs": [],
   "source": [
    "df_PE_Sales.rename(columns={'index': 'item_code'}, inplace=True)"
   ],
   "metadata": {
    "collapsed": false,
    "pycharm": {
     "name": "#%%\n"
    }
   }
  },
  {
   "cell_type": "code",
   "execution_count": 20,
   "outputs": [
    {
     "name": "stdout",
     "output_type": "stream",
     "text": [
      "    item_code  Sales_PE  Sales_PE_err  del_week  del_week_err  intercept  \\\n",
      "0  1000012530   -1.9986        0.3847   -0.0240        0.0169    11.0518   \n",
      "1  1000021922   -2.3047        0.2505   -0.0345        0.0099    11.5462   \n",
      "2  1000080319   -1.5376        0.3309   -0.0250        0.0074     9.3911   \n",
      "3  1000125896   -0.5441        0.1666   -0.0100        0.0046     3.7622   \n",
      "4  1000005727   -5.7456        1.1035   -0.0922        0.0790    29.4246   \n",
      "\n",
      "   intercept_err  \n",
      "0         1.9883  \n",
      "1         1.1942  \n",
      "2         1.9848  \n",
      "3         1.0965  \n",
      "4         5.0642  \n"
     ]
    }
   ],
   "source": [
    "print(df_PE_Sales.head())"
   ],
   "metadata": {
    "collapsed": false,
    "pycharm": {
     "name": "#%%\n"
    }
   }
  },
  {
   "cell_type": "code",
   "execution_count": 21,
   "outputs": [],
   "source": [
    "spark_PE_df = spark.createDataFrame(df_PE_Sales)"
   ],
   "metadata": {
    "collapsed": false,
    "pycharm": {
     "name": "#%%\n"
    }
   }
  },
  {
   "cell_type": "code",
   "execution_count": 22,
   "outputs": [
    {
     "name": "stdout",
     "output_type": "stream",
     "text": [
      "+----------+-------------------+-------------------+--------+------------+------------------+-------------+\n",
      "| item_code|           Sales_PE|       Sales_PE_err|del_week|del_week_err|         intercept|intercept_err|\n",
      "+----------+-------------------+-------------------+--------+------------+------------------+-------------+\n",
      "|1000012530|            -1.9986|             0.3847|  -0.024|      0.0169|           11.0518|       1.9883|\n",
      "|1000021922|            -2.3047|             0.2505| -0.0345|      0.0099|           11.5462|       1.1942|\n",
      "|1000080319|            -1.5376|             0.3309|  -0.025|      0.0074|            9.3911|       1.9848|\n",
      "|1000125896|            -0.5441|             0.1666|   -0.01|      0.0046|            3.7622|       1.0965|\n",
      "|1000005727|            -5.7456|             1.1035| -0.0922|       0.079|           29.4246|       5.0642|\n",
      "|1000007327|            -1.8716|             0.3578|  -0.008|      0.0124|           10.2591|       1.9009|\n",
      "|1000050787|            -3.9959|             1.0663| -0.0878|      0.0826|           21.4206|       5.4106|\n",
      "|1000116614|-3.3339999999999996|             0.5784| -0.0406|      0.0225|           21.3211|       3.6502|\n",
      "|1000164660|            -0.8282|             0.2429| -0.0071|      0.0133|            5.7976|       1.6667|\n",
      "|1000176734|            -2.7749|             0.4104|  -0.073|      0.0275|           14.7727|       2.0802|\n",
      "|1000008470|            -8.2657|             0.6928| -0.0557|      0.0241|            39.323|       3.2167|\n",
      "|1000124600|            -1.6738|0.40700000000000003| -0.0213|        0.01|           10.9776|       2.5982|\n",
      "|1000159178|            -1.1119|             0.2857| -0.0097|      0.0048|            6.3552|       1.5791|\n",
      "|1000174312|            -2.6934|             0.3556| -0.0242|      0.0179|           16.1872|       2.1281|\n",
      "|1000174905|            -1.9409|             0.2498| -0.0093|      0.0096|           11.0558|       1.3825|\n",
      "|1000176716|            -6.7715|             1.2755| -0.0836|      0.0569|           32.4449|       6.0079|\n",
      "|1000008538|            -3.2084|             0.3525| -0.0844|      0.0266|16.570999999999998|       1.7177|\n",
      "|1000008827|            -1.7967|             0.3774| -0.0608|      0.0254|           11.6513|       2.4096|\n",
      "|1000012817|            -1.7782|             0.4191| -0.0149|      0.0298|           12.3421|       2.9116|\n",
      "|1000016080|            -2.3994|             0.6182| -0.0424|      0.0295|           13.1402|       3.1988|\n",
      "+----------+-------------------+-------------------+--------+------------+------------------+-------------+\n",
      "only showing top 20 rows\n",
      "\n"
     ]
    }
   ],
   "source": [
    "spark_PE_df.show()"
   ],
   "metadata": {
    "collapsed": false,
    "pycharm": {
     "name": "#%%\n"
    }
   }
  },
  {
   "cell_type": "code",
   "execution_count": 23,
   "outputs": [],
   "source": [
    "spark_PE_df.createOrReplaceTempView('final_PE')"
   ],
   "metadata": {
    "collapsed": false,
    "pycharm": {
     "name": "#%%\n"
    }
   }
  },
  {
   "cell_type": "code",
   "execution_count": 24,
   "outputs": [
    {
     "name": "stdout",
     "output_type": "stream",
     "text": [
      "+----------+------------+----------+--------------+-------------------+-------------------+--------------------+-----------------+---------+-------------+\n",
      "| item_code|item_price_x|  max_date|delivery_weeks|           sales_pe|       sales_pe_err|       beta_del_week|beta_del_week_err|intercept|intercept_err|\n",
      "+----------+------------+----------+--------------+-------------------+-------------------+--------------------+-----------------+---------+-------------+\n",
      "|1000012836|      319.99|2021-02-01|             2|            -1.7665|             0.4977|             -0.0437|           0.0364|   11.882|       3.2396|\n",
      "|1000016121|      249.99|2021-02-21|             1|            -2.6608|             0.5909|             -0.0939|           0.0304|  16.2375|       3.4285|\n",
      "|1000054054|      349.99|2021-02-25|             4|            -1.1775|0.23600000000000002|             -0.0131|           0.0064|    7.365|       1.2319|\n",
      "|1000064483|       51.99|2021-02-19|             3|            -3.6067|             0.8091|             -0.0383|           0.0348|  21.8127|       4.7247|\n",
      "|1000076400|      329.99|2021-02-25|             4|-1.5430000000000001|             0.4513|             -0.0243|           0.0097|   9.2073|       2.6341|\n",
      "|1000128161|      124.99|2021-02-25|             1|            -1.3715|             0.3845|              0.0057|            0.012|   6.8389|       1.9341|\n",
      "|1000147156|      429.99|2021-02-25|             5|             -3.222|0.36700000000000005|             -0.0276|           0.0102|  18.8254|       2.0617|\n",
      "|1000182808|     1049.99|2021-02-25|             2|            -5.0703|              1.455|              0.1541|           0.1588|  34.1513|       9.7325|\n",
      "|1000211528|       94.99|2021-02-25|             1|            -3.0563|              0.591|             -0.0927|           0.0373|   16.005|       2.9894|\n",
      "|1000007431|      104.99|2021-01-27|             4|           -22.3379|             2.9377|              -0.114|           0.1443| 103.6526|      13.5207|\n",
      "|1000008030|      229.99|2021-02-22|             2|            -2.3235|              0.406|              -0.069|           0.0178|  16.6206|       2.8286|\n",
      "|1000008789|      124.99|2020-12-30|             1|            -3.1111|             0.6883|-0.03700000000000...|           0.0111|  17.0682|       3.6394|\n",
      "|1000048003|      349.99|2021-02-25|             2|            -2.3721|             0.5706|               0.001|           0.0125|  14.1651|        3.097|\n",
      "|1000087583|      199.99|2021-02-15|             9|            -1.7298|             0.4018|             -0.0314|           0.0068|   9.4184|       2.0739|\n",
      "|1000101087|      249.99|2021-02-25|             3|            -2.1067|0.46799999999999997|             -0.0102|           0.0066|  12.6835|       2.8088|\n",
      "|1000101103|      249.99|2020-10-23|             3|            -1.6326|             0.5013|-0.00699999999999...|           0.0063|   9.9153|       2.8896|\n",
      "|1000121623|      469.99|2021-01-14|             5|            -2.0382|             0.4264|             -0.0248|           0.0067|  12.2516|       2.5166|\n",
      "|1000128954|      669.99|2021-02-25|             5|            -1.1454|             0.2392|             -0.0233|           0.0081|   7.9948|       1.5462|\n",
      "|1000151265|      579.99|2021-01-14|             8|            -5.6117|             1.3982|              0.0514|           0.0458|  35.6731|       8.8088|\n",
      "|1000173828|      799.99|2021-02-25|             5|-1.3840000000000001|             0.3224|             -0.0169|           0.0092|   8.9145|       2.0257|\n",
      "+----------+------------+----------+--------------+-------------------+-------------------+--------------------+-----------------+---------+-------------+\n",
      "only showing top 20 rows\n",
      "\n"
     ]
    }
   ],
   "source": [
    "spark_final = spark.sql(\"\"\"SELECT ftf.*,\n",
    "                            fpe.sales_pe,\n",
    "                            fpe.sales_pe_err,\n",
    "                            fpe.del_week as beta_del_week,\n",
    "                            fpe.del_week_err as beta_del_week_err,\n",
    "                            fpe.intercept,\n",
    "                            fpe.intercept_err\n",
    "                            from last_price as ftf\n",
    "                            INNER JOIN final_pe as fpe on fpe.item_code = ftf.item_code\"\"\")\n",
    "spark_final.show()\n",
    "spark_final.createOrReplaceTempView('spark_final_tmp')"
   ],
   "metadata": {
    "collapsed": false,
    "pycharm": {
     "name": "#%%\n"
    }
   }
  },
  {
   "cell_type": "code",
   "execution_count": 25,
   "outputs": [],
   "source": [
    "#spark.sql(\"\"\"SELECT COUNT(DISTINCT item_code)\n",
    "#from spark_final_tmp\"\"\").show()\n",
    "\n"
   ],
   "metadata": {
    "collapsed": false,
    "pycharm": {
     "name": "#%%\n"
    }
   }
  },
  {
   "cell_type": "code",
   "execution_count": 26,
   "outputs": [
    {
     "name": "stdout",
     "output_type": "stream",
     "text": [
      "+---------------+------------------+---------------------+-------------+----------------+----------+-------------+-----------+----------+-----------+--------------+-------------+--------------------+----------------------+--------------------+------------------+--------------------+------------------+------------------+-------------------+-------------------+---------+--------------------------------+---------------------------------------------+-----------------------+---------------------+------------------------+--------------------------+------------------------+--------------------+-----------+-------------------+------------------+-------------------+----------------------------+---------------+-----------------------+-----------------------+----------------------+------------------------------------+-------------------------------------------+-------------------------------------------------+--------------------------------------------------------+------------------------+---------------------+----------------------+---------------------+--------------------+-----------------+---------------+------------------------+--------------------------+\n",
      "|      item_skey|         item_code|item_parent_item_code|    item_name|item_parent_name|item_brand|item_designer|item_series|item_style|item_colors|item_materials|    item_gtin|item_gtin_comparable|item_picture_url_first|        item_pdp_url|  item_exclusivity|item_is_trusted_shop|item_is_in_catalog|item_main_category|item_sub_category_1|item_sub_category_2|item_type|item_cross_plant_material_status|item_cross_distribution_chain_material_status|item_supplier_item_code|item_supplier_regular|item_supplier_regular_id|item_first_activation_date|item_first_sellable_date|item_shipping_pieces|item_volume|item_inventory_flag|item_delivery_type|item_purchase_price|item_purchase_price_currency|item_inco_terms|item_supplier_lead_time|item_sourcing_warehouse|item_country_of_origin|item_cross_plant_deactivation_reason|item_cross_plant_material_status_valid_from|item_cross_distribution_chain_deactivation_reason|item_cross_distribution_chain_material_status_valid_from|item_attributes_bed_size|item_attributes_depth|item_attributes_height|item_attributes_width|item_attributes_wood|item_gross_weight|item_net_weight|item_customer_avg_rating|item_customer_rating_count|\n",
      "+---------------+------------------+---------------------+-------------+----------------+----------+-------------+-----------+----------+-----------+--------------+-------------+--------------------+----------------------+--------------------+------------------+--------------------+------------------+------------------+-------------------+-------------------+---------+--------------------------------+---------------------------------------------+-----------------------+---------------------+------------------------+--------------------------+------------------------+--------------------+-----------+-------------------+------------------+-------------------+----------------------------+---------------+-----------------------+-----------------------+----------------------+------------------------------------+-------------------------------------------+-------------------------------------------------+--------------------------------------------------------+------------------------+---------------------+----------------------+---------------------+--------------------+-----------------+---------------+------------------------+--------------------------+\n",
      "|246995205363527|000000000000001000|   000000008000012374|Aufbauservice|   Aufbauservice|          |      UNKNOWN|    UNKNOWN|   UNKNOWN|    UNKNOWN|       UNKNOWN|2050000000003|          comparable|               UNKNOWN|https://www.home2...|sparepartsServices| is not trusted shop|     is in catalog|            AUFBAU|             AUFBAU|             AUFBAU|     ZDIN|                              20|                                             |                UNKNOWN|              UNKNOWN|                     -99|                2017-11-20|              2017-11-20|               0.000|      0.000|            UNKNOWN|     parcelservice|              0.000|                     UNKNOWN|        UNKNOWN|                    -99|                UNKNOWN|                    DE|                             UNKNOWN|                                 2017-01-01|                                          UNKNOWN|                                              1970-01-01|                 UNKNOWN|              UNKNOWN|               UNKNOWN|              UNKNOWN|             UNKNOWN|            0.000|          0.000|                    0.00|                       -99|\n",
      "|  1216388560158|000000000000001193|   000000008000012374|Aufbauservice|   Aufbauservice|          |      UNKNOWN|    UNKNOWN|   UNKNOWN|    UNKNOWN|       UNKNOWN|      UNKNOWN|             UNKNOWN|               UNKNOWN|https://www.home2...|sparepartsServices| is not trusted shop|     is in catalog|            AUFBAU|             AUFBAU|             AUFBAU|     ZDIN|                              20|                                             |                UNKNOWN|              UNKNOWN|                     -99|                2018-01-11|              2018-01-11|               0.000|      0.000|            UNKNOWN|     parcelservice|              0.000|                     UNKNOWN|        UNKNOWN|                    -99|                UNKNOWN|                    DE|                             UNKNOWN|                                 2017-01-01|                                          UNKNOWN|                                              1970-01-01|                 UNKNOWN|              UNKNOWN|               UNKNOWN|              UNKNOWN|             UNKNOWN|            0.000|          0.000|                    0.00|                       -99|\n",
      "| 80472786708632|000000000000001194|   000000008000012374|Aufbauservice|   Aufbauservice|          |      UNKNOWN|    UNKNOWN|   UNKNOWN|    UNKNOWN|       UNKNOWN|      UNKNOWN|             UNKNOWN|               UNKNOWN|https://www.home2...|sparepartsServices| is not trusted shop|     is in catalog|            AUFBAU|             AUFBAU|             AUFBAU|     ZDIN|                              20|                                             |                UNKNOWN|              UNKNOWN|                     -99|                2018-01-11|              2018-01-11|               0.000|      0.000|            UNKNOWN|     parcelservice|              0.000|                     UNKNOWN|        UNKNOWN|                    -99|                UNKNOWN|                    DE|                             UNKNOWN|                                 2017-01-01|                                          UNKNOWN|                                              1970-01-01|                 UNKNOWN|              UNKNOWN|               UNKNOWN|              UNKNOWN|             UNKNOWN|            0.000|          0.000|                    0.00|                       -99|\n",
      "|194561450406777|000000000000001195|   000000008000012374|Aufbauservice|   Aufbauservice|          |      UNKNOWN|    UNKNOWN|   UNKNOWN|    UNKNOWN|       UNKNOWN|      UNKNOWN|             UNKNOWN|               UNKNOWN|https://www.home2...|sparepartsServices| is not trusted shop|     is in catalog|            AUFBAU|             AUFBAU|             AUFBAU|     ZDIN|                              20|                                             |                UNKNOWN|              UNKNOWN|                     -99|                2018-01-16|              2018-01-16|               0.000|      0.000|            UNKNOWN|     parcelservice|              0.000|                     UNKNOWN|        UNKNOWN|                    -99|                UNKNOWN|                    DE|                             UNKNOWN|                                 2017-01-01|                                          UNKNOWN|                                              1970-01-01|                 UNKNOWN|              UNKNOWN|               UNKNOWN|              UNKNOWN|             UNKNOWN|            0.000|          0.000|                    0.00|                       -99|\n",
      "| 30812130078943|000000000000001196|   000000008000012374|Aufbauservice|   Aufbauservice|          |      UNKNOWN|    UNKNOWN|   UNKNOWN|    UNKNOWN|       UNKNOWN|      UNKNOWN|             UNKNOWN|               UNKNOWN|https://www.home2...|sparepartsServices| is not trusted shop|     is in catalog|            AUFBAU|             AUFBAU|             AUFBAU|     ZDIN|                              20|                                             |                UNKNOWN|              UNKNOWN|                     -99|                2018-01-16|              2018-01-16|               0.000|      0.000|            UNKNOWN|     parcelservice|              0.000|                     UNKNOWN|        UNKNOWN|                    -99|                UNKNOWN|                    DE|                             UNKNOWN|                                 2017-01-01|                                          UNKNOWN|                                              1970-01-01|                 UNKNOWN|              UNKNOWN|               UNKNOWN|              UNKNOWN|             UNKNOWN|            0.000|          0.000|                    0.00|                       -99|\n",
      "|252506326476483|000000000000001197|   000000008000012374|Aufbauservice|   Aufbauservice|          |      UNKNOWN|    UNKNOWN|   UNKNOWN|    UNKNOWN|       UNKNOWN|      UNKNOWN|             UNKNOWN|               UNKNOWN|https://www.home2...|sparepartsServices| is not trusted shop|     is in catalog|            AUFBAU|             AUFBAU|             AUFBAU|     ZDIN|                              20|                                             |                UNKNOWN|              UNKNOWN|                     -99|                2018-01-12|              2018-01-12|               0.000|      0.000|            UNKNOWN|     parcelservice|              0.000|                     UNKNOWN|        UNKNOWN|                    -99|                UNKNOWN|                    DE|                             UNKNOWN|                                 2017-01-01|                                          UNKNOWN|                                              1970-01-01|                 UNKNOWN|              UNKNOWN|               UNKNOWN|              UNKNOWN|             UNKNOWN|            0.000|          0.000|                    0.00|                       -99|\n",
      "|137331546705301|000000000000001198|   000000008000012374|Aufbauservice|   Aufbauservice|          |      UNKNOWN|    UNKNOWN|   UNKNOWN|    UNKNOWN|       UNKNOWN|      UNKNOWN|             UNKNOWN|               UNKNOWN|https://www.home2...|sparepartsServices| is not trusted shop|     is in catalog|            AUFBAU|             AUFBAU|             AUFBAU|     ZDIN|                              20|                                             |                UNKNOWN|              UNKNOWN|                     -99|                2018-01-16|              2018-01-16|               0.000|      0.000|            UNKNOWN|     parcelservice|              0.000|                     UNKNOWN|        UNKNOWN|                    -99|                UNKNOWN|                    DE|                             UNKNOWN|                                 2017-01-01|                                          UNKNOWN|                                              1970-01-01|                 UNKNOWN|              UNKNOWN|               UNKNOWN|              UNKNOWN|             UNKNOWN|            0.000|          0.000|                    0.00|                       -99|\n",
      "|148133458693150|000000000000001199|   000000008000012374|Aufbauservice|   Aufbauservice|          |      UNKNOWN|    UNKNOWN|   UNKNOWN|    UNKNOWN|       UNKNOWN|      UNKNOWN|             UNKNOWN|               UNKNOWN|https://www.home2...|sparepartsServices| is not trusted shop|     is in catalog|            AUFBAU|             AUFBAU|             AUFBAU|     ZDIN|                              20|                                             |                UNKNOWN|              UNKNOWN|                     -99|                2018-01-16|              2018-01-16|               0.000|      0.000|            UNKNOWN|     parcelservice|              0.000|                     UNKNOWN|        UNKNOWN|                    -99|                UNKNOWN|                    DE|                             UNKNOWN|                                 2017-01-01|                                          UNKNOWN|                                              1970-01-01|                 UNKNOWN|              UNKNOWN|               UNKNOWN|              UNKNOWN|             UNKNOWN|            0.000|          0.000|                    0.00|                       -99|\n",
      "| 95518085222501|000000000000001200|   000000008000012374|Aufbauservice|   Aufbauservice|          |      UNKNOWN|    UNKNOWN|   UNKNOWN|    UNKNOWN|       UNKNOWN|      UNKNOWN|             UNKNOWN|               UNKNOWN|https://www.home2...|sparepartsServices| is not trusted shop|     is in catalog|            AUFBAU|             AUFBAU|             AUFBAU|     ZDIN|                              20|                                             |                UNKNOWN|              UNKNOWN|                     -99|                2018-01-16|              2018-01-16|               0.000|      0.000|            UNKNOWN|     parcelservice|              0.000|                     UNKNOWN|        UNKNOWN|                    -99|                UNKNOWN|                    DE|                             UNKNOWN|                                 2017-01-01|                                          UNKNOWN|                                              1970-01-01|                 UNKNOWN|              UNKNOWN|               UNKNOWN|              UNKNOWN|             UNKNOWN|            0.000|          0.000|                    0.00|                       -99|\n",
      "|203177097081578|000000000000001201|   000000008000012374|Aufbauservice|   Aufbauservice|          |      UNKNOWN|    UNKNOWN|   UNKNOWN|    UNKNOWN|       UNKNOWN|      UNKNOWN|             UNKNOWN|               UNKNOWN|https://www.home2...|sparepartsServices| is not trusted shop|     is in catalog|            AUFBAU|             AUFBAU|             AUFBAU|     ZDIN|                              20|                                             |                UNKNOWN|              UNKNOWN|                     -99|                2018-01-11|              2018-01-11|               0.000|      0.000|            UNKNOWN|     parcelservice|              0.000|                     UNKNOWN|        UNKNOWN|                    -99|                UNKNOWN|                    DE|                             UNKNOWN|                                 2017-01-01|                                          UNKNOWN|                                              1970-01-01|                 UNKNOWN|              UNKNOWN|               UNKNOWN|              UNKNOWN|             UNKNOWN|            0.000|          0.000|                    0.00|                       -99|\n",
      "| 85492699319980|000000000000001202|   000000008000012374|Aufbauservice|   Aufbauservice|          |      UNKNOWN|    UNKNOWN|   UNKNOWN|    UNKNOWN|       UNKNOWN|      UNKNOWN|             UNKNOWN|               UNKNOWN|https://www.home2...|sparepartsServices| is not trusted shop|     is in catalog|            AUFBAU|             AUFBAU|             AUFBAU|     ZDIN|                              20|                                             |                UNKNOWN|              UNKNOWN|                     -99|                2018-01-16|              2018-01-16|               0.000|      0.000|            UNKNOWN|     parcelservice|              0.000|                     UNKNOWN|        UNKNOWN|                    -99|                UNKNOWN|                    DE|                             UNKNOWN|                                 2017-01-01|                                          UNKNOWN|                                              1970-01-01|                 UNKNOWN|              UNKNOWN|               UNKNOWN|              UNKNOWN|             UNKNOWN|            0.000|          0.000|                    0.00|                       -99|\n",
      "|154332525896223|000000000000001203|   000000008000012374|Aufbauservice|   Aufbauservice|          |      UNKNOWN|    UNKNOWN|   UNKNOWN|    UNKNOWN|       UNKNOWN|      UNKNOWN|             UNKNOWN|               UNKNOWN|https://www.home2...|sparepartsServices| is not trusted shop|     is in catalog|            AUFBAU|             AUFBAU|             AUFBAU|     ZDIN|                              20|                                             |                UNKNOWN|              UNKNOWN|                     -99|                2017-11-22|              2017-11-22|               0.000|      0.000|            UNKNOWN|     parcelservice|              0.000|                     UNKNOWN|        UNKNOWN|                    -99|                UNKNOWN|                    DE|                             UNKNOWN|                                 2017-01-01|                                          UNKNOWN|                                              1970-01-01|                 UNKNOWN|              UNKNOWN|               UNKNOWN|              UNKNOWN|             UNKNOWN|            0.000|          0.000|                    0.00|                       -99|\n",
      "|218889718810311|000000000000001204|   000000008000012374|Aufbauservice|   Aufbauservice|          |      UNKNOWN|    UNKNOWN|   UNKNOWN|    UNKNOWN|       UNKNOWN|      UNKNOWN|             UNKNOWN|               UNKNOWN|https://www.home2...|sparepartsServices| is not trusted shop|     is in catalog|            AUFBAU|             AUFBAU|             AUFBAU|     ZDIN|                              20|                                             |                UNKNOWN|              UNKNOWN|                     -99|                2018-01-16|              2018-01-16|               0.000|      0.000|            UNKNOWN|     parcelservice|              0.000|                     UNKNOWN|        UNKNOWN|                    -99|                UNKNOWN|                    DE|                             UNKNOWN|                                 2017-01-01|                                          UNKNOWN|                                              1970-01-01|                 UNKNOWN|              UNKNOWN|               UNKNOWN|              UNKNOWN|             UNKNOWN|            0.000|          0.000|                    0.00|                       -99|\n",
      "| 66247685964836|000000000000001205|   000000008000012374|Aufbauservice|   Aufbauservice|          |      UNKNOWN|    UNKNOWN|   UNKNOWN|    UNKNOWN|       UNKNOWN|      UNKNOWN|             UNKNOWN|               UNKNOWN|https://www.home2...|sparepartsServices| is not trusted shop|     is in catalog|            AUFBAU|             AUFBAU|             AUFBAU|     ZDIN|                              20|                                             |                UNKNOWN|              UNKNOWN|                     -99|                2018-01-16|              2018-01-16|               0.000|      0.000|            UNKNOWN|     parcelservice|              0.000|                     UNKNOWN|        UNKNOWN|                    -99|                UNKNOWN|                    DE|                             UNKNOWN|                                 2017-01-01|                                          UNKNOWN|                                              1970-01-01|                 UNKNOWN|              UNKNOWN|               UNKNOWN|              UNKNOWN|             UNKNOWN|            0.000|          0.000|                    0.00|                       -99|\n",
      "|126339402813727|000000000000001206|   000000008000012374|Aufbauservice|   Aufbauservice|          |      UNKNOWN|    UNKNOWN|   UNKNOWN|    UNKNOWN|       UNKNOWN|      UNKNOWN|             UNKNOWN|               UNKNOWN|https://www.home2...|sparepartsServices| is not trusted shop|     is in catalog|            AUFBAU|             AUFBAU|             AUFBAU|     ZDIN|                              20|                                             |                UNKNOWN|              UNKNOWN|                     -99|                2018-01-16|              2018-01-16|               0.000|      0.000|            UNKNOWN|     parcelservice|              0.000|                     UNKNOWN|        UNKNOWN|                    -99|                UNKNOWN|                    DE|                             UNKNOWN|                                 2017-01-01|                                          UNKNOWN|                                              1970-01-01|                 UNKNOWN|              UNKNOWN|               UNKNOWN|              UNKNOWN|             UNKNOWN|            0.000|          0.000|                    0.00|                       -99|\n",
      "| 46436241793073|000000000000001207|   000000008000012374|Aufbauservice|   Aufbauservice|          |      UNKNOWN|    UNKNOWN|   UNKNOWN|    UNKNOWN|       UNKNOWN|      UNKNOWN|             UNKNOWN|               UNKNOWN|https://www.home2...|sparepartsServices| is not trusted shop|     is in catalog|            AUFBAU|             AUFBAU|             AUFBAU|     ZDIN|                              20|                                             |                UNKNOWN|              UNKNOWN|                     -99|                2018-01-26|              2018-01-26|               0.000|      0.000|            UNKNOWN|     parcelservice|              0.000|                     UNKNOWN|        UNKNOWN|                    -99|                UNKNOWN|                    DE|                             UNKNOWN|                                 2017-01-01|                                          UNKNOWN|                                              1970-01-01|                 UNKNOWN|              UNKNOWN|               UNKNOWN|              UNKNOWN|             UNKNOWN|            0.000|          0.000|                    0.00|                       -99|\n",
      "| 51791312620986|000000000000001208|   000000008000012374|Aufbauservice|   Aufbauservice|          |      UNKNOWN|    UNKNOWN|   UNKNOWN|    UNKNOWN|       UNKNOWN|      UNKNOWN|             UNKNOWN|               UNKNOWN|https://www.home2...|sparepartsServices| is not trusted shop|     is in catalog|            AUFBAU|             AUFBAU|             AUFBAU|     ZDIN|                              20|                                             |                UNKNOWN|              UNKNOWN|                     -99|                2018-01-26|              2018-01-26|               0.000|      0.000|            UNKNOWN|     parcelservice|              0.000|                     UNKNOWN|        UNKNOWN|                    -99|                UNKNOWN|                    DE|                             UNKNOWN|                                 2017-01-01|                                          UNKNOWN|                                              1970-01-01|                 UNKNOWN|              UNKNOWN|               UNKNOWN|              UNKNOWN|             UNKNOWN|            0.000|          0.000|                    0.00|                       -99|\n",
      "|223036029198421|000000000000001209|   000000008000012374|Aufbauservice|   Aufbauservice|          |      UNKNOWN|    UNKNOWN|   UNKNOWN|    UNKNOWN|       UNKNOWN|      UNKNOWN|             UNKNOWN|               UNKNOWN|https://www.home2...|sparepartsServices| is not trusted shop|     is in catalog|            AUFBAU|             AUFBAU|             AUFBAU|     ZDIN|                              20|                                             |                UNKNOWN|              UNKNOWN|                     -99|                2018-01-26|              2018-01-26|               0.000|      0.000|            UNKNOWN|     parcelservice|              0.000|                     UNKNOWN|        UNKNOWN|                    -99|                UNKNOWN|                    DE|                             UNKNOWN|                                 2017-01-01|                                          UNKNOWN|                                              1970-01-01|                 UNKNOWN|              UNKNOWN|               UNKNOWN|              UNKNOWN|             UNKNOWN|            0.000|          0.000|                    0.00|                       -99|\n",
      "|153842263516029|000000000000001210|   000000008000012374|Aufbauservice|   Aufbauservice|          |      UNKNOWN|    UNKNOWN|   UNKNOWN|    UNKNOWN|       UNKNOWN|      UNKNOWN|             UNKNOWN|               UNKNOWN|https://www.home2...|sparepartsServices| is not trusted shop|     is in catalog|            AUFBAU|             AUFBAU|             AUFBAU|     ZDIN|                              20|                                             |                UNKNOWN|              UNKNOWN|                     -99|                2018-01-26|              2018-01-26|               0.000|      0.000|            UNKNOWN|     parcelservice|              0.000|                     UNKNOWN|        UNKNOWN|                    -99|                UNKNOWN|                    DE|                             UNKNOWN|                                 2017-01-01|                                          UNKNOWN|                                              1970-01-01|                 UNKNOWN|              UNKNOWN|               UNKNOWN|              UNKNOWN|             UNKNOWN|            0.000|          0.000|                    0.00|                       -99|\n",
      "| 24562983294856|000000000000001211|   000000008000012374|Aufbauservice|   Aufbauservice|          |      UNKNOWN|    UNKNOWN|   UNKNOWN|    UNKNOWN|       UNKNOWN|      UNKNOWN|             UNKNOWN|               UNKNOWN|https://www.home2...|sparepartsServices| is not trusted shop|     is in catalog|            AUFBAU|             AUFBAU|             AUFBAU|     ZDIN|                              20|                                             |                UNKNOWN|              UNKNOWN|                     -99|                2018-01-26|              2018-01-26|               0.000|      0.000|            UNKNOWN|     parcelservice|              0.000|                     UNKNOWN|        UNKNOWN|                    -99|                UNKNOWN|                    DE|                             UNKNOWN|                                 2017-01-01|                                          UNKNOWN|                                              1970-01-01|                 UNKNOWN|              UNKNOWN|               UNKNOWN|              UNKNOWN|             UNKNOWN|            0.000|          0.000|                    0.00|                       -99|\n",
      "+---------------+------------------+---------------------+-------------+----------------+----------+-------------+-----------+----------+-----------+--------------+-------------+--------------------+----------------------+--------------------+------------------+--------------------+------------------+------------------+-------------------+-------------------+---------+--------------------------------+---------------------------------------------+-----------------------+---------------------+------------------------+--------------------------+------------------------+--------------------+-----------+-------------------+------------------+-------------------+----------------------------+---------------+-----------------------+-----------------------+----------------------+------------------------------------+-------------------------------------------+-------------------------------------------------+--------------------------------------------------------+------------------------+---------------------+----------------------+---------------------+--------------------+-----------------+---------------+------------------------+--------------------------+\n",
      "only showing top 20 rows\n",
      "\n"
     ]
    }
   ],
   "source": [
    "#Introduce d_item table\n",
    "sp_df_item = spark.read.parquet(\n",
    "    '/Users/gabriele.sabato/PycharmProjects/raw_data/redshift_tables/d_item/*.parquet',\n",
    "    header=True)\n",
    "sp_df_item.show()"
   ],
   "metadata": {
    "collapsed": false,
    "pycharm": {
     "name": "#%%\n"
    }
   }
  },
  {
   "cell_type": "code",
   "execution_count": 27,
   "outputs": [
    {
     "name": "stdout",
     "output_type": "stream",
     "text": [
      "+-----------+---------+----------------+-----------------------+--------------------------+--------------------------+--------------------------+--------------------------------+---------------------------------+---------------------------------------+\n",
      "|  item_skey|shop_skey|item_status_skey|item_status_weekly_skey|item_pc1_costs_before_cogs|item_pc2_costs_before_cogs|group_pc2_margin_simulated|group_pc2_margin_ratio_simulated|group_pc2_margin_simulated_pocket|group_pc2_margin_ratio_simulated_pocket|\n",
      "+-----------+---------+----------------+-----------------------+--------------------------+--------------------------+--------------------------+--------------------------------+---------------------------------+---------------------------------------+\n",
      "| 9022444508|        1|               1|                      1|                      null|                      null|                      null|                            null|                             null|                                   null|\n",
      "| 9022444508|        2|               1|                      1|                      null|                      null|                      null|                            null|                             null|                                   null|\n",
      "| 9022444508|        3|               1|                      1|                      null|                      null|                      null|                            null|                             null|                                   null|\n",
      "| 9022444508|        4|               1|                      1|                      null|                      null|                      null|                            null|                             null|                                   null|\n",
      "| 9022444508|        5|               1|                      1|                      null|                      null|                      null|                            null|                             null|                                   null|\n",
      "| 9022444508|        6|               1|                      1|                      null|                      null|                      null|                            null|                             null|                                   null|\n",
      "| 9022444508|        7|               1|                      1|                      null|                      null|                      null|                            null|                             null|                                   null|\n",
      "| 9022444508|        8|               1|                      1|                      null|                      null|                      null|                            null|                             null|                                   null|\n",
      "|11603522693|        1|               1|                      1|                      null|                      null|                      null|                            null|                             null|                                   null|\n",
      "|11603522693|        2|               1|                      1|                      null|                      null|                      null|                            null|                             null|                                   null|\n",
      "|11603522693|        3|               1|                      1|                      null|                      null|                      null|                            null|                             null|                                   null|\n",
      "|11603522693|        4|               1|                      1|                      null|                      null|                      null|                            null|                             null|                                   null|\n",
      "|11603522693|        5|               1|                      1|                      null|                      null|                      null|                            null|                             null|                                   null|\n",
      "|11603522693|        6|               1|                      1|                      null|                      null|                      null|                            null|                             null|                                   null|\n",
      "|11603522693|        7|               1|                      1|                      null|                      null|                      null|                            null|                             null|                                   null|\n",
      "|11603522693|        8|               1|                      1|                      null|                      null|                      null|                            null|                             null|                                   null|\n",
      "|52611470619|        1|               4|                      3|                    14.840|                    20.010|                      null|                            null|                             null|                                   null|\n",
      "|52611470619|        2|               1|                      1|                    14.840|                    28.160|                      null|                            null|                             null|                                   null|\n",
      "|52611470619|        3|               4|                      3|                    14.840|                    23.210|                      null|                            null|                             null|                                   null|\n",
      "|52611470619|        4|               4|                      3|                    14.840|                    24.340|                      null|                            null|                             null|                                   null|\n",
      "+-----------+---------+----------------+-----------------------+--------------------------+--------------------------+--------------------------+--------------------------------+---------------------------------+---------------------------------------+\n",
      "only showing top 20 rows\n",
      "\n"
     ]
    }
   ],
   "source": [
    "#Introduce PC2 table\n",
    "sp_df_pc2 = spark.read.parquet(\n",
    "    '/Users/gabriele.sabato/PycharmProjects/raw_data/redshift_tables/f_item_status_last/*.parquet',\n",
    "    header=True)\n",
    "sp_df_pc2.show()"
   ],
   "metadata": {
    "collapsed": false,
    "pycharm": {
     "name": "#%%\n"
    }
   }
  },
  {
   "cell_type": "code",
   "execution_count": 28,
   "outputs": [],
   "source": [
    "sp_df_item.createOrReplaceTempView('d_item_tmp')\n",
    "sp_df_pc2.createOrReplaceTempView('d_item_pc2')"
   ],
   "metadata": {
    "collapsed": false,
    "pycharm": {
     "name": "#%%\n"
    }
   }
  },
  {
   "cell_type": "code",
   "execution_count": 29,
   "outputs": [
    {
     "name": "stdout",
     "output_type": "stream",
     "text": [
      "+------------+------------------+-------+\n",
      "|   item_skey|         item_code|    pc2|\n",
      "+------------+------------------+-------+\n",
      "| 52611470619|000000001000134743| 20.010|\n",
      "| 84385921703|000000001000071807|156.289|\n",
      "| 86157195106|000000001000244511| 13.960|\n",
      "|127576841041|000000001000201449|   null|\n",
      "|155168951323|000000001000168394| 93.569|\n",
      "|160741357340|000000001000209207|159.479|\n",
      "|192734622947|000000001000094810|355.430|\n",
      "|205869855153|000000001000085488|248.090|\n",
      "|224112330866|000000001000174074| 18.070|\n",
      "|232914582312|000000001000219189| 17.859|\n",
      "|250762505087|000000001000066133|  8.210|\n",
      "|254111485931|000000001000179190|321.079|\n",
      "|263925540263|000000001000116596| 60.799|\n",
      "|295387713504|000000001000248814|761.179|\n",
      "|296512802915|000000001000156944| 19.090|\n",
      "|310102063324|000000001000136606| 56.909|\n",
      "|318946574713|000000001000039659|205.020|\n",
      "|350221455850|000000001000033289| 29.219|\n",
      "|365206948338|000000001000112137| 50.729|\n",
      "|374059249977|000000001000177970| 58.630|\n",
      "+------------+------------------+-------+\n",
      "only showing top 20 rows\n",
      "\n"
     ]
    }
   ],
   "source": [
    "pc2_table = spark.sql(\"\"\" WITH pc2_avg as (\n",
    "                            SELECT item_skey,\n",
    "                            item_pc2_costs_before_cogs as pc2\n",
    "                            from d_item_pc2\n",
    "                            where shop_skey = 1)\n",
    "                            SELECT pc.item_skey,di.item_code, pc.pc2\n",
    "                            from d_item_tmp as di\n",
    "                            INNER JOIN pc2_avg as pc on pc.item_skey = di.item_skey\n",
    "                            where di.item_code like '0%'\n",
    "                            \"\"\")\n",
    "pc2_table.show()"
   ],
   "metadata": {
    "collapsed": false,
    "pycharm": {
     "name": "#%%\n"
    }
   }
  },
  {
   "cell_type": "code",
   "execution_count": 30,
   "outputs": [],
   "source": [
    "pc2_table.createOrReplaceTempView('pc2_table')"
   ],
   "metadata": {
    "collapsed": false,
    "pycharm": {
     "name": "#%%\n"
    }
   }
  },
  {
   "cell_type": "code",
   "execution_count": 31,
   "outputs": [
    {
     "name": "stdout",
     "output_type": "stream",
     "text": [
      "+----------------+\n",
      "|count(item_code)|\n",
      "+----------------+\n",
      "|          248019|\n",
      "+----------------+\n",
      "\n"
     ]
    }
   ],
   "source": [
    "spark.sql(\"\"\"SELECT COUNT(item_code) FROM pc2_table\"\"\").show()\n",
    "#spark.sql(\"\"\"SELECT COUNT(item_skey) FROM pc2_table\"\"\").show()"
   ],
   "metadata": {
    "collapsed": false,
    "pycharm": {
     "name": "#%%\n"
    }
   }
  },
  {
   "cell_type": "code",
   "execution_count": 32,
   "outputs": [
    {
     "name": "stdout",
     "output_type": "stream",
     "text": [
      "+----------+------------+----------+--------------+-------------------+-------------------+--------------------+-----------------+---------+-------------+-------+---------------+\n",
      "| item_code|item_price_x|  max_date|delivery_weeks|           sales_pe|       sales_pe_err|       beta_del_week|beta_del_week_err|intercept|intercept_err|    pc2|      item_skey|\n",
      "+----------+------------+----------+--------------+-------------------+-------------------+--------------------+-----------------+---------+-------------+-------+---------------+\n",
      "|1000012836|      319.99|2021-02-01|             2|            -1.7665|             0.4977|             -0.0437|           0.0364|   11.882|       3.2396|186.410|227644242866118|\n",
      "|1000016121|      249.99|2021-02-21|             1|            -2.6608|             0.5909|             -0.0939|           0.0304|  16.2375|       3.4285|130.330| 40600078796222|\n",
      "|1000054054|      349.99|2021-02-25|             4|            -1.1775|0.23600000000000002|             -0.0131|           0.0064|    7.365|       1.2319|177.050|258578614695714|\n",
      "|1000064483|       51.99|2021-02-19|             3|            -3.6067|             0.8091|             -0.0383|           0.0348|  21.8127|       4.7247| 30.640|277856157534661|\n",
      "|1000076400|      329.99|2021-02-25|             4|-1.5430000000000001|             0.4513|             -0.0243|           0.0097|   9.2073|       2.6341|197.690|220435172610426|\n",
      "|1000128161|      124.99|2021-02-25|             1|            -1.3715|             0.3845|              0.0057|            0.012|   6.8389|       1.9341| 72.129|180621280061822|\n",
      "|1000147156|      429.99|2021-02-25|             5|             -3.222|0.36700000000000005|             -0.0276|           0.0102|  18.8254|       2.0617|161.220|232337232737743|\n",
      "|1000182808|     1049.99|2021-02-25|             2|            -5.0703|              1.455|              0.1541|           0.1588|  34.1513|       9.7325|335.190| 19647339763936|\n",
      "|1000211528|       94.99|2021-02-25|             1|            -3.0563|              0.591|             -0.0927|           0.0373|   16.005|       2.9894| 50.789| 48817714062240|\n",
      "|1000007431|      104.99|2021-01-27|             4|           -22.3379|             2.9377|              -0.114|           0.1443| 103.6526|      13.5207| 42.990| 73591042629309|\n",
      "|1000008030|      229.99|2021-02-22|             2|            -2.3235|              0.406|              -0.069|           0.0178|  16.6206|       2.8286|103.550|166122491071574|\n",
      "|1000008789|      124.99|2020-12-30|             1|            -3.1111|             0.6883|-0.03700000000000...|           0.0111|  17.0682|       3.6394| 96.000| 19968398718001|\n",
      "|1000048003|      349.99|2021-02-25|             2|            -2.3721|             0.5706|               0.001|           0.0125|  14.1651|        3.097|168.400| 33009929417484|\n",
      "|1000087583|      199.99|2021-02-15|             9|            -1.7298|             0.4018|             -0.0314|           0.0068|   9.4184|       2.0739|114.220|191583886188344|\n",
      "|1000101087|      249.99|2021-02-25|             3|            -2.1067|0.46799999999999997|             -0.0102|           0.0066|  12.6835|       2.8088|152.259|127764241568821|\n",
      "|1000101103|      249.99|2020-10-23|             3|            -1.6326|             0.5013|-0.00699999999999...|           0.0063|   9.9153|       2.8896|143.160| 70121275023858|\n",
      "|1000121623|      469.99|2021-01-14|             5|            -2.0382|             0.4264|             -0.0248|           0.0067|  12.2516|       2.5166|270.190|148450292983351|\n",
      "|1000128954|      669.99|2021-02-25|             5|            -1.1454|             0.2392|             -0.0233|           0.0081|   7.9948|       1.5462|219.569|162926904430731|\n",
      "|1000151265|      579.99|2021-01-14|             8|            -5.6117|             1.3982|              0.0514|           0.0458|  35.6731|       8.8088|403.769|164144424516062|\n",
      "|1000173828|      799.99|2021-02-25|             5|-1.3840000000000001|             0.3224|             -0.0169|           0.0092|   8.9145|       2.0257|538.059|154633886297033|\n",
      "+----------+------------+----------+--------------+-------------------+-------------------+--------------------+-----------------+---------+-------------+-------+---------------+\n",
      "only showing top 20 rows\n",
      "\n"
     ]
    }
   ],
   "source": [
    "spark_pc2_final = spark.sql(\"\"\" SELECT sp.*, pc.pc2, pc.item_skey\n",
    "                                from spark_final_tmp as sp\n",
    "                                 INNER JOIN pc2_table as pc on sp.item_code = pc.item_code\n",
    "                                 \"\"\")\n",
    "\n",
    "spark_pc2_final.show()"
   ],
   "metadata": {
    "collapsed": false,
    "pycharm": {
     "name": "#%%\n"
    }
   }
  },
  {
   "cell_type": "code",
   "execution_count": 33,
   "outputs": [],
   "source": [
    "df_final_spark = spark_pc2_final.toPandas()"
   ],
   "metadata": {
    "collapsed": false,
    "pycharm": {
     "name": "#%%\n"
    }
   }
  },
  {
   "cell_type": "code",
   "execution_count": 34,
   "outputs": [],
   "source": [
    "df_final_spark = df_final_spark.astype({'pc2': 'float64'})"
   ],
   "metadata": {
    "collapsed": false,
    "pycharm": {
     "name": "#%%\n"
    }
   }
  },
  {
   "cell_type": "code",
   "execution_count": 35,
   "outputs": [],
   "source": [
    "df_final_spark.to_csv('./pickle_files/df_Sales_PE_ready_for_Margin_20210512.csv')"
   ],
   "metadata": {
    "collapsed": false,
    "pycharm": {
     "name": "#%%\n"
    }
   }
  },
  {
   "cell_type": "code",
   "execution_count": 36,
   "outputs": [],
   "source": [
    "\n",
    "#After_VAT = 0.81\n",
    "import math"
   ],
   "metadata": {
    "collapsed": false,
    "pycharm": {
     "name": "#%%\n"
    }
   }
  },
  {
   "cell_type": "code",
   "execution_count": 37,
   "outputs": [
    {
     "data": {
      "text/plain": "item_code              int64\nitem_price_x         float64\nmax_date              object\ndelivery_weeks         int64\nsales_pe             float64\nsales_pe_err         float64\nbeta_del_week        float64\nbeta_del_week_err    float64\nintercept            float64\nintercept_err        float64\npc2                  float64\nitem_skey              int64\ndtype: object"
     },
     "execution_count": 37,
     "metadata": {},
     "output_type": "execute_result"
    }
   ],
   "source": [
    "df_final_spark.dtypes"
   ],
   "metadata": {
    "collapsed": false,
    "pycharm": {
     "name": "#%%\n"
    }
   }
  },
  {
   "cell_type": "code",
   "execution_count": 38,
   "outputs": [
    {
     "data": {
      "text/plain": "    item_code  item_price_x    max_date  delivery_weeks  sales_pe  \\\n0  1000012836        319.99  2021-02-01               2   -1.7665   \n1  1000016121        249.99  2021-02-21               1   -2.6608   \n2  1000054054        349.99  2021-02-25               4   -1.1775   \n3  1000064483         51.99  2021-02-19               3   -3.6067   \n4  1000076400        329.99  2021-02-25               4   -1.5430   \n\n   sales_pe_err  beta_del_week  beta_del_week_err  intercept  intercept_err  \\\n0        0.4977        -0.0437             0.0364    11.8820         3.2396   \n1        0.5909        -0.0939             0.0304    16.2375         3.4285   \n2        0.2360        -0.0131             0.0064     7.3650         1.2319   \n3        0.8091        -0.0383             0.0348    21.8127         4.7247   \n4        0.4513        -0.0243             0.0097     9.2073         2.6341   \n\n      pc2        item_skey  \n0  186.41  227644242866118  \n1  130.33   40600078796222  \n2  177.05  258578614695714  \n3   30.64  277856157534661  \n4  197.69  220435172610426  ",
      "text/html": "<div>\n<style scoped>\n    .dataframe tbody tr th:only-of-type {\n        vertical-align: middle;\n    }\n\n    .dataframe tbody tr th {\n        vertical-align: top;\n    }\n\n    .dataframe thead th {\n        text-align: right;\n    }\n</style>\n<table border=\"1\" class=\"dataframe\">\n  <thead>\n    <tr style=\"text-align: right;\">\n      <th></th>\n      <th>item_code</th>\n      <th>item_price_x</th>\n      <th>max_date</th>\n      <th>delivery_weeks</th>\n      <th>sales_pe</th>\n      <th>sales_pe_err</th>\n      <th>beta_del_week</th>\n      <th>beta_del_week_err</th>\n      <th>intercept</th>\n      <th>intercept_err</th>\n      <th>pc2</th>\n      <th>item_skey</th>\n    </tr>\n  </thead>\n  <tbody>\n    <tr>\n      <th>0</th>\n      <td>1000012836</td>\n      <td>319.99</td>\n      <td>2021-02-01</td>\n      <td>2</td>\n      <td>-1.7665</td>\n      <td>0.4977</td>\n      <td>-0.0437</td>\n      <td>0.0364</td>\n      <td>11.8820</td>\n      <td>3.2396</td>\n      <td>186.41</td>\n      <td>227644242866118</td>\n    </tr>\n    <tr>\n      <th>1</th>\n      <td>1000016121</td>\n      <td>249.99</td>\n      <td>2021-02-21</td>\n      <td>1</td>\n      <td>-2.6608</td>\n      <td>0.5909</td>\n      <td>-0.0939</td>\n      <td>0.0304</td>\n      <td>16.2375</td>\n      <td>3.4285</td>\n      <td>130.33</td>\n      <td>40600078796222</td>\n    </tr>\n    <tr>\n      <th>2</th>\n      <td>1000054054</td>\n      <td>349.99</td>\n      <td>2021-02-25</td>\n      <td>4</td>\n      <td>-1.1775</td>\n      <td>0.2360</td>\n      <td>-0.0131</td>\n      <td>0.0064</td>\n      <td>7.3650</td>\n      <td>1.2319</td>\n      <td>177.05</td>\n      <td>258578614695714</td>\n    </tr>\n    <tr>\n      <th>3</th>\n      <td>1000064483</td>\n      <td>51.99</td>\n      <td>2021-02-19</td>\n      <td>3</td>\n      <td>-3.6067</td>\n      <td>0.8091</td>\n      <td>-0.0383</td>\n      <td>0.0348</td>\n      <td>21.8127</td>\n      <td>4.7247</td>\n      <td>30.64</td>\n      <td>277856157534661</td>\n    </tr>\n    <tr>\n      <th>4</th>\n      <td>1000076400</td>\n      <td>329.99</td>\n      <td>2021-02-25</td>\n      <td>4</td>\n      <td>-1.5430</td>\n      <td>0.4513</td>\n      <td>-0.0243</td>\n      <td>0.0097</td>\n      <td>9.2073</td>\n      <td>2.6341</td>\n      <td>197.69</td>\n      <td>220435172610426</td>\n    </tr>\n  </tbody>\n</table>\n</div>"
     },
     "execution_count": 38,
     "metadata": {},
     "output_type": "execute_result"
    }
   ],
   "source": [
    "df_final_spark.head()"
   ],
   "metadata": {
    "collapsed": false,
    "pycharm": {
     "name": "#%%\n"
    }
   }
  },
  {
   "cell_type": "code",
   "execution_count": 39,
   "outputs": [
    {
     "data": {
      "text/plain": "(array([  2.,   1.,   2.,   2.,   1.,   5.,   6.,  13.,  14.,  13.,  17.,\n         22.,  33.,  41.,  57., 111., 203., 385., 683., 694.,  60.,   2.,\n          0.,   0.,   1.]),\n array([-22.3379  , -21.257104, -20.176308, -19.095512, -18.014716,\n        -16.93392 , -15.853124, -14.772328, -13.691532, -12.610736,\n        -11.52994 , -10.449144,  -9.368348,  -8.287552,  -7.206756,\n         -6.12596 ,  -5.045164,  -3.964368,  -2.883572,  -1.802776,\n         -0.72198 ,   0.358816,   1.439612,   2.520408,   3.601204,\n          4.682   ]),\n <BarContainer object of 25 artists>)"
     },
     "execution_count": 39,
     "metadata": {},
     "output_type": "execute_result"
    },
    {
     "data": {
      "text/plain": "<Figure size 432x288 with 1 Axes>",
      "image/png": "[encoded data removed]"
     },
     "metadata": {
      "needs_background": "light"
     },
     "output_type": "display_data"
    }
   ],
   "source": [
    "import matplotlib.pyplot as plt\n",
    "\n",
    "plt.hist(df_final_spark['sales_pe'], bins=25)"
   ],
   "metadata": {
    "collapsed": false,
    "pycharm": {
     "name": "#%%\n"
    }
   }
  },
  {
   "cell_type": "code",
   "execution_count": 40,
   "outputs": [
    {
     "data": {
      "text/plain": "(array([  1.,   0.,   0.,   0.,   3., 220., 820., 557., 294., 173.,  98.,\n         54.,  37.,  26.,  22.,  20.,  16.,  12.,   6.,   0.,   4.,   0.,\n          4.,   0.,   1.]),\n array([-27.8614  , -22.066496, -16.271592, -10.476688,  -4.681784,\n          1.11312 ,   6.908024,  12.702928,  18.497832,  24.292736,\n         30.08764 ,  35.882544,  41.677448,  47.472352,  53.267256,\n         59.06216 ,  64.857064,  70.651968,  76.446872,  82.241776,\n         88.03668 ,  93.831584,  99.626488, 105.421392, 111.216296,\n        117.0112  ]),\n <BarContainer object of 25 artists>)"
     },
     "execution_count": 40,
     "metadata": {},
     "output_type": "execute_result"
    },
    {
     "data": {
      "text/plain": "<Figure size 432x288 with 1 Axes>",
      "image/png": "[encoded data removed]"
     },
     "metadata": {
      "needs_background": "light"
     },
     "output_type": "display_data"
    }
   ],
   "source": [
    "plt.hist(df_final_spark['intercept'], bins=25)"
   ],
   "metadata": {
    "collapsed": false,
    "pycharm": {
     "name": "#%%\n"
    }
   }
  },
  {
   "cell_type": "code",
   "execution_count": 41,
   "outputs": [
    {
     "data": {
      "text/plain": "<matplotlib.collections.PathCollection at 0x7fa943043730>"
     },
     "execution_count": 41,
     "metadata": {},
     "output_type": "execute_result"
    },
    {
     "data": {
      "text/plain": "<Figure size 432x288 with 1 Axes>",
      "image/png": "[encoded data removed]"
     },
     "metadata": {
      "needs_background": "light"
     },
     "output_type": "display_data"
    }
   ],
   "source": [
    "plt.scatter(df_final_spark['intercept'], df_final_spark['intercept_err'])"
   ],
   "metadata": {
    "collapsed": false,
    "pycharm": {
     "name": "#%%\n"
    }
   }
  },
  {
   "cell_type": "code",
   "execution_count": 42,
   "outputs": [],
   "source": [
    "df_intercept_filter = df_final_spark.copy()\n",
    "df_intercept_filter['intercept_rel_err'] = np.fabs(df_final_spark['intercept_err'] / df_final_spark['intercept'])\n",
    "df_intercept_filter['beta_del_week_rel_err'] = np.fabs(\n",
    "    df_final_spark['beta_del_week_err'] / df_final_spark['beta_del_week'])"
   ],
   "metadata": {
    "collapsed": false,
    "pycharm": {
     "name": "#%%\n"
    }
   }
  },
  {
   "cell_type": "code",
   "execution_count": 43,
   "outputs": [
    {
     "data": {
      "text/plain": "32      0.332532\n2065    0.330898\n159     0.330792\n799     0.330576\n857     0.330522\nName: intercept_rel_err, dtype: float64"
     },
     "execution_count": 43,
     "metadata": {},
     "output_type": "execute_result"
    }
   ],
   "source": [
    "#df_intercept_filter['intercept_rel_err'].nlargest()\n",
    "df_intercept_filter = df_intercept_filter[3 * df_intercept_filter['intercept_rel_err'] < 1]\n",
    "df_intercept_filter['intercept_rel_err'].nlargest()"
   ],
   "metadata": {
    "collapsed": false,
    "pycharm": {
     "name": "#%%\n"
    }
   }
  },
  {
   "cell_type": "code",
   "execution_count": 44,
   "outputs": [
    {
     "data": {
      "text/plain": "1272    0.321718\n191     0.318457\n1880    0.316130\n1661    0.314238\n114     0.313918\nName: intercept_rel_err, dtype: float64"
     },
     "execution_count": 44,
     "metadata": {},
     "output_type": "execute_result"
    }
   ],
   "source": [
    "df_intercept_filter['beta_del_week_rel_err'].nlargest()\n",
    "df_del_week_filter = df_intercept_filter[3 * df_intercept_filter['beta_del_week_rel_err'] < 1]\n",
    "df_del_week_filter['intercept_rel_err'].nlargest()"
   ],
   "metadata": {
    "collapsed": false,
    "pycharm": {
     "name": "#%%\n"
    }
   }
  },
  {
   "cell_type": "code",
   "execution_count": 45,
   "outputs": [
    {
     "data": {
      "text/plain": "<matplotlib.collections.PathCollection at 0x7fa9431296d0>"
     },
     "execution_count": 45,
     "metadata": {},
     "output_type": "execute_result"
    },
    {
     "data": {
      "text/plain": "<Figure size 432x288 with 1 Axes>",
      "image/png": "[encoded data removed]"
     },
     "metadata": {
      "needs_background": "light"
     },
     "output_type": "display_data"
    }
   ],
   "source": [
    "plt.scatter(df_del_week_filter['beta_del_week'], df_del_week_filter['beta_del_week_err'])"
   ],
   "metadata": {
    "collapsed": false,
    "pycharm": {
     "name": "#%%\n"
    }
   }
  },
  {
   "cell_type": "code",
   "execution_count": 46,
   "outputs": [
    {
     "data": {
      "text/plain": "<matplotlib.collections.PathCollection at 0x7fa9431f39d0>"
     },
     "execution_count": 46,
     "metadata": {},
     "output_type": "execute_result"
    },
    {
     "data": {
      "text/plain": "<Figure size 432x288 with 1 Axes>",
      "image/png": "[encoded data removed]"
     },
     "metadata": {
      "needs_background": "light"
     },
     "output_type": "display_data"
    }
   ],
   "source": [
    "plt.scatter(df_intercept_filter['intercept'], df_intercept_filter['intercept_err'])"
   ],
   "metadata": {
    "collapsed": false,
    "pycharm": {
     "name": "#%%\n"
    }
   }
  },
  {
   "cell_type": "code",
   "execution_count": 47,
   "outputs": [],
   "source": [
    "####### MARGIN #########\n",
    "def calculate_Margin(dataf=df_final_spark, increment=0.01, direction='up', prev_inc = 0.0):\n",
    "    if direction == 'down':\n",
    "        increment *= -1\n",
    "        prev_inc  *= -1\n",
    "\n",
    "    VAT = 1.19\n",
    "\n",
    "    N = int(increment/0.01)\n",
    "    M = int(prev_inc/0.01)\n",
    "    N_minus_M = N - M\n",
    "    #print('N = ', N, 'M = ', M, 'N - M = ', N_minus_M)\n",
    "    if np.fabs(increment) == 0.01:\n",
    "        dataf['x'] = dataf['item_price_x']\n",
    "        dataf['Delta_x'] = dataf['item_price_x'] * 0.01\n",
    "\n",
    "    dataf['Delta_cost'] = ((dataf['x'] + M * dataf['Delta_x'])/VAT - dataf['pc2']) #change! x + 1dx\n",
    "\n",
    "    dataf['Delta_N_Sales'] = N_minus_M * (dataf['Delta_x'] / (dataf['x'] + M * dataf['Delta_x'])) * dataf['sales_pe']\n",
    "    dataf['log_x_prime'] = np.log(dataf['x'] + N*dataf['Delta_x'])\n",
    "    dataf['N_prime_sales'] = dataf['sales_pe'] * dataf['log_x_prime'] + (\n",
    "            dataf['beta_del_week'] * dataf['delivery_weeks']) + dataf['intercept']\n",
    "    dataf['Delta_Margin'] = dataf['Delta_N_Sales'] * dataf['Delta_cost'] + dataf['N_prime_sales'] * N_minus_M * dataf['Delta_x']\n",
    "    #dataf['N_prime_sales_err'] = np.sqrt(np.power(dataf['log_x_prime'] * dataf['sales_pe_err'], 2) + np.power(\n",
    "    #    dataf['beta_del_week_err'] * dataf['delivery_weeks'], 2) + np.power(dataf['intercept_err'], 2))\n",
    "    #dataf['Delta_Margin_err'] = np.sqrt(\n",
    "    #    np.power(dataf['sales_pe_err'] * dataf['Delta_cost'] * dataf['Delta_x'] / dataf['x'], 2) + np.power(\n",
    "    #        dataf['N_prime_sales_err'] * dataf['Delta_x'], 2))\n",
    "\n",
    "    #dataf['N_prime_sales_err_no_intercept_err'] = np.sqrt(\n",
    "    #    np.power(dataf['log_x_prime'] * dataf['sales_pe_err'], 2) + np.power(\n",
    "    #        dataf['beta_del_week_err'] * dataf['delivery_weeks'], 2))\n",
    "    #dataf['Delta_Margin_err_no_intercept'] = np.sqrt(\n",
    "    ##    np.power(dataf['sales_pe_err'] * dataf['Delta_cost'] * dataf['Delta_x'] / dataf['x'], 2) + np.power(\n",
    "    #        dataf['N_prime_sales_err_no_intercept_err'] * dataf['Delta_x'], 2))\n",
    "    #dataf['N_prime_sales_err_no_del_week'] = np.sqrt(\n",
    "    #    np.power(dataf['log_x_prime'] * dataf['sales_pe_err'], 2) + + np.power(dataf['intercept_err'], 2))\n",
    "    #dataf['Delta_Margin_err_no_del_week'] = np.sqrt(\n",
    "    #    np.power(dataf['sales_pe_err'] * dataf['Delta_cost'] * dataf['Delta_x'] / dataf['x'], 2) + np.power(\n",
    "    #        dataf['N_prime_sales_err_no_del_week'] * dataf['Delta_x'], 2))"
   ],
   "metadata": {
    "collapsed": false,
    "pycharm": {
     "name": "#%%\n"
    }
   }
  },
  {
   "cell_type": "code",
   "execution_count": 48,
   "outputs": [],
   "source": [
    "def classify(dataf=df_final_spark, flag='up'):\n",
    "    direction = ['up', 'down']\n",
    "    if flag == 'down':\n",
    "        direction = direction[::-1]\n",
    "    dataf['Group_flag'] = np.where(3 * dataf['Delta_Margin_err'] - np.fabs(dataf['Delta_Margin']) > 0, 'neutral',\n",
    "                                   np.where(\n",
    "                                       dataf['Delta_Margin'] > 0, direction[0],\n",
    "                                       direction[1]))\n",
    "\n"
   ],
   "metadata": {
    "collapsed": false,
    "pycharm": {
     "name": "#%%\n"
    }
   }
  },
  {
   "cell_type": "code",
   "execution_count": 49,
   "outputs": [],
   "source": [
    "def classify_no_err(dataf=df_final_spark, flag='up'):\n",
    "    direction = ['up', 'down']\n",
    "    if flag == 'down':\n",
    "        direction = direction[::-1]\n",
    "\n",
    "    dataf['Group_flag'] = np.where(dataf['Delta_Margin'] > 0, direction[0], 'not_defined')\n"
   ],
   "metadata": {
    "collapsed": false,
    "pycharm": {
     "name": "#%%\n"
    }
   }
  },
  {
   "cell_type": "code",
   "execution_count": 50,
   "outputs": [
    {
     "name": "stdout",
     "output_type": "stream",
     "text": [
      "2368\n"
     ]
    }
   ],
   "source": [
    "original_df = df_final_spark.copy()\n",
    "print(len(original_df.index))\n",
    "tmp_df = pd.DataFrame()\n",
    "original_df_up = pd.DataFrame()\n",
    "original_df_down = pd.DataFrame()"
   ],
   "metadata": {
    "collapsed": false,
    "pycharm": {
     "name": "#%%\n"
    }
   }
  },
  {
   "cell_type": "code",
   "execution_count": 51,
   "outputs": [
    {
     "name": "stdout",
     "output_type": "stream",
     "text": [
      "Increment = 0.01\n",
      "989\n",
      "1340\n",
      "Increment = 0.05\n",
      "924\n",
      "1237\n",
      "Increment = 0.1\n",
      "809\n",
      "1101\n",
      "Increment = 0.13\n",
      "725\n",
      "965\n",
      "Increment = 0.14\n",
      "691\n",
      "891\n"
     ]
    }
   ],
   "source": [
    "list_of_columns = [\n",
    "    'item_code',\n",
    "    'item_price_x',\n",
    "    'x',\n",
    "    'delivery_weeks',\n",
    "    'sales_pe',\n",
    "    'sales_pe_err',\n",
    "    'beta_del_week',\n",
    "    'beta_del_week_err',\n",
    "    'intercept',\n",
    "    'intercept_err',\n",
    "    'Delta_x',\n",
    "    'Delta_Margin']\n",
    "increments_list = [0.01, 0.05, 0.1, 0.13, 0.14]\n",
    "\n",
    "for index, inc in enumerate(increments_list):\n",
    "    print('Increment = ' + str(inc))\n",
    "\n",
    "    if inc == 0.01:\n",
    "        original_tmp = original_df.copy()  #create tmp df\n",
    "        calculate_Margin(original_df, inc, 'up')  #calculate Margin up\n",
    "        classify_no_err(original_df, 'up')  #classify the new dataframe\n",
    "        original_df_up = original_df_up.append(original_df[original_df['Group_flag'] == 'up'])\n",
    "        #print(original_df.dtypes)\n",
    "        #print(original_tmp.dtypes)\n",
    "        #tmp_df = tmp_df.append(original_df[original_df['Group_flag'] == 'not_defined'])\n",
    "\n",
    "        calculate_Margin(original_tmp, inc, 'down')\n",
    "        classify_no_err(original_tmp, 'down')\n",
    "        original_df_down = original_df_down.append(original_tmp[original_tmp['Group_flag'] == 'down'])\n",
    "        #tmp_df = tmp_df.append(original_tmp[original_tmp['Group_flag'] == 'not_defined'])\n",
    "        #print('up\\n', original_df_up[list_of_columns].head())\n",
    "        #print('down\\n', original_df_down[list_of_columns].head())\n",
    "        #print('tmp_df\\n', tmp_df.head())\n",
    "        #print('Total items\\n', len(tmp_df.index) +len(original_df_up.index) + len(original_df_down.index))\n",
    "    if inc > 0.01:\n",
    "        #increment_price(original_df_up)\n",
    "        calculate_Margin(original_df_up, inc, 'up', increments_list[index-1])\n",
    "        classify_no_err(original_df_up, 'up')\n",
    "        #tmp_df = tmp_df.append(original_df_up[original_df_up['Group_flag'] == 'not_defined'])\n",
    "        original_df_up = original_df_up[original_df_up['Group_flag'] == 'up']\n",
    "\n",
    "        #increment_price(original_df_down)\n",
    "        calculate_Margin(original_df_down, inc, 'down', increments_list[index-1])\n",
    "        classify_no_err(original_df_down, 'down')\n",
    "        #tmp_df = tmp_df.append(original_df_down[original_df_down['Group_flag'] == 'not_defined'])\n",
    "        original_df_down = original_df_down[original_df_down['Group_flag'] == 'down']\n",
    "        #print('up\\n', original_df_up[list_of_columns].head())\n",
    "        #print('down\\n', original_df_down[list_of_columns].head())\n",
    "        #print('tmp\\n',tmp_df_neutral.head())\n",
    "        #print('up\\n', original_df_up.head())\n",
    "        #print('down\\n',original_df_down.head())\n",
    "\n",
    "    #original_df_down['Margin_base'] = original_df_down['Margin_down']\n",
    "    #original_df_up['Margin_base'] = original_df_up['Margin_up']\n",
    "    original_df_up ['Increment'] = f'{inc*100.}%'\n",
    "    original_df_down ['Increment'] = f'{-inc*100.}%'\n",
    "    print(len(original_df_up.index))\n",
    "    print(len(original_df_down.index))\n",
    "    #print(original_df_up.head())\n"
   ],
   "metadata": {
    "collapsed": false,
    "pycharm": {
     "name": "#%%\n"
    }
   }
  },
  {
   "cell_type": "code",
   "execution_count": 52,
   "outputs": [
    {
     "data": {
      "text/plain": "     item_code  item_price_x    max_date  delivery_weeks  sales_pe  \\\n6   1000147156        429.99  2021-02-25               5   -3.2220   \n7   1000182808       1049.99  2021-02-25               2   -5.0703   \n9   1000007431        104.99  2021-01-27               4  -22.3379   \n12  1000048003        349.99  2021-02-25               2   -2.3721   \n13  1000087583        199.99  2021-02-15               9   -1.7298   \n\n    sales_pe_err  beta_del_week  beta_del_week_err  intercept  intercept_err  \\\n6         0.3670        -0.0276             0.0102    18.8254         2.0617   \n7         1.4550         0.1541             0.1588    34.1513         9.7325   \n9         2.9377        -0.1140             0.1443   103.6526        13.5207   \n12        0.5706         0.0010             0.0125    14.1651         3.0970   \n13        0.4018        -0.0314             0.0068     9.4184         2.0739   \n\n    ...        item_skey        x  Delta_x  Delta_cost  Delta_N_Sales  \\\n6   ...  232337232737743   429.99   4.2999  153.142437       0.037034   \n7   ...   19647339763936  1049.99  10.4999  432.449748       0.058279   \n9   ...   73591042629309   104.99   1.0499   33.767395       0.256757   \n12  ...   33009929417484   349.99   3.4999   87.475042       0.027266   \n13  ...  191583886188344   199.99   1.9999   31.991176       0.019883   \n\n    log_x_prime  N_prime_sales  Delta_Margin  Group_flag             Increment  \n6      5.912939      -0.364090      7.237100        down  -14.000000000000002%  \n7      6.805713      -0.047507     25.701689        down  -14.000000000000002%  \n9      4.503042       2.608093      5.931794        down  -14.000000000000002%  \n12     5.707082       0.629332      0.182455        down  -14.000000000000002%  \n13     5.147444       0.231751      0.172595        down  -14.000000000000002%  \n\n[5 rows x 21 columns]",
      "text/html": "<div>\n<style scoped>\n    .dataframe tbody tr th:only-of-type {\n        vertical-align: middle;\n    }\n\n    .dataframe tbody tr th {\n        vertical-align: top;\n    }\n\n    .dataframe thead th {\n        text-align: right;\n    }\n</style>\n<table border=\"1\" class=\"dataframe\">\n  <thead>\n    <tr style=\"text-align: right;\">\n      <th></th>\n      <th>item_code</th>\n      <th>item_price_x</th>\n      <th>max_date</th>\n      <th>delivery_weeks</th>\n      <th>sales_pe</th>\n      <th>sales_pe_err</th>\n      <th>beta_del_week</th>\n      <th>beta_del_week_err</th>\n      <th>intercept</th>\n      <th>intercept_err</th>\n      <th>...</th>\n      <th>item_skey</th>\n      <th>x</th>\n      <th>Delta_x</th>\n      <th>Delta_cost</th>\n      <th>Delta_N_Sales</th>\n      <th>log_x_prime</th>\n      <th>N_prime_sales</th>\n      <th>Delta_Margin</th>\n      <th>Group_flag</th>\n      <th>Increment</th>\n    </tr>\n  </thead>\n  <tbody>\n    <tr>\n      <th>6</th>\n      <td>1000147156</td>\n      <td>429.99</td>\n      <td>2021-02-25</td>\n      <td>5</td>\n      <td>-3.2220</td>\n      <td>0.3670</td>\n      <td>-0.0276</td>\n      <td>0.0102</td>\n      <td>18.8254</td>\n      <td>2.0617</td>\n      <td>...</td>\n      <td>232337232737743</td>\n      <td>429.99</td>\n      <td>4.2999</td>\n      <td>153.142437</td>\n      <td>0.037034</td>\n      <td>5.912939</td>\n      <td>-0.364090</td>\n      <td>7.237100</td>\n      <td>down</td>\n      <td>-14.000000000000002%</td>\n    </tr>\n    <tr>\n      <th>7</th>\n      <td>1000182808</td>\n      <td>1049.99</td>\n      <td>2021-02-25</td>\n      <td>2</td>\n      <td>-5.0703</td>\n      <td>1.4550</td>\n      <td>0.1541</td>\n      <td>0.1588</td>\n      <td>34.1513</td>\n      <td>9.7325</td>\n      <td>...</td>\n      <td>19647339763936</td>\n      <td>1049.99</td>\n      <td>10.4999</td>\n      <td>432.449748</td>\n      <td>0.058279</td>\n      <td>6.805713</td>\n      <td>-0.047507</td>\n      <td>25.701689</td>\n      <td>down</td>\n      <td>-14.000000000000002%</td>\n    </tr>\n    <tr>\n      <th>9</th>\n      <td>1000007431</td>\n      <td>104.99</td>\n      <td>2021-01-27</td>\n      <td>4</td>\n      <td>-22.3379</td>\n      <td>2.9377</td>\n      <td>-0.1140</td>\n      <td>0.1443</td>\n      <td>103.6526</td>\n      <td>13.5207</td>\n      <td>...</td>\n      <td>73591042629309</td>\n      <td>104.99</td>\n      <td>1.0499</td>\n      <td>33.767395</td>\n      <td>0.256757</td>\n      <td>4.503042</td>\n      <td>2.608093</td>\n      <td>5.931794</td>\n      <td>down</td>\n      <td>-14.000000000000002%</td>\n    </tr>\n    <tr>\n      <th>12</th>\n      <td>1000048003</td>\n      <td>349.99</td>\n      <td>2021-02-25</td>\n      <td>2</td>\n      <td>-2.3721</td>\n      <td>0.5706</td>\n      <td>0.0010</td>\n      <td>0.0125</td>\n      <td>14.1651</td>\n      <td>3.0970</td>\n      <td>...</td>\n      <td>33009929417484</td>\n      <td>349.99</td>\n      <td>3.4999</td>\n      <td>87.475042</td>\n      <td>0.027266</td>\n      <td>5.707082</td>\n      <td>0.629332</td>\n      <td>0.182455</td>\n      <td>down</td>\n      <td>-14.000000000000002%</td>\n    </tr>\n    <tr>\n      <th>13</th>\n      <td>1000087583</td>\n      <td>199.99</td>\n      <td>2021-02-15</td>\n      <td>9</td>\n      <td>-1.7298</td>\n      <td>0.4018</td>\n      <td>-0.0314</td>\n      <td>0.0068</td>\n      <td>9.4184</td>\n      <td>2.0739</td>\n      <td>...</td>\n      <td>191583886188344</td>\n      <td>199.99</td>\n      <td>1.9999</td>\n      <td>31.991176</td>\n      <td>0.019883</td>\n      <td>5.147444</td>\n      <td>0.231751</td>\n      <td>0.172595</td>\n      <td>down</td>\n      <td>-14.000000000000002%</td>\n    </tr>\n  </tbody>\n</table>\n<p>5 rows × 21 columns</p>\n</div>"
     },
     "execution_count": 52,
     "metadata": {},
     "output_type": "execute_result"
    }
   ],
   "source": [
    "original_df_up.head()\n",
    "original_df_down.head()"
   ],
   "metadata": {
    "collapsed": false,
    "pycharm": {
     "name": "#%%\n"
    }
   }
  },
  {
   "cell_type": "code",
   "execution_count": 53,
   "outputs": [],
   "source": [
    "original_df_up.to_csv('../raw_data/Excel_files/Item_margin_up_pre_pc2_change_Feb2021.csv')\n",
    "original_df_down.to_csv('../raw_data/Excel_files/Item_margin_down_pre_pc2_change_Feb2021.csv')"
   ],
   "metadata": {
    "collapsed": false,
    "pycharm": {
     "name": "#%%\n"
    }
   }
  },
  {
   "cell_type": "code",
   "execution_count": 53,
   "outputs": [],
   "source": [],
   "metadata": {
    "collapsed": false,
    "pycharm": {
     "name": "#%%\n"
    }
   }
  },
  {
   "cell_type": "code",
   "execution_count": 53,
   "outputs": [],
   "source": [],
   "metadata": {
    "collapsed": false,
    "pycharm": {
     "name": "#%%\n"
    }
   }
  },
  {
   "cell_type": "code",
   "execution_count": 54,
   "outputs": [
    {
     "data": {
      "text/plain": "item_code              int64\nitem_price_x         float64\nmax_date              object\ndelivery_weeks         int64\nsales_pe             float64\nsales_pe_err         float64\nbeta_del_week        float64\nbeta_del_week_err    float64\nintercept            float64\nintercept_err        float64\npc2                  float64\nitem_skey              int64\nx                    float64\nDelta_x              float64\nDelta_cost           float64\nDelta_N_Sales        float64\nlog_x_prime          float64\nN_prime_sales        float64\nDelta_Margin         float64\nGroup_flag            object\ndtype: object"
     },
     "execution_count": 54,
     "metadata": {},
     "output_type": "execute_result"
    }
   ],
   "source": [
    "original_tmp.dtypes"
   ],
   "metadata": {
    "collapsed": false,
    "pycharm": {
     "name": "#%%\n"
    }
   }
  },
  {
   "cell_type": "code",
   "execution_count": 55,
   "outputs": [
    {
     "ename": "KeyError",
     "evalue": "'Delta_Margin_err'",
     "output_type": "error",
     "traceback": [
      "\u001B[0;31m---------------------------------------------------------------------------\u001B[0m",
      "\u001B[0;31mKeyError\u001B[0m                                  Traceback (most recent call last)",
      "\u001B[0;32m~/anaconda3/envs/pythonProject/lib/python3.8/site-packages/pandas/core/indexes/base.py\u001B[0m in \u001B[0;36mget_loc\u001B[0;34m(self, key, method, tolerance)\u001B[0m\n\u001B[1;32m   2888\u001B[0m             \u001B[0;32mtry\u001B[0m\u001B[0;34m:\u001B[0m\u001B[0;34m\u001B[0m\u001B[0;34m\u001B[0m\u001B[0m\n\u001B[0;32m-> 2889\u001B[0;31m                 \u001B[0;32mreturn\u001B[0m \u001B[0mself\u001B[0m\u001B[0;34m.\u001B[0m\u001B[0m_engine\u001B[0m\u001B[0;34m.\u001B[0m\u001B[0mget_loc\u001B[0m\u001B[0;34m(\u001B[0m\u001B[0mcasted_key\u001B[0m\u001B[0;34m)\u001B[0m\u001B[0;34m\u001B[0m\u001B[0;34m\u001B[0m\u001B[0m\n\u001B[0m\u001B[1;32m   2890\u001B[0m             \u001B[0;32mexcept\u001B[0m \u001B[0mKeyError\u001B[0m \u001B[0;32mas\u001B[0m \u001B[0merr\u001B[0m\u001B[0;34m:\u001B[0m\u001B[0;34m\u001B[0m\u001B[0;34m\u001B[0m\u001B[0m\n",
      "\u001B[0;32mpandas/_libs/index.pyx\u001B[0m in \u001B[0;36mpandas._libs.index.IndexEngine.get_loc\u001B[0;34m()\u001B[0m\n",
      "\u001B[0;32mpandas/_libs/index.pyx\u001B[0m in \u001B[0;36mpandas._libs.index.IndexEngine.get_loc\u001B[0;34m()\u001B[0m\n",
      "\u001B[0;32mpandas/_libs/hashtable_class_helper.pxi\u001B[0m in \u001B[0;36mpandas._libs.hashtable.PyObjectHashTable.get_item\u001B[0;34m()\u001B[0m\n",
      "\u001B[0;32mpandas/_libs/hashtable_class_helper.pxi\u001B[0m in \u001B[0;36mpandas._libs.hashtable.PyObjectHashTable.get_item\u001B[0;34m()\u001B[0m\n",
      "\u001B[0;31mKeyError\u001B[0m: 'Delta_Margin_err'",
      "\nThe above exception was the direct cause of the following exception:\n",
      "\u001B[0;31mKeyError\u001B[0m                                  Traceback (most recent call last)",
      "\u001B[0;32m<ipython-input-55-30c0f2ec8b65>\u001B[0m in \u001B[0;36m<module>\u001B[0;34m\u001B[0m\n\u001B[0;32m----> 1\u001B[0;31m \u001B[0moriginal_tmp\u001B[0m\u001B[0;34m[\u001B[0m\u001B[0;34m'DM_err_ratios'\u001B[0m\u001B[0;34m]\u001B[0m \u001B[0;34m=\u001B[0m \u001B[0moriginal_tmp\u001B[0m\u001B[0;34m[\u001B[0m\u001B[0;34m'Delta_Margin_err'\u001B[0m\u001B[0;34m]\u001B[0m \u001B[0;34m/\u001B[0m \u001B[0moriginal_tmp\u001B[0m\u001B[0;34m[\u001B[0m\u001B[0;34m'Delta_Margin_err_no_intercept'\u001B[0m\u001B[0;34m]\u001B[0m\u001B[0;34m\u001B[0m\u001B[0;34m\u001B[0m\u001B[0m\n\u001B[0m\u001B[1;32m      2\u001B[0m original_tmp['N_sales_err_ratios'] = original_tmp['N_prime_sales_err'] / original_tmp[\n\u001B[1;32m      3\u001B[0m     'N_prime_sales_err_no_intercept_err']\n\u001B[1;32m      4\u001B[0m \u001B[0moriginal_tmp\u001B[0m\u001B[0;34m[\u001B[0m\u001B[0;34m'DM_err_ratios_dw'\u001B[0m\u001B[0;34m]\u001B[0m \u001B[0;34m=\u001B[0m \u001B[0moriginal_tmp\u001B[0m\u001B[0;34m[\u001B[0m\u001B[0;34m'Delta_Margin_err'\u001B[0m\u001B[0;34m]\u001B[0m \u001B[0;34m/\u001B[0m \u001B[0moriginal_tmp\u001B[0m\u001B[0;34m[\u001B[0m\u001B[0;34m'Delta_Margin_err_no_del_week'\u001B[0m\u001B[0;34m]\u001B[0m\u001B[0;34m\u001B[0m\u001B[0;34m\u001B[0m\u001B[0m\n\u001B[1;32m      5\u001B[0m original_tmp['N_sales_err_ratios_dw'] = original_tmp['N_prime_sales_err'] / original_tmp[\n",
      "\u001B[0;32m~/anaconda3/envs/pythonProject/lib/python3.8/site-packages/pandas/core/frame.py\u001B[0m in \u001B[0;36m__getitem__\u001B[0;34m(self, key)\u001B[0m\n\u001B[1;32m   2897\u001B[0m             \u001B[0;32mif\u001B[0m \u001B[0mself\u001B[0m\u001B[0;34m.\u001B[0m\u001B[0mcolumns\u001B[0m\u001B[0;34m.\u001B[0m\u001B[0mnlevels\u001B[0m \u001B[0;34m>\u001B[0m \u001B[0;36m1\u001B[0m\u001B[0;34m:\u001B[0m\u001B[0;34m\u001B[0m\u001B[0;34m\u001B[0m\u001B[0m\n\u001B[1;32m   2898\u001B[0m                 \u001B[0;32mreturn\u001B[0m \u001B[0mself\u001B[0m\u001B[0;34m.\u001B[0m\u001B[0m_getitem_multilevel\u001B[0m\u001B[0;34m(\u001B[0m\u001B[0mkey\u001B[0m\u001B[0;34m)\u001B[0m\u001B[0;34m\u001B[0m\u001B[0;34m\u001B[0m\u001B[0m\n\u001B[0;32m-> 2899\u001B[0;31m             \u001B[0mindexer\u001B[0m \u001B[0;34m=\u001B[0m \u001B[0mself\u001B[0m\u001B[0;34m.\u001B[0m\u001B[0mcolumns\u001B[0m\u001B[0;34m.\u001B[0m\u001B[0mget_loc\u001B[0m\u001B[0;34m(\u001B[0m\u001B[0mkey\u001B[0m\u001B[0;34m)\u001B[0m\u001B[0;34m\u001B[0m\u001B[0;34m\u001B[0m\u001B[0m\n\u001B[0m\u001B[1;32m   2900\u001B[0m             \u001B[0;32mif\u001B[0m \u001B[0mis_integer\u001B[0m\u001B[0;34m(\u001B[0m\u001B[0mindexer\u001B[0m\u001B[0;34m)\u001B[0m\u001B[0;34m:\u001B[0m\u001B[0;34m\u001B[0m\u001B[0;34m\u001B[0m\u001B[0m\n\u001B[1;32m   2901\u001B[0m                 \u001B[0mindexer\u001B[0m \u001B[0;34m=\u001B[0m \u001B[0;34m[\u001B[0m\u001B[0mindexer\u001B[0m\u001B[0;34m]\u001B[0m\u001B[0;34m\u001B[0m\u001B[0;34m\u001B[0m\u001B[0m\n",
      "\u001B[0;32m~/anaconda3/envs/pythonProject/lib/python3.8/site-packages/pandas/core/indexes/base.py\u001B[0m in \u001B[0;36mget_loc\u001B[0;34m(self, key, method, tolerance)\u001B[0m\n\u001B[1;32m   2889\u001B[0m                 \u001B[0;32mreturn\u001B[0m \u001B[0mself\u001B[0m\u001B[0;34m.\u001B[0m\u001B[0m_engine\u001B[0m\u001B[0;34m.\u001B[0m\u001B[0mget_loc\u001B[0m\u001B[0;34m(\u001B[0m\u001B[0mcasted_key\u001B[0m\u001B[0;34m)\u001B[0m\u001B[0;34m\u001B[0m\u001B[0;34m\u001B[0m\u001B[0m\n\u001B[1;32m   2890\u001B[0m             \u001B[0;32mexcept\u001B[0m \u001B[0mKeyError\u001B[0m \u001B[0;32mas\u001B[0m \u001B[0merr\u001B[0m\u001B[0;34m:\u001B[0m\u001B[0;34m\u001B[0m\u001B[0;34m\u001B[0m\u001B[0m\n\u001B[0;32m-> 2891\u001B[0;31m                 \u001B[0;32mraise\u001B[0m \u001B[0mKeyError\u001B[0m\u001B[0;34m(\u001B[0m\u001B[0mkey\u001B[0m\u001B[0;34m)\u001B[0m \u001B[0;32mfrom\u001B[0m \u001B[0merr\u001B[0m\u001B[0;34m\u001B[0m\u001B[0;34m\u001B[0m\u001B[0m\n\u001B[0m\u001B[1;32m   2892\u001B[0m \u001B[0;34m\u001B[0m\u001B[0m\n\u001B[1;32m   2893\u001B[0m         \u001B[0;32mif\u001B[0m \u001B[0mtolerance\u001B[0m \u001B[0;32mis\u001B[0m \u001B[0;32mnot\u001B[0m \u001B[0;32mNone\u001B[0m\u001B[0;34m:\u001B[0m\u001B[0;34m\u001B[0m\u001B[0;34m\u001B[0m\u001B[0m\n",
      "\u001B[0;31mKeyError\u001B[0m: 'Delta_Margin_err'"
     ]
    }
   ],
   "source": [
    "original_tmp['DM_err_ratios'] = original_tmp['Delta_Margin_err'] / original_tmp['Delta_Margin_err_no_intercept']\n",
    "original_tmp['N_sales_err_ratios'] = original_tmp['N_prime_sales_err'] / original_tmp[\n",
    "    'N_prime_sales_err_no_intercept_err']\n",
    "original_tmp['DM_err_ratios_dw'] = original_tmp['Delta_Margin_err'] / original_tmp['Delta_Margin_err_no_del_week']\n",
    "original_tmp['N_sales_err_ratios_dw'] = original_tmp['N_prime_sales_err'] / original_tmp[\n",
    "    'N_prime_sales_err_no_del_week']"
   ],
   "metadata": {
    "collapsed": false,
    "pycharm": {
     "name": "#%%\n"
    }
   }
  },
  {
   "cell_type": "code",
   "execution_count": null,
   "outputs": [],
   "source": [
    "print(original_tmp['DM_err_ratios'].mean(), original_tmp['N_sales_err_ratios'].mean())\n",
    "print(original_tmp['DM_err_ratios_dw'].mean(), original_tmp['N_sales_err_ratios_dw'].mean())"
   ],
   "metadata": {
    "collapsed": false,
    "pycharm": {
     "name": "#%%\n"
    }
   }
  },
  {
   "cell_type": "code",
   "execution_count": 141,
   "outputs": [
    {
     "data": {
      "text/plain": "767     1.822608\n1407    1.785157\n3       1.780338\n479     1.746467\n1246    1.745130\n1112    1.739136\n773     1.732356\n723     1.704401\n2053    1.703977\n1805    1.703507\nName: DM_err_ratios, dtype: float64"
     },
     "execution_count": 141,
     "metadata": {},
     "output_type": "execute_result"
    }
   ],
   "source": [
    "#original_tmp['DM_err_ratios'].nsmallest(10)\n",
    "#original_tmp['DM_err_ratios'].nlargest(10)"
   ],
   "metadata": {
    "collapsed": false,
    "pycharm": {
     "name": "#%%\n"
    }
   }
  },
  {
   "cell_type": "code",
   "execution_count": null,
   "outputs": [],
   "source": [
    "list_of_columns_up = ['item_code', 'avg_conv_rate', 'avg_unique_views', 'last_date', 'last_price', 'price_up', 'PE',\n",
    "                      'PE_err', 'Sales_PE', 'Sales_PE_err', 'Delta_price', 'pc2', 'avg_sales', 'avg_sales_up',\n",
    "                      'avg_sales_err_up', 'Margin_base', 'Margin_up', 'Group_flag']\n",
    "list_of_columns_down = ['item_code', 'avg_conv_rate', 'avg_unique_views', 'last_date', 'last_price', 'price_down', 'PE',\n",
    "                        'PE_err', 'Sales_PE', 'Sales_PE_err', 'Delta_price', 'pc2', 'avg_sales', 'avg_sales_down',\n",
    "                        'avg_sales_err_down', 'Margin_base', 'Margin_down', 'Group_flag']\n",
    "create_auxiliary_var(original_df)\n",
    "for inc in [0.01, 0.02, 0.03, 0.04, 0.05, 0.1, 0.15, 0.2, 0.25, 0.3]:\n",
    "    print('Increment = ' + str(inc))\n",
    "    if inc == 0.01:\n",
    "        create_Margin(inc, original_df, 'up')\n",
    "        create_Margin(inc, original_df, 'down')\n",
    "        classify(original_df)\n",
    "        tmp_df = tmp_df.append(original_df[original_df['Group_flag'] == 'neutral'])\n",
    "        original_df_up = original_df_up.append(original_df[original_df['Group_flag'] == 'up'])\n",
    "        original_df_up = original_df_up[list_of_columns_up]\n",
    "        original_df_down = original_df_down.append(original_df[original_df['Group_flag'] == 'down'])\n",
    "        original_df_down = original_df_down[list_of_columns_down]\n",
    "        #print('tmp\\n',tmp_df[list_of_columns].head())\n",
    "        #print('up\\n', original_df_up[list_of_columns].head())\n",
    "        #print('down\\n',original_df_down[list_of_columns].head())\n",
    "\n",
    "    if inc > 0.01:\n",
    "        create_Margin(inc, original_df_up, 'up')\n",
    "        create_Margin(inc, original_df_down, 'down')\n",
    "        classify_up(original_df_up)\n",
    "        classify_down(original_df_down)\n",
    "        tmp_df = tmp_df.append(original_df_up[original_df_up['Group_flag'] == 'neutral_up'])\n",
    "        tmp_df = tmp_df.append(original_df_down[original_df_down['Group_flag'] == 'neutral_down'])\n",
    "        original_df_up = original_df_up[original_df_up['Group_flag'] == 'up']\n",
    "        original_df_down = original_df_down[original_df_down['Group_flag'] == 'down']\n",
    "        #print('tmp\\n',tmp_df[list_of_columns].head())\n",
    "        #print('up\\n', original_df_up[list_of_columns].head())\n",
    "        #print('down\\n',original_df_down[list_of_columns].head())\n",
    "    original_df_down['Margin_base'] = original_df_down['Margin_down']\n",
    "    original_df_up['Margin_base'] = original_df_up['Margin_up']\n",
    "\n",
    "    print(len(tmp_df.index))\n",
    "    print(len(original_df_up.index))\n",
    "    print(len(original_df_down.index))"
   ],
   "metadata": {
    "collapsed": false,
    "pycharm": {
     "name": "#%%\n"
    }
   }
  },
  {
   "cell_type": "code",
   "execution_count": null,
   "outputs": [],
   "source": [
    "tmp_df\n",
    "#print(or_filt_df[or_filt_df['Group_flag'] =='down'])\n",
    "#print(or_filt_df[or_filt_df['Group_flag'] =='up'])\n",
    "#print(or_filt_df[or_filt_df['Group_flag'] =='neutral'])"
   ],
   "metadata": {
    "collapsed": false,
    "pycharm": {
     "name": "#%%\n"
    }
   }
  },
  {
   "cell_type": "code",
   "execution_count": null,
   "outputs": [],
   "source": [
    "tmp_df.set_index(['Group_flag', 'item_code']).count(level='Group_flag')\n",
    "#554 neutral, 4 down ,440 up"
   ],
   "metadata": {
    "collapsed": false,
    "pycharm": {
     "name": "#%%\n"
    }
   }
  },
  {
   "cell_type": "code",
   "execution_count": null,
   "outputs": [],
   "source": [
    "tmp_df['Margin_base'] = df_merged['Margin_base']\n",
    "tmp_df.head()\n",
    "#df_final_spark.head(400)\n"
   ],
   "metadata": {
    "collapsed": false,
    "pycharm": {
     "name": "#%%\n"
    }
   }
  },
  {
   "cell_type": "code",
   "execution_count": null,
   "outputs": [],
   "source": [
    "#tmp_df[['item_code','avg_conv_rate','last_price','PE','PE_err','has_enough_stat','pc2','price_up','price_down','Margin_base','Margin_up','Margin_err_up','Margin_down','Margin_err_down','Group_flag']].head(400)\n"
   ],
   "metadata": {
    "collapsed": false,
    "pycharm": {
     "name": "#%%\n"
    }
   }
  },
  {
   "cell_type": "code",
   "execution_count": null,
   "outputs": [],
   "source": [
    "tmp_df = tmp_df.sort_index()"
   ],
   "metadata": {
    "collapsed": false,
    "pycharm": {
     "name": "#%%\n"
    }
   }
  },
  {
   "cell_type": "code",
   "execution_count": null,
   "outputs": [],
   "source": [
    "#I AM HERE NEED TO UPDATE THIS\n",
    "tmp_df['Margin_rate_to_base'] = np.where(tmp_df['Group_flag'] == 'neutral', 0.,\n",
    "                                         np.where(tmp_df['Group_flag'] == 'neutral_up',\n",
    "                                                  np.log(tmp_df['Margin_up'] / tmp_df['Margin_base']),\n",
    "                                                  np.log(tmp_df['Margin_down'] / tmp_df['Margin_base'])))\n",
    "#tmp_df['Margin_rate_to_last'] = np.log(tmp_df['Margin_down']/tmp_df['Margin_last'])"
   ],
   "metadata": {
    "collapsed": false,
    "pycharm": {
     "name": "#%%\n"
    }
   }
  },
  {
   "cell_type": "code",
   "execution_count": null,
   "outputs": [],
   "source": [
    "list_of_columns_down.append('Margin_err_down')"
   ],
   "metadata": {
    "collapsed": false,
    "pycharm": {
     "name": "#%%\n"
    }
   }
  },
  {
   "cell_type": "code",
   "execution_count": null,
   "outputs": [],
   "source": [
    "list_of_columns_up.append('Margin_err_up')"
   ],
   "metadata": {
    "collapsed": false,
    "pycharm": {
     "name": "#%%\n"
    }
   }
  },
  {
   "cell_type": "code",
   "execution_count": null,
   "outputs": [],
   "source": [
    "tmp_df[list_of_columns_down]\n",
    "\n"
   ],
   "metadata": {
    "collapsed": false,
    "pycharm": {
     "name": "#%%\n"
    }
   }
  },
  {
   "cell_type": "code",
   "execution_count": null,
   "outputs": [],
   "source": [
    "tmp_df[list_of_columns_up]"
   ],
   "metadata": {
    "collapsed": false,
    "pycharm": {
     "name": "#%%\n"
    }
   }
  },
  {
   "cell_type": "code",
   "execution_count": null,
   "outputs": [],
   "source": [
    "#print(tmp_df['Margin_rate_to_base'].mean()*100)"
   ],
   "metadata": {
    "collapsed": false,
    "pycharm": {
     "name": "#%%\n"
    }
   }
  },
  {
   "cell_type": "code",
   "execution_count": null,
   "outputs": [],
   "source": [
    "tmp_df.to_csv('../raw_data/Excel_files/Margin_result_Sales_PE.csv')"
   ],
   "metadata": {
    "collapsed": false,
    "pycharm": {
     "name": "#%%\n"
    }
   }
  },
  {
   "cell_type": "code",
   "execution_count": null,
   "outputs": [],
   "source": [
    "tmp_df_only_change = tmp_df[tmp_df['Group_flag'] != 'neutral']\n"
   ],
   "metadata": {
    "collapsed": false,
    "pycharm": {
     "name": "#%%\n"
    }
   }
  },
  {
   "cell_type": "code",
   "execution_count": null,
   "outputs": [],
   "source": [
    "tmp_df_only_change['Margin_rate_to_base'].mean()"
   ],
   "metadata": {
    "collapsed": false,
    "pycharm": {
     "name": "#%%\n"
    }
   }
  },
  {
   "cell_type": "code",
   "execution_count": null,
   "outputs": [],
   "source": [
    "tmp_df_only_change['Margin_rate_to_base'].nlargest(10)\n"
   ],
   "metadata": {
    "collapsed": false,
    "pycharm": {
     "name": "#%%\n"
    }
   }
  },
  {
   "cell_type": "code",
   "execution_count": null,
   "outputs": [],
   "source": [
    "tmp_df_only_change['Margin_rate_to_base'].median()\n",
    "\n",
    "\n"
   ],
   "metadata": {
    "collapsed": false,
    "pycharm": {
     "name": "#%%\n"
    }
   }
  }
 ],
 "metadata": {
  "kernelspec": {
   "display_name": "Python 3",
   "language": "python",
   "name": "python3"
  },
  "language_info": {
   "codemirror_mode": {
    "name": "ipython",
    "version": 2
   },
   "file_extension": ".py",
   "mimetype": "text/x-python",
   "name": "python",
   "nbconvert_exporter": "python",
   "pygments_lexer": "ipython2",
   "version": "2.7.6"
  }
 },
 "nbformat": 4,
 "nbformat_minor": 0
}