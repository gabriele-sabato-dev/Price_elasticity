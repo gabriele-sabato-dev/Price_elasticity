{
 "cells": [
  {
   "cell_type": "code",
   "execution_count": 1,
   "outputs": [],
   "source": [
    "from pyspark.sql import SparkSession\n",
    "from pyspark.sql import functions as F\n",
    "import pandas as pd\n",
    "import matplotlib.pyplot as plt\n",
    "import matplotlib.lines as mlines\n"
   ],
   "metadata": {
    "collapsed": false,
    "pycharm": {
     "name": "#%%\n"
    }
   }
  },
  {
   "cell_type": "code",
   "execution_count": 2,
   "outputs": [],
   "source": [
    "spark = SparkSession.builder.master('local').config('spark.driver.memory', '32g').appName(\n",
    "    'Read_file').getOrCreate()\n"
   ],
   "metadata": {
    "collapsed": false,
    "pycharm": {
     "name": "#%%\n"
    }
   }
  },
  {
   "cell_type": "code",
   "execution_count": 3,
   "outputs": [],
   "source": [
    "pe_result = spark.read.parquet(\n",
    "    '/Users/gabriele.sabato/Downloads/part-00000-fe80a58a-b6f6-4a32-b099-43e41c984e04-c000.snappy.parquet')"
   ],
   "metadata": {
    "collapsed": false,
    "pycharm": {
     "name": "#%%\n"
    }
   }
  },
  {
   "cell_type": "code",
   "execution_count": 24,
   "outputs": [
    {
     "name": "stdout",
     "output_type": "stream",
     "text": [
      "+--------+------------+--------+------------+---------+-------------+------------+---------------+\n",
      "|Sales_PE|Sales_PE_err|del_week|del_week_err|intercept|intercept_err|Cluster_size|has_enough_stat|\n",
      "+--------+------------+--------+------------+---------+-------------+------------+---------------+\n",
      "| -1.1882|      0.4801|  -0.326|      0.1303|   4.8507|       1.8369|           2|          false|\n",
      "| -0.3762|      0.3814| -0.1054|      0.0858|   1.9975|       1.7758|           2|          false|\n",
      "| -0.3113|      0.1758| -0.0549|      0.0345|   1.7154|       0.8812|          10|          false|\n",
      "| -0.0518|      0.0849|   -0.01|      0.0264|    0.306|       0.2798|          13|          false|\n",
      "| -0.1576|      0.0856|  0.0063|      0.0074|   1.9749|       0.3956|          14|          false|\n",
      "| -0.1599|      0.1173|  0.0026|      0.0102|   0.9097|       0.6155|          15|          false|\n",
      "|  -0.277|      0.1093| -0.0048|       0.007|   1.5751|       0.5653|          15|          false|\n",
      "|  0.1581|      0.1083|  0.0295|      0.0324|  -0.4267|        0.308|           8|          false|\n",
      "|  0.0506|      0.1411|  -0.013|       0.039|   0.0109|       0.5166|          15|          false|\n",
      "|   0.426|      0.1019|  0.0548|      0.0319|  -1.2731|        0.328|          16|           true|\n",
      "| -0.1725|      0.1011|  0.0099|      0.0136|   1.0002|        0.446|          17|          false|\n",
      "|  0.0534|      0.0916|   0.002|      0.0085|  -0.1529|       0.4199|          17|          false|\n",
      "| -0.2379|      0.0927|  0.0039|      0.0404|   1.0275|       0.3482|          19|          false|\n",
      "| -0.0261|      0.1083|  0.0143|      0.0238|   0.0996|       0.3378|          17|          false|\n",
      "|  0.1787|      0.0795|  0.0066|      0.0158|  -0.4428|       0.2537|          16|          false|\n",
      "|  0.1774|      0.0988|  0.0701|       0.033|  -0.5109|       0.3182|          18|          false|\n",
      "| -0.1179|      0.1384|  0.0266|      0.0451|   0.6669|       0.4911|          12|          false|\n",
      "|  0.4172|       0.115|  0.0374|       0.036|  -1.0313|       0.3519|          16|           true|\n",
      "|  0.1076|      0.0747| -0.0048|       0.039|  -0.4243|       0.3157|          17|          false|\n",
      "|  -0.067|      0.0476| -5.0E-4|      0.0114|   0.2557|        0.179|          14|          false|\n",
      "+--------+------------+--------+------------+---------+-------------+------------+---------------+\n",
      "only showing top 20 rows\n",
      "\n"
     ]
    }
   ],
   "source": [
    "pe_result.show()"
   ],
   "metadata": {
    "collapsed": false,
    "pycharm": {
     "name": "#%%\n"
    }
   }
  },
  {
   "cell_type": "code",
   "execution_count": 5,
   "outputs": [],
   "source": [
    "def create_legend(flag={'blue': 'Items with sign stat', 'red': 'Items with not sign stat'}):\n",
    "    good_stat_leg = []\n",
    "    for key in flag.keys():\n",
    "        good_stat_leg.append(mlines.Line2D([], [], color=key, marker='o',\n",
    "                                           markersize=6, label=flag[key]))\n",
    "\n",
    "    plt.legend(handles=good_stat_leg)\n"
   ],
   "metadata": {
    "collapsed": false,
    "pycharm": {
     "name": "#%%\n"
    }
   }
  },
  {
   "cell_type": "code",
   "execution_count": 27,
   "outputs": [
    {
     "data": {
      "text/plain": "[('Sales_PE', 'double'),\n ('Sales_PE_err', 'double'),\n ('del_week', 'double'),\n ('del_week_err', 'double'),\n ('intercept', 'double'),\n ('intercept_err', 'double'),\n ('Cluster_size', 'bigint'),\n ('has_enough_stat', 'boolean')]"
     },
     "execution_count": 27,
     "metadata": {},
     "output_type": "execute_result"
    }
   ],
   "source": [
    "pe_result.dtypes"
   ],
   "metadata": {
    "collapsed": false,
    "pycharm": {
     "name": "#%%\n"
    }
   }
  },
  {
   "cell_type": "code",
   "execution_count": 6,
   "outputs": [],
   "source": [
    "a_df = pe_result.toPandas()"
   ],
   "metadata": {
    "collapsed": false,
    "pycharm": {
     "name": "#%%\n"
    }
   }
  },
  {
   "cell_type": "code",
   "execution_count": 30,
   "outputs": [
    {
     "data": {
      "text/plain": "Sales_PE           float64\nSales_PE_err       float64\ndel_week           float64\ndel_week_err       float64\nintercept          float64\nintercept_err      float64\nCluster_size         int64\nhas_enough_stat       bool\ndtype: object"
     },
     "execution_count": 30,
     "metadata": {},
     "output_type": "execute_result"
    }
   ],
   "source": [
    "a_df.dtypes"
   ],
   "metadata": {
    "collapsed": false,
    "pycharm": {
     "name": "#%%\n"
    }
   }
  },
  {
   "cell_type": "code",
   "execution_count": 34,
   "outputs": [
    {
     "data": {
      "text/plain": "Empty DataFrame\nColumns: [Sales_PE, Sales_PE_err, del_week, del_week_err, intercept, intercept_err, Cluster_size, has_enough_stat]\nIndex: []",
      "text/html": "<div>\n<style scoped>\n    .dataframe tbody tr th:only-of-type {\n        vertical-align: middle;\n    }\n\n    .dataframe tbody tr th {\n        vertical-align: top;\n    }\n\n    .dataframe thead th {\n        text-align: right;\n    }\n</style>\n<table border=\"1\" class=\"dataframe\">\n  <thead>\n    <tr style=\"text-align: right;\">\n      <th></th>\n      <th>Sales_PE</th>\n      <th>Sales_PE_err</th>\n      <th>del_week</th>\n      <th>del_week_err</th>\n      <th>intercept</th>\n      <th>intercept_err</th>\n      <th>Cluster_size</th>\n      <th>has_enough_stat</th>\n    </tr>\n  </thead>\n  <tbody>\n  </tbody>\n</table>\n</div>"
     },
     "execution_count": 34,
     "metadata": {},
     "output_type": "execute_result"
    }
   ],
   "source": [
    "a_df[a_df['has_enough_stat']==False]"
   ],
   "metadata": {
    "collapsed": false,
    "pycharm": {
     "name": "#%%\n"
    }
   }
  },
  {
   "cell_type": "code",
   "execution_count": 19,
   "outputs": [],
   "source": [
    "def create_N_items_cluster_plot(a_df, color: str, has_enough_stat=True):\n",
    "    pe_pd = a_df[a_df['has_enough_stat']==has_enough_stat]\n",
    "    plt.hist(pe_pd['Cluster_size'], color= color)\n",
    "    plt.xlabel('items per cluster')\n",
    "    create_legend({color: 'Items with enough stat'})"
   ],
   "metadata": {
    "collapsed": false,
    "pycharm": {
     "name": "#%%\n"
    }
   }
  },
  {
   "cell_type": "code",
   "execution_count": 20,
   "outputs": [
    {
     "data": {
      "text/plain": "<Figure size 432x288 with 1 Axes>",
      "image/png": "[encoded data removed]"
     },
     "metadata": {
      "needs_background": "light"
     },
     "output_type": "display_data"
    }
   ],
   "source": [
    "create_N_items_cluster_plot(a_df, 'blue', True)\n"
   ],
   "metadata": {
    "collapsed": false,
    "pycharm": {
     "name": "#%%\n"
    }
   }
  },
  {
   "cell_type": "code",
   "execution_count": 21,
   "outputs": [
    {
     "data": {
      "text/plain": "<Figure size 432x288 with 1 Axes>",
      "image/png": "[encoded data removed]"
     },
     "metadata": {
      "needs_background": "light"
     },
     "output_type": "display_data"
    }
   ],
   "source": [
    "create_N_items_cluster_plot(a_df, 'red', False)"
   ],
   "metadata": {
    "collapsed": false,
    "pycharm": {
     "name": "#%%\n"
    }
   }
  },
  {
   "cell_type": "code",
   "execution_count": 5,
   "outputs": [],
   "source": [
    "pe_result_true = (pe_result.\n",
    "                  where(F.col('has_enough_stat') == True)\n",
    "                  .selectExpr('*')\n",
    "                  )"
   ],
   "metadata": {
    "collapsed": false,
    "pycharm": {
     "name": "#%%\n"
    }
   }
  },
  {
   "cell_type": "code",
   "execution_count": 6,
   "outputs": [
    {
     "name": "stdout",
     "output_type": "stream",
     "text": [
      "+--------+------------+--------+------------+---------+-------------+------------+---------------+\n",
      "|Sales_PE|Sales_PE_err|del_week|del_week_err|intercept|intercept_err|Cluster_size|has_enough_stat|\n",
      "+--------+------------+--------+------------+---------+-------------+------------+---------------+\n",
      "|   0.426|      0.1019|  0.0548|      0.0319|  -1.2731|        0.328|          16|           true|\n",
      "|  0.4172|       0.115|  0.0374|       0.036|  -1.0313|       0.3519|          16|           true|\n",
      "| -0.1345|      0.0432|  0.0083|      0.0149|   0.5032|       0.1672|          18|           true|\n",
      "|  0.4992|      0.1405|  0.0349|       0.032|  -1.2706|       0.4276|          20|           true|\n",
      "|  0.7884|      0.1889| -0.0327|      0.0353|  -2.6997|       0.6968|          12|           true|\n",
      "|  0.5312|       0.157| -0.0441|       0.032|  -1.4784|       0.5326|          14|           true|\n",
      "|  0.4801|      0.1276|  0.0191|      0.0258|  -1.5655|       0.4694|          20|           true|\n",
      "| -0.2298|      0.0765| -0.0019|      0.0015|   1.6113|        0.527|          14|           true|\n",
      "| -0.4203|      0.1158| -0.0049|      0.0037|   1.6432|       0.4161|          17|           true|\n",
      "| -0.3957|      0.1245| -0.0081|      0.0047|   1.4948|        0.456|          16|           true|\n",
      "| -1.0904|      0.2912|    -0.0|      0.0077|   4.6444|       1.2022|          16|           true|\n",
      "| -0.8242|      0.1988| -0.0013|      0.0094|   3.5447|       0.8252|          18|           true|\n",
      "| -1.3215|      0.2737|  0.0015|      0.0141|     5.52|        1.129|          17|           true|\n",
      "| -1.6152|      0.3102| -0.0105|      0.0123|    6.821|       1.2814|          16|           true|\n",
      "| -1.1156|      0.2307| -0.0112|      0.0105|   4.6857|       0.9538|          19|           true|\n",
      "| -0.5987|       0.172| -0.0103|       0.009|   2.5523|        0.712|          17|           true|\n",
      "| -0.7615|      0.2097| -0.0137|       0.011|   3.3031|       0.8687|          18|           true|\n",
      "| -0.9782|      0.2206| -0.0179|      0.0128|   4.2918|        0.905|          15|           true|\n",
      "| -0.9975|       0.261| -0.0014|      0.0067|   4.4137|        1.083|          16|           true|\n",
      "|  -0.941|      0.2721| -8.0E-4|      0.0065|    4.179|       1.1292|          15|           true|\n",
      "+--------+------------+--------+------------+---------+-------------+------------+---------------+\n",
      "only showing top 20 rows\n",
      "\n"
     ]
    }
   ],
   "source": [
    "pe_result_true.show()"
   ],
   "metadata": {
    "collapsed": false,
    "pycharm": {
     "name": "#%%\n"
    }
   }
  },
  {
   "cell_type": "code",
   "execution_count": 9,
   "outputs": [
    {
     "name": "stdout",
     "output_type": "stream",
     "text": [
      "+--------+\n",
      "|count(1)|\n",
      "+--------+\n",
      "|     860|\n",
      "+--------+\n",
      "\n"
     ]
    }
   ],
   "source": [
    "pe_result_true.selectExpr('COUNT(*)').show()"
   ],
   "metadata": {
    "collapsed": false,
    "pycharm": {
     "name": "#%%\n"
    }
   }
  },
  {
   "cell_type": "code",
   "execution_count": null,
   "outputs": [],
   "source": [],
   "metadata": {
    "collapsed": false,
    "pycharm": {
     "name": "#%%\n"
    }
   }
  }
 ],
 "metadata": {
  "kernelspec": {
   "display_name": "Python 3",
   "language": "python",
   "name": "python3"
  },
  "language_info": {
   "codemirror_mode": {
    "name": "ipython",
    "version": 2
   },
   "file_extension": ".py",
   "mimetype": "text/x-python",
   "name": "python",
   "nbconvert_exporter": "python",
   "pygments_lexer": "ipython2",
   "version": "2.7.6"
  }
 },
 "nbformat": 4,
 "nbformat_minor": 0
}