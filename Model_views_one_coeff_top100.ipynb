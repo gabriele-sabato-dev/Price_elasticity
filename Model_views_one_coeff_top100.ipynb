{
 "cells": [
  {
   "cell_type": "code",
   "execution_count": 1,
   "metadata": {
    "pycharm": {
     "name": "#%%\n"
    }
   },
   "outputs": [
    {
     "data": {
      "text/plain": "<IPython.core.display.HTML object>",
      "text/html": "<style>.container { width:100% !important; }</style>"
     },
     "metadata": {},
     "output_type": "display_data"
    }
   ],
   "source": [
    "\n",
    "#IMPORTING SETUP PACKAGES\n",
    "import statsmodels.formula.api as smf\n",
    "import pandas as pd\n",
    "\n",
    "%matplotlib inline\n",
    "import matplotlib.pyplot as plt\n",
    "plt.style.use('seaborn-whitegrid')\n",
    "\n",
    "from IPython.core.display import display, HTML\n",
    "display(HTML(\"<style>.container { width:100% !important; }</style>\"))\n",
    "\n",
    "pd.set_option('display.max_rows', 500)\n",
    "\n"
   ]
  },
  {
   "cell_type": "code",
   "execution_count": 2,
   "metadata": {
    "pycharm": {
     "name": "#%%\n"
    }
   },
   "outputs": [],
   "source": [
    "df = pd.read_pickle('/Users/gabriele.sabato/PycharmProjects/raw_data/DataFrames/Top100_seller_YTD_group_by_item_visit.pickle')\n"
   ]
  },
  {
   "cell_type": "code",
   "execution_count": 3,
   "metadata": {
    "pycharm": {
     "name": "#%%q\n"
    }
   },
   "outputs": [
    {
     "name": "stdout",
     "output_type": "stream",
     "text": [
      "92\n"
     ]
    }
   ],
   "source": [
    "print(df.item_code.nunique())"
   ]
  },
  {
   "cell_type": "code",
   "execution_count": 4,
   "metadata": {
    "pycharm": {
     "name": "#%%\n"
    }
   },
   "outputs": [
    {
     "name": "stdout",
     "output_type": "stream",
     "text": [
      "min_date                  object\n",
      "max_date                  object\n",
      "item_code                 object\n",
      "item_price               float64\n",
      "delivery_weeks             int64\n",
      "avg_sales                float64\n",
      "avg_unique_views         float64\n",
      "conv_rate                float64\n",
      "bin                        int32\n",
      "item_parent_item_code     object\n",
      "item_main_category        object\n",
      "item_sub_category_1       object\n",
      "item_sub_category_2       object\n",
      "log_price                float64\n",
      "log_delivery_weeks       float64\n",
      "log_sales                float64\n",
      "log_avg_unique_views     float64\n",
      "log_conv_rate            float64\n",
      "dtype: object\n"
     ]
    }
   ],
   "source": [
    "print(df.dtypes)"
   ]
  },
  {
   "cell_type": "code",
   "execution_count": 5,
   "outputs": [
    {
     "data": {
      "text/plain": "<class 'statsmodels.iolib.summary.Summary'>\n\"\"\"\n                             WLS Regression Results                             \n================================================================================\nDep. Variable:     log_avg_unique_views   R-squared:                       0.764\nModel:                              WLS   Adj. R-squared:                  0.759\nMethod:                   Least Squares   F-statistic:                     156.8\nDate:                  Mon, 12 Apr 2021   Prob (F-statistic):               0.00\nTime:                          18:38:09   Log-Likelihood:                -4020.7\nNo. Observations:                  4592   AIC:                             8229.\nDf Residuals:                      4498   BIC:                             8834.\nDf Model:                            93                                         \nCovariance Type:              nonrobust                                         \n======================================================================================================\n                                         coef    std err          t      P>|t|      [0.025      0.975]\n------------------------------------------------------------------------------------------------------\nIntercept                             17.6662      0.595     29.705      0.000      16.500      18.832\nC(item_code)[T.000000001000007448]    -3.8215      0.176    -21.654      0.000      -4.167      -3.476\nC(item_code)[T.000000001000008010]    -2.0090      0.109    -18.386      0.000      -2.223      -1.795\nC(item_code)[T.000000001000008546]    -2.7927      0.127    -21.907      0.000      -3.043      -2.543\nC(item_code)[T.000000001000008699]    -2.5287      0.100    -25.228      0.000      -2.725      -2.332\nC(item_code)[T.000000001000008736]    -1.2762      0.080    -15.934      0.000      -1.433      -1.119\nC(item_code)[T.000000001000008754]    -1.3381      0.080    -16.631      0.000      -1.496      -1.180\nC(item_code)[T.000000001000008771]    -1.0932      0.078    -14.027      0.000      -1.246      -0.940\nC(item_code)[T.000000001000008798]    -0.1214      0.080     -1.515      0.130      -0.278       0.036\nC(item_code)[T.000000001000008809]    -1.3565      0.082    -16.535      0.000      -1.517      -1.196\nC(item_code)[T.000000001000008813]    -1.0547      0.078    -13.498      0.000      -1.208      -0.902\nC(item_code)[T.000000001000008846]    -1.9717      0.080    -24.574      0.000      -2.129      -1.814\nC(item_code)[T.000000001000008872]    -2.5701      0.125    -20.611      0.000      -2.815      -2.326\nC(item_code)[T.000000001000012497]    -0.7640      0.080     -9.538      0.000      -0.921      -0.607\nC(item_code)[T.000000001000015484]    -0.2956      0.079     -3.723      0.000      -0.451      -0.140\nC(item_code)[T.000000001000015488]     0.0401      0.079      0.506      0.613      -0.115       0.195\nC(item_code)[T.000000001000015496]    -0.4357      0.079     -5.500      0.000      -0.591      -0.280\nC(item_code)[T.000000001000015723]    -2.2150      0.112    -19.787      0.000      -2.434      -1.996\nC(item_code)[T.000000001000015756]    -2.9795      0.168    -17.718      0.000      -3.309      -2.650\nC(item_code)[T.000000001000015958]    -3.3264      0.175    -19.032      0.000      -3.669      -2.984\nC(item_code)[T.000000001000015959]    -3.7636      0.175    -21.529      0.000      -4.106      -3.421\nC(item_code)[T.000000001000015962]    -3.6063      0.181    -19.927      0.000      -3.961      -3.251\nC(item_code)[T.000000001000016019]    -3.9311      0.186    -21.099      0.000      -4.296      -3.566\nC(item_code)[T.000000001000016020]    -3.6420      0.186    -19.546      0.000      -4.007      -3.277\nC(item_code)[T.000000001000016021]    -3.1308      0.186    -16.805      0.000      -3.496      -2.766\nC(item_code)[T.000000001000016022]    -3.9472      0.187    -21.069      0.000      -4.314      -3.580\nC(item_code)[T.000000001000016101]    -3.4740      0.176    -19.753      0.000      -3.819      -3.129\nC(item_code)[T.000000001000016115]    -3.9565      0.181    -21.878      0.000      -4.311      -3.602\nC(item_code)[T.000000001000016133]    -3.4490      0.186    -18.516      0.000      -3.814      -3.084\nC(item_code)[T.000000001000016135]    -2.4872      0.112    -22.218      0.000      -2.707      -2.268\nC(item_code)[T.000000001000016139]    -3.0647      0.154    -19.917      0.000      -3.366      -2.763\nC(item_code)[T.000000001000021533]     0.0427      0.079      0.537      0.591      -0.113       0.198\nC(item_code)[T.000000001000021534]    -0.0165      0.079     -0.208      0.835      -0.172       0.139\nC(item_code)[T.000000001000021539]     0.5845      0.090      6.523      0.000       0.409       0.760\nC(item_code)[T.000000001000021540]     0.4928      0.089      5.525      0.000       0.318       0.668\nC(item_code)[T.000000001000021541]     0.1094      0.089      1.232      0.218      -0.065       0.284\nC(item_code)[T.000000001000021542]    -0.0980      0.089     -1.107      0.268      -0.272       0.076\nC(item_code)[T.000000001000021698]     0.4016      0.079      5.116      0.000       0.248       0.556\nC(item_code)[T.000000001000021703]    -0.8626      0.078    -11.053      0.000      -1.016      -0.710\nC(item_code)[T.000000001000021718]    -0.0344      0.078     -0.440      0.660      -0.188       0.119\nC(item_code)[T.000000001000021719]     0.6294      0.078      8.064      0.000       0.476       0.782\nC(item_code)[T.000000001000021829]    -1.2135      0.079    -15.405      0.000      -1.368      -1.059\nC(item_code)[T.000000001000021833]    -0.7126      0.082     -8.640      0.000      -0.874      -0.551\nC(item_code)[T.000000001000021845]    -0.8057      0.081     -9.924      0.000      -0.965      -0.646\nC(item_code)[T.000000001000021904]    -2.9568      0.146    -20.315      0.000      -3.242      -2.671\nC(item_code)[T.000000001000022573]    -5.2540      0.191    -27.483      0.000      -5.629      -4.879\nC(item_code)[T.000000001000022586]    -4.9831      0.175    -28.481      0.000      -5.326      -4.640\nC(item_code)[T.000000001000022708]    -5.2436      0.243    -21.607      0.000      -5.719      -4.768\nC(item_code)[T.000000001000027371]    -0.1499      0.084     -1.792      0.073      -0.314       0.014\nC(item_code)[T.000000001000032236]    -0.5883      0.080     -7.320      0.000      -0.746      -0.431\nC(item_code)[T.000000001000032242]    -0.8456      0.080    -10.553      0.000      -1.003      -0.688\nC(item_code)[T.000000001000032622]    -2.3023      0.122    -18.851      0.000      -2.542      -2.063\nC(item_code)[T.000000001000032623]    -2.0890      0.119    -17.626      0.000      -2.321      -1.857\nC(item_code)[T.000000001000039246]    -2.5071      0.100    -25.178      0.000      -2.702      -2.312\nC(item_code)[T.000000001000051675]    -1.7047      0.105    -16.195      0.000      -1.911      -1.498\nC(item_code)[T.000000001000054946]    -0.9409      0.082    -11.502      0.000      -1.101      -0.781\nC(item_code)[T.000000001000054947]    -0.6916      0.083     -8.380      0.000      -0.853      -0.530\nC(item_code)[T.000000001000054983]    -0.5812      0.078     -7.417      0.000      -0.735      -0.428\nC(item_code)[T.000000001000054984]    -0.5943      0.078     -7.575      0.000      -0.748      -0.440\nC(item_code)[T.000000001000054995]    -1.3944      0.078    -17.772      0.000      -1.548      -1.241\nC(item_code)[T.000000001000054998]    -1.4036      0.078    -17.917      0.000      -1.557      -1.250\nC(item_code)[T.000000001000055017]    -1.1232      0.078    -14.328      0.000      -1.277      -0.970\nC(item_code)[T.000000001000055018]    -1.2126      0.078    -15.478      0.000      -1.366      -1.059\nC(item_code)[T.000000001000056742]    -0.8103      0.081     -9.979      0.000      -0.970      -0.651\nC(item_code)[T.000000001000057499]    -2.7127      0.122    -22.293      0.000      -2.951      -2.474\nC(item_code)[T.000000001000062031]     1.1304      0.101     11.180      0.000       0.932       1.329\nC(item_code)[T.000000001000062032]    -0.2712      0.101     -2.679      0.007      -0.470      -0.073\nC(item_code)[T.000000001000062037]    -0.2869      0.103     -2.786      0.005      -0.489      -0.085\nC(item_code)[T.000000001000062061]    -0.6752      0.105     -6.459      0.000      -0.880      -0.470\nC(item_code)[T.000000001000064533]    -1.3144      0.080    -16.519      0.000      -1.470      -1.158\nC(item_code)[T.000000001000065733]    -2.4643      0.099    -24.790      0.000      -2.659      -2.269\nC(item_code)[T.000000001000073170]    -0.8126      0.093     -8.708      0.000      -0.996      -0.630\nC(item_code)[T.000000001000073207]    -1.5459      0.095    -16.270      0.000      -1.732      -1.360\nC(item_code)[T.000000001000076757]    -1.9464      0.095    -20.576      0.000      -2.132      -1.761\nC(item_code)[T.000000001000079668]    -2.2905      0.146    -15.679      0.000      -2.577      -2.004\nC(item_code)[T.000000001000086500]    -1.2602      0.109    -11.613      0.000      -1.473      -1.047\nC(item_code)[T.000000001000091265]    -2.6590      0.090    -29.692      0.000      -2.835      -2.483\nC(item_code)[T.000000001000091266]    -1.4847      0.084    -17.585      0.000      -1.650      -1.319\nC(item_code)[T.000000001000097071]    -1.6824      0.083    -20.332      0.000      -1.845      -1.520\nC(item_code)[T.000000001000113432]    -0.1638      0.078     -2.095      0.036      -0.317      -0.010\nC(item_code)[T.000000001000114123]    -2.5657      0.099    -25.843      0.000      -2.760      -2.371\nC(item_code)[T.000000001000117185]    -0.0764      0.081     -0.943      0.346      -0.235       0.082\nC(item_code)[T.000000001000117189]    -0.6717      0.081     -8.279      0.000      -0.831      -0.513\nC(item_code)[T.000000001000117276]    -3.5748      0.181    -19.776      0.000      -3.929      -3.220\nC(item_code)[T.000000001000121274]    -0.7108      0.080     -8.908      0.000      -0.867      -0.554\nC(item_code)[T.000000001000123214]    -3.5442      0.160    -22.129      0.000      -3.858      -3.230\nC(item_code)[T.000000001000123640]    -0.3763      0.079     -4.790      0.000      -0.530      -0.222\nC(item_code)[T.000000001000126041]    -1.3526      0.085    -15.823      0.000      -1.520      -1.185\nC(item_code)[T.000000001000127680]     0.7220      0.094      7.706      0.000       0.538       0.906\nC(item_code)[T.000000001000128696]    -1.2275      0.078    -15.676      0.000      -1.381      -1.074\nC(item_code)[T.000000001000131689]     0.0139      0.078      0.179      0.858      -0.139       0.167\nC(item_code)[T.000000001000172911]    -1.1624      0.089    -13.080      0.000      -1.337      -0.988\nlog_price                             -1.7603      0.089    -19.883      0.000      -1.934      -1.587\nlog_delivery_weeks                     0.2273      0.004     58.941      0.000       0.220       0.235\n==============================================================================\nOmnibus:                     1020.456   Durbin-Watson:                   1.657\nProb(Omnibus):                  0.000   Jarque-Bera (JB):            44453.156\nSkew:                          -0.143   Prob(JB):                         0.00\nKurtosis:                      18.240   Cond. No.                     1.16e+03\n==============================================================================\n\nNotes:\n[1] Standard Errors assume that the covariance matrix of the errors is correctly specified.\n[2] The condition number is large, 1.16e+03. This might indicate that there are\nstrong multicollinearity or other numerical problems.\n\"\"\"",
      "text/html": "<table class=\"simpletable\">\n<caption>WLS Regression Results</caption>\n<tr>\n  <th>Dep. Variable:</th>    <td>log_avg_unique_views</td> <th>  R-squared:         </th> <td>   0.764</td>\n</tr>\n<tr>\n  <th>Model:</th>                     <td>WLS</td>         <th>  Adj. R-squared:    </th> <td>   0.759</td>\n</tr>\n<tr>\n  <th>Method:</th>               <td>Least Squares</td>    <th>  F-statistic:       </th> <td>   156.8</td>\n</tr>\n<tr>\n  <th>Date:</th>               <td>Mon, 12 Apr 2021</td>   <th>  Prob (F-statistic):</th>  <td>  0.00</td> \n</tr>\n<tr>\n  <th>Time:</th>                   <td>18:38:09</td>       <th>  Log-Likelihood:    </th> <td> -4020.7</td>\n</tr>\n<tr>\n  <th>No. Observations:</th>        <td>  4592</td>        <th>  AIC:               </th> <td>   8229.</td>\n</tr>\n<tr>\n  <th>Df Residuals:</th>            <td>  4498</td>        <th>  BIC:               </th> <td>   8834.</td>\n</tr>\n<tr>\n  <th>Df Model:</th>                <td>    93</td>        <th>                     </th>     <td> </td>   \n</tr>\n<tr>\n  <th>Covariance Type:</th>        <td>nonrobust</td>      <th>                     </th>     <td> </td>   \n</tr>\n</table>\n<table class=\"simpletable\">\n<tr>\n                   <td></td>                     <th>coef</th>     <th>std err</th>      <th>t</th>      <th>P>|t|</th>  <th>[0.025</th>    <th>0.975]</th>  \n</tr>\n<tr>\n  <th>Intercept</th>                          <td>   17.6662</td> <td>    0.595</td> <td>   29.705</td> <td> 0.000</td> <td>   16.500</td> <td>   18.832</td>\n</tr>\n<tr>\n  <th>C(item_code)[T.000000001000007448]</th> <td>   -3.8215</td> <td>    0.176</td> <td>  -21.654</td> <td> 0.000</td> <td>   -4.167</td> <td>   -3.476</td>\n</tr>\n<tr>\n  <th>C(item_code)[T.000000001000008010]</th> <td>   -2.0090</td> <td>    0.109</td> <td>  -18.386</td> <td> 0.000</td> <td>   -2.223</td> <td>   -1.795</td>\n</tr>\n<tr>\n  <th>C(item_code)[T.000000001000008546]</th> <td>   -2.7927</td> <td>    0.127</td> <td>  -21.907</td> <td> 0.000</td> <td>   -3.043</td> <td>   -2.543</td>\n</tr>\n<tr>\n  <th>C(item_code)[T.000000001000008699]</th> <td>   -2.5287</td> <td>    0.100</td> <td>  -25.228</td> <td> 0.000</td> <td>   -2.725</td> <td>   -2.332</td>\n</tr>\n<tr>\n  <th>C(item_code)[T.000000001000008736]</th> <td>   -1.2762</td> <td>    0.080</td> <td>  -15.934</td> <td> 0.000</td> <td>   -1.433</td> <td>   -1.119</td>\n</tr>\n<tr>\n  <th>C(item_code)[T.000000001000008754]</th> <td>   -1.3381</td> <td>    0.080</td> <td>  -16.631</td> <td> 0.000</td> <td>   -1.496</td> <td>   -1.180</td>\n</tr>\n<tr>\n  <th>C(item_code)[T.000000001000008771]</th> <td>   -1.0932</td> <td>    0.078</td> <td>  -14.027</td> <td> 0.000</td> <td>   -1.246</td> <td>   -0.940</td>\n</tr>\n<tr>\n  <th>C(item_code)[T.000000001000008798]</th> <td>   -0.1214</td> <td>    0.080</td> <td>   -1.515</td> <td> 0.130</td> <td>   -0.278</td> <td>    0.036</td>\n</tr>\n<tr>\n  <th>C(item_code)[T.000000001000008809]</th> <td>   -1.3565</td> <td>    0.082</td> <td>  -16.535</td> <td> 0.000</td> <td>   -1.517</td> <td>   -1.196</td>\n</tr>\n<tr>\n  <th>C(item_code)[T.000000001000008813]</th> <td>   -1.0547</td> <td>    0.078</td> <td>  -13.498</td> <td> 0.000</td> <td>   -1.208</td> <td>   -0.902</td>\n</tr>\n<tr>\n  <th>C(item_code)[T.000000001000008846]</th> <td>   -1.9717</td> <td>    0.080</td> <td>  -24.574</td> <td> 0.000</td> <td>   -2.129</td> <td>   -1.814</td>\n</tr>\n<tr>\n  <th>C(item_code)[T.000000001000008872]</th> <td>   -2.5701</td> <td>    0.125</td> <td>  -20.611</td> <td> 0.000</td> <td>   -2.815</td> <td>   -2.326</td>\n</tr>\n<tr>\n  <th>C(item_code)[T.000000001000012497]</th> <td>   -0.7640</td> <td>    0.080</td> <td>   -9.538</td> <td> 0.000</td> <td>   -0.921</td> <td>   -0.607</td>\n</tr>\n<tr>\n  <th>C(item_code)[T.000000001000015484]</th> <td>   -0.2956</td> <td>    0.079</td> <td>   -3.723</td> <td> 0.000</td> <td>   -0.451</td> <td>   -0.140</td>\n</tr>\n<tr>\n  <th>C(item_code)[T.000000001000015488]</th> <td>    0.0401</td> <td>    0.079</td> <td>    0.506</td> <td> 0.613</td> <td>   -0.115</td> <td>    0.195</td>\n</tr>\n<tr>\n  <th>C(item_code)[T.000000001000015496]</th> <td>   -0.4357</td> <td>    0.079</td> <td>   -5.500</td> <td> 0.000</td> <td>   -0.591</td> <td>   -0.280</td>\n</tr>\n<tr>\n  <th>C(item_code)[T.000000001000015723]</th> <td>   -2.2150</td> <td>    0.112</td> <td>  -19.787</td> <td> 0.000</td> <td>   -2.434</td> <td>   -1.996</td>\n</tr>\n<tr>\n  <th>C(item_code)[T.000000001000015756]</th> <td>   -2.9795</td> <td>    0.168</td> <td>  -17.718</td> <td> 0.000</td> <td>   -3.309</td> <td>   -2.650</td>\n</tr>\n<tr>\n  <th>C(item_code)[T.000000001000015958]</th> <td>   -3.3264</td> <td>    0.175</td> <td>  -19.032</td> <td> 0.000</td> <td>   -3.669</td> <td>   -2.984</td>\n</tr>\n<tr>\n  <th>C(item_code)[T.000000001000015959]</th> <td>   -3.7636</td> <td>    0.175</td> <td>  -21.529</td> <td> 0.000</td> <td>   -4.106</td> <td>   -3.421</td>\n</tr>\n<tr>\n  <th>C(item_code)[T.000000001000015962]</th> <td>   -3.6063</td> <td>    0.181</td> <td>  -19.927</td> <td> 0.000</td> <td>   -3.961</td> <td>   -3.251</td>\n</tr>\n<tr>\n  <th>C(item_code)[T.000000001000016019]</th> <td>   -3.9311</td> <td>    0.186</td> <td>  -21.099</td> <td> 0.000</td> <td>   -4.296</td> <td>   -3.566</td>\n</tr>\n<tr>\n  <th>C(item_code)[T.000000001000016020]</th> <td>   -3.6420</td> <td>    0.186</td> <td>  -19.546</td> <td> 0.000</td> <td>   -4.007</td> <td>   -3.277</td>\n</tr>\n<tr>\n  <th>C(item_code)[T.000000001000016021]</th> <td>   -3.1308</td> <td>    0.186</td> <td>  -16.805</td> <td> 0.000</td> <td>   -3.496</td> <td>   -2.766</td>\n</tr>\n<tr>\n  <th>C(item_code)[T.000000001000016022]</th> <td>   -3.9472</td> <td>    0.187</td> <td>  -21.069</td> <td> 0.000</td> <td>   -4.314</td> <td>   -3.580</td>\n</tr>\n<tr>\n  <th>C(item_code)[T.000000001000016101]</th> <td>   -3.4740</td> <td>    0.176</td> <td>  -19.753</td> <td> 0.000</td> <td>   -3.819</td> <td>   -3.129</td>\n</tr>\n<tr>\n  <th>C(item_code)[T.000000001000016115]</th> <td>   -3.9565</td> <td>    0.181</td> <td>  -21.878</td> <td> 0.000</td> <td>   -4.311</td> <td>   -3.602</td>\n</tr>\n<tr>\n  <th>C(item_code)[T.000000001000016133]</th> <td>   -3.4490</td> <td>    0.186</td> <td>  -18.516</td> <td> 0.000</td> <td>   -3.814</td> <td>   -3.084</td>\n</tr>\n<tr>\n  <th>C(item_code)[T.000000001000016135]</th> <td>   -2.4872</td> <td>    0.112</td> <td>  -22.218</td> <td> 0.000</td> <td>   -2.707</td> <td>   -2.268</td>\n</tr>\n<tr>\n  <th>C(item_code)[T.000000001000016139]</th> <td>   -3.0647</td> <td>    0.154</td> <td>  -19.917</td> <td> 0.000</td> <td>   -3.366</td> <td>   -2.763</td>\n</tr>\n<tr>\n  <th>C(item_code)[T.000000001000021533]</th> <td>    0.0427</td> <td>    0.079</td> <td>    0.537</td> <td> 0.591</td> <td>   -0.113</td> <td>    0.198</td>\n</tr>\n<tr>\n  <th>C(item_code)[T.000000001000021534]</th> <td>   -0.0165</td> <td>    0.079</td> <td>   -0.208</td> <td> 0.835</td> <td>   -0.172</td> <td>    0.139</td>\n</tr>\n<tr>\n  <th>C(item_code)[T.000000001000021539]</th> <td>    0.5845</td> <td>    0.090</td> <td>    6.523</td> <td> 0.000</td> <td>    0.409</td> <td>    0.760</td>\n</tr>\n<tr>\n  <th>C(item_code)[T.000000001000021540]</th> <td>    0.4928</td> <td>    0.089</td> <td>    5.525</td> <td> 0.000</td> <td>    0.318</td> <td>    0.668</td>\n</tr>\n<tr>\n  <th>C(item_code)[T.000000001000021541]</th> <td>    0.1094</td> <td>    0.089</td> <td>    1.232</td> <td> 0.218</td> <td>   -0.065</td> <td>    0.284</td>\n</tr>\n<tr>\n  <th>C(item_code)[T.000000001000021542]</th> <td>   -0.0980</td> <td>    0.089</td> <td>   -1.107</td> <td> 0.268</td> <td>   -0.272</td> <td>    0.076</td>\n</tr>\n<tr>\n  <th>C(item_code)[T.000000001000021698]</th> <td>    0.4016</td> <td>    0.079</td> <td>    5.116</td> <td> 0.000</td> <td>    0.248</td> <td>    0.556</td>\n</tr>\n<tr>\n  <th>C(item_code)[T.000000001000021703]</th> <td>   -0.8626</td> <td>    0.078</td> <td>  -11.053</td> <td> 0.000</td> <td>   -1.016</td> <td>   -0.710</td>\n</tr>\n<tr>\n  <th>C(item_code)[T.000000001000021718]</th> <td>   -0.0344</td> <td>    0.078</td> <td>   -0.440</td> <td> 0.660</td> <td>   -0.188</td> <td>    0.119</td>\n</tr>\n<tr>\n  <th>C(item_code)[T.000000001000021719]</th> <td>    0.6294</td> <td>    0.078</td> <td>    8.064</td> <td> 0.000</td> <td>    0.476</td> <td>    0.782</td>\n</tr>\n<tr>\n  <th>C(item_code)[T.000000001000021829]</th> <td>   -1.2135</td> <td>    0.079</td> <td>  -15.405</td> <td> 0.000</td> <td>   -1.368</td> <td>   -1.059</td>\n</tr>\n<tr>\n  <th>C(item_code)[T.000000001000021833]</th> <td>   -0.7126</td> <td>    0.082</td> <td>   -8.640</td> <td> 0.000</td> <td>   -0.874</td> <td>   -0.551</td>\n</tr>\n<tr>\n  <th>C(item_code)[T.000000001000021845]</th> <td>   -0.8057</td> <td>    0.081</td> <td>   -9.924</td> <td> 0.000</td> <td>   -0.965</td> <td>   -0.646</td>\n</tr>\n<tr>\n  <th>C(item_code)[T.000000001000021904]</th> <td>   -2.9568</td> <td>    0.146</td> <td>  -20.315</td> <td> 0.000</td> <td>   -3.242</td> <td>   -2.671</td>\n</tr>\n<tr>\n  <th>C(item_code)[T.000000001000022573]</th> <td>   -5.2540</td> <td>    0.191</td> <td>  -27.483</td> <td> 0.000</td> <td>   -5.629</td> <td>   -4.879</td>\n</tr>\n<tr>\n  <th>C(item_code)[T.000000001000022586]</th> <td>   -4.9831</td> <td>    0.175</td> <td>  -28.481</td> <td> 0.000</td> <td>   -5.326</td> <td>   -4.640</td>\n</tr>\n<tr>\n  <th>C(item_code)[T.000000001000022708]</th> <td>   -5.2436</td> <td>    0.243</td> <td>  -21.607</td> <td> 0.000</td> <td>   -5.719</td> <td>   -4.768</td>\n</tr>\n<tr>\n  <th>C(item_code)[T.000000001000027371]</th> <td>   -0.1499</td> <td>    0.084</td> <td>   -1.792</td> <td> 0.073</td> <td>   -0.314</td> <td>    0.014</td>\n</tr>\n<tr>\n  <th>C(item_code)[T.000000001000032236]</th> <td>   -0.5883</td> <td>    0.080</td> <td>   -7.320</td> <td> 0.000</td> <td>   -0.746</td> <td>   -0.431</td>\n</tr>\n<tr>\n  <th>C(item_code)[T.000000001000032242]</th> <td>   -0.8456</td> <td>    0.080</td> <td>  -10.553</td> <td> 0.000</td> <td>   -1.003</td> <td>   -0.688</td>\n</tr>\n<tr>\n  <th>C(item_code)[T.000000001000032622]</th> <td>   -2.3023</td> <td>    0.122</td> <td>  -18.851</td> <td> 0.000</td> <td>   -2.542</td> <td>   -2.063</td>\n</tr>\n<tr>\n  <th>C(item_code)[T.000000001000032623]</th> <td>   -2.0890</td> <td>    0.119</td> <td>  -17.626</td> <td> 0.000</td> <td>   -2.321</td> <td>   -1.857</td>\n</tr>\n<tr>\n  <th>C(item_code)[T.000000001000039246]</th> <td>   -2.5071</td> <td>    0.100</td> <td>  -25.178</td> <td> 0.000</td> <td>   -2.702</td> <td>   -2.312</td>\n</tr>\n<tr>\n  <th>C(item_code)[T.000000001000051675]</th> <td>   -1.7047</td> <td>    0.105</td> <td>  -16.195</td> <td> 0.000</td> <td>   -1.911</td> <td>   -1.498</td>\n</tr>\n<tr>\n  <th>C(item_code)[T.000000001000054946]</th> <td>   -0.9409</td> <td>    0.082</td> <td>  -11.502</td> <td> 0.000</td> <td>   -1.101</td> <td>   -0.781</td>\n</tr>\n<tr>\n  <th>C(item_code)[T.000000001000054947]</th> <td>   -0.6916</td> <td>    0.083</td> <td>   -8.380</td> <td> 0.000</td> <td>   -0.853</td> <td>   -0.530</td>\n</tr>\n<tr>\n  <th>C(item_code)[T.000000001000054983]</th> <td>   -0.5812</td> <td>    0.078</td> <td>   -7.417</td> <td> 0.000</td> <td>   -0.735</td> <td>   -0.428</td>\n</tr>\n<tr>\n  <th>C(item_code)[T.000000001000054984]</th> <td>   -0.5943</td> <td>    0.078</td> <td>   -7.575</td> <td> 0.000</td> <td>   -0.748</td> <td>   -0.440</td>\n</tr>\n<tr>\n  <th>C(item_code)[T.000000001000054995]</th> <td>   -1.3944</td> <td>    0.078</td> <td>  -17.772</td> <td> 0.000</td> <td>   -1.548</td> <td>   -1.241</td>\n</tr>\n<tr>\n  <th>C(item_code)[T.000000001000054998]</th> <td>   -1.4036</td> <td>    0.078</td> <td>  -17.917</td> <td> 0.000</td> <td>   -1.557</td> <td>   -1.250</td>\n</tr>\n<tr>\n  <th>C(item_code)[T.000000001000055017]</th> <td>   -1.1232</td> <td>    0.078</td> <td>  -14.328</td> <td> 0.000</td> <td>   -1.277</td> <td>   -0.970</td>\n</tr>\n<tr>\n  <th>C(item_code)[T.000000001000055018]</th> <td>   -1.2126</td> <td>    0.078</td> <td>  -15.478</td> <td> 0.000</td> <td>   -1.366</td> <td>   -1.059</td>\n</tr>\n<tr>\n  <th>C(item_code)[T.000000001000056742]</th> <td>   -0.8103</td> <td>    0.081</td> <td>   -9.979</td> <td> 0.000</td> <td>   -0.970</td> <td>   -0.651</td>\n</tr>\n<tr>\n  <th>C(item_code)[T.000000001000057499]</th> <td>   -2.7127</td> <td>    0.122</td> <td>  -22.293</td> <td> 0.000</td> <td>   -2.951</td> <td>   -2.474</td>\n</tr>\n<tr>\n  <th>C(item_code)[T.000000001000062031]</th> <td>    1.1304</td> <td>    0.101</td> <td>   11.180</td> <td> 0.000</td> <td>    0.932</td> <td>    1.329</td>\n</tr>\n<tr>\n  <th>C(item_code)[T.000000001000062032]</th> <td>   -0.2712</td> <td>    0.101</td> <td>   -2.679</td> <td> 0.007</td> <td>   -0.470</td> <td>   -0.073</td>\n</tr>\n<tr>\n  <th>C(item_code)[T.000000001000062037]</th> <td>   -0.2869</td> <td>    0.103</td> <td>   -2.786</td> <td> 0.005</td> <td>   -0.489</td> <td>   -0.085</td>\n</tr>\n<tr>\n  <th>C(item_code)[T.000000001000062061]</th> <td>   -0.6752</td> <td>    0.105</td> <td>   -6.459</td> <td> 0.000</td> <td>   -0.880</td> <td>   -0.470</td>\n</tr>\n<tr>\n  <th>C(item_code)[T.000000001000064533]</th> <td>   -1.3144</td> <td>    0.080</td> <td>  -16.519</td> <td> 0.000</td> <td>   -1.470</td> <td>   -1.158</td>\n</tr>\n<tr>\n  <th>C(item_code)[T.000000001000065733]</th> <td>   -2.4643</td> <td>    0.099</td> <td>  -24.790</td> <td> 0.000</td> <td>   -2.659</td> <td>   -2.269</td>\n</tr>\n<tr>\n  <th>C(item_code)[T.000000001000073170]</th> <td>   -0.8126</td> <td>    0.093</td> <td>   -8.708</td> <td> 0.000</td> <td>   -0.996</td> <td>   -0.630</td>\n</tr>\n<tr>\n  <th>C(item_code)[T.000000001000073207]</th> <td>   -1.5459</td> <td>    0.095</td> <td>  -16.270</td> <td> 0.000</td> <td>   -1.732</td> <td>   -1.360</td>\n</tr>\n<tr>\n  <th>C(item_code)[T.000000001000076757]</th> <td>   -1.9464</td> <td>    0.095</td> <td>  -20.576</td> <td> 0.000</td> <td>   -2.132</td> <td>   -1.761</td>\n</tr>\n<tr>\n  <th>C(item_code)[T.000000001000079668]</th> <td>   -2.2905</td> <td>    0.146</td> <td>  -15.679</td> <td> 0.000</td> <td>   -2.577</td> <td>   -2.004</td>\n</tr>\n<tr>\n  <th>C(item_code)[T.000000001000086500]</th> <td>   -1.2602</td> <td>    0.109</td> <td>  -11.613</td> <td> 0.000</td> <td>   -1.473</td> <td>   -1.047</td>\n</tr>\n<tr>\n  <th>C(item_code)[T.000000001000091265]</th> <td>   -2.6590</td> <td>    0.090</td> <td>  -29.692</td> <td> 0.000</td> <td>   -2.835</td> <td>   -2.483</td>\n</tr>\n<tr>\n  <th>C(item_code)[T.000000001000091266]</th> <td>   -1.4847</td> <td>    0.084</td> <td>  -17.585</td> <td> 0.000</td> <td>   -1.650</td> <td>   -1.319</td>\n</tr>\n<tr>\n  <th>C(item_code)[T.000000001000097071]</th> <td>   -1.6824</td> <td>    0.083</td> <td>  -20.332</td> <td> 0.000</td> <td>   -1.845</td> <td>   -1.520</td>\n</tr>\n<tr>\n  <th>C(item_code)[T.000000001000113432]</th> <td>   -0.1638</td> <td>    0.078</td> <td>   -2.095</td> <td> 0.036</td> <td>   -0.317</td> <td>   -0.010</td>\n</tr>\n<tr>\n  <th>C(item_code)[T.000000001000114123]</th> <td>   -2.5657</td> <td>    0.099</td> <td>  -25.843</td> <td> 0.000</td> <td>   -2.760</td> <td>   -2.371</td>\n</tr>\n<tr>\n  <th>C(item_code)[T.000000001000117185]</th> <td>   -0.0764</td> <td>    0.081</td> <td>   -0.943</td> <td> 0.346</td> <td>   -0.235</td> <td>    0.082</td>\n</tr>\n<tr>\n  <th>C(item_code)[T.000000001000117189]</th> <td>   -0.6717</td> <td>    0.081</td> <td>   -8.279</td> <td> 0.000</td> <td>   -0.831</td> <td>   -0.513</td>\n</tr>\n<tr>\n  <th>C(item_code)[T.000000001000117276]</th> <td>   -3.5748</td> <td>    0.181</td> <td>  -19.776</td> <td> 0.000</td> <td>   -3.929</td> <td>   -3.220</td>\n</tr>\n<tr>\n  <th>C(item_code)[T.000000001000121274]</th> <td>   -0.7108</td> <td>    0.080</td> <td>   -8.908</td> <td> 0.000</td> <td>   -0.867</td> <td>   -0.554</td>\n</tr>\n<tr>\n  <th>C(item_code)[T.000000001000123214]</th> <td>   -3.5442</td> <td>    0.160</td> <td>  -22.129</td> <td> 0.000</td> <td>   -3.858</td> <td>   -3.230</td>\n</tr>\n<tr>\n  <th>C(item_code)[T.000000001000123640]</th> <td>   -0.3763</td> <td>    0.079</td> <td>   -4.790</td> <td> 0.000</td> <td>   -0.530</td> <td>   -0.222</td>\n</tr>\n<tr>\n  <th>C(item_code)[T.000000001000126041]</th> <td>   -1.3526</td> <td>    0.085</td> <td>  -15.823</td> <td> 0.000</td> <td>   -1.520</td> <td>   -1.185</td>\n</tr>\n<tr>\n  <th>C(item_code)[T.000000001000127680]</th> <td>    0.7220</td> <td>    0.094</td> <td>    7.706</td> <td> 0.000</td> <td>    0.538</td> <td>    0.906</td>\n</tr>\n<tr>\n  <th>C(item_code)[T.000000001000128696]</th> <td>   -1.2275</td> <td>    0.078</td> <td>  -15.676</td> <td> 0.000</td> <td>   -1.381</td> <td>   -1.074</td>\n</tr>\n<tr>\n  <th>C(item_code)[T.000000001000131689]</th> <td>    0.0139</td> <td>    0.078</td> <td>    0.179</td> <td> 0.858</td> <td>   -0.139</td> <td>    0.167</td>\n</tr>\n<tr>\n  <th>C(item_code)[T.000000001000172911]</th> <td>   -1.1624</td> <td>    0.089</td> <td>  -13.080</td> <td> 0.000</td> <td>   -1.337</td> <td>   -0.988</td>\n</tr>\n<tr>\n  <th>log_price</th>                          <td>   -1.7603</td> <td>    0.089</td> <td>  -19.883</td> <td> 0.000</td> <td>   -1.934</td> <td>   -1.587</td>\n</tr>\n<tr>\n  <th>log_delivery_weeks</th>                 <td>    0.2273</td> <td>    0.004</td> <td>   58.941</td> <td> 0.000</td> <td>    0.220</td> <td>    0.235</td>\n</tr>\n</table>\n<table class=\"simpletable\">\n<tr>\n  <th>Omnibus:</th>       <td>1020.456</td> <th>  Durbin-Watson:     </th> <td>   1.657</td> \n</tr>\n<tr>\n  <th>Prob(Omnibus):</th>  <td> 0.000</td>  <th>  Jarque-Bera (JB):  </th> <td>44453.156</td>\n</tr>\n<tr>\n  <th>Skew:</th>           <td>-0.143</td>  <th>  Prob(JB):          </th> <td>    0.00</td> \n</tr>\n<tr>\n  <th>Kurtosis:</th>       <td>18.240</td>  <th>  Cond. No.          </th> <td>1.16e+03</td> \n</tr>\n</table><br/><br/>Notes:<br/>[1] Standard Errors assume that the covariance matrix of the errors is correctly specified.<br/>[2] The condition number is large, 1.16e+03. This might indicate that there are<br/>strong multicollinearity or other numerical problems."
     },
     "execution_count": 5,
     "metadata": {},
     "output_type": "execute_result"
    }
   ],
   "source": [
    "wls_cr_with_fe = smf.wls(\"log_avg_unique_views ~ log_price + log_delivery_weeks + C(item_code)\", df, weights=df['bin']).fit()\n",
    "wls_cr_with_fe.summary()\n",
    "#beta_log_price, beta_std_err_log_price = wls_cr_with_fe.params[-2].round(4),wls_cr_with_fe.bse[-2].round(4)\n",
    "#beta_log_del, beta_std_err_log_del = wls_cr_with_fe.params[-1].round(4),wls_cr_with_fe.bse[-1].round(4)\n",
    "#Result_log_price = 'Log_price  = ' + str(beta_log_price) + ' ± ' + str(beta_std_err_log_price)\n",
    "#Result_log_del = 'Log_del_week = ' + str(beta_log_del) + ' ± ' + str(beta_std_err_log_del)"
   ],
   "metadata": {
    "collapsed": false,
    "pycharm": {
     "name": "#%%\n"
    }
   }
  },
  {
   "cell_type": "code",
   "execution_count": null,
   "outputs": [],
   "source": [],
   "metadata": {
    "collapsed": false,
    "pycharm": {
     "name": "#%%\n"
    }
   }
  }
 ],
 "metadata": {
  "kernelspec": {
   "display_name": "Python 3",
   "language": "python",
   "name": "python3"
  },
  "language_info": {
   "codemirror_mode": {
    "name": "ipython",
    "version": 3
   },
   "file_extension": ".py",
   "mimetype": "text/x-python",
   "name": "python",
   "nbconvert_exporter": "python",
   "pygments_lexer": "ipython3",
   "version": "3.9.2"
  }
 },
 "nbformat": 4,
 "nbformat_minor": 1
}