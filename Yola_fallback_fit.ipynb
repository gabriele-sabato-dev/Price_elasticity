{
 "cells": [
  {
   "cell_type": "code",
   "execution_count": 1,
   "metadata": {
    "collapsed": true
   },
   "outputs": [],
   "source": [
    "from pyspark.sql import SparkSession\n",
    "from pyspark.sql.functions import *\n",
    "spark = SparkSession.builder.master('local').config('spark.driver.memory', '8g').appName('Yola_fit').getOrCreate()\n",
    "\n"
   ]
  },
  {
   "cell_type": "code",
   "execution_count": 2,
   "outputs": [],
   "source": [
    "df = spark.read.csv('/Users/gabriele.sabato/PycharmProjects/raw_data/Excel_files/Pricing_fallback_rule.csv', header='True')\n",
    "\n"
   ],
   "metadata": {
    "collapsed": false,
    "pycharm": {
     "name": "#%%\n"
    }
   }
  },
  {
   "cell_type": "code",
   "execution_count": 3,
   "outputs": [],
   "source": [
    "df.createOrReplaceTempView('Fallback_rule')"
   ],
   "metadata": {
    "collapsed": false,
    "pycharm": {
     "name": "#%%\n"
    }
   }
  },
  {
   "cell_type": "code",
   "execution_count": 4,
   "outputs": [
    {
     "name": "stdout",
     "output_type": "stream",
     "text": [
      "+------------------+----------+--------------------+--------------------+--------------------+-------------------+------------------------+---------------+-----------------+---------------------+--------------+-------+---------------------+-------------------+-----------------+---+-----------------+---------------+\n",
      "|         item_code|      date|item_gtin_comparable|  item_main_category| item_sub_category_1|item_sub_category_2|item_supplier_regular_id|item_inco_terms|exclusivity_clean|item_supplier_regular|inventory_flag|wh_flag|item_final_price_rule|sellability_laso_de|pocket_pc2_margin|nov|shop_gross_margin|shop_pc2_margin|\n",
      "+------------------+----------+--------------------+--------------------+--------------------+-------------------+------------------------+---------------+-----------------+---------------------+--------------+-------+---------------------+-------------------+-----------------+---+-----------------+---------------+\n",
      "|000000001000052666|2020-02-16|          comparable|              WOHNEN|              TISCHE|        COUCHTISCHE|                  100258|            DDP|       whiteLabel| Innostyle Möbelve...|       riskshs|      1|                 UNKN|                  1|               45|238|              129|             55|\n",
      "|000000001000174656|2020-02-10|      non-comparable|             POLSTER|         SCHLAFSOFAS|       QUERSCHLÄFER|                  100024|            FOB|       whiteLabel| Shanghai Chouqin ...|           tto|      1|                 UNKN|                  1|               44|403|              155|             64|\n",
      "|000000001000126299|2020-01-30|          comparable|   SCHLAFZIMMERMÖBEL|       NACHTKOMMODEN|      NACHTKOMMODEN|                  100001|            DDP|       whiteLabel| Actona Company AS...|           tto|      1|                 UNKN|                  1|                7| 76|               34|             26|\n",
      "|000000001000012680|2020-02-15|      non-comparable|ESSZIMMERSTÜHLE&B...|               BÄNKE|              BÄNKE|                  100989|            EXW|        exclusive|              Lamella|          laso|      1|                 UNKN|                  1|               81|218|              132|            102|\n",
      "|000000001000012680|2020-02-04|      non-comparable|ESSZIMMERSTÜHLE&B...|               BÄNKE|              BÄNKE|                  100989|            EXW|        exclusive|              Lamella|          laso|      1|                 UNKN|                  1|              121|328|              197|            153|\n",
      "|000000001000139829|2020-02-04|          comparable|             POLSTER|              SESSEL|        RELAXSESSEL|                  100140|            DDP|       whiteLabel| FEMO Trade GmbH &...|           tto|      1|                 UNKN|                  1|                7|255|               56|             32|\n",
      "|000000001000007319|2020-01-29|      non-comparable|     ESSZIMMERTISCHE|             ZUBEHÖR|            ZUBEHÖR|                  100630|            FOB|        exclusive| QUADRATO GMBH & C...|          laso|      1|                 UNKN|                  1|               -2| 67|               11|              2|\n",
      "|000000001000007057|2020-05-07|      non-comparable|              WOHNEN|       TV-MEDIAMÖBEL|       TV-LOWBOARDS|                  100524|            FOB|        exclusive|  SHEN ZHEN YA BEI SI|          laso|      1|                 UNKN|                  1|              125|336|              196|            178|\n",
      "|000000001000119434|2020-06-12|      non-comparable|ESSZIMMERSTÜHLE&B...|               BÄNKE|              BÄNKE|                  100490|            DDP|       whiteLabel| Sagemüller Handel...|           mto|      0|             fallback|                  1|               48|197|               76|             59|\n",
      "|000000001000016080|2020-06-29|          comparable|ESSZIMMERSTÜHLE&B...|               BÄNKE|              BÄNKE|                  100001|            FOB|       whiteLabel| Actona Company AS...|          laso|      1|             fallback|                  1|               47|118|               66|             57|\n",
      "|000000001000166608|2020-06-18|          comparable|            LEUCHTEN|       INNENLEUCHTEN|     PENDELLEUCHTEN|                  100059|            EXW|       thirdParty|         Brilliant AG|      dropship|      0|           compDeOnly|                  1|               24|100|               43|             33|\n",
      "|000000001000169675|2020-02-23|      non-comparable|ESSZIMMERSTÜHLE&B...|     ESSZIMMERSTÜHLE|      FREISCHWINGER|                  100345|            FOB|       whiteLabel| MCASIA FURNITURE ...|           tto|      1|                 UNKN|                  1|               88|269|              119|            101|\n",
      "|000000001000184378|2020-06-20|          comparable|            LEUCHTEN|       INNENLEUCHTEN|     PENDELLEUCHTEN|                  100548|            EXW|       thirdParty|   Trio Leuchten GmbH|      dropship|      0|             fallback|                  1|                4| 34|               15|             10|\n",
      "|000000001000118958|2020-04-30|      non-comparable|ESSZIMMERSTÜHLE&B...|     ESSZIMMERSTÜHLE|          KLASSISCH|                  100345|            FOB|       whiteLabel| MCASIA FURNITURE ...|          laso|      1|                 UNKN|                  1|              312|739|              446|            355|\n",
      "|000000001000117628|2020-03-21|      non-comparable|              GARTEN|        GARTENSTÜHLE|       GARTENSESSEL|                  100300|            FOB|       whiteLabel| VITUS Limited (Ha...|    lasogarden|      0|                 UNKN|                  1|              137|580|              365|            198|\n",
      "|000000001000152122|2020-07-12|          comparable|            LEUCHTEN|       INNENLEUCHTEN|     PENDELLEUCHTEN|                  100059|            EXW|       thirdParty|         Brilliant AG|      dropship|      0|           comparable|                  1|               18| 86|               43|             33|\n",
      "|000000001000202084|2020-06-26|          comparable|   SCHLAFZIMMERMÖBEL|KLEIDERSCHRÄNKE &...|            ZUBEHÖR|                  100456|            DDP|     ownDeveloped| Rauch Möbelwerke ...|          laso|      1|              catloaf|                  1|               24|101|               47|             31|\n",
      "|000000001000201166|2020-07-24|          comparable|ESSZIMMERSTÜHLE&B...|               BÄNKE|              BÄNKE|                  100345|            FOB|       whiteLabel| MCASIA FURNITURE ...|           tto|      1|              catloaf|                  1|              191|768|              437|            287|\n",
      "|000000001000138494|2020-07-03|          comparable|       HEIMTEXTILIEN|          BETTWÄSCHE|   BIBER-BETTWÄSCHE|                  100612|            EXW|       thirdParty| Wilh. Wülfing Gmb...|      dropship|      0|             fallback|                  1|                7| 57|               24|             14|\n",
      "|000000001000007590|2020-04-04|      non-comparable|             POLSTER|         SCHLAFSOFAS|       QUERSCHLÄFER|                  100458|            FOB|       whiteLabel| Foshan Relax Tech...|          laso|      1|                 UNKN|                  1|               69|193|              121|             76|\n",
      "+------------------+----------+--------------------+--------------------+--------------------+-------------------+------------------------+---------------+-----------------+---------------------+--------------+-------+---------------------+-------------------+-----------------+---+-----------------+---------------+\n",
      "only showing top 20 rows\n",
      "\n"
     ]
    }
   ],
   "source": [
    "df.show()"
   ],
   "metadata": {
    "collapsed": false,
    "pycharm": {
     "name": "#%%\n"
    }
   }
  },
  {
   "cell_type": "code",
   "execution_count": 5,
   "outputs": [],
   "source": [
    "import pandas as pd\n",
    "import numpy as np\n",
    "import patsy as pat\n",
    "\n"
   ],
   "metadata": {
    "collapsed": false,
    "pycharm": {
     "name": "#%%\n"
    }
   }
  },
  {
   "cell_type": "code",
   "execution_count": 6,
   "outputs": [
    {
     "name": "stdout",
     "output_type": "stream",
     "text": [
      "       SAP_ID                         Supplier_Name         Type\n",
      "2    100000.0                    Art of Living GmbH  Marketplace\n",
      "3    100001.0            Actona Company AS (Inland)     Domestic\n",
      "4    100002.0   Actona Company A/S (Hauptwerk SHANG   FOB Import\n",
      "5    100003.0                      Actual Diffusion  Marketplace\n",
      "6    100004.0                   Arte M GmbH & Co.KG     Domestic\n",
      "..        ...                                   ...          ...\n",
      "103  100109.0   Duo Collection Import Vertriebsgese     Domestic\n",
      "104  100110.0                          David & Luna     Domestic\n",
      "105  100111.0  design3000 Vertriebsgesellschaft mbH  Marketplace\n",
      "106  100112.0             Dreisitz-design Sp.z.o.o.     Domestic\n",
      "107  100113.0                          Dan-Form A/S     Domestic\n",
      "\n",
      "[100 rows x 3 columns]\n"
     ]
    }
   ],
   "source": [
    "pdf_sap = pd.read_excel('/Users/gabriele.sabato/PycharmProjects/raw_data/Excel_files/Lieferanten_Master_Data_SAP_V2.xlsx',header=3, usecols=['SAP_ID','Supplier_Name','Type'])#,'Type'])\n",
    "pdf_sap.dropna(inplace=True)\n",
    "print(pdf_sap.head(100))\n",
    "\n",
    "\n",
    "#df_sap = spark.createDataFrame(pdf_sap)\n",
    "\n"
   ],
   "metadata": {
    "collapsed": false,
    "pycharm": {
     "name": "#%%\n"
    }
   }
  },
  {
   "cell_type": "code",
   "execution_count": 7,
   "outputs": [
    {
     "name": "stdout",
     "output_type": "stream",
     "text": [
      "SAP_ID           float64\n",
      "Supplier_Name     object\n",
      "Type              object\n",
      "dtype: object\n",
      "SAP_ID            int32\n",
      "Supplier_Name    string\n",
      "Type             string\n",
      "dtype: object\n"
     ]
    }
   ],
   "source": [
    "print(pdf_sap.dtypes)\n",
    "pdf_sap_filt = pdf_sap.astype({'SAP_ID': 'int32', 'Supplier_Name': 'string','Type':'string'})\n",
    "print(pdf_sap_filt.dtypes)\n",
    "\n"
   ],
   "metadata": {
    "collapsed": false,
    "pycharm": {
     "name": "#%%\n"
    }
   }
  },
  {
   "cell_type": "code",
   "execution_count": 8,
   "outputs": [],
   "source": [
    "df_sap = spark.createDataFrame(pdf_sap_filt)\n",
    "df_sap.createOrReplaceTempView('SAP_id')"
   ],
   "metadata": {
    "collapsed": false,
    "pycharm": {
     "name": "#%%\n"
    }
   }
  },
  {
   "cell_type": "code",
   "execution_count": 9,
   "outputs": [],
   "source": [
    "df_sap_INJOIN = spark.sql(\"\"\"SELECT fbr.*, sap.Type\n",
    "                                from Fallback_rule as fbr\n",
    "                              INNER JOIN SAP_id as sap on sap.SAP_ID = CAST(fbr.item_supplier_regular_id as INT) \"\"\")"
   ],
   "metadata": {
    "collapsed": false,
    "pycharm": {
     "name": "#%%\n"
    }
   }
  },
  {
   "cell_type": "code",
   "execution_count": 10,
   "outputs": [],
   "source": [
    "df_sap_INJOIN.createOrReplaceTempView('IN_JOIN_Table')"
   ],
   "metadata": {
    "collapsed": false,
    "pycharm": {
     "name": "#%%\n"
    }
   }
  },
  {
   "cell_type": "code",
   "execution_count": 11,
   "outputs": [
    {
     "name": "stdout",
     "output_type": "stream",
     "text": [
      "+------------------+----------+--------------------+------------------+--------------------+--------------------+------------------------+---------------+-----------------+---------------------+--------------+-------+---------------------+-------------------+-----------------+----+-----------------+---------------+--------+\n",
      "|         item_code|      date|item_gtin_comparable|item_main_category| item_sub_category_1| item_sub_category_2|item_supplier_regular_id|item_inco_terms|exclusivity_clean|item_supplier_regular|inventory_flag|wh_flag|item_final_price_rule|sellability_laso_de|pocket_pc2_margin| nov|shop_gross_margin|shop_pc2_margin|    Type|\n",
      "+------------------+----------+--------------------+------------------+--------------------+--------------------+------------------------+---------------+-----------------+---------------------+--------------+-------+---------------------+-------------------+-----------------+----+-----------------+---------------+--------+\n",
      "|000000001000097652|2020-06-09|          comparable|            WOHNEN|              REGALE|          WANDREGALE|                  100565|            DDP|       thirdParty|             Tenzo AB|    realshsmov|      0|                 UNKN|                  1|               11|  42|               23|             15|Domestic|\n",
      "|000000001000097578|2020-05-14|          comparable|            WOHNEN|KOMMODEN & SIDEBO...|            KOMMODEN|                  100565|            DDP|       thirdParty|             Tenzo AB|    realshsmov|      0|                 UNKN|                  1|               61| 250|               95|             76|Domestic|\n",
      "|000000001000097652|2020-05-16|          comparable|            WOHNEN|              REGALE|          WANDREGALE|                  100565|            DDP|       thirdParty|             Tenzo AB|    realshsmov|      0|                 UNKN|                  1|               11|  42|               24|             15|Domestic|\n",
      "|000000001000097495|2020-05-31|          comparable|            WOHNEN|KOMMODEN & SIDEBO...|          SIDEBOARDS|                  100565|            DDP|       thirdParty|             Tenzo AB|    realshsmov|      0|                 UNKN|                  1|               30| 303|              106|             52|Domestic|\n",
      "|000000001000097495|2020-06-06|          comparable|            WOHNEN|KOMMODEN & SIDEBO...|          SIDEBOARDS|                  100565|            DDP|       thirdParty|             Tenzo AB|    realshsmov|      0|                 UNKN|                  1|               -7| 271|               66|             13|Domestic|\n",
      "|000000001000143933|2020-07-02|          comparable|            WOHNEN|KOMMODEN & SIDEBO...|          SIDEBOARDS|                  100565|            DDP|       thirdParty|             Tenzo AB|    realshsmov|      0|              catloaf|                  1|              161| 578|              292|            238|Domestic|\n",
      "|000000001000097478|2020-02-19|          comparable|            WOHNEN|KOMMODEN & SIDEBO...|            KOMMODEN|                  100565|            DDP|       thirdParty|             Tenzo AB|       riskshs|      1|                 UNKN|                  1|               80| 319|              123|            103|Domestic|\n",
      "|000000001000226370|2020-11-27|          comparable|            WOHNEN|              TISCHE|         COUCHTISCHE|                  100565|            DDP|            other|             Tenzo AB|    realshsmov|      0|              catloaf|                  1|               27| 140|               53|             41|Domestic|\n",
      "|000000001000097478|2020-06-14|          comparable|            WOHNEN|KOMMODEN & SIDEBO...|            KOMMODEN|                  100565|            DDP|       thirdParty|             Tenzo AB|       riskshs|      1|              catloaf|                  1|              275|1008|              424|            362|Domestic|\n",
      "|000000001000097478|2020-04-07|          comparable|            WOHNEN|KOMMODEN & SIDEBO...|            KOMMODEN|                  100565|            DDP|       thirdParty|             Tenzo AB|       riskshs|      1|                 UNKN|                  1|               88| 571|              180|            140|Domestic|\n",
      "|000000001000097478|2020-04-14|          comparable|            WOHNEN|KOMMODEN & SIDEBO...|            KOMMODEN|                  100565|            DDP|       thirdParty|             Tenzo AB|       riskshs|      1|                 UNKN|                  1|               62| 294|               98|             78|Domestic|\n",
      "|000000001000178311|2020-05-25|          comparable|         FLURMÖBEL|          GARDEROBEN|      DIELENKOMMODEN|                  100565|            DDP|       thirdParty|             Tenzo AB|    realshsmov|      0|                 UNKN|                  1|               73| 286|              131|            106|Domestic|\n",
      "|000000001000132548|2020-05-14|          comparable|              BÜRO|       SCHREIBTISCHE|GERADE SCHREIBTISCHE|                  100565|            DDP|       thirdParty|             Tenzo AB|    realshsmov|      0|                 UNKN|                  1|               46| 193|               76|             65|Domestic|\n",
      "|000000001000097478|2020-03-03|          comparable|            WOHNEN|KOMMODEN & SIDEBO...|            KOMMODEN|                  100565|            DDP|       thirdParty|             Tenzo AB|       riskshs|      1|                 UNKN|                  1|               82| 336|              140|            120|Domestic|\n",
      "|000000001000097478|2020-04-21|          comparable|            WOHNEN|KOMMODEN & SIDEBO...|            KOMMODEN|                  100565|            DDP|       thirdParty|             Tenzo AB|       riskshs|      1|                 UNKN|                  1|               56| 294|               98|             78|Domestic|\n",
      "|000000001000097478|2020-04-09|          comparable|            WOHNEN|KOMMODEN & SIDEBO...|            KOMMODEN|                  100565|            DDP|       thirdParty|             Tenzo AB|       riskshs|      1|                 UNKN|                  1|               62| 294|               98|             78|Domestic|\n",
      "|000000001000097478|2020-04-27|          comparable|            WOHNEN|KOMMODEN & SIDEBO...|            KOMMODEN|                  100565|            DDP|       thirdParty|             Tenzo AB|       riskshs|      1|                 UNKN|                  1|               47| 279|              103|             84|Domestic|\n",
      "|000000001000097472|2021-01-12|          comparable|            WOHNEN|KOMMODEN & SIDEBO...|          HIGHBOARDS|                  100565|            DDP|       thirdParty|             Tenzo AB|       riskshs|      1|             fallback|                  1|              219|1260|              392|            256|Domestic|\n",
      "|000000001000097478|2020-02-24|          comparable|            WOHNEN|KOMMODEN & SIDEBO...|            KOMMODEN|                  100565|            DDP|       thirdParty|             Tenzo AB|       riskshs|      1|                 UNKN|                  1|              158| 635|              243|            203|Domestic|\n",
      "|000000001000097478|2020-06-09|          comparable|            WOHNEN|KOMMODEN & SIDEBO...|            KOMMODEN|                  100565|            DDP|       thirdParty|             Tenzo AB|       riskshs|      1|                 UNKN|                  1|               96| 336|              141|            121|Domestic|\n",
      "+------------------+----------+--------------------+------------------+--------------------+--------------------+------------------------+---------------+-----------------+---------------------+--------------+-------+---------------------+-------------------+-----------------+----+-----------------+---------------+--------+\n",
      "only showing top 20 rows\n",
      "\n"
     ]
    }
   ],
   "source": [
    "df_sap_INJOIN.show()"
   ],
   "metadata": {
    "collapsed": false,
    "pycharm": {
     "name": "#%%\n"
    }
   }
  },
  {
   "cell_type": "code",
   "execution_count": 12,
   "outputs": [],
   "source": [
    "df_fin_table = spark.sql(\"\"\" SELECT ijt.*,\n",
    "        CASE\n",
    "           when ijt.item_inco_terms = 'FOB'\n",
    "               then 'Import'\n",
    "           when LOWER(ijt.Type) LIKE 'eastern europe'\n",
    "               then 'EE'\n",
    "           when LOWER(ijt.Type) LIKE 'import'\n",
    "               then 'Import'\n",
    "           else 'Domestic' END                                                              as sourcing_location\n",
    "            from IN_JOIN_Table as ijt\n",
    "\"\"\")\n",
    "#shop_pc2_margin/NOV\n"
   ],
   "metadata": {
    "collapsed": false,
    "pycharm": {
     "name": "#%%\n"
    }
   }
  },
  {
   "cell_type": "code",
   "execution_count": 13,
   "outputs": [
    {
     "name": "stdout",
     "output_type": "stream",
     "text": [
      "+------------------+----------+--------------------+------------------+--------------------+--------------------+------------------------+---------------+-----------------+---------------------+--------------+-------+---------------------+-------------------+-----------------+----+-----------------+---------------+--------+-----------------+\n",
      "|         item_code|      date|item_gtin_comparable|item_main_category| item_sub_category_1| item_sub_category_2|item_supplier_regular_id|item_inco_terms|exclusivity_clean|item_supplier_regular|inventory_flag|wh_flag|item_final_price_rule|sellability_laso_de|pocket_pc2_margin| nov|shop_gross_margin|shop_pc2_margin|    Type|sourcing_location|\n",
      "+------------------+----------+--------------------+------------------+--------------------+--------------------+------------------------+---------------+-----------------+---------------------+--------------+-------+---------------------+-------------------+-----------------+----+-----------------+---------------+--------+-----------------+\n",
      "|000000001000097652|2020-06-09|          comparable|            WOHNEN|              REGALE|          WANDREGALE|                  100565|            DDP|       thirdParty|             Tenzo AB|    realshsmov|      0|                 UNKN|                  1|               11|  42|               23|             15|Domestic|         Domestic|\n",
      "|000000001000097578|2020-05-14|          comparable|            WOHNEN|KOMMODEN & SIDEBO...|            KOMMODEN|                  100565|            DDP|       thirdParty|             Tenzo AB|    realshsmov|      0|                 UNKN|                  1|               61| 250|               95|             76|Domestic|         Domestic|\n",
      "|000000001000097652|2020-05-16|          comparable|            WOHNEN|              REGALE|          WANDREGALE|                  100565|            DDP|       thirdParty|             Tenzo AB|    realshsmov|      0|                 UNKN|                  1|               11|  42|               24|             15|Domestic|         Domestic|\n",
      "|000000001000097495|2020-05-31|          comparable|            WOHNEN|KOMMODEN & SIDEBO...|          SIDEBOARDS|                  100565|            DDP|       thirdParty|             Tenzo AB|    realshsmov|      0|                 UNKN|                  1|               30| 303|              106|             52|Domestic|         Domestic|\n",
      "|000000001000097495|2020-06-06|          comparable|            WOHNEN|KOMMODEN & SIDEBO...|          SIDEBOARDS|                  100565|            DDP|       thirdParty|             Tenzo AB|    realshsmov|      0|                 UNKN|                  1|               -7| 271|               66|             13|Domestic|         Domestic|\n",
      "|000000001000143933|2020-07-02|          comparable|            WOHNEN|KOMMODEN & SIDEBO...|          SIDEBOARDS|                  100565|            DDP|       thirdParty|             Tenzo AB|    realshsmov|      0|              catloaf|                  1|              161| 578|              292|            238|Domestic|         Domestic|\n",
      "|000000001000097478|2020-02-19|          comparable|            WOHNEN|KOMMODEN & SIDEBO...|            KOMMODEN|                  100565|            DDP|       thirdParty|             Tenzo AB|       riskshs|      1|                 UNKN|                  1|               80| 319|              123|            103|Domestic|         Domestic|\n",
      "|000000001000226370|2020-11-27|          comparable|            WOHNEN|              TISCHE|         COUCHTISCHE|                  100565|            DDP|            other|             Tenzo AB|    realshsmov|      0|              catloaf|                  1|               27| 140|               53|             41|Domestic|         Domestic|\n",
      "|000000001000097478|2020-06-14|          comparable|            WOHNEN|KOMMODEN & SIDEBO...|            KOMMODEN|                  100565|            DDP|       thirdParty|             Tenzo AB|       riskshs|      1|              catloaf|                  1|              275|1008|              424|            362|Domestic|         Domestic|\n",
      "|000000001000097478|2020-04-07|          comparable|            WOHNEN|KOMMODEN & SIDEBO...|            KOMMODEN|                  100565|            DDP|       thirdParty|             Tenzo AB|       riskshs|      1|                 UNKN|                  1|               88| 571|              180|            140|Domestic|         Domestic|\n",
      "|000000001000097478|2020-04-14|          comparable|            WOHNEN|KOMMODEN & SIDEBO...|            KOMMODEN|                  100565|            DDP|       thirdParty|             Tenzo AB|       riskshs|      1|                 UNKN|                  1|               62| 294|               98|             78|Domestic|         Domestic|\n",
      "|000000001000178311|2020-05-25|          comparable|         FLURMÖBEL|          GARDEROBEN|      DIELENKOMMODEN|                  100565|            DDP|       thirdParty|             Tenzo AB|    realshsmov|      0|                 UNKN|                  1|               73| 286|              131|            106|Domestic|         Domestic|\n",
      "|000000001000132548|2020-05-14|          comparable|              BÜRO|       SCHREIBTISCHE|GERADE SCHREIBTISCHE|                  100565|            DDP|       thirdParty|             Tenzo AB|    realshsmov|      0|                 UNKN|                  1|               46| 193|               76|             65|Domestic|         Domestic|\n",
      "|000000001000097478|2020-03-03|          comparable|            WOHNEN|KOMMODEN & SIDEBO...|            KOMMODEN|                  100565|            DDP|       thirdParty|             Tenzo AB|       riskshs|      1|                 UNKN|                  1|               82| 336|              140|            120|Domestic|         Domestic|\n",
      "|000000001000097478|2020-04-21|          comparable|            WOHNEN|KOMMODEN & SIDEBO...|            KOMMODEN|                  100565|            DDP|       thirdParty|             Tenzo AB|       riskshs|      1|                 UNKN|                  1|               56| 294|               98|             78|Domestic|         Domestic|\n",
      "|000000001000097478|2020-04-09|          comparable|            WOHNEN|KOMMODEN & SIDEBO...|            KOMMODEN|                  100565|            DDP|       thirdParty|             Tenzo AB|       riskshs|      1|                 UNKN|                  1|               62| 294|               98|             78|Domestic|         Domestic|\n",
      "|000000001000097478|2020-04-27|          comparable|            WOHNEN|KOMMODEN & SIDEBO...|            KOMMODEN|                  100565|            DDP|       thirdParty|             Tenzo AB|       riskshs|      1|                 UNKN|                  1|               47| 279|              103|             84|Domestic|         Domestic|\n",
      "|000000001000097472|2021-01-12|          comparable|            WOHNEN|KOMMODEN & SIDEBO...|          HIGHBOARDS|                  100565|            DDP|       thirdParty|             Tenzo AB|       riskshs|      1|             fallback|                  1|              219|1260|              392|            256|Domestic|         Domestic|\n",
      "|000000001000097478|2020-02-24|          comparable|            WOHNEN|KOMMODEN & SIDEBO...|            KOMMODEN|                  100565|            DDP|       thirdParty|             Tenzo AB|       riskshs|      1|                 UNKN|                  1|              158| 635|              243|            203|Domestic|         Domestic|\n",
      "|000000001000097478|2020-06-09|          comparable|            WOHNEN|KOMMODEN & SIDEBO...|            KOMMODEN|                  100565|            DDP|       thirdParty|             Tenzo AB|       riskshs|      1|                 UNKN|                  1|               96| 336|              141|            121|Domestic|         Domestic|\n",
      "+------------------+----------+--------------------+------------------+--------------------+--------------------+------------------------+---------------+-----------------+---------------------+--------------+-------+---------------------+-------------------+-----------------+----+-----------------+---------------+--------+-----------------+\n",
      "only showing top 20 rows\n",
      "\n"
     ]
    }
   ],
   "source": [
    "df_fin_table.show()\n",
    "df_fin_table.createOrReplaceTempView('Fin_table')"
   ],
   "metadata": {
    "collapsed": false,
    "pycharm": {
     "name": "#%%\n"
    }
   }
  },
  {
   "cell_type": "code",
   "execution_count": 14,
   "outputs": [],
   "source": [
    "df_test = spark.sql(\"\"\"SELECT DISTINCT item_main_category from Fin_table ORDER BY item_main_category ASC\"\"\")"
   ],
   "metadata": {
    "collapsed": false,
    "pycharm": {
     "name": "#%%\n"
    }
   }
  },
  {
   "cell_type": "code",
   "execution_count": 15,
   "outputs": [
    {
     "name": "stdout",
     "output_type": "stream",
     "text": [
      "+--------------------+\n",
      "|  item_main_category|\n",
      "+--------------------+\n",
      "|                BABY|\n",
      "|                 BAD|\n",
      "|              BETTEN|\n",
      "|            BOUTIQUE|\n",
      "|                BÜRO|\n",
      "|ESSZIMMERSTÜHLE&B...|\n",
      "|     ESSZIMMERTISCHE|\n",
      "|           FLURMÖBEL|\n",
      "|              GARTEN|\n",
      "|            HAUSHALT|\n",
      "|       HEIMTEXTILIEN|\n",
      "|              KINDER|\n",
      "|               KÜCHE|\n",
      "|            LEUCHTEN|\n",
      "|MATRATZEN&LATTENR...|\n",
      "|             POLSTER|\n",
      "|   SCHLAFZIMMERMÖBEL|\n",
      "|TEPPICHE & BODENB...|\n",
      "|              WOHNEN|\n",
      "+--------------------+\n",
      "\n"
     ]
    }
   ],
   "source": [
    "df_test.show()"
   ],
   "metadata": {
    "collapsed": false,
    "pycharm": {
     "name": "#%%\n"
    }
   }
  },
  {
   "cell_type": "code",
   "execution_count": 16,
   "outputs": [
    {
     "name": "stdout",
     "output_type": "stream",
     "text": [
      "+------------------+----------+--------------------+------------------+--------------------+-------------------+------------------------+---------------+-----------------+---------------------+--------------+-------+---------------------+-------------------+-----------------+----+-----------------+---------------+--------+-----------------+\n",
      "|         item_code|      date|item_gtin_comparable|item_main_category| item_sub_category_1|item_sub_category_2|item_supplier_regular_id|item_inco_terms|exclusivity_clean|item_supplier_regular|inventory_flag|wh_flag|item_final_price_rule|sellability_laso_de|pocket_pc2_margin| nov|shop_gross_margin|shop_pc2_margin|    Type|sourcing_location|\n",
      "+------------------+----------+--------------------+------------------+--------------------+-------------------+------------------------+---------------+-----------------+---------------------+--------------+-------+---------------------+-------------------+-----------------+----+-----------------+---------------+--------+-----------------+\n",
      "|000000001000097478|2020-02-02|          comparable|            WOHNEN|KOMMODEN & SIDEBO...|           KOMMODEN|                  100565|            DDP|       thirdParty|             Tenzo AB|       riskshs|      1|                 UNKN|                  1|              146| 622|              230|            190|Domestic|         Domestic|\n",
      "|000000001000097478|2020-02-09|          comparable|            WOHNEN|KOMMODEN & SIDEBO...|           KOMMODEN|                  100565|            DDP|       thirdParty|             Tenzo AB|       riskshs|      1|                 UNKN|                  1|               51| 286|               90|             70|Domestic|         Domestic|\n",
      "|000000001000097478|2020-02-10|          comparable|            WOHNEN|KOMMODEN & SIDEBO...|           KOMMODEN|                  100565|            DDP|       thirdParty|             Tenzo AB|       riskshs|      1|                 UNKN|                  1|               51| 286|               90|             70|Domestic|         Domestic|\n",
      "|000000001000097478|2020-02-19|          comparable|            WOHNEN|KOMMODEN & SIDEBO...|           KOMMODEN|                  100565|            DDP|       thirdParty|             Tenzo AB|       riskshs|      1|                 UNKN|                  1|               80| 319|              123|            103|Domestic|         Domestic|\n",
      "|000000001000097478|2020-02-20|          comparable|            WOHNEN|KOMMODEN & SIDEBO...|           KOMMODEN|                  100565|            DDP|       thirdParty|             Tenzo AB|       riskshs|      1|                 UNKN|                  1|               80| 319|              123|            103|Domestic|         Domestic|\n",
      "|000000001000097478|2020-02-24|          comparable|            WOHNEN|KOMMODEN & SIDEBO...|           KOMMODEN|                  100565|            DDP|       thirdParty|             Tenzo AB|       riskshs|      1|                 UNKN|                  1|              158| 635|              243|            203|Domestic|         Domestic|\n",
      "|000000001000097478|2020-02-25|          comparable|            WOHNEN|KOMMODEN & SIDEBO...|           KOMMODEN|                  100565|            DDP|       thirdParty|             Tenzo AB|       riskshs|      1|                 UNKN|                  1|               95| 336|              140|            120|Domestic|         Domestic|\n",
      "|000000001000097478|2020-03-01|          comparable|            WOHNEN|KOMMODEN & SIDEBO...|           KOMMODEN|                  100565|            DDP|       thirdParty|             Tenzo AB|       riskshs|      1|                 UNKN|                  1|               88| 571|              180|            141|Domestic|         Domestic|\n",
      "|000000001000097478|2020-03-02|          comparable|            WOHNEN|KOMMODEN & SIDEBO...|           KOMMODEN|                  100565|            DDP|       thirdParty|             Tenzo AB|       riskshs|      1|                 UNKN|                  1|              214|1193|              410|            331|Domestic|         Domestic|\n",
      "|000000001000097478|2020-03-03|          comparable|            WOHNEN|KOMMODEN & SIDEBO...|           KOMMODEN|                  100565|            DDP|       thirdParty|             Tenzo AB|       riskshs|      1|                 UNKN|                  1|               82| 336|              140|            120|Domestic|         Domestic|\n",
      "|000000001000097478|2020-03-08|          comparable|            WOHNEN|KOMMODEN & SIDEBO...|           KOMMODEN|                  100565|            DDP|       thirdParty|             Tenzo AB|       riskshs|      1|                 UNKN|                  1|               44| 286|               90|             70|Domestic|         Domestic|\n",
      "|000000001000097478|2020-03-09|          comparable|            WOHNEN|KOMMODEN & SIDEBO...|           KOMMODEN|                  100565|            DDP|       thirdParty|             Tenzo AB|       riskshs|      1|                 UNKN|                  1|               44| 286|               90|             70|Domestic|         Domestic|\n",
      "|000000001000097478|2020-03-11|          comparable|            WOHNEN|KOMMODEN & SIDEBO...|           KOMMODEN|                  100565|            DDP|       thirdParty|             Tenzo AB|       riskshs|      1|                 UNKN|                  1|               44| 286|               90|             70|Domestic|         Domestic|\n",
      "|000000001000097478|2020-03-14|          comparable|            WOHNEN|KOMMODEN & SIDEBO...|           KOMMODEN|                  100565|            DDP|       thirdParty|             Tenzo AB|       riskshs|      1|                 UNKN|                  1|              126| 622|              230|            190|Domestic|         Domestic|\n",
      "|000000001000097478|2020-03-15|          comparable|            WOHNEN|KOMMODEN & SIDEBO...|           KOMMODEN|                  100565|            DDP|       thirdParty|             Tenzo AB|       riskshs|      1|                 UNKN|                  1|               44| 286|               90|             70|Domestic|         Domestic|\n",
      "|000000001000097478|2020-03-16|          comparable|            WOHNEN|KOMMODEN & SIDEBO...|           KOMMODEN|                  100565|            DDP|       thirdParty|             Tenzo AB|       riskshs|      1|                 UNKN|                  1|               44| 286|               90|             70|Domestic|         Domestic|\n",
      "|000000001000097478|2020-03-19|          comparable|            WOHNEN|KOMMODEN & SIDEBO...|           KOMMODEN|                  100565|            DDP|       thirdParty|             Tenzo AB|       riskshs|      1|                 UNKN|                  1|               44| 286|               90|             70|Domestic|         Domestic|\n",
      "|000000001000097478|2020-03-20|          comparable|            WOHNEN|KOMMODEN & SIDEBO...|           KOMMODEN|                  100565|            DDP|       thirdParty|             Tenzo AB|       riskshs|      1|                 UNKN|                  1|               82| 336|              140|            120|Domestic|         Domestic|\n",
      "|000000001000097478|2020-03-22|          comparable|            WOHNEN|KOMMODEN & SIDEBO...|           KOMMODEN|                  100565|            DDP|       thirdParty|             Tenzo AB|       riskshs|      1|                 UNKN|                  1|              126| 622|              230|            190|Domestic|         Domestic|\n",
      "|000000001000097478|2020-03-23|          comparable|            WOHNEN|KOMMODEN & SIDEBO...|           KOMMODEN|                  100565|            DDP|       thirdParty|             Tenzo AB|       riskshs|      1|                 UNKN|                  1|               44| 286|               90|             70|Domestic|         Domestic|\n",
      "|000000001000097478|2020-03-29|          comparable|            WOHNEN|KOMMODEN & SIDEBO...|           KOMMODEN|                  100565|            DDP|       thirdParty|             Tenzo AB|       riskshs|      1|                 UNKN|                  1|               69| 319|              123|            103|Domestic|         Domestic|\n",
      "|000000001000097478|2020-03-30|          comparable|            WOHNEN|KOMMODEN & SIDEBO...|           KOMMODEN|                  100565|            DDP|       thirdParty|             Tenzo AB|       riskshs|      1|                 UNKN|                  1|               50| 294|               98|             78|Domestic|         Domestic|\n",
      "|000000001000097478|2020-03-31|          comparable|            WOHNEN|KOMMODEN & SIDEBO...|           KOMMODEN|                  100565|            DDP|       thirdParty|             Tenzo AB|       riskshs|      1|                 UNKN|                  1|              150| 882|              295|            235|Domestic|         Domestic|\n",
      "|000000001000097478|2020-04-02|          comparable|            WOHNEN|KOMMODEN & SIDEBO...|           KOMMODEN|                  100565|            DDP|       thirdParty|             Tenzo AB|       riskshs|      1|                 UNKN|                  1|               50| 294|               98|             78|Domestic|         Domestic|\n",
      "|000000001000097478|2020-04-04|          comparable|            WOHNEN|KOMMODEN & SIDEBO...|           KOMMODEN|                  100565|            DDP|       thirdParty|             Tenzo AB|       riskshs|      1|                 UNKN|                  1|               88| 571|              180|            140|Domestic|         Domestic|\n",
      "|000000001000097478|2020-04-05|          comparable|            WOHNEN|KOMMODEN & SIDEBO...|           KOMMODEN|                  100565|            DDP|       thirdParty|             Tenzo AB|       riskshs|      1|                 UNKN|                  1|               43| 284|               88|             68|Domestic|         Domestic|\n",
      "|000000001000097478|2020-04-07|          comparable|            WOHNEN|KOMMODEN & SIDEBO...|           KOMMODEN|                  100565|            DDP|       thirdParty|             Tenzo AB|       riskshs|      1|                 UNKN|                  1|               88| 571|              180|            140|Domestic|         Domestic|\n",
      "|000000001000097478|2020-04-08|          comparable|            WOHNEN|KOMMODEN & SIDEBO...|           KOMMODEN|                  100565|            DDP|       thirdParty|             Tenzo AB|       riskshs|      1|                 UNKN|                  1|              100| 588|              196|            156|Domestic|         Domestic|\n",
      "|000000001000097478|2020-04-09|          comparable|            WOHNEN|KOMMODEN & SIDEBO...|           KOMMODEN|                  100565|            DDP|       thirdParty|             Tenzo AB|       riskshs|      1|                 UNKN|                  1|               62| 294|               98|             78|Domestic|         Domestic|\n",
      "|000000001000097478|2020-04-11|          comparable|            WOHNEN|KOMMODEN & SIDEBO...|           KOMMODEN|                  100565|            DDP|       thirdParty|             Tenzo AB|       riskshs|      1|                 UNKN|                  1|               62| 294|               98|             78|Domestic|         Domestic|\n",
      "|000000001000097478|2020-04-13|          comparable|            WOHNEN|KOMMODEN & SIDEBO...|           KOMMODEN|                  100565|            DDP|       thirdParty|             Tenzo AB|       riskshs|      1|                 UNKN|                  1|              109| 571|              180|            140|Domestic|         Domestic|\n",
      "|000000001000097478|2020-04-14|          comparable|            WOHNEN|KOMMODEN & SIDEBO...|           KOMMODEN|                  100565|            DDP|       thirdParty|             Tenzo AB|       riskshs|      1|                 UNKN|                  1|               62| 294|               98|             78|Domestic|         Domestic|\n",
      "|000000001000097478|2020-04-16|          comparable|            WOHNEN|KOMMODEN & SIDEBO...|           KOMMODEN|                  100565|            DDP|       thirdParty|             Tenzo AB|       riskshs|      1|                 UNKN|                  1|               56| 294|               98|             78|Domestic|         Domestic|\n",
      "|000000001000097478|2020-04-19|          comparable|            WOHNEN|KOMMODEN & SIDEBO...|           KOMMODEN|                  100565|            DDP|       thirdParty|             Tenzo AB|       riskshs|      1|                 UNKN|                  1|               56| 294|               98|             78|Domestic|         Domestic|\n",
      "|000000001000097478|2020-04-20|          comparable|            WOHNEN|KOMMODEN & SIDEBO...|           KOMMODEN|                  100565|            DDP|       thirdParty|             Tenzo AB|       riskshs|      1|                 UNKN|                  1|               43| 277|               81|             62|Domestic|         Domestic|\n",
      "|000000001000097478|2020-04-21|          comparable|            WOHNEN|KOMMODEN & SIDEBO...|           KOMMODEN|                  100565|            DDP|       thirdParty|             Tenzo AB|       riskshs|      1|                 UNKN|                  1|               56| 294|               98|             78|Domestic|         Domestic|\n",
      "|000000001000097478|2020-04-25|          comparable|            WOHNEN|KOMMODEN & SIDEBO...|           KOMMODEN|                  100565|            DDP|       thirdParty|             Tenzo AB|       riskshs|      1|                 UNKN|                  1|               93| 558|              206|            167|Domestic|         Domestic|\n",
      "|000000001000097478|2020-04-26|          comparable|            WOHNEN|KOMMODEN & SIDEBO...|           KOMMODEN|                  100565|            DDP|       thirdParty|             Tenzo AB|       riskshs|      1|                 UNKN|                  1|               47| 279|              103|             84|Domestic|         Domestic|\n",
      "|000000001000097478|2020-04-27|          comparable|            WOHNEN|KOMMODEN & SIDEBO...|           KOMMODEN|                  100565|            DDP|       thirdParty|             Tenzo AB|       riskshs|      1|                 UNKN|                  1|               47| 279|              103|             84|Domestic|         Domestic|\n",
      "|000000001000097478|2020-04-28|          comparable|            WOHNEN|KOMMODEN & SIDEBO...|           KOMMODEN|                  100565|            DDP|       thirdParty|             Tenzo AB|       riskshs|      1|                 UNKN|                  1|               81| 336|              160|            140|Domestic|         Domestic|\n",
      "|000000001000097478|2020-04-29|          comparable|            WOHNEN|KOMMODEN & SIDEBO...|           KOMMODEN|                  100565|            DDP|       thirdParty|             Tenzo AB|       riskshs|      1|                 UNKN|                  1|               47| 279|              103|             84|Domestic|         Domestic|\n",
      "|000000001000097478|2020-04-30|          comparable|            WOHNEN|KOMMODEN & SIDEBO...|           KOMMODEN|                  100565|            DDP|       thirdParty|             Tenzo AB|       riskshs|      1|                 UNKN|                  1|              123| 558|              206|            167|Domestic|         Domestic|\n",
      "|000000001000097478|2020-05-01|          comparable|            WOHNEN|KOMMODEN & SIDEBO...|           KOMMODEN|                  100565|            DDP|       thirdParty|             Tenzo AB|       riskshs|      1|                 UNKN|                  1|              123| 558|              206|            167|Domestic|         Domestic|\n",
      "|000000001000097478|2020-05-02|          comparable|            WOHNEN|KOMMODEN & SIDEBO...|           KOMMODEN|                  100565|            DDP|       thirdParty|             Tenzo AB|       riskshs|      1|                 UNKN|                  1|               61| 279|              103|             84|Domestic|         Domestic|\n",
      "|000000001000097478|2020-05-03|          comparable|            WOHNEN|KOMMODEN & SIDEBO...|           KOMMODEN|                  100565|            DDP|       thirdParty|             Tenzo AB|       riskshs|      1|                 UNKN|                  1|               61| 279|              103|             84|Domestic|         Domestic|\n",
      "|000000001000097478|2020-05-04|          comparable|            WOHNEN|KOMMODEN & SIDEBO...|           KOMMODEN|                  100565|            DDP|       thirdParty|             Tenzo AB|       riskshs|      1|                 UNKN|                  1|              229| 894|              366|            307|Domestic|         Domestic|\n",
      "|000000001000097478|2020-05-05|          comparable|            WOHNEN|KOMMODEN & SIDEBO...|           KOMMODEN|                  100565|            DDP|       thirdParty|             Tenzo AB|       riskshs|      1|                 UNKN|                  1|               61| 279|              103|             84|Domestic|         Domestic|\n",
      "|000000001000097478|2020-05-10|          comparable|            WOHNEN|KOMMODEN & SIDEBO...|           KOMMODEN|                  100565|            DDP|       thirdParty|             Tenzo AB|       riskshs|      1|                 UNKN|                  1|              153| 588|              236|            197|Domestic|         Domestic|\n",
      "|000000001000097478|2020-05-11|          comparable|            WOHNEN|KOMMODEN & SIDEBO...|           KOMMODEN|                  100565|            DDP|       thirdParty|             Tenzo AB|       riskshs|      1|                 UNKN|                  1|               70| 286|              110|             90|Domestic|         Domestic|\n",
      "|000000001000097478|2020-05-12|          comparable|            WOHNEN|KOMMODEN & SIDEBO...|           KOMMODEN|                  100565|            DDP|       thirdParty|             Tenzo AB|       riskshs|      1|                 UNKN|                  1|              139| 571|              219|            180|Domestic|         Domestic|\n",
      "|000000001000097478|2020-05-14|          comparable|            WOHNEN|KOMMODEN & SIDEBO...|           KOMMODEN|                  100565|            DDP|       thirdParty|             Tenzo AB|       riskshs|      1|                 UNKN|                  1|               69| 286|              110|             90|Domestic|         Domestic|\n",
      "|000000001000097478|2020-05-15|          comparable|            WOHNEN|KOMMODEN & SIDEBO...|           KOMMODEN|                  100565|            DDP|       thirdParty|             Tenzo AB|       riskshs|      1|                 UNKN|                  1|               69| 286|              110|             90|Domestic|         Domestic|\n",
      "|000000001000097478|2020-05-17|          comparable|            WOHNEN|KOMMODEN & SIDEBO...|           KOMMODEN|                  100565|            DDP|       thirdParty|             Tenzo AB|       riskshs|      1|                 UNKN|                  1|              139| 571|              219|            180|Domestic|         Domestic|\n",
      "|000000001000097478|2020-05-23|          comparable|            WOHNEN|KOMMODEN & SIDEBO...|           KOMMODEN|                  100565|            DDP|       thirdParty|             Tenzo AB|       riskshs|      1|                 UNKN|                  1|              189| 622|              270|            230|Domestic|         Domestic|\n",
      "|000000001000097478|2020-05-24|          comparable|            WOHNEN|KOMMODEN & SIDEBO...|           KOMMODEN|                  100565|            DDP|       thirdParty|             Tenzo AB|       riskshs|      1|                 UNKN|                  1|              291| 941|              413|            353|Domestic|         Domestic|\n",
      "|000000001000097478|2020-05-25|          comparable|            WOHNEN|KOMMODEN & SIDEBO...|           KOMMODEN|                  100565|            DDP|       thirdParty|             Tenzo AB|       riskshs|      1|                 UNKN|                  1|              189| 622|              270|            230|Domestic|         Domestic|\n",
      "|000000001000097478|2020-05-30|          comparable|            WOHNEN|KOMMODEN & SIDEBO...|           KOMMODEN|                  100565|            DDP|       thirdParty|             Tenzo AB|       riskshs|      1|                 UNKN|                  1|               72| 286|              110|             90|Domestic|         Domestic|\n",
      "|000000001000097478|2020-06-04|          comparable|            WOHNEN|KOMMODEN & SIDEBO...|           KOMMODEN|                  100565|            DDP|       thirdParty|             Tenzo AB|       riskshs|      1|                 UNKN|                  1|               67| 303|              108|             88|Domestic|         Domestic|\n",
      "|000000001000097478|2020-06-05|          comparable|            WOHNEN|KOMMODEN & SIDEBO...|           KOMMODEN|                  100565|            DDP|       thirdParty|             Tenzo AB|       riskshs|      1|                 UNKN|                  1|               56| 289|               94|             75|Domestic|         Domestic|\n",
      "|000000001000097478|2020-06-08|          comparable|            WOHNEN|KOMMODEN & SIDEBO...|           KOMMODEN|                  100565|            DDP|       thirdParty|             Tenzo AB|       riskshs|      1|                 UNKN|                  1|               96| 336|              141|            121|Domestic|         Domestic|\n",
      "|000000001000097478|2020-06-09|          comparable|            WOHNEN|KOMMODEN & SIDEBO...|           KOMMODEN|                  100565|            DDP|       thirdParty|             Tenzo AB|       riskshs|      1|                 UNKN|                  1|               96| 336|              141|            121|Domestic|         Domestic|\n",
      "|000000001000097478|2020-06-10|          comparable|            WOHNEN|KOMMODEN & SIDEBO...|           KOMMODEN|                  100565|            DDP|       thirdParty|             Tenzo AB|       riskshs|      1|              catloaf|                  1|               88| 327|              132|            112|Domestic|         Domestic|\n",
      "|000000001000097478|2020-06-14|          comparable|            WOHNEN|KOMMODEN & SIDEBO...|           KOMMODEN|                  100565|            DDP|       thirdParty|             Tenzo AB|       riskshs|      1|              catloaf|                  1|              275|1008|              424|            362|Domestic|         Domestic|\n",
      "|000000001000097478|2020-06-19|          comparable|            WOHNEN|KOMMODEN & SIDEBO...|           KOMMODEN|                  100565|            DDP|       thirdParty|             Tenzo AB|       riskshs|      1|              catloaf|                  1|               94| 336|              141|            121|Domestic|         Domestic|\n",
      "|000000001000097478|2020-06-21|          comparable|            WOHNEN|KOMMODEN & SIDEBO...|           KOMMODEN|                  100565|            DDP|       thirdParty|             Tenzo AB|       riskshs|      1|              catloaf|                  1|               59| 294|               99|             80|Domestic|         Domestic|\n",
      "|000000001000097478|2020-06-27|          comparable|            WOHNEN|KOMMODEN & SIDEBO...|           KOMMODEN|                  100565|            DDP|       thirdParty|             Tenzo AB|       riskshs|      1|              catloaf|                  1|               89| 336|              141|            121|Domestic|         Domestic|\n",
      "|000000001000097478|2020-06-28|          comparable|            WOHNEN|KOMMODEN & SIDEBO...|           KOMMODEN|                  100565|            DDP|       thirdParty|             Tenzo AB|       riskshs|      1|              catloaf|                  1|               89| 336|              141|            121|Domestic|         Domestic|\n",
      "|000000001000097478|2020-09-29|          comparable|            WOHNEN|KOMMODEN & SIDEBO...|           KOMMODEN|                  100565|            DDP|       thirdParty|             Tenzo AB|       riskshs|      1|              catloaf|                  1|               92| 345|              150|            126|Domestic|         Domestic|\n",
      "|000000001000097478|2020-12-05|          comparable|            WOHNEN|KOMMODEN & SIDEBO...|           KOMMODEN|                  100565|            DDP|       thirdParty|             Tenzo AB|       riskshs|      1|             fallback|                  1|               73| 552|              162|            116|Domestic|         Domestic|\n",
      "|000000001000097478|2020-12-06|          comparable|            WOHNEN|KOMMODEN & SIDEBO...|           KOMMODEN|                  100565|            DDP|       thirdParty|             Tenzo AB|       riskshs|      1|             fallback|                  1|               73| 552|              162|            116|Domestic|         Domestic|\n",
      "|000000001000097478|2020-12-09|          comparable|            WOHNEN|KOMMODEN & SIDEBO...|           KOMMODEN|                  100565|            DDP|       thirdParty|             Tenzo AB|       riskshs|      1|             fallback|                  1|               53| 526|              136|             91|Domestic|         Domestic|\n",
      "|000000001000097478|2020-12-12|          comparable|            WOHNEN|KOMMODEN & SIDEBO...|           KOMMODEN|                  100565|            DDP|       thirdParty|             Tenzo AB|       riskshs|      1|             fallback|                  1|               37| 276|               81|             58|Domestic|         Domestic|\n",
      "|000000001000097478|2020-12-14|          comparable|            WOHNEN|KOMMODEN & SIDEBO...|           KOMMODEN|                  100565|            DDP|       thirdParty|             Tenzo AB|       riskshs|      1|             fallback|                  1|               37| 276|               81|             58|Domestic|         Domestic|\n",
      "|000000001000097478|2020-12-15|          comparable|            WOHNEN|KOMMODEN & SIDEBO...|           KOMMODEN|                  100565|            DDP|       thirdParty|             Tenzo AB|       riskshs|      1|             fallback|                  1|               37| 276|               81|             58|Domestic|         Domestic|\n",
      "|000000001000097478|2020-12-16|          comparable|            WOHNEN|KOMMODEN & SIDEBO...|           KOMMODEN|                  100565|            DDP|       thirdParty|             Tenzo AB|       riskshs|      1|             fallback|                  1|               -2| 457|               67|             23|Domestic|         Domestic|\n",
      "|000000001000097478|2020-12-18|          comparable|            WOHNEN|KOMMODEN & SIDEBO...|           KOMMODEN|                  100565|            DDP|       thirdParty|             Tenzo AB|       riskshs|      1|             fallback|                  1|               37| 276|               81|             58|Domestic|         Domestic|\n",
      "|000000001000097478|2020-12-19|          comparable|            WOHNEN|KOMMODEN & SIDEBO...|           KOMMODEN|                  100565|            DDP|       thirdParty|             Tenzo AB|       riskshs|      1|             fallback|                  1|               37| 276|               81|             58|Domestic|         Domestic|\n",
      "|000000001000097478|2020-12-21|          comparable|            WOHNEN|KOMMODEN & SIDEBO...|           KOMMODEN|                  100565|            DDP|       thirdParty|             Tenzo AB|       riskshs|      1|             fallback|                  1|               37| 276|               81|             58|Domestic|         Domestic|\n",
      "|000000001000097478|2020-12-22|          comparable|            WOHNEN|KOMMODEN & SIDEBO...|           KOMMODEN|                  100565|            DDP|       thirdParty|             Tenzo AB|       riskshs|      1|             fallback|                  1|               37| 276|               81|             58|Domestic|         Domestic|\n",
      "|000000001000097478|2020-12-23|          comparable|            WOHNEN|KOMMODEN & SIDEBO...|           KOMMODEN|                  100565|            DDP|       thirdParty|             Tenzo AB|       riskshs|      1|             fallback|                  1|               30| 268|               73|             50|Domestic|         Domestic|\n",
      "|000000001000097478|2020-12-24|          comparable|            WOHNEN|KOMMODEN & SIDEBO...|           KOMMODEN|                  100565|            DDP|       thirdParty|             Tenzo AB|       riskshs|      1|             fallback|                  1|               23| 259|               64|             41|Domestic|         Domestic|\n",
      "|000000001000097478|2020-12-25|          comparable|            WOHNEN|KOMMODEN & SIDEBO...|           KOMMODEN|                  100565|            DDP|       thirdParty|             Tenzo AB|       riskshs|      1|             fallback|                  1|               60| 535|              145|            100|Domestic|         Domestic|\n",
      "|000000001000097478|2020-12-26|          comparable|            WOHNEN|KOMMODEN & SIDEBO...|           KOMMODEN|                  100565|            DDP|       thirdParty|             Tenzo AB|       riskshs|      1|             fallback|                  1|               24| 260|               65|             42|Domestic|         Domestic|\n",
      "|000000001000097478|2020-12-27|          comparable|            WOHNEN|KOMMODEN & SIDEBO...|           KOMMODEN|                  100565|            DDP|       thirdParty|             Tenzo AB|       riskshs|      1|             fallback|                  1|               37| 276|               81|             58|Domestic|         Domestic|\n",
      "|000000001000097478|2020-12-28|          comparable|            WOHNEN|KOMMODEN & SIDEBO...|           KOMMODEN|                  100565|            DDP|       thirdParty|             Tenzo AB|       riskshs|      1|             fallback|                  1|              133|1086|              306|            215|Domestic|         Domestic|\n",
      "|000000001000097478|2020-12-29|          comparable|            WOHNEN|KOMMODEN & SIDEBO...|           KOMMODEN|                  100565|            DDP|       thirdParty|             Tenzo AB|       riskshs|      1|             fallback|                  1|               37| 276|               81|             58|Domestic|         Domestic|\n",
      "|000000001000097478|2020-12-31|          comparable|            WOHNEN|KOMMODEN & SIDEBO...|           KOMMODEN|                  100565|            DDP|       thirdParty|             Tenzo AB|       riskshs|      1|             fallback|                  1|               49| 521|              131|             86|Domestic|         Domestic|\n",
      "|000000001000097478|2021-01-01|          comparable|            WOHNEN|KOMMODEN & SIDEBO...|           KOMMODEN|                  100565|            DDP|       thirdParty|             Tenzo AB|       riskshs|      1|             fallback|                  1|               31| 269|               74|             51|Domestic|         Domestic|\n",
      "|000000001000097478|2021-01-02|          comparable|            WOHNEN|KOMMODEN & SIDEBO...|           KOMMODEN|                  100565|            DDP|       thirdParty|             Tenzo AB|       riskshs|      1|             fallback|                  1|              111|1059|              279|            188|Domestic|         Domestic|\n",
      "|000000001000097478|2021-01-03|          comparable|            WOHNEN|KOMMODEN & SIDEBO...|           KOMMODEN|                  100565|            DDP|       thirdParty|             Tenzo AB|       riskshs|      1|             fallback|                  1|               18| 252|               57|             35|Domestic|         Domestic|\n",
      "|000000001000097478|2021-01-04|          comparable|            WOHNEN|KOMMODEN & SIDEBO...|           KOMMODEN|                  100565|            DDP|       thirdParty|             Tenzo AB|       riskshs|      1|             fallback|                  1|               31| 269|               74|             51|Domestic|         Domestic|\n",
      "|000000001000097478|2021-01-05|          comparable|            WOHNEN|KOMMODEN & SIDEBO...|           KOMMODEN|                  100565|            DDP|       thirdParty|             Tenzo AB|       riskshs|      1|             fallback|                  1|               98|1042|              262|            171|Domestic|         Domestic|\n",
      "|000000001000097478|2021-01-06|          comparable|            WOHNEN|KOMMODEN & SIDEBO...|           KOMMODEN|                  100565|            DDP|       thirdParty|             Tenzo AB|       riskshs|      1|             fallback|                  1|               31| 269|               74|             51|Domestic|         Domestic|\n",
      "|000000001000097478|2021-01-07|          comparable|            WOHNEN|KOMMODEN & SIDEBO...|           KOMMODEN|                  100565|            DDP|       thirdParty|             Tenzo AB|       riskshs|      1|             fallback|                  1|               31| 269|               74|             51|Domestic|         Domestic|\n",
      "|000000001000097478|2021-01-08|          comparable|            WOHNEN|KOMMODEN & SIDEBO...|           KOMMODEN|                  100565|            DDP|       thirdParty|             Tenzo AB|       riskshs|      1|             fallback|                  1|               62| 538|              148|            102|Domestic|         Domestic|\n",
      "|000000001000097478|2021-01-09|          comparable|            WOHNEN|KOMMODEN & SIDEBO...|           KOMMODEN|                  100565|            DDP|       thirdParty|             Tenzo AB|       riskshs|      1|             fallback|                  1|               49| 521|              131|             86|Domestic|         Domestic|\n",
      "|000000001000097478|2021-01-10|          comparable|            WOHNEN|KOMMODEN & SIDEBO...|           KOMMODEN|                  100565|            DDP|       thirdParty|             Tenzo AB|       riskshs|      1|             fallback|                  1|               93| 807|              222|            153|Domestic|         Domestic|\n",
      "|000000001000097478|2021-01-11|          comparable|            WOHNEN|KOMMODEN & SIDEBO...|           KOMMODEN|                  100565|            DDP|       thirdParty|             Tenzo AB|       riskshs|      1|             fallback|                  1|               31| 269|               74|             51|Domestic|         Domestic|\n",
      "|000000001000097478|2021-01-12|          comparable|            WOHNEN|KOMMODEN & SIDEBO...|           KOMMODEN|                  100565|            DDP|       thirdParty|             Tenzo AB|       riskshs|      1|             fallback|                  1|               31| 269|               74|             51|Domestic|         Domestic|\n",
      "|000000001000097478|2021-01-14|          comparable|            WOHNEN|KOMMODEN & SIDEBO...|           KOMMODEN|                  100565|            DDP|       thirdParty|             Tenzo AB|       riskshs|      1|             fallback|                  1|               26| 269|               68|             45|Domestic|         Domestic|\n",
      "|000000001000097478|2021-01-18|          comparable|            WOHNEN|KOMMODEN & SIDEBO...|           KOMMODEN|                  100565|            DDP|       thirdParty|             Tenzo AB|       riskshs|      1|             fallback|                  1|               90|1059|              256|            164|Domestic|         Domestic|\n",
      "|000000001000097478|2021-01-19|          comparable|            WOHNEN|KOMMODEN & SIDEBO...|           KOMMODEN|                  100565|            DDP|       thirdParty|             Tenzo AB|       riskshs|      1|             fallback|                  1|               26| 269|               68|             45|Domestic|         Domestic|\n",
      "|000000001000097478|2021-01-22|          comparable|            WOHNEN|KOMMODEN & SIDEBO...|           KOMMODEN|                  100565|            DDP|       thirdParty|             Tenzo AB|       riskshs|      1|             fallback|                  1|                5| 269|               68|             45|Domestic|         Domestic|\n",
      "|000000001000097478|2021-01-23|          comparable|            WOHNEN|KOMMODEN & SIDEBO...|           KOMMODEN|                  100565|            DDP|       thirdParty|             Tenzo AB|       riskshs|      1|             fallback|                  1|               46| 538|              136|             90|Domestic|         Domestic|\n",
      "|000000001000097478|2021-01-25|          comparable|            WOHNEN|KOMMODEN & SIDEBO...|           KOMMODEN|                  100565|            DDP|       thirdParty|             Tenzo AB|       riskshs|      1|             fallback|                  1|               26| 269|               68|             45|Domestic|         Domestic|\n",
      "|000000001000097478|2021-01-26|          comparable|            WOHNEN|KOMMODEN & SIDEBO...|           KOMMODEN|                  100565|            DDP|       thirdParty|             Tenzo AB|       riskshs|      1|             fallback|                  1|               23| 269|               68|             45|Domestic|         Domestic|\n",
      "+------------------+----------+--------------------+------------------+--------------------+-------------------+------------------------+---------------+-----------------+---------------------+--------------+-------+---------------------+-------------------+-----------------+----+-----------------+---------------+--------+-----------------+\n",
      "\n"
     ]
    }
   ],
   "source": [
    "df_item_dates = spark.sql(\"\"\"SELECT * from Fin_table where item_code = '000000001000097478' ORDER BY date ASC\"\"\")\n",
    "df_item_dates.show(500)"
   ],
   "metadata": {
    "collapsed": false,
    "pycharm": {
     "name": "#%%\n"
    }
   }
  },
  {
   "cell_type": "code",
   "execution_count": 17,
   "outputs": [],
   "source": [
    "pdf_fin = df_fin_table.toPandas()\n",
    "\n"
   ],
   "metadata": {
    "collapsed": false,
    "pycharm": {
     "name": "#%%\n"
    }
   }
  },
  {
   "cell_type": "code",
   "execution_count": 18,
   "outputs": [],
   "source": [
    "#MODEL IMPLEMENTATION\n",
    "import statsmodels.api as sm\n",
    "import statsmodels.formula.api as smf\n",
    "from scipy import stats\n",
    "\n",
    "list_of_num_columns = ['wh_flag','shop_pc2_margin','pocket_pc2_margin','nov','shop_gross_margin']\n",
    "for col in list_of_num_columns:\n",
    "    pdf_fin[col]=pd.to_numeric(pdf_fin[col])\n",
    "#pdf_fin = pdf_fin.astype({'wh_flag':'int32', 'shop_pc2_margin':'int32','item_main_category':'string','exclusivity_clean':'string','sourcing_location':'string' })\n"
   ],
   "metadata": {
    "collapsed": false,
    "pycharm": {
     "name": "#%%\n"
    }
   }
  },
  {
   "cell_type": "code",
   "execution_count": 19,
   "outputs": [
    {
     "name": "stdout",
     "output_type": "stream",
     "text": [
      "item_code                   object\n",
      "date                        object\n",
      "item_gtin_comparable        object\n",
      "item_main_category          object\n",
      "item_sub_category_1         object\n",
      "item_sub_category_2         object\n",
      "item_supplier_regular_id    object\n",
      "item_inco_terms             object\n",
      "exclusivity_clean           object\n",
      "item_supplier_regular       object\n",
      "inventory_flag              object\n",
      "wh_flag                      int64\n",
      "item_final_price_rule       object\n",
      "sellability_laso_de         object\n",
      "pocket_pc2_margin            int64\n",
      "nov                          int64\n",
      "shop_gross_margin            int64\n",
      "shop_pc2_margin              int64\n",
      "Type                        object\n",
      "sourcing_location           object\n",
      "dtype: object\n"
     ]
    }
   ],
   "source": [
    "print(pdf_fin.dtypes)"
   ],
   "metadata": {
    "collapsed": false,
    "pycharm": {
     "name": "#%%\n"
    }
   }
  },
  {
   "cell_type": "code",
   "execution_count": 20,
   "outputs": [
    {
     "data": {
      "text/plain": "'shop_pc2_margin ~ 0 + C(item_main_category) + C(exclusivity_clean) + C(sourcing_location) + C(wh_flag)'"
     },
     "execution_count": 20,
     "metadata": {},
     "output_type": "execute_result"
    }
   ],
   "source": [
    "desc = pat.ModelDesc.from_formula(\"shop_pc2_margin ~  C(item_main_category) + C(exclusivity_clean) + C(sourcing_location) + C(wh_flag) -1 \")\n",
    "desc.describe()"
   ],
   "metadata": {
    "collapsed": false,
    "pycharm": {
     "name": "#%%\n"
    }
   }
  },
  {
   "cell_type": "code",
   "execution_count": 21,
   "outputs": [
    {
     "name": "stdout",
     "output_type": "stream",
     "text": [
      "                            OLS Regression Results                            \n",
      "==============================================================================\n",
      "Dep. Variable:        shop_pc2_margin   R-squared:                       0.178\n",
      "Model:                            OLS   Adj. R-squared:                  0.178\n",
      "Method:                 Least Squares   F-statistic:                     6161.\n",
      "Date:                Fri, 29 Jan 2021   Prob (F-statistic):               0.00\n",
      "Time:                        15:55:56   Log-Likelihood:            -4.5319e+06\n",
      "No. Observations:              713360   AIC:                         9.064e+06\n",
      "Df Residuals:                  713334   BIC:                         9.064e+06\n",
      "Df Model:                          25                                         \n",
      "Covariance Type:            nonrobust                                         \n",
      "===================================================================================================================\n",
      "                                                      coef    std err          t      P>|t|      [0.025      0.975]\n",
      "-------------------------------------------------------------------------------------------------------------------\n",
      "Intercept                                         108.6696      2.797     38.846      0.000     103.187     114.152\n",
      "C(item_main_category)[T.BAD]                       -4.9477      2.859     -1.731      0.084     -10.551       0.656\n",
      "C(item_main_category)[T.BETTEN]                    92.8407      2.808     33.060      0.000      87.337      98.345\n",
      "C(item_main_category)[T.BOUTIQUE]                 -49.9370      2.899    -17.225      0.000     -55.619     -44.255\n",
      "C(item_main_category)[T.BÜRO]                      32.4860      2.837     11.450      0.000      26.925      38.047\n",
      "C(item_main_category)[T.ESSZIMMERSTÜHLE&BÄNKE]     52.0616      2.779     18.735      0.000      46.615      57.508\n",
      "C(item_main_category)[T.ESSZIMMERTISCHE]           61.5195      2.864     21.477      0.000      55.905      67.134\n",
      "C(item_main_category)[T.FLURMÖBEL]                 12.3772      2.813      4.399      0.000       6.863      17.891\n",
      "C(item_main_category)[T.GARTEN]                    28.9590      2.996      9.666      0.000      23.087      34.831\n",
      "C(item_main_category)[T.HAUSHALT]                 -53.6765     15.677     -3.424      0.001     -84.403     -22.950\n",
      "C(item_main_category)[T.HEIMTEXTILIEN]            -52.9807      2.871    -18.453      0.000     -58.608     -47.353\n",
      "C(item_main_category)[T.KINDER]                   -12.4465      3.345     -3.721      0.000     -19.003      -5.890\n",
      "C(item_main_category)[T.KÜCHE]                     56.8818      5.146     11.054      0.000      46.796      66.967\n",
      "C(item_main_category)[T.LEUCHTEN]                 -35.2291      2.766    -12.736      0.000     -40.651     -29.808\n",
      "C(item_main_category)[T.MATRATZEN&LATTENROSTE]     16.5612      2.883      5.745      0.000      10.912      22.211\n",
      "C(item_main_category)[T.POLSTER]                  119.8558      2.777     43.160      0.000     114.413     125.299\n",
      "C(item_main_category)[T.SCHLAFZIMMERMÖBEL]         23.6919      2.771      8.550      0.000      18.261      29.123\n",
      "C(item_main_category)[T.TEPPICHE & BODENBELÄGE]   -26.0204      2.861     -9.096      0.000     -31.627     -20.414\n",
      "C(item_main_category)[T.WOHNEN]                    54.3774      2.755     19.737      0.000      48.978      59.777\n",
      "C(exclusivity_clean)[T.other]                     -53.0480      0.892    -59.469      0.000     -54.796     -51.300\n",
      "C(exclusivity_clean)[T.ownDeveloped]                0.8361      0.861      0.972      0.331      -0.851       2.523\n",
      "C(exclusivity_clean)[T.thirdParty]                -42.5997      0.702    -60.665      0.000     -43.976     -41.223\n",
      "C(exclusivity_clean)[T.whiteLabel]                -40.6371      0.514    -79.114      0.000     -41.644     -39.630\n",
      "C(sourcing_location)[T.EE]                         20.3592      0.714     28.509      0.000      18.959      21.759\n",
      "C(sourcing_location)[T.Import]                     26.7176      0.524     50.993      0.000      25.691      27.744\n",
      "C(wh_flag)[T.1]                                    -8.5322      0.484    -17.645      0.000      -9.480      -7.584\n",
      "==============================================================================\n",
      "Omnibus:                   814627.466   Durbin-Watson:                   1.684\n",
      "Prob(Omnibus):                  0.000   Jarque-Bera (JB):        267553251.240\n",
      "Skew:                           5.528   Prob(JB):                         0.00\n",
      "Kurtosis:                      97.230   Cond. No.                         139.\n",
      "==============================================================================\n",
      "\n",
      "Notes:\n",
      "[1] Standard Errors assume that the covariance matrix of the errors is correctly specified.\n"
     ]
    }
   ],
   "source": [
    "reg_model_with_fe = smf.ols(\"shop_pc2_margin ~  C(item_main_category) + C(exclusivity_clean) + C(sourcing_location) + C(wh_flag) \",  pdf_fin,hasconst = True).fit()\n",
    "print(reg_model_with_fe.summary())\n",
    "#\n",
    "\n"
   ],
   "metadata": {
    "collapsed": false,
    "pycharm": {
     "name": "#%%\n"
    }
   }
  },
  {
   "cell_type": "code",
   "execution_count": 22,
   "outputs": [
    {
     "name": "stdout",
     "output_type": "stream",
     "text": [
      "                            OLS Regression Results                            \n",
      "==============================================================================\n",
      "Dep. Variable:        shop_pc2_margin   R-squared:                       0.025\n",
      "Model:                            OLS   Adj. R-squared:                  0.025\n",
      "Method:                 Least Squares   F-statistic:                 1.798e+04\n",
      "Date:                Fri, 29 Jan 2021   Prob (F-statistic):               0.00\n",
      "Time:                        15:55:59   Log-Likelihood:            -4.5928e+06\n",
      "No. Observations:              713360   AIC:                         9.186e+06\n",
      "Df Residuals:                  713358   BIC:                         9.186e+06\n",
      "Df Model:                           1                                         \n",
      "Covariance Type:            nonrobust                                         \n",
      "===================================================================================\n",
      "                      coef    std err          t      P>|t|      [0.025      0.975]\n",
      "-----------------------------------------------------------------------------------\n",
      "Intercept          84.4335      0.314    268.611      0.000      83.817      85.050\n",
      "C(wh_flag)[T.1]    51.2931      0.383    134.086      0.000      50.543      52.043\n",
      "==============================================================================\n",
      "Omnibus:                   776038.107   Durbin-Watson:                   1.441\n",
      "Prob(Omnibus):                  0.000   Jarque-Bera (JB):        172504720.867\n",
      "Skew:                           5.189   Prob(JB):                         0.00\n",
      "Kurtosis:                      78.472   Cond. No.                         3.27\n",
      "==============================================================================\n",
      "\n",
      "Notes:\n",
      "[1] Standard Errors assume that the covariance matrix of the errors is correctly specified.\n"
     ]
    }
   ],
   "source": [
    "WH_with_fe = smf.ols(\"shop_pc2_margin ~  C(wh_flag) \",  pdf_fin,hasconst = True).fit()\n",
    "print(WH_with_fe.summary())\n",
    "#\n"
   ],
   "metadata": {
    "collapsed": false,
    "pycharm": {
     "name": "#%%\n"
    }
   }
  },
  {
   "cell_type": "code",
   "execution_count": 24,
   "outputs": [
    {
     "name": "stdout",
     "output_type": "stream",
     "text": [
      "                                 OLS Regression Results                                \n",
      "=======================================================================================\n",
      "Dep. Variable:        shop_pc2_margin   R-squared (uncentered):                   0.487\n",
      "Model:                            OLS   Adj. R-squared (uncentered):              0.487\n",
      "Method:                 Least Squares   F-statistic:                          2.607e+04\n",
      "Date:                Fri, 29 Jan 2021   Prob (F-statistic):                        0.00\n",
      "Time:                        15:58:17   Log-Likelihood:                     -4.5319e+06\n",
      "No. Observations:              713360   AIC:                                  9.064e+06\n",
      "Df Residuals:                  713334   BIC:                                  9.064e+06\n",
      "Df Model:                          26                                                  \n",
      "Covariance Type:            nonrobust                                                  \n",
      "===================================================================================================================\n",
      "                                                      coef    std err          t      P>|t|      [0.025      0.975]\n",
      "-------------------------------------------------------------------------------------------------------------------\n",
      "C(wh_flag)[0]                                     108.6696      2.797     38.846      0.000     103.187     114.152\n",
      "C(wh_flag)[1]                                     100.1374      2.774     36.096      0.000      94.700     105.575\n",
      "C(sourcing_location)[T.EE]                         20.3592      0.714     28.509      0.000      18.959      21.759\n",
      "C(sourcing_location)[T.Import]                     26.7176      0.524     50.993      0.000      25.691      27.744\n",
      "C(exclusivity_clean)[T.other]                     -53.0480      0.892    -59.469      0.000     -54.796     -51.300\n",
      "C(exclusivity_clean)[T.ownDeveloped]                0.8361      0.861      0.972      0.331      -0.851       2.523\n",
      "C(exclusivity_clean)[T.thirdParty]                -42.5997      0.702    -60.665      0.000     -43.976     -41.223\n",
      "C(exclusivity_clean)[T.whiteLabel]                -40.6371      0.514    -79.114      0.000     -41.644     -39.630\n",
      "C(item_main_category)[T.BAD]                       -4.9477      2.859     -1.731      0.084     -10.551       0.656\n",
      "C(item_main_category)[T.BETTEN]                    92.8407      2.808     33.060      0.000      87.337      98.345\n",
      "C(item_main_category)[T.BOUTIQUE]                 -49.9370      2.899    -17.225      0.000     -55.619     -44.255\n",
      "C(item_main_category)[T.BÜRO]                      32.4860      2.837     11.450      0.000      26.925      38.047\n",
      "C(item_main_category)[T.ESSZIMMERSTÜHLE&BÄNKE]     52.0616      2.779     18.735      0.000      46.615      57.508\n",
      "C(item_main_category)[T.ESSZIMMERTISCHE]           61.5195      2.864     21.477      0.000      55.905      67.134\n",
      "C(item_main_category)[T.FLURMÖBEL]                 12.3772      2.813      4.399      0.000       6.863      17.891\n",
      "C(item_main_category)[T.GARTEN]                    28.9590      2.996      9.666      0.000      23.087      34.831\n",
      "C(item_main_category)[T.HAUSHALT]                 -53.6765     15.677     -3.424      0.001     -84.403     -22.950\n",
      "C(item_main_category)[T.HEIMTEXTILIEN]            -52.9807      2.871    -18.453      0.000     -58.608     -47.353\n",
      "C(item_main_category)[T.KINDER]                   -12.4465      3.345     -3.721      0.000     -19.003      -5.890\n",
      "C(item_main_category)[T.KÜCHE]                     56.8818      5.146     11.054      0.000      46.796      66.967\n",
      "C(item_main_category)[T.LEUCHTEN]                 -35.2291      2.766    -12.736      0.000     -40.651     -29.808\n",
      "C(item_main_category)[T.MATRATZEN&LATTENROSTE]     16.5612      2.883      5.745      0.000      10.912      22.211\n",
      "C(item_main_category)[T.POLSTER]                  119.8558      2.777     43.160      0.000     114.413     125.299\n",
      "C(item_main_category)[T.SCHLAFZIMMERMÖBEL]         23.6919      2.771      8.550      0.000      18.261      29.123\n",
      "C(item_main_category)[T.TEPPICHE & BODENBELÄGE]   -26.0204      2.861     -9.096      0.000     -31.627     -20.414\n",
      "C(item_main_category)[T.WOHNEN]                    54.3774      2.755     19.737      0.000      48.978      59.777\n",
      "==============================================================================\n",
      "Omnibus:                   814627.466   Durbin-Watson:                   1.684\n",
      "Prob(Omnibus):                  0.000   Jarque-Bera (JB):        267553251.240\n",
      "Skew:                           5.528   Prob(JB):                         0.00\n",
      "Kurtosis:                      97.230   Cond. No.                         106.\n",
      "==============================================================================\n",
      "\n",
      "Notes:\n",
      "[1] R² is computed without centering (uncentered) since the model does not contain a constant.\n",
      "[2] Standard Errors assume that the covariance matrix of the errors is correctly specified.\n"
     ]
    }
   ],
   "source": [
    "WH_with_fe_false = smf.ols(\"shop_pc2_margin ~  C(wh_flag) + C(sourcing_location) + C(exclusivity_clean) +C(item_main_category) -1\",  pdf_fin,hasconst = False).fit()\n",
    "print(WH_with_fe_false.summary())\n",
    "#\n"
   ],
   "metadata": {
    "collapsed": false,
    "pycharm": {
     "name": "#%%\n"
    }
   }
  },
  {
   "cell_type": "code",
   "execution_count": null,
   "outputs": [],
   "source": [
    "print('Old')\n"
   ],
   "metadata": {
    "collapsed": false,
    "pycharm": {
     "name": "#%%\n"
    }
   }
  },
  {
   "cell_type": "code",
   "execution_count": null,
   "outputs": [],
   "source": [
    "WH_with_fe_false = smf.ols(\"shop_pc2_margin/nov ~  C(wh_flag) + C(sourcing_location) \",  pdf_fin,hasconst = False).fit()\n",
    "print(WH_with_fe_false.summary())\n",
    "#\n",
    "\n"
   ],
   "metadata": {
    "collapsed": false,
    "pycharm": {
     "name": "#%%\n"
    }
   }
  },
  {
   "cell_type": "code",
   "execution_count": null,
   "outputs": [],
   "source": [
    "WH_with_fe_false = smf.ols(\"shop_pc2_margin ~  C(wh_flag)*C(sourcing_location)  -1\",  pdf_fin,hasconst = False).fit()\n",
    "print(WH_with_fe_false.summary())\n",
    "#\n",
    "\n"
   ],
   "metadata": {
    "collapsed": false,
    "pycharm": {
     "name": "#%%\n"
    }
   }
  },
  {
   "cell_type": "code",
   "execution_count": null,
   "outputs": [],
   "source": [
    "pdf_fin_dom = pdf_fin[pdf_fin['sourcing_location']== 'Domestic']\n",
    "\n",
    "reg_model_with_fe_dom = smf.ols(\"shop_pc2_margin ~ pocket_pc2_margin + C(wh_flag) + C(item_main_category) + C(exclusivity_clean) + C(sourcing_location)\", pdf_fin_dom).fit()\n",
    "print(reg_model_with_fe_dom.summary())\n"
   ],
   "metadata": {
    "collapsed": false,
    "pycharm": {
     "name": "#%%\n"
    }
   }
  },
  {
   "cell_type": "code",
   "execution_count": null,
   "outputs": [],
   "source": [],
   "metadata": {
    "collapsed": false,
    "pycharm": {
     "name": "#%%\n"
    }
   }
  }
 ],
 "metadata": {
  "kernelspec": {
   "display_name": "Python 3",
   "language": "python",
   "name": "python3"
  },
  "language_info": {
   "codemirror_mode": {
    "name": "ipython",
    "version": 2
   },
   "file_extension": ".py",
   "mimetype": "text/x-python",
   "name": "python",
   "nbconvert_exporter": "python",
   "pygments_lexer": "ipython2",
   "version": "2.7.6"
  }
 },
 "nbformat": 4,
 "nbformat_minor": 0
}