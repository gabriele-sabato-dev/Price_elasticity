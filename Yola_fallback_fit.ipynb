{
 "cells": [
  {
   "cell_type": "code",
   "execution_count": 1,
   "metadata": {
    "collapsed": true
   },
   "outputs": [],
   "source": [
    "from pyspark.sql import SparkSession\n",
    "from pyspark.sql.functions import *\n",
    "spark = SparkSession.builder.master('local').config('spark.driver.memory', '8g').appName('Yola_fit').getOrCreate()\n",
    "\n"
   ]
  },
  {
   "cell_type": "code",
   "execution_count": 2,
   "outputs": [],
   "source": [
    "df = spark.read.csv('/Users/gabriele.sabato/PycharmProjects/raw_data/Excel_files/Pricing_fallback_rule.csv', header='True')\n",
    "\n"
   ],
   "metadata": {
    "collapsed": false,
    "pycharm": {
     "name": "#%%\n"
    }
   }
  },
  {
   "cell_type": "code",
   "execution_count": 3,
   "outputs": [],
   "source": [
    "df.createOrReplaceTempView('Fallback_rule')"
   ],
   "metadata": {
    "collapsed": false,
    "pycharm": {
     "name": "#%%\n"
    }
   }
  },
  {
   "cell_type": "code",
   "execution_count": 4,
   "outputs": [
    {
     "name": "stdout",
     "output_type": "stream",
     "text": [
      "+------------------+----------+--------------------+--------------------+--------------------+-------------------+------------------------+---------------+-----------------+---------------------+--------------+-------+---------------------+-------------------+-----------------+---+-----------------+---------------+\n",
      "|         item_code|      date|item_gtin_comparable|  item_main_category| item_sub_category_1|item_sub_category_2|item_supplier_regular_id|item_inco_terms|exclusivity_clean|item_supplier_regular|inventory_flag|wh_flag|item_final_price_rule|sellability_laso_de|pocket_pc2_margin|nov|shop_gross_margin|shop_pc2_margin|\n",
      "+------------------+----------+--------------------+--------------------+--------------------+-------------------+------------------------+---------------+-----------------+---------------------+--------------+-------+---------------------+-------------------+-----------------+---+-----------------+---------------+\n",
      "|000000001000052666|2020-02-16|          comparable|              WOHNEN|              TISCHE|        COUCHTISCHE|                  100258|            DDP|       whiteLabel| Innostyle Möbelve...|       riskshs|      1|                 UNKN|                  1|               45|238|              129|             55|\n",
      "|000000001000174656|2020-02-10|      non-comparable|             POLSTER|         SCHLAFSOFAS|       QUERSCHLÄFER|                  100024|            FOB|       whiteLabel| Shanghai Chouqin ...|           tto|      1|                 UNKN|                  1|               44|403|              155|             64|\n",
      "|000000001000126299|2020-01-30|          comparable|   SCHLAFZIMMERMÖBEL|       NACHTKOMMODEN|      NACHTKOMMODEN|                  100001|            DDP|       whiteLabel| Actona Company AS...|           tto|      1|                 UNKN|                  1|                7| 76|               34|             26|\n",
      "|000000001000012680|2020-02-15|      non-comparable|ESSZIMMERSTÜHLE&B...|               BÄNKE|              BÄNKE|                  100989|            EXW|        exclusive|              Lamella|          laso|      1|                 UNKN|                  1|               81|218|              132|            102|\n",
      "|000000001000012680|2020-02-04|      non-comparable|ESSZIMMERSTÜHLE&B...|               BÄNKE|              BÄNKE|                  100989|            EXW|        exclusive|              Lamella|          laso|      1|                 UNKN|                  1|              121|328|              197|            153|\n",
      "|000000001000139829|2020-02-04|          comparable|             POLSTER|              SESSEL|        RELAXSESSEL|                  100140|            DDP|       whiteLabel| FEMO Trade GmbH &...|           tto|      1|                 UNKN|                  1|                7|255|               56|             32|\n",
      "|000000001000007319|2020-01-29|      non-comparable|     ESSZIMMERTISCHE|             ZUBEHÖR|            ZUBEHÖR|                  100630|            FOB|        exclusive| QUADRATO GMBH & C...|          laso|      1|                 UNKN|                  1|               -2| 67|               11|              2|\n",
      "|000000001000007057|2020-05-07|      non-comparable|              WOHNEN|       TV-MEDIAMÖBEL|       TV-LOWBOARDS|                  100524|            FOB|        exclusive|  SHEN ZHEN YA BEI SI|          laso|      1|                 UNKN|                  1|              125|336|              196|            178|\n",
      "|000000001000119434|2020-06-12|      non-comparable|ESSZIMMERSTÜHLE&B...|               BÄNKE|              BÄNKE|                  100490|            DDP|       whiteLabel| Sagemüller Handel...|           mto|      0|             fallback|                  1|               48|197|               76|             59|\n",
      "|000000001000016080|2020-06-29|          comparable|ESSZIMMERSTÜHLE&B...|               BÄNKE|              BÄNKE|                  100001|            FOB|       whiteLabel| Actona Company AS...|          laso|      1|             fallback|                  1|               47|118|               66|             57|\n",
      "|000000001000166608|2020-06-18|          comparable|            LEUCHTEN|       INNENLEUCHTEN|     PENDELLEUCHTEN|                  100059|            EXW|       thirdParty|         Brilliant AG|      dropship|      0|           compDeOnly|                  1|               24|100|               43|             33|\n",
      "|000000001000169675|2020-02-23|      non-comparable|ESSZIMMERSTÜHLE&B...|     ESSZIMMERSTÜHLE|      FREISCHWINGER|                  100345|            FOB|       whiteLabel| MCASIA FURNITURE ...|           tto|      1|                 UNKN|                  1|               88|269|              119|            101|\n",
      "|000000001000184378|2020-06-20|          comparable|            LEUCHTEN|       INNENLEUCHTEN|     PENDELLEUCHTEN|                  100548|            EXW|       thirdParty|   Trio Leuchten GmbH|      dropship|      0|             fallback|                  1|                4| 34|               15|             10|\n",
      "|000000001000118958|2020-04-30|      non-comparable|ESSZIMMERSTÜHLE&B...|     ESSZIMMERSTÜHLE|          KLASSISCH|                  100345|            FOB|       whiteLabel| MCASIA FURNITURE ...|          laso|      1|                 UNKN|                  1|              312|739|              446|            355|\n",
      "|000000001000117628|2020-03-21|      non-comparable|              GARTEN|        GARTENSTÜHLE|       GARTENSESSEL|                  100300|            FOB|       whiteLabel| VITUS Limited (Ha...|    lasogarden|      0|                 UNKN|                  1|              137|580|              365|            198|\n",
      "|000000001000152122|2020-07-12|          comparable|            LEUCHTEN|       INNENLEUCHTEN|     PENDELLEUCHTEN|                  100059|            EXW|       thirdParty|         Brilliant AG|      dropship|      0|           comparable|                  1|               18| 86|               43|             33|\n",
      "|000000001000202084|2020-06-26|          comparable|   SCHLAFZIMMERMÖBEL|KLEIDERSCHRÄNKE &...|            ZUBEHÖR|                  100456|            DDP|     ownDeveloped| Rauch Möbelwerke ...|          laso|      1|              catloaf|                  1|               24|101|               47|             31|\n",
      "|000000001000201166|2020-07-24|          comparable|ESSZIMMERSTÜHLE&B...|               BÄNKE|              BÄNKE|                  100345|            FOB|       whiteLabel| MCASIA FURNITURE ...|           tto|      1|              catloaf|                  1|              191|768|              437|            287|\n",
      "|000000001000138494|2020-07-03|          comparable|       HEIMTEXTILIEN|          BETTWÄSCHE|   BIBER-BETTWÄSCHE|                  100612|            EXW|       thirdParty| Wilh. Wülfing Gmb...|      dropship|      0|             fallback|                  1|                7| 57|               24|             14|\n",
      "|000000001000007590|2020-04-04|      non-comparable|             POLSTER|         SCHLAFSOFAS|       QUERSCHLÄFER|                  100458|            FOB|       whiteLabel| Foshan Relax Tech...|          laso|      1|                 UNKN|                  1|               69|193|              121|             76|\n",
      "+------------------+----------+--------------------+--------------------+--------------------+-------------------+------------------------+---------------+-----------------+---------------------+--------------+-------+---------------------+-------------------+-----------------+---+-----------------+---------------+\n",
      "only showing top 20 rows\n",
      "\n"
     ]
    }
   ],
   "source": [
    "df.show()"
   ],
   "metadata": {
    "collapsed": false,
    "pycharm": {
     "name": "#%%\n"
    }
   }
  },
  {
   "cell_type": "code",
   "execution_count": 5,
   "outputs": [],
   "source": [
    "import pandas as pd\n",
    "import numpy as np\n",
    "import patsy as pat\n",
    "\n"
   ],
   "metadata": {
    "collapsed": false,
    "pycharm": {
     "name": "#%%\n"
    }
   }
  },
  {
   "cell_type": "code",
   "execution_count": 6,
   "outputs": [
    {
     "name": "stdout",
     "output_type": "stream",
     "text": [
      "       SAP_ID                         Supplier_Name         Type\n",
      "2    100000.0                    Art of Living GmbH  Marketplace\n",
      "3    100001.0            Actona Company AS (Inland)     Domestic\n",
      "4    100002.0   Actona Company A/S (Hauptwerk SHANG   FOB Import\n",
      "5    100003.0                      Actual Diffusion  Marketplace\n",
      "6    100004.0                   Arte M GmbH & Co.KG     Domestic\n",
      "..        ...                                   ...          ...\n",
      "103  100109.0   Duo Collection Import Vertriebsgese     Domestic\n",
      "104  100110.0                          David & Luna     Domestic\n",
      "105  100111.0  design3000 Vertriebsgesellschaft mbH  Marketplace\n",
      "106  100112.0             Dreisitz-design Sp.z.o.o.     Domestic\n",
      "107  100113.0                          Dan-Form A/S     Domestic\n",
      "\n",
      "[100 rows x 3 columns]\n"
     ]
    }
   ],
   "source": [
    "pdf_sap = pd.read_excel('/Users/gabriele.sabato/PycharmProjects/raw_data/Excel_files/Lieferanten_Master_Data_SAP_V2.xlsx',header=3, usecols=['SAP_ID','Supplier_Name','Type'])#,'Type'])\n",
    "pdf_sap.dropna(inplace=True)\n",
    "print(pdf_sap.head(100))\n",
    "\n",
    "\n",
    "#df_sap = spark.createDataFrame(pdf_sap)\n",
    "\n"
   ],
   "metadata": {
    "collapsed": false,
    "pycharm": {
     "name": "#%%\n"
    }
   }
  },
  {
   "cell_type": "code",
   "execution_count": 7,
   "outputs": [
    {
     "name": "stdout",
     "output_type": "stream",
     "text": [
      "SAP_ID           float64\n",
      "Supplier_Name     object\n",
      "Type              object\n",
      "dtype: object\n",
      "SAP_ID            int32\n",
      "Supplier_Name    string\n",
      "Type             string\n",
      "dtype: object\n"
     ]
    }
   ],
   "source": [
    "print(pdf_sap.dtypes)\n",
    "pdf_sap_filt = pdf_sap.astype({'SAP_ID': 'int32', 'Supplier_Name': 'string','Type':'string'})\n",
    "print(pdf_sap_filt.dtypes)\n",
    "\n"
   ],
   "metadata": {
    "collapsed": false,
    "pycharm": {
     "name": "#%%\n"
    }
   }
  },
  {
   "cell_type": "code",
   "execution_count": 8,
   "outputs": [],
   "source": [
    "df_sap = spark.createDataFrame(pdf_sap_filt)\n",
    "df_sap.createOrReplaceTempView('SAP_id')"
   ],
   "metadata": {
    "collapsed": false,
    "pycharm": {
     "name": "#%%\n"
    }
   }
  },
  {
   "cell_type": "code",
   "execution_count": 9,
   "outputs": [],
   "source": [
    "df_sap_INJOIN = spark.sql(\"\"\"SELECT fbr.*, sap.Type\n",
    "                                from Fallback_rule as fbr\n",
    "                              INNER JOIN SAP_id as sap on sap.SAP_ID = CAST(fbr.item_supplier_regular_id as INT) \"\"\")"
   ],
   "metadata": {
    "collapsed": false,
    "pycharm": {
     "name": "#%%\n"
    }
   }
  },
  {
   "cell_type": "code",
   "execution_count": 10,
   "outputs": [],
   "source": [
    "df_sap_INJOIN.createOrReplaceTempView('IN_JOIN_Table')"
   ],
   "metadata": {
    "collapsed": false,
    "pycharm": {
     "name": "#%%\n"
    }
   }
  },
  {
   "cell_type": "code",
   "execution_count": 11,
   "outputs": [
    {
     "name": "stdout",
     "output_type": "stream",
     "text": [
      "+------------------+----------+--------------------+------------------+--------------------+--------------------+------------------------+---------------+-----------------+---------------------+--------------+-------+---------------------+-------------------+-----------------+----+-----------------+---------------+--------+\n",
      "|         item_code|      date|item_gtin_comparable|item_main_category| item_sub_category_1| item_sub_category_2|item_supplier_regular_id|item_inco_terms|exclusivity_clean|item_supplier_regular|inventory_flag|wh_flag|item_final_price_rule|sellability_laso_de|pocket_pc2_margin| nov|shop_gross_margin|shop_pc2_margin|    Type|\n",
      "+------------------+----------+--------------------+------------------+--------------------+--------------------+------------------------+---------------+-----------------+---------------------+--------------+-------+---------------------+-------------------+-----------------+----+-----------------+---------------+--------+\n",
      "|000000001000097652|2020-06-09|          comparable|            WOHNEN|              REGALE|          WANDREGALE|                  100565|            DDP|       thirdParty|             Tenzo AB|    realshsmov|      0|                 UNKN|                  1|               11|  42|               23|             15|Domestic|\n",
      "|000000001000097578|2020-05-14|          comparable|            WOHNEN|KOMMODEN & SIDEBO...|            KOMMODEN|                  100565|            DDP|       thirdParty|             Tenzo AB|    realshsmov|      0|                 UNKN|                  1|               61| 250|               95|             76|Domestic|\n",
      "|000000001000097652|2020-05-16|          comparable|            WOHNEN|              REGALE|          WANDREGALE|                  100565|            DDP|       thirdParty|             Tenzo AB|    realshsmov|      0|                 UNKN|                  1|               11|  42|               24|             15|Domestic|\n",
      "|000000001000097495|2020-05-31|          comparable|            WOHNEN|KOMMODEN & SIDEBO...|          SIDEBOARDS|                  100565|            DDP|       thirdParty|             Tenzo AB|    realshsmov|      0|                 UNKN|                  1|               30| 303|              106|             52|Domestic|\n",
      "|000000001000097495|2020-06-06|          comparable|            WOHNEN|KOMMODEN & SIDEBO...|          SIDEBOARDS|                  100565|            DDP|       thirdParty|             Tenzo AB|    realshsmov|      0|                 UNKN|                  1|               -7| 271|               66|             13|Domestic|\n",
      "|000000001000143933|2020-07-02|          comparable|            WOHNEN|KOMMODEN & SIDEBO...|          SIDEBOARDS|                  100565|            DDP|       thirdParty|             Tenzo AB|    realshsmov|      0|              catloaf|                  1|              161| 578|              292|            238|Domestic|\n",
      "|000000001000097478|2020-02-19|          comparable|            WOHNEN|KOMMODEN & SIDEBO...|            KOMMODEN|                  100565|            DDP|       thirdParty|             Tenzo AB|       riskshs|      1|                 UNKN|                  1|               80| 319|              123|            103|Domestic|\n",
      "|000000001000226370|2020-11-27|          comparable|            WOHNEN|              TISCHE|         COUCHTISCHE|                  100565|            DDP|            other|             Tenzo AB|    realshsmov|      0|              catloaf|                  1|               27| 140|               53|             41|Domestic|\n",
      "|000000001000097478|2020-06-14|          comparable|            WOHNEN|KOMMODEN & SIDEBO...|            KOMMODEN|                  100565|            DDP|       thirdParty|             Tenzo AB|       riskshs|      1|              catloaf|                  1|              275|1008|              424|            362|Domestic|\n",
      "|000000001000097478|2020-04-07|          comparable|            WOHNEN|KOMMODEN & SIDEBO...|            KOMMODEN|                  100565|            DDP|       thirdParty|             Tenzo AB|       riskshs|      1|                 UNKN|                  1|               88| 571|              180|            140|Domestic|\n",
      "|000000001000097478|2020-04-14|          comparable|            WOHNEN|KOMMODEN & SIDEBO...|            KOMMODEN|                  100565|            DDP|       thirdParty|             Tenzo AB|       riskshs|      1|                 UNKN|                  1|               62| 294|               98|             78|Domestic|\n",
      "|000000001000178311|2020-05-25|          comparable|         FLURMÖBEL|          GARDEROBEN|      DIELENKOMMODEN|                  100565|            DDP|       thirdParty|             Tenzo AB|    realshsmov|      0|                 UNKN|                  1|               73| 286|              131|            106|Domestic|\n",
      "|000000001000132548|2020-05-14|          comparable|              BÜRO|       SCHREIBTISCHE|GERADE SCHREIBTISCHE|                  100565|            DDP|       thirdParty|             Tenzo AB|    realshsmov|      0|                 UNKN|                  1|               46| 193|               76|             65|Domestic|\n",
      "|000000001000097478|2020-03-03|          comparable|            WOHNEN|KOMMODEN & SIDEBO...|            KOMMODEN|                  100565|            DDP|       thirdParty|             Tenzo AB|       riskshs|      1|                 UNKN|                  1|               82| 336|              140|            120|Domestic|\n",
      "|000000001000097478|2020-04-21|          comparable|            WOHNEN|KOMMODEN & SIDEBO...|            KOMMODEN|                  100565|            DDP|       thirdParty|             Tenzo AB|       riskshs|      1|                 UNKN|                  1|               56| 294|               98|             78|Domestic|\n",
      "|000000001000097478|2020-04-09|          comparable|            WOHNEN|KOMMODEN & SIDEBO...|            KOMMODEN|                  100565|            DDP|       thirdParty|             Tenzo AB|       riskshs|      1|                 UNKN|                  1|               62| 294|               98|             78|Domestic|\n",
      "|000000001000097478|2020-04-27|          comparable|            WOHNEN|KOMMODEN & SIDEBO...|            KOMMODEN|                  100565|            DDP|       thirdParty|             Tenzo AB|       riskshs|      1|                 UNKN|                  1|               47| 279|              103|             84|Domestic|\n",
      "|000000001000097472|2021-01-12|          comparable|            WOHNEN|KOMMODEN & SIDEBO...|          HIGHBOARDS|                  100565|            DDP|       thirdParty|             Tenzo AB|       riskshs|      1|             fallback|                  1|              219|1260|              392|            256|Domestic|\n",
      "|000000001000097478|2020-02-24|          comparable|            WOHNEN|KOMMODEN & SIDEBO...|            KOMMODEN|                  100565|            DDP|       thirdParty|             Tenzo AB|       riskshs|      1|                 UNKN|                  1|              158| 635|              243|            203|Domestic|\n",
      "|000000001000097478|2020-06-09|          comparable|            WOHNEN|KOMMODEN & SIDEBO...|            KOMMODEN|                  100565|            DDP|       thirdParty|             Tenzo AB|       riskshs|      1|                 UNKN|                  1|               96| 336|              141|            121|Domestic|\n",
      "+------------------+----------+--------------------+------------------+--------------------+--------------------+------------------------+---------------+-----------------+---------------------+--------------+-------+---------------------+-------------------+-----------------+----+-----------------+---------------+--------+\n",
      "only showing top 20 rows\n",
      "\n"
     ]
    }
   ],
   "source": [
    "df_sap_INJOIN.show()"
   ],
   "metadata": {
    "collapsed": false,
    "pycharm": {
     "name": "#%%\n"
    }
   }
  },
  {
   "cell_type": "code",
   "execution_count": 25,
   "outputs": [],
   "source": [
    "df_fin_table = spark.sql(\"\"\" SELECT ijt.*, shop_pc2_margin/nov  as shop_pc2_margin_nov_ratio,\n",
    "        CASE\n",
    "           when ijt.item_inco_terms = 'FOB'\n",
    "               then 'Import'\n",
    "           when LOWER(ijt.Type) LIKE 'eastern europe'\n",
    "               then 'EE'\n",
    "           when LOWER(ijt.Type) LIKE 'import'\n",
    "               then 'Import'\n",
    "           else 'Domestic' END                                                              as sourcing_location\n",
    "            from IN_JOIN_Table as ijt\n",
    "\"\"\")\n",
    "#shop_pc2_margin/NOV\n"
   ],
   "metadata": {
    "collapsed": false,
    "pycharm": {
     "name": "#%%\n"
    }
   }
  },
  {
   "cell_type": "code",
   "execution_count": 26,
   "outputs": [
    {
     "name": "stdout",
     "output_type": "stream",
     "text": [
      "+------------------+----------+--------------------+------------------+--------------------+--------------------+------------------------+---------------+-----------------+---------------------+--------------+-------+---------------------+-------------------+-----------------+----+-----------------+---------------+--------+-------------------------+-----------------+\n",
      "|         item_code|      date|item_gtin_comparable|item_main_category| item_sub_category_1| item_sub_category_2|item_supplier_regular_id|item_inco_terms|exclusivity_clean|item_supplier_regular|inventory_flag|wh_flag|item_final_price_rule|sellability_laso_de|pocket_pc2_margin| nov|shop_gross_margin|shop_pc2_margin|    Type|shop_pc2_margin_nov_ratio|sourcing_location|\n",
      "+------------------+----------+--------------------+------------------+--------------------+--------------------+------------------------+---------------+-----------------+---------------------+--------------+-------+---------------------+-------------------+-----------------+----+-----------------+---------------+--------+-------------------------+-----------------+\n",
      "|000000001000097652|2020-06-09|          comparable|            WOHNEN|              REGALE|          WANDREGALE|                  100565|            DDP|       thirdParty|             Tenzo AB|    realshsmov|      0|                 UNKN|                  1|               11|  42|               23|             15|Domestic|      0.35714285714285715|         Domestic|\n",
      "|000000001000097578|2020-05-14|          comparable|            WOHNEN|KOMMODEN & SIDEBO...|            KOMMODEN|                  100565|            DDP|       thirdParty|             Tenzo AB|    realshsmov|      0|                 UNKN|                  1|               61| 250|               95|             76|Domestic|                    0.304|         Domestic|\n",
      "|000000001000097652|2020-05-16|          comparable|            WOHNEN|              REGALE|          WANDREGALE|                  100565|            DDP|       thirdParty|             Tenzo AB|    realshsmov|      0|                 UNKN|                  1|               11|  42|               24|             15|Domestic|      0.35714285714285715|         Domestic|\n",
      "|000000001000097495|2020-05-31|          comparable|            WOHNEN|KOMMODEN & SIDEBO...|          SIDEBOARDS|                  100565|            DDP|       thirdParty|             Tenzo AB|    realshsmov|      0|                 UNKN|                  1|               30| 303|              106|             52|Domestic|       0.1716171617161716|         Domestic|\n",
      "|000000001000097495|2020-06-06|          comparable|            WOHNEN|KOMMODEN & SIDEBO...|          SIDEBOARDS|                  100565|            DDP|       thirdParty|             Tenzo AB|    realshsmov|      0|                 UNKN|                  1|               -7| 271|               66|             13|Domestic|      0.04797047970479705|         Domestic|\n",
      "|000000001000143933|2020-07-02|          comparable|            WOHNEN|KOMMODEN & SIDEBO...|          SIDEBOARDS|                  100565|            DDP|       thirdParty|             Tenzo AB|    realshsmov|      0|              catloaf|                  1|              161| 578|              292|            238|Domestic|       0.4117647058823529|         Domestic|\n",
      "|000000001000097478|2020-02-19|          comparable|            WOHNEN|KOMMODEN & SIDEBO...|            KOMMODEN|                  100565|            DDP|       thirdParty|             Tenzo AB|       riskshs|      1|                 UNKN|                  1|               80| 319|              123|            103|Domestic|        0.322884012539185|         Domestic|\n",
      "|000000001000226370|2020-11-27|          comparable|            WOHNEN|              TISCHE|         COUCHTISCHE|                  100565|            DDP|            other|             Tenzo AB|    realshsmov|      0|              catloaf|                  1|               27| 140|               53|             41|Domestic|      0.29285714285714287|         Domestic|\n",
      "|000000001000097478|2020-06-14|          comparable|            WOHNEN|KOMMODEN & SIDEBO...|            KOMMODEN|                  100565|            DDP|       thirdParty|             Tenzo AB|       riskshs|      1|              catloaf|                  1|              275|1008|              424|            362|Domestic|      0.35912698412698413|         Domestic|\n",
      "|000000001000097478|2020-04-07|          comparable|            WOHNEN|KOMMODEN & SIDEBO...|            KOMMODEN|                  100565|            DDP|       thirdParty|             Tenzo AB|       riskshs|      1|                 UNKN|                  1|               88| 571|              180|            140|Domestic|      0.24518388791593695|         Domestic|\n",
      "|000000001000097478|2020-04-14|          comparable|            WOHNEN|KOMMODEN & SIDEBO...|            KOMMODEN|                  100565|            DDP|       thirdParty|             Tenzo AB|       riskshs|      1|                 UNKN|                  1|               62| 294|               98|             78|Domestic|       0.2653061224489796|         Domestic|\n",
      "|000000001000178311|2020-05-25|          comparable|         FLURMÖBEL|          GARDEROBEN|      DIELENKOMMODEN|                  100565|            DDP|       thirdParty|             Tenzo AB|    realshsmov|      0|                 UNKN|                  1|               73| 286|              131|            106|Domestic|       0.3706293706293706|         Domestic|\n",
      "|000000001000132548|2020-05-14|          comparable|              BÜRO|       SCHREIBTISCHE|GERADE SCHREIBTISCHE|                  100565|            DDP|       thirdParty|             Tenzo AB|    realshsmov|      0|                 UNKN|                  1|               46| 193|               76|             65|Domestic|      0.33678756476683935|         Domestic|\n",
      "|000000001000097478|2020-03-03|          comparable|            WOHNEN|KOMMODEN & SIDEBO...|            KOMMODEN|                  100565|            DDP|       thirdParty|             Tenzo AB|       riskshs|      1|                 UNKN|                  1|               82| 336|              140|            120|Domestic|      0.35714285714285715|         Domestic|\n",
      "|000000001000097478|2020-04-21|          comparable|            WOHNEN|KOMMODEN & SIDEBO...|            KOMMODEN|                  100565|            DDP|       thirdParty|             Tenzo AB|       riskshs|      1|                 UNKN|                  1|               56| 294|               98|             78|Domestic|       0.2653061224489796|         Domestic|\n",
      "|000000001000097478|2020-04-09|          comparable|            WOHNEN|KOMMODEN & SIDEBO...|            KOMMODEN|                  100565|            DDP|       thirdParty|             Tenzo AB|       riskshs|      1|                 UNKN|                  1|               62| 294|               98|             78|Domestic|       0.2653061224489796|         Domestic|\n",
      "|000000001000097478|2020-04-27|          comparable|            WOHNEN|KOMMODEN & SIDEBO...|            KOMMODEN|                  100565|            DDP|       thirdParty|             Tenzo AB|       riskshs|      1|                 UNKN|                  1|               47| 279|              103|             84|Domestic|       0.3010752688172043|         Domestic|\n",
      "|000000001000097472|2021-01-12|          comparable|            WOHNEN|KOMMODEN & SIDEBO...|          HIGHBOARDS|                  100565|            DDP|       thirdParty|             Tenzo AB|       riskshs|      1|             fallback|                  1|              219|1260|              392|            256|Domestic|      0.20317460317460317|         Domestic|\n",
      "|000000001000097478|2020-02-24|          comparable|            WOHNEN|KOMMODEN & SIDEBO...|            KOMMODEN|                  100565|            DDP|       thirdParty|             Tenzo AB|       riskshs|      1|                 UNKN|                  1|              158| 635|              243|            203|Domestic|      0.31968503937007875|         Domestic|\n",
      "|000000001000097478|2020-06-09|          comparable|            WOHNEN|KOMMODEN & SIDEBO...|            KOMMODEN|                  100565|            DDP|       thirdParty|             Tenzo AB|       riskshs|      1|                 UNKN|                  1|               96| 336|              141|            121|Domestic|       0.3601190476190476|         Domestic|\n",
      "+------------------+----------+--------------------+------------------+--------------------+--------------------+------------------------+---------------+-----------------+---------------------+--------------+-------+---------------------+-------------------+-----------------+----+-----------------+---------------+--------+-------------------------+-----------------+\n",
      "only showing top 20 rows\n",
      "\n"
     ]
    }
   ],
   "source": [
    "df_fin_table.show()\n",
    "df_fin_table.createOrReplaceTempView('Fin_table')"
   ],
   "metadata": {
    "collapsed": false,
    "pycharm": {
     "name": "#%%\n"
    }
   }
  },
  {
   "cell_type": "code",
   "execution_count": 75,
   "outputs": [],
   "source": [
    "df_test = spark.sql(\"\"\"SELECT DISTINCT exclusivity_clean from Fin_table \"\"\")"
   ],
   "metadata": {
    "collapsed": false,
    "pycharm": {
     "name": "#%%\n"
    }
   }
  },
  {
   "cell_type": "code",
   "execution_count": 76,
   "outputs": [
    {
     "name": "stdout",
     "output_type": "stream",
     "text": [
      "+-----------------+\n",
      "|exclusivity_clean|\n",
      "+-----------------+\n",
      "|        exclusive|\n",
      "|            other|\n",
      "|       thirdParty|\n",
      "|     ownDeveloped|\n",
      "|       whiteLabel|\n",
      "+-----------------+\n",
      "\n"
     ]
    }
   ],
   "source": [
    "df_test.show()"
   ],
   "metadata": {
    "collapsed": false,
    "pycharm": {
     "name": "#%%\n"
    }
   }
  },
  {
   "cell_type": "code",
   "execution_count": 29,
   "outputs": [
    {
     "name": "stdout",
     "output_type": "stream",
     "text": [
      "+------------------+----------+--------------------+------------------+--------------------+-------------------+------------------------+---------------+-----------------+---------------------+--------------+-------+---------------------+-------------------+-----------------+----+-----------------+---------------+--------+-------------------------+-----------------+\n",
      "|         item_code|      date|item_gtin_comparable|item_main_category| item_sub_category_1|item_sub_category_2|item_supplier_regular_id|item_inco_terms|exclusivity_clean|item_supplier_regular|inventory_flag|wh_flag|item_final_price_rule|sellability_laso_de|pocket_pc2_margin| nov|shop_gross_margin|shop_pc2_margin|    Type|shop_pc2_margin_nov_ratio|sourcing_location|\n",
      "+------------------+----------+--------------------+------------------+--------------------+-------------------+------------------------+---------------+-----------------+---------------------+--------------+-------+---------------------+-------------------+-----------------+----+-----------------+---------------+--------+-------------------------+-----------------+\n",
      "|000000001000097478|2020-02-02|          comparable|            WOHNEN|KOMMODEN & SIDEBO...|           KOMMODEN|                  100565|            DDP|       thirdParty|             Tenzo AB|       riskshs|      1|                 UNKN|                  1|              146| 622|              230|            190|Domestic|       0.3054662379421222|         Domestic|\n",
      "|000000001000097478|2020-02-09|          comparable|            WOHNEN|KOMMODEN & SIDEBO...|           KOMMODEN|                  100565|            DDP|       thirdParty|             Tenzo AB|       riskshs|      1|                 UNKN|                  1|               51| 286|               90|             70|Domestic|      0.24475524475524477|         Domestic|\n",
      "|000000001000097478|2020-02-10|          comparable|            WOHNEN|KOMMODEN & SIDEBO...|           KOMMODEN|                  100565|            DDP|       thirdParty|             Tenzo AB|       riskshs|      1|                 UNKN|                  1|               51| 286|               90|             70|Domestic|      0.24475524475524477|         Domestic|\n",
      "|000000001000097478|2020-02-19|          comparable|            WOHNEN|KOMMODEN & SIDEBO...|           KOMMODEN|                  100565|            DDP|       thirdParty|             Tenzo AB|       riskshs|      1|                 UNKN|                  1|               80| 319|              123|            103|Domestic|        0.322884012539185|         Domestic|\n",
      "|000000001000097478|2020-02-20|          comparable|            WOHNEN|KOMMODEN & SIDEBO...|           KOMMODEN|                  100565|            DDP|       thirdParty|             Tenzo AB|       riskshs|      1|                 UNKN|                  1|               80| 319|              123|            103|Domestic|        0.322884012539185|         Domestic|\n",
      "|000000001000097478|2020-02-24|          comparable|            WOHNEN|KOMMODEN & SIDEBO...|           KOMMODEN|                  100565|            DDP|       thirdParty|             Tenzo AB|       riskshs|      1|                 UNKN|                  1|              158| 635|              243|            203|Domestic|      0.31968503937007875|         Domestic|\n",
      "|000000001000097478|2020-02-25|          comparable|            WOHNEN|KOMMODEN & SIDEBO...|           KOMMODEN|                  100565|            DDP|       thirdParty|             Tenzo AB|       riskshs|      1|                 UNKN|                  1|               95| 336|              140|            120|Domestic|      0.35714285714285715|         Domestic|\n",
      "|000000001000097478|2020-03-01|          comparable|            WOHNEN|KOMMODEN & SIDEBO...|           KOMMODEN|                  100565|            DDP|       thirdParty|             Tenzo AB|       riskshs|      1|                 UNKN|                  1|               88| 571|              180|            141|Domestic|       0.2469352014010508|         Domestic|\n",
      "|000000001000097478|2020-03-02|          comparable|            WOHNEN|KOMMODEN & SIDEBO...|           KOMMODEN|                  100565|            DDP|       thirdParty|             Tenzo AB|       riskshs|      1|                 UNKN|                  1|              214|1193|              410|            331|Domestic|       0.2774518021793797|         Domestic|\n",
      "|000000001000097478|2020-03-03|          comparable|            WOHNEN|KOMMODEN & SIDEBO...|           KOMMODEN|                  100565|            DDP|       thirdParty|             Tenzo AB|       riskshs|      1|                 UNKN|                  1|               82| 336|              140|            120|Domestic|      0.35714285714285715|         Domestic|\n",
      "|000000001000097478|2020-03-08|          comparable|            WOHNEN|KOMMODEN & SIDEBO...|           KOMMODEN|                  100565|            DDP|       thirdParty|             Tenzo AB|       riskshs|      1|                 UNKN|                  1|               44| 286|               90|             70|Domestic|      0.24475524475524477|         Domestic|\n",
      "|000000001000097478|2020-03-09|          comparable|            WOHNEN|KOMMODEN & SIDEBO...|           KOMMODEN|                  100565|            DDP|       thirdParty|             Tenzo AB|       riskshs|      1|                 UNKN|                  1|               44| 286|               90|             70|Domestic|      0.24475524475524477|         Domestic|\n",
      "|000000001000097478|2020-03-11|          comparable|            WOHNEN|KOMMODEN & SIDEBO...|           KOMMODEN|                  100565|            DDP|       thirdParty|             Tenzo AB|       riskshs|      1|                 UNKN|                  1|               44| 286|               90|             70|Domestic|      0.24475524475524477|         Domestic|\n",
      "|000000001000097478|2020-03-14|          comparable|            WOHNEN|KOMMODEN & SIDEBO...|           KOMMODEN|                  100565|            DDP|       thirdParty|             Tenzo AB|       riskshs|      1|                 UNKN|                  1|              126| 622|              230|            190|Domestic|       0.3054662379421222|         Domestic|\n",
      "|000000001000097478|2020-03-15|          comparable|            WOHNEN|KOMMODEN & SIDEBO...|           KOMMODEN|                  100565|            DDP|       thirdParty|             Tenzo AB|       riskshs|      1|                 UNKN|                  1|               44| 286|               90|             70|Domestic|      0.24475524475524477|         Domestic|\n",
      "|000000001000097478|2020-03-16|          comparable|            WOHNEN|KOMMODEN & SIDEBO...|           KOMMODEN|                  100565|            DDP|       thirdParty|             Tenzo AB|       riskshs|      1|                 UNKN|                  1|               44| 286|               90|             70|Domestic|      0.24475524475524477|         Domestic|\n",
      "|000000001000097478|2020-03-19|          comparable|            WOHNEN|KOMMODEN & SIDEBO...|           KOMMODEN|                  100565|            DDP|       thirdParty|             Tenzo AB|       riskshs|      1|                 UNKN|                  1|               44| 286|               90|             70|Domestic|      0.24475524475524477|         Domestic|\n",
      "|000000001000097478|2020-03-20|          comparable|            WOHNEN|KOMMODEN & SIDEBO...|           KOMMODEN|                  100565|            DDP|       thirdParty|             Tenzo AB|       riskshs|      1|                 UNKN|                  1|               82| 336|              140|            120|Domestic|      0.35714285714285715|         Domestic|\n",
      "|000000001000097478|2020-03-22|          comparable|            WOHNEN|KOMMODEN & SIDEBO...|           KOMMODEN|                  100565|            DDP|       thirdParty|             Tenzo AB|       riskshs|      1|                 UNKN|                  1|              126| 622|              230|            190|Domestic|       0.3054662379421222|         Domestic|\n",
      "|000000001000097478|2020-03-23|          comparable|            WOHNEN|KOMMODEN & SIDEBO...|           KOMMODEN|                  100565|            DDP|       thirdParty|             Tenzo AB|       riskshs|      1|                 UNKN|                  1|               44| 286|               90|             70|Domestic|      0.24475524475524477|         Domestic|\n",
      "|000000001000097478|2020-03-29|          comparable|            WOHNEN|KOMMODEN & SIDEBO...|           KOMMODEN|                  100565|            DDP|       thirdParty|             Tenzo AB|       riskshs|      1|                 UNKN|                  1|               69| 319|              123|            103|Domestic|        0.322884012539185|         Domestic|\n",
      "|000000001000097478|2020-03-30|          comparable|            WOHNEN|KOMMODEN & SIDEBO...|           KOMMODEN|                  100565|            DDP|       thirdParty|             Tenzo AB|       riskshs|      1|                 UNKN|                  1|               50| 294|               98|             78|Domestic|       0.2653061224489796|         Domestic|\n",
      "|000000001000097478|2020-03-31|          comparable|            WOHNEN|KOMMODEN & SIDEBO...|           KOMMODEN|                  100565|            DDP|       thirdParty|             Tenzo AB|       riskshs|      1|                 UNKN|                  1|              150| 882|              295|            235|Domestic|      0.26643990929705214|         Domestic|\n",
      "|000000001000097478|2020-04-02|          comparable|            WOHNEN|KOMMODEN & SIDEBO...|           KOMMODEN|                  100565|            DDP|       thirdParty|             Tenzo AB|       riskshs|      1|                 UNKN|                  1|               50| 294|               98|             78|Domestic|       0.2653061224489796|         Domestic|\n",
      "|000000001000097478|2020-04-04|          comparable|            WOHNEN|KOMMODEN & SIDEBO...|           KOMMODEN|                  100565|            DDP|       thirdParty|             Tenzo AB|       riskshs|      1|                 UNKN|                  1|               88| 571|              180|            140|Domestic|      0.24518388791593695|         Domestic|\n",
      "|000000001000097478|2020-04-05|          comparable|            WOHNEN|KOMMODEN & SIDEBO...|           KOMMODEN|                  100565|            DDP|       thirdParty|             Tenzo AB|       riskshs|      1|                 UNKN|                  1|               43| 284|               88|             68|Domestic|      0.23943661971830985|         Domestic|\n",
      "|000000001000097478|2020-04-07|          comparable|            WOHNEN|KOMMODEN & SIDEBO...|           KOMMODEN|                  100565|            DDP|       thirdParty|             Tenzo AB|       riskshs|      1|                 UNKN|                  1|               88| 571|              180|            140|Domestic|      0.24518388791593695|         Domestic|\n",
      "|000000001000097478|2020-04-08|          comparable|            WOHNEN|KOMMODEN & SIDEBO...|           KOMMODEN|                  100565|            DDP|       thirdParty|             Tenzo AB|       riskshs|      1|                 UNKN|                  1|              100| 588|              196|            156|Domestic|       0.2653061224489796|         Domestic|\n",
      "|000000001000097478|2020-04-09|          comparable|            WOHNEN|KOMMODEN & SIDEBO...|           KOMMODEN|                  100565|            DDP|       thirdParty|             Tenzo AB|       riskshs|      1|                 UNKN|                  1|               62| 294|               98|             78|Domestic|       0.2653061224489796|         Domestic|\n",
      "|000000001000097478|2020-04-11|          comparable|            WOHNEN|KOMMODEN & SIDEBO...|           KOMMODEN|                  100565|            DDP|       thirdParty|             Tenzo AB|       riskshs|      1|                 UNKN|                  1|               62| 294|               98|             78|Domestic|       0.2653061224489796|         Domestic|\n",
      "|000000001000097478|2020-04-13|          comparable|            WOHNEN|KOMMODEN & SIDEBO...|           KOMMODEN|                  100565|            DDP|       thirdParty|             Tenzo AB|       riskshs|      1|                 UNKN|                  1|              109| 571|              180|            140|Domestic|      0.24518388791593695|         Domestic|\n",
      "|000000001000097478|2020-04-14|          comparable|            WOHNEN|KOMMODEN & SIDEBO...|           KOMMODEN|                  100565|            DDP|       thirdParty|             Tenzo AB|       riskshs|      1|                 UNKN|                  1|               62| 294|               98|             78|Domestic|       0.2653061224489796|         Domestic|\n",
      "|000000001000097478|2020-04-16|          comparable|            WOHNEN|KOMMODEN & SIDEBO...|           KOMMODEN|                  100565|            DDP|       thirdParty|             Tenzo AB|       riskshs|      1|                 UNKN|                  1|               56| 294|               98|             78|Domestic|       0.2653061224489796|         Domestic|\n",
      "|000000001000097478|2020-04-19|          comparable|            WOHNEN|KOMMODEN & SIDEBO...|           KOMMODEN|                  100565|            DDP|       thirdParty|             Tenzo AB|       riskshs|      1|                 UNKN|                  1|               56| 294|               98|             78|Domestic|       0.2653061224489796|         Domestic|\n",
      "|000000001000097478|2020-04-20|          comparable|            WOHNEN|KOMMODEN & SIDEBO...|           KOMMODEN|                  100565|            DDP|       thirdParty|             Tenzo AB|       riskshs|      1|                 UNKN|                  1|               43| 277|               81|             62|Domestic|      0.22382671480144403|         Domestic|\n",
      "|000000001000097478|2020-04-21|          comparable|            WOHNEN|KOMMODEN & SIDEBO...|           KOMMODEN|                  100565|            DDP|       thirdParty|             Tenzo AB|       riskshs|      1|                 UNKN|                  1|               56| 294|               98|             78|Domestic|       0.2653061224489796|         Domestic|\n",
      "|000000001000097478|2020-04-25|          comparable|            WOHNEN|KOMMODEN & SIDEBO...|           KOMMODEN|                  100565|            DDP|       thirdParty|             Tenzo AB|       riskshs|      1|                 UNKN|                  1|               93| 558|              206|            167|Domestic|       0.2992831541218638|         Domestic|\n",
      "|000000001000097478|2020-04-26|          comparable|            WOHNEN|KOMMODEN & SIDEBO...|           KOMMODEN|                  100565|            DDP|       thirdParty|             Tenzo AB|       riskshs|      1|                 UNKN|                  1|               47| 279|              103|             84|Domestic|       0.3010752688172043|         Domestic|\n",
      "|000000001000097478|2020-04-27|          comparable|            WOHNEN|KOMMODEN & SIDEBO...|           KOMMODEN|                  100565|            DDP|       thirdParty|             Tenzo AB|       riskshs|      1|                 UNKN|                  1|               47| 279|              103|             84|Domestic|       0.3010752688172043|         Domestic|\n",
      "|000000001000097478|2020-04-28|          comparable|            WOHNEN|KOMMODEN & SIDEBO...|           KOMMODEN|                  100565|            DDP|       thirdParty|             Tenzo AB|       riskshs|      1|                 UNKN|                  1|               81| 336|              160|            140|Domestic|       0.4166666666666667|         Domestic|\n",
      "|000000001000097478|2020-04-29|          comparable|            WOHNEN|KOMMODEN & SIDEBO...|           KOMMODEN|                  100565|            DDP|       thirdParty|             Tenzo AB|       riskshs|      1|                 UNKN|                  1|               47| 279|              103|             84|Domestic|       0.3010752688172043|         Domestic|\n",
      "|000000001000097478|2020-04-30|          comparable|            WOHNEN|KOMMODEN & SIDEBO...|           KOMMODEN|                  100565|            DDP|       thirdParty|             Tenzo AB|       riskshs|      1|                 UNKN|                  1|              123| 558|              206|            167|Domestic|       0.2992831541218638|         Domestic|\n",
      "|000000001000097478|2020-05-01|          comparable|            WOHNEN|KOMMODEN & SIDEBO...|           KOMMODEN|                  100565|            DDP|       thirdParty|             Tenzo AB|       riskshs|      1|                 UNKN|                  1|              123| 558|              206|            167|Domestic|       0.2992831541218638|         Domestic|\n",
      "|000000001000097478|2020-05-02|          comparable|            WOHNEN|KOMMODEN & SIDEBO...|           KOMMODEN|                  100565|            DDP|       thirdParty|             Tenzo AB|       riskshs|      1|                 UNKN|                  1|               61| 279|              103|             84|Domestic|       0.3010752688172043|         Domestic|\n",
      "|000000001000097478|2020-05-03|          comparable|            WOHNEN|KOMMODEN & SIDEBO...|           KOMMODEN|                  100565|            DDP|       thirdParty|             Tenzo AB|       riskshs|      1|                 UNKN|                  1|               61| 279|              103|             84|Domestic|       0.3010752688172043|         Domestic|\n",
      "|000000001000097478|2020-05-04|          comparable|            WOHNEN|KOMMODEN & SIDEBO...|           KOMMODEN|                  100565|            DDP|       thirdParty|             Tenzo AB|       riskshs|      1|                 UNKN|                  1|              229| 894|              366|            307|Domestic|       0.3434004474272931|         Domestic|\n",
      "|000000001000097478|2020-05-05|          comparable|            WOHNEN|KOMMODEN & SIDEBO...|           KOMMODEN|                  100565|            DDP|       thirdParty|             Tenzo AB|       riskshs|      1|                 UNKN|                  1|               61| 279|              103|             84|Domestic|       0.3010752688172043|         Domestic|\n",
      "|000000001000097478|2020-05-10|          comparable|            WOHNEN|KOMMODEN & SIDEBO...|           KOMMODEN|                  100565|            DDP|       thirdParty|             Tenzo AB|       riskshs|      1|                 UNKN|                  1|              153| 588|              236|            197|Domestic|      0.33503401360544216|         Domestic|\n",
      "|000000001000097478|2020-05-11|          comparable|            WOHNEN|KOMMODEN & SIDEBO...|           KOMMODEN|                  100565|            DDP|       thirdParty|             Tenzo AB|       riskshs|      1|                 UNKN|                  1|               70| 286|              110|             90|Domestic|       0.3146853146853147|         Domestic|\n",
      "|000000001000097478|2020-05-12|          comparable|            WOHNEN|KOMMODEN & SIDEBO...|           KOMMODEN|                  100565|            DDP|       thirdParty|             Tenzo AB|       riskshs|      1|                 UNKN|                  1|              139| 571|              219|            180|Domestic|      0.31523642732049034|         Domestic|\n",
      "|000000001000097478|2020-05-14|          comparable|            WOHNEN|KOMMODEN & SIDEBO...|           KOMMODEN|                  100565|            DDP|       thirdParty|             Tenzo AB|       riskshs|      1|                 UNKN|                  1|               69| 286|              110|             90|Domestic|       0.3146853146853147|         Domestic|\n",
      "|000000001000097478|2020-05-15|          comparable|            WOHNEN|KOMMODEN & SIDEBO...|           KOMMODEN|                  100565|            DDP|       thirdParty|             Tenzo AB|       riskshs|      1|                 UNKN|                  1|               69| 286|              110|             90|Domestic|       0.3146853146853147|         Domestic|\n",
      "|000000001000097478|2020-05-17|          comparable|            WOHNEN|KOMMODEN & SIDEBO...|           KOMMODEN|                  100565|            DDP|       thirdParty|             Tenzo AB|       riskshs|      1|                 UNKN|                  1|              139| 571|              219|            180|Domestic|      0.31523642732049034|         Domestic|\n",
      "|000000001000097478|2020-05-23|          comparable|            WOHNEN|KOMMODEN & SIDEBO...|           KOMMODEN|                  100565|            DDP|       thirdParty|             Tenzo AB|       riskshs|      1|                 UNKN|                  1|              189| 622|              270|            230|Domestic|      0.36977491961414793|         Domestic|\n",
      "|000000001000097478|2020-05-24|          comparable|            WOHNEN|KOMMODEN & SIDEBO...|           KOMMODEN|                  100565|            DDP|       thirdParty|             Tenzo AB|       riskshs|      1|                 UNKN|                  1|              291| 941|              413|            353|Domestic|       0.3751328374070138|         Domestic|\n",
      "|000000001000097478|2020-05-25|          comparable|            WOHNEN|KOMMODEN & SIDEBO...|           KOMMODEN|                  100565|            DDP|       thirdParty|             Tenzo AB|       riskshs|      1|                 UNKN|                  1|              189| 622|              270|            230|Domestic|      0.36977491961414793|         Domestic|\n",
      "|000000001000097478|2020-05-30|          comparable|            WOHNEN|KOMMODEN & SIDEBO...|           KOMMODEN|                  100565|            DDP|       thirdParty|             Tenzo AB|       riskshs|      1|                 UNKN|                  1|               72| 286|              110|             90|Domestic|       0.3146853146853147|         Domestic|\n",
      "|000000001000097478|2020-06-04|          comparable|            WOHNEN|KOMMODEN & SIDEBO...|           KOMMODEN|                  100565|            DDP|       thirdParty|             Tenzo AB|       riskshs|      1|                 UNKN|                  1|               67| 303|              108|             88|Domestic|      0.29042904290429045|         Domestic|\n",
      "|000000001000097478|2020-06-05|          comparable|            WOHNEN|KOMMODEN & SIDEBO...|           KOMMODEN|                  100565|            DDP|       thirdParty|             Tenzo AB|       riskshs|      1|                 UNKN|                  1|               56| 289|               94|             75|Domestic|      0.25951557093425603|         Domestic|\n",
      "|000000001000097478|2020-06-08|          comparable|            WOHNEN|KOMMODEN & SIDEBO...|           KOMMODEN|                  100565|            DDP|       thirdParty|             Tenzo AB|       riskshs|      1|                 UNKN|                  1|               96| 336|              141|            121|Domestic|       0.3601190476190476|         Domestic|\n",
      "|000000001000097478|2020-06-09|          comparable|            WOHNEN|KOMMODEN & SIDEBO...|           KOMMODEN|                  100565|            DDP|       thirdParty|             Tenzo AB|       riskshs|      1|                 UNKN|                  1|               96| 336|              141|            121|Domestic|       0.3601190476190476|         Domestic|\n",
      "|000000001000097478|2020-06-10|          comparable|            WOHNEN|KOMMODEN & SIDEBO...|           KOMMODEN|                  100565|            DDP|       thirdParty|             Tenzo AB|       riskshs|      1|              catloaf|                  1|               88| 327|              132|            112|Domestic|       0.3425076452599388|         Domestic|\n",
      "|000000001000097478|2020-06-14|          comparable|            WOHNEN|KOMMODEN & SIDEBO...|           KOMMODEN|                  100565|            DDP|       thirdParty|             Tenzo AB|       riskshs|      1|              catloaf|                  1|              275|1008|              424|            362|Domestic|      0.35912698412698413|         Domestic|\n",
      "|000000001000097478|2020-06-19|          comparable|            WOHNEN|KOMMODEN & SIDEBO...|           KOMMODEN|                  100565|            DDP|       thirdParty|             Tenzo AB|       riskshs|      1|              catloaf|                  1|               94| 336|              141|            121|Domestic|       0.3601190476190476|         Domestic|\n",
      "|000000001000097478|2020-06-21|          comparable|            WOHNEN|KOMMODEN & SIDEBO...|           KOMMODEN|                  100565|            DDP|       thirdParty|             Tenzo AB|       riskshs|      1|              catloaf|                  1|               59| 294|               99|             80|Domestic|        0.272108843537415|         Domestic|\n",
      "|000000001000097478|2020-06-27|          comparable|            WOHNEN|KOMMODEN & SIDEBO...|           KOMMODEN|                  100565|            DDP|       thirdParty|             Tenzo AB|       riskshs|      1|              catloaf|                  1|               89| 336|              141|            121|Domestic|       0.3601190476190476|         Domestic|\n",
      "|000000001000097478|2020-06-28|          comparable|            WOHNEN|KOMMODEN & SIDEBO...|           KOMMODEN|                  100565|            DDP|       thirdParty|             Tenzo AB|       riskshs|      1|              catloaf|                  1|               89| 336|              141|            121|Domestic|       0.3601190476190476|         Domestic|\n",
      "|000000001000097478|2020-09-29|          comparable|            WOHNEN|KOMMODEN & SIDEBO...|           KOMMODEN|                  100565|            DDP|       thirdParty|             Tenzo AB|       riskshs|      1|              catloaf|                  1|               92| 345|              150|            126|Domestic|       0.3652173913043478|         Domestic|\n",
      "|000000001000097478|2020-12-05|          comparable|            WOHNEN|KOMMODEN & SIDEBO...|           KOMMODEN|                  100565|            DDP|       thirdParty|             Tenzo AB|       riskshs|      1|             fallback|                  1|               73| 552|              162|            116|Domestic|      0.21014492753623187|         Domestic|\n",
      "|000000001000097478|2020-12-06|          comparable|            WOHNEN|KOMMODEN & SIDEBO...|           KOMMODEN|                  100565|            DDP|       thirdParty|             Tenzo AB|       riskshs|      1|             fallback|                  1|               73| 552|              162|            116|Domestic|      0.21014492753623187|         Domestic|\n",
      "|000000001000097478|2020-12-09|          comparable|            WOHNEN|KOMMODEN & SIDEBO...|           KOMMODEN|                  100565|            DDP|       thirdParty|             Tenzo AB|       riskshs|      1|             fallback|                  1|               53| 526|              136|             91|Domestic|      0.17300380228136883|         Domestic|\n",
      "|000000001000097478|2020-12-12|          comparable|            WOHNEN|KOMMODEN & SIDEBO...|           KOMMODEN|                  100565|            DDP|       thirdParty|             Tenzo AB|       riskshs|      1|             fallback|                  1|               37| 276|               81|             58|Domestic|      0.21014492753623187|         Domestic|\n",
      "|000000001000097478|2020-12-14|          comparable|            WOHNEN|KOMMODEN & SIDEBO...|           KOMMODEN|                  100565|            DDP|       thirdParty|             Tenzo AB|       riskshs|      1|             fallback|                  1|               37| 276|               81|             58|Domestic|      0.21014492753623187|         Domestic|\n",
      "|000000001000097478|2020-12-15|          comparable|            WOHNEN|KOMMODEN & SIDEBO...|           KOMMODEN|                  100565|            DDP|       thirdParty|             Tenzo AB|       riskshs|      1|             fallback|                  1|               37| 276|               81|             58|Domestic|      0.21014492753623187|         Domestic|\n",
      "|000000001000097478|2020-12-16|          comparable|            WOHNEN|KOMMODEN & SIDEBO...|           KOMMODEN|                  100565|            DDP|       thirdParty|             Tenzo AB|       riskshs|      1|             fallback|                  1|               -2| 457|               67|             23|Domestic|      0.05032822757111598|         Domestic|\n",
      "|000000001000097478|2020-12-18|          comparable|            WOHNEN|KOMMODEN & SIDEBO...|           KOMMODEN|                  100565|            DDP|       thirdParty|             Tenzo AB|       riskshs|      1|             fallback|                  1|               37| 276|               81|             58|Domestic|      0.21014492753623187|         Domestic|\n",
      "|000000001000097478|2020-12-19|          comparable|            WOHNEN|KOMMODEN & SIDEBO...|           KOMMODEN|                  100565|            DDP|       thirdParty|             Tenzo AB|       riskshs|      1|             fallback|                  1|               37| 276|               81|             58|Domestic|      0.21014492753623187|         Domestic|\n",
      "|000000001000097478|2020-12-21|          comparable|            WOHNEN|KOMMODEN & SIDEBO...|           KOMMODEN|                  100565|            DDP|       thirdParty|             Tenzo AB|       riskshs|      1|             fallback|                  1|               37| 276|               81|             58|Domestic|      0.21014492753623187|         Domestic|\n",
      "|000000001000097478|2020-12-22|          comparable|            WOHNEN|KOMMODEN & SIDEBO...|           KOMMODEN|                  100565|            DDP|       thirdParty|             Tenzo AB|       riskshs|      1|             fallback|                  1|               37| 276|               81|             58|Domestic|      0.21014492753623187|         Domestic|\n",
      "|000000001000097478|2020-12-23|          comparable|            WOHNEN|KOMMODEN & SIDEBO...|           KOMMODEN|                  100565|            DDP|       thirdParty|             Tenzo AB|       riskshs|      1|             fallback|                  1|               30| 268|               73|             50|Domestic|       0.1865671641791045|         Domestic|\n",
      "|000000001000097478|2020-12-24|          comparable|            WOHNEN|KOMMODEN & SIDEBO...|           KOMMODEN|                  100565|            DDP|       thirdParty|             Tenzo AB|       riskshs|      1|             fallback|                  1|               23| 259|               64|             41|Domestic|       0.1583011583011583|         Domestic|\n",
      "|000000001000097478|2020-12-25|          comparable|            WOHNEN|KOMMODEN & SIDEBO...|           KOMMODEN|                  100565|            DDP|       thirdParty|             Tenzo AB|       riskshs|      1|             fallback|                  1|               60| 535|              145|            100|Domestic|      0.18691588785046728|         Domestic|\n",
      "|000000001000097478|2020-12-26|          comparable|            WOHNEN|KOMMODEN & SIDEBO...|           KOMMODEN|                  100565|            DDP|       thirdParty|             Tenzo AB|       riskshs|      1|             fallback|                  1|               24| 260|               65|             42|Domestic|      0.16153846153846155|         Domestic|\n",
      "|000000001000097478|2020-12-27|          comparable|            WOHNEN|KOMMODEN & SIDEBO...|           KOMMODEN|                  100565|            DDP|       thirdParty|             Tenzo AB|       riskshs|      1|             fallback|                  1|               37| 276|               81|             58|Domestic|      0.21014492753623187|         Domestic|\n",
      "|000000001000097478|2020-12-28|          comparable|            WOHNEN|KOMMODEN & SIDEBO...|           KOMMODEN|                  100565|            DDP|       thirdParty|             Tenzo AB|       riskshs|      1|             fallback|                  1|              133|1086|              306|            215|Domestic|      0.19797421731123388|         Domestic|\n",
      "|000000001000097478|2020-12-29|          comparable|            WOHNEN|KOMMODEN & SIDEBO...|           KOMMODEN|                  100565|            DDP|       thirdParty|             Tenzo AB|       riskshs|      1|             fallback|                  1|               37| 276|               81|             58|Domestic|      0.21014492753623187|         Domestic|\n",
      "|000000001000097478|2020-12-31|          comparable|            WOHNEN|KOMMODEN & SIDEBO...|           KOMMODEN|                  100565|            DDP|       thirdParty|             Tenzo AB|       riskshs|      1|             fallback|                  1|               49| 521|              131|             86|Domestic|      0.16506717850287908|         Domestic|\n",
      "|000000001000097478|2021-01-01|          comparable|            WOHNEN|KOMMODEN & SIDEBO...|           KOMMODEN|                  100565|            DDP|       thirdParty|             Tenzo AB|       riskshs|      1|             fallback|                  1|               31| 269|               74|             51|Domestic|       0.1895910780669145|         Domestic|\n",
      "|000000001000097478|2021-01-02|          comparable|            WOHNEN|KOMMODEN & SIDEBO...|           KOMMODEN|                  100565|            DDP|       thirdParty|             Tenzo AB|       riskshs|      1|             fallback|                  1|              111|1059|              279|            188|Domestic|      0.17752596789423986|         Domestic|\n",
      "|000000001000097478|2021-01-03|          comparable|            WOHNEN|KOMMODEN & SIDEBO...|           KOMMODEN|                  100565|            DDP|       thirdParty|             Tenzo AB|       riskshs|      1|             fallback|                  1|               18| 252|               57|             35|Domestic|       0.1388888888888889|         Domestic|\n",
      "|000000001000097478|2021-01-04|          comparable|            WOHNEN|KOMMODEN & SIDEBO...|           KOMMODEN|                  100565|            DDP|       thirdParty|             Tenzo AB|       riskshs|      1|             fallback|                  1|               31| 269|               74|             51|Domestic|       0.1895910780669145|         Domestic|\n",
      "|000000001000097478|2021-01-05|          comparable|            WOHNEN|KOMMODEN & SIDEBO...|           KOMMODEN|                  100565|            DDP|       thirdParty|             Tenzo AB|       riskshs|      1|             fallback|                  1|               98|1042|              262|            171|Domestic|      0.16410748560460653|         Domestic|\n",
      "|000000001000097478|2021-01-06|          comparable|            WOHNEN|KOMMODEN & SIDEBO...|           KOMMODEN|                  100565|            DDP|       thirdParty|             Tenzo AB|       riskshs|      1|             fallback|                  1|               31| 269|               74|             51|Domestic|       0.1895910780669145|         Domestic|\n",
      "|000000001000097478|2021-01-07|          comparable|            WOHNEN|KOMMODEN & SIDEBO...|           KOMMODEN|                  100565|            DDP|       thirdParty|             Tenzo AB|       riskshs|      1|             fallback|                  1|               31| 269|               74|             51|Domestic|       0.1895910780669145|         Domestic|\n",
      "|000000001000097478|2021-01-08|          comparable|            WOHNEN|KOMMODEN & SIDEBO...|           KOMMODEN|                  100565|            DDP|       thirdParty|             Tenzo AB|       riskshs|      1|             fallback|                  1|               62| 538|              148|            102|Domestic|       0.1895910780669145|         Domestic|\n",
      "|000000001000097478|2021-01-09|          comparable|            WOHNEN|KOMMODEN & SIDEBO...|           KOMMODEN|                  100565|            DDP|       thirdParty|             Tenzo AB|       riskshs|      1|             fallback|                  1|               49| 521|              131|             86|Domestic|      0.16506717850287908|         Domestic|\n",
      "|000000001000097478|2021-01-10|          comparable|            WOHNEN|KOMMODEN & SIDEBO...|           KOMMODEN|                  100565|            DDP|       thirdParty|             Tenzo AB|       riskshs|      1|             fallback|                  1|               93| 807|              222|            153|Domestic|       0.1895910780669145|         Domestic|\n",
      "|000000001000097478|2021-01-11|          comparable|            WOHNEN|KOMMODEN & SIDEBO...|           KOMMODEN|                  100565|            DDP|       thirdParty|             Tenzo AB|       riskshs|      1|             fallback|                  1|               31| 269|               74|             51|Domestic|       0.1895910780669145|         Domestic|\n",
      "|000000001000097478|2021-01-12|          comparable|            WOHNEN|KOMMODEN & SIDEBO...|           KOMMODEN|                  100565|            DDP|       thirdParty|             Tenzo AB|       riskshs|      1|             fallback|                  1|               31| 269|               74|             51|Domestic|       0.1895910780669145|         Domestic|\n",
      "|000000001000097478|2021-01-14|          comparable|            WOHNEN|KOMMODEN & SIDEBO...|           KOMMODEN|                  100565|            DDP|       thirdParty|             Tenzo AB|       riskshs|      1|             fallback|                  1|               26| 269|               68|             45|Domestic|      0.16728624535315986|         Domestic|\n",
      "|000000001000097478|2021-01-18|          comparable|            WOHNEN|KOMMODEN & SIDEBO...|           KOMMODEN|                  100565|            DDP|       thirdParty|             Tenzo AB|       riskshs|      1|             fallback|                  1|               90|1059|              256|            164|Domestic|      0.15486307837582625|         Domestic|\n",
      "|000000001000097478|2021-01-19|          comparable|            WOHNEN|KOMMODEN & SIDEBO...|           KOMMODEN|                  100565|            DDP|       thirdParty|             Tenzo AB|       riskshs|      1|             fallback|                  1|               26| 269|               68|             45|Domestic|      0.16728624535315986|         Domestic|\n",
      "|000000001000097478|2021-01-22|          comparable|            WOHNEN|KOMMODEN & SIDEBO...|           KOMMODEN|                  100565|            DDP|       thirdParty|             Tenzo AB|       riskshs|      1|             fallback|                  1|                5| 269|               68|             45|Domestic|      0.16728624535315986|         Domestic|\n",
      "|000000001000097478|2021-01-23|          comparable|            WOHNEN|KOMMODEN & SIDEBO...|           KOMMODEN|                  100565|            DDP|       thirdParty|             Tenzo AB|       riskshs|      1|             fallback|                  1|               46| 538|              136|             90|Domestic|      0.16728624535315986|         Domestic|\n",
      "|000000001000097478|2021-01-25|          comparable|            WOHNEN|KOMMODEN & SIDEBO...|           KOMMODEN|                  100565|            DDP|       thirdParty|             Tenzo AB|       riskshs|      1|             fallback|                  1|               26| 269|               68|             45|Domestic|      0.16728624535315986|         Domestic|\n",
      "|000000001000097478|2021-01-26|          comparable|            WOHNEN|KOMMODEN & SIDEBO...|           KOMMODEN|                  100565|            DDP|       thirdParty|             Tenzo AB|       riskshs|      1|             fallback|                  1|               23| 269|               68|             45|Domestic|      0.16728624535315986|         Domestic|\n",
      "+------------------+----------+--------------------+------------------+--------------------+-------------------+------------------------+---------------+-----------------+---------------------+--------------+-------+---------------------+-------------------+-----------------+----+-----------------+---------------+--------+-------------------------+-----------------+\n",
      "\n"
     ]
    }
   ],
   "source": [
    "df_item_dates = spark.sql(\"\"\"SELECT * from Fin_table where item_code = '000000001000097478' ORDER BY date ASC\"\"\")\n",
    "df_item_dates.show(500)"
   ],
   "metadata": {
    "collapsed": false,
    "pycharm": {
     "name": "#%%\n"
    }
   }
  },
  {
   "cell_type": "code",
   "execution_count": 30,
   "outputs": [],
   "source": [
    "pdf_fin = df_fin_table.toPandas()"
   ],
   "metadata": {
    "collapsed": false,
    "pycharm": {
     "name": "#%%\n"
    }
   }
  },
  {
   "cell_type": "code",
   "execution_count": 31,
   "outputs": [],
   "source": [
    "#MODEL IMPLEMENTATION\n",
    "import statsmodels.api as sm\n",
    "import statsmodels.formula.api as smf\n",
    "from scipy import stats\n",
    "\n",
    "list_of_num_columns = ['wh_flag','shop_pc2_margin','pocket_pc2_margin','nov','shop_gross_margin']\n",
    "for col in list_of_num_columns:\n",
    "    pdf_fin[col]=pd.to_numeric(pdf_fin[col])\n",
    "#pdf_fin = pdf_fin.astype({'wh_flag':'int32', 'shop_pc2_margin':'int32','item_main_category':'string','exclusivity_clean':'string','sourcing_location':'string' })\n"
   ],
   "metadata": {
    "collapsed": false,
    "pycharm": {
     "name": "#%%\n"
    }
   }
  },
  {
   "cell_type": "code",
   "execution_count": 32,
   "outputs": [
    {
     "name": "stdout",
     "output_type": "stream",
     "text": [
      "item_code                     object\n",
      "date                          object\n",
      "item_gtin_comparable          object\n",
      "item_main_category            object\n",
      "item_sub_category_1           object\n",
      "item_sub_category_2           object\n",
      "item_supplier_regular_id      object\n",
      "item_inco_terms               object\n",
      "exclusivity_clean             object\n",
      "item_supplier_regular         object\n",
      "inventory_flag                object\n",
      "wh_flag                        int64\n",
      "item_final_price_rule         object\n",
      "sellability_laso_de           object\n",
      "pocket_pc2_margin              int64\n",
      "nov                            int64\n",
      "shop_gross_margin              int64\n",
      "shop_pc2_margin                int64\n",
      "Type                          object\n",
      "shop_pc2_margin_nov_ratio    float64\n",
      "sourcing_location             object\n",
      "dtype: object\n"
     ]
    }
   ],
   "source": [
    "print(pdf_fin.dtypes)\n"
   ],
   "metadata": {
    "collapsed": false,
    "pycharm": {
     "name": "#%%\n"
    }
   }
  },
  {
   "cell_type": "code",
   "execution_count": 40,
   "outputs": [
    {
     "name": "stdout",
     "output_type": "stream",
     "text": [
      "                                    OLS Regression Results                                    \n",
      "==============================================================================================\n",
      "Dep. Variable:     shop_pc2_margin_nov_ratio   R-squared (uncentered):                   0.416\n",
      "Model:                                   OLS   Adj. R-squared (uncentered):              0.416\n",
      "Method:                        Least Squares   F-statistic:                          1.951e+04\n",
      "Date:                       Fri, 29 Jan 2021   Prob (F-statistic):                        0.00\n",
      "Time:                               18:04:14   Log-Likelihood:                     -3.8108e+05\n",
      "No. Observations:                     712887   AIC:                                  7.622e+05\n",
      "Df Residuals:                         712861   BIC:                                  7.625e+05\n",
      "Df Model:                                 26                                                  \n",
      "Covariance Type:                   nonrobust                                                  \n",
      "===================================================================================================================\n",
      "                                                      coef    std err          t      P>|t|      [0.025      0.975]\n",
      "-------------------------------------------------------------------------------------------------------------------\n",
      "C(wh_flag)[0]                                       0.2024      0.008     24.329      0.000       0.186       0.219\n",
      "C(wh_flag)[1]                                       0.2115      0.008     25.628      0.000       0.195       0.228\n",
      "C(sourcing_location)[T.EE]                          0.0280      0.002     13.199      0.000       0.024       0.032\n",
      "C(sourcing_location)[T.Import]                      0.0940      0.002     60.331      0.000       0.091       0.097\n",
      "C(exclusivity_clean)[T.other]                      -0.0156      0.003     -5.893      0.000      -0.021      -0.010\n",
      "C(exclusivity_clean)[T.ownDeveloped]                0.0008      0.003      0.326      0.744      -0.004       0.006\n",
      "C(exclusivity_clean)[T.thirdParty]                 -0.0280      0.002    -13.400      0.000      -0.032      -0.024\n",
      "C(exclusivity_clean)[T.whiteLabel]                 -0.0216      0.002    -14.149      0.000      -0.025      -0.019\n",
      "C(item_main_category)[T.BAD]                        0.1589      0.009     18.692      0.000       0.142       0.176\n",
      "C(item_main_category)[T.BETTEN]                     0.0700      0.008      8.377      0.000       0.054       0.086\n",
      "C(item_main_category)[T.BOUTIQUE]                   0.0386      0.009      4.479      0.000       0.022       0.056\n",
      "C(item_main_category)[T.BÜRO]                       0.1444      0.008     17.111      0.000       0.128       0.161\n",
      "C(item_main_category)[T.ESSZIMMERSTÜHLE&BÄNKE]      0.1545      0.008     18.691      0.000       0.138       0.171\n",
      "C(item_main_category)[T.ESSZIMMERTISCHE]            0.1346      0.009     15.802      0.000       0.118       0.151\n",
      "C(item_main_category)[T.FLURMÖBEL]                  0.1479      0.008     17.670      0.000       0.131       0.164\n",
      "C(item_main_category)[T.GARTEN]                     0.0241      0.009      2.700      0.007       0.007       0.042\n",
      "C(item_main_category)[T.HAUSHALT]                  -0.1190      0.047     -2.554      0.011      -0.210      -0.028\n",
      "C(item_main_category)[T.HEIMTEXTILIEN]              0.0620      0.009      7.266      0.000       0.045       0.079\n",
      "C(item_main_category)[T.KINDER]                     0.0225      0.010      2.262      0.024       0.003       0.042\n",
      "C(item_main_category)[T.KÜCHE]                      0.1604      0.015     10.487      0.000       0.130       0.190\n",
      "C(item_main_category)[T.LEUCHTEN]                   0.1000      0.008     12.154      0.000       0.084       0.116\n",
      "C(item_main_category)[T.MATRATZEN&LATTENROSTE]      0.1298      0.009     15.142      0.000       0.113       0.147\n",
      "C(item_main_category)[T.POLSTER]                    0.1020      0.008     12.349      0.000       0.086       0.118\n",
      "C(item_main_category)[T.SCHLAFZIMMERMÖBEL]          0.0874      0.008     10.599      0.000       0.071       0.104\n",
      "C(item_main_category)[T.TEPPICHE & BODENBELÄGE]     0.1307      0.009     15.362      0.000       0.114       0.147\n",
      "C(item_main_category)[T.WOHNEN]                     0.1584      0.008     19.329      0.000       0.142       0.174\n",
      "===============================================================================\n",
      "Omnibus:                  3371316.837   Durbin-Watson:                    1.975\n",
      "Prob(Omnibus):                  0.000   Jarque-Bera (JB):   108563017336221.812\n",
      "Skew:                        -177.317   Prob(JB):                          0.00\n",
      "Kurtosis:                   60457.517   Cond. No.                          106.\n",
      "===============================================================================\n",
      "\n",
      "Notes:\n",
      "[1] R² is computed without centering (uncentered) since the model does not contain a constant.\n",
      "[2] Standard Errors assume that the covariance matrix of the errors is correctly specified.\n"
     ]
    }
   ],
   "source": [
    "WH_with_fe_false = smf.ols(\"shop_pc2_margin_nov_ratio ~  C(wh_flag) + C(sourcing_location) + C(exclusivity_clean) +C(item_main_category) -1\",  pdf_fin,hasconst = False).fit()\n",
    "print(WH_with_fe_false.summary())\n",
    "#"
   ],
   "metadata": {
    "collapsed": false,
    "pycharm": {
     "name": "#%%\n"
    }
   }
  },
  {
   "cell_type": "code",
   "execution_count": 46,
   "outputs": [
    {
     "name": "stdout",
     "output_type": "stream",
     "text": [
      "[(0.2024182964767709, 0.008319919412287833), (0.21145419706931012, 0.008250749108829374), (0.028023331425552876, 0.0021230777106215682), (0.09397785000822635, 0.0015577145536698298), (-0.015631502820477622, 0.0026524182925162483), (0.0008343690598767439, 0.002558931513808), (-0.02797762378578887, 0.002087923669896421), (-0.021606730541537902, 0.0015270514351546556), (0.15893642235004726, 0.008503113840124605), (0.06996807900454585, 0.008351927549905347), (0.038626702232119135, 0.008623481738130078), (0.14437532528300734, 0.008437712930956373), (0.15447062623775237, 0.008264639848775589), (0.13461234721568013, 0.008518842571985883), (0.1478561157298066, 0.008367495776137155), (0.024056654853440357, 0.008910536290498131), (-0.11903492867999198, 0.04659941760110478), (0.0620457815512156, 0.008539323389452068), (0.02250457355436007, 0.009947575058954066), (0.16042572221587145, 0.015297814696699693), (0.099989173712822, 0.008227026387198253), (0.12980806042889712, 0.008572811119966259), (0.10199313156008145, 0.008259164364245236), (0.08735259727177813, 0.008241203914602995), (0.1307068982987617, 0.00850827736419949), (0.1583750309976266, 0.008193817200672212)]\n"
     ]
    }
   ],
   "source": [
    "parameter_map = zip(list(WH_with_fe_false.params),list(WH_with_fe_false.bse))\n",
    "print(list(parameter_map))\n"
   ],
   "metadata": {
    "collapsed": false,
    "pycharm": {
     "name": "#%%\n"
    }
   }
  },
  {
   "cell_type": "code",
   "execution_count": 110,
   "outputs": [
    {
     "name": "stdout",
     "output_type": "stream",
     "text": [
      "                                                     beta  beta_err\n",
      "C(wh_flag)[0]                                    0.202418  0.008320\n",
      "C(wh_flag)[1]                                    0.211454  0.008251\n",
      "C(sourcing_location)[T.EE]                       0.028023  0.002123\n",
      "C(sourcing_location)[T.Import]                   0.093978  0.001558\n",
      "C(exclusivity_clean)[T.other]                   -0.015632  0.002652\n",
      "C(exclusivity_clean)[T.ownDeveloped]             0.000834  0.002559\n",
      "C(exclusivity_clean)[T.thirdParty]              -0.027978  0.002088\n",
      "C(exclusivity_clean)[T.whiteLabel]              -0.021607  0.001527\n",
      "C(item_main_category)[T.BAD]                     0.158936  0.008503\n",
      "C(item_main_category)[T.BETTEN]                  0.069968  0.008352\n",
      "C(item_main_category)[T.BOUTIQUE]                0.038627  0.008623\n",
      "C(item_main_category)[T.BÜRO]                    0.144375  0.008438\n",
      "C(item_main_category)[T.ESSZIMMERSTÜHLE&BÄNKE]   0.154471  0.008265\n",
      "C(item_main_category)[T.ESSZIMMERTISCHE]         0.134612  0.008519\n",
      "C(item_main_category)[T.FLURMÖBEL]               0.147856  0.008367\n",
      "C(item_main_category)[T.GARTEN]                  0.024057  0.008911\n",
      "C(item_main_category)[T.HAUSHALT]               -0.119035  0.046599\n",
      "C(item_main_category)[T.HEIMTEXTILIEN]           0.062046  0.008539\n",
      "C(item_main_category)[T.KINDER]                  0.022505  0.009948\n",
      "C(item_main_category)[T.KÜCHE]                   0.160426  0.015298\n",
      "C(item_main_category)[T.LEUCHTEN]                0.099989  0.008227\n",
      "C(item_main_category)[T.MATRATZEN&LATTENROSTE]   0.129808  0.008573\n",
      "C(item_main_category)[T.POLSTER]                 0.101993  0.008259\n",
      "C(item_main_category)[T.SCHLAFZIMMERMÖBEL]       0.087353  0.008241\n",
      "C(item_main_category)[T.TEPPICHE & BODENBELÄGE]  0.130707  0.008508\n",
      "C(item_main_category)[T.WOHNEN]                  0.158375  0.008194\n"
     ]
    }
   ],
   "source": [
    "params = pd.Series(WH_with_fe_false.params, name = 'beta')\n",
    "errors  = pd.Series(WH_with_fe_false.bse, name = 'beta_err')\n",
    "\n",
    "result_df = pd.concat([params,errors],axis=1)\n",
    "print(result_df)\n",
    "#for name, value in ndarray:\n",
    "#    print(name,value)\n"
   ],
   "metadata": {
    "collapsed": false,
    "pycharm": {
     "name": "#%%\n"
    }
   }
  },
  {
   "cell_type": "code",
   "execution_count": 190,
   "outputs": [],
   "source": [
    "fin_coeff = pd.DataFrame()\n",
    "\n",
    "def calc_beta(df =result_df, map = { 'wh_flag':'0', 'sourcing_location' : 'T.EE', 'exclusivity_clean' : 'T.other', 'item_main_category' :'T.GARTEN'}):\n",
    "    prefix = 'C('\n",
    "    suffix = ']'\n",
    "\n",
    "    for key in map.keys():\n",
    "        map[key]= prefix+ key + ')[' + map[key] + suffix\n",
    "    #print(map)\n",
    "    df_filt = pd.DataFrame()\n",
    "    #print(list(map.values()))\n",
    "    df_filt = df.loc[list(map.values())]\n",
    "    print(df_filt)\n",
    "\n",
    "\n",
    "    print('Final coefficient = ', df_filt['beta'].sum().round(3), '±', np.sqrt((df_filt['beta_err']**2).sum()).round(3))\n",
    "    return (df_filt['beta'].sum().round(3), np.sqrt((df_filt['beta_err']**2).sum()).round(3))\n"
   ],
   "metadata": {
    "collapsed": false,
    "pycharm": {
     "name": "#%%\n"
    }
   }
  },
  {
   "cell_type": "code",
   "execution_count": 191,
   "outputs": [],
   "source": [
    "def map_of_parameters(wh_flag ='0', sourcing_location = 'EE', exclusivity_clean = 'other', item_main_category ='GARTEN' ):\n",
    "    map_of_parameter = {'wh_flag': wh_flag,\n",
    "                        'sourcing_location' : 'T.'+sourcing_location,\n",
    "                        'exclusivity_clean' : 'T.'+exclusivity_clean,\n",
    "                        'item_main_category': 'T.'+item_main_category}\n",
    "    if sourcing_location == 'Domestic':\n",
    "        del map_of_parameter['sourcing_location']\n",
    "    if exclusivity_clean == 'exclusive':\n",
    "        del map_of_parameter['exclusivity_clean']\n",
    "    if item_main_category == 'BABY':\n",
    "        del map_of_parameter['item_main_category']\n",
    "\n",
    "    print(map_of_parameter)\n",
    "    return map_of_parameter\n"
   ],
   "metadata": {
    "collapsed": false,
    "pycharm": {
     "name": "#%%\n"
    }
   }
  },
  {
   "cell_type": "code",
   "execution_count": 192,
   "outputs": [
    {
     "name": "stdout",
     "output_type": "stream",
     "text": [
      "{'wh_flag': '0'}\n",
      "                   beta  beta_err\n",
      "C(wh_flag)[0]  0.202418   0.00832\n",
      "Final coefficient =  0.202 ± 0.008\n",
      "(0.202, 0.008)\n"
     ]
    }
   ],
   "source": [
    "results = calc_beta(result_df,map_of_parameters('0','Domestic','exclusive','BABY'))\n",
    "#print(results)"
   ],
   "metadata": {
    "collapsed": false,
    "pycharm": {
     "name": "#%%\n"
    }
   }
  },
  {
   "cell_type": "code",
   "execution_count": null,
   "outputs": [],
   "source": [],
   "metadata": {
    "collapsed": false,
    "pycharm": {
     "name": "#%%\n"
    }
   }
  }
 ],
 "metadata": {
  "kernelspec": {
   "display_name": "Python 3",
   "language": "python",
   "name": "python3"
  },
  "language_info": {
   "codemirror_mode": {
    "name": "ipython",
    "version": 2
   },
   "file_extension": ".py",
   "mimetype": "text/x-python",
   "name": "python",
   "nbconvert_exporter": "python",
   "pygments_lexer": "ipython2",
   "version": "2.7.6"
  }
 },
 "nbformat": 4,
 "nbformat_minor": 0
}