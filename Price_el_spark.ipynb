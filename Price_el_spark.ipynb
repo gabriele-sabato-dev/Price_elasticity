{
 "cells": [
  {
   "cell_type": "code",
   "execution_count": 2,
   "outputs": [],
   "source": [
    "from pyspark.sql import SparkSession\n",
    "\n",
    "spark = SparkSession.builder.master('local').appName('Check min date').getOrCreate()\n"
   ],
   "metadata": {
    "collapsed": false,
    "pycharm": {
     "name": "#%%\n"
    }
   }
  },
  {
   "cell_type": "code",
   "execution_count": 4,
   "outputs": [],
   "source": [
    "df = spark.read.parquet(\n",
    "    '/Users/gabriele.sabato/PycharmProjects/raw_data/price_elasticity_model_data/part-*',\n",
    "    header=True)\n"
   ],
   "metadata": {
    "collapsed": false,
    "pycharm": {
     "name": "#%%\n"
    }
   }
  },
  {
   "cell_type": "code",
   "execution_count": 6,
   "outputs": [
    {
     "name": "stdout",
     "output_type": "stream",
     "text": [
      "+------------------+\n",
      "|    max(item_code)|\n",
      "+------------------+\n",
      "|000000001000228952|\n",
      "+------------------+\n",
      "\n"
     ]
    }
   ],
   "source": [
    "df.createOrReplaceTempView('tmp_table')\n",
    "\n",
    "#df2 = spark.sql(\"SELECT MIN(update_date) from tmp_table\")"
   ],
   "metadata": {
    "collapsed": false,
    "pycharm": {
     "name": "#%%\n"
    }
   }
  },
  {
   "cell_type": "code",
   "execution_count": 20,
   "outputs": [],
   "source": [
    "df2 = spark.sql(\"SELECT * from tmp_table where update_date >= '2020-01-01'\")\n"
   ],
   "metadata": {
    "collapsed": false,
    "pycharm": {
     "name": "#%%\n"
    }
   }
  },
  {
   "cell_type": "code",
   "execution_count": 21,
   "outputs": [
    {
     "name": "stdout",
     "output_type": "stream",
     "text": [
      "+------------------+-----------+--------------+------------+-----+\n",
      "|         item_code|update_date|delivery_weeks|  item_price|sales|\n",
      "+------------------+-----------+--------------+------------+-----+\n",
      "|000000001000000013| 2020-01-30|             1|       39.99|    0|\n",
      "|000000001000000013| 2020-10-26|             0| 31.98999999|    0|\n",
      "|000000001000000013| 2020-10-27|             0| 31.98999999|    0|\n",
      "|000000001000000014| 2020-01-14|             0| 74.98999999|    0|\n",
      "|000000001000000020| 2020-03-30|             1| 74.98999999|    0|\n",
      "|000000001000000020| 2020-04-27|             0| 74.98999999|    0|\n",
      "|000000001000000023| 2020-08-07|             0|       49.99|    0|\n",
      "|000000001000000023| 2020-08-21|             0|       49.99|    0|\n",
      "|000000001000000023| 2020-11-07|             0|       49.99|    0|\n",
      "|000000001000000031| 2020-03-26|             1|119.98999999|    1|\n",
      "|000000001000000031| 2020-05-08|             3|      129.99|    0|\n",
      "|000000001000000031| 2020-05-15|             3|      129.99|    0|\n",
      "|000000001000000033| 2020-03-15|             1|      139.99|    0|\n",
      "|000000001000000033| 2020-10-11|             0|119.98999999|    0|\n",
      "|000000001000000034| 2020-04-21|             2|      129.99|    0|\n",
      "|000000001000000034| 2020-10-30|             0|      129.99|    0|\n",
      "|000000001000000034| 2020-11-03|             0|      129.99|    0|\n",
      "|000000001000000035| 2020-01-06|             2|      159.99|    0|\n",
      "|000000001000000035| 2020-03-11|             2|      139.99|    0|\n",
      "|000000001000000036| 2020-08-10|             0|       79.95|    0|\n",
      "+------------------+-----------+--------------+------------+-----+\n",
      "only showing top 20 rows\n",
      "\n"
     ]
    }
   ],
   "source": [
    "df2.show()\n",
    "\n"
   ],
   "metadata": {
    "collapsed": false,
    "pycharm": {
     "name": "#%%\n"
    }
   }
  }
 ],
 "metadata": {
  "kernelspec": {
   "display_name": "Python 3",
   "language": "python",
   "name": "python3"
  },
  "language_info": {
   "codemirror_mode": {
    "name": "ipython",
    "version": 3
   },
   "file_extension": ".py",
   "mimetype": "text/x-python",
   "name": "python",
   "nbconvert_exporter": "python",
   "pygments_lexer": "ipython3",
   "version": "3.8.5"
  }
 },
 "nbformat": 4,
 "nbformat_minor": 1
}