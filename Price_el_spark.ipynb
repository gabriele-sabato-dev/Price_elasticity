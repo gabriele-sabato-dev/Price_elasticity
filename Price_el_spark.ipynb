{
 "cells": [
  {
   "cell_type": "code",
   "execution_count": 1,
   "metadata": {
    "pycharm": {
     "name": "#%%\n"
    }
   },
   "outputs": [],
   "source": [
    "from pyspark.sql import SparkSession\n",
    "\n",
    "spark = SparkSession.builder.master('local').config('spark.driver.memory', '8g').appName('Check min date').getOrCreate()\n"
   ]
  },
  {
   "cell_type": "code",
   "execution_count": 2,
   "metadata": {
    "pycharm": {
     "name": "#%%\n"
    }
   },
   "outputs": [],
   "source": [
    "df = spark.read.parquet(\n",
    "    '/Users/gabriele.sabato/PycharmProjects/raw_data/price_elasticity_model_data/part-*',\n",
    "    header=True)\n"
   ]
  },
  {
   "cell_type": "code",
   "execution_count": 3,
   "metadata": {
    "pycharm": {
     "name": "#%%\n"
    }
   },
   "outputs": [],
   "source": [
    "df_d_item = spark.read.parquet('/Users/gabriele.sabato/PycharmProjects/raw_data/redshift_tables/d_item/*')\n"
   ]
  },
  {
   "cell_type": "code",
   "execution_count": 4,
   "metadata": {
    "pycharm": {
     "name": "#%%\n"
    }
   },
   "outputs": [],
   "source": [
    "df.createOrReplaceTempView('model_data_table')\n",
    "\n",
    "#df2 = spark.sql(\"SELECT MIN(update_date) from tmp_table\")"
   ]
  },
  {
   "cell_type": "code",
   "execution_count": 5,
   "metadata": {
    "pycharm": {
     "name": "#%%\n"
    }
   },
   "outputs": [],
   "source": [
    "df_d_item.createOrReplaceTempView('d_item_tmp')"
   ]
  },
  {
   "cell_type": "code",
   "execution_count": 7,
   "metadata": {
    "pycharm": {
     "name": "#%%\n"
    }
   },
   "outputs": [],
   "source": [
    "df2 = spark.sql(\"SELECT * from model_data_table where update_date >= '2020-01-01'\")\n"
   ]
  },
  {
   "cell_type": "code",
   "execution_count": 8,
   "metadata": {
    "pycharm": {
     "name": "#%%\n"
    }
   },
   "outputs": [],
   "source": [
    "df4 = spark.sql (\"SELECT item_code, item_main_category, item_sub_category_1, item_sub_category_2,item_parent_item_code from d_item_tmp\")\n"
   ]
  },
  {
   "cell_type": "code",
   "execution_count": 10,
   "outputs": [],
   "source": [
    "df4.createOrReplaceTempView('d_item_filtered')\n",
    "df2.createOrReplaceTempView('model_data_table_YTD')"
   ],
   "metadata": {
    "collapsed": false,
    "pycharm": {
     "name": "#%%\n"
    }
   }
  },
  {
   "cell_type": "code",
   "execution_count": 13,
   "metadata": {
    "pycharm": {
     "name": "#%%\n"
    }
   },
   "outputs": [],
   "source": [
    "df5 = spark.sql (\"SELECT mdt.*, di.item_main_category, di.item_sub_category_1, di.item_sub_category_2, di.item_parent_item_code from model_data_table_YTD as mdt INNER JOIN d_item_filtered as di on di.item_code = mdt.item_code\")"
   ]
  },
  {
   "cell_type": "code",
   "execution_count": 14,
   "metadata": {
    "pycharm": {
     "name": "#%%\n"
    }
   },
   "outputs": [
    {
     "name": "stdout",
     "output_type": "stream",
     "text": [
      "+------------------+-----------+--------------+------------+-----+------------------+-------------------+--------------------+---------------------+\n",
      "|         item_code|update_date|delivery_weeks|  item_price|sales|item_main_category|item_sub_category_1| item_sub_category_2|item_parent_item_code|\n",
      "+------------------+-----------+--------------+------------+-----+------------------+-------------------+--------------------+---------------------+\n",
      "|000000001000000013| 2020-01-30|             1|       39.99|    0|            GARTEN|      GARTENZUBEHÖR|DEKORATION & ACCE...| 000000001000000013-P|\n",
      "|000000001000000013| 2020-10-26|             0| 31.98999999|    0|            GARTEN|      GARTENZUBEHÖR|DEKORATION & ACCE...| 000000001000000013-P|\n",
      "|000000001000000013| 2020-10-27|             0| 31.98999999|    0|            GARTEN|      GARTENZUBEHÖR|DEKORATION & ACCE...| 000000001000000013-P|\n",
      "|000000001000000014| 2020-01-14|             0| 74.98999999|    0|            GARTEN|      GARTENZUBEHÖR|DEKORATION & ACCE...| 000000001000000014-P|\n",
      "|000000001000000020| 2020-03-30|             1| 74.98999999|    0|            GARTEN|      GARTENZUBEHÖR|DEKORATION & ACCE...| 000000001000000020-P|\n",
      "|000000001000000020| 2020-04-27|             0| 74.98999999|    0|            GARTEN|      GARTENZUBEHÖR|DEKORATION & ACCE...| 000000001000000020-P|\n",
      "|000000001000000023| 2020-08-07|             0|       49.99|    0|            GARTEN|      GARTENZUBEHÖR|              GRILLS| 000000001000000023-P|\n",
      "|000000001000000023| 2020-08-21|             0|       49.99|    0|            GARTEN|      GARTENZUBEHÖR|              GRILLS| 000000001000000023-P|\n",
      "|000000001000000023| 2020-11-07|             0|       49.99|    0|            GARTEN|      GARTENZUBEHÖR|              GRILLS| 000000001000000023-P|\n",
      "|000000001000000031| 2020-03-26|             1|119.98999999|    1|            GARTEN|      GARTENZUBEHÖR|SONNEN- & SICHTSC...| 000000001000000031-P|\n",
      "|000000001000000031| 2020-05-08|             3|      129.99|    0|            GARTEN|      GARTENZUBEHÖR|SONNEN- & SICHTSC...| 000000001000000031-P|\n",
      "|000000001000000031| 2020-05-15|             3|      129.99|    0|            GARTEN|      GARTENZUBEHÖR|SONNEN- & SICHTSC...| 000000001000000031-P|\n",
      "|000000001000000033| 2020-03-15|             1|      139.99|    0|            GARTEN|      GARTENZUBEHÖR|SONNEN- & SICHTSC...| 000000001000000033-P|\n",
      "|000000001000000033| 2020-10-11|             0|119.98999999|    0|            GARTEN|      GARTENZUBEHÖR|SONNEN- & SICHTSC...| 000000001000000033-P|\n",
      "|000000001000000034| 2020-04-21|             2|      129.99|    0|            GARTEN|      GARTENZUBEHÖR|SONNEN- & SICHTSC...| 000000001000000034-P|\n",
      "|000000001000000034| 2020-10-30|             0|      129.99|    0|            GARTEN|      GARTENZUBEHÖR|SONNEN- & SICHTSC...| 000000001000000034-P|\n",
      "|000000001000000034| 2020-11-03|             0|      129.99|    0|            GARTEN|      GARTENZUBEHÖR|SONNEN- & SICHTSC...| 000000001000000034-P|\n",
      "|000000001000000035| 2020-01-06|             2|      159.99|    0|            GARTEN|      GARTENZUBEHÖR|SONNEN- & SICHTSC...| 000000001000000035-P|\n",
      "|000000001000000035| 2020-03-11|             2|      139.99|    0|            GARTEN|      GARTENZUBEHÖR|SONNEN- & SICHTSC...| 000000001000000035-P|\n",
      "|000000001000000036| 2020-08-10|             0|       79.95|    0|            GARTEN|       GARTENTISCHE|GARTENESSTISCHE O...| 000000001000000036-P|\n",
      "+------------------+-----------+--------------+------------+-----+------------------+-------------------+--------------------+---------------------+\n",
      "only showing top 20 rows\n",
      "\n"
     ]
    }
   ],
   "source": [
    "df5.show()"
   ]
  },
  {
   "cell_type": "code",
   "execution_count": 15,
   "outputs": [],
   "source": [
    "pd_merged = df5.toPandas()"
   ],
   "metadata": {
    "collapsed": false,
    "pycharm": {
     "name": "#%%\n"
    }
   }
  },
  {
   "cell_type": "code",
   "execution_count": 16,
   "outputs": [],
   "source": [
    "pd_merged.to_pickle('/Users/gabriele.sabato/PycharmProjects/raw_data/DataFrames/data_model_cat_merged.pickle')"
   ],
   "metadata": {
    "collapsed": false,
    "pycharm": {
     "name": "#%%\n"
    }
   }
  },
  {
   "cell_type": "code",
   "execution_count": 17,
   "metadata": {
    "pycharm": {
     "name": "#%%\n"
    }
   },
   "outputs": [
    {
     "name": "stdout",
     "output_type": "stream",
     "text": [
      "            item_code update_date  delivery_weeks  item_price  sales  \\\n",
      "0  000000001000000013  2020-01-30               1       39.99      0   \n",
      "1  000000001000000013  2020-10-26               0       31.99      0   \n",
      "2  000000001000000013  2020-10-27               0       31.99      0   \n",
      "3  000000001000000014  2020-01-14               0       74.99      0   \n",
      "4  000000001000000020  2020-03-30               1       74.99      0   \n",
      "\n",
      "  item_main_category item_sub_category_1       item_sub_category_2  \\\n",
      "0             GARTEN       GARTENZUBEHÖR  DEKORATION & ACCESSOIRES   \n",
      "1             GARTEN       GARTENZUBEHÖR  DEKORATION & ACCESSOIRES   \n",
      "2             GARTEN       GARTENZUBEHÖR  DEKORATION & ACCESSOIRES   \n",
      "3             GARTEN       GARTENZUBEHÖR  DEKORATION & ACCESSOIRES   \n",
      "4             GARTEN       GARTENZUBEHÖR  DEKORATION & ACCESSOIRES   \n",
      "\n",
      "  item_parent_item_code  \n",
      "0  000000001000000013-P  \n",
      "1  000000001000000013-P  \n",
      "2  000000001000000013-P  \n",
      "3  000000001000000014-P  \n",
      "4  000000001000000020-P  \n"
     ]
    }
   ],
   "source": [
    "print(pd_merged.head())"
   ]
  },
  {
   "cell_type": "code",
   "execution_count": null,
   "metadata": {},
   "outputs": [],
   "source": [
    "pd_merged.describe()"
   ]
  },
  {
   "cell_type": "code",
   "execution_count": null,
   "metadata": {},
   "outputs": [],
   "source": [
    "print(pd_merged.dtypes)\n"
   ]
  },
  {
   "cell_type": "code",
   "execution_count": null,
   "metadata": {
    "pycharm": {
     "name": "#%%\n"
    }
   },
   "outputs": [],
   "source": [
    "import pandas as pd"
   ]
  },
  {
   "cell_type": "code",
   "execution_count": null,
   "metadata": {
    "pycharm": {
     "name": "#%%\n"
    }
   },
   "outputs": [],
   "source": [
    "pd_merged['update_date'] = pd.to_datetime(pd_merged['update_date'])"
   ]
  },
  {
   "cell_type": "code",
   "execution_count": null,
   "metadata": {},
   "outputs": [],
   "source": [
    "pd_merged['week']= pd_merged['update_date'].dt.week\n",
    "#pandadf.set_index('update_date', inplace=True)\n"
   ]
  },
  {
   "cell_type": "code",
   "execution_count": null,
   "metadata": {
    "pycharm": {
     "name": "#%%\n"
    }
   },
   "outputs": [],
   "source": [
    "print(pd_merged)"
   ]
  },
  {
   "cell_type": "code",
   "execution_count": null,
   "metadata": {
    "pycharm": {
     "name": "#%%\n"
    }
   },
   "outputs": [],
   "source": [
    "pd_merged.plot(x='update_date', y='item_price')"
   ]
  },
  {
   "cell_type": "code",
   "execution_count": null,
   "metadata": {
    "pycharm": {
     "name": "#%%\n"
    }
   },
   "outputs": [],
   "source": [
    "pd_merged.to_pickle('/Users/gabriele.sabato/PycharmProjects/raw_data/DataFrames/somefile.pickle')"
   ]
  },
  {
   "cell_type": "code",
   "execution_count": null,
   "metadata": {
    "pycharm": {
     "name": "#%%\n"
    }
   },
   "outputs": [],
   "source": []
  }
 ],
 "metadata": {
  "kernelspec": {
   "name": "python3",
   "language": "python",
   "display_name": "Python 3"
  },
  "language_info": {
   "codemirror_mode": {
    "name": "ipython",
    "version": 3
   },
   "file_extension": ".py",
   "mimetype": "text/x-python",
   "name": "python",
   "nbconvert_exporter": "python",
   "pygments_lexer": "ipython3",
   "version": "3.8.2"
  }
 },
 "nbformat": 4,
 "nbformat_minor": 1
}