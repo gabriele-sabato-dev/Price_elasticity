{
 "cells": [
  {
   "cell_type": "code",
   "execution_count": 12,
   "metadata": {
    "pycharm": {
     "name": "#%%\n"
    }
   },
   "outputs": [
    {
     "data": {
      "text/plain": "<IPython.core.display.HTML object>",
      "text/html": "<style>.container { width:100% !important; }</style>"
     },
     "metadata": {},
     "output_type": "display_data"
    }
   ],
   "source": [
    "#IMPORTING SETUP PACKAGES\n",
    "import statsmodels.formula.api as smf\n",
    "import pandas as pd\n",
    "\n",
    "%matplotlib inline\n",
    "import matplotlib.pyplot as plt\n",
    "plt.style.use('seaborn-whitegrid')\n",
    "\n",
    "from IPython.core.display import display, HTML\n",
    "display(HTML(\"<style>.container { width:100% !important; }</style>\"))\n",
    "\n",
    "pd.set_option('display.max_rows', 500)"
   ]
  },
  {
   "cell_type": "code",
   "execution_count": 13,
   "metadata": {
    "pycharm": {
     "name": "#%%\n"
    }
   },
   "outputs": [],
   "source": [
    "df = pd.read_pickle('/Users/gabriele.sabato/PycharmProjects/raw_data/DataFrames/Top100_seller_YTD_group_by_item_visit.pickle')\n"
   ]
  },
  {
   "cell_type": "code",
   "execution_count": 15,
   "metadata": {
    "pycharm": {
     "name": "#%%\n"
    }
   },
   "outputs": [
    {
     "data": {
      "text/plain": "        min_date    max_date           item_code  item_price  delivery_weeks  \\\n0     2020-01-01  2020-01-07  000000001000054998      749.99               2   \n1     2020-01-01  2020-01-22  000000001000091265      599.99               1   \n2     2020-01-01  2020-01-02  000000001000021540     1449.99               2   \n3     2020-01-01  2020-01-07  000000001000054984      749.99               2   \n4     2020-01-01  2020-01-07  000000001000054946     1099.99               2   \n...          ...         ...                 ...         ...             ...   \n4608  2020-12-08  2020-12-09  000000001000016115      129.99               1   \n4609  2020-12-08  2020-12-09  000000001000121274      649.99               0   \n4610  2020-12-08  2020-12-09  000000001000015484      949.99               2   \n4611  2020-12-08  2020-12-09  000000001000021829      669.99              10   \n4612  2020-12-08  2020-12-09  000000001000021533      869.99               2   \n\n      avg_sales  avg_unique_views  conv_rate  bin item_parent_item_code  \\\n0      1.428571         72.857143   0.019608    7    000000008000006211   \n1      1.818182         61.818182   0.029412   22    000000008000009860   \n2      1.500000        323.500000   0.004637    2    000000008000001826   \n3      2.142857        152.142857   0.014085    7    000000008000006211   \n4      3.000000        275.000000   0.010909    7    000000008000006213   \n...         ...               ...        ...  ...                   ...   \n4608   4.000000               NaN        NaN    2    000000008000001097   \n4609   0.500000               NaN        NaN    2  000000001000121274-P   \n4610   4.000000               NaN        NaN    2    000000008000000998   \n4611   0.500000               NaN        NaN    2  000000001000021829-P   \n4612   0.500000               NaN        NaN    2    000000008000001821   \n\n         item_main_category item_sub_category_1  item_sub_category_2  \\\n0                   POLSTER            ECKSOFAS            LONGCHAIR   \n1     MATRATZEN&LATTENROSTE           MATRATZEN  KALTSCHAUMMATRATZEN   \n2                   POLSTER    WOHNLANDSCHAFTEN     WOHNLANDSCHAFTEN   \n3                   POLSTER            ECKSOFAS            LONGCHAIR   \n4                   POLSTER    WOHNLANDSCHAFTEN     WOHNLANDSCHAFTEN   \n...                     ...                 ...                  ...   \n4608  ESSZIMMERSTÜHLE&BÄNKE     ESSZIMMERSTÜHLE            KLASSISCH   \n4609        ESSZIMMERTISCHE           ESSTISCHE            KLASSISCH   \n4610                POLSTER            ECKSOFAS            LONGCHAIR   \n4611                 BETTEN     BOXSPRINGBETTEN      BOXSPRINGBETTEN   \n4612                POLSTER            ECKSOFAS            LONGCHAIR   \n\n      log_price  log_delivery_weeks  log_sales  log_avg_unique_views  \\\n0      6.620060            0.693197   0.356745              4.288502   \n1      6.396913            0.000100   0.597892              4.124199   \n2      7.279312            0.693197   0.405532              5.779199   \n3      6.620060            0.693197   0.762187              5.024821   \n4      7.003056            0.693197   1.098646              5.616771   \n...         ...                 ...        ...                   ...   \n4608   4.867458            0.000100   1.386319                   NaN   \n4609   6.476957           -9.210340  -0.692947                   NaN   \n4610   6.856452            0.693197   1.386319                   NaN   \n4611   6.507263            2.302595  -0.692947                   NaN   \n4612   6.768482            0.693197  -0.692947                   NaN   \n\n      log_conv_rate  \n0         -3.926739  \n1         -3.522966  \n2         -5.352397  \n3         -4.255605  \n4         -4.509034  \n...             ...  \n4608            NaN  \n4609            NaN  \n4610            NaN  \n4611            NaN  \n4612            NaN  \n\n[4613 rows x 18 columns]",
      "text/html": "<div>\n<style scoped>\n    .dataframe tbody tr th:only-of-type {\n        vertical-align: middle;\n    }\n\n    .dataframe tbody tr th {\n        vertical-align: top;\n    }\n\n    .dataframe thead th {\n        text-align: right;\n    }\n</style>\n<table border=\"1\" class=\"dataframe\">\n  <thead>\n    <tr style=\"text-align: right;\">\n      <th></th>\n      <th>min_date</th>\n      <th>max_date</th>\n      <th>item_code</th>\n      <th>item_price</th>\n      <th>delivery_weeks</th>\n      <th>avg_sales</th>\n      <th>avg_unique_views</th>\n      <th>conv_rate</th>\n      <th>bin</th>\n      <th>item_parent_item_code</th>\n      <th>item_main_category</th>\n      <th>item_sub_category_1</th>\n      <th>item_sub_category_2</th>\n      <th>log_price</th>\n      <th>log_delivery_weeks</th>\n      <th>log_sales</th>\n      <th>log_avg_unique_views</th>\n      <th>log_conv_rate</th>\n    </tr>\n  </thead>\n  <tbody>\n    <tr>\n      <th>0</th>\n      <td>2020-01-01</td>\n      <td>2020-01-07</td>\n      <td>000000001000054998</td>\n      <td>749.99</td>\n      <td>2</td>\n      <td>1.428571</td>\n      <td>72.857143</td>\n      <td>0.019608</td>\n      <td>7</td>\n      <td>000000008000006211</td>\n      <td>POLSTER</td>\n      <td>ECKSOFAS</td>\n      <td>LONGCHAIR</td>\n      <td>6.620060</td>\n      <td>0.693197</td>\n      <td>0.356745</td>\n      <td>4.288502</td>\n      <td>-3.926739</td>\n    </tr>\n    <tr>\n      <th>1</th>\n      <td>2020-01-01</td>\n      <td>2020-01-22</td>\n      <td>000000001000091265</td>\n      <td>599.99</td>\n      <td>1</td>\n      <td>1.818182</td>\n      <td>61.818182</td>\n      <td>0.029412</td>\n      <td>22</td>\n      <td>000000008000009860</td>\n      <td>MATRATZEN&amp;LATTENROSTE</td>\n      <td>MATRATZEN</td>\n      <td>KALTSCHAUMMATRATZEN</td>\n      <td>6.396913</td>\n      <td>0.000100</td>\n      <td>0.597892</td>\n      <td>4.124199</td>\n      <td>-3.522966</td>\n    </tr>\n    <tr>\n      <th>2</th>\n      <td>2020-01-01</td>\n      <td>2020-01-02</td>\n      <td>000000001000021540</td>\n      <td>1449.99</td>\n      <td>2</td>\n      <td>1.500000</td>\n      <td>323.500000</td>\n      <td>0.004637</td>\n      <td>2</td>\n      <td>000000008000001826</td>\n      <td>POLSTER</td>\n      <td>WOHNLANDSCHAFTEN</td>\n      <td>WOHNLANDSCHAFTEN</td>\n      <td>7.279312</td>\n      <td>0.693197</td>\n      <td>0.405532</td>\n      <td>5.779199</td>\n      <td>-5.352397</td>\n    </tr>\n    <tr>\n      <th>3</th>\n      <td>2020-01-01</td>\n      <td>2020-01-07</td>\n      <td>000000001000054984</td>\n      <td>749.99</td>\n      <td>2</td>\n      <td>2.142857</td>\n      <td>152.142857</td>\n      <td>0.014085</td>\n      <td>7</td>\n      <td>000000008000006211</td>\n      <td>POLSTER</td>\n      <td>ECKSOFAS</td>\n      <td>LONGCHAIR</td>\n      <td>6.620060</td>\n      <td>0.693197</td>\n      <td>0.762187</td>\n      <td>5.024821</td>\n      <td>-4.255605</td>\n    </tr>\n    <tr>\n      <th>4</th>\n      <td>2020-01-01</td>\n      <td>2020-01-07</td>\n      <td>000000001000054946</td>\n      <td>1099.99</td>\n      <td>2</td>\n      <td>3.000000</td>\n      <td>275.000000</td>\n      <td>0.010909</td>\n      <td>7</td>\n      <td>000000008000006213</td>\n      <td>POLSTER</td>\n      <td>WOHNLANDSCHAFTEN</td>\n      <td>WOHNLANDSCHAFTEN</td>\n      <td>7.003056</td>\n      <td>0.693197</td>\n      <td>1.098646</td>\n      <td>5.616771</td>\n      <td>-4.509034</td>\n    </tr>\n    <tr>\n      <th>...</th>\n      <td>...</td>\n      <td>...</td>\n      <td>...</td>\n      <td>...</td>\n      <td>...</td>\n      <td>...</td>\n      <td>...</td>\n      <td>...</td>\n      <td>...</td>\n      <td>...</td>\n      <td>...</td>\n      <td>...</td>\n      <td>...</td>\n      <td>...</td>\n      <td>...</td>\n      <td>...</td>\n      <td>...</td>\n      <td>...</td>\n    </tr>\n    <tr>\n      <th>4608</th>\n      <td>2020-12-08</td>\n      <td>2020-12-09</td>\n      <td>000000001000016115</td>\n      <td>129.99</td>\n      <td>1</td>\n      <td>4.000000</td>\n      <td>NaN</td>\n      <td>NaN</td>\n      <td>2</td>\n      <td>000000008000001097</td>\n      <td>ESSZIMMERSTÜHLE&amp;BÄNKE</td>\n      <td>ESSZIMMERSTÜHLE</td>\n      <td>KLASSISCH</td>\n      <td>4.867458</td>\n      <td>0.000100</td>\n      <td>1.386319</td>\n      <td>NaN</td>\n      <td>NaN</td>\n    </tr>\n    <tr>\n      <th>4609</th>\n      <td>2020-12-08</td>\n      <td>2020-12-09</td>\n      <td>000000001000121274</td>\n      <td>649.99</td>\n      <td>0</td>\n      <td>0.500000</td>\n      <td>NaN</td>\n      <td>NaN</td>\n      <td>2</td>\n      <td>000000001000121274-P</td>\n      <td>ESSZIMMERTISCHE</td>\n      <td>ESSTISCHE</td>\n      <td>KLASSISCH</td>\n      <td>6.476957</td>\n      <td>-9.210340</td>\n      <td>-0.692947</td>\n      <td>NaN</td>\n      <td>NaN</td>\n    </tr>\n    <tr>\n      <th>4610</th>\n      <td>2020-12-08</td>\n      <td>2020-12-09</td>\n      <td>000000001000015484</td>\n      <td>949.99</td>\n      <td>2</td>\n      <td>4.000000</td>\n      <td>NaN</td>\n      <td>NaN</td>\n      <td>2</td>\n      <td>000000008000000998</td>\n      <td>POLSTER</td>\n      <td>ECKSOFAS</td>\n      <td>LONGCHAIR</td>\n      <td>6.856452</td>\n      <td>0.693197</td>\n      <td>1.386319</td>\n      <td>NaN</td>\n      <td>NaN</td>\n    </tr>\n    <tr>\n      <th>4611</th>\n      <td>2020-12-08</td>\n      <td>2020-12-09</td>\n      <td>000000001000021829</td>\n      <td>669.99</td>\n      <td>10</td>\n      <td>0.500000</td>\n      <td>NaN</td>\n      <td>NaN</td>\n      <td>2</td>\n      <td>000000001000021829-P</td>\n      <td>BETTEN</td>\n      <td>BOXSPRINGBETTEN</td>\n      <td>BOXSPRINGBETTEN</td>\n      <td>6.507263</td>\n      <td>2.302595</td>\n      <td>-0.692947</td>\n      <td>NaN</td>\n      <td>NaN</td>\n    </tr>\n    <tr>\n      <th>4612</th>\n      <td>2020-12-08</td>\n      <td>2020-12-09</td>\n      <td>000000001000021533</td>\n      <td>869.99</td>\n      <td>2</td>\n      <td>0.500000</td>\n      <td>NaN</td>\n      <td>NaN</td>\n      <td>2</td>\n      <td>000000008000001821</td>\n      <td>POLSTER</td>\n      <td>ECKSOFAS</td>\n      <td>LONGCHAIR</td>\n      <td>6.768482</td>\n      <td>0.693197</td>\n      <td>-0.692947</td>\n      <td>NaN</td>\n      <td>NaN</td>\n    </tr>\n  </tbody>\n</table>\n<p>4613 rows × 18 columns</p>\n</div>"
     },
     "execution_count": 15,
     "metadata": {},
     "output_type": "execute_result"
    }
   ],
   "source": [
    "df\n",
    "\n"
   ]
  },
  {
   "cell_type": "code",
   "execution_count": 16,
   "metadata": {
    "pycharm": {
     "name": "#%%\n"
    }
   },
   "outputs": [
    {
     "name": "stdout",
     "output_type": "stream",
     "text": [
      "min_date                  object\n",
      "max_date                  object\n",
      "item_code                 object\n",
      "item_price               float64\n",
      "delivery_weeks             int64\n",
      "avg_sales                float64\n",
      "avg_unique_views         float64\n",
      "conv_rate                float64\n",
      "bin                        int32\n",
      "item_parent_item_code     object\n",
      "item_main_category        object\n",
      "item_sub_category_1       object\n",
      "item_sub_category_2       object\n",
      "log_price                float64\n",
      "log_delivery_weeks       float64\n",
      "log_sales                float64\n",
      "log_avg_unique_views     float64\n",
      "log_conv_rate            float64\n",
      "dtype: object\n"
     ]
    }
   ],
   "source": [
    "print(df.dtypes)"
   ]
  },
  {
   "cell_type": "code",
   "execution_count": 32,
   "metadata": {
    "pycharm": {
     "name": "#%%\n"
    }
   },
   "outputs": [],
   "source": [
    "def filter_df(DF = df,bins=6, avg_PDP = 10.):\n",
    "    df_filt = DF[DF['bin'] > bins]\n",
    "    df_items = df_filt.groupby('item_code').item_price.nunique() > 1\n",
    "    df_filt  = df_filt.merge(df_items,on='item_code',how='inner')\n",
    "    df_filt  = df_filt[df_filt['item_price_y']== True]\n",
    "    #filter PDP\n",
    "    #print(df_filt)\n",
    "    df_filt = df_filt[df_filt['avg_unique_views'] > avg_PDP]\n",
    "    #print(df_filt)\n",
    "    return df_filt"
   ]
  },
  {
   "cell_type": "code",
   "execution_count": 18,
   "outputs": [
    {
     "name": "stdout",
     "output_type": "stream",
     "text": [
      "       min_date    max_date           item_code  item_price_x  delivery_weeks  \\\n",
      "0    2020-01-01  2020-01-07  000000001000054998        749.99               2   \n",
      "1    2020-01-08  2020-01-29  000000001000054998        699.99               2   \n",
      "2    2020-01-30  2020-04-19  000000001000054998        749.99               2   \n",
      "3    2020-04-23  2020-05-03  000000001000054998        749.99               2   \n",
      "4    2020-05-04  2020-05-12  000000001000054998        599.99               2   \n",
      "..          ...         ...                 ...           ...             ...   \n",
      "898  2020-04-23  2020-06-01  000000001000021845       1099.99               2   \n",
      "899  2020-06-11  2020-09-15  000000001000021845        999.99               2   \n",
      "900  2020-09-22  2020-10-01  000000001000021845       1049.99               3   \n",
      "901  2020-10-02  2020-10-15  000000001000021845        999.99               2   \n",
      "902  2020-11-19  2020-11-27  000000001000021845        999.99               2   \n",
      "\n",
      "     avg_sales  avg_unique_views  conv_rate  bin item_parent_item_code  \\\n",
      "0     1.428571         72.857143   0.019608    7    000000008000006211   \n",
      "1     1.545455        214.363636   0.007209   22    000000008000006211   \n",
      "2     1.037037        128.790123   0.008052   81    000000008000006211   \n",
      "3     1.272727        162.727273   0.007821   11    000000008000006211   \n",
      "4     4.000000        240.555556   0.016628    9    000000008000006211   \n",
      "..         ...               ...        ...  ...                   ...   \n",
      "898   0.375000         77.300000   0.004851   40    000000008000001887   \n",
      "899   0.422680         74.577320   0.005668   97    000000008000001887   \n",
      "900   0.900000        120.500000   0.007469   10    000000008000001887   \n",
      "901   1.428571        155.142857   0.009208   14    000000008000001887   \n",
      "902   1.555556        121.666667   0.012785    9    000000008000001887   \n",
      "\n",
      "    item_main_category item_sub_category_1 item_sub_category_2  log_price  \\\n",
      "0              POLSTER            ECKSOFAS           LONGCHAIR   6.620060   \n",
      "1              POLSTER            ECKSOFAS           LONGCHAIR   6.551066   \n",
      "2              POLSTER            ECKSOFAS           LONGCHAIR   6.620060   \n",
      "3              POLSTER            ECKSOFAS           LONGCHAIR   6.620060   \n",
      "4              POLSTER            ECKSOFAS           LONGCHAIR   6.396913   \n",
      "..                 ...                 ...                 ...        ...   \n",
      "898             BETTEN     BOXSPRINGBETTEN     BOXSPRINGBETTEN   7.003056   \n",
      "899             BETTEN     BOXSPRINGBETTEN     BOXSPRINGBETTEN   6.907745   \n",
      "900             BETTEN     BOXSPRINGBETTEN     BOXSPRINGBETTEN   6.956536   \n",
      "901             BETTEN     BOXSPRINGBETTEN     BOXSPRINGBETTEN   6.907745   \n",
      "902             BETTEN     BOXSPRINGBETTEN     BOXSPRINGBETTEN   6.907745   \n",
      "\n",
      "     log_delivery_weeks  log_sales  log_avg_unique_views  log_conv_rate  \\\n",
      "0              0.693197   0.356745              4.288502      -3.926739   \n",
      "1              0.693197   0.435383              5.367674      -4.918580   \n",
      "2              0.693197   0.036464              4.858185      -4.809474   \n",
      "3              0.693197   0.241241              5.092076      -4.838209   \n",
      "4              0.693197   1.386319              5.482951      -4.090661   \n",
      "..                  ...        ...                   ...            ...   \n",
      "898            0.693197  -0.980563              4.347695      -5.308119   \n",
      "899            0.693197  -0.860902              4.311838      -5.155485   \n",
      "900            1.098646  -0.105249              4.791651      -4.883710   \n",
      "901            0.693197   0.356745              5.044347      -4.676870   \n",
      "902            0.693197   0.441897              4.801286      -4.351661   \n",
      "\n",
      "     item_price_y  \n",
      "0            True  \n",
      "1            True  \n",
      "2            True  \n",
      "3            True  \n",
      "4            True  \n",
      "..            ...  \n",
      "898          True  \n",
      "899          True  \n",
      "900          True  \n",
      "901          True  \n",
      "902          True  \n",
      "\n",
      "[795 rows x 19 columns]\n",
      "       min_date    max_date           item_code  item_price_x  delivery_weeks  \\\n",
      "0    2020-01-01  2020-01-07  000000001000054998        749.99               2   \n",
      "1    2020-01-08  2020-01-29  000000001000054998        699.99               2   \n",
      "2    2020-01-30  2020-04-19  000000001000054998        749.99               2   \n",
      "3    2020-04-23  2020-05-03  000000001000054998        749.99               2   \n",
      "4    2020-05-04  2020-05-12  000000001000054998        599.99               2   \n",
      "..          ...         ...                 ...           ...             ...   \n",
      "898  2020-04-23  2020-06-01  000000001000021845       1099.99               2   \n",
      "899  2020-06-11  2020-09-15  000000001000021845        999.99               2   \n",
      "900  2020-09-22  2020-10-01  000000001000021845       1049.99               3   \n",
      "901  2020-10-02  2020-10-15  000000001000021845        999.99               2   \n",
      "902  2020-11-19  2020-11-27  000000001000021845        999.99               2   \n",
      "\n",
      "     avg_sales  avg_unique_views  conv_rate  bin item_parent_item_code  \\\n",
      "0     1.428571         72.857143   0.019608    7    000000008000006211   \n",
      "1     1.545455        214.363636   0.007209   22    000000008000006211   \n",
      "2     1.037037        128.790123   0.008052   81    000000008000006211   \n",
      "3     1.272727        162.727273   0.007821   11    000000008000006211   \n",
      "4     4.000000        240.555556   0.016628    9    000000008000006211   \n",
      "..         ...               ...        ...  ...                   ...   \n",
      "898   0.375000         77.300000   0.004851   40    000000008000001887   \n",
      "899   0.422680         74.577320   0.005668   97    000000008000001887   \n",
      "900   0.900000        120.500000   0.007469   10    000000008000001887   \n",
      "901   1.428571        155.142857   0.009208   14    000000008000001887   \n",
      "902   1.555556        121.666667   0.012785    9    000000008000001887   \n",
      "\n",
      "    item_main_category item_sub_category_1 item_sub_category_2  log_price  \\\n",
      "0              POLSTER            ECKSOFAS           LONGCHAIR   6.620060   \n",
      "1              POLSTER            ECKSOFAS           LONGCHAIR   6.551066   \n",
      "2              POLSTER            ECKSOFAS           LONGCHAIR   6.620060   \n",
      "3              POLSTER            ECKSOFAS           LONGCHAIR   6.620060   \n",
      "4              POLSTER            ECKSOFAS           LONGCHAIR   6.396913   \n",
      "..                 ...                 ...                 ...        ...   \n",
      "898             BETTEN     BOXSPRINGBETTEN     BOXSPRINGBETTEN   7.003056   \n",
      "899             BETTEN     BOXSPRINGBETTEN     BOXSPRINGBETTEN   6.907745   \n",
      "900             BETTEN     BOXSPRINGBETTEN     BOXSPRINGBETTEN   6.956536   \n",
      "901             BETTEN     BOXSPRINGBETTEN     BOXSPRINGBETTEN   6.907745   \n",
      "902             BETTEN     BOXSPRINGBETTEN     BOXSPRINGBETTEN   6.907745   \n",
      "\n",
      "     log_delivery_weeks  log_sales  log_avg_unique_views  log_conv_rate  \\\n",
      "0              0.693197   0.356745              4.288502      -3.926739   \n",
      "1              0.693197   0.435383              5.367674      -4.918580   \n",
      "2              0.693197   0.036464              4.858185      -4.809474   \n",
      "3              0.693197   0.241241              5.092076      -4.838209   \n",
      "4              0.693197   1.386319              5.482951      -4.090661   \n",
      "..                  ...        ...                   ...            ...   \n",
      "898            0.693197  -0.980563              4.347695      -5.308119   \n",
      "899            0.693197  -0.860902              4.311838      -5.155485   \n",
      "900            1.098646  -0.105249              4.791651      -4.883710   \n",
      "901            0.693197   0.356745              5.044347      -4.676870   \n",
      "902            0.693197   0.441897              4.801286      -4.351661   \n",
      "\n",
      "     item_price_y  \n",
      "0            True  \n",
      "1            True  \n",
      "2            True  \n",
      "3            True  \n",
      "4            True  \n",
      "..            ...  \n",
      "898          True  \n",
      "899          True  \n",
      "900          True  \n",
      "901          True  \n",
      "902          True  \n",
      "\n",
      "[788 rows x 19 columns]\n"
     ]
    }
   ],
   "source": [
    "df_filt = filter_df(df)\n"
   ],
   "metadata": {
    "collapsed": false,
    "pycharm": {
     "name": "#%%\n"
    }
   }
  },
  {
   "cell_type": "code",
   "execution_count": 19,
   "metadata": {},
   "outputs": [],
   "source": [
    "#introducing the similarity score \n",
    "sim_score = pd.read_parquet('/Users/gabriele.sabato/PycharmProjects/raw_data/recommendations_prod/part-00000-5f77392a-0bfa-4f0b-a4ae-d816ce2d71de-c000.snappy.parquet')"
   ]
  },
  {
   "cell_type": "code",
   "execution_count": 20,
   "metadata": {},
   "outputs": [
    {
     "data": {
      "text/plain": "                        sku     recommended_sku     score\n0        000000001000200072  000000001000200087  0.260000\n1        000000001000200072  000000001000183538  0.216580\n2        000000001000200072  000000001000142209  0.200000\n3        000000001000200072  000000001000204906  0.190794\n4        000000001000200072  000000001000183468  0.183980\n...                     ...                 ...       ...\n3827600  000000001000064787  000000001000115010  0.203238\n3827601  000000001000064787  000000001000112641  0.201339\n3827602  000000001000064787  000000001000046204  0.200052\n3827603  000000001000064787  000000001000114086  0.199867\n3827604  000000001000064787  000000001000049726  0.199657\n\n[3827605 rows x 3 columns]",
      "text/html": "<div>\n<style scoped>\n    .dataframe tbody tr th:only-of-type {\n        vertical-align: middle;\n    }\n\n    .dataframe tbody tr th {\n        vertical-align: top;\n    }\n\n    .dataframe thead th {\n        text-align: right;\n    }\n</style>\n<table border=\"1\" class=\"dataframe\">\n  <thead>\n    <tr style=\"text-align: right;\">\n      <th></th>\n      <th>sku</th>\n      <th>recommended_sku</th>\n      <th>score</th>\n    </tr>\n  </thead>\n  <tbody>\n    <tr>\n      <th>0</th>\n      <td>000000001000200072</td>\n      <td>000000001000200087</td>\n      <td>0.260000</td>\n    </tr>\n    <tr>\n      <th>1</th>\n      <td>000000001000200072</td>\n      <td>000000001000183538</td>\n      <td>0.216580</td>\n    </tr>\n    <tr>\n      <th>2</th>\n      <td>000000001000200072</td>\n      <td>000000001000142209</td>\n      <td>0.200000</td>\n    </tr>\n    <tr>\n      <th>3</th>\n      <td>000000001000200072</td>\n      <td>000000001000204906</td>\n      <td>0.190794</td>\n    </tr>\n    <tr>\n      <th>4</th>\n      <td>000000001000200072</td>\n      <td>000000001000183468</td>\n      <td>0.183980</td>\n    </tr>\n    <tr>\n      <th>...</th>\n      <td>...</td>\n      <td>...</td>\n      <td>...</td>\n    </tr>\n    <tr>\n      <th>3827600</th>\n      <td>000000001000064787</td>\n      <td>000000001000115010</td>\n      <td>0.203238</td>\n    </tr>\n    <tr>\n      <th>3827601</th>\n      <td>000000001000064787</td>\n      <td>000000001000112641</td>\n      <td>0.201339</td>\n    </tr>\n    <tr>\n      <th>3827602</th>\n      <td>000000001000064787</td>\n      <td>000000001000046204</td>\n      <td>0.200052</td>\n    </tr>\n    <tr>\n      <th>3827603</th>\n      <td>000000001000064787</td>\n      <td>000000001000114086</td>\n      <td>0.199867</td>\n    </tr>\n    <tr>\n      <th>3827604</th>\n      <td>000000001000064787</td>\n      <td>000000001000049726</td>\n      <td>0.199657</td>\n    </tr>\n  </tbody>\n</table>\n<p>3827605 rows × 3 columns</p>\n</div>"
     },
     "execution_count": 20,
     "metadata": {},
     "output_type": "execute_result"
    }
   ],
   "source": [
    "sim_score"
   ]
  },
  {
   "cell_type": "code",
   "execution_count": 21,
   "metadata": {},
   "outputs": [
    {
     "data": {
      "text/plain": "                        sku     recommended_sku     score\n14490    000000001000117185  000000001000050870  0.935501\n14491    000000001000117185  000000001000008748  0.719761\n14492    000000001000117185  000000001000166791  0.590333\n14493    000000001000117185  000000001000181292  0.551096\n14494    000000001000117185  000000001000178078  0.527728\n...                     ...                 ...       ...\n3522432  000000001000021542  000000001000021533  0.134025\n3522433  000000001000021542  000000001000148168  0.133630\n3522434  000000001000021542  000000001000119053  0.133488\n3522435  000000001000021542  000000001000222146  0.124561\n3522436  000000001000021542  000000001000029447  0.118905\n\n[1560 rows x 3 columns]",
      "text/html": "<div>\n<style scoped>\n    .dataframe tbody tr th:only-of-type {\n        vertical-align: middle;\n    }\n\n    .dataframe tbody tr th {\n        vertical-align: top;\n    }\n\n    .dataframe thead th {\n        text-align: right;\n    }\n</style>\n<table border=\"1\" class=\"dataframe\">\n  <thead>\n    <tr style=\"text-align: right;\">\n      <th></th>\n      <th>sku</th>\n      <th>recommended_sku</th>\n      <th>score</th>\n    </tr>\n  </thead>\n  <tbody>\n    <tr>\n      <th>14490</th>\n      <td>000000001000117185</td>\n      <td>000000001000050870</td>\n      <td>0.935501</td>\n    </tr>\n    <tr>\n      <th>14491</th>\n      <td>000000001000117185</td>\n      <td>000000001000008748</td>\n      <td>0.719761</td>\n    </tr>\n    <tr>\n      <th>14492</th>\n      <td>000000001000117185</td>\n      <td>000000001000166791</td>\n      <td>0.590333</td>\n    </tr>\n    <tr>\n      <th>14493</th>\n      <td>000000001000117185</td>\n      <td>000000001000181292</td>\n      <td>0.551096</td>\n    </tr>\n    <tr>\n      <th>14494</th>\n      <td>000000001000117185</td>\n      <td>000000001000178078</td>\n      <td>0.527728</td>\n    </tr>\n    <tr>\n      <th>...</th>\n      <td>...</td>\n      <td>...</td>\n      <td>...</td>\n    </tr>\n    <tr>\n      <th>3522432</th>\n      <td>000000001000021542</td>\n      <td>000000001000021533</td>\n      <td>0.134025</td>\n    </tr>\n    <tr>\n      <th>3522433</th>\n      <td>000000001000021542</td>\n      <td>000000001000148168</td>\n      <td>0.133630</td>\n    </tr>\n    <tr>\n      <th>3522434</th>\n      <td>000000001000021542</td>\n      <td>000000001000119053</td>\n      <td>0.133488</td>\n    </tr>\n    <tr>\n      <th>3522435</th>\n      <td>000000001000021542</td>\n      <td>000000001000222146</td>\n      <td>0.124561</td>\n    </tr>\n    <tr>\n      <th>3522436</th>\n      <td>000000001000021542</td>\n      <td>000000001000029447</td>\n      <td>0.118905</td>\n    </tr>\n  </tbody>\n</table>\n<p>1560 rows × 3 columns</p>\n</div>"
     },
     "execution_count": 21,
     "metadata": {},
     "output_type": "execute_result"
    }
   ],
   "source": [
    "# Filter table with only topX item_code\n",
    "\n",
    "unique_item_codes = list(df_filt.item_code.unique())\n",
    "\n",
    "\n",
    "sim_score_filt = sim_score[sim_score['sku'].isin(unique_item_codes)]\n",
    "\n",
    "sim_score_filt"
   ]
  },
  {
   "cell_type": "code",
   "execution_count": 22,
   "metadata": {},
   "outputs": [],
   "source": [
    "#Create a map with X subset for X linear fit:\n",
    "\n",
    "def create_map(list_of_items = unique_item_codes , df=sim_score_filt):\n",
    "    map_of_items = {}\n",
    "    for item_code in list_of_items:\n",
    "        df_mod = df[df['sku'] == item_code]\n",
    "        final_set_sku = list(df_mod.recommended_sku)\n",
    "        final_set_sku.insert(0,item_code)\n",
    "        map_of_items[item_code] = final_set_sku\n",
    "    #print(map_of_items)    \n",
    "    return map_of_items\n",
    "\n",
    "Map_of_Items = create_map()"
   ]
  },
  {
   "cell_type": "code",
   "execution_count": 62,
   "metadata": {},
   "outputs": [],
   "source": [
    "#load greater dataset \n",
    "largest_dataset = '/Users/gabriele.sabato/PycharmProjects/raw_data/DataFrames/All_catalogue_seller_YTD_group_by_item_visit.pickle'\n",
    "dataset10k = '/Users/gabriele.sabato/PycharmProjects/raw_data/DataFrames/Top10000_seller_YTD_group_by_item_visit.pickle'\n",
    "\n",
    "#df_k = pd.read_pickle(dataset10k)\n",
    "df_k = pd.read_pickle(largest_dataset)"
   ]
  },
  {
   "cell_type": "code",
   "execution_count": 63,
   "outputs": [],
   "source": [
    "PDP_bin = [0,10,15,16,17,18,19,20,21,22,23,24,25,30,40,50,100]\n",
    "sim_score_bin = [0.9,0.8,0.7,0.6,0.5,0.4,0.3,0.2,0.1]\n",
    "\n"
   ],
   "metadata": {
    "collapsed": false,
    "pycharm": {
     "name": "#%%\n"
    }
   }
  },
  {
   "cell_type": "code",
   "execution_count": 64,
   "outputs": [],
   "source": [
    "df_PDP_bin_filt = {}\n",
    "for PDP_view in PDP_bin:\n",
    "    df_k_filt = filter_df(df_k, avg_PDP= PDP_view)\n",
    "    df_PDP_bin_filt[PDP_view] = df_k_filt\n",
    "    #print(df_k_filt)\n",
    "\n",
    "#print(df_PDP_bin_filt)\n"
   ],
   "metadata": {
    "collapsed": false,
    "pycharm": {
     "name": "#%%\n"
    }
   }
  },
  {
   "cell_type": "code",
   "execution_count": 65,
   "metadata": {},
   "outputs": [],
   "source": [
    "def create_map_of_dataframes(items_map = Map_of_Items,df=df_filt):\n",
    "    map_of_df = {}\n",
    "    for key in items_map.keys():\n",
    "        items  = items_map[key]\n",
    "        #print(items[0])\n",
    "        #print(df)\n",
    "        df_mod = df[df['item_code'].isin(items)]\n",
    "        #print(df_mod.item_code.nunique())\n",
    "        map_of_df[key]= df_mod\n",
    "    return map_of_df\n",
    "\n"
   ]
  },
  {
   "cell_type": "code",
   "execution_count": 66,
   "outputs": [],
   "source": [
    "def run_model(item_code, df, map_results):\n",
    "    #print('\\n')\n",
    "    #print(f'Running model for the item = {item_code}')\n",
    "    wls_cr_with_fe = smf.wls(\"conv_rate ~ log_price + log_delivery_weeks + C(item_code)\", df, weights=df['bin']).fit()\n",
    "    #print(wls_cr_with_fe.summary())\n",
    "    beta_log_price, beta_std_err_log_price = wls_cr_with_fe.params[-2].round(4),wls_cr_with_fe.bse[-2].round(4)\n",
    "    beta_log_del, beta_std_err_log_del = wls_cr_with_fe.params[-1].round(4),wls_cr_with_fe.bse[-1].round(4)\n",
    "    Result_log_price = 'Log_price  = ' + str(beta_log_price) + ' ± ' + str(beta_std_err_log_price)\n",
    "    Result_log_del = 'Log_del_week = ' + str(beta_log_del) + ' ± ' + str(beta_std_err_log_del)\n",
    "    flag_stat_ok = abs((3*beta_std_err_log_price)/beta_log_price) < 1.\n",
    "    map_results[item_code] = [beta_log_price, beta_std_err_log_price, beta_log_del,beta_std_err_log_del, df.item_code.nunique()]\n",
    "    if flag_stat_ok:\n",
    "        #print(f'Enough statistics for the item = {item_code}')\n",
    "        #print(Result_log_price)\n",
    "        #print(Result_log_del)\n",
    "        return True\n",
    "    else:\n",
    "        #print(f'Not enough statistics for the item = {item_code}')\n",
    "        #print(Result_log_price)\n",
    "        #print(Result_log_del)\n",
    "        return False\n"
   ],
   "metadata": {
    "collapsed": false,
    "pycharm": {
     "name": "#%%\n"
    }
   }
  },
  {
   "cell_type": "code",
   "execution_count": 68,
   "outputs": [
    {
     "name": "stdout",
     "output_type": "stream",
     "text": [
      "Cut on PDP = 0, 24\n",
      "Cut on PDP = 10, 38\n",
      "Cut on PDP = 15, 36\n",
      "Cut on PDP = 16, 36\n",
      "Cut on PDP = 17, 36\n",
      "Cut on PDP = 18, 39\n",
      "Cut on PDP = 19, 41\n",
      "Cut on PDP = 20, 41\n",
      "Cut on PDP = 21, 40\n",
      "Cut on PDP = 22, 39\n",
      "Cut on PDP = 23, 39\n",
      "Cut on PDP = 24, 37\n",
      "Cut on PDP = 25, 38\n",
      "Cut on PDP = 30, 37\n",
      "Cut on PDP = 40, 35\n",
      "Cut on PDP = 50, 35\n",
      "Cut on PDP = 100, 35\n"
     ]
    },
    {
     "name": "stderr",
     "output_type": "stream",
     "text": [
      "/Users/gabriele.sabato/anaconda3/envs/pythonProject/lib/python3.8/site-packages/statsmodels/regression/linear_model.py:1650: RuntimeWarning: invalid value encountered in double_scalars\n",
      "  return np.dot(wresid, wresid) / self.df_resid\n"
     ]
    }
   ],
   "source": [
    "map_of_maps_of_df = {}\n",
    "for PDP_cut in df_PDP_bin_filt.keys():\n",
    "    map_of_dfs = create_map_of_dataframes(df=df_PDP_bin_filt[PDP_cut])\n",
    "    map_of_maps_of_df[PDP_cut] = map_of_dfs\n",
    "\n",
    "    map_result = {}\n",
    "\n",
    "    #print(\"Model used: conv_rate ~ log_price + log_delivery_weeks + C(item_code)\\n\")\n",
    "    map_items_stat = {}\n",
    "    for key in map_of_dfs.keys():\n",
    "        map_items_stat[key] = run_model(key, map_of_dfs[key], map_result)\n",
    "\n",
    "    #print(map_result)\n",
    "\n",
    "    items_stat_series = pd.Series(map_items_stat)\n",
    "    #print(map_items_stat)\n",
    "    #print(items_stat_series)\n",
    "\n",
    "\n",
    "    x,y, y_err, rel_err = [],[],[],[]\n",
    "    for i_code,flag in items_stat_series.items():\n",
    "        #flag=T\n",
    "        if flag == True:\n",
    "\n",
    "            y.append(map_result[i_code][0])\n",
    "            y_err.append(map_result[i_code][1])\n",
    "            x.append(map_result[i_code][-1])\n",
    "            rel_err.append(abs(map_result[i_code][1]/map_result[i_code][0]))\n",
    "        else:\n",
    "            continue\n",
    "    print(f'Cut on PDP = {PDP_cut}, {len(x)}')\n"
   ],
   "metadata": {
    "collapsed": false,
    "pycharm": {
     "name": "#%%\n"
    }
   }
  },
  {
   "cell_type": "code",
   "execution_count": null,
   "outputs": [],
   "source": [
    "#plt.errorbar(x, y, yerr=y_err,fmt='o')\n",
    "#plt.show()\n",
    "#until here\n",
    "\n"
   ],
   "metadata": {
    "collapsed": false,
    "pycharm": {
     "name": "#%%\n"
    }
   }
  },
  {
   "cell_type": "code",
   "execution_count": 31,
   "outputs": [
    {
     "data": {
      "text/plain": "<Figure size 432x288 with 1 Axes>",
      "image/png": "[encoded data removed]"
     },
     "metadata": {},
     "output_type": "display_data"
    }
   ],
   "source": [
    "plt.scatter(x,rel_err)\n",
    "plt.show()"
   ],
   "metadata": {
    "collapsed": false,
    "pycharm": {
     "name": "#%%\n"
    }
   }
  },
  {
   "cell_type": "code",
   "execution_count": 21,
   "metadata": {
    "pycharm": {
     "name": "#%%\n"
    }
   },
   "outputs": [
    {
     "name": "stdout",
     "output_type": "stream",
     "text": [
      "                            WLS Regression Results                            \n",
      "==============================================================================\n",
      "Dep. Variable:          log_conv_rate   R-squared:                       0.821\n",
      "Model:                            WLS   Adj. R-squared:                  0.802\n",
      "Method:                 Least Squares   F-statistic:                     41.60\n",
      "Date:                Tue, 05 Jan 2021   Prob (F-statistic):          1.06e-217\n",
      "Time:                        15:53:51   Log-Likelihood:                -689.65\n",
      "No. Observations:                 795   AIC:                             1539.\n",
      "Df Residuals:                     715   BIC:                             1914.\n",
      "Df Model:                          79                                         \n",
      "Covariance Type:            nonrobust                                         \n",
      "======================================================================================================\n",
      "                                         coef    std err          t      P>|t|      [0.025      0.975]\n",
      "------------------------------------------------------------------------------------------------------\n",
      "Intercept                              9.7072      1.656      5.861      0.000       6.456      12.959\n",
      "C(item_code)[T.000000001000007448]    -2.2611      0.484     -4.671      0.000      -3.211      -1.311\n",
      "C(item_code)[T.000000001000008010]    -1.2992      0.289     -4.492      0.000      -1.867      -0.731\n",
      "C(item_code)[T.000000001000008546]    -1.7610      0.357     -4.927      0.000      -2.463      -1.059\n",
      "C(item_code)[T.000000001000008699]    -0.6021      0.270     -2.228      0.026      -1.133      -0.072\n",
      "C(item_code)[T.000000001000008754]     0.3435      0.210      1.634      0.103      -0.069       0.756\n",
      "C(item_code)[T.000000001000008813]    -0.2318      0.207     -1.122      0.262      -0.637       0.174\n",
      "C(item_code)[T.000000001000008872]    -1.3717      0.342     -4.010      0.000      -2.043      -0.700\n",
      "C(item_code)[T.000000001000015484]     0.2571      0.250      1.027      0.305      -0.234       0.749\n",
      "C(item_code)[T.000000001000015488]    -0.1599      0.226     -0.708      0.479      -0.603       0.283\n",
      "C(item_code)[T.000000001000015496]    -0.2864      0.225     -1.273      0.203      -0.728       0.155\n",
      "C(item_code)[T.000000001000015723]    -1.1979      0.303     -3.948      0.000      -1.794      -0.602\n",
      "C(item_code)[T.000000001000015756]    -2.4512      0.459     -5.345      0.000      -3.352      -1.551\n",
      "C(item_code)[T.000000001000015958]    -2.1440      0.478     -4.482      0.000      -3.083      -1.205\n",
      "C(item_code)[T.000000001000015959]    -2.0410      0.478     -4.274      0.000      -2.979      -1.103\n",
      "C(item_code)[T.000000001000015962]    -2.6594      0.495     -5.378      0.000      -3.630      -1.689\n",
      "C(item_code)[T.000000001000016019]    -2.2993      0.510     -4.507      0.000      -3.301      -1.298\n",
      "C(item_code)[T.000000001000016020]    -2.4364      0.510     -4.773      0.000      -3.439      -1.434\n",
      "C(item_code)[T.000000001000016021]    -2.1709      0.510     -4.255      0.000      -3.173      -1.169\n",
      "C(item_code)[T.000000001000016022]    -2.4384      0.517     -4.716      0.000      -3.454      -1.423\n",
      "C(item_code)[T.000000001000016101]    -2.3116      0.480     -4.817      0.000      -3.254      -1.369\n",
      "C(item_code)[T.000000001000016115]    -2.6249      0.513     -5.117      0.000      -3.632      -1.618\n",
      "C(item_code)[T.000000001000016133]    -2.2465      0.511     -4.396      0.000      -3.250      -1.243\n",
      "C(item_code)[T.000000001000016135]    -1.2124      0.300     -4.037      0.000      -1.802      -0.623\n",
      "C(item_code)[T.000000001000016139]    -2.0822      0.418     -4.985      0.000      -2.902      -1.262\n",
      "C(item_code)[T.000000001000021533]     0.1434      0.242      0.593      0.554      -0.332       0.618\n",
      "C(item_code)[T.000000001000021534]    -0.1879      0.230     -0.818      0.414      -0.639       0.263\n",
      "C(item_code)[T.000000001000021539]     1.2075      0.240      5.032      0.000       0.736       1.679\n",
      "C(item_code)[T.000000001000021540]     1.2820      0.247      5.180      0.000       0.796       1.768\n",
      "C(item_code)[T.000000001000021541]     0.6669      0.236      2.830      0.005       0.204       1.130\n",
      "C(item_code)[T.000000001000021542]     0.9343      0.236      3.955      0.000       0.471       1.398\n",
      "C(item_code)[T.000000001000021698]    -1.5189      0.304     -5.000      0.000      -2.115      -0.923\n",
      "C(item_code)[T.000000001000021703]    -0.2130      0.214     -0.994      0.320      -0.633       0.207\n",
      "C(item_code)[T.000000001000021718]    -0.2833      0.245     -1.155      0.248      -0.765       0.198\n",
      "C(item_code)[T.000000001000021719]    -0.9615      0.249     -3.858      0.000      -1.451      -0.472\n",
      "C(item_code)[T.000000001000021829]    -0.3224      0.209     -1.540      0.124      -0.733       0.089\n",
      "C(item_code)[T.000000001000021833]     0.5214      0.225      2.319      0.021       0.080       0.963\n",
      "C(item_code)[T.000000001000021845]     0.6115      0.234      2.614      0.009       0.152       1.071\n",
      "C(item_code)[T.000000001000022573]    -1.4531      0.526     -2.763      0.006      -2.486      -0.421\n",
      "C(item_code)[T.000000001000022586]    -1.3347      0.485     -2.754      0.006      -2.286      -0.383\n",
      "C(item_code)[T.000000001000022708]    -3.1323      0.668     -4.692      0.000      -4.443      -1.822\n",
      "C(item_code)[T.000000001000027371]     0.0495      0.226      0.220      0.826      -0.393       0.492\n",
      "C(item_code)[T.000000001000032622]    -1.8272      0.385     -4.740      0.000      -2.584      -1.070\n",
      "C(item_code)[T.000000001000032623]    -2.3724      0.384     -6.175      0.000      -3.127      -1.618\n",
      "C(item_code)[T.000000001000039246]    -0.6525      0.276     -2.366      0.018      -1.194      -0.111\n",
      "C(item_code)[T.000000001000051675]    -1.5328      0.291     -5.273      0.000      -2.104      -0.962\n",
      "C(item_code)[T.000000001000054946]     0.5617      0.226      2.480      0.013       0.117       1.006\n",
      "C(item_code)[T.000000001000054947]     0.7670      0.214      3.590      0.000       0.348       1.186\n",
      "C(item_code)[T.000000001000054983]     0.3727      0.215      1.729      0.084      -0.050       0.796\n",
      "C(item_code)[T.000000001000054984]     0.3365      0.210      1.603      0.109      -0.076       0.748\n",
      "C(item_code)[T.000000001000054995]     0.1696      0.212      0.801      0.423      -0.246       0.585\n",
      "C(item_code)[T.000000001000054998]     0.2839      0.212      1.337      0.182      -0.133       0.701\n",
      "C(item_code)[T.000000001000055017]     0.3635      0.209      1.736      0.083      -0.048       0.775\n",
      "C(item_code)[T.000000001000055018]     0.3929      0.212      1.856      0.064      -0.023       0.809\n",
      "C(item_code)[T.000000001000056742]    -0.8532      0.222     -3.850      0.000      -1.288      -0.418\n",
      "C(item_code)[T.000000001000062031]     1.0238      0.276      3.713      0.000       0.482       1.565\n",
      "C(item_code)[T.000000001000062032]     1.6181      0.299      5.403      0.000       1.030       2.206\n",
      "C(item_code)[T.000000001000062037]     1.5294      0.317      4.824      0.000       0.907       2.152\n",
      "C(item_code)[T.000000001000062061]     1.7674      0.289      6.124      0.000       1.201       2.334\n",
      "C(item_code)[T.000000001000064533]    -0.6843      0.206     -3.328      0.001      -1.088      -0.281\n",
      "C(item_code)[T.000000001000065733]    -1.2280      0.262     -4.685      0.000      -1.743      -0.713\n",
      "C(item_code)[T.000000001000073170]    -1.3351      0.259     -5.148      0.000      -1.844      -0.826\n",
      "C(item_code)[T.000000001000073207]    -1.4455      0.260     -5.562      0.000      -1.956      -0.935\n",
      "C(item_code)[T.000000001000076757]    -0.7088      0.250     -2.837      0.005      -1.199      -0.218\n",
      "C(item_code)[T.000000001000086500]    -1.8683      0.287     -6.514      0.000      -2.431      -1.305\n",
      "C(item_code)[T.000000001000091265]     0.6962      0.235      2.962      0.003       0.235       1.158\n",
      "C(item_code)[T.000000001000091266]     0.3433      0.222      1.549      0.122      -0.092       0.778\n",
      "C(item_code)[T.000000001000097071]    -0.0933      0.225     -0.414      0.679      -0.535       0.349\n",
      "C(item_code)[T.000000001000113432]     0.1319      0.202      0.652      0.514      -0.265       0.529\n",
      "C(item_code)[T.000000001000117185]    -1.3704      0.239     -5.735      0.000      -1.840      -0.901\n",
      "C(item_code)[T.000000001000117189]    -0.6208      0.211     -2.939      0.003      -1.036      -0.206\n",
      "C(item_code)[T.000000001000117276]    -2.5236      0.496     -5.089      0.000      -3.497      -1.550\n",
      "C(item_code)[T.000000001000121274]    -0.2364      0.210     -1.127      0.260      -0.648       0.175\n",
      "C(item_code)[T.000000001000123214]    -1.7893      0.439     -4.077      0.000      -2.651      -0.928\n",
      "C(item_code)[T.000000001000126041]    -1.6811      0.283     -5.940      0.000      -2.237      -1.125\n",
      "C(item_code)[T.000000001000127680]    -0.5401      0.283     -1.910      0.056      -1.095       0.015\n",
      "C(item_code)[T.000000001000131689]    -0.7885      0.213     -3.703      0.000      -1.207      -0.370\n",
      "C(item_code)[T.000000001000172911]    -1.0065      0.231     -4.363      0.000      -1.459      -0.554\n",
      "log_price                             -2.2324      0.247     -9.048      0.000      -2.717      -1.748\n",
      "log_delivery_weeks                     0.1451      0.012     11.867      0.000       0.121       0.169\n",
      "==============================================================================\n",
      "Omnibus:                      315.558   Durbin-Watson:                   1.755\n",
      "Prob(Omnibus):                  0.000   Jarque-Bera (JB):             2683.439\n",
      "Skew:                          -1.562   Prob(JB):                         0.00\n",
      "Kurtosis:                      11.441   Cond. No.                     1.03e+03\n",
      "==============================================================================\n",
      "\n",
      "Notes:\n",
      "[1] Standard Errors assume that the covariance matrix of the errors is correctly specified.\n",
      "[2] The condition number is large, 1.03e+03. This might indicate that there are\n",
      "strong multicollinearity or other numerical problems.\n"
     ]
    }
   ],
   "source": [
    "wls_high_stat = smf.wls(\"log_conv_rate ~ log_price + log_delivery_weeks + C(item_code)\", df_filt, weights=df_filt['bin']).fit()\n",
    "print(wls_high_stat.summary())\n"
   ]
  },
  {
   "cell_type": "code",
   "execution_count": 22,
   "metadata": {
    "pycharm": {
     "name": "#%%\n"
    }
   },
   "outputs": [
    {
     "name": "stdout",
     "output_type": "stream",
     "text": [
      "                            WLS Regression Results                            \n",
      "==============================================================================\n",
      "Dep. Variable:          log_conv_rate   R-squared:                       0.787\n",
      "Model:                            WLS   Adj. R-squared:                  0.764\n",
      "Method:                 Least Squares   F-statistic:                     33.53\n",
      "Date:                Tue, 05 Jan 2021   Prob (F-statistic):          1.91e-191\n",
      "Time:                        15:53:51   Log-Likelihood:                -758.67\n",
      "No. Observations:                 795   AIC:                             1677.\n",
      "Df Residuals:                     715   BIC:                             2052.\n",
      "Df Model:                          79                                         \n",
      "Covariance Type:            nonrobust                                         \n",
      "======================================================================================================\n",
      "                                         coef    std err          t      P>|t|      [0.025      0.975]\n",
      "------------------------------------------------------------------------------------------------------\n",
      "Intercept                             11.4728      1.807      6.348      0.000       7.924      15.021\n",
      "C(item_code)[T.000000001000007448]    -2.6116      0.529     -4.934      0.000      -3.651      -1.572\n",
      "C(item_code)[T.000000001000008010]    -1.3686      0.316     -4.325      0.000      -1.990      -0.747\n",
      "C(item_code)[T.000000001000008546]    -1.9863      0.389     -5.101      0.000      -2.751      -1.222\n",
      "C(item_code)[T.000000001000008699]    -0.5201      0.295     -1.765      0.078      -1.099       0.059\n",
      "C(item_code)[T.000000001000008754]     0.5483      0.228      2.400      0.017       0.100       0.997\n",
      "C(item_code)[T.000000001000008813]     0.0549      0.224      0.245      0.807      -0.385       0.495\n",
      "C(item_code)[T.000000001000008872]    -1.5540      0.374     -4.155      0.000      -2.288      -0.820\n",
      "C(item_code)[T.000000001000015484]     0.6040      0.271      2.225      0.026       0.071       1.137\n",
      "C(item_code)[T.000000001000015488]     0.2069      0.245      0.845      0.398      -0.274       0.687\n",
      "C(item_code)[T.000000001000015496]    -0.0196      0.244     -0.080      0.936      -0.499       0.460\n",
      "C(item_code)[T.000000001000015723]    -1.1550      0.331     -3.489      0.001      -1.805      -0.505\n",
      "C(item_code)[T.000000001000015756]    -2.7852      0.502     -5.552      0.000      -3.770      -1.800\n",
      "C(item_code)[T.000000001000015958]    -2.4815      0.523     -4.745      0.000      -3.508      -1.455\n",
      "C(item_code)[T.000000001000015959]    -2.3870      0.522     -4.571      0.000      -3.412      -1.362\n",
      "C(item_code)[T.000000001000015962]    -3.0384      0.541     -5.618      0.000      -4.100      -1.977\n",
      "C(item_code)[T.000000001000016019]    -2.6831      0.558     -4.811      0.000      -3.778      -1.588\n",
      "C(item_code)[T.000000001000016020]    -2.8341      0.558     -5.077      0.000      -3.930      -1.738\n",
      "C(item_code)[T.000000001000016021]    -2.5657      0.558     -4.599      0.000      -3.661      -1.470\n",
      "C(item_code)[T.000000001000016022]    -2.8221      0.565     -4.993      0.000      -3.932      -1.712\n",
      "C(item_code)[T.000000001000016101]    -2.6676      0.525     -5.083      0.000      -3.698      -1.637\n",
      "C(item_code)[T.000000001000016115]    -3.0257      0.560     -5.400      0.000      -4.126      -1.926\n",
      "C(item_code)[T.000000001000016133]    -2.6008      0.558     -4.658      0.000      -3.697      -1.505\n",
      "C(item_code)[T.000000001000016135]    -1.1794      0.328     -3.599      0.000      -1.823      -0.536\n",
      "C(item_code)[T.000000001000016139]    -2.3642      0.457     -5.173      0.000      -3.262      -1.467\n",
      "C(item_code)[T.000000001000021533]     0.4995      0.262      1.905      0.057      -0.015       1.014\n",
      "C(item_code)[T.000000001000021534]     0.1633      0.249      0.656      0.512      -0.325       0.652\n",
      "C(item_code)[T.000000001000021539]     1.6235      0.259      6.258      0.000       1.114       2.133\n",
      "C(item_code)[T.000000001000021540]     1.6898      0.268      6.313      0.000       1.164       2.215\n",
      "C(item_code)[T.000000001000021541]     1.0730      0.255      4.212      0.000       0.573       1.573\n",
      "C(item_code)[T.000000001000021542]     1.3558      0.255      5.311      0.000       0.855       1.857\n",
      "C(item_code)[T.000000001000021698]    -0.9785      0.337     -2.907      0.004      -1.639      -0.318\n",
      "C(item_code)[T.000000001000021703]     0.0865      0.232      0.373      0.709      -0.369       0.542\n",
      "C(item_code)[T.000000001000021718]     0.0518      0.266      0.195      0.846      -0.471       0.575\n",
      "C(item_code)[T.000000001000021719]    -0.6634      0.271     -2.451      0.014      -1.195      -0.132\n",
      "C(item_code)[T.000000001000021829]    -0.1457      0.228     -0.640      0.523      -0.593       0.301\n",
      "C(item_code)[T.000000001000021833]     0.9097      0.243      3.739      0.000       0.432       1.387\n",
      "C(item_code)[T.000000001000021845]     0.9553      0.253      3.771      0.000       0.458       1.453\n",
      "C(item_code)[T.000000001000022573]    -1.7357      0.574     -3.022      0.003      -2.863      -0.608\n",
      "C(item_code)[T.000000001000022586]    -1.5625      0.529     -2.952      0.003      -2.602      -0.523\n",
      "C(item_code)[T.000000001000022708]    -3.7171      0.729     -5.096      0.000      -5.149      -2.285\n",
      "C(item_code)[T.000000001000027371]     0.3423      0.245      1.396      0.163      -0.139       0.824\n",
      "C(item_code)[T.000000001000032622]    -1.7757      0.420     -4.224      0.000      -2.601      -0.950\n",
      "C(item_code)[T.000000001000032623]    -2.2212      0.419     -5.299      0.000      -3.044      -1.398\n",
      "C(item_code)[T.000000001000039246]    -0.5056      0.301     -1.682      0.093      -1.096       0.085\n",
      "C(item_code)[T.000000001000051675]    -1.7661      0.317     -5.576      0.000      -2.388      -1.144\n",
      "C(item_code)[T.000000001000054946]     0.9914      0.246      4.034      0.000       0.509       1.474\n",
      "C(item_code)[T.000000001000054947]     1.1431      0.231      4.950      0.000       0.690       1.596\n",
      "C(item_code)[T.000000001000054983]     0.6439      0.234      2.754      0.006       0.185       1.103\n",
      "C(item_code)[T.000000001000054984]     0.6361      0.228      2.793      0.005       0.189       1.083\n",
      "C(item_code)[T.000000001000054995]     0.4619      0.230      2.012      0.045       0.011       0.913\n",
      "C(item_code)[T.000000001000054998]     0.5660      0.230      2.458      0.014       0.114       1.018\n",
      "C(item_code)[T.000000001000055017]     0.6631      0.227      2.918      0.004       0.217       1.109\n",
      "C(item_code)[T.000000001000055018]     0.7028      0.230      3.058      0.002       0.252       1.154\n",
      "C(item_code)[T.000000001000056742]    -0.5923      0.241     -2.459      0.014      -1.065      -0.119\n",
      "C(item_code)[T.000000001000062031]     1.5200      0.298      5.097      0.000       0.934       2.105\n",
      "C(item_code)[T.000000001000062032]     2.1382      0.324      6.593      0.000       1.501       2.775\n",
      "C(item_code)[T.000000001000062037]     2.1034      0.344      6.120      0.000       1.429       2.778\n",
      "C(item_code)[T.000000001000062061]     2.3308      0.313      7.450      0.000       1.717       2.945\n",
      "C(item_code)[T.000000001000064533]    -0.7723      0.224     -3.444      0.001      -1.213      -0.332\n",
      "C(item_code)[T.000000001000065733]    -1.8892      0.281     -6.725      0.000      -2.441      -1.338\n",
      "C(item_code)[T.000000001000073170]    -1.2070      0.283     -4.270      0.000      -1.762      -0.652\n",
      "C(item_code)[T.000000001000073207]    -1.3046      0.283     -4.608      0.000      -1.861      -0.749\n",
      "C(item_code)[T.000000001000076757]    -0.6064      0.272     -2.226      0.026      -1.141      -0.072\n",
      "C(item_code)[T.000000001000086500]    -1.8337      0.313     -5.856      0.000      -2.448      -1.219\n",
      "C(item_code)[T.000000001000091265]     0.6616      0.257      2.570      0.010       0.156       1.167\n",
      "C(item_code)[T.000000001000091266]     0.3843      0.243      1.585      0.114      -0.092       0.860\n",
      "C(item_code)[T.000000001000097071]     0.1139      0.245      0.465      0.642      -0.367       0.595\n",
      "C(item_code)[T.000000001000113432]     0.4172      0.219      1.905      0.057      -0.013       0.847\n",
      "C(item_code)[T.000000001000117185]    -1.1904      0.260     -4.574      0.000      -1.701      -0.679\n",
      "C(item_code)[T.000000001000117189]    -0.4222      0.230     -1.838      0.066      -0.873       0.029\n",
      "C(item_code)[T.000000001000117276]    -2.8926      0.542     -5.334      0.000      -3.957      -1.828\n",
      "C(item_code)[T.000000001000121274]    -0.0713      0.228     -0.312      0.755      -0.519       0.377\n",
      "C(item_code)[T.000000001000123214]    -2.0883      0.480     -4.350      0.000      -3.031      -1.146\n",
      "C(item_code)[T.000000001000126041]    -0.9876      0.330     -2.991      0.003      -1.636      -0.339\n",
      "C(item_code)[T.000000001000127680]     0.2349      0.319      0.735      0.462      -0.392       0.862\n",
      "C(item_code)[T.000000001000131689]    -0.5552      0.232     -2.397      0.017      -1.010      -0.101\n",
      "C(item_code)[T.000000001000172911]    -1.1367      0.252     -4.514      0.000      -1.631      -0.642\n",
      "log_price                             -2.5122      0.269     -9.348      0.000      -3.040      -1.985\n",
      "delivery_weeks                        -0.0316      0.015     -2.101      0.036      -0.061      -0.002\n",
      "==============================================================================\n",
      "Omnibus:                      587.838   Durbin-Watson:                   1.722\n",
      "Prob(Omnibus):                  0.000   Jarque-Bera (JB):            13268.259\n",
      "Skew:                          -3.096   Prob(JB):                         0.00\n",
      "Kurtosis:                      22.032   Cond. No.                     1.09e+03\n",
      "==============================================================================\n",
      "\n",
      "Notes:\n",
      "[1] Standard Errors assume that the covariance matrix of the errors is correctly specified.\n",
      "[2] The condition number is large, 1.09e+03. This might indicate that there are\n",
      "strong multicollinearity or other numerical problems.\n"
     ]
    }
   ],
   "source": [
    "wls_high_stat_del = smf.wls(\"log_conv_rate ~ log_price + delivery_weeks + C(item_code)\", df_filt, weights=df_filt['bin']).fit()\n",
    "print(wls_high_stat_del.summary())\n",
    "\n"
   ]
  },
  {
   "cell_type": "code",
   "execution_count": 23,
   "metadata": {
    "pycharm": {
     "name": "#%%\n"
    }
   },
   "outputs": [],
   "source": [
    "#wls_model_with_fe = smf.wls(\"log_sales ~ log_price + log_delivery_weeks + log_avg_unique_views + C(item_code)\", df, weights=df['bin']).fit()\n",
    "#print(wls_model_with_fe.summary())\n"
   ]
  },
  {
   "cell_type": "code",
   "execution_count": 24,
   "metadata": {
    "pycharm": {
     "name": "#%%\n"
    }
   },
   "outputs": [],
   "source": [
    "#wls_model_with_fe_all_in = smf.wls(\"log_sales ~ log_price + log_delivery_weeks + log_avg_unique_views + log_conv_rate +  C(item_code)\", df, weights=df['bin']).fit()\n",
    "#print(wls_model_with_fe_all_in.summary())\n",
    "\n"
   ]
  },
  {
   "cell_type": "code",
   "execution_count": 25,
   "metadata": {
    "pycharm": {
     "name": "#%%\n"
    }
   },
   "outputs": [
    {
     "name": "stdout",
     "output_type": "stream",
     "text": [
      "                            WLS Regression Results                            \n",
      "==============================================================================\n",
      "Dep. Variable:          log_conv_rate   R-squared:                       0.631\n",
      "Model:                            WLS   Adj. R-squared:                  0.623\n",
      "Method:                 Least Squares   F-statistic:                     82.56\n",
      "Date:                Tue, 05 Jan 2021   Prob (F-statistic):               0.00\n",
      "Time:                        15:53:51   Log-Likelihood:                -6828.7\n",
      "No. Observations:                4592   AIC:                         1.385e+04\n",
      "Df Residuals:                    4498   BIC:                         1.445e+04\n",
      "Df Model:                          93                                         \n",
      "Covariance Type:            nonrobust                                         \n",
      "======================================================================================================\n",
      "                                         coef    std err          t      P>|t|      [0.025      0.975]\n",
      "------------------------------------------------------------------------------------------------------\n",
      "Intercept                              9.3644      1.096      8.543      0.000       7.215      11.513\n",
      "C(item_code)[T.000000001000007448]    -2.1376      0.325     -6.572      0.000      -2.775      -1.500\n",
      "C(item_code)[T.000000001000008010]    -1.1706      0.201     -5.812      0.000      -1.565      -0.776\n",
      "C(item_code)[T.000000001000008546]    -1.5956      0.235     -6.791      0.000      -2.056      -1.135\n",
      "C(item_code)[T.000000001000008699]    -0.5215      0.185     -2.823      0.005      -0.884      -0.159\n",
      "C(item_code)[T.000000001000008736]     0.3243      0.148      2.197      0.028       0.035       0.614\n",
      "C(item_code)[T.000000001000008754]     0.4466      0.148      3.012      0.003       0.156       0.737\n",
      "C(item_code)[T.000000001000008771]     0.3572      0.144      2.486      0.013       0.076       0.639\n",
      "C(item_code)[T.000000001000008798]    -1.1872      0.148     -8.040      0.000      -1.477      -0.898\n",
      "C(item_code)[T.000000001000008809]     0.2904      0.151      1.920      0.055      -0.006       0.587\n",
      "C(item_code)[T.000000001000008813]    -0.1910      0.144     -1.326      0.185      -0.473       0.091\n",
      "C(item_code)[T.000000001000008846]     0.4527      0.148      3.061      0.002       0.163       0.743\n",
      "C(item_code)[T.000000001000008872]    -1.3008      0.230     -5.660      0.000      -1.751      -0.850\n",
      "C(item_code)[T.000000001000012497]     0.0005      0.148      0.003      0.997      -0.289       0.290\n",
      "C(item_code)[T.000000001000015484]     0.3394      0.146      2.319      0.020       0.052       0.626\n",
      "C(item_code)[T.000000001000015488]     0.0679      0.146      0.465      0.642      -0.218       0.354\n",
      "C(item_code)[T.000000001000015496]    -0.2445      0.146     -1.674      0.094      -0.531       0.042\n",
      "C(item_code)[T.000000001000015723]    -1.0695      0.206     -5.184      0.000      -1.474      -0.665\n",
      "C(item_code)[T.000000001000015756]    -2.2882      0.310     -7.383      0.000      -2.896      -1.681\n",
      "C(item_code)[T.000000001000015958]    -1.9965      0.322     -6.198      0.000      -2.628      -1.365\n",
      "C(item_code)[T.000000001000015959]    -1.9141      0.322     -5.940      0.000      -2.546      -1.282\n",
      "C(item_code)[T.000000001000015962]    -2.4861      0.334     -7.453      0.000      -3.140      -1.832\n",
      "C(item_code)[T.000000001000016019]    -2.1460      0.343     -6.249      0.000      -2.819      -1.473\n",
      "C(item_code)[T.000000001000016020]    -2.2835      0.343     -6.649      0.000      -2.957      -1.610\n",
      "C(item_code)[T.000000001000016021]    -2.0206      0.343     -5.884      0.000      -2.694      -1.347\n",
      "C(item_code)[T.000000001000016022]    -2.2963      0.345     -6.650      0.000      -2.973      -1.619\n",
      "C(item_code)[T.000000001000016101]    -2.1481      0.324     -6.627      0.000      -2.784      -1.513\n",
      "C(item_code)[T.000000001000016115]    -2.3554      0.333     -7.066      0.000      -3.009      -1.702\n",
      "C(item_code)[T.000000001000016133]    -2.0839      0.343     -6.070      0.000      -2.757      -1.411\n",
      "C(item_code)[T.000000001000016135]    -1.0792      0.206     -5.230      0.000      -1.484      -0.675\n",
      "C(item_code)[T.000000001000016139]    -1.9535      0.284     -6.888      0.000      -2.510      -1.398\n",
      "C(item_code)[T.000000001000021533]     0.0970      0.146      0.662      0.508      -0.190       0.384\n",
      "C(item_code)[T.000000001000021534]    -0.1976      0.146     -1.354      0.176      -0.484       0.088\n",
      "C(item_code)[T.000000001000021539]     1.3264      0.165      8.030      0.000       1.003       1.650\n",
      "C(item_code)[T.000000001000021540]     1.3028      0.164      7.924      0.000       0.980       1.625\n",
      "C(item_code)[T.000000001000021541]     0.7545      0.164      4.608      0.000       0.434       1.076\n",
      "C(item_code)[T.000000001000021542]     1.0346      0.163      6.338      0.000       0.715       1.355\n",
      "C(item_code)[T.000000001000021698]    -1.5803      0.145    -10.921      0.000      -1.864      -1.297\n",
      "C(item_code)[T.000000001000021703]    -0.1413      0.144     -0.982      0.326      -0.423       0.141\n",
      "C(item_code)[T.000000001000021718]    -0.2904      0.144     -2.014      0.044      -0.573      -0.008\n",
      "C(item_code)[T.000000001000021719]    -0.9642      0.144     -6.702      0.000      -1.246      -0.682\n",
      "C(item_code)[T.000000001000021829]    -0.2217      0.145     -1.527      0.127      -0.506       0.063\n",
      "C(item_code)[T.000000001000021833]     0.6607      0.152      4.346      0.000       0.363       0.959\n",
      "C(item_code)[T.000000001000021845]     0.5959      0.150      3.982      0.000       0.303       0.889\n",
      "C(item_code)[T.000000001000021904]    -2.0709      0.268     -7.719      0.000      -2.597      -1.545\n",
      "C(item_code)[T.000000001000022573]    -1.2598      0.352     -3.575      0.000      -1.951      -0.569\n",
      "C(item_code)[T.000000001000022586]    -1.1522      0.322     -3.573      0.000      -1.784      -0.520\n",
      "C(item_code)[T.000000001000022708]    -3.0308      0.447     -6.776      0.000      -3.908      -2.154\n",
      "C(item_code)[T.000000001000027371]     0.1844      0.154      1.196      0.232      -0.118       0.487\n",
      "C(item_code)[T.000000001000032236]     0.7014      0.148      4.735      0.000       0.411       0.992\n",
      "C(item_code)[T.000000001000032242]     0.3690      0.148      2.498      0.013       0.079       0.659\n",
      "C(item_code)[T.000000001000032622]    -1.7796      0.225     -7.905      0.000      -2.221      -1.338\n",
      "C(item_code)[T.000000001000032623]    -1.9874      0.218     -9.097      0.000      -2.416      -1.559\n",
      "C(item_code)[T.000000001000039246]    -0.6458      0.184     -3.519      0.000      -1.006      -0.286\n",
      "C(item_code)[T.000000001000051675]    -1.4142      0.194     -7.289      0.000      -1.795      -1.034\n",
      "C(item_code)[T.000000001000054946]     0.6439      0.151      4.270      0.000       0.348       0.939\n",
      "C(item_code)[T.000000001000054947]     0.9222      0.152      6.062      0.000       0.624       1.220\n",
      "C(item_code)[T.000000001000054983]     0.4763      0.144      3.298      0.001       0.193       0.760\n",
      "C(item_code)[T.000000001000054984]     0.5409      0.145      3.741      0.000       0.257       0.824\n",
      "C(item_code)[T.000000001000054995]     0.2689      0.145      1.860      0.063      -0.015       0.552\n",
      "C(item_code)[T.000000001000054998]     0.3706      0.144      2.567      0.010       0.088       0.654\n",
      "C(item_code)[T.000000001000055017]     0.5118      0.144      3.542      0.000       0.228       0.795\n",
      "C(item_code)[T.000000001000055018]     0.5580      0.144      3.864      0.000       0.275       0.841\n",
      "C(item_code)[T.000000001000056742]    -0.7601      0.150     -5.078      0.000      -1.054      -0.467\n",
      "C(item_code)[T.000000001000057499]    -0.8068      0.224     -3.597      0.000      -1.247      -0.367\n",
      "C(item_code)[T.000000001000062031]     1.1912      0.186      6.392      0.000       0.826       1.557\n",
      "C(item_code)[T.000000001000062032]     1.4991      0.187      8.034      0.000       1.133       1.865\n",
      "C(item_code)[T.000000001000062037]     1.6417      0.190      8.649      0.000       1.270       2.014\n",
      "C(item_code)[T.000000001000062061]     1.7190      0.193      8.920      0.000       1.341       2.097\n",
      "C(item_code)[T.000000001000064533]    -0.6082      0.147     -4.147      0.000      -0.896      -0.321\n",
      "C(item_code)[T.000000001000065733]    -1.3867      0.183     -7.569      0.000      -1.746      -1.028\n",
      "C(item_code)[T.000000001000073170]    -1.1939      0.172     -6.941      0.000      -1.531      -0.857\n",
      "C(item_code)[T.000000001000073207]    -1.2951      0.175     -7.395      0.000      -1.638      -0.952\n",
      "C(item_code)[T.000000001000076757]    -0.5599      0.174     -3.211      0.001      -0.902      -0.218\n",
      "C(item_code)[T.000000001000079668]    -2.6088      0.269     -9.689      0.000      -3.137      -2.081\n",
      "C(item_code)[T.000000001000086500]    -1.7040      0.200     -8.520      0.000      -2.096      -1.312\n",
      "C(item_code)[T.000000001000091265]     0.4797      0.165      2.906      0.004       0.156       0.803\n",
      "C(item_code)[T.000000001000091266]     0.4454      0.156      2.862      0.004       0.140       0.751\n",
      "C(item_code)[T.000000001000097071]     0.0201      0.153      0.132      0.895      -0.279       0.319\n",
      "C(item_code)[T.000000001000113432]     0.2786      0.144      1.933      0.053      -0.004       0.561\n",
      "C(item_code)[T.000000001000114123]    -0.0333      0.183     -0.182      0.856      -0.392       0.325\n",
      "C(item_code)[T.000000001000117185]    -1.4014      0.149     -9.391      0.000      -1.694      -1.109\n",
      "C(item_code)[T.000000001000117189]    -0.4688      0.150     -3.135      0.002      -0.762      -0.176\n",
      "C(item_code)[T.000000001000117276]    -2.4071      0.333     -7.224      0.000      -3.060      -1.754\n",
      "C(item_code)[T.000000001000121274]    -0.1378      0.147     -0.937      0.349      -0.426       0.151\n",
      "C(item_code)[T.000000001000123214]    -1.6312      0.295     -5.526      0.000      -2.210      -1.052\n",
      "C(item_code)[T.000000001000123640]    -0.5765      0.145     -3.982      0.000      -0.860      -0.293\n",
      "C(item_code)[T.000000001000126041]    -1.4413      0.158     -9.148      0.000      -1.750      -1.132\n",
      "C(item_code)[T.000000001000127680]    -0.0940      0.173     -0.544      0.586      -0.433       0.245\n",
      "C(item_code)[T.000000001000128696]     0.1076      0.144      0.746      0.456      -0.175       0.391\n",
      "C(item_code)[T.000000001000131689]    -0.8836      0.144     -6.153      0.000      -1.165      -0.602\n",
      "C(item_code)[T.000000001000172911]    -0.9335      0.164     -5.699      0.000      -1.255      -0.612\n",
      "log_price                             -2.1981      0.163    -13.470      0.000      -2.518      -1.878\n",
      "log_delivery_weeks                     0.1030      0.007     14.496      0.000       0.089       0.117\n",
      "==============================================================================\n",
      "Omnibus:                     2043.329   Durbin-Watson:                   1.872\n",
      "Prob(Omnibus):                  0.000   Jarque-Bera (JB):            17233.626\n",
      "Skew:                          -1.921   Prob(JB):                         0.00\n",
      "Kurtosis:                      11.678   Cond. No.                     1.16e+03\n",
      "==============================================================================\n",
      "\n",
      "Notes:\n",
      "[1] Standard Errors assume that the covariance matrix of the errors is correctly specified.\n",
      "[2] The condition number is large, 1.16e+03. This might indicate that there are\n",
      "strong multicollinearity or other numerical problems.\n"
     ]
    }
   ],
   "source": [
    "#WLS CV rate vs the rest\n",
    "wls_cr_with_fe = smf.wls(\"log_conv_rate ~ log_price + log_delivery_weeks + C(item_code)\", df, weights=df['bin']).fit()\n",
    "print(wls_cr_with_fe.summary())\n"
   ]
  },
  {
   "cell_type": "code",
   "execution_count": 26,
   "metadata": {
    "pycharm": {
     "name": "#%%\n"
    }
   },
   "outputs": [],
   "source": [
    "def run_model(item_code, df):\n",
    "    print(f'Running model for the item_code {item_code}')\n",
    "    wls_cr_with_fe = smf.wls(\"conv_rate ~ log_price + log_delivery_weeks + C(item_code)\", df, weights=df['bin']).fit()\n",
    "    print(wls_cr_with_fe.summary())\n",
    "    beta_log_price, beta_std_err_log_price = wls_cr_with_fe.params[-2].round(4),wls_cr_with_fe.bse[-2].round(4)\n",
    "    beta_log_del, beta_std_err_log_del = wls_cr_with_fe.params[-1].round(4),wls_cr_with_fe.bse[-1].round(4)\n",
    "    Result_log_price = 'Log_price  = ' + str(beta_log_price) + ' ± ' + str(beta_std_err_log_price)\n",
    "    Result_log_del = 'Log_del_week = ' + str(beta_log_del) + ' ± ' + str(beta_std_err_log_del)\n",
    "\n"
   ]
  },
  {
   "cell_type": "code",
   "execution_count": 27,
   "metadata": {
    "pycharm": {
     "name": "#%%\n"
    }
   },
   "outputs": [
    {
     "data": {
      "text/plain": "        min_date    max_date           item_code  item_price  delivery_weeks  \\\n0     2020-01-01  2020-01-07  000000001000054998      749.99               2   \n1     2020-01-01  2020-01-22  000000001000091265      599.99               1   \n2     2020-01-01  2020-01-02  000000001000021540     1449.99               2   \n3     2020-01-01  2020-01-07  000000001000054984      749.99               2   \n4     2020-01-01  2020-01-07  000000001000054946     1099.99               2   \n...          ...         ...                 ...         ...             ...   \n4040  2020-11-10  2020-11-10  000000001000008546      249.99               2   \n4041  2020-11-10  2020-11-10  000000001000062032     1549.99               3   \n4043  2020-11-10  2020-11-10  000000001000062061     1649.99               7   \n4045  2020-11-10  2020-11-10  000000001000021703      749.99               5   \n4046  2020-11-10  2020-11-10  000000001000121274      649.99               3   \n\n      avg_sales  avg_unique_views  conv_rate  bin item_parent_item_code  \\\n0      1.428571         72.857143   0.019608    7    000000008000006211   \n1      1.818182         61.818182   0.029412   22    000000008000009860   \n2      1.500000        323.500000   0.004637    2    000000008000001826   \n3      2.142857        152.142857   0.014085    7    000000008000006211   \n4      3.000000        275.000000   0.010909    7    000000008000006213   \n...         ...               ...        ...  ...                   ...   \n4040  13.000000        429.000000   0.030303    1  000000001000008546-P   \n4041   3.000000        240.000000   0.012500    1    000000008000006759   \n4043   2.000000        185.000000   0.010811    1    000000008000006759   \n4045   8.000000        269.000000   0.029740    1    000000008000001862   \n4046   5.000000        428.000000   0.011682    1  000000001000121274-P   \n\n         item_main_category item_sub_category_1   item_sub_category_2  \\\n0                   POLSTER            ECKSOFAS             LONGCHAIR   \n1     MATRATZEN&LATTENROSTE           MATRATZEN   KALTSCHAUMMATRATZEN   \n2                   POLSTER    WOHNLANDSCHAFTEN      WOHNLANDSCHAFTEN   \n3                   POLSTER            ECKSOFAS             LONGCHAIR   \n4                   POLSTER    WOHNLANDSCHAFTEN      WOHNLANDSCHAFTEN   \n...                     ...                 ...                   ...   \n4040                   BÜRO       SCHREIBTISCHE  GERADE SCHREIBTISCHE   \n4041                 BETTEN     BOXSPRINGBETTEN       BOXSPRINGBETTEN   \n4043                 BETTEN     BOXSPRINGBETTEN       BOXSPRINGBETTEN   \n4045                POLSTER            ECKSOFAS              OTTOMANE   \n4046        ESSZIMMERTISCHE           ESSTISCHE             KLASSISCH   \n\n      log_price  log_delivery_weeks  log_sales  log_avg_unique_views  \\\n0      6.620060            0.693197   0.356745              4.288502   \n1      6.396913            0.000100   0.597892              4.124199   \n2      7.279312            0.693197   0.405532              5.779199   \n3      6.620060            0.693197   0.762187              5.024821   \n4      7.003056            0.693197   1.098646              5.616771   \n...         ...                 ...        ...                   ...   \n4040   5.521421            0.693197   2.564957              6.061457   \n4041   7.346004            1.098646   1.098646              5.480639   \n4043   7.408525            1.945924   0.693197              5.220356   \n4045   6.620060            1.609458   2.079454              5.594712   \n4046   6.476957            1.098646   1.609458              6.059123   \n\n      log_conv_rate  \n0         -3.926739  \n1         -3.522966  \n2         -5.352397  \n3         -4.255605  \n4         -4.509034  \n...             ...  \n4040      -3.493213  \n4041      -4.374058  \n4043      -4.518001  \n4045      -3.511913  \n4046      -4.441162  \n\n[3976 rows x 18 columns]",
      "text/html": "<div>\n<style scoped>\n    .dataframe tbody tr th:only-of-type {\n        vertical-align: middle;\n    }\n\n    .dataframe tbody tr th {\n        vertical-align: top;\n    }\n\n    .dataframe thead th {\n        text-align: right;\n    }\n</style>\n<table border=\"1\" class=\"dataframe\">\n  <thead>\n    <tr style=\"text-align: right;\">\n      <th></th>\n      <th>min_date</th>\n      <th>max_date</th>\n      <th>item_code</th>\n      <th>item_price</th>\n      <th>delivery_weeks</th>\n      <th>avg_sales</th>\n      <th>avg_unique_views</th>\n      <th>conv_rate</th>\n      <th>bin</th>\n      <th>item_parent_item_code</th>\n      <th>item_main_category</th>\n      <th>item_sub_category_1</th>\n      <th>item_sub_category_2</th>\n      <th>log_price</th>\n      <th>log_delivery_weeks</th>\n      <th>log_sales</th>\n      <th>log_avg_unique_views</th>\n      <th>log_conv_rate</th>\n    </tr>\n  </thead>\n  <tbody>\n    <tr>\n      <th>0</th>\n      <td>2020-01-01</td>\n      <td>2020-01-07</td>\n      <td>000000001000054998</td>\n      <td>749.99</td>\n      <td>2</td>\n      <td>1.428571</td>\n      <td>72.857143</td>\n      <td>0.019608</td>\n      <td>7</td>\n      <td>000000008000006211</td>\n      <td>POLSTER</td>\n      <td>ECKSOFAS</td>\n      <td>LONGCHAIR</td>\n      <td>6.620060</td>\n      <td>0.693197</td>\n      <td>0.356745</td>\n      <td>4.288502</td>\n      <td>-3.926739</td>\n    </tr>\n    <tr>\n      <th>1</th>\n      <td>2020-01-01</td>\n      <td>2020-01-22</td>\n      <td>000000001000091265</td>\n      <td>599.99</td>\n      <td>1</td>\n      <td>1.818182</td>\n      <td>61.818182</td>\n      <td>0.029412</td>\n      <td>22</td>\n      <td>000000008000009860</td>\n      <td>MATRATZEN&amp;LATTENROSTE</td>\n      <td>MATRATZEN</td>\n      <td>KALTSCHAUMMATRATZEN</td>\n      <td>6.396913</td>\n      <td>0.000100</td>\n      <td>0.597892</td>\n      <td>4.124199</td>\n      <td>-3.522966</td>\n    </tr>\n    <tr>\n      <th>2</th>\n      <td>2020-01-01</td>\n      <td>2020-01-02</td>\n      <td>000000001000021540</td>\n      <td>1449.99</td>\n      <td>2</td>\n      <td>1.500000</td>\n      <td>323.500000</td>\n      <td>0.004637</td>\n      <td>2</td>\n      <td>000000008000001826</td>\n      <td>POLSTER</td>\n      <td>WOHNLANDSCHAFTEN</td>\n      <td>WOHNLANDSCHAFTEN</td>\n      <td>7.279312</td>\n      <td>0.693197</td>\n      <td>0.405532</td>\n      <td>5.779199</td>\n      <td>-5.352397</td>\n    </tr>\n    <tr>\n      <th>3</th>\n      <td>2020-01-01</td>\n      <td>2020-01-07</td>\n      <td>000000001000054984</td>\n      <td>749.99</td>\n      <td>2</td>\n      <td>2.142857</td>\n      <td>152.142857</td>\n      <td>0.014085</td>\n      <td>7</td>\n      <td>000000008000006211</td>\n      <td>POLSTER</td>\n      <td>ECKSOFAS</td>\n      <td>LONGCHAIR</td>\n      <td>6.620060</td>\n      <td>0.693197</td>\n      <td>0.762187</td>\n      <td>5.024821</td>\n      <td>-4.255605</td>\n    </tr>\n    <tr>\n      <th>4</th>\n      <td>2020-01-01</td>\n      <td>2020-01-07</td>\n      <td>000000001000054946</td>\n      <td>1099.99</td>\n      <td>2</td>\n      <td>3.000000</td>\n      <td>275.000000</td>\n      <td>0.010909</td>\n      <td>7</td>\n      <td>000000008000006213</td>\n      <td>POLSTER</td>\n      <td>WOHNLANDSCHAFTEN</td>\n      <td>WOHNLANDSCHAFTEN</td>\n      <td>7.003056</td>\n      <td>0.693197</td>\n      <td>1.098646</td>\n      <td>5.616771</td>\n      <td>-4.509034</td>\n    </tr>\n    <tr>\n      <th>...</th>\n      <td>...</td>\n      <td>...</td>\n      <td>...</td>\n      <td>...</td>\n      <td>...</td>\n      <td>...</td>\n      <td>...</td>\n      <td>...</td>\n      <td>...</td>\n      <td>...</td>\n      <td>...</td>\n      <td>...</td>\n      <td>...</td>\n      <td>...</td>\n      <td>...</td>\n      <td>...</td>\n      <td>...</td>\n      <td>...</td>\n    </tr>\n    <tr>\n      <th>4040</th>\n      <td>2020-11-10</td>\n      <td>2020-11-10</td>\n      <td>000000001000008546</td>\n      <td>249.99</td>\n      <td>2</td>\n      <td>13.000000</td>\n      <td>429.000000</td>\n      <td>0.030303</td>\n      <td>1</td>\n      <td>000000001000008546-P</td>\n      <td>BÜRO</td>\n      <td>SCHREIBTISCHE</td>\n      <td>GERADE SCHREIBTISCHE</td>\n      <td>5.521421</td>\n      <td>0.693197</td>\n      <td>2.564957</td>\n      <td>6.061457</td>\n      <td>-3.493213</td>\n    </tr>\n    <tr>\n      <th>4041</th>\n      <td>2020-11-10</td>\n      <td>2020-11-10</td>\n      <td>000000001000062032</td>\n      <td>1549.99</td>\n      <td>3</td>\n      <td>3.000000</td>\n      <td>240.000000</td>\n      <td>0.012500</td>\n      <td>1</td>\n      <td>000000008000006759</td>\n      <td>BETTEN</td>\n      <td>BOXSPRINGBETTEN</td>\n      <td>BOXSPRINGBETTEN</td>\n      <td>7.346004</td>\n      <td>1.098646</td>\n      <td>1.098646</td>\n      <td>5.480639</td>\n      <td>-4.374058</td>\n    </tr>\n    <tr>\n      <th>4043</th>\n      <td>2020-11-10</td>\n      <td>2020-11-10</td>\n      <td>000000001000062061</td>\n      <td>1649.99</td>\n      <td>7</td>\n      <td>2.000000</td>\n      <td>185.000000</td>\n      <td>0.010811</td>\n      <td>1</td>\n      <td>000000008000006759</td>\n      <td>BETTEN</td>\n      <td>BOXSPRINGBETTEN</td>\n      <td>BOXSPRINGBETTEN</td>\n      <td>7.408525</td>\n      <td>1.945924</td>\n      <td>0.693197</td>\n      <td>5.220356</td>\n      <td>-4.518001</td>\n    </tr>\n    <tr>\n      <th>4045</th>\n      <td>2020-11-10</td>\n      <td>2020-11-10</td>\n      <td>000000001000021703</td>\n      <td>749.99</td>\n      <td>5</td>\n      <td>8.000000</td>\n      <td>269.000000</td>\n      <td>0.029740</td>\n      <td>1</td>\n      <td>000000008000001862</td>\n      <td>POLSTER</td>\n      <td>ECKSOFAS</td>\n      <td>OTTOMANE</td>\n      <td>6.620060</td>\n      <td>1.609458</td>\n      <td>2.079454</td>\n      <td>5.594712</td>\n      <td>-3.511913</td>\n    </tr>\n    <tr>\n      <th>4046</th>\n      <td>2020-11-10</td>\n      <td>2020-11-10</td>\n      <td>000000001000121274</td>\n      <td>649.99</td>\n      <td>3</td>\n      <td>5.000000</td>\n      <td>428.000000</td>\n      <td>0.011682</td>\n      <td>1</td>\n      <td>000000001000121274-P</td>\n      <td>ESSZIMMERTISCHE</td>\n      <td>ESSTISCHE</td>\n      <td>KLASSISCH</td>\n      <td>6.476957</td>\n      <td>1.098646</td>\n      <td>1.609458</td>\n      <td>6.059123</td>\n      <td>-4.441162</td>\n    </tr>\n  </tbody>\n</table>\n<p>3976 rows × 18 columns</p>\n</div>"
     },
     "execution_count": 27,
     "metadata": {},
     "output_type": "execute_result"
    }
   ],
   "source": [
    "end_date = pd.to_datetime('2020-11-10').date()\n",
    "df_before_BF = df[df['max_date'] <= end_date]\n",
    "df_before_BF"
   ]
  },
  {
   "cell_type": "code",
   "execution_count": 28,
   "metadata": {
    "pycharm": {
     "name": "#%%\n"
    }
   },
   "outputs": [
    {
     "name": "stdout",
     "output_type": "stream",
     "text": [
      "                            WLS Regression Results                            \n",
      "==============================================================================\n",
      "Dep. Variable:          log_conv_rate   R-squared:                       0.641\n",
      "Model:                            WLS   Adj. R-squared:                  0.632\n",
      "Method:                 Least Squares   F-statistic:                     74.47\n",
      "Date:                Tue, 05 Jan 2021   Prob (F-statistic):               0.00\n",
      "Time:                        15:53:51   Log-Likelihood:                -5884.5\n",
      "No. Observations:                3976   AIC:                         1.196e+04\n",
      "Df Residuals:                    3882   BIC:                         1.255e+04\n",
      "Df Model:                          93                                         \n",
      "Covariance Type:            nonrobust                                         \n",
      "======================================================================================================\n",
      "                                         coef    std err          t      P>|t|      [0.025      0.975]\n",
      "------------------------------------------------------------------------------------------------------\n",
      "Intercept                              8.6906      1.224      7.101      0.000       6.291      11.090\n",
      "C(item_code)[T.000000001000007448]    -1.9946      0.357     -5.594      0.000      -2.694      -1.296\n",
      "C(item_code)[T.000000001000008010]    -1.1270      0.215     -5.239      0.000      -1.549      -0.705\n",
      "C(item_code)[T.000000001000008546]    -1.5128      0.256     -5.920      0.000      -2.014      -1.012\n",
      "C(item_code)[T.000000001000008699]    -0.5820      0.200     -2.914      0.004      -0.974      -0.190\n",
      "C(item_code)[T.000000001000008736]     0.2094      0.160      1.312      0.190      -0.104       0.522\n",
      "C(item_code)[T.000000001000008754]     0.3383      0.157      2.154      0.031       0.030       0.646\n",
      "C(item_code)[T.000000001000008771]     0.2710      0.155      1.748      0.081      -0.033       0.575\n",
      "C(item_code)[T.000000001000008798]    -1.2698      0.160     -7.951      0.000      -1.583      -0.957\n",
      "C(item_code)[T.000000001000008809]     0.1831      0.164      1.118      0.264      -0.138       0.504\n",
      "C(item_code)[T.000000001000008813]    -0.3126      0.152     -2.058      0.040      -0.610      -0.015\n",
      "C(item_code)[T.000000001000008846]     0.3821      0.155      2.472      0.013       0.079       0.685\n",
      "C(item_code)[T.000000001000008872]    -1.2853      0.253     -5.079      0.000      -1.781      -0.789\n",
      "C(item_code)[T.000000001000012497]    -0.1095      0.154     -0.710      0.478      -0.412       0.193\n",
      "C(item_code)[T.000000001000015484]     0.1952      0.153      1.275      0.202      -0.105       0.495\n",
      "C(item_code)[T.000000001000015488]    -0.0465      0.153     -0.304      0.761      -0.346       0.253\n",
      "C(item_code)[T.000000001000015496]    -0.3179      0.153     -2.077      0.038      -0.618      -0.018\n",
      "C(item_code)[T.000000001000015723]    -1.0914      0.225     -4.861      0.000      -1.532      -0.651\n",
      "C(item_code)[T.000000001000015756]    -2.2052      0.343     -6.424      0.000      -2.878      -1.532\n",
      "C(item_code)[T.000000001000015958]    -1.8789      0.353     -5.318      0.000      -2.572      -1.186\n",
      "C(item_code)[T.000000001000015959]    -1.7838      0.353     -5.048      0.000      -2.477      -1.091\n",
      "C(item_code)[T.000000001000015962]    -2.3661      0.367     -6.440      0.000      -3.086      -1.646\n",
      "C(item_code)[T.000000001000016019]    -1.9979      0.378     -5.283      0.000      -2.739      -1.256\n",
      "C(item_code)[T.000000001000016020]    -2.1423      0.378     -5.664      0.000      -2.884      -1.401\n",
      "C(item_code)[T.000000001000016021]    -1.8837      0.378     -4.981      0.000      -2.625      -1.142\n",
      "C(item_code)[T.000000001000016022]    -2.1658      0.380     -5.697      0.000      -2.911      -1.420\n",
      "C(item_code)[T.000000001000016101]    -2.0294      0.356     -5.704      0.000      -2.727      -1.332\n",
      "C(item_code)[T.000000001000016115]    -2.1278      0.366     -5.818      0.000      -2.845      -1.411\n",
      "C(item_code)[T.000000001000016133]    -1.9468      0.378     -5.149      0.000      -2.688      -1.205\n",
      "C(item_code)[T.000000001000016135]    -1.0650      0.225     -4.744      0.000      -1.505      -0.625\n",
      "C(item_code)[T.000000001000016139]    -1.9858      0.322     -6.174      0.000      -2.616      -1.355\n",
      "C(item_code)[T.000000001000021533]    -0.0220      0.154     -0.143      0.886      -0.323       0.280\n",
      "C(item_code)[T.000000001000021534]    -0.3265      0.153     -2.136      0.033      -0.626      -0.027\n",
      "C(item_code)[T.000000001000021539]     1.1886      0.176      6.759      0.000       0.844       1.533\n",
      "C(item_code)[T.000000001000021540]     1.1348      0.175      6.485      0.000       0.792       1.478\n",
      "C(item_code)[T.000000001000021541]     0.5595      0.174      3.220      0.001       0.219       0.900\n",
      "C(item_code)[T.000000001000021542]     0.8712      0.173      5.022      0.000       0.531       1.211\n",
      "C(item_code)[T.000000001000021698]    -1.6223      0.151    -10.738      0.000      -1.918      -1.326\n",
      "C(item_code)[T.000000001000021703]    -0.1997      0.150     -1.332      0.183      -0.494       0.094\n",
      "C(item_code)[T.000000001000021718]    -0.3669      0.150     -2.441      0.015      -0.661      -0.072\n",
      "C(item_code)[T.000000001000021719]    -1.0996      0.150     -7.316      0.000      -1.394      -0.805\n",
      "C(item_code)[T.000000001000021829]    -0.3261      0.151     -2.153      0.031      -0.623      -0.029\n",
      "C(item_code)[T.000000001000021833]     0.5098      0.161      3.176      0.002       0.195       0.824\n",
      "C(item_code)[T.000000001000021845]     0.4771      0.157      3.033      0.002       0.169       0.785\n",
      "C(item_code)[T.000000001000021904]    -1.9856      0.294     -6.745      0.000      -2.563      -1.408\n",
      "C(item_code)[T.000000001000022573]    -1.1028      0.389     -2.834      0.005      -1.866      -0.340\n",
      "C(item_code)[T.000000001000022586]    -1.0541      0.355     -2.967      0.003      -1.751      -0.357\n",
      "C(item_code)[T.000000001000022708]    -2.7803      0.495     -5.618      0.000      -3.751      -1.810\n",
      "C(item_code)[T.000000001000027371]     0.0556      0.163      0.342      0.733      -0.264       0.375\n",
      "C(item_code)[T.000000001000032236]     0.5726      0.155      3.686      0.000       0.268       0.877\n",
      "C(item_code)[T.000000001000032242]     0.2688      0.155      1.740      0.082      -0.034       0.572\n",
      "C(item_code)[T.000000001000032622]    -1.7340      0.245     -7.090      0.000      -2.213      -1.255\n",
      "C(item_code)[T.000000001000032623]    -1.9547      0.237     -8.258      0.000      -2.419      -1.491\n",
      "C(item_code)[T.000000001000039246]    -0.6853      0.200     -3.418      0.001      -1.078      -0.292\n",
      "C(item_code)[T.000000001000051675]    -1.3730      0.209     -6.582      0.000      -1.782      -0.964\n",
      "C(item_code)[T.000000001000054946]     0.5340      0.159      3.363      0.001       0.223       0.845\n",
      "C(item_code)[T.000000001000054947]     0.7970      0.160      4.987      0.000       0.484       1.110\n",
      "C(item_code)[T.000000001000054983]     0.3890      0.151      2.579      0.010       0.093       0.685\n",
      "C(item_code)[T.000000001000054984]     0.4553      0.151      3.018      0.003       0.160       0.751\n",
      "C(item_code)[T.000000001000054995]     0.1756      0.151      1.163      0.245      -0.121       0.472\n",
      "C(item_code)[T.000000001000054998]     0.2898      0.151      1.922      0.055      -0.006       0.585\n",
      "C(item_code)[T.000000001000055017]     0.4622      0.151      3.059      0.002       0.166       0.758\n",
      "C(item_code)[T.000000001000055018]     0.4740      0.151      3.143      0.002       0.178       0.770\n",
      "C(item_code)[T.000000001000056742]    -0.7748      0.157     -4.944      0.000      -1.082      -0.468\n",
      "C(item_code)[T.000000001000057499]    -0.7493      0.244     -3.066      0.002      -1.229      -0.270\n",
      "C(item_code)[T.000000001000062031]     1.0067      0.201      5.014      0.000       0.613       1.400\n",
      "C(item_code)[T.000000001000062032]     1.3965      0.201      6.955      0.000       1.003       1.790\n",
      "C(item_code)[T.000000001000062037]     1.4445      0.205      7.049      0.000       1.043       1.846\n",
      "C(item_code)[T.000000001000062061]     1.6399      0.208      7.900      0.000       1.233       2.047\n",
      "C(item_code)[T.000000001000064533]    -0.6906      0.153     -4.510      0.000      -0.991      -0.390\n",
      "C(item_code)[T.000000001000065733]    -1.3460      0.216     -6.231      0.000      -1.770      -0.922\n",
      "C(item_code)[T.000000001000073170]    -1.2225      0.182     -6.710      0.000      -1.580      -0.865\n",
      "C(item_code)[T.000000001000073207]    -1.3168      0.187     -7.040      0.000      -1.684      -0.950\n",
      "C(item_code)[T.000000001000076757]    -0.5952      0.190     -3.135      0.002      -0.967      -0.223\n",
      "C(item_code)[T.000000001000079668]    -2.5760      0.298     -8.638      0.000      -3.161      -1.991\n",
      "C(item_code)[T.000000001000086500]    -1.6580      0.219     -7.576      0.000      -2.087      -1.229\n",
      "C(item_code)[T.000000001000091265]     0.6664      0.173      3.842      0.000       0.326       1.006\n",
      "C(item_code)[T.000000001000091266]     0.4254      0.163      2.604      0.009       0.105       0.746\n",
      "C(item_code)[T.000000001000097071]     0.0090      0.160      0.056      0.955      -0.306       0.324\n",
      "C(item_code)[T.000000001000113432]     0.1688      0.150      1.123      0.261      -0.126       0.463\n",
      "C(item_code)[T.000000001000114123]    -0.3651      0.246     -1.482      0.138      -0.848       0.118\n",
      "C(item_code)[T.000000001000117185]    -1.4868      0.156     -9.549      0.000      -1.792      -1.182\n",
      "C(item_code)[T.000000001000117189]    -0.5009      0.157     -3.193      0.001      -0.808      -0.193\n",
      "C(item_code)[T.000000001000117276]    -2.2919      0.365     -6.281      0.000      -3.007      -1.577\n",
      "C(item_code)[T.000000001000121274]    -0.2116      0.154     -1.377      0.169      -0.513       0.090\n",
      "C(item_code)[T.000000001000123214]    -1.5345      0.321     -4.779      0.000      -2.164      -0.905\n",
      "C(item_code)[T.000000001000123640]    -0.7392      0.151     -4.882      0.000      -1.036      -0.442\n",
      "C(item_code)[T.000000001000126041]    -1.4512      0.166     -8.742      0.000      -1.777      -1.126\n",
      "C(item_code)[T.000000001000127680]    -0.2938      0.184     -1.593      0.111      -0.655       0.068\n",
      "C(item_code)[T.000000001000128696]     0.0295      0.151      0.196      0.845      -0.266       0.325\n",
      "C(item_code)[T.000000001000131689]    -1.0238      0.150     -6.831      0.000      -1.318      -0.730\n",
      "C(item_code)[T.000000001000172911]    -0.9845      0.177     -5.555      0.000      -1.332      -0.637\n",
      "log_price                             -2.0895      0.182    -11.463      0.000      -2.447      -1.732\n",
      "log_delivery_weeks                     0.1096      0.008     13.462      0.000       0.094       0.126\n",
      "==============================================================================\n",
      "Omnibus:                     1658.537   Durbin-Watson:                   1.880\n",
      "Prob(Omnibus):                  0.000   Jarque-Bera (JB):            12599.052\n",
      "Skew:                          -1.806   Prob(JB):                         0.00\n",
      "Kurtosis:                      10.938   Cond. No.                     1.22e+03\n",
      "==============================================================================\n",
      "\n",
      "Notes:\n",
      "[1] Standard Errors assume that the covariance matrix of the errors is correctly specified.\n",
      "[2] The condition number is large, 1.22e+03. This might indicate that there are\n",
      "strong multicollinearity or other numerical problems.\n"
     ]
    }
   ],
   "source": [
    "wls_cr_del_w_with_fe_before_BF = smf.wls(\"log_conv_rate ~ log_price + log_delivery_weeks + C(item_code)\", df_before_BF, weights=df_before_BF['bin']).fit()\n",
    "print(wls_cr_del_w_with_fe_before_BF.summary())\n"
   ]
  },
  {
   "cell_type": "code",
   "execution_count": 29,
   "metadata": {
    "pycharm": {
     "name": "#%%\n"
    }
   },
   "outputs": [
    {
     "data": {
      "text/plain": "<AxesSubplot:xlabel='log_price'>"
     },
     "execution_count": 29,
     "metadata": {},
     "output_type": "execute_result"
    },
    {
     "data": {
      "text/plain": "<Figure size 432x288 with 1 Axes>",
      "image/png": "[encoded data removed]"
     },
     "metadata": {},
     "output_type": "display_data"
    },
    {
     "data": {
      "text/plain": "<Figure size 432x288 with 1 Axes>",
      "image/png": "[encoded data removed]"
     },
     "metadata": {},
     "output_type": "display_data"
    },
    {
     "data": {
      "text/plain": "<Figure size 432x288 with 1 Axes>",
      "image/png": "[encoded data removed]"
     },
     "metadata": {},
     "output_type": "display_data"
    }
   ],
   "source": [
    "df[df['item_code']== '000000001000016019'].plot(x='min_date',y='log_delivery_weeks', style = 'o')\n",
    "df[df['item_code']== '000000001000022573'].plot(x='min_date',y='log_delivery_weeks', style = 'o')\n",
    "df_before_BF.plot(x='log_price',y='log_conv_rate', style = 'o')"
   ]
  },
  {
   "cell_type": "code",
   "execution_count": 29,
   "metadata": {
    "pycharm": {
     "name": "#%%\n"
    }
   },
   "outputs": [],
   "source": []
  }
 ],
 "metadata": {
  "kernelspec": {
   "display_name": "Python 3",
   "language": "python",
   "name": "python3"
  },
  "language_info": {
   "codemirror_mode": {
    "name": "ipython",
    "version": 3
   },
   "file_extension": ".py",
   "mimetype": "text/x-python",
   "name": "python",
   "nbconvert_exporter": "python",
   "pygments_lexer": "ipython3",
   "version": "3.8.5"
  }
 },
 "nbformat": 4,
 "nbformat_minor": 1
}