{
 "cells": [
  {
   "cell_type": "code",
   "execution_count": 22,
   "outputs": [
    {
     "data": {
      "text/plain": "<IPython.core.display.HTML object>",
      "text/html": "<style>.container { width:100% !important; }</style>"
     },
     "metadata": {},
     "output_type": "display_data"
    }
   ],
   "source": [
    "#IMPORTING SETUP PACKAGES\n",
    "import statsmodels.formula.api as smf\n",
    "import pandas as pd\n",
    "\n",
    "%matplotlib inline\n",
    "import matplotlib.pyplot as plt\n",
    "plt.style.use('seaborn-whitegrid')\n",
    "\n",
    "from IPython.core.display import display, HTML\n",
    "display(HTML(\"<style>.container { width:100% !important; }</style>\"))\n",
    "\n",
    "pd.set_option('display.max_rows', 500)"
   ],
   "metadata": {
    "collapsed": false,
    "pycharm": {
     "name": "#%%\n"
    }
   }
  },
  {
   "cell_type": "code",
   "execution_count": 23,
   "outputs": [],
   "source": [
    "number_of_top_items = '5000'\n",
    "plot_name = number_of_top_items[0] + 'k'\n",
    "\n",
    "#print(plot_name)\n",
    "\n",
    "df = pd.read_pickle('/Users/gabriele.sabato/PycharmProjects/raw_data/DataFrames/Top'+number_of_top_items+'_seller_YTD_group_by_item_visit_20210226.pickle')\n"
   ],
   "metadata": {
    "collapsed": false,
    "pycharm": {
     "name": "#%%\n"
    }
   }
  },
  {
   "cell_type": "code",
   "execution_count": 24,
   "outputs": [
    {
     "name": "stdout",
     "output_type": "stream",
     "text": [
      "4488\n"
     ]
    }
   ],
   "source": [
    "print(df.item_code.nunique())\n",
    "\n"
   ],
   "metadata": {
    "collapsed": false,
    "pycharm": {
     "name": "#%%q\n"
    }
   }
  },
  {
   "cell_type": "code",
   "execution_count": 25,
   "outputs": [
    {
     "data": {
      "text/plain": "     min_date    max_date           item_code  item_price  delivery_weeks  \\\n0  2020-01-01  2020-05-23  000000001000012530       99.99               1   \n1  2020-01-01  2020-01-02  000000001000012794      219.99               2   \n2  2020-01-01  2020-03-13  000000001000021922      129.99               2   \n3  2020-01-01  2020-01-01  000000001000022179      549.99               3   \n4  2020-01-01  2020-01-01  000000001000024320       99.99               1   \n\n   avg_sales  avg_unique_views  conv_rate  bin item_parent_item_code  \\\n0   0.520833         35.743056   0.014573  144    000000008000000774   \n1   0.000000         27.000000   0.000001    2    000000008000000826   \n2   1.589041        147.191781   0.010797   73  000000001000021922-P   \n3   0.000000         50.000000   0.000001    1    000000008000001920   \n4   0.000000          8.000000   0.000001    1    000000008000002133   \n\n      item_main_category item_sub_category_1       item_sub_category_2  \\\n0  ESSZIMMERSTÜHLE&BÄNKE               BÄNKE                     BÄNKE   \n1                 BETTEN        BETTGESTELLE          MASSIVHOLZBETTEN   \n2                    BAD         BADSCHRÄNKE  WASCHBECKENUNTERSCHRÄNKE   \n3                 BETTEN        BETTGESTELLE             POLSTERBETTEN   \n4  MATRATZEN&LATTENROSTE           MATRATZEN       KALTSCHAUMMATRATZEN   \n\n   log_price  log_delivery_weeks  log_sales  log_avg_unique_views  \\\n0   4.605071            0.000100  -0.652133              3.576359   \n1   5.393583            0.693197  -9.210340              3.295841   \n2   4.867458            0.693197   0.463194              4.991737   \n3   6.309900            1.098646  -9.210340              3.912025   \n4   4.605071            0.000100  -9.210340              2.079454   \n\n   log_conv_rate  \n0      -4.221842  \n1      -9.210340  \n2      -4.519385  \n3      -9.210340  \n4      -9.210340  ",
      "text/html": "<div>\n<style scoped>\n    .dataframe tbody tr th:only-of-type {\n        vertical-align: middle;\n    }\n\n    .dataframe tbody tr th {\n        vertical-align: top;\n    }\n\n    .dataframe thead th {\n        text-align: right;\n    }\n</style>\n<table border=\"1\" class=\"dataframe\">\n  <thead>\n    <tr style=\"text-align: right;\">\n      <th></th>\n      <th>min_date</th>\n      <th>max_date</th>\n      <th>item_code</th>\n      <th>item_price</th>\n      <th>delivery_weeks</th>\n      <th>avg_sales</th>\n      <th>avg_unique_views</th>\n      <th>conv_rate</th>\n      <th>bin</th>\n      <th>item_parent_item_code</th>\n      <th>item_main_category</th>\n      <th>item_sub_category_1</th>\n      <th>item_sub_category_2</th>\n      <th>log_price</th>\n      <th>log_delivery_weeks</th>\n      <th>log_sales</th>\n      <th>log_avg_unique_views</th>\n      <th>log_conv_rate</th>\n    </tr>\n  </thead>\n  <tbody>\n    <tr>\n      <th>0</th>\n      <td>2020-01-01</td>\n      <td>2020-05-23</td>\n      <td>000000001000012530</td>\n      <td>99.99</td>\n      <td>1</td>\n      <td>0.520833</td>\n      <td>35.743056</td>\n      <td>0.014573</td>\n      <td>144</td>\n      <td>000000008000000774</td>\n      <td>ESSZIMMERSTÜHLE&amp;BÄNKE</td>\n      <td>BÄNKE</td>\n      <td>BÄNKE</td>\n      <td>4.605071</td>\n      <td>0.000100</td>\n      <td>-0.652133</td>\n      <td>3.576359</td>\n      <td>-4.221842</td>\n    </tr>\n    <tr>\n      <th>1</th>\n      <td>2020-01-01</td>\n      <td>2020-01-02</td>\n      <td>000000001000012794</td>\n      <td>219.99</td>\n      <td>2</td>\n      <td>0.000000</td>\n      <td>27.000000</td>\n      <td>0.000001</td>\n      <td>2</td>\n      <td>000000008000000826</td>\n      <td>BETTEN</td>\n      <td>BETTGESTELLE</td>\n      <td>MASSIVHOLZBETTEN</td>\n      <td>5.393583</td>\n      <td>0.693197</td>\n      <td>-9.210340</td>\n      <td>3.295841</td>\n      <td>-9.210340</td>\n    </tr>\n    <tr>\n      <th>2</th>\n      <td>2020-01-01</td>\n      <td>2020-03-13</td>\n      <td>000000001000021922</td>\n      <td>129.99</td>\n      <td>2</td>\n      <td>1.589041</td>\n      <td>147.191781</td>\n      <td>0.010797</td>\n      <td>73</td>\n      <td>000000001000021922-P</td>\n      <td>BAD</td>\n      <td>BADSCHRÄNKE</td>\n      <td>WASCHBECKENUNTERSCHRÄNKE</td>\n      <td>4.867458</td>\n      <td>0.693197</td>\n      <td>0.463194</td>\n      <td>4.991737</td>\n      <td>-4.519385</td>\n    </tr>\n    <tr>\n      <th>3</th>\n      <td>2020-01-01</td>\n      <td>2020-01-01</td>\n      <td>000000001000022179</td>\n      <td>549.99</td>\n      <td>3</td>\n      <td>0.000000</td>\n      <td>50.000000</td>\n      <td>0.000001</td>\n      <td>1</td>\n      <td>000000008000001920</td>\n      <td>BETTEN</td>\n      <td>BETTGESTELLE</td>\n      <td>POLSTERBETTEN</td>\n      <td>6.309900</td>\n      <td>1.098646</td>\n      <td>-9.210340</td>\n      <td>3.912025</td>\n      <td>-9.210340</td>\n    </tr>\n    <tr>\n      <th>4</th>\n      <td>2020-01-01</td>\n      <td>2020-01-01</td>\n      <td>000000001000024320</td>\n      <td>99.99</td>\n      <td>1</td>\n      <td>0.000000</td>\n      <td>8.000000</td>\n      <td>0.000001</td>\n      <td>1</td>\n      <td>000000008000002133</td>\n      <td>MATRATZEN&amp;LATTENROSTE</td>\n      <td>MATRATZEN</td>\n      <td>KALTSCHAUMMATRATZEN</td>\n      <td>4.605071</td>\n      <td>0.000100</td>\n      <td>-9.210340</td>\n      <td>2.079454</td>\n      <td>-9.210340</td>\n    </tr>\n  </tbody>\n</table>\n</div>"
     },
     "execution_count": 25,
     "metadata": {},
     "output_type": "execute_result"
    }
   ],
   "source": [
    "df.head()"
   ],
   "metadata": {
    "collapsed": false,
    "pycharm": {
     "name": "#%%\n"
    }
   }
  },
  {
   "cell_type": "code",
   "execution_count": 26,
   "outputs": [
    {
     "name": "stdout",
     "output_type": "stream",
     "text": [
      "min_date                  object\n",
      "max_date                  object\n",
      "item_code                 object\n",
      "item_price               float64\n",
      "delivery_weeks             int64\n",
      "avg_sales                float64\n",
      "avg_unique_views         float64\n",
      "conv_rate                float64\n",
      "bin                        int32\n",
      "item_parent_item_code     object\n",
      "item_main_category        object\n",
      "item_sub_category_1       object\n",
      "item_sub_category_2       object\n",
      "log_price                float64\n",
      "log_delivery_weeks       float64\n",
      "log_sales                float64\n",
      "log_avg_unique_views     float64\n",
      "log_conv_rate            float64\n",
      "dtype: object\n"
     ]
    }
   ],
   "source": [
    "print(df.dtypes)"
   ],
   "metadata": {
    "collapsed": false,
    "pycharm": {
     "name": "#%%\n"
    }
   }
  },
  {
   "cell_type": "code",
   "execution_count": 27,
   "outputs": [],
   "source": [
    "def filter_df(DF = df,bins=6, avg_PDP = 19.):\n",
    "    df_filt = DF[DF['bin'] > bins]\n",
    "    df_items = df_filt.groupby('item_code').item_price.nunique() > 1\n",
    "    df_filt  = df_filt.merge(df_items,on='item_code',how='inner')\n",
    "    df_filt  = df_filt[df_filt['item_price_y']== True]\n",
    "    #filter PDP\n",
    "    #print(df_filt)\n",
    "    df_filt = df_filt[df_filt['avg_unique_views'] > avg_PDP]\n",
    "    #print(df_filt)\n",
    "    return df_filt"
   ],
   "metadata": {
    "collapsed": false,
    "pycharm": {
     "name": "#%%\n"
    }
   }
  },
  {
   "cell_type": "code",
   "execution_count": 28,
   "outputs": [],
   "source": [
    "df_filt = filter_df(df)\n",
    "\n",
    "df_filt.to_pickle('/Users/gabriele.sabato/PycharmProjects/raw_data/DataFrames/Top5k_seller_YTD_filter_price_1w_20210226.pickle')"
   ],
   "metadata": {
    "collapsed": false,
    "pycharm": {
     "name": "#%%\n"
    }
   }
  },
  {
   "cell_type": "code",
   "execution_count": 29,
   "outputs": [],
   "source": [
    "#def weighted_median(df, val, weight):\n",
    "#    df_sorted = df.sort_values(val)\n",
    "#    cumsum = df_sorted[weight].cumsum()\n",
    "##    cutoff = df_sorted[weight].sum() / 2.\n",
    "#   return df_sorted[cumsum >= cutoff][val].iloc[0]"
   ],
   "metadata": {
    "collapsed": false,
    "pycharm": {
     "name": "#%%\n"
    }
   }
  },
  {
   "cell_type": "code",
   "execution_count": 30,
   "outputs": [],
   "source": [
    "#df_filt['median'] = weighted_median(df_filt,'item_price_x','bin')"
   ],
   "metadata": {
    "collapsed": false,
    "pycharm": {
     "name": "#%%\n"
    }
   }
  },
  {
   "cell_type": "code",
   "execution_count": 31,
   "outputs": [],
   "source": [
    "#df_filt.groupby(['item_code']).median()"
   ],
   "metadata": {
    "collapsed": false,
    "pycharm": {
     "name": "#%%\n"
    }
   }
  },
  {
   "cell_type": "code",
   "execution_count": 19,
   "outputs": [],
   "source": [],
   "metadata": {
    "collapsed": false,
    "pycharm": {
     "name": "#%%\n"
    }
   }
  },
  {
   "cell_type": "code",
   "execution_count": 34,
   "outputs": [],
   "source": [
    "from pyspark.sql import SparkSession\n",
    "spark = SparkSession.builder.master('local').config('spark.driver.memory', '8g').appName('read_tables').getOrCreate()\n",
    "\n",
    "from pyspark.sql import Window\n",
    "import pyspark.sql.functions as F\n",
    "\n",
    "df_spark = spark.createDataFrame(df_filt)\n",
    "\n"
   ],
   "metadata": {
    "collapsed": false,
    "pycharm": {
     "name": "#%%\n"
    }
   }
  },
  {
   "cell_type": "code",
   "execution_count": 37,
   "outputs": [],
   "source": [
    "grp_window = Window.partitionBy('item_code')\n",
    "magic_percentile = F.expr('percentile_approx(item_price_x, 0.5)')\n",
    "\n",
    "df_spark= df_spark.withColumn('med_val', magic_percentile.over(grp_window))\n",
    "\n"
   ],
   "metadata": {
    "collapsed": false,
    "pycharm": {
     "name": "#%%\n"
    }
   }
  },
  {
   "cell_type": "code",
   "execution_count": 38,
   "outputs": [
    {
     "name": "stdout",
     "output_type": "stream",
     "text": [
      "+----------+----------+------------------+------------+--------------+-------------------+------------------+--------------------+---+---------------------+--------------------+-------------------+--------------------+------------------+--------------------+--------------------+--------------------+-------------------+------------+-------+\n",
      "|  min_date|  max_date|         item_code|item_price_x|delivery_weeks|          avg_sales|  avg_unique_views|           conv_rate|bin|item_parent_item_code|  item_main_category|item_sub_category_1| item_sub_category_2|         log_price|  log_delivery_weeks|           log_sales|log_avg_unique_views|      log_conv_rate|item_price_y|med_val|\n",
      "+----------+----------+------------------+------------+--------------+-------------------+------------------+--------------------+---+---------------------+--------------------+-------------------+--------------------+------------------+--------------------+--------------------+--------------------+-------------------+------------+-------+\n",
      "|2020-01-01|2020-05-23|000000001000012530| 99.98999999|             1| 0.5208333333333334| 35.74305555555556|0.014572595103944045|144|   000000008000000774|ESSZIMMERSTÜHLE&B...|              BÄNKE|               BÄNKE| 4.605071180987258|9.999500033329732E-5| -0.6521332044693312|  3.5763587978191005| -4.221841960362992|        true| 1999.8|\n",
      "|2020-05-31|2020-06-26|000000001000012530| 99.98999999|             1| 0.4444444444444444| 49.81481481481482|0.008922933085501858| 27|   000000008000000774|ESSZIMMERSTÜHLE&B...|              BÄNKE|               BÄNKE| 4.605071180987258|9.999500033329732E-5| -0.8107052415250326|  3.9083144334645397| -4.708096656837685|        true| 1999.8|\n",
      "|2020-08-06|2020-08-20|000000001000012530| 99.98999999|             1| 0.5333333333333333|              19.8|0.026937026936026936| 15|   000000008000000774|ESSZIMMERSTÜHLE&B...|              BÄNKE|               BÄNKE| 4.605071180987258|9.999500033329732E-5| -0.6284211769983022|   2.985686988192786|-3.6105849714423015|        true| 1999.8|\n",
      "|2020-09-16|2020-10-31|000000001000012530| 99.98999999|             1| 0.4782608695652174| 36.65217391304348|0.013049635824436535| 46|   000000008000000774|ESSZIMMERSTÜHLE&B...|              BÄNKE|               BÄNKE| 4.605071180987258|9.999500033329732E-5| -0.7373898740781457|  3.6014754704201106| -4.331437265326262|        true| 1999.8|\n",
      "|2020-11-01|2020-11-07|000000001000012530|       99.99|             1| 1.7142857142857142| 81.14285714285714|0.021127760563380282|  7|   000000008000000774|ESSZIMMERSTÜHLE&B...|              BÄNKE|               BÄNKE|4.6050711810872675|9.999500033329732E-5|  0.5390548323646975|   4.396212502059445|-3.8524926025978217|        true| 1999.8|\n",
      "|2020-11-10|2020-11-22|000000001000012530|       99.99|             1| 0.9230769230769231|  72.3076923076923| 0.01276695744680851| 13|   000000008000000774|ESSZIMMERSTÜHLE&B...|              BÄNKE|               BÄNKE|4.6050711810872675|9.999500033329732E-5|-0.07993438020783483|    4.28093190078028| -4.353170413413029|        true| 1999.8|\n",
      "|2020-12-08|2020-12-27|000000001000012530|       99.99|             1|                0.6|              35.0|0.017143857142857145| 20|   000000008000000774|ESSZIMMERSTÜHLE&B...|              BÄNKE|               BÄNKE|4.6050711810872675|9.999500033329732E-5| -0.5106589709866699|  3.5553509186281893|-4.0603572999339645|        true| 1999.8|\n",
      "|2021-01-05|2021-02-13|000000001000012530|       99.99|             1|               1.05|            75.875|0.013839550247116968| 40|   000000008000000774|ESSZIMMERSTÜHLE&B...|              BÄNKE|               BÄNKE|4.6050711810872675|9.999500033329732E-5| 0.04888539772981066|    4.32908856733596|-4.2730968785475385|        true| 1999.8|\n",
      "|2020-01-15|2020-04-19|000000001000012794|      249.99|             2| 0.3958333333333333|           38.0625|0.010400562123700054| 96|   000000008000000826|              BETTEN|       BETTGESTELLE|    MASSIVHOLZBETTEN| 5.521421317078146|   0.693197179309987|  -0.926509432068487|  3.6392321727244643|-4.5564217251929895|        true|5249.79|\n",
      "|2020-04-23|2020-05-19|000000001000012794|      249.99|             2| 0.2222222222222222| 30.51851851851852|0.007282553398058253| 27|   000000008000000826|              BETTEN|       BETTGESTELLE|    MASSIVHOLZBETTEN| 5.521421317078146|   0.693197179309987| -1.5036274979959094|  3.4183369405988033| -4.908771174977382|        true|5249.79|\n",
      "|2020-06-29|2020-09-20|000000001000012794|      249.99|             2|0.32142857142857145|32.833333333333336|0.009790702683103697| 84|   000000008000000826|              BETTEN|       BETTGESTELLE|    MASSIVHOLZBETTEN| 5.521421317078146|   0.693197179309987|    -1.1346688701129|  3.4914473051905746| -4.616261196175162|        true|5249.79|\n",
      "|2020-10-02|2020-10-18|000000001000012794|      249.99|             2|0.23529411764705882|30.058823529411764|0.007828788649706457| 17|   000000008000000826|              BETTEN|       BETTGESTELLE|    MASSIVHOLZBETTEN| 5.521421317078146|   0.693197179309987| -1.4464940732232452|  3.4031595729521307| -4.837381141024929|        true|5249.79|\n",
      "|2020-11-18|2020-12-08|000000001000012794|      249.99|             2| 0.3333333333333333|32.142857142857146| 0.01037137037037037| 21|   000000008000000826|              BETTEN|       BETTGESTELLE|    MASSIVHOLZBETTEN| 5.521421317078146|   0.693197179309987| -1.0983123336591119|   3.470193364255379| -4.559205880286922|        true|5249.79|\n",
      "|2020-12-11|2021-01-01|000000001000012794|      259.99|             3|0.36363636363636365|22.227272727272727|   0.016360918200409| 22|   000000008000000826|              BETTEN|       BETTGESTELLE|    MASSIVHOLZBETTEN| 5.560643553367506|     1.0986456214459|  -1.011325949484049|  3.1013245350839407| -4.106827053344043|        true|5249.79|\n",
      "|2021-01-02|2021-01-08|000000001000012794|      259.99|             2| 0.8571428571428571| 75.71428571428571| 0.01132175471698113|  7|   000000008000000826|              BETTEN|       BETTGESTELLE|    MASSIVHOLZBETTEN| 5.560643553367506|   0.693197179309987|  -0.154034019965618|   4.326968178244699| -4.472322989636617|        true|5249.79|\n",
      "|2021-02-15|2021-02-25|000000001000012794|      259.99|             2|0.45454545454545453|26.636363636363637|0.017065846416382254| 11|   000000008000000826|              BETTEN|       BETTGESTELLE|    MASSIVHOLZBETTEN| 5.560643553367506|   0.693197179309987| -0.7882373845607215|   3.282281090477861|-4.0648917995997085|        true|5249.79|\n",
      "|2020-01-01|2020-03-13|000000001000021922|      129.99|             2| 1.5890410958904109| 147.1917808219178|0.010796718939041414| 73| 000000001000021922-P|                 BAD|        BADSCHRÄNKE|WASCHBECKENUNTERS...| 4.867458293709578|   0.693197179309987| 0.46319367901238173|    4.99173704731375| -4.519385324782728|        true| 919.92|\n",
      "|2020-04-15|2020-04-21|000000001000021922|119.98999999|             4| 1.5714285714285714| 79.42857142857143|0.019785172661870503|  7| 000000001000021922-P|                 BAD|        BADSCHRÄNKE|WASCHBECKENUNTERS...|4.7874092392953935|  1.3863193608073958|  0.4520487580819861|   4.374859404187283| -3.917831207329833|        true| 919.92|\n",
      "|2020-04-23|2020-06-07|000000001000021922|      129.99|             2| 2.0869565217391304| 89.17391304347827|0.023404217942467092| 46| 000000001000021922-P|                 BAD|        BADSCHRÄNKE|WASCHBECKENUNTERS...| 4.867458293709578|   0.693197179309987|  0.7357547104974411|   4.490589663546795| -3.750617933484586|        true| 919.92|\n",
      "|2020-06-11|2020-07-25|000000001000021922|      129.99|             2| 1.3111111111111111| 74.02222222222223|0.017713398679075353| 45| 000000001000021922-P|                 BAD|        BADSCHRÄNKE|WASCHBECKENUNTERS...| 4.867458293709578|   0.693197179309987|  0.2709512224133413|   4.304366699368109| -4.027860509161706|        true| 919.92|\n",
      "+----------+----------+------------------+------------+--------------+-------------------+------------------+--------------------+---+---------------------+--------------------+-------------------+--------------------+------------------+--------------------+--------------------+--------------------+-------------------+------------+-------+\n",
      "only showing top 20 rows\n",
      "\n"
     ]
    }
   ],
   "source": [
    "df_spark.show()"
   ],
   "metadata": {
    "collapsed": false,
    "pycharm": {
     "name": "#%%\n"
    }
   }
  },
  {
   "cell_type": "code",
   "execution_count": null,
   "outputs": [],
   "source": [],
   "metadata": {
    "collapsed": false,
    "pycharm": {
     "name": "#%%\n"
    }
   }
  }
 ],
 "metadata": {
  "kernelspec": {
   "display_name": "Python 3",
   "language": "python",
   "name": "python3"
  },
  "language_info": {
   "codemirror_mode": {
    "name": "ipython",
    "version": 2
   },
   "file_extension": ".py",
   "mimetype": "text/x-python",
   "name": "python",
   "nbconvert_exporter": "python",
   "pygments_lexer": "ipython2",
   "version": "2.7.6"
  }
 },
 "nbformat": 4,
 "nbformat_minor": 0
}