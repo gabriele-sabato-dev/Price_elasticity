{
 "cells": [
  {
   "cell_type": "code",
   "execution_count": 1,
   "metadata": {
    "pycharm": {
     "name": "#%%\n"
    }
   },
   "outputs": [],
   "source": [
    "\n",
    "from pyspark.sql import SparkSession\n",
    "#from pyspark.sql.functions import *\n",
    "spark = SparkSession.builder.master('local').config('spark.driver.memory', '8g').appName('Ready_for_analysis').getOrCreate()\n",
    "\n"
   ]
  },
  {
   "cell_type": "code",
   "execution_count": 2,
   "metadata": {
    "pycharm": {
     "name": "#%%\n"
    }
   },
   "outputs": [
    {
     "data": {
      "text/plain": "<IPython.core.display.HTML object>",
      "text/html": "<style>.container { width:100% !important; }</style>"
     },
     "metadata": {},
     "output_type": "display_data"
    }
   ],
   "source": [
    "\n",
    "#IMPORTING SETUP PACKAGES\n",
    "import statsmodels.formula.api as smf\n",
    "import pandas as pd\n",
    "import numpy as np\n",
    "\n",
    "%matplotlib inline\n",
    "import matplotlib.pyplot as plt\n",
    "plt.style.use('seaborn-whitegrid')\n",
    "\n",
    "from IPython.core.display import display, HTML\n",
    "display(HTML(\"<style>.container { width:100% !important; }</style>\"))\n",
    "\n",
    "pd.set_option('display.max_rows', 500)\n",
    "\n"
   ]
  },
  {
   "cell_type": "code",
   "execution_count": 3,
   "metadata": {
    "pycharm": {
     "name": "#%%\n"
    }
   },
   "outputs": [],
   "source": [
    "number_of_top_items = '5000'\n",
    "plot_name = number_of_top_items[0] + 'k'\n",
    "\n",
    "#print(plot_name)\n",
    "\n",
    "df = pd.read_pickle('/Users/gabriele.sabato/PycharmProjects/raw_data/DataFrames/Top'+number_of_top_items+'_seller_YTD_group_by_item_visit_20210226.pickle')\n"
   ]
  },
  {
   "cell_type": "code",
   "execution_count": 5,
   "metadata": {
    "pycharm": {
     "name": "#%%q\n"
    }
   },
   "outputs": [
    {
     "name": "stdout",
     "output_type": "stream",
     "text": [
      "min_date                  object\n",
      "max_date                  object\n",
      "item_code                 object\n",
      "item_price               float64\n",
      "delivery_weeks             int64\n",
      "avg_sales                float64\n",
      "avg_unique_views         float64\n",
      "conv_rate                float64\n",
      "bin                        int32\n",
      "item_parent_item_code     object\n",
      "item_main_category        object\n",
      "item_sub_category_1       object\n",
      "item_sub_category_2       object\n",
      "log_price                float64\n",
      "log_delivery_weeks       float64\n",
      "log_sales                float64\n",
      "log_avg_unique_views     float64\n",
      "log_conv_rate            float64\n",
      "dtype: object\n"
     ]
    }
   ],
   "source": [
    "print(df.dtypes)"
   ]
  },
  {
   "cell_type": "code",
   "execution_count": 6,
   "metadata": {
    "pycharm": {
     "name": "#%%\n"
    }
   },
   "outputs": [],
   "source": [
    "def filter_df(DF = df,bins=6, avg_PDP = 19.):\n",
    "    df_filt = DF[DF['bin'] > bins]\n",
    "    df_items = df_filt.groupby('item_code').item_price.nunique() > 1\n",
    "    df_filt  = df_filt.merge(df_items,on='item_code',how='inner')\n",
    "    df_filt  = df_filt[df_filt['item_price_y']== True]\n",
    "    #filter PDP\n",
    "    #print(df_filt)\n",
    "    df_filt = df_filt[df_filt['avg_unique_views'] > avg_PDP]\n",
    "    #print(df_filt)\n",
    "    return df_filt"
   ]
  },
  {
   "cell_type": "code",
   "execution_count": 7,
   "metadata": {
    "pycharm": {
     "name": "#%%\n"
    }
   },
   "outputs": [
    {
     "name": "stdout",
     "output_type": "stream",
     "text": [
      "4181\n"
     ]
    }
   ],
   "source": [
    "df_filt = filter_df(df)\n",
    "\n",
    "\n",
    "print(df_filt.item_code.nunique())\n"
   ]
  },
  {
   "cell_type": "code",
   "execution_count": 8,
   "metadata": {
    "pycharm": {
     "name": "#%%\n"
    }
   },
   "outputs": [],
   "source": [
    "#introducing the similarity score\n",
    "sim_score = pd.read_parquet('/Users/gabriele.sabato/PycharmProjects/raw_data/recommendations_prod/part-00000-5f77392a-0bfa-4f0b-a4ae-d816ce2d71de-c000.snappy.parquet')"
   ]
  },
  {
   "cell_type": "code",
   "execution_count": 9,
   "metadata": {
    "pycharm": {
     "name": "#%%\n"
    }
   },
   "outputs": [
    {
     "data": {
      "text/plain": "                        sku     recommended_sku     score\n0        000000001000200072  000000001000200087  0.260000\n1        000000001000200072  000000001000183538  0.216580\n2        000000001000200072  000000001000142209  0.200000\n3        000000001000200072  000000001000204906  0.190794\n4        000000001000200072  000000001000183468  0.183980\n...                     ...                 ...       ...\n3827600  000000001000064787  000000001000115010  0.203238\n3827601  000000001000064787  000000001000112641  0.201339\n3827602  000000001000064787  000000001000046204  0.200052\n3827603  000000001000064787  000000001000114086  0.199867\n3827604  000000001000064787  000000001000049726  0.199657\n\n[3827605 rows x 3 columns]",
      "text/html": "<div>\n<style scoped>\n    .dataframe tbody tr th:only-of-type {\n        vertical-align: middle;\n    }\n\n    .dataframe tbody tr th {\n        vertical-align: top;\n    }\n\n    .dataframe thead th {\n        text-align: right;\n    }\n</style>\n<table border=\"1\" class=\"dataframe\">\n  <thead>\n    <tr style=\"text-align: right;\">\n      <th></th>\n      <th>sku</th>\n      <th>recommended_sku</th>\n      <th>score</th>\n    </tr>\n  </thead>\n  <tbody>\n    <tr>\n      <th>0</th>\n      <td>000000001000200072</td>\n      <td>000000001000200087</td>\n      <td>0.260000</td>\n    </tr>\n    <tr>\n      <th>1</th>\n      <td>000000001000200072</td>\n      <td>000000001000183538</td>\n      <td>0.216580</td>\n    </tr>\n    <tr>\n      <th>2</th>\n      <td>000000001000200072</td>\n      <td>000000001000142209</td>\n      <td>0.200000</td>\n    </tr>\n    <tr>\n      <th>3</th>\n      <td>000000001000200072</td>\n      <td>000000001000204906</td>\n      <td>0.190794</td>\n    </tr>\n    <tr>\n      <th>4</th>\n      <td>000000001000200072</td>\n      <td>000000001000183468</td>\n      <td>0.183980</td>\n    </tr>\n    <tr>\n      <th>...</th>\n      <td>...</td>\n      <td>...</td>\n      <td>...</td>\n    </tr>\n    <tr>\n      <th>3827600</th>\n      <td>000000001000064787</td>\n      <td>000000001000115010</td>\n      <td>0.203238</td>\n    </tr>\n    <tr>\n      <th>3827601</th>\n      <td>000000001000064787</td>\n      <td>000000001000112641</td>\n      <td>0.201339</td>\n    </tr>\n    <tr>\n      <th>3827602</th>\n      <td>000000001000064787</td>\n      <td>000000001000046204</td>\n      <td>0.200052</td>\n    </tr>\n    <tr>\n      <th>3827603</th>\n      <td>000000001000064787</td>\n      <td>000000001000114086</td>\n      <td>0.199867</td>\n    </tr>\n    <tr>\n      <th>3827604</th>\n      <td>000000001000064787</td>\n      <td>000000001000049726</td>\n      <td>0.199657</td>\n    </tr>\n  </tbody>\n</table>\n<p>3827605 rows × 3 columns</p>\n</div>"
     },
     "execution_count": 9,
     "metadata": {},
     "output_type": "execute_result"
    }
   ],
   "source": [
    "sim_score"
   ]
  },
  {
   "cell_type": "code",
   "execution_count": 10,
   "metadata": {
    "pycharm": {
     "name": "#%%\n"
    }
   },
   "outputs": [
    {
     "data": {
      "text/plain": "                        sku     recommended_sku     score\n780      000000001000135008  000000001000135012  0.881024\n781      000000001000135008  000000001000121202  0.715546\n782      000000001000135008  000000001000167468  0.633481\n783      000000001000135008  000000001000166799  0.564164\n784      000000001000135008  000000001000208980  0.544883\n...                     ...                 ...       ...\n3827360  000000001000176744  000000001000171107  0.339302\n3827361  000000001000176744  000000001000163202  0.335340\n3827362  000000001000176744  000000001000163190  0.327887\n3827363  000000001000176744  000000001000176438  0.324293\n3827364  000000001000176744  000000001000171374  0.290227\n\n[82714 rows x 3 columns]",
      "text/html": "<div>\n<style scoped>\n    .dataframe tbody tr th:only-of-type {\n        vertical-align: middle;\n    }\n\n    .dataframe tbody tr th {\n        vertical-align: top;\n    }\n\n    .dataframe thead th {\n        text-align: right;\n    }\n</style>\n<table border=\"1\" class=\"dataframe\">\n  <thead>\n    <tr style=\"text-align: right;\">\n      <th></th>\n      <th>sku</th>\n      <th>recommended_sku</th>\n      <th>score</th>\n    </tr>\n  </thead>\n  <tbody>\n    <tr>\n      <th>780</th>\n      <td>000000001000135008</td>\n      <td>000000001000135012</td>\n      <td>0.881024</td>\n    </tr>\n    <tr>\n      <th>781</th>\n      <td>000000001000135008</td>\n      <td>000000001000121202</td>\n      <td>0.715546</td>\n    </tr>\n    <tr>\n      <th>782</th>\n      <td>000000001000135008</td>\n      <td>000000001000167468</td>\n      <td>0.633481</td>\n    </tr>\n    <tr>\n      <th>783</th>\n      <td>000000001000135008</td>\n      <td>000000001000166799</td>\n      <td>0.564164</td>\n    </tr>\n    <tr>\n      <th>784</th>\n      <td>000000001000135008</td>\n      <td>000000001000208980</td>\n      <td>0.544883</td>\n    </tr>\n    <tr>\n      <th>...</th>\n      <td>...</td>\n      <td>...</td>\n      <td>...</td>\n    </tr>\n    <tr>\n      <th>3827360</th>\n      <td>000000001000176744</td>\n      <td>000000001000171107</td>\n      <td>0.339302</td>\n    </tr>\n    <tr>\n      <th>3827361</th>\n      <td>000000001000176744</td>\n      <td>000000001000163202</td>\n      <td>0.335340</td>\n    </tr>\n    <tr>\n      <th>3827362</th>\n      <td>000000001000176744</td>\n      <td>000000001000163190</td>\n      <td>0.327887</td>\n    </tr>\n    <tr>\n      <th>3827363</th>\n      <td>000000001000176744</td>\n      <td>000000001000176438</td>\n      <td>0.324293</td>\n    </tr>\n    <tr>\n      <th>3827364</th>\n      <td>000000001000176744</td>\n      <td>000000001000171374</td>\n      <td>0.290227</td>\n    </tr>\n  </tbody>\n</table>\n<p>82714 rows × 3 columns</p>\n</div>"
     },
     "execution_count": 10,
     "metadata": {},
     "output_type": "execute_result"
    }
   ],
   "source": [
    "# Filter table with only topX item_code\n",
    "\n",
    "unique_item_codes = list(df_filt.item_code.unique())\n",
    "\n",
    "\n",
    "sim_score_filt = sim_score[sim_score['sku'].isin(unique_item_codes)]\n",
    "\n",
    "sim_score_filt"
   ]
  },
  {
   "cell_type": "code",
   "execution_count": 11,
   "metadata": {
    "pycharm": {
     "name": "#%%\n"
    }
   },
   "outputs": [],
   "source": [
    "#Create a map with X subset for X linear fit:\n",
    "\n",
    "def create_map(list_of_items = unique_item_codes , df=sim_score_filt, score_cut = 0.):\n",
    "    map_of_items = {}\n",
    "    for item_code in list_of_items:\n",
    "        df_mod = df[df['sku'] == item_code]\n",
    "        df_score_filt = df_mod[df_mod['score'] > score_cut]\n",
    "        final_set_sku = list(df_score_filt.recommended_sku)\n",
    "        final_set_sku.insert(0,item_code)\n",
    "        map_of_items[item_code] = final_set_sku\n",
    "    #print(map_of_items)\n",
    "    return map_of_items\n"
   ]
  },
  {
   "cell_type": "code",
   "execution_count": 12,
   "metadata": {
    "pycharm": {
     "name": "#%%\n"
    }
   },
   "outputs": [],
   "source": [
    "sim_score_bin = [0.16]#0.3,0.4,0.5,0.6,0.7,0.8,0.9]\n",
    "\n",
    "\n"
   ]
  },
  {
   "cell_type": "code",
   "execution_count": 13,
   "metadata": {
    "pycharm": {
     "name": "#%%\n"
    }
   },
   "outputs": [],
   "source": [
    "map_of_map_of_items = {}\n",
    "for sim_score_i in sim_score_bin:\n",
    "    Map_of_Items = create_map(score_cut = sim_score_i)\n",
    "    map_of_map_of_items[str(sim_score_i)] = Map_of_Items\n",
    "#print(map_of_map_of_items)"
   ]
  },
  {
   "cell_type": "code",
   "execution_count": 14,
   "metadata": {
    "pycharm": {
     "name": "#%%\n"
    }
   },
   "outputs": [],
   "source": [
    "#load greater dataset\n",
    "largest_dataset = '/Users/gabriele.sabato/PycharmProjects/raw_data/DataFrames/All_catalogue_seller_YTD_group_by_item_visit_20210226.pickle'\n",
    "\n",
    "#df_k = pd.read_pickle(dataset10k)\n",
    "df_k = pd.read_pickle(largest_dataset)"
   ]
  },
  {
   "cell_type": "code",
   "execution_count": 15,
   "metadata": {
    "pycharm": {
     "name": "#%%\n"
    }
   },
   "outputs": [],
   "source": [
    "PDP_bin = [19]#,30,40,50]"
   ]
  },
  {
   "cell_type": "code",
   "execution_count": 16,
   "metadata": {
    "pycharm": {
     "name": "#%%\n"
    }
   },
   "outputs": [],
   "source": [
    "df_PDP_bin_filt = {}\n",
    "for PDP_view in PDP_bin:\n",
    "    df_k_filt = filter_df(df_k, avg_PDP= PDP_view)\n",
    "    df_PDP_bin_filt[PDP_view] = df_k_filt\n",
    "    #print(df_k_filt)\n",
    "\n",
    "#print(df_PDP_bin_filt)\n"
   ]
  },
  {
   "cell_type": "code",
   "execution_count": 17,
   "metadata": {
    "pycharm": {
     "name": "#%%\n"
    }
   },
   "outputs": [],
   "source": [
    "def create_map_of_dataframes(items_map = Map_of_Items,df=df_filt):\n",
    "    map_of_df = {}\n",
    "    for key in items_map.keys():\n",
    "        items  = items_map[key]\n",
    "        #print(f'Item_code = {key}')\n",
    "\n",
    "        df_mod = df[df['item_code'].isin(items)]\n",
    "        #\n",
    "        #print(f'Number of items per cluster {df_mod.item_code.nunique()}')\n",
    "        map_of_df[key]= df_mod\n",
    "    return map_of_df\n",
    "\n"
   ]
  },
  {
   "cell_type": "code",
   "execution_count": 20,
   "metadata": {
    "pycharm": {
     "name": "#%%\n"
    }
   },
   "outputs": [],
   "source": [
    "import numpy as np\n",
    "def run_model(item_code, df, map_results):\n",
    "    #print('\\n')\n",
    "    wls_cr_with_fe = smf.wls(\"log_sales ~ log_price + log_delivery_weeks + C(item_code)\", df, weights=df['bin']).fit()\n",
    "    wls_cr_with_fe.summary()\n",
    "    beta_log_price, beta_std_err_log_price = wls_cr_with_fe.params[-2].round(4),wls_cr_with_fe.bse[-2].round(4)\n",
    "    beta_log_del, beta_std_err_log_del = wls_cr_with_fe.params[-1].round(4),wls_cr_with_fe.bse[-1].round(4)\n",
    "    Result_log_price = 'Log_price  = ' + str(beta_log_price) + ' ± ' + str(beta_std_err_log_price)\n",
    "    Result_log_del = 'Log_del_week = ' + str(beta_log_del) + ' ± ' + str(beta_std_err_log_del)\n",
    "    flag_stat_ok = False\n",
    "    if beta_log_price != 0 :\n",
    "        flag_stat_ok = np.fabs((3*beta_std_err_log_price)/beta_log_price) < 1.\n",
    "    #flag_stat_ok = fabs(beta_std_err_log_price/beta_log_price)\n",
    "\n",
    "    if flag_stat_ok:\n",
    "        #print(f'Enough statistics for the item = {item_code}')\n",
    "        #print(Result_log_price)\n",
    "        #print(Result_log_del)\n",
    "        map_results[item_code] = [beta_log_price, beta_std_err_log_price, beta_log_del,beta_std_err_log_del, df.item_code.nunique(), True]\n",
    "        #print(map_results[item_code])\n",
    "        return True\n",
    "    else:\n",
    "        #print(f'Not enough statistics for the item = {item_code}')\n",
    "        #print(Result_log_price)\n",
    "        #print(Result_log_del)\n",
    "        map_results[item_code] = [beta_log_price, beta_std_err_log_price, beta_log_del,beta_std_err_log_del, df.item_code.nunique(), False]\n",
    "        #print(map_results[item_code])\n",
    "        return False\n"
   ]
  },
  {
   "cell_type": "code",
   "execution_count": 21,
   "metadata": {
    "pycharm": {
     "name": "#%%\n"
    }
   },
   "outputs": [
    {
     "name": "stdout",
     "output_type": "stream",
     "text": [
      "Number of items passing the PE cut 4181\n",
      "                    Sales_PE  Sales_PE_err  log_del_week  log_del_week_err  \\\n",
      "000000001000012530   -2.9051        1.1702        0.0043            0.0764   \n",
      "000000001000021922   -6.5170        1.1057       -0.9297            0.2101   \n",
      "000000001000034762   -6.4893        2.9438       -1.6689            0.6093   \n",
      "000000001000125896   -7.0887        2.8063       -0.8351            0.4253   \n",
      "000000001000199717  -10.6119        5.4424       -0.7920            0.3898   \n",
      "000000001000005727   -2.6853        0.8351        0.0433            0.0984   \n",
      "000000001000007327   -4.2463        1.8361       -0.5654            0.2854   \n",
      "000000001000007822   -4.2083        2.6291       -0.0014            0.2000   \n",
      "000000001000016194   -5.6962        2.7671       -0.0991            0.2552   \n",
      "000000001000022565  -10.4964       10.3810       -3.4724            1.3953   \n",
      "000000001000050787   -6.1549        2.6971       -1.0676            0.5293   \n",
      "000000001000116614   -1.2813        2.2301       -0.8725            0.2058   \n",
      "000000001000117179   -3.8766        3.2459       -0.0775            0.1497   \n",
      "000000001000164660   -9.4314        2.6096        0.2746            0.1909   \n",
      "000000001000176734   -3.0015        0.9799        0.1931            0.0854   \n",
      "000000001000178079   -0.8266        3.9065        0.0554            0.1310   \n",
      "000000001000183575   -1.8064        2.1163       -0.7859            0.2449   \n",
      "000000001000008470   -5.8561        1.6480       -0.4232            0.1593   \n",
      "000000001000064521   -7.7442        3.6904       -1.7197            0.4924   \n",
      "000000001000084258   -6.2094        7.1584       -0.2748            0.7495   \n",
      "000000001000124600   -1.3098        1.8051       -0.0225            0.0993   \n",
      "000000001000159178  -14.3421        3.6596       -0.5697            0.2212   \n",
      "000000001000174312   -3.6172        1.7505        0.3152            0.1083   \n",
      "000000001000174905   -9.0894        3.0420       -0.7685            0.4413   \n",
      "000000001000176716   -4.3655        1.3103        0.2163            0.0993   \n",
      "000000001000008827   -1.7913        1.2971        0.1986            0.1080   \n",
      "000000001000012659   -3.1915        3.5999       -0.0911            0.2257   \n",
      "000000001000012817   -6.0842        2.0190        0.0814            0.0920   \n",
      "000000001000016080   -0.6519        1.0684       -0.0404            0.0962   \n",
      "000000001000022615   -2.9607        0.7183       -0.6873            0.2865   \n",
      "000000001000027423   -4.1724        2.8418       -0.6289            0.3289   \n",
      "000000001000032520   -3.6942        0.4710       -0.0786            0.2470   \n",
      "000000001000039244   -8.6775        4.8982       -0.6100            0.9743   \n",
      "000000001000053564   -2.6326        1.1270       -0.4379            0.2821   \n",
      "000000001000054998   -4.6952        3.0905       -1.7656            0.4010   \n",
      "000000001000091265   -5.0696        1.2294       -0.8163            0.3229   \n",
      "000000001000156992   -3.2354        0.7865        0.1369            0.0850   \n",
      "000000001000199454   -3.7398        0.5073       -0.3699            0.2987   \n",
      "000000001000008474   -5.7465        2.4419       -0.3127            0.1680   \n",
      "000000001000008491   -4.1432        1.6588        0.2613            0.1263   \n",
      "000000001000012742   -3.5639        1.3389        0.3596            0.0601   \n",
      "000000001000031008   -8.7935        4.3718       -0.3012            0.4088   \n",
      "000000001000073238    3.8203        4.8359       -1.1556            0.6476   \n",
      "000000001000076760   -8.0356        2.8531       -1.1154            0.4422   \n",
      "000000001000113331    3.2447        6.0974       -1.0401            0.4885   \n",
      "000000001000119830   -6.3685        3.1551       -0.9286            0.3186   \n",
      "000000001000166806   -7.6844        2.7424        0.0352            0.1130   \n",
      "000000001000167289   -6.7535        2.0196        0.0679            0.0856   \n",
      "000000001000191237   -0.8646        1.9930        0.4150            0.1102   \n",
      "000000001000007325   -3.7299        2.0364       -0.1332            0.1565   \n",
      "000000001000015512   -8.3907        8.7009       -1.7202            0.7311   \n",
      "000000001000024943   -2.0161        0.5611        0.2222            0.0527   \n",
      "000000001000061845   -9.6599        4.1834       -1.9021            0.5139   \n",
      "000000001000065698   -4.3173        2.3803        0.1903            0.1488   \n",
      "000000001000110285   -1.5569        1.8805       -0.0996            0.1925   \n",
      "000000001000119198   -5.3217        2.6243        0.2900            0.1015   \n",
      "000000001000153506   -3.3482        0.5709        0.0280            0.0719   \n",
      "000000001000009789   43.1165       24.7601        0.4397            0.6363   \n",
      "000000001000010051  -13.6631        7.9091       -0.5807            0.5550   \n",
      "000000001000053245   -4.4430        3.0783       -0.6193            0.1834   \n",
      "000000001000054183   -4.6689        1.1312        0.1404            0.1939   \n",
      "000000001000059232   -3.3371        4.2550        0.0781            0.2756   \n",
      "000000001000080376   -6.8550        4.0595       -1.1348            0.4033   \n",
      "000000001000103655   -1.6206        1.9227       -0.3405            0.1972   \n",
      "000000001000124048    0.9277        4.5118        0.1871            0.1355   \n",
      "000000001000149709  -11.9125        5.0495       -1.4007            1.2373   \n",
      "000000001000173830   -3.9652        3.1735       -0.1215            0.6251   \n",
      "000000001000180072   -2.2365        1.7833       -0.1494            0.3616   \n",
      "000000001000184194   -3.7880        1.9559       -0.2460            0.1340   \n",
      "000000001000007079   -7.2484        1.7607       -0.9092            0.2399   \n",
      "000000001000012520   -6.2034        2.0756       -0.0934            0.1171   \n",
      "000000001000052646   -4.2211        2.6074       -0.0714            0.2768   \n",
      "000000001000054984   -5.3562        2.8958        0.3449            0.0777   \n",
      "000000001000064530   -3.9246        2.0244       -0.5962            0.2135   \n",
      "000000001000085424   -8.6088        3.9983        0.2639            0.1177   \n",
      "000000001000092325   -1.5875        1.4269       -0.4589            0.1767   \n",
      "000000001000117706   -2.2749        0.9408       -0.3653            0.3742   \n",
      "000000001000118225   -8.6165        3.6146        0.3266            0.5142   \n",
      "000000001000178382   -1.8986        0.6687       -0.4730            0.5242   \n",
      "000000001000006373   -7.1615        3.5730       -1.3680            0.7335   \n",
      "000000001000008834    0.2565        4.6025       -0.6848            0.2768   \n",
      "000000001000012569   -7.2263        2.2730        0.0991            0.1020   \n",
      "000000001000025074   -6.0840        0.8685       -0.6264            0.2755   \n",
      "000000001000050884   -3.0398        1.8438        0.1334            0.1022   \n",
      "000000001000052641   -9.2950        3.7126       -2.5527            0.4301   \n",
      "000000001000054946  -12.0449        3.0705       -1.1543            0.3772   \n",
      "000000001000054980   -8.3970        3.8287        0.3824            0.1334   \n",
      "000000001000080491  -10.5491        2.9196       -2.0312            0.3746   \n",
      "000000001000097071   -5.3877        3.8446       -2.7115            0.6430   \n",
      "000000001000123698   -4.9432        2.6475       -0.0234            0.0895   \n",
      "000000001000126096   -0.4307        4.1044       -0.1081            0.1458   \n",
      "000000001000129155  -11.2487        3.3027       -0.7615            0.4765   \n",
      "000000001000137914   -3.7717        3.6989        0.6118            0.1616   \n",
      "000000001000008124   -5.0902        2.3959        0.2388            0.2598   \n",
      "000000001000103647   -3.0323        2.0155       -0.8314            0.2116   \n",
      "000000001000118214   -8.7685        2.9555        0.2108            0.1323   \n",
      "000000001000005773   -3.6702        1.3047       -0.3334            0.2915   \n",
      "000000001000009790    3.9579       13.1456        0.6281            0.5613   \n",
      "000000001000012529   -2.4023        1.2691       -0.0133            0.0902   \n",
      "000000001000012836   -4.3270        1.7758       -0.0095            0.1318   \n",
      "\n",
      "                    Cluster_size  has_enough_stat  \n",
      "000000001000012530            15            False  \n",
      "000000001000021922            17             True  \n",
      "000000001000034762             8            False  \n",
      "000000001000125896            14            False  \n",
      "000000001000199717            19            False  \n",
      "000000001000005727            16             True  \n",
      "000000001000007327            17            False  \n",
      "000000001000007822            13            False  \n",
      "000000001000016194             9            False  \n",
      "000000001000022565             4            False  \n",
      "000000001000050787            19            False  \n",
      "000000001000116614            14            False  \n",
      "000000001000117179            18            False  \n",
      "000000001000164660            13             True  \n",
      "000000001000176734            15             True  \n",
      "000000001000178079             9            False  \n",
      "000000001000183575            17            False  \n",
      "000000001000008470            14             True  \n",
      "000000001000064521            12            False  \n",
      "000000001000084258             8            False  \n",
      "000000001000124600            18            False  \n",
      "000000001000159178            10             True  \n",
      "000000001000174312            17            False  \n",
      "000000001000174905             8            False  \n",
      "000000001000176716            19             True  \n",
      "000000001000008827            20            False  \n",
      "000000001000012659            12            False  \n",
      "000000001000012817            20             True  \n",
      "000000001000016080            15            False  \n",
      "000000001000022615            10             True  \n",
      "000000001000027423            13            False  \n",
      "000000001000032520            12             True  \n",
      "000000001000039244             6            False  \n",
      "000000001000053564            14            False  \n",
      "000000001000054998             8            False  \n",
      "000000001000091265             8             True  \n",
      "000000001000156992            16             True  \n",
      "000000001000199454             9             True  \n",
      "000000001000008474            10            False  \n",
      "000000001000008491            17            False  \n",
      "000000001000012742            15            False  \n",
      "000000001000031008             8            False  \n",
      "000000001000073238             6            False  \n",
      "000000001000076760            18            False  \n",
      "000000001000113331            11            False  \n",
      "000000001000119830            10            False  \n",
      "000000001000166806            15            False  \n",
      "000000001000167289            17             True  \n",
      "000000001000191237            14            False  \n",
      "000000001000007325            17            False  \n",
      "000000001000015512             4            False  \n",
      "000000001000024943            10             True  \n",
      "000000001000061845            11            False  \n",
      "000000001000065698            15            False  \n",
      "000000001000110285            10            False  \n",
      "000000001000119198            14            False  \n",
      "000000001000153506            14             True  \n",
      "000000001000009789            10            False  \n",
      "000000001000010051             8            False  \n",
      "000000001000053245            20            False  \n",
      "000000001000054183            19             True  \n",
      "000000001000059232            15            False  \n",
      "000000001000080376            20            False  \n",
      "000000001000103655            11            False  \n",
      "000000001000124048            12            False  \n",
      "000000001000149709             5            False  \n",
      "000000001000173830            14            False  \n",
      "000000001000180072            14            False  \n",
      "000000001000184194            16            False  \n",
      "000000001000007079            19             True  \n",
      "000000001000012520            11            False  \n",
      "000000001000052646            11            False  \n",
      "000000001000054984            11            False  \n",
      "000000001000064530            15            False  \n",
      "000000001000085424            14            False  \n",
      "000000001000092325            18            False  \n",
      "000000001000117706            17            False  \n",
      "000000001000118225            15            False  \n",
      "000000001000178382             7            False  \n",
      "000000001000006373            11            False  \n",
      "000000001000008834            15            False  \n",
      "000000001000012569            17             True  \n",
      "000000001000025074             7             True  \n",
      "000000001000050884            21            False  \n",
      "000000001000052641            11            False  \n",
      "000000001000054946            11             True  \n",
      "000000001000054980            12            False  \n",
      "000000001000080491            16             True  \n",
      "000000001000097071             5            False  \n",
      "000000001000123698            17            False  \n",
      "000000001000126096            10            False  \n",
      "000000001000129155            14             True  \n",
      "000000001000137914            11            False  \n",
      "000000001000008124             8            False  \n",
      "000000001000103647            15            False  \n",
      "000000001000118214            19            False  \n",
      "000000001000005773            17            False  \n",
      "000000001000009790             8            False  \n",
      "000000001000012529            13            False  \n",
      "000000001000012836            17            False  \n"
     ]
    },
    {
     "name": "stderr",
     "output_type": "stream",
     "text": [
      "/Users/gabriele.sabato/anaconda3/envs/pythonProject/lib/python3.8/site-packages/scipy/stats/stats.py:1603: UserWarning: kurtosistest only valid for n>=20 ... continuing anyway, n=18\n",
      "  warnings.warn(\"kurtosistest only valid for n>=20 ... continuing \"\n",
      "/Users/gabriele.sabato/anaconda3/envs/pythonProject/lib/python3.8/site-packages/scipy/stats/stats.py:1603: UserWarning: kurtosistest only valid for n>=20 ... continuing anyway, n=18\n",
      "  warnings.warn(\"kurtosistest only valid for n>=20 ... continuing \"\n",
      "/Users/gabriele.sabato/anaconda3/envs/pythonProject/lib/python3.8/site-packages/scipy/stats/stats.py:1603: UserWarning: kurtosistest only valid for n>=20 ... continuing anyway, n=18\n",
      "  warnings.warn(\"kurtosistest only valid for n>=20 ... continuing \"\n",
      "/Users/gabriele.sabato/anaconda3/envs/pythonProject/lib/python3.8/site-packages/statsmodels/stats/stattools.py:74: ValueWarning: omni_normtest is not valid with less than 8 observations; 7 samples were given.\n",
      "  warn(\"omni_normtest is not valid with less than 8 observations; %i \"\n",
      "/Users/gabriele.sabato/anaconda3/envs/pythonProject/lib/python3.8/site-packages/statsmodels/stats/stattools.py:74: ValueWarning: omni_normtest is not valid with less than 8 observations; 3 samples were given.\n",
      "  warn(\"omni_normtest is not valid with less than 8 observations; %i \"\n",
      "/Users/gabriele.sabato/anaconda3/envs/pythonProject/lib/python3.8/site-packages/statsmodels/regression/linear_model.py:1728: RuntimeWarning: divide by zero encountered in true_divide\n",
      "  return 1 - (np.divide(self.nobs - self.k_constant, self.df_resid)\n",
      "/Users/gabriele.sabato/anaconda3/envs/pythonProject/lib/python3.8/site-packages/statsmodels/regression/linear_model.py:1728: RuntimeWarning: invalid value encountered in double_scalars\n",
      "  return 1 - (np.divide(self.nobs - self.k_constant, self.df_resid)\n",
      "/Users/gabriele.sabato/anaconda3/envs/pythonProject/lib/python3.8/site-packages/statsmodels/regression/linear_model.py:1650: RuntimeWarning: divide by zero encountered in double_scalars\n",
      "  return np.dot(wresid, wresid) / self.df_resid\n",
      "/Users/gabriele.sabato/anaconda3/envs/pythonProject/lib/python3.8/site-packages/scipy/stats/stats.py:1603: UserWarning: kurtosistest only valid for n>=20 ... continuing anyway, n=14\n",
      "  warnings.warn(\"kurtosistest only valid for n>=20 ... continuing \"\n",
      "/Users/gabriele.sabato/anaconda3/envs/pythonProject/lib/python3.8/site-packages/statsmodels/stats/stattools.py:74: ValueWarning: omni_normtest is not valid with less than 8 observations; 3 samples were given.\n",
      "  warn(\"omni_normtest is not valid with less than 8 observations; %i \"\n",
      "/Users/gabriele.sabato/anaconda3/envs/pythonProject/lib/python3.8/site-packages/statsmodels/regression/linear_model.py:1728: RuntimeWarning: divide by zero encountered in true_divide\n",
      "  return 1 - (np.divide(self.nobs - self.k_constant, self.df_resid)\n",
      "/Users/gabriele.sabato/anaconda3/envs/pythonProject/lib/python3.8/site-packages/statsmodels/regression/linear_model.py:1728: RuntimeWarning: invalid value encountered in double_scalars\n",
      "  return 1 - (np.divide(self.nobs - self.k_constant, self.df_resid)\n",
      "/Users/gabriele.sabato/anaconda3/envs/pythonProject/lib/python3.8/site-packages/statsmodels/regression/linear_model.py:1650: RuntimeWarning: divide by zero encountered in double_scalars\n",
      "  return np.dot(wresid, wresid) / self.df_resid\n",
      "/Users/gabriele.sabato/anaconda3/envs/pythonProject/lib/python3.8/site-packages/scipy/stats/stats.py:1603: UserWarning: kurtosistest only valid for n>=20 ... continuing anyway, n=8\n",
      "  warnings.warn(\"kurtosistest only valid for n>=20 ... continuing \"\n",
      "/Users/gabriele.sabato/anaconda3/envs/pythonProject/lib/python3.8/site-packages/statsmodels/stats/stattools.py:74: ValueWarning: omni_normtest is not valid with less than 8 observations; 1 samples were given.\n",
      "  warn(\"omni_normtest is not valid with less than 8 observations; %i \"\n",
      "/Users/gabriele.sabato/anaconda3/envs/pythonProject/lib/python3.8/site-packages/statsmodels/regression/linear_model.py:1715: RuntimeWarning: invalid value encountered in double_scalars\n",
      "  return 1 - self.ssr/self.centered_tss\n",
      "/Users/gabriele.sabato/anaconda3/envs/pythonProject/lib/python3.8/site-packages/statsmodels/regression/linear_model.py:1728: RuntimeWarning: invalid value encountered in true_divide\n",
      "  return 1 - (np.divide(self.nobs - self.k_constant, self.df_resid)\n",
      "/Users/gabriele.sabato/anaconda3/envs/pythonProject/lib/python3.8/site-packages/statsmodels/regression/linear_model.py:762: RuntimeWarning: divide by zero encountered in log\n",
      "  llf = -np.log(SSR) * nobs2      # concentrated likelihood\n",
      "/Users/gabriele.sabato/anaconda3/envs/pythonProject/lib/python3.8/site-packages/statsmodels/stats/stattools.py:50: RuntimeWarning: invalid value encountered in double_scalars\n",
      "  dw = np.sum(diff_resids**2, axis=axis) / np.sum(resids**2, axis=axis)\n",
      "/Users/gabriele.sabato/anaconda3/envs/pythonProject/lib/python3.8/site-packages/statsmodels/regression/linear_model.py:1650: RuntimeWarning: invalid value encountered in double_scalars\n",
      "  return np.dot(wresid, wresid) / self.df_resid\n",
      "/Users/gabriele.sabato/anaconda3/envs/pythonProject/lib/python3.8/site-packages/scipy/stats/stats.py:1603: UserWarning: kurtosistest only valid for n>=20 ... continuing anyway, n=16\n",
      "  warnings.warn(\"kurtosistest only valid for n>=20 ... continuing \"\n",
      "/Users/gabriele.sabato/anaconda3/envs/pythonProject/lib/python3.8/site-packages/scipy/stats/stats.py:1603: UserWarning: kurtosistest only valid for n>=20 ... continuing anyway, n=18\n",
      "  warnings.warn(\"kurtosistest only valid for n>=20 ... continuing \"\n",
      "/Users/gabriele.sabato/anaconda3/envs/pythonProject/lib/python3.8/site-packages/scipy/stats/stats.py:1603: UserWarning: kurtosistest only valid for n>=20 ... continuing anyway, n=19\n",
      "  warnings.warn(\"kurtosistest only valid for n>=20 ... continuing \"\n",
      "/Users/gabriele.sabato/anaconda3/envs/pythonProject/lib/python3.8/site-packages/statsmodels/stats/stattools.py:74: ValueWarning: omni_normtest is not valid with less than 8 observations; 2 samples were given.\n",
      "  warn(\"omni_normtest is not valid with less than 8 observations; %i \"\n",
      "/Users/gabriele.sabato/anaconda3/envs/pythonProject/lib/python3.8/site-packages/statsmodels/regression/linear_model.py:1728: RuntimeWarning: divide by zero encountered in true_divide\n",
      "  return 1 - (np.divide(self.nobs - self.k_constant, self.df_resid)\n",
      "/Users/gabriele.sabato/anaconda3/envs/pythonProject/lib/python3.8/site-packages/statsmodels/regression/linear_model.py:1728: RuntimeWarning: invalid value encountered in double_scalars\n",
      "  return 1 - (np.divide(self.nobs - self.k_constant, self.df_resid)\n",
      "/Users/gabriele.sabato/anaconda3/envs/pythonProject/lib/python3.8/site-packages/statsmodels/regression/linear_model.py:1650: RuntimeWarning: divide by zero encountered in double_scalars\n",
      "  return np.dot(wresid, wresid) / self.df_resid\n",
      "/Users/gabriele.sabato/anaconda3/envs/pythonProject/lib/python3.8/site-packages/scipy/stats/stats.py:1603: UserWarning: kurtosistest only valid for n>=20 ... continuing anyway, n=13\n",
      "  warnings.warn(\"kurtosistest only valid for n>=20 ... continuing \"\n",
      "/Users/gabriele.sabato/anaconda3/envs/pythonProject/lib/python3.8/site-packages/statsmodels/stats/stattools.py:74: ValueWarning: omni_normtest is not valid with less than 8 observations; 3 samples were given.\n",
      "  warn(\"omni_normtest is not valid with less than 8 observations; %i \"\n",
      "/Users/gabriele.sabato/anaconda3/envs/pythonProject/lib/python3.8/site-packages/statsmodels/regression/linear_model.py:1728: RuntimeWarning: divide by zero encountered in true_divide\n",
      "  return 1 - (np.divide(self.nobs - self.k_constant, self.df_resid)\n",
      "/Users/gabriele.sabato/anaconda3/envs/pythonProject/lib/python3.8/site-packages/statsmodels/regression/linear_model.py:1728: RuntimeWarning: invalid value encountered in double_scalars\n",
      "  return 1 - (np.divide(self.nobs - self.k_constant, self.df_resid)\n",
      "/Users/gabriele.sabato/anaconda3/envs/pythonProject/lib/python3.8/site-packages/statsmodels/regression/linear_model.py:1650: RuntimeWarning: divide by zero encountered in double_scalars\n",
      "  return np.dot(wresid, wresid) / self.df_resid\n",
      "/Users/gabriele.sabato/anaconda3/envs/pythonProject/lib/python3.8/site-packages/scipy/stats/stats.py:1603: UserWarning: kurtosistest only valid for n>=20 ... continuing anyway, n=9\n",
      "  warnings.warn(\"kurtosistest only valid for n>=20 ... continuing \"\n",
      "/Users/gabriele.sabato/anaconda3/envs/pythonProject/lib/python3.8/site-packages/scipy/stats/stats.py:1603: UserWarning: kurtosistest only valid for n>=20 ... continuing anyway, n=10\n",
      "  warnings.warn(\"kurtosistest only valid for n>=20 ... continuing \"\n",
      "/Users/gabriele.sabato/anaconda3/envs/pythonProject/lib/python3.8/site-packages/scipy/stats/stats.py:1603: UserWarning: kurtosistest only valid for n>=20 ... continuing anyway, n=15\n",
      "  warnings.warn(\"kurtosistest only valid for n>=20 ... continuing \"\n",
      "/Users/gabriele.sabato/anaconda3/envs/pythonProject/lib/python3.8/site-packages/statsmodels/stats/stattools.py:74: ValueWarning: omni_normtest is not valid with less than 8 observations; 1 samples were given.\n",
      "  warn(\"omni_normtest is not valid with less than 8 observations; %i \"\n",
      "/Users/gabriele.sabato/anaconda3/envs/pythonProject/lib/python3.8/site-packages/statsmodels/regression/linear_model.py:1715: RuntimeWarning: invalid value encountered in double_scalars\n",
      "  return 1 - self.ssr/self.centered_tss\n",
      "/Users/gabriele.sabato/anaconda3/envs/pythonProject/lib/python3.8/site-packages/statsmodels/regression/linear_model.py:1728: RuntimeWarning: invalid value encountered in true_divide\n",
      "  return 1 - (np.divide(self.nobs - self.k_constant, self.df_resid)\n",
      "/Users/gabriele.sabato/anaconda3/envs/pythonProject/lib/python3.8/site-packages/statsmodels/regression/linear_model.py:762: RuntimeWarning: divide by zero encountered in log\n",
      "  llf = -np.log(SSR) * nobs2      # concentrated likelihood\n",
      "/Users/gabriele.sabato/anaconda3/envs/pythonProject/lib/python3.8/site-packages/statsmodels/stats/stattools.py:50: RuntimeWarning: invalid value encountered in double_scalars\n",
      "  dw = np.sum(diff_resids**2, axis=axis) / np.sum(resids**2, axis=axis)\n",
      "/Users/gabriele.sabato/anaconda3/envs/pythonProject/lib/python3.8/site-packages/statsmodels/regression/linear_model.py:1650: RuntimeWarning: invalid value encountered in double_scalars\n",
      "  return np.dot(wresid, wresid) / self.df_resid\n",
      "/Users/gabriele.sabato/anaconda3/envs/pythonProject/lib/python3.8/site-packages/statsmodels/stats/stattools.py:74: ValueWarning: omni_normtest is not valid with less than 8 observations; 2 samples were given.\n",
      "  warn(\"omni_normtest is not valid with less than 8 observations; %i \"\n",
      "/Users/gabriele.sabato/anaconda3/envs/pythonProject/lib/python3.8/site-packages/statsmodels/regression/linear_model.py:1728: RuntimeWarning: divide by zero encountered in true_divide\n",
      "  return 1 - (np.divide(self.nobs - self.k_constant, self.df_resid)\n",
      "/Users/gabriele.sabato/anaconda3/envs/pythonProject/lib/python3.8/site-packages/statsmodels/regression/linear_model.py:1728: RuntimeWarning: invalid value encountered in double_scalars\n",
      "  return 1 - (np.divide(self.nobs - self.k_constant, self.df_resid)\n",
      "/Users/gabriele.sabato/anaconda3/envs/pythonProject/lib/python3.8/site-packages/statsmodels/regression/linear_model.py:1650: RuntimeWarning: divide by zero encountered in double_scalars\n",
      "  return np.dot(wresid, wresid) / self.df_resid\n",
      "/Users/gabriele.sabato/anaconda3/envs/pythonProject/lib/python3.8/site-packages/scipy/stats/stats.py:1603: UserWarning: kurtosistest only valid for n>=20 ... continuing anyway, n=10\n",
      "  warnings.warn(\"kurtosistest only valid for n>=20 ... continuing \"\n",
      "/Users/gabriele.sabato/anaconda3/envs/pythonProject/lib/python3.8/site-packages/scipy/stats/stats.py:1603: UserWarning: kurtosistest only valid for n>=20 ... continuing anyway, n=11\n",
      "  warnings.warn(\"kurtosistest only valid for n>=20 ... continuing \"\n",
      "/Users/gabriele.sabato/anaconda3/envs/pythonProject/lib/python3.8/site-packages/scipy/stats/stats.py:1603: UserWarning: kurtosistest only valid for n>=20 ... continuing anyway, n=17\n",
      "  warnings.warn(\"kurtosistest only valid for n>=20 ... continuing \"\n",
      "/Users/gabriele.sabato/anaconda3/envs/pythonProject/lib/python3.8/site-packages/statsmodels/stats/stattools.py:74: ValueWarning: omni_normtest is not valid with less than 8 observations; 6 samples were given.\n",
      "  warn(\"omni_normtest is not valid with less than 8 observations; %i \"\n",
      "/Users/gabriele.sabato/anaconda3/envs/pythonProject/lib/python3.8/site-packages/statsmodels/stats/stattools.py:74: ValueWarning: omni_normtest is not valid with less than 8 observations; 6 samples were given.\n",
      "  warn(\"omni_normtest is not valid with less than 8 observations; %i \"\n",
      "/Users/gabriele.sabato/anaconda3/envs/pythonProject/lib/python3.8/site-packages/statsmodels/stats/stattools.py:74: ValueWarning: omni_normtest is not valid with less than 8 observations; 7 samples were given.\n",
      "  warn(\"omni_normtest is not valid with less than 8 observations; %i \"\n",
      "/Users/gabriele.sabato/anaconda3/envs/pythonProject/lib/python3.8/site-packages/scipy/stats/stats.py:1603: UserWarning: kurtosistest only valid for n>=20 ... continuing anyway, n=9\n",
      "  warnings.warn(\"kurtosistest only valid for n>=20 ... continuing \"\n",
      "/Users/gabriele.sabato/anaconda3/envs/pythonProject/lib/python3.8/site-packages/scipy/stats/stats.py:1603: UserWarning: kurtosistest only valid for n>=20 ... continuing anyway, n=8\n",
      "  warnings.warn(\"kurtosistest only valid for n>=20 ... continuing \"\n",
      "/Users/gabriele.sabato/anaconda3/envs/pythonProject/lib/python3.8/site-packages/statsmodels/stats/stattools.py:74: ValueWarning: omni_normtest is not valid with less than 8 observations; 7 samples were given.\n",
      "  warn(\"omni_normtest is not valid with less than 8 observations; %i \"\n",
      "/Users/gabriele.sabato/anaconda3/envs/pythonProject/lib/python3.8/site-packages/scipy/stats/stats.py:1603: UserWarning: kurtosistest only valid for n>=20 ... continuing anyway, n=8\n",
      "  warnings.warn(\"kurtosistest only valid for n>=20 ... continuing \"\n",
      "/Users/gabriele.sabato/anaconda3/envs/pythonProject/lib/python3.8/site-packages/statsmodels/stats/stattools.py:74: ValueWarning: omni_normtest is not valid with less than 8 observations; 5 samples were given.\n",
      "  warn(\"omni_normtest is not valid with less than 8 observations; %i \"\n",
      "/Users/gabriele.sabato/anaconda3/envs/pythonProject/lib/python3.8/site-packages/statsmodels/stats/stattools.py:74: ValueWarning: omni_normtest is not valid with less than 8 observations; 5 samples were given.\n",
      "  warn(\"omni_normtest is not valid with less than 8 observations; %i \"\n",
      "/Users/gabriele.sabato/anaconda3/envs/pythonProject/lib/python3.8/site-packages/statsmodels/stats/stattools.py:74: ValueWarning: omni_normtest is not valid with less than 8 observations; 2 samples were given.\n",
      "  warn(\"omni_normtest is not valid with less than 8 observations; %i \"\n",
      "/Users/gabriele.sabato/anaconda3/envs/pythonProject/lib/python3.8/site-packages/statsmodels/regression/linear_model.py:1728: RuntimeWarning: divide by zero encountered in true_divide\n",
      "  return 1 - (np.divide(self.nobs - self.k_constant, self.df_resid)\n",
      "/Users/gabriele.sabato/anaconda3/envs/pythonProject/lib/python3.8/site-packages/statsmodels/regression/linear_model.py:1728: RuntimeWarning: invalid value encountered in double_scalars\n",
      "  return 1 - (np.divide(self.nobs - self.k_constant, self.df_resid)\n",
      "/Users/gabriele.sabato/anaconda3/envs/pythonProject/lib/python3.8/site-packages/statsmodels/regression/linear_model.py:1650: RuntimeWarning: divide by zero encountered in double_scalars\n",
      "  return np.dot(wresid, wresid) / self.df_resid\n",
      "/Users/gabriele.sabato/anaconda3/envs/pythonProject/lib/python3.8/site-packages/scipy/stats/stats.py:1603: UserWarning: kurtosistest only valid for n>=20 ... continuing anyway, n=12\n",
      "  warnings.warn(\"kurtosistest only valid for n>=20 ... continuing \"\n",
      "/Users/gabriele.sabato/anaconda3/envs/pythonProject/lib/python3.8/site-packages/statsmodels/stats/stattools.py:74: ValueWarning: omni_normtest is not valid with less than 8 observations; 2 samples were given.\n",
      "  warn(\"omni_normtest is not valid with less than 8 observations; %i \"\n",
      "/Users/gabriele.sabato/anaconda3/envs/pythonProject/lib/python3.8/site-packages/statsmodels/regression/linear_model.py:1728: RuntimeWarning: divide by zero encountered in true_divide\n",
      "  return 1 - (np.divide(self.nobs - self.k_constant, self.df_resid)\n",
      "/Users/gabriele.sabato/anaconda3/envs/pythonProject/lib/python3.8/site-packages/statsmodels/regression/linear_model.py:1728: RuntimeWarning: invalid value encountered in double_scalars\n",
      "  return 1 - (np.divide(self.nobs - self.k_constant, self.df_resid)\n",
      "/Users/gabriele.sabato/anaconda3/envs/pythonProject/lib/python3.8/site-packages/statsmodels/regression/linear_model.py:1650: RuntimeWarning: divide by zero encountered in double_scalars\n",
      "  return np.dot(wresid, wresid) / self.df_resid\n",
      "/Users/gabriele.sabato/anaconda3/envs/pythonProject/lib/python3.8/site-packages/scipy/stats/stats.py:1603: UserWarning: kurtosistest only valid for n>=20 ... continuing anyway, n=15\n",
      "  warnings.warn(\"kurtosistest only valid for n>=20 ... continuing \"\n",
      "/Users/gabriele.sabato/anaconda3/envs/pythonProject/lib/python3.8/site-packages/statsmodels/stats/stattools.py:74: ValueWarning: omni_normtest is not valid with less than 8 observations; 4 samples were given.\n",
      "  warn(\"omni_normtest is not valid with less than 8 observations; %i \"\n",
      "/Users/gabriele.sabato/anaconda3/envs/pythonProject/lib/python3.8/site-packages/scipy/stats/stats.py:1603: UserWarning: kurtosistest only valid for n>=20 ... continuing anyway, n=9\n",
      "  warnings.warn(\"kurtosistest only valid for n>=20 ... continuing \"\n",
      "/Users/gabriele.sabato/anaconda3/envs/pythonProject/lib/python3.8/site-packages/statsmodels/stats/stattools.py:74: ValueWarning: omni_normtest is not valid with less than 8 observations; 5 samples were given.\n",
      "  warn(\"omni_normtest is not valid with less than 8 observations; %i \"\n",
      "/Users/gabriele.sabato/anaconda3/envs/pythonProject/lib/python3.8/site-packages/scipy/stats/stats.py:1603: UserWarning: kurtosistest only valid for n>=20 ... continuing anyway, n=18\n",
      "  warnings.warn(\"kurtosistest only valid for n>=20 ... continuing \"\n",
      "/Users/gabriele.sabato/anaconda3/envs/pythonProject/lib/python3.8/site-packages/scipy/stats/stats.py:1603: UserWarning: kurtosistest only valid for n>=20 ... continuing anyway, n=9\n",
      "  warnings.warn(\"kurtosistest only valid for n>=20 ... continuing \"\n",
      "/Users/gabriele.sabato/anaconda3/envs/pythonProject/lib/python3.8/site-packages/scipy/stats/stats.py:1603: UserWarning: kurtosistest only valid for n>=20 ... continuing anyway, n=14\n",
      "  warnings.warn(\"kurtosistest only valid for n>=20 ... continuing \"\n",
      "/Users/gabriele.sabato/anaconda3/envs/pythonProject/lib/python3.8/site-packages/scipy/stats/stats.py:1603: UserWarning: kurtosistest only valid for n>=20 ... continuing anyway, n=9\n",
      "  warnings.warn(\"kurtosistest only valid for n>=20 ... continuing \"\n",
      "/Users/gabriele.sabato/anaconda3/envs/pythonProject/lib/python3.8/site-packages/scipy/stats/stats.py:1603: UserWarning: kurtosistest only valid for n>=20 ... continuing anyway, n=16\n",
      "  warnings.warn(\"kurtosistest only valid for n>=20 ... continuing \"\n",
      "/Users/gabriele.sabato/anaconda3/envs/pythonProject/lib/python3.8/site-packages/scipy/stats/stats.py:1603: UserWarning: kurtosistest only valid for n>=20 ... continuing anyway, n=8\n",
      "  warnings.warn(\"kurtosistest only valid for n>=20 ... continuing \"\n",
      "/Users/gabriele.sabato/anaconda3/envs/pythonProject/lib/python3.8/site-packages/scipy/stats/stats.py:1603: UserWarning: kurtosistest only valid for n>=20 ... continuing anyway, n=17\n",
      "  warnings.warn(\"kurtosistest only valid for n>=20 ... continuing \"\n",
      "/Users/gabriele.sabato/anaconda3/envs/pythonProject/lib/python3.8/site-packages/statsmodels/stats/stattools.py:74: ValueWarning: omni_normtest is not valid with less than 8 observations; 2 samples were given.\n",
      "  warn(\"omni_normtest is not valid with less than 8 observations; %i \"\n",
      "/Users/gabriele.sabato/anaconda3/envs/pythonProject/lib/python3.8/site-packages/statsmodels/regression/linear_model.py:1728: RuntimeWarning: divide by zero encountered in true_divide\n",
      "  return 1 - (np.divide(self.nobs - self.k_constant, self.df_resid)\n",
      "/Users/gabriele.sabato/anaconda3/envs/pythonProject/lib/python3.8/site-packages/statsmodels/regression/linear_model.py:1728: RuntimeWarning: invalid value encountered in double_scalars\n",
      "  return 1 - (np.divide(self.nobs - self.k_constant, self.df_resid)\n",
      "/Users/gabriele.sabato/anaconda3/envs/pythonProject/lib/python3.8/site-packages/statsmodels/regression/linear_model.py:1650: RuntimeWarning: divide by zero encountered in double_scalars\n",
      "  return np.dot(wresid, wresid) / self.df_resid\n",
      "/Users/gabriele.sabato/anaconda3/envs/pythonProject/lib/python3.8/site-packages/scipy/stats/stats.py:1603: UserWarning: kurtosistest only valid for n>=20 ... continuing anyway, n=13\n",
      "  warnings.warn(\"kurtosistest only valid for n>=20 ... continuing \"\n",
      "/Users/gabriele.sabato/anaconda3/envs/pythonProject/lib/python3.8/site-packages/scipy/stats/stats.py:1603: UserWarning: kurtosistest only valid for n>=20 ... continuing anyway, n=10\n",
      "  warnings.warn(\"kurtosistest only valid for n>=20 ... continuing \"\n",
      "/Users/gabriele.sabato/anaconda3/envs/pythonProject/lib/python3.8/site-packages/scipy/stats/stats.py:1603: UserWarning: kurtosistest only valid for n>=20 ... continuing anyway, n=14\n",
      "  warnings.warn(\"kurtosistest only valid for n>=20 ... continuing \"\n",
      "/Users/gabriele.sabato/anaconda3/envs/pythonProject/lib/python3.8/site-packages/scipy/stats/stats.py:1603: UserWarning: kurtosistest only valid for n>=20 ... continuing anyway, n=17\n",
      "  warnings.warn(\"kurtosistest only valid for n>=20 ... continuing \"\n",
      "/Users/gabriele.sabato/anaconda3/envs/pythonProject/lib/python3.8/site-packages/scipy/stats/stats.py:1603: UserWarning: kurtosistest only valid for n>=20 ... continuing anyway, n=9\n",
      "  warnings.warn(\"kurtosistest only valid for n>=20 ... continuing \"\n",
      "/Users/gabriele.sabato/anaconda3/envs/pythonProject/lib/python3.8/site-packages/scipy/stats/stats.py:1603: UserWarning: kurtosistest only valid for n>=20 ... continuing anyway, n=15\n",
      "  warnings.warn(\"kurtosistest only valid for n>=20 ... continuing \"\n",
      "/Users/gabriele.sabato/anaconda3/envs/pythonProject/lib/python3.8/site-packages/statsmodels/stats/stattools.py:74: ValueWarning: omni_normtest is not valid with less than 8 observations; 3 samples were given.\n",
      "  warn(\"omni_normtest is not valid with less than 8 observations; %i \"\n",
      "/Users/gabriele.sabato/anaconda3/envs/pythonProject/lib/python3.8/site-packages/statsmodels/regression/linear_model.py:1728: RuntimeWarning: divide by zero encountered in true_divide\n",
      "  return 1 - (np.divide(self.nobs - self.k_constant, self.df_resid)\n",
      "/Users/gabriele.sabato/anaconda3/envs/pythonProject/lib/python3.8/site-packages/statsmodels/regression/linear_model.py:1728: RuntimeWarning: invalid value encountered in double_scalars\n",
      "  return 1 - (np.divide(self.nobs - self.k_constant, self.df_resid)\n",
      "/Users/gabriele.sabato/anaconda3/envs/pythonProject/lib/python3.8/site-packages/statsmodels/regression/linear_model.py:1650: RuntimeWarning: divide by zero encountered in double_scalars\n",
      "  return np.dot(wresid, wresid) / self.df_resid\n",
      "/Users/gabriele.sabato/anaconda3/envs/pythonProject/lib/python3.8/site-packages/statsmodels/stats/stattools.py:74: ValueWarning: omni_normtest is not valid with less than 8 observations; 5 samples were given.\n",
      "  warn(\"omni_normtest is not valid with less than 8 observations; %i \"\n",
      "/Users/gabriele.sabato/anaconda3/envs/pythonProject/lib/python3.8/site-packages/scipy/stats/stats.py:1603: UserWarning: kurtosistest only valid for n>=20 ... continuing anyway, n=18\n",
      "  warnings.warn(\"kurtosistest only valid for n>=20 ... continuing \"\n",
      "/Users/gabriele.sabato/anaconda3/envs/pythonProject/lib/python3.8/site-packages/scipy/stats/stats.py:1603: UserWarning: kurtosistest only valid for n>=20 ... continuing anyway, n=13\n",
      "  warnings.warn(\"kurtosistest only valid for n>=20 ... continuing \"\n",
      "/Users/gabriele.sabato/anaconda3/envs/pythonProject/lib/python3.8/site-packages/scipy/stats/stats.py:1603: UserWarning: kurtosistest only valid for n>=20 ... continuing anyway, n=16\n",
      "  warnings.warn(\"kurtosistest only valid for n>=20 ... continuing \"\n",
      "/Users/gabriele.sabato/anaconda3/envs/pythonProject/lib/python3.8/site-packages/scipy/stats/stats.py:1603: UserWarning: kurtosistest only valid for n>=20 ... continuing anyway, n=10\n",
      "  warnings.warn(\"kurtosistest only valid for n>=20 ... continuing \"\n",
      "/Users/gabriele.sabato/anaconda3/envs/pythonProject/lib/python3.8/site-packages/scipy/stats/stats.py:1603: UserWarning: kurtosistest only valid for n>=20 ... continuing anyway, n=15\n",
      "  warnings.warn(\"kurtosistest only valid for n>=20 ... continuing \"\n",
      "/Users/gabriele.sabato/anaconda3/envs/pythonProject/lib/python3.8/site-packages/statsmodels/stats/stattools.py:74: ValueWarning: omni_normtest is not valid with less than 8 observations; 3 samples were given.\n",
      "  warn(\"omni_normtest is not valid with less than 8 observations; %i \"\n",
      "/Users/gabriele.sabato/anaconda3/envs/pythonProject/lib/python3.8/site-packages/statsmodels/regression/linear_model.py:1728: RuntimeWarning: divide by zero encountered in true_divide\n",
      "  return 1 - (np.divide(self.nobs - self.k_constant, self.df_resid)\n",
      "/Users/gabriele.sabato/anaconda3/envs/pythonProject/lib/python3.8/site-packages/statsmodels/regression/linear_model.py:1728: RuntimeWarning: invalid value encountered in double_scalars\n",
      "  return 1 - (np.divide(self.nobs - self.k_constant, self.df_resid)\n",
      "/Users/gabriele.sabato/anaconda3/envs/pythonProject/lib/python3.8/site-packages/statsmodels/regression/linear_model.py:1650: RuntimeWarning: divide by zero encountered in double_scalars\n",
      "  return np.dot(wresid, wresid) / self.df_resid\n",
      "/Users/gabriele.sabato/anaconda3/envs/pythonProject/lib/python3.8/site-packages/statsmodels/stats/stattools.py:74: ValueWarning: omni_normtest is not valid with less than 8 observations; 1 samples were given.\n",
      "  warn(\"omni_normtest is not valid with less than 8 observations; %i \"\n",
      "/Users/gabriele.sabato/anaconda3/envs/pythonProject/lib/python3.8/site-packages/statsmodels/regression/linear_model.py:1728: RuntimeWarning: invalid value encountered in true_divide\n",
      "  return 1 - (np.divide(self.nobs - self.k_constant, self.df_resid)\n",
      "/Users/gabriele.sabato/anaconda3/envs/pythonProject/lib/python3.8/site-packages/statsmodels/regression/linear_model.py:1650: RuntimeWarning: divide by zero encountered in double_scalars\n",
      "  return np.dot(wresid, wresid) / self.df_resid\n",
      "/Users/gabriele.sabato/anaconda3/envs/pythonProject/lib/python3.8/site-packages/statsmodels/stats/stattools.py:74: ValueWarning: omni_normtest is not valid with less than 8 observations; 6 samples were given.\n",
      "  warn(\"omni_normtest is not valid with less than 8 observations; %i \"\n",
      "/Users/gabriele.sabato/anaconda3/envs/pythonProject/lib/python3.8/site-packages/scipy/stats/stats.py:1603: UserWarning: kurtosistest only valid for n>=20 ... continuing anyway, n=14\n",
      "  warnings.warn(\"kurtosistest only valid for n>=20 ... continuing \"\n",
      "/Users/gabriele.sabato/anaconda3/envs/pythonProject/lib/python3.8/site-packages/statsmodels/stats/stattools.py:74: ValueWarning: omni_normtest is not valid with less than 8 observations; 4 samples were given.\n",
      "  warn(\"omni_normtest is not valid with less than 8 observations; %i \"\n",
      "/Users/gabriele.sabato/anaconda3/envs/pythonProject/lib/python3.8/site-packages/statsmodels/stats/stattools.py:74: ValueWarning: omni_normtest is not valid with less than 8 observations; 6 samples were given.\n",
      "  warn(\"omni_normtest is not valid with less than 8 observations; %i \"\n"
     ]
    }
   ],
   "source": [
    "df_result = pd.DataFrame()\n",
    "\n",
    "map_of_maps_of_df = {}\n",
    "#print('Cut on PDP, sim_score, result = ')\n",
    "for PDP_cut in df_PDP_bin_filt.keys():\n",
    "    for score_cut in  map_of_map_of_items.keys():\n",
    "        map_of_dfs = create_map_of_dataframes(map_of_map_of_items[score_cut],df=df_PDP_bin_filt[PDP_cut])\n",
    "        map_of_maps_of_df[PDP_cut] = map_of_dfs\n",
    "        print(f'Number of items passing the PE cut {len(map_of_dfs)}')\n",
    "        map_result = {}\n",
    "        #print(\"Model used: conv_rate ~ log_price + log_delivery_weeks + C(item_code)\\n\")\n",
    "        map_items_stat = {}\n",
    "        for key in map_of_dfs.keys():\n",
    "            #map_of_dfs[key].head()\n",
    "            map_items_stat[key] = run_model(key, map_of_dfs[key], map_result)\n",
    "            #print(map_result)\n",
    "        items_stat_series = pd.Series(map_items_stat)\n",
    "        #print(map_items_stat)\n",
    "        #print(items_stat_series)\n",
    "        x,y, y_err, rel_err = {'True':[],'False':[]},{'True':[],'False':[]},{'True':[],'False':[]},{'True':[],'False':[]}\n",
    "        for i_code,flag in items_stat_series.items():\n",
    "        #flag=T\n",
    "            if flag == True:\n",
    "                y['True'].append(map_result[i_code][0])\n",
    "                y_err['True'].append(map_result[i_code][1])\n",
    "                x['True'].append(map_result[i_code][-2])\n",
    "                #print('True',map_result[i_code][0],map_result[i_code][1])\n",
    "                rel_err['True'].append(abs(map_result[i_code][1]/map_result[i_code][0]))\n",
    "\n",
    "            else:\n",
    "                y['False'].append(map_result[i_code][0])\n",
    "                y_err['False'].append(map_result[i_code][1])\n",
    "                x['False'].append(map_result[i_code][-2])\n",
    "                #print('False',map_result[i_code][0],map_result[i_code][1])\n",
    "                rel_err['False'].append(abs(map_result[i_code][1]/map_result[i_code][0]))\n",
    "\n",
    "                continue\n",
    "        #print(f'{PDP_cut},{score_cut} , {len(x)}')\n",
    "        df_result = pd.DataFrame.from_dict(map_result, orient='index', columns = ['Sales_PE', 'Sales_PE_err', 'log_del_week', 'log_del_week_err', 'Cluster_size', 'has_enough_stat'])\n",
    "        print (df_result.head(100))"
   ]
  },
  {
   "cell_type": "code",
   "execution_count": 24,
   "outputs": [
    {
     "data": {
      "text/plain": "4181"
     },
     "execution_count": 24,
     "metadata": {},
     "output_type": "execute_result"
    }
   ],
   "source": [
    "len(df_result.index)"
   ],
   "metadata": {
    "collapsed": false,
    "pycharm": {
     "name": "#%%\n"
    }
   }
  },
  {
   "cell_type": "code",
   "execution_count": 25,
   "outputs": [],
   "source": [
    "df_result_true = df_result[df_result['has_enough_stat']==True]"
   ],
   "metadata": {
    "collapsed": false,
    "pycharm": {
     "name": "#%%\n"
    }
   }
  },
  {
   "cell_type": "code",
   "execution_count": 26,
   "outputs": [
    {
     "name": "stdout",
     "output_type": "stream",
     "text": [
      "48.3576 -47.5047\n"
     ]
    }
   ],
   "source": [
    "print(df_result_true['Sales_PE'].max(),df_result_true['Sales_PE'].min())"
   ],
   "metadata": {
    "collapsed": false,
    "pycharm": {
     "name": "#%%\n"
    }
   }
  },
  {
   "cell_type": "code",
   "execution_count": 27,
   "outputs": [
    {
     "name": "stdout",
     "output_type": "stream",
     "text": [
      "000000001000119266    48.3576\n",
      "000000001000128816    32.6864\n",
      "000000001000080472     0.2994\n",
      "000000001000080481     0.2992\n",
      "000000001000196335    -0.9367\n",
      "Name: Sales_PE, dtype: float64 \n",
      " 000000001000123336   -47.5047\n",
      "000000001000009278   -34.9123\n",
      "000000001000009867   -33.0342\n",
      "000000001000125632   -28.8310\n",
      "000000001000031306   -23.1860\n",
      "Name: Sales_PE, dtype: float64\n"
     ]
    }
   ],
   "source": [
    "print(df_result_true['Sales_PE'].nlargest(5),'\\n',df_result_true['Sales_PE'].nsmallest(5) )"
   ],
   "metadata": {
    "collapsed": false,
    "pycharm": {
     "name": "#%%\n"
    }
   }
  },
  {
   "cell_type": "code",
   "execution_count": 28,
   "outputs": [],
   "source": [
    "df_result_true = df_result_true[(df_result_true['Sales_PE'] < 0.)]"
   ],
   "metadata": {
    "collapsed": false,
    "pycharm": {
     "name": "#%%\n"
    }
   }
  },
  {
   "cell_type": "code",
   "execution_count": 29,
   "outputs": [
    {
     "name": "stdout",
     "output_type": "stream",
     "text": [
      "-6.642132061978545\n"
     ]
    }
   ],
   "source": [
    "print(df_result_true['Sales_PE'].mean())"
   ],
   "metadata": {
    "collapsed": false,
    "pycharm": {
     "name": "#%%\n"
    }
   }
  },
  {
   "cell_type": "code",
   "execution_count": 30,
   "outputs": [],
   "source": [
    "import math"
   ],
   "metadata": {
    "collapsed": false,
    "pycharm": {
     "name": "#%%\n"
    }
   }
  },
  {
   "cell_type": "code",
   "execution_count": 31,
   "outputs": [
    {
     "name": "stdout",
     "output_type": "stream",
     "text": [
      "0.1528508449718939\n"
     ]
    }
   ],
   "source": [
    "print(df_result_true['Sales_PE'].std()/math.sqrt(len(df_result_true.index)))"
   ],
   "metadata": {
    "collapsed": false,
    "pycharm": {
     "name": "#%%\n"
    }
   }
  },
  {
   "cell_type": "code",
   "execution_count": 32,
   "outputs": [
    {
     "data": {
      "text/plain": "Empty DataFrame\nColumns: [Sales_PE, Sales_PE_err, log_del_week, log_del_week_err, Cluster_size, has_enough_stat]\nIndex: []",
      "text/html": "<div>\n<style scoped>\n    .dataframe tbody tr th:only-of-type {\n        vertical-align: middle;\n    }\n\n    .dataframe tbody tr th {\n        vertical-align: top;\n    }\n\n    .dataframe thead th {\n        text-align: right;\n    }\n</style>\n<table border=\"1\" class=\"dataframe\">\n  <thead>\n    <tr style=\"text-align: right;\">\n      <th></th>\n      <th>Sales_PE</th>\n      <th>Sales_PE_err</th>\n      <th>log_del_week</th>\n      <th>log_del_week_err</th>\n      <th>Cluster_size</th>\n      <th>has_enough_stat</th>\n    </tr>\n  </thead>\n  <tbody>\n  </tbody>\n</table>\n</div>"
     },
     "execution_count": 32,
     "metadata": {},
     "output_type": "execute_result"
    }
   ],
   "source": [
    "df_result_true[df_result_true['Sales_PE'].isna()]"
   ],
   "metadata": {
    "collapsed": false,
    "pycharm": {
     "name": "#%%\n"
    }
   }
  },
  {
   "cell_type": "code",
   "execution_count": 33,
   "outputs": [],
   "source": [
    "df_result_true_final = df_result_true[['Sales_PE','Sales_PE_err']]"
   ],
   "metadata": {
    "collapsed": false,
    "pycharm": {
     "name": "#%%\n"
    }
   }
  },
  {
   "cell_type": "code",
   "execution_count": 34,
   "outputs": [
    {
     "data": {
      "text/plain": "                    Sales_PE  Sales_PE_err\n000000001000021922   -6.5170        1.1057\n000000001000005727   -2.6853        0.8351\n000000001000164660   -9.4314        2.6096\n000000001000176734   -3.0015        0.9799\n000000001000008470   -5.8561        1.6480",
      "text/html": "<div>\n<style scoped>\n    .dataframe tbody tr th:only-of-type {\n        vertical-align: middle;\n    }\n\n    .dataframe tbody tr th {\n        vertical-align: top;\n    }\n\n    .dataframe thead th {\n        text-align: right;\n    }\n</style>\n<table border=\"1\" class=\"dataframe\">\n  <thead>\n    <tr style=\"text-align: right;\">\n      <th></th>\n      <th>Sales_PE</th>\n      <th>Sales_PE_err</th>\n    </tr>\n  </thead>\n  <tbody>\n    <tr>\n      <th>000000001000021922</th>\n      <td>-6.5170</td>\n      <td>1.1057</td>\n    </tr>\n    <tr>\n      <th>000000001000005727</th>\n      <td>-2.6853</td>\n      <td>0.8351</td>\n    </tr>\n    <tr>\n      <th>000000001000164660</th>\n      <td>-9.4314</td>\n      <td>2.6096</td>\n    </tr>\n    <tr>\n      <th>000000001000176734</th>\n      <td>-3.0015</td>\n      <td>0.9799</td>\n    </tr>\n    <tr>\n      <th>000000001000008470</th>\n      <td>-5.8561</td>\n      <td>1.6480</td>\n    </tr>\n  </tbody>\n</table>\n</div>"
     },
     "execution_count": 34,
     "metadata": {},
     "output_type": "execute_result"
    }
   ],
   "source": [
    "df_result_true_final.head()\n"
   ],
   "metadata": {
    "collapsed": false,
    "pycharm": {
     "name": "#%%\n"
    }
   }
  },
  {
   "cell_type": "code",
   "execution_count": 35,
   "outputs": [],
   "source": [
    "df_result_true_final.to_csv('./../raw_data/Excel_files/Top5k_Sales_PE.csv')\n"
   ],
   "metadata": {
    "collapsed": false,
    "pycharm": {
     "name": "#%%\n"
    }
   }
  },
  {
   "cell_type": "code",
   "execution_count": null,
   "outputs": [],
   "source": [],
   "metadata": {
    "collapsed": false,
    "pycharm": {
     "name": "#%%\n"
    }
   }
  }
 ],
 "metadata": {
  "kernelspec": {
   "display_name": "Python 3",
   "language": "python",
   "name": "python3"
  },
  "language_info": {
   "codemirror_mode": {
    "name": "ipython",
    "version": 3
   },
   "file_extension": ".py",
   "mimetype": "text/x-python",
   "name": "python",
   "nbconvert_exporter": "python",
   "pygments_lexer": "ipython3",
   "version": "3.9.2"
  }
 },
 "nbformat": 4,
 "nbformat_minor": 1
}