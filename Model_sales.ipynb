{
 "cells": [
  {
   "cell_type": "code",
   "execution_count": 13,
   "metadata": {
    "pycharm": {
     "name": "#%%\n"
    }
   },
   "outputs": [],
   "source": [
    "\n",
    "from pyspark.sql import SparkSession\n",
    "#from pyspark.sql.functions import *\n",
    "spark = SparkSession.builder.master('local').config('spark.driver.memory', '8g').appName('Ready_for_analysis').getOrCreate()\n",
    "\n"
   ]
  },
  {
   "cell_type": "code",
   "execution_count": 14,
   "metadata": {
    "pycharm": {
     "name": "#%%\n"
    }
   },
   "outputs": [
    {
     "data": {
      "text/plain": "<IPython.core.display.HTML object>",
      "text/html": "<style>.container { width:100% !important; }</style>"
     },
     "metadata": {},
     "output_type": "display_data"
    }
   ],
   "source": [
    "\n",
    "#IMPORTING SETUP PACKAGES\n",
    "import statsmodels.formula.api as smf\n",
    "import pandas as pd\n",
    "import numpy as np\n",
    "\n",
    "%matplotlib inline\n",
    "import matplotlib.pyplot as plt\n",
    "plt.style.use('seaborn-whitegrid')\n",
    "\n",
    "from IPython.core.display import display, HTML\n",
    "display(HTML(\"<style>.container { width:100% !important; }</style>\"))\n",
    "\n",
    "pd.set_option('display.max_rows', 500)\n",
    "\n"
   ]
  },
  {
   "cell_type": "code",
   "execution_count": 15,
   "metadata": {
    "pycharm": {
     "name": "#%%\n"
    }
   },
   "outputs": [],
   "source": [
    "number_of_top_items = '5000'\n",
    "plot_name = number_of_top_items[0] + 'k'\n",
    "\n",
    "#print(plot_name)\n",
    "\n",
    "df = pd.read_pickle('/Users/gabriele.sabato/PycharmProjects/raw_data/DataFrames/Top'+number_of_top_items+'_seller_YTD_group_by_item_visit_20210503.pickle')\n"
   ]
  },
  {
   "cell_type": "code",
   "execution_count": 16,
   "metadata": {
    "pycharm": {
     "name": "#%%q\n"
    }
   },
   "outputs": [
    {
     "name": "stdout",
     "output_type": "stream",
     "text": [
      "min_date                         object\n",
      "max_date                         object\n",
      "item_code                        object\n",
      "item_price                      float64\n",
      "delivery_weeks                    int64\n",
      "avg_sales                       float64\n",
      "avg_unique_views                float64\n",
      "avg_sessions                    float64\n",
      "avg_marketing_cost_spend        float64\n",
      "conv_rate                       float64\n",
      "bin                               int32\n",
      "item_parent_item_code            object\n",
      "item_main_category               object\n",
      "item_sub_category_1              object\n",
      "item_sub_category_2              object\n",
      "log_price                       float64\n",
      "log_delivery_weeks              float64\n",
      "log_sales                       float64\n",
      "log_avg_unique_views            float64\n",
      "log_conv_rate                   float64\n",
      "log_avg_sessions                float64\n",
      "log_avg_marketing_cost_spend    float64\n",
      "dtype: object\n"
     ]
    }
   ],
   "source": [
    "print(df.dtypes)"
   ]
  },
  {
   "cell_type": "code",
   "execution_count": 17,
   "metadata": {
    "pycharm": {
     "name": "#%%\n"
    }
   },
   "outputs": [],
   "source": [
    "def filter_df(DF = df,bins=6, avg_PDP = 19.):\n",
    "    df_filt = DF[DF['bin'] > bins]\n",
    "    df_items = df_filt.groupby('item_code').item_price.nunique() > 1\n",
    "    df_filt  = df_filt.merge(df_items,on='item_code',how='inner')\n",
    "    df_filt  = df_filt[df_filt['item_price_y']== True]\n",
    "    #filter PDP\n",
    "    #print(df_filt)\n",
    "    df_filt = df_filt[df_filt['avg_unique_views'] > avg_PDP]\n",
    "    #print(df_filt)\n",
    "    return df_filt"
   ]
  },
  {
   "cell_type": "code",
   "execution_count": 18,
   "metadata": {
    "pycharm": {
     "name": "#%%\n"
    }
   },
   "outputs": [
    {
     "name": "stdout",
     "output_type": "stream",
     "text": [
      "4148\n"
     ]
    }
   ],
   "source": [
    "df_filt = filter_df(df)\n",
    "\n",
    "\n",
    "print(df_filt.item_code.nunique())\n"
   ]
  },
  {
   "cell_type": "code",
   "execution_count": 19,
   "metadata": {
    "pycharm": {
     "name": "#%%\n"
    }
   },
   "outputs": [],
   "source": [
    "#introducing the similarity score\n",
    "sim_score = pd.read_parquet('/Users/gabriele.sabato/PycharmProjects/raw_data/recommendations_prod/part-00000-5f77392a-0bfa-4f0b-a4ae-d816ce2d71de-c000.snappy.parquet')"
   ]
  },
  {
   "cell_type": "code",
   "execution_count": 20,
   "metadata": {
    "pycharm": {
     "name": "#%%\n"
    }
   },
   "outputs": [
    {
     "data": {
      "text/plain": "                        sku     recommended_sku     score\n0        000000001000200072  000000001000200087  0.260000\n1        000000001000200072  000000001000183538  0.216580\n2        000000001000200072  000000001000142209  0.200000\n3        000000001000200072  000000001000204906  0.190794\n4        000000001000200072  000000001000183468  0.183980\n...                     ...                 ...       ...\n3827600  000000001000064787  000000001000115010  0.203238\n3827601  000000001000064787  000000001000112641  0.201339\n3827602  000000001000064787  000000001000046204  0.200052\n3827603  000000001000064787  000000001000114086  0.199867\n3827604  000000001000064787  000000001000049726  0.199657\n\n[3827605 rows x 3 columns]",
      "text/html": "<div>\n<style scoped>\n    .dataframe tbody tr th:only-of-type {\n        vertical-align: middle;\n    }\n\n    .dataframe tbody tr th {\n        vertical-align: top;\n    }\n\n    .dataframe thead th {\n        text-align: right;\n    }\n</style>\n<table border=\"1\" class=\"dataframe\">\n  <thead>\n    <tr style=\"text-align: right;\">\n      <th></th>\n      <th>sku</th>\n      <th>recommended_sku</th>\n      <th>score</th>\n    </tr>\n  </thead>\n  <tbody>\n    <tr>\n      <th>0</th>\n      <td>000000001000200072</td>\n      <td>000000001000200087</td>\n      <td>0.260000</td>\n    </tr>\n    <tr>\n      <th>1</th>\n      <td>000000001000200072</td>\n      <td>000000001000183538</td>\n      <td>0.216580</td>\n    </tr>\n    <tr>\n      <th>2</th>\n      <td>000000001000200072</td>\n      <td>000000001000142209</td>\n      <td>0.200000</td>\n    </tr>\n    <tr>\n      <th>3</th>\n      <td>000000001000200072</td>\n      <td>000000001000204906</td>\n      <td>0.190794</td>\n    </tr>\n    <tr>\n      <th>4</th>\n      <td>000000001000200072</td>\n      <td>000000001000183468</td>\n      <td>0.183980</td>\n    </tr>\n    <tr>\n      <th>...</th>\n      <td>...</td>\n      <td>...</td>\n      <td>...</td>\n    </tr>\n    <tr>\n      <th>3827600</th>\n      <td>000000001000064787</td>\n      <td>000000001000115010</td>\n      <td>0.203238</td>\n    </tr>\n    <tr>\n      <th>3827601</th>\n      <td>000000001000064787</td>\n      <td>000000001000112641</td>\n      <td>0.201339</td>\n    </tr>\n    <tr>\n      <th>3827602</th>\n      <td>000000001000064787</td>\n      <td>000000001000046204</td>\n      <td>0.200052</td>\n    </tr>\n    <tr>\n      <th>3827603</th>\n      <td>000000001000064787</td>\n      <td>000000001000114086</td>\n      <td>0.199867</td>\n    </tr>\n    <tr>\n      <th>3827604</th>\n      <td>000000001000064787</td>\n      <td>000000001000049726</td>\n      <td>0.199657</td>\n    </tr>\n  </tbody>\n</table>\n<p>3827605 rows × 3 columns</p>\n</div>"
     },
     "execution_count": 20,
     "metadata": {},
     "output_type": "execute_result"
    }
   ],
   "source": [
    "sim_score"
   ]
  },
  {
   "cell_type": "code",
   "execution_count": 21,
   "metadata": {
    "pycharm": {
     "name": "#%%\n"
    }
   },
   "outputs": [
    {
     "data": {
      "text/plain": "                        sku     recommended_sku     score\n780      000000001000135008  000000001000135012  0.881024\n781      000000001000135008  000000001000121202  0.715546\n782      000000001000135008  000000001000167468  0.633481\n783      000000001000135008  000000001000166799  0.564164\n784      000000001000135008  000000001000208980  0.544883\n...                     ...                 ...       ...\n3827360  000000001000176744  000000001000171107  0.339302\n3827361  000000001000176744  000000001000163202  0.335340\n3827362  000000001000176744  000000001000163190  0.327887\n3827363  000000001000176744  000000001000176438  0.324293\n3827364  000000001000176744  000000001000171374  0.290227\n\n[82133 rows x 3 columns]",
      "text/html": "<div>\n<style scoped>\n    .dataframe tbody tr th:only-of-type {\n        vertical-align: middle;\n    }\n\n    .dataframe tbody tr th {\n        vertical-align: top;\n    }\n\n    .dataframe thead th {\n        text-align: right;\n    }\n</style>\n<table border=\"1\" class=\"dataframe\">\n  <thead>\n    <tr style=\"text-align: right;\">\n      <th></th>\n      <th>sku</th>\n      <th>recommended_sku</th>\n      <th>score</th>\n    </tr>\n  </thead>\n  <tbody>\n    <tr>\n      <th>780</th>\n      <td>000000001000135008</td>\n      <td>000000001000135012</td>\n      <td>0.881024</td>\n    </tr>\n    <tr>\n      <th>781</th>\n      <td>000000001000135008</td>\n      <td>000000001000121202</td>\n      <td>0.715546</td>\n    </tr>\n    <tr>\n      <th>782</th>\n      <td>000000001000135008</td>\n      <td>000000001000167468</td>\n      <td>0.633481</td>\n    </tr>\n    <tr>\n      <th>783</th>\n      <td>000000001000135008</td>\n      <td>000000001000166799</td>\n      <td>0.564164</td>\n    </tr>\n    <tr>\n      <th>784</th>\n      <td>000000001000135008</td>\n      <td>000000001000208980</td>\n      <td>0.544883</td>\n    </tr>\n    <tr>\n      <th>...</th>\n      <td>...</td>\n      <td>...</td>\n      <td>...</td>\n    </tr>\n    <tr>\n      <th>3827360</th>\n      <td>000000001000176744</td>\n      <td>000000001000171107</td>\n      <td>0.339302</td>\n    </tr>\n    <tr>\n      <th>3827361</th>\n      <td>000000001000176744</td>\n      <td>000000001000163202</td>\n      <td>0.335340</td>\n    </tr>\n    <tr>\n      <th>3827362</th>\n      <td>000000001000176744</td>\n      <td>000000001000163190</td>\n      <td>0.327887</td>\n    </tr>\n    <tr>\n      <th>3827363</th>\n      <td>000000001000176744</td>\n      <td>000000001000176438</td>\n      <td>0.324293</td>\n    </tr>\n    <tr>\n      <th>3827364</th>\n      <td>000000001000176744</td>\n      <td>000000001000171374</td>\n      <td>0.290227</td>\n    </tr>\n  </tbody>\n</table>\n<p>82133 rows × 3 columns</p>\n</div>"
     },
     "execution_count": 21,
     "metadata": {},
     "output_type": "execute_result"
    }
   ],
   "source": [
    "# Filter table with only topX item_code\n",
    "\n",
    "unique_item_codes = list(df_filt.item_code.unique())\n",
    "\n",
    "\n",
    "sim_score_filt = sim_score[sim_score['sku'].isin(unique_item_codes)]\n",
    "\n",
    "sim_score_filt"
   ]
  },
  {
   "cell_type": "code",
   "execution_count": 22,
   "metadata": {
    "pycharm": {
     "name": "#%%\n"
    }
   },
   "outputs": [],
   "source": [
    "#Create a map with X subset for X linear fit:\n",
    "\n",
    "def create_map(list_of_items = unique_item_codes , df=sim_score_filt, score_cut = 0.):\n",
    "    map_of_items = {}\n",
    "    for item_code in list_of_items:\n",
    "        df_mod = df[df['sku'] == item_code]\n",
    "        df_score_filt = df_mod[df_mod['score'] > score_cut]\n",
    "        final_set_sku = list(df_score_filt.recommended_sku)\n",
    "        final_set_sku.insert(0,item_code)\n",
    "        map_of_items[item_code] = final_set_sku\n",
    "    #print(map_of_items)\n",
    "    return map_of_items\n"
   ]
  },
  {
   "cell_type": "code",
   "execution_count": 23,
   "metadata": {
    "pycharm": {
     "name": "#%%\n"
    }
   },
   "outputs": [],
   "source": [
    "sim_score_bin = [0.16]#0.3,0.4,0.5,0.6,0.7,0.8,0.9]\n",
    "\n",
    "\n"
   ]
  },
  {
   "cell_type": "code",
   "execution_count": 24,
   "metadata": {
    "pycharm": {
     "name": "#%%\n"
    }
   },
   "outputs": [],
   "source": [
    "map_of_map_of_items = {}\n",
    "for sim_score_i in sim_score_bin:\n",
    "    Map_of_Items = create_map(score_cut = sim_score_i)\n",
    "    map_of_map_of_items[str(sim_score_i)] = Map_of_Items\n",
    "#print(map_of_map_of_items)"
   ]
  },
  {
   "cell_type": "code",
   "execution_count": 25,
   "metadata": {
    "pycharm": {
     "name": "#%%\n"
    }
   },
   "outputs": [],
   "source": [
    "#load greater dataset\n",
    "largest_dataset = '/Users/gabriele.sabato/PycharmProjects/raw_data/DataFrames/All_catalogue_seller_YTD_group_by_item_visit_20210503.pickle'\n",
    "\n",
    "#df_k = pd.read_pickle(dataset10k)\n",
    "df_k = pd.read_pickle(largest_dataset)"
   ]
  },
  {
   "cell_type": "code",
   "execution_count": 26,
   "metadata": {
    "pycharm": {
     "name": "#%%\n"
    }
   },
   "outputs": [],
   "source": [
    "PDP_bin = [19]#,30,40,50]"
   ]
  },
  {
   "cell_type": "code",
   "execution_count": 27,
   "metadata": {
    "pycharm": {
     "name": "#%%\n"
    }
   },
   "outputs": [],
   "source": [
    "df_PDP_bin_filt = {}\n",
    "for PDP_view in PDP_bin:\n",
    "    df_k_filt = filter_df(df_k, avg_PDP= PDP_view)\n",
    "    df_PDP_bin_filt[PDP_view] = df_k_filt\n",
    "    #print(df_k_filt)\n",
    "\n",
    "#print(df_PDP_bin_filt)\n"
   ]
  },
  {
   "cell_type": "code",
   "execution_count": 28,
   "metadata": {
    "pycharm": {
     "name": "#%%\n"
    }
   },
   "outputs": [],
   "source": [
    "def create_map_of_dataframes(items_map = Map_of_Items,df=df_filt):\n",
    "    map_of_df = {}\n",
    "    for key in items_map.keys():\n",
    "        items  = items_map[key]\n",
    "        #print(f'Item_code = {key}')\n",
    "\n",
    "        df_mod = df[df['item_code'].isin(items)]\n",
    "        #\n",
    "        #print(f'Number of items per cluster {df_mod.item_code.nunique()}')\n",
    "        map_of_df[key]= df_mod\n",
    "    return map_of_df\n",
    "\n"
   ]
  },
  {
   "cell_type": "code",
   "execution_count": 31,
   "metadata": {
    "pycharm": {
     "name": "#%%\n"
    }
   },
   "outputs": [],
   "source": [
    "import numpy as np\n",
    "def run_model(item_code, df, map_results):\n",
    "    #print('\\n')\n",
    "    wls_cr_with_fe = smf.wls(\"avg_sales ~ log_price + delivery_weeks + log_avg_sessions + C(item_code)\", df, weights=df['bin']).fit()\n",
    "    wls_cr_with_fe.summary()\n",
    "    beta_log_price, beta_std_err_log_price = wls_cr_with_fe.params[-2].round(4),wls_cr_with_fe.bse[-2].round(4)\n",
    "    beta_log_del, beta_std_err_log_del = wls_cr_with_fe.params[-1].round(4),wls_cr_with_fe.bse[-1].round(4)\n",
    "    Result_log_price = 'Log_price  = ' + str(beta_log_price) + ' ± ' + str(beta_std_err_log_price)\n",
    "    Result_log_del = 'Log_del_week = ' + str(beta_log_del) + ' ± ' + str(beta_std_err_log_del)\n",
    "    flag_stat_ok = False\n",
    "    if beta_log_price != 0 :\n",
    "        flag_stat_ok = np.fabs((3*beta_std_err_log_price)/beta_log_price) < 1.\n",
    "    #flag_stat_ok = fabs(beta_std_err_log_price/beta_log_price)\n",
    "\n",
    "    if flag_stat_ok:\n",
    "        #print(f'Enough statistics for the item = {item_code}')\n",
    "        #print(Result_log_price)\n",
    "        #print(Result_log_del)\n",
    "        map_results[item_code] = [beta_log_price, beta_std_err_log_price, beta_log_del,beta_std_err_log_del, df.item_code.nunique(), True]\n",
    "        #print(map_results[item_code])\n",
    "        return True\n",
    "    else:\n",
    "        #print(f'Not enough statistics for the item = {item_code}')\n",
    "        #print(Result_log_price)\n",
    "        #print(Result_log_del)\n",
    "        map_results[item_code] = [beta_log_price, beta_std_err_log_price, beta_log_del,beta_std_err_log_del, df.item_code.nunique(), False]\n",
    "        #print(map_results[item_code])\n",
    "        return False\n"
   ]
  },
  {
   "cell_type": "code",
   "execution_count": 32,
   "metadata": {
    "pycharm": {
     "name": "#%%\n"
    }
   },
   "outputs": [
    {
     "name": "stdout",
     "output_type": "stream",
     "text": [
      "Number of items passing the PE cut 4148\n",
      "                    Sales_PE  Sales_PE_err  log_del_week  log_del_week_err  \\\n",
      "000000001000012530   -0.0233        0.0170       -0.0762            0.0818   \n",
      "000000001000021922   -0.0534        0.0112       -0.3591            0.1065   \n",
      "000000001000034762   -0.0125        0.0054       -0.0777            0.0613   \n",
      "000000001000080319   -0.0197        0.0066       -0.4942            0.0689   \n",
      "000000001000125896   -0.0151        0.0046       -0.1367            0.0358   \n",
      "000000001000005727   -0.0763        0.0778       -0.9202            0.3471   \n",
      "000000001000007327   -0.0185        0.0113       -0.4416            0.0856   \n",
      "000000001000007822   -0.2210        0.2051        1.8759            0.8209   \n",
      "000000001000016194   -0.0616        0.0384       -0.3616            0.1406   \n",
      "000000001000022565   -0.1028        0.1673       -0.7772            0.3705   \n",
      "000000001000050787   -0.0386        0.0809        0.6163            0.2735   \n",
      "000000001000116614   -0.0530        0.0229       -0.3490            0.1589   \n",
      "000000001000117179   -0.0317        0.0188       -0.3757            0.0994   \n",
      "000000001000164660   -0.0376        0.0146       -0.2670            0.0666   \n",
      "000000001000176734   -0.0773        0.0273       -0.2741            0.1243   \n",
      "000000001000178079   -0.0033        0.0244       -0.1964            0.1482   \n",
      "000000001000183575   -0.0314        0.0072       -0.4546            0.0641   \n",
      "000000001000008470   -0.0669        0.0244       -0.3428            0.1678   \n",
      "000000001000064521   -0.0415        0.0205       -0.8205            0.2022   \n",
      "000000001000084258   -0.0046        0.0060       -0.0908            0.0454   \n",
      "000000001000124600   -0.0288        0.0102       -0.2759            0.1084   \n",
      "000000001000159178   -0.0094        0.0046       -0.1883            0.0519   \n",
      "000000001000174312   -0.0371        0.0179       -0.3364            0.1081   \n",
      "000000001000174905   -0.0053        0.0102       -0.0935            0.0766   \n",
      "000000001000176716   -0.1015        0.0562       -1.0623            0.3682   \n",
      "000000001000008538   -0.0973        0.0250       -0.6417            0.1272   \n",
      "000000001000008827   -0.0539        0.0247       -0.3535            0.0965   \n",
      "000000001000012659   -0.0277        0.0166       -0.2673            0.0899   \n",
      "000000001000012817   -0.0169        0.0294       -0.2200            0.0921   \n",
      "000000001000016080   -0.0409        0.0289       -0.3555            0.1378   \n",
      "000000001000022615   -0.0711        0.1591       -3.0051            0.6423   \n",
      "000000001000027423   -0.0230        0.0051       -0.1135            0.0475   \n",
      "000000001000039244   -0.0406        0.0309        0.0912            0.2643   \n",
      "000000001000054998   -0.0408        0.0154       -0.2353            0.0844   \n",
      "000000001000091265   -0.0118        0.0455       -0.4432            0.2437   \n",
      "000000001000156992   -0.1189        0.0699       -0.3798            0.1678   \n",
      "000000001000199454   -0.1259        0.1028       -0.1242            0.1840   \n",
      "000000001000008474   -0.1029        0.0377       -0.7559            0.2379   \n",
      "000000001000008491   -0.1618        0.1075       -1.3797            0.4073   \n",
      "000000001000012742   -0.0218        0.0493       -0.0847            0.3257   \n",
      "000000001000031008    0.0037        0.0062        0.0064            0.0424   \n",
      "000000001000073238   -0.0113        0.0118       -0.1027            0.1325   \n",
      "000000001000076760   -0.0203        0.0090       -0.6773            0.0822   \n",
      "000000001000113331   -0.0073        0.0039       -0.0928            0.0371   \n",
      "000000001000119424   -0.0317        0.0198       -0.1305            0.0712   \n",
      "000000001000119830   -0.0134        0.0060       -0.1147            0.0605   \n",
      "000000001000166806   -0.0171        0.0182       -0.1721            0.1028   \n",
      "000000001000167289   -0.0057        0.0095       -0.1511            0.0810   \n",
      "000000001000191237   -0.0331        0.0162       -0.1929            0.1071   \n",
      "000000001000007325   -0.0385        0.0156       -0.2082            0.0605   \n",
      "000000001000024943    0.1242        0.0691       -0.4269            0.1895   \n",
      "000000001000061845   -0.0235        0.0089       -0.4148            0.0977   \n",
      "000000001000065698   -0.0966        0.1226        1.4999            0.7115   \n",
      "000000001000110285   -0.0175        0.1039       -1.1460            0.4381   \n",
      "000000001000119198    0.0062        0.0314       -0.2694            0.1490   \n",
      "000000001000153506   -0.0151        0.0767       -0.0430            0.1742   \n",
      "000000001000009789    0.0016        0.0011        0.0220            0.0183   \n",
      "000000001000010051   -0.0033        0.0044       -0.2240            0.0770   \n",
      "000000001000053245   -0.0356        0.0096       -0.3090            0.0855   \n",
      "000000001000054183   -0.0253        0.0305       -0.6911            0.1599   \n",
      "000000001000080376   -0.0190        0.0068       -0.5226            0.0728   \n",
      "000000001000103655   -0.0248        0.0154       -0.1951            0.0704   \n",
      "000000001000124048   -0.0128        0.0061       -0.0733            0.0538   \n",
      "000000001000149709    0.0264        0.1176        0.1378            0.3433   \n",
      "000000001000173830   -0.0182        0.0097       -0.0151            0.0813   \n",
      "000000001000180072    0.0092        0.0265       -0.3236            0.1461   \n",
      "000000001000184194   -0.1731        0.0404       -1.0342            0.2743   \n",
      "000000001000007079   -0.0337        0.0102       -0.3591            0.0898   \n",
      "000000001000052646   -0.0183        0.0117       -0.3875            0.0938   \n",
      "000000001000054984   -0.0438        0.0356       -0.3750            0.1986   \n",
      "000000001000064530   -0.0429        0.0161       -0.2132            0.1071   \n",
      "000000001000085424    0.0030        0.0094       -0.0319            0.1167   \n",
      "000000001000092325   -0.0928        0.0336       -0.5391            0.1157   \n",
      "000000001000117706   -0.1939        0.1683       -1.4853            0.2996   \n",
      "000000001000178382   -0.3213        0.3921       -0.6447            0.3803   \n",
      "000000001000006373   -0.0202        0.0127       -0.2842            0.0746   \n",
      "000000001000008834   -0.0191        0.0149       -0.2059            0.1070   \n",
      "000000001000012569   -0.0056        0.0217       -0.3167            0.0944   \n",
      "000000001000025074   -0.1098        0.0849       -0.5016            0.3537   \n",
      "000000001000050884   -0.0229        0.0153       -0.1136            0.0583   \n",
      "000000001000052641   -0.0234        0.0047       -0.1015            0.0474   \n",
      "000000001000054946   -0.0310        0.0148       -0.1517            0.1532   \n",
      "000000001000054980   -0.0020        0.0180       -0.3287            0.1621   \n",
      "000000001000080491   -0.0221        0.0105       -0.4054            0.0830   \n",
      "000000001000097071   -0.0177        0.0318       -0.1779            0.1784   \n",
      "000000001000123698   -0.0199        0.0102       -0.4563            0.1135   \n",
      "000000001000126096   -0.0600        0.0245        0.0173            0.1358   \n",
      "000000001000129155   -0.0044        0.0059       -0.0451            0.0509   \n",
      "000000001000137914    0.0016        0.0085       -0.0650            0.0658   \n",
      "000000001000008124   -0.0444        0.0543       -0.4626            0.3712   \n",
      "000000001000064114   -0.0107        0.0071       -0.1616            0.0601   \n",
      "000000001000103647   -0.0502        0.0196       -0.2830            0.0982   \n",
      "000000001000005773   -0.0270        0.0388       -0.1671            0.1290   \n",
      "000000001000009790    0.0033        0.0015        0.0420            0.0279   \n",
      "000000001000012529   -0.0255        0.0184       -0.0044            0.0850   \n",
      "000000001000012836   -0.0472        0.0356       -0.2924            0.1070   \n",
      "000000001000051675    0.0080        0.0136       -0.2208            0.0914   \n",
      "000000001000123220   -0.0420        0.0130       -0.2293            0.0968   \n",
      "000000001000012560    0.0134        0.0400       -0.1247            0.1189   \n",
      "000000001000047960   -0.0346        0.0122       -0.3588            0.0816   \n",
      "\n",
      "                    Cluster_size  has_enough_stat  \n",
      "000000001000012530            15            False  \n",
      "000000001000021922            17             True  \n",
      "000000001000034762             8            False  \n",
      "000000001000080319            14            False  \n",
      "000000001000125896            14             True  \n",
      "000000001000005727            16            False  \n",
      "000000001000007327            17            False  \n",
      "000000001000007822            13            False  \n",
      "000000001000016194             9            False  \n",
      "000000001000022565             4            False  \n",
      "000000001000050787            19            False  \n",
      "000000001000116614            14            False  \n",
      "000000001000117179            18            False  \n",
      "000000001000164660            13            False  \n",
      "000000001000176734            15            False  \n",
      "000000001000178079             9            False  \n",
      "000000001000183575            17             True  \n",
      "000000001000008470            14            False  \n",
      "000000001000064521            12            False  \n",
      "000000001000084258             8            False  \n",
      "000000001000124600            18            False  \n",
      "000000001000159178            10            False  \n",
      "000000001000174312            17            False  \n",
      "000000001000174905             8            False  \n",
      "000000001000176716            19            False  \n",
      "000000001000008538            18             True  \n",
      "000000001000008827            20            False  \n",
      "000000001000012659            12            False  \n",
      "000000001000012817            20            False  \n",
      "000000001000016080            15            False  \n",
      "000000001000022615            10            False  \n",
      "000000001000027423            13             True  \n",
      "000000001000039244             6            False  \n",
      "000000001000054998             8            False  \n",
      "000000001000091265             8            False  \n",
      "000000001000156992            16            False  \n",
      "000000001000199454             9            False  \n",
      "000000001000008474            10            False  \n",
      "000000001000008491            17            False  \n",
      "000000001000012742            15            False  \n",
      "000000001000031008             8            False  \n",
      "000000001000073238             6            False  \n",
      "000000001000076760            18            False  \n",
      "000000001000113331            11            False  \n",
      "000000001000119424             4            False  \n",
      "000000001000119830            10            False  \n",
      "000000001000166806            15            False  \n",
      "000000001000167289            17            False  \n",
      "000000001000191237            14            False  \n",
      "000000001000007325            17            False  \n",
      "000000001000024943            10            False  \n",
      "000000001000061845            11            False  \n",
      "000000001000065698            15            False  \n",
      "000000001000110285            10            False  \n",
      "000000001000119198            14            False  \n",
      "000000001000153506            14            False  \n",
      "000000001000009789            10            False  \n",
      "000000001000010051             8            False  \n",
      "000000001000053245            20             True  \n",
      "000000001000054183            19            False  \n",
      "000000001000080376            20            False  \n",
      "000000001000103655            11            False  \n",
      "000000001000124048            12            False  \n",
      "000000001000149709             5            False  \n",
      "000000001000173830            14            False  \n",
      "000000001000180072            14            False  \n",
      "000000001000184194            16             True  \n",
      "000000001000007079            19             True  \n",
      "000000001000052646            11            False  \n",
      "000000001000054984            11            False  \n",
      "000000001000064530            15            False  \n",
      "000000001000085424            14            False  \n",
      "000000001000092325            18            False  \n",
      "000000001000117706            17            False  \n",
      "000000001000178382             7            False  \n",
      "000000001000006373            11            False  \n",
      "000000001000008834            15            False  \n",
      "000000001000012569            17            False  \n",
      "000000001000025074             7            False  \n",
      "000000001000050884            21            False  \n",
      "000000001000052641            11             True  \n",
      "000000001000054946            11            False  \n",
      "000000001000054980            12            False  \n",
      "000000001000080491            16            False  \n",
      "000000001000097071             5            False  \n",
      "000000001000123698            17            False  \n",
      "000000001000126096            10            False  \n",
      "000000001000129155            14            False  \n",
      "000000001000137914            11            False  \n",
      "000000001000008124             8            False  \n",
      "000000001000064114            10            False  \n",
      "000000001000103647            15            False  \n",
      "000000001000005773            17            False  \n",
      "000000001000009790             8            False  \n",
      "000000001000012529            13            False  \n",
      "000000001000012836            17            False  \n",
      "000000001000051675            14            False  \n",
      "000000001000123220            17             True  \n",
      "000000001000012560             9            False  \n",
      "000000001000047960            11            False  \n"
     ]
    },
    {
     "name": "stderr",
     "output_type": "stream",
     "text": [
      "/Users/gabriele.sabato/anaconda3/envs/pythonProject/lib/python3.8/site-packages/scipy/stats/stats.py:1603: UserWarning: kurtosistest only valid for n>=20 ... continuing anyway, n=18\n",
      "  warnings.warn(\"kurtosistest only valid for n>=20 ... continuing \"\n",
      "/Users/gabriele.sabato/anaconda3/envs/pythonProject/lib/python3.8/site-packages/scipy/stats/stats.py:1603: UserWarning: kurtosistest only valid for n>=20 ... continuing anyway, n=18\n",
      "  warnings.warn(\"kurtosistest only valid for n>=20 ... continuing \"\n",
      "/Users/gabriele.sabato/anaconda3/envs/pythonProject/lib/python3.8/site-packages/scipy/stats/stats.py:1603: UserWarning: kurtosistest only valid for n>=20 ... continuing anyway, n=18\n",
      "  warnings.warn(\"kurtosistest only valid for n>=20 ... continuing \"\n",
      "/Users/gabriele.sabato/anaconda3/envs/pythonProject/lib/python3.8/site-packages/statsmodels/stats/stattools.py:74: ValueWarning: omni_normtest is not valid with less than 8 observations; 7 samples were given.\n",
      "  warn(\"omni_normtest is not valid with less than 8 observations; %i \"\n",
      "/Users/gabriele.sabato/anaconda3/envs/pythonProject/lib/python3.8/site-packages/scipy/stats/stats.py:1603: UserWarning: kurtosistest only valid for n>=20 ... continuing anyway, n=14\n",
      "  warnings.warn(\"kurtosistest only valid for n>=20 ... continuing \"\n",
      "/Users/gabriele.sabato/anaconda3/envs/pythonProject/lib/python3.8/site-packages/scipy/stats/stats.py:1603: UserWarning: kurtosistest only valid for n>=20 ... continuing anyway, n=8\n",
      "  warnings.warn(\"kurtosistest only valid for n>=20 ... continuing \"\n",
      "/Users/gabriele.sabato/anaconda3/envs/pythonProject/lib/python3.8/site-packages/statsmodels/stats/stattools.py:74: ValueWarning: omni_normtest is not valid with less than 8 observations; 1 samples were given.\n",
      "  warn(\"omni_normtest is not valid with less than 8 observations; %i \"\n",
      "/Users/gabriele.sabato/anaconda3/envs/pythonProject/lib/python3.8/site-packages/statsmodels/regression/linear_model.py:1715: RuntimeWarning: divide by zero encountered in double_scalars\n",
      "  return 1 - self.ssr/self.centered_tss\n",
      "/Users/gabriele.sabato/anaconda3/envs/pythonProject/lib/python3.8/site-packages/statsmodels/regression/linear_model.py:1728: RuntimeWarning: invalid value encountered in true_divide\n",
      "  return 1 - (np.divide(self.nobs - self.k_constant, self.df_resid)\n",
      "/Users/gabriele.sabato/anaconda3/envs/pythonProject/lib/python3.8/site-packages/statsmodels/regression/linear_model.py:1650: RuntimeWarning: divide by zero encountered in double_scalars\n",
      "  return np.dot(wresid, wresid) / self.df_resid\n",
      "/Users/gabriele.sabato/anaconda3/envs/pythonProject/lib/python3.8/site-packages/scipy/stats/stats.py:1603: UserWarning: kurtosistest only valid for n>=20 ... continuing anyway, n=16\n",
      "  warnings.warn(\"kurtosistest only valid for n>=20 ... continuing \"\n",
      "/Users/gabriele.sabato/anaconda3/envs/pythonProject/lib/python3.8/site-packages/scipy/stats/stats.py:1603: UserWarning: kurtosistest only valid for n>=20 ... continuing anyway, n=18\n",
      "  warnings.warn(\"kurtosistest only valid for n>=20 ... continuing \"\n",
      "/Users/gabriele.sabato/anaconda3/envs/pythonProject/lib/python3.8/site-packages/statsmodels/stats/stattools.py:74: ValueWarning: omni_normtest is not valid with less than 8 observations; 2 samples were given.\n",
      "  warn(\"omni_normtest is not valid with less than 8 observations; %i \"\n",
      "/Users/gabriele.sabato/anaconda3/envs/pythonProject/lib/python3.8/site-packages/statsmodels/regression/linear_model.py:1728: RuntimeWarning: divide by zero encountered in true_divide\n",
      "  return 1 - (np.divide(self.nobs - self.k_constant, self.df_resid)\n",
      "/Users/gabriele.sabato/anaconda3/envs/pythonProject/lib/python3.8/site-packages/statsmodels/regression/linear_model.py:1728: RuntimeWarning: invalid value encountered in double_scalars\n",
      "  return 1 - (np.divide(self.nobs - self.k_constant, self.df_resid)\n",
      "/Users/gabriele.sabato/anaconda3/envs/pythonProject/lib/python3.8/site-packages/statsmodels/regression/linear_model.py:1650: RuntimeWarning: divide by zero encountered in double_scalars\n",
      "  return np.dot(wresid, wresid) / self.df_resid\n",
      "/Users/gabriele.sabato/anaconda3/envs/pythonProject/lib/python3.8/site-packages/statsmodels/stats/stattools.py:74: ValueWarning: omni_normtest is not valid with less than 8 observations; 3 samples were given.\n",
      "  warn(\"omni_normtest is not valid with less than 8 observations; %i \"\n",
      "/Users/gabriele.sabato/anaconda3/envs/pythonProject/lib/python3.8/site-packages/statsmodels/regression/linear_model.py:1728: RuntimeWarning: divide by zero encountered in true_divide\n",
      "  return 1 - (np.divide(self.nobs - self.k_constant, self.df_resid)\n",
      "/Users/gabriele.sabato/anaconda3/envs/pythonProject/lib/python3.8/site-packages/statsmodels/regression/linear_model.py:1728: RuntimeWarning: invalid value encountered in double_scalars\n",
      "  return 1 - (np.divide(self.nobs - self.k_constant, self.df_resid)\n",
      "/Users/gabriele.sabato/anaconda3/envs/pythonProject/lib/python3.8/site-packages/statsmodels/regression/linear_model.py:1650: RuntimeWarning: divide by zero encountered in double_scalars\n",
      "  return np.dot(wresid, wresid) / self.df_resid\n",
      "/Users/gabriele.sabato/anaconda3/envs/pythonProject/lib/python3.8/site-packages/scipy/stats/stats.py:1603: UserWarning: kurtosistest only valid for n>=20 ... continuing anyway, n=9\n",
      "  warnings.warn(\"kurtosistest only valid for n>=20 ... continuing \"\n",
      "/Users/gabriele.sabato/anaconda3/envs/pythonProject/lib/python3.8/site-packages/scipy/stats/stats.py:1603: UserWarning: kurtosistest only valid for n>=20 ... continuing anyway, n=10\n",
      "  warnings.warn(\"kurtosistest only valid for n>=20 ... continuing \"\n",
      "/Users/gabriele.sabato/anaconda3/envs/pythonProject/lib/python3.8/site-packages/scipy/stats/stats.py:1603: UserWarning: kurtosistest only valid for n>=20 ... continuing anyway, n=15\n",
      "  warnings.warn(\"kurtosistest only valid for n>=20 ... continuing \"\n",
      "/Users/gabriele.sabato/anaconda3/envs/pythonProject/lib/python3.8/site-packages/statsmodels/stats/stattools.py:74: ValueWarning: omni_normtest is not valid with less than 8 observations; 1 samples were given.\n",
      "  warn(\"omni_normtest is not valid with less than 8 observations; %i \"\n",
      "/Users/gabriele.sabato/anaconda3/envs/pythonProject/lib/python3.8/site-packages/statsmodels/regression/linear_model.py:1715: RuntimeWarning: divide by zero encountered in double_scalars\n",
      "  return 1 - self.ssr/self.centered_tss\n",
      "/Users/gabriele.sabato/anaconda3/envs/pythonProject/lib/python3.8/site-packages/statsmodels/regression/linear_model.py:1728: RuntimeWarning: invalid value encountered in true_divide\n",
      "  return 1 - (np.divide(self.nobs - self.k_constant, self.df_resid)\n",
      "/Users/gabriele.sabato/anaconda3/envs/pythonProject/lib/python3.8/site-packages/statsmodels/regression/linear_model.py:1650: RuntimeWarning: divide by zero encountered in double_scalars\n",
      "  return np.dot(wresid, wresid) / self.df_resid\n",
      "/Users/gabriele.sabato/anaconda3/envs/pythonProject/lib/python3.8/site-packages/scipy/stats/stats.py:1603: UserWarning: kurtosistest only valid for n>=20 ... continuing anyway, n=11\n",
      "  warnings.warn(\"kurtosistest only valid for n>=20 ... continuing \"\n",
      "/Users/gabriele.sabato/anaconda3/envs/pythonProject/lib/python3.8/site-packages/scipy/stats/stats.py:1603: UserWarning: kurtosistest only valid for n>=20 ... continuing anyway, n=17\n",
      "  warnings.warn(\"kurtosistest only valid for n>=20 ... continuing \"\n",
      "/Users/gabriele.sabato/anaconda3/envs/pythonProject/lib/python3.8/site-packages/statsmodels/stats/stattools.py:74: ValueWarning: omni_normtest is not valid with less than 8 observations; 6 samples were given.\n",
      "  warn(\"omni_normtest is not valid with less than 8 observations; %i \"\n",
      "/Users/gabriele.sabato/anaconda3/envs/pythonProject/lib/python3.8/site-packages/statsmodels/stats/stattools.py:74: ValueWarning: omni_normtest is not valid with less than 8 observations; 6 samples were given.\n",
      "  warn(\"omni_normtest is not valid with less than 8 observations; %i \"\n",
      "/Users/gabriele.sabato/anaconda3/envs/pythonProject/lib/python3.8/site-packages/statsmodels/stats/stattools.py:74: ValueWarning: omni_normtest is not valid with less than 8 observations; 7 samples were given.\n",
      "  warn(\"omni_normtest is not valid with less than 8 observations; %i \"\n",
      "/Users/gabriele.sabato/anaconda3/envs/pythonProject/lib/python3.8/site-packages/scipy/stats/stats.py:1603: UserWarning: kurtosistest only valid for n>=20 ... continuing anyway, n=9\n",
      "  warnings.warn(\"kurtosistest only valid for n>=20 ... continuing \"\n",
      "/Users/gabriele.sabato/anaconda3/envs/pythonProject/lib/python3.8/site-packages/scipy/stats/stats.py:1603: UserWarning: kurtosistest only valid for n>=20 ... continuing anyway, n=8\n",
      "  warnings.warn(\"kurtosistest only valid for n>=20 ... continuing \"\n",
      "/Users/gabriele.sabato/anaconda3/envs/pythonProject/lib/python3.8/site-packages/statsmodels/stats/stattools.py:74: ValueWarning: omni_normtest is not valid with less than 8 observations; 7 samples were given.\n",
      "  warn(\"omni_normtest is not valid with less than 8 observations; %i \"\n",
      "/Users/gabriele.sabato/anaconda3/envs/pythonProject/lib/python3.8/site-packages/scipy/stats/stats.py:1603: UserWarning: kurtosistest only valid for n>=20 ... continuing anyway, n=8\n",
      "  warnings.warn(\"kurtosistest only valid for n>=20 ... continuing \"\n",
      "/Users/gabriele.sabato/anaconda3/envs/pythonProject/lib/python3.8/site-packages/statsmodels/stats/stattools.py:74: ValueWarning: omni_normtest is not valid with less than 8 observations; 5 samples were given.\n",
      "  warn(\"omni_normtest is not valid with less than 8 observations; %i \"\n",
      "/Users/gabriele.sabato/anaconda3/envs/pythonProject/lib/python3.8/site-packages/statsmodels/stats/stattools.py:74: ValueWarning: omni_normtest is not valid with less than 8 observations; 5 samples were given.\n",
      "  warn(\"omni_normtest is not valid with less than 8 observations; %i \"\n",
      "/Users/gabriele.sabato/anaconda3/envs/pythonProject/lib/python3.8/site-packages/statsmodels/stats/stattools.py:74: ValueWarning: omni_normtest is not valid with less than 8 observations; 2 samples were given.\n",
      "  warn(\"omni_normtest is not valid with less than 8 observations; %i \"\n",
      "/Users/gabriele.sabato/anaconda3/envs/pythonProject/lib/python3.8/site-packages/statsmodels/regression/linear_model.py:1728: RuntimeWarning: divide by zero encountered in true_divide\n",
      "  return 1 - (np.divide(self.nobs - self.k_constant, self.df_resid)\n",
      "/Users/gabriele.sabato/anaconda3/envs/pythonProject/lib/python3.8/site-packages/statsmodels/regression/linear_model.py:1728: RuntimeWarning: invalid value encountered in double_scalars\n",
      "  return 1 - (np.divide(self.nobs - self.k_constant, self.df_resid)\n",
      "/Users/gabriele.sabato/anaconda3/envs/pythonProject/lib/python3.8/site-packages/statsmodels/regression/linear_model.py:1650: RuntimeWarning: divide by zero encountered in double_scalars\n",
      "  return np.dot(wresid, wresid) / self.df_resid\n",
      "/Users/gabriele.sabato/anaconda3/envs/pythonProject/lib/python3.8/site-packages/statsmodels/stats/stattools.py:74: ValueWarning: omni_normtest is not valid with less than 8 observations; 2 samples were given.\n",
      "  warn(\"omni_normtest is not valid with less than 8 observations; %i \"\n",
      "/Users/gabriele.sabato/anaconda3/envs/pythonProject/lib/python3.8/site-packages/statsmodels/regression/linear_model.py:1728: RuntimeWarning: divide by zero encountered in true_divide\n",
      "  return 1 - (np.divide(self.nobs - self.k_constant, self.df_resid)\n",
      "/Users/gabriele.sabato/anaconda3/envs/pythonProject/lib/python3.8/site-packages/statsmodels/regression/linear_model.py:1728: RuntimeWarning: invalid value encountered in double_scalars\n",
      "  return 1 - (np.divide(self.nobs - self.k_constant, self.df_resid)\n",
      "/Users/gabriele.sabato/anaconda3/envs/pythonProject/lib/python3.8/site-packages/statsmodels/regression/linear_model.py:1650: RuntimeWarning: divide by zero encountered in double_scalars\n",
      "  return np.dot(wresid, wresid) / self.df_resid\n",
      "/Users/gabriele.sabato/anaconda3/envs/pythonProject/lib/python3.8/site-packages/statsmodels/stats/stattools.py:74: ValueWarning: omni_normtest is not valid with less than 8 observations; 4 samples were given.\n",
      "  warn(\"omni_normtest is not valid with less than 8 observations; %i \"\n",
      "/Users/gabriele.sabato/anaconda3/envs/pythonProject/lib/python3.8/site-packages/statsmodels/stats/stattools.py:74: ValueWarning: omni_normtest is not valid with less than 8 observations; 5 samples were given.\n",
      "  warn(\"omni_normtest is not valid with less than 8 observations; %i \"\n",
      "/Users/gabriele.sabato/anaconda3/envs/pythonProject/lib/python3.8/site-packages/scipy/stats/stats.py:1603: UserWarning: kurtosistest only valid for n>=20 ... continuing anyway, n=18\n",
      "  warnings.warn(\"kurtosistest only valid for n>=20 ... continuing \"\n",
      "/Users/gabriele.sabato/anaconda3/envs/pythonProject/lib/python3.8/site-packages/scipy/stats/stats.py:1603: UserWarning: kurtosistest only valid for n>=20 ... continuing anyway, n=9\n",
      "  warnings.warn(\"kurtosistest only valid for n>=20 ... continuing \"\n",
      "/Users/gabriele.sabato/anaconda3/envs/pythonProject/lib/python3.8/site-packages/scipy/stats/stats.py:1603: UserWarning: kurtosistest only valid for n>=20 ... continuing anyway, n=14\n",
      "  warnings.warn(\"kurtosistest only valid for n>=20 ... continuing \"\n",
      "/Users/gabriele.sabato/anaconda3/envs/pythonProject/lib/python3.8/site-packages/scipy/stats/stats.py:1603: UserWarning: kurtosistest only valid for n>=20 ... continuing anyway, n=9\n",
      "  warnings.warn(\"kurtosistest only valid for n>=20 ... continuing \"\n",
      "/Users/gabriele.sabato/anaconda3/envs/pythonProject/lib/python3.8/site-packages/scipy/stats/stats.py:1603: UserWarning: kurtosistest only valid for n>=20 ... continuing anyway, n=16\n",
      "  warnings.warn(\"kurtosistest only valid for n>=20 ... continuing \"\n",
      "/Users/gabriele.sabato/anaconda3/envs/pythonProject/lib/python3.8/site-packages/scipy/stats/stats.py:1603: UserWarning: kurtosistest only valid for n>=20 ... continuing anyway, n=8\n",
      "  warnings.warn(\"kurtosistest only valid for n>=20 ... continuing \"\n",
      "/Users/gabriele.sabato/anaconda3/envs/pythonProject/lib/python3.8/site-packages/scipy/stats/stats.py:1603: UserWarning: kurtosistest only valid for n>=20 ... continuing anyway, n=17\n",
      "  warnings.warn(\"kurtosistest only valid for n>=20 ... continuing \"\n",
      "/Users/gabriele.sabato/anaconda3/envs/pythonProject/lib/python3.8/site-packages/statsmodels/stats/stattools.py:74: ValueWarning: omni_normtest is not valid with less than 8 observations; 2 samples were given.\n",
      "  warn(\"omni_normtest is not valid with less than 8 observations; %i \"\n",
      "/Users/gabriele.sabato/anaconda3/envs/pythonProject/lib/python3.8/site-packages/statsmodels/regression/linear_model.py:1728: RuntimeWarning: divide by zero encountered in true_divide\n",
      "  return 1 - (np.divide(self.nobs - self.k_constant, self.df_resid)\n",
      "/Users/gabriele.sabato/anaconda3/envs/pythonProject/lib/python3.8/site-packages/statsmodels/regression/linear_model.py:1728: RuntimeWarning: invalid value encountered in double_scalars\n",
      "  return 1 - (np.divide(self.nobs - self.k_constant, self.df_resid)\n",
      "/Users/gabriele.sabato/anaconda3/envs/pythonProject/lib/python3.8/site-packages/statsmodels/regression/linear_model.py:1650: RuntimeWarning: divide by zero encountered in double_scalars\n",
      "  return np.dot(wresid, wresid) / self.df_resid\n",
      "/Users/gabriele.sabato/anaconda3/envs/pythonProject/lib/python3.8/site-packages/scipy/stats/stats.py:1603: UserWarning: kurtosistest only valid for n>=20 ... continuing anyway, n=16\n",
      "  warnings.warn(\"kurtosistest only valid for n>=20 ... continuing \"\n",
      "/Users/gabriele.sabato/anaconda3/envs/pythonProject/lib/python3.8/site-packages/scipy/stats/stats.py:1603: UserWarning: kurtosistest only valid for n>=20 ... continuing anyway, n=13\n",
      "  warnings.warn(\"kurtosistest only valid for n>=20 ... continuing \"\n",
      "/Users/gabriele.sabato/anaconda3/envs/pythonProject/lib/python3.8/site-packages/scipy/stats/stats.py:1603: UserWarning: kurtosistest only valid for n>=20 ... continuing anyway, n=13\n",
      "  warnings.warn(\"kurtosistest only valid for n>=20 ... continuing \"\n",
      "/Users/gabriele.sabato/anaconda3/envs/pythonProject/lib/python3.8/site-packages/scipy/stats/stats.py:1603: UserWarning: kurtosistest only valid for n>=20 ... continuing anyway, n=10\n",
      "  warnings.warn(\"kurtosistest only valid for n>=20 ... continuing \"\n",
      "/Users/gabriele.sabato/anaconda3/envs/pythonProject/lib/python3.8/site-packages/scipy/stats/stats.py:1603: UserWarning: kurtosistest only valid for n>=20 ... continuing anyway, n=14\n",
      "  warnings.warn(\"kurtosistest only valid for n>=20 ... continuing \"\n",
      "/Users/gabriele.sabato/anaconda3/envs/pythonProject/lib/python3.8/site-packages/scipy/stats/stats.py:1603: UserWarning: kurtosistest only valid for n>=20 ... continuing anyway, n=15\n",
      "  warnings.warn(\"kurtosistest only valid for n>=20 ... continuing \"\n",
      "/Users/gabriele.sabato/anaconda3/envs/pythonProject/lib/python3.8/site-packages/statsmodels/stats/stattools.py:74: ValueWarning: omni_normtest is not valid with less than 8 observations; 5 samples were given.\n",
      "  warn(\"omni_normtest is not valid with less than 8 observations; %i \"\n",
      "/Users/gabriele.sabato/anaconda3/envs/pythonProject/lib/python3.8/site-packages/scipy/stats/stats.py:1603: UserWarning: kurtosistest only valid for n>=20 ... continuing anyway, n=18\n",
      "  warnings.warn(\"kurtosistest only valid for n>=20 ... continuing \"\n",
      "/Users/gabriele.sabato/anaconda3/envs/pythonProject/lib/python3.8/site-packages/scipy/stats/stats.py:1603: UserWarning: kurtosistest only valid for n>=20 ... continuing anyway, n=13\n",
      "  warnings.warn(\"kurtosistest only valid for n>=20 ... continuing \"\n",
      "/Users/gabriele.sabato/anaconda3/envs/pythonProject/lib/python3.8/site-packages/scipy/stats/stats.py:1603: UserWarning: kurtosistest only valid for n>=20 ... continuing anyway, n=16\n",
      "  warnings.warn(\"kurtosistest only valid for n>=20 ... continuing \"\n",
      "/Users/gabriele.sabato/anaconda3/envs/pythonProject/lib/python3.8/site-packages/scipy/stats/stats.py:1603: UserWarning: kurtosistest only valid for n>=20 ... continuing anyway, n=10\n",
      "  warnings.warn(\"kurtosistest only valid for n>=20 ... continuing \"\n",
      "/Users/gabriele.sabato/anaconda3/envs/pythonProject/lib/python3.8/site-packages/statsmodels/stats/stattools.py:74: ValueWarning: omni_normtest is not valid with less than 8 observations; 1 samples were given.\n",
      "  warn(\"omni_normtest is not valid with less than 8 observations; %i \"\n",
      "/Users/gabriele.sabato/anaconda3/envs/pythonProject/lib/python3.8/site-packages/statsmodels/regression/linear_model.py:1715: RuntimeWarning: divide by zero encountered in double_scalars\n",
      "  return 1 - self.ssr/self.centered_tss\n",
      "/Users/gabriele.sabato/anaconda3/envs/pythonProject/lib/python3.8/site-packages/statsmodels/regression/linear_model.py:1728: RuntimeWarning: invalid value encountered in true_divide\n",
      "  return 1 - (np.divide(self.nobs - self.k_constant, self.df_resid)\n",
      "/Users/gabriele.sabato/anaconda3/envs/pythonProject/lib/python3.8/site-packages/statsmodels/regression/linear_model.py:1650: RuntimeWarning: divide by zero encountered in double_scalars\n",
      "  return np.dot(wresid, wresid) / self.df_resid\n",
      "/Users/gabriele.sabato/anaconda3/envs/pythonProject/lib/python3.8/site-packages/statsmodels/stats/stattools.py:74: ValueWarning: omni_normtest is not valid with less than 8 observations; 6 samples were given.\n",
      "  warn(\"omni_normtest is not valid with less than 8 observations; %i \"\n",
      "/Users/gabriele.sabato/anaconda3/envs/pythonProject/lib/python3.8/site-packages/scipy/stats/stats.py:1603: UserWarning: kurtosistest only valid for n>=20 ... continuing anyway, n=14\n",
      "  warnings.warn(\"kurtosistest only valid for n>=20 ... continuing \"\n",
      "/Users/gabriele.sabato/anaconda3/envs/pythonProject/lib/python3.8/site-packages/statsmodels/stats/stattools.py:74: ValueWarning: omni_normtest is not valid with less than 8 observations; 4 samples were given.\n",
      "  warn(\"omni_normtest is not valid with less than 8 observations; %i \"\n",
      "/Users/gabriele.sabato/anaconda3/envs/pythonProject/lib/python3.8/site-packages/statsmodels/stats/stattools.py:74: ValueWarning: omni_normtest is not valid with less than 8 observations; 2 samples were given.\n",
      "  warn(\"omni_normtest is not valid with less than 8 observations; %i \"\n",
      "/Users/gabriele.sabato/anaconda3/envs/pythonProject/lib/python3.8/site-packages/statsmodels/regression/linear_model.py:1715: RuntimeWarning: invalid value encountered in double_scalars\n",
      "  return 1 - self.ssr/self.centered_tss\n",
      "/Users/gabriele.sabato/anaconda3/envs/pythonProject/lib/python3.8/site-packages/statsmodels/regression/linear_model.py:1728: RuntimeWarning: divide by zero encountered in true_divide\n",
      "  return 1 - (np.divide(self.nobs - self.k_constant, self.df_resid)\n",
      "/Users/gabriele.sabato/anaconda3/envs/pythonProject/lib/python3.8/site-packages/statsmodels/regression/linear_model.py:762: RuntimeWarning: divide by zero encountered in log\n",
      "  llf = -np.log(SSR) * nobs2      # concentrated likelihood\n",
      "/Users/gabriele.sabato/anaconda3/envs/pythonProject/lib/python3.8/site-packages/statsmodels/stats/stattools.py:50: RuntimeWarning: invalid value encountered in double_scalars\n",
      "  dw = np.sum(diff_resids**2, axis=axis) / np.sum(resids**2, axis=axis)\n",
      "/Users/gabriele.sabato/anaconda3/envs/pythonProject/lib/python3.8/site-packages/statsmodels/regression/linear_model.py:1650: RuntimeWarning: invalid value encountered in double_scalars\n",
      "  return np.dot(wresid, wresid) / self.df_resid\n",
      "/Users/gabriele.sabato/anaconda3/envs/pythonProject/lib/python3.8/site-packages/scipy/stats/stats.py:1603: UserWarning: kurtosistest only valid for n>=20 ... continuing anyway, n=12\n",
      "  warnings.warn(\"kurtosistest only valid for n>=20 ... continuing \"\n",
      "/Users/gabriele.sabato/anaconda3/envs/pythonProject/lib/python3.8/site-packages/scipy/stats/stats.py:1603: UserWarning: kurtosistest only valid for n>=20 ... continuing anyway, n=12\n",
      "  warnings.warn(\"kurtosistest only valid for n>=20 ... continuing \"\n",
      "/Users/gabriele.sabato/anaconda3/envs/pythonProject/lib/python3.8/site-packages/statsmodels/stats/stattools.py:74: ValueWarning: omni_normtest is not valid with less than 8 observations; 6 samples were given.\n",
      "  warn(\"omni_normtest is not valid with less than 8 observations; %i \"\n",
      "<ipython-input-32-f6c66013e582>:35: RuntimeWarning: divide by zero encountered in double_scalars\n",
      "  rel_err['False'].append(abs(map_result[i_code][1]/map_result[i_code][0]))\n"
     ]
    }
   ],
   "source": [
    "df_result = pd.DataFrame()\n",
    "\n",
    "map_of_maps_of_df = {}\n",
    "#print('Cut on PDP, sim_score, result = ')\n",
    "for PDP_cut in df_PDP_bin_filt.keys():\n",
    "    for score_cut in  map_of_map_of_items.keys():\n",
    "        map_of_dfs = create_map_of_dataframes(map_of_map_of_items[score_cut],df=df_PDP_bin_filt[PDP_cut])\n",
    "        map_of_maps_of_df[PDP_cut] = map_of_dfs\n",
    "        print(f'Number of items passing the PE cut {len(map_of_dfs)}')\n",
    "        map_result = {}\n",
    "        #print(\"Model used: conv_rate ~ log_price + log_delivery_weeks + C(item_code)\\n\")\n",
    "        map_items_stat = {}\n",
    "        for key in map_of_dfs.keys():\n",
    "            #map_of_dfs[key].head()\n",
    "            map_items_stat[key] = run_model(key, map_of_dfs[key], map_result)\n",
    "            #print(map_result)\n",
    "        items_stat_series = pd.Series(map_items_stat)\n",
    "        #print(map_items_stat)\n",
    "        #print(items_stat_series)\n",
    "        x,y, y_err, rel_err = {'True':[],'False':[]},{'True':[],'False':[]},{'True':[],'False':[]},{'True':[],'False':[]}\n",
    "        for i_code,flag in items_stat_series.items():\n",
    "        #flag=T\n",
    "            if flag == True:\n",
    "                y['True'].append(map_result[i_code][0])\n",
    "                y_err['True'].append(map_result[i_code][1])\n",
    "                x['True'].append(map_result[i_code][-2])\n",
    "                #print('True',map_result[i_code][0],map_result[i_code][1])\n",
    "                rel_err['True'].append(abs(map_result[i_code][1]/map_result[i_code][0]))\n",
    "\n",
    "            else:\n",
    "                y['False'].append(map_result[i_code][0])\n",
    "                y_err['False'].append(map_result[i_code][1])\n",
    "                x['False'].append(map_result[i_code][-2])\n",
    "                #print('False',map_result[i_code][0],map_result[i_code][1])\n",
    "                rel_err['False'].append(abs(map_result[i_code][1]/map_result[i_code][0]))\n",
    "\n",
    "                continue\n",
    "        #print(f'{PDP_cut},{score_cut} , {len(x)}')\n",
    "        df_result = pd.DataFrame.from_dict(map_result, orient='index', columns = ['Sales_PE', 'Sales_PE_err', 'log_del_week', 'log_del_week_err', 'Cluster_size', 'has_enough_stat'])\n",
    "        print (df_result.head(100))"
   ]
  },
  {
   "cell_type": "code",
   "execution_count": 33,
   "outputs": [
    {
     "data": {
      "text/plain": "4148"
     },
     "execution_count": 33,
     "metadata": {},
     "output_type": "execute_result"
    }
   ],
   "source": [
    "len(df_result.index)"
   ],
   "metadata": {
    "collapsed": false,
    "pycharm": {
     "name": "#%%\n"
    }
   }
  },
  {
   "cell_type": "code",
   "execution_count": 34,
   "outputs": [],
   "source": [
    "df_result_true = df_result[df_result['has_enough_stat']==True]"
   ],
   "metadata": {
    "collapsed": false,
    "pycharm": {
     "name": "#%%\n"
    }
   }
  },
  {
   "cell_type": "code",
   "execution_count": 35,
   "outputs": [
    {
     "name": "stdout",
     "output_type": "stream",
     "text": [
      "124.4593 -0.6675\n"
     ]
    }
   ],
   "source": [
    "print(df_result_true['Sales_PE'].max(),df_result_true['Sales_PE'].min())"
   ],
   "metadata": {
    "collapsed": false,
    "pycharm": {
     "name": "#%%\n"
    }
   }
  },
  {
   "cell_type": "code",
   "execution_count": 38,
   "outputs": [
    {
     "name": "stdout",
     "output_type": "stream",
     "text": [
      "000000001000076851   -0.0038\n",
      "000000001000131864   -0.0051\n",
      "000000001000136064   -0.0060\n",
      "000000001000104421   -0.0062\n",
      "000000001000092080   -0.0066\n",
      "Name: Sales_PE, dtype: float64 \n",
      " 000000001000201528   -0.6675\n",
      "000000001000080475   -0.4555\n",
      "000000001000124790   -0.4495\n",
      "000000001000117722   -0.3009\n",
      "000000001000157008   -0.2772\n",
      "Name: Sales_PE, dtype: float64\n"
     ]
    }
   ],
   "source": [
    "print(df_result_true['Sales_PE'].nlargest(5),'\\n',df_result_true['Sales_PE'].nsmallest(5) )"
   ],
   "metadata": {
    "collapsed": false,
    "pycharm": {
     "name": "#%%\n"
    }
   }
  },
  {
   "cell_type": "code",
   "execution_count": 39,
   "outputs": [],
   "source": [
    "df_result_true = df_result_true[(df_result_true['Sales_PE'] < 0.)]"
   ],
   "metadata": {
    "collapsed": false,
    "pycharm": {
     "name": "#%%\n"
    }
   }
  },
  {
   "cell_type": "code",
   "execution_count": 40,
   "outputs": [
    {
     "name": "stdout",
     "output_type": "stream",
     "text": [
      "-0.05904466403162056\n"
     ]
    }
   ],
   "source": [
    "print(df_result_true['Sales_PE'].mean())"
   ],
   "metadata": {
    "collapsed": false,
    "pycharm": {
     "name": "#%%\n"
    }
   }
  },
  {
   "cell_type": "code",
   "execution_count": 41,
   "outputs": [],
   "source": [
    "import math"
   ],
   "metadata": {
    "collapsed": false,
    "pycharm": {
     "name": "#%%\n"
    }
   }
  },
  {
   "cell_type": "code",
   "execution_count": 42,
   "outputs": [
    {
     "name": "stdout",
     "output_type": "stream",
     "text": [
      "0.0018941105844442103\n"
     ]
    }
   ],
   "source": [
    "print(df_result_true['Sales_PE'].std()/math.sqrt(len(df_result_true.index)))"
   ],
   "metadata": {
    "collapsed": false,
    "pycharm": {
     "name": "#%%\n"
    }
   }
  },
  {
   "cell_type": "code",
   "execution_count": 43,
   "outputs": [
    {
     "data": {
      "text/plain": "Empty DataFrame\nColumns: [Sales_PE, Sales_PE_err, log_del_week, log_del_week_err, Cluster_size, has_enough_stat]\nIndex: []",
      "text/html": "<div>\n<style scoped>\n    .dataframe tbody tr th:only-of-type {\n        vertical-align: middle;\n    }\n\n    .dataframe tbody tr th {\n        vertical-align: top;\n    }\n\n    .dataframe thead th {\n        text-align: right;\n    }\n</style>\n<table border=\"1\" class=\"dataframe\">\n  <thead>\n    <tr style=\"text-align: right;\">\n      <th></th>\n      <th>Sales_PE</th>\n      <th>Sales_PE_err</th>\n      <th>log_del_week</th>\n      <th>log_del_week_err</th>\n      <th>Cluster_size</th>\n      <th>has_enough_stat</th>\n    </tr>\n  </thead>\n  <tbody>\n  </tbody>\n</table>\n</div>"
     },
     "execution_count": 43,
     "metadata": {},
     "output_type": "execute_result"
    }
   ],
   "source": [
    "df_result_true[df_result_true['Sales_PE'].isna()]"
   ],
   "metadata": {
    "collapsed": false,
    "pycharm": {
     "name": "#%%\n"
    }
   }
  },
  {
   "cell_type": "code",
   "execution_count": 44,
   "outputs": [],
   "source": [
    "df_result_true_final = df_result_true[['Sales_PE','Sales_PE_err']]"
   ],
   "metadata": {
    "collapsed": false,
    "pycharm": {
     "name": "#%%\n"
    }
   }
  },
  {
   "cell_type": "code",
   "execution_count": 45,
   "outputs": [
    {
     "data": {
      "text/plain": "                    Sales_PE  Sales_PE_err\n000000001000021922   -0.0534        0.0112\n000000001000125896   -0.0151        0.0046\n000000001000183575   -0.0314        0.0072\n000000001000008538   -0.0973        0.0250\n000000001000027423   -0.0230        0.0051",
      "text/html": "<div>\n<style scoped>\n    .dataframe tbody tr th:only-of-type {\n        vertical-align: middle;\n    }\n\n    .dataframe tbody tr th {\n        vertical-align: top;\n    }\n\n    .dataframe thead th {\n        text-align: right;\n    }\n</style>\n<table border=\"1\" class=\"dataframe\">\n  <thead>\n    <tr style=\"text-align: right;\">\n      <th></th>\n      <th>Sales_PE</th>\n      <th>Sales_PE_err</th>\n    </tr>\n  </thead>\n  <tbody>\n    <tr>\n      <th>000000001000021922</th>\n      <td>-0.0534</td>\n      <td>0.0112</td>\n    </tr>\n    <tr>\n      <th>000000001000125896</th>\n      <td>-0.0151</td>\n      <td>0.0046</td>\n    </tr>\n    <tr>\n      <th>000000001000183575</th>\n      <td>-0.0314</td>\n      <td>0.0072</td>\n    </tr>\n    <tr>\n      <th>000000001000008538</th>\n      <td>-0.0973</td>\n      <td>0.0250</td>\n    </tr>\n    <tr>\n      <th>000000001000027423</th>\n      <td>-0.0230</td>\n      <td>0.0051</td>\n    </tr>\n  </tbody>\n</table>\n</div>"
     },
     "execution_count": 45,
     "metadata": {},
     "output_type": "execute_result"
    }
   ],
   "source": [
    "df_result_true_final.head()\n"
   ],
   "metadata": {
    "collapsed": false,
    "pycharm": {
     "name": "#%%\n"
    }
   }
  },
  {
   "cell_type": "code",
   "execution_count": 46,
   "outputs": [],
   "source": [
    "df_result_true_final.to_csv('./../raw_data/Excel_files/Top5k_Sales_PE_new_model.csv')\n"
   ],
   "metadata": {
    "collapsed": false,
    "pycharm": {
     "name": "#%%\n"
    }
   }
  },
  {
   "cell_type": "code",
   "execution_count": null,
   "outputs": [],
   "source": [],
   "metadata": {
    "collapsed": false,
    "pycharm": {
     "name": "#%%\n"
    }
   }
  }
 ],
 "metadata": {
  "kernelspec": {
   "display_name": "Python 3",
   "language": "python",
   "name": "python3"
  },
  "language_info": {
   "codemirror_mode": {
    "name": "ipython",
    "version": 3
   },
   "file_extension": ".py",
   "mimetype": "text/x-python",
   "name": "python",
   "nbconvert_exporter": "python",
   "pygments_lexer": "ipython3",
   "version": "3.9.2"
  }
 },
 "nbformat": 4,
 "nbformat_minor": 1
}