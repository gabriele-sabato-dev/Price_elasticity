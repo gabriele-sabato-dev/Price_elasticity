{
 "cells": [
  {
   "cell_type": "code",
   "execution_count": 1,
   "metadata": {},
   "outputs": [],
   "source": [
    "from pyspark.sql import SparkSession\n",
    "from pyspark.sql.functions import *\n",
    "spark = SparkSession.builder.master('local').config('spark.driver.memory', '8g').appName('Ready_for_analysis').getOrCreate()\n",
    "\n"
   ]
  },
  {
   "cell_type": "code",
   "execution_count": 2,
   "metadata": {
    "pycharm": {
     "name": "#%%\n"
    }
   },
   "outputs": [],
   "source": [
    "df = spark.read.parquet(\n",
    "    '/Users/gabriele.sabato/PycharmProjects/raw_data/price_elasticity_model_data/part-*',\n",
    "    header=True)\n"
   ]
  },
  {
   "cell_type": "code",
   "execution_count": 3,
   "metadata": {
    "pycharm": {
     "name": "#%%\n"
    }
   },
   "outputs": [],
   "source": [
    "df.createOrReplaceTempView('model_data_table')\n",
    "\n"
   ]
  },
  {
   "cell_type": "code",
   "execution_count": 4,
   "metadata": {
    "pycharm": {
     "name": "#%%\n"
    }
   },
   "outputs": [
    {
     "name": "stdout",
     "output_type": "stream",
     "text": [
      "+------------------+-----------+--------------+-----------+-----+\n",
      "|         item_code|update_date|delivery_weeks| item_price|sales|\n",
      "+------------------+-----------+--------------+-----------+-----+\n",
      "|000000001000000008| 2019-01-26|             1|      13.99|    0|\n",
      "|000000001000000008| 2019-04-12|             0|      13.99|    0|\n",
      "|000000001000000008| 2019-06-22|             1|      13.99|    0|\n",
      "|000000001000000008| 2019-08-13|             1|      13.99|    0|\n",
      "|000000001000000008| 2019-12-27|             0|      13.99|    0|\n",
      "|000000001000000013| 2018-12-18|             1|      39.99|    0|\n",
      "|000000001000000013| 2020-01-30|             1|      39.99|    0|\n",
      "|000000001000000013| 2020-10-26|             0|31.98999999|    0|\n",
      "|000000001000000013| 2020-10-27|             0|31.98999999|    0|\n",
      "|000000001000000014| 2019-04-19|             1|74.98999999|    0|\n",
      "|000000001000000014| 2019-06-16|             1|74.98999999|    0|\n",
      "|000000001000000014| 2019-11-10|             0|74.98999999|    0|\n",
      "|000000001000000014| 2020-01-14|             0|74.98999999|    0|\n",
      "|000000001000000016| 2019-07-30|             1|       79.9|    0|\n",
      "|000000001000000017| 2019-03-14|             1|      129.9|    0|\n",
      "|000000001000000020| 2019-01-07|             1|84.98999999|    0|\n",
      "|000000001000000020| 2019-02-18|             1|84.98999999|    0|\n",
      "|000000001000000020| 2019-09-13|             1|84.98999999|    0|\n",
      "|000000001000000020| 2020-03-30|             1|74.98999999|    0|\n",
      "|000000001000000020| 2020-04-27|             0|74.98999999|    0|\n",
      "+------------------+-----------+--------------+-----------+-----+\n",
      "only showing top 20 rows\n",
      "\n"
     ]
    }
   ],
   "source": [
    "df.show()"
   ]
  },
  {
   "cell_type": "code",
   "execution_count": 5,
   "metadata": {
    "pycharm": {
     "name": "#%%\n"
    }
   },
   "outputs": [],
   "source": [
    "df_d_item = spark.read.parquet('/Users/gabriele.sabato/PycharmProjects/raw_data/redshift_tables/d_item/*')\n"
   ]
  },
  {
   "cell_type": "code",
   "execution_count": 6,
   "metadata": {
    "pycharm": {
     "name": "#%%\n"
    }
   },
   "outputs": [],
   "source": [
    "df_d_item.createOrReplaceTempView('d_item_tmp')"
   ]
  },
  {
   "cell_type": "code",
   "execution_count": 7,
   "metadata": {
    "pycharm": {
     "name": "#%%\n"
    }
   },
   "outputs": [],
   "source": [
    "df2 = spark.sql(\"SELECT * from model_data_table where update_date >= '2020-01-01' ORDER BY update_date \")"
   ]
  },
  {
   "cell_type": "code",
   "execution_count": 8,
   "metadata": {
    "pycharm": {
     "name": "#%%\n"
    }
   },
   "outputs": [],
   "source": [
    "df4 = spark.sql (\"SELECT item_code, item_main_category, item_sub_category_1, item_sub_category_2,item_parent_item_code from d_item_tmp\")"
   ]
  },
  {
   "cell_type": "code",
   "execution_count": 9,
   "metadata": {
    "pycharm": {
     "name": "#%%\n"
    }
   },
   "outputs": [],
   "source": [
    "df4.createOrReplaceTempView('d_item_filtered')\n",
    "df2.createOrReplaceTempView('model_data_table_YTD')"
   ]
  },
  {
   "cell_type": "code",
   "execution_count": 10,
   "metadata": {
    "pycharm": {
     "name": "#%%\n"
    }
   },
   "outputs": [],
   "source": [
    "list_of_top_seller_item_code = ['000000001000016021','000000001000016133','000000001000022708', '000000001000015958',\n",
    "                       '000000001000016020','000000001000015959','000000001000016019','000000001000022573','000000001000015944',\n",
    "                       '000000001000024281']"
   ]
  },
  {
   "cell_type": "code",
   "execution_count": 11,
   "metadata": {},
   "outputs": [],
   "source": [
    "top_seller_list_string = \"\"\"'000000001000016021','000000001000016133','000000001000022708', '000000001000015958',\n",
    "                       '000000001000016020','000000001000015959','000000001000016019','000000001000022573','000000001000015944',\n",
    "                       '000000001000024281'\"\"\""
   ]
  },
  {
   "cell_type": "code",
   "execution_count": 12,
   "metadata": {
    "pycharm": {
     "name": "#%%\n"
    }
   },
   "outputs": [],
   "source": [
    "sql_top_item_query = \"\"\"SELECT item_code, update_date, item_price, delivery_weeks, sales from model_data_table_YTD\n",
    "where item_code in ({lista})\"\"\".format(lista=top_seller_list_string)"
   ]
  },
  {
   "cell_type": "code",
   "execution_count": 13,
   "metadata": {
    "pycharm": {
     "name": "#%%\n"
    }
   },
   "outputs": [
    {
     "name": "stdout",
     "output_type": "stream",
     "text": [
      "SELECT item_code, update_date, item_price, delivery_weeks, sales from model_data_table_YTD\n",
      "where item_code in ('000000001000016021','000000001000016133','000000001000022708', '000000001000015958',\n",
      "                       '000000001000016020','000000001000015959','000000001000016019','000000001000022573','000000001000015944',\n",
      "                       '000000001000024281')\n"
     ]
    }
   ],
   "source": [
    "print(sql_top_item_query)"
   ]
  },
  {
   "cell_type": "code",
   "execution_count": 14,
   "metadata": {
    "pycharm": {
     "name": "#%%\n"
    }
   },
   "outputs": [],
   "source": [
    "sql_top_item_df = spark.sql(sql_top_item_query)"
   ]
  },
  {
   "cell_type": "code",
   "execution_count": 15,
   "metadata": {
    "pycharm": {
     "name": "#%%\n"
    }
   },
   "outputs": [
    {
     "name": "stdout",
     "output_type": "stream",
     "text": [
      "+------------------+-----------+------------+--------------+-----+\n",
      "|         item_code|update_date|  item_price|delivery_weeks|sales|\n",
      "+------------------+-----------+------------+--------------+-----+\n",
      "|000000001000016019| 2020-01-01|119.98999999|             5|    0|\n",
      "|000000001000016021| 2020-01-01|119.98999999|             5|   23|\n",
      "|000000001000022708| 2020-01-01| 99.98999999|             1|    2|\n",
      "|000000001000022573| 2020-01-01| 99.98999999|             2|    7|\n",
      "|000000001000015959| 2020-01-01|      129.99|             0|    1|\n",
      "|000000001000024281| 2020-01-01|       59.99|             1|   10|\n",
      "|000000001000015958| 2020-01-01|      129.99|             1|   11|\n",
      "|000000001000015944| 2020-01-01| 64.98999999|             2|    4|\n",
      "|000000001000016020| 2020-01-01|119.98999999|             2|    8|\n",
      "|000000001000016133| 2020-01-01|119.98999999|             1|    3|\n",
      "|000000001000015958| 2020-01-02|      129.99|             6|   17|\n",
      "|000000001000016020| 2020-01-02|119.98999999|             2|    7|\n",
      "|000000001000022573| 2020-01-02| 99.98999999|             2|   15|\n",
      "|000000001000022708| 2020-01-02| 99.98999999|             1|    0|\n",
      "|000000001000016133| 2020-01-02|119.98999999|             1|   10|\n",
      "|000000001000024281| 2020-01-02|       59.99|             1|    5|\n",
      "|000000001000016019| 2020-01-02|119.98999999|             5|   13|\n",
      "|000000001000015959| 2020-01-02|      129.99|             0|    0|\n",
      "|000000001000015944| 2020-01-02| 64.98999999|             2|   13|\n",
      "|000000001000016021| 2020-01-02|119.98999999|             1|    7|\n",
      "+------------------+-----------+------------+--------------+-----+\n",
      "only showing top 20 rows\n",
      "\n"
     ]
    }
   ],
   "source": [
    "sql_top_item_df.show()"
   ]
  },
  {
   "cell_type": "code",
   "execution_count": 16,
   "metadata": {
    "pycharm": {
     "name": "#%%\n"
    }
   },
   "outputs": [],
   "source": [
    "#CREATE A TABLE VIEW FOR Top10 sellers\n",
    "sql_top_item_df.createOrReplaceTempView('top_sellers')\n"
   ]
  },
  {
   "cell_type": "code",
   "execution_count": 17,
   "metadata": {
    "pycharm": {
     "name": "#%%\n"
    }
   },
   "outputs": [],
   "source": [
    "#JOIN THE TWO TABLEs\n",
    "sql_join_query = \" SELECT top.*, di.item_parent_item_code, di.item_main_category, di.item_sub_category_1, di.item_sub_category_2\" \\\n",
    "                 \"        from top_sellers as top \" \\\n",
    "                 \"INNER JOIN d_item_filtered as di on di.item_code = top.item_code \"\\\n",
    "                 \"ORDER BY top.update_date ASC\""
   ]
  },
  {
   "cell_type": "code",
   "execution_count": 18,
   "metadata": {
    "pycharm": {
     "name": "#%%\n"
    }
   },
   "outputs": [
    {
     "name": "stdout",
     "output_type": "stream",
     "text": [
      " SELECT top.*, di.item_parent_item_code, di.item_main_category, di.item_sub_category_1, di.item_sub_category_2        from top_sellers as top INNER JOIN d_item_filtered as di on di.item_code = top.item_code ORDER BY top.update_date ASC\n"
     ]
    }
   ],
   "source": [
    "print(sql_join_query)\n"
   ]
  },
  {
   "cell_type": "code",
   "execution_count": 19,
   "metadata": {
    "pycharm": {
     "name": "#%%\n"
    }
   },
   "outputs": [],
   "source": [
    "final_top_seller_df = spark.sql(sql_join_query)"
   ]
  },
  {
   "cell_type": "code",
   "execution_count": 20,
   "metadata": {
    "pycharm": {
     "name": "#%%\n"
    }
   },
   "outputs": [
    {
     "name": "stdout",
     "output_type": "stream",
     "text": [
      "+------------------+-----------+------------+--------------+-----+---------------------+--------------------+-------------------+-------------------+\n",
      "|         item_code|update_date|  item_price|delivery_weeks|sales|item_parent_item_code|  item_main_category|item_sub_category_1|item_sub_category_2|\n",
      "+------------------+-----------+------------+--------------+-----+---------------------+--------------------+-------------------+-------------------+\n",
      "|000000001000016019| 2020-01-01|119.98999999|             5|    0|   000000008000001083|ESSZIMMERSTÜHLE&B...|    ESSZIMMERSTÜHLE|          KLASSISCH|\n",
      "|000000001000016021| 2020-01-01|119.98999999|             5|   23|   000000008000001083|ESSZIMMERSTÜHLE&B...|    ESSZIMMERSTÜHLE|          KLASSISCH|\n",
      "|000000001000022708| 2020-01-01| 99.98999999|             1|    2|   000000008000017295|MATRATZEN&LATTENR...|        LATTENROSTE|          FEDERHOLZ|\n",
      "|000000001000022573| 2020-01-01| 99.98999999|             2|    7|   000000008000001979|MATRATZEN&LATTENR...|        LATTENROSTE|          FEDERHOLZ|\n",
      "|000000001000015959| 2020-01-01|      129.99|             0|    1|   000000008000001069|ESSZIMMERSTÜHLE&B...|    ESSZIMMERSTÜHLE|          KLASSISCH|\n",
      "|000000001000024281| 2020-01-01|       59.99|             1|   10|   000000008000002127|MATRATZEN&LATTENR...|          MATRATZEN|KALTSCHAUMMATRATZEN|\n",
      "|000000001000015958| 2020-01-01|      129.99|             1|   11|   000000008000001069|ESSZIMMERSTÜHLE&B...|    ESSZIMMERSTÜHLE|          KLASSISCH|\n",
      "|000000001000015944| 2020-01-01| 64.98999999|             2|    4|   000000008000012450|   SCHLAFZIMMERMÖBEL|      NACHTKOMMODEN|      NACHTKOMMODEN|\n",
      "|000000001000016020| 2020-01-01|119.98999999|             2|    8|   000000008000001083|ESSZIMMERSTÜHLE&B...|    ESSZIMMERSTÜHLE|          KLASSISCH|\n",
      "|000000001000016133| 2020-01-01|119.98999999|             1|    3|   000000008000001083|ESSZIMMERSTÜHLE&B...|    ESSZIMMERSTÜHLE|          KLASSISCH|\n",
      "|000000001000015958| 2020-01-02|      129.99|             6|   17|   000000008000001069|ESSZIMMERSTÜHLE&B...|    ESSZIMMERSTÜHLE|          KLASSISCH|\n",
      "|000000001000016020| 2020-01-02|119.98999999|             2|    7|   000000008000001083|ESSZIMMERSTÜHLE&B...|    ESSZIMMERSTÜHLE|          KLASSISCH|\n",
      "|000000001000022573| 2020-01-02| 99.98999999|             2|   15|   000000008000001979|MATRATZEN&LATTENR...|        LATTENROSTE|          FEDERHOLZ|\n",
      "|000000001000022708| 2020-01-02| 99.98999999|             1|    0|   000000008000017295|MATRATZEN&LATTENR...|        LATTENROSTE|          FEDERHOLZ|\n",
      "|000000001000016133| 2020-01-02|119.98999999|             1|   10|   000000008000001083|ESSZIMMERSTÜHLE&B...|    ESSZIMMERSTÜHLE|          KLASSISCH|\n",
      "|000000001000024281| 2020-01-02|       59.99|             1|    5|   000000008000002127|MATRATZEN&LATTENR...|          MATRATZEN|KALTSCHAUMMATRATZEN|\n",
      "|000000001000016019| 2020-01-02|119.98999999|             5|   13|   000000008000001083|ESSZIMMERSTÜHLE&B...|    ESSZIMMERSTÜHLE|          KLASSISCH|\n",
      "|000000001000015959| 2020-01-02|      129.99|             0|    0|   000000008000001069|ESSZIMMERSTÜHLE&B...|    ESSZIMMERSTÜHLE|          KLASSISCH|\n",
      "|000000001000015944| 2020-01-02| 64.98999999|             2|   13|   000000008000012450|   SCHLAFZIMMERMÖBEL|      NACHTKOMMODEN|      NACHTKOMMODEN|\n",
      "|000000001000016021| 2020-01-02|119.98999999|             1|    7|   000000008000001083|ESSZIMMERSTÜHLE&B...|    ESSZIMMERSTÜHLE|          KLASSISCH|\n",
      "+------------------+-----------+------------+--------------+-----+---------------------+--------------------+-------------------+-------------------+\n",
      "only showing top 20 rows\n",
      "\n"
     ]
    }
   ],
   "source": [
    "final_top_seller_df.show()"
   ]
  },
  {
   "cell_type": "code",
   "execution_count": 21,
   "metadata": {},
   "outputs": [
    {
     "data": {
      "text/plain": "DataFrame[summary: string, item_code: string, item_price: string, delivery_weeks: string, sales: string, item_parent_item_code: string, item_main_category: string, item_sub_category_1: string, item_sub_category_2: string]"
     },
     "execution_count": 21,
     "metadata": {},
     "output_type": "execute_result"
    }
   ],
   "source": [
    "final_top_seller_df.describe()"
   ]
  },
  {
   "cell_type": "code",
   "execution_count": 22,
   "metadata": {},
   "outputs": [],
   "source": [
    "pd_df_top_sellers = final_top_seller_df.toPandas()"
   ]
  },
  {
   "cell_type": "code",
   "execution_count": 23,
   "metadata": {},
   "outputs": [],
   "source": [
    "import pickle\n",
    "import pandas as pd\n",
    "import numpy as np\n"
   ]
  },
  {
   "cell_type": "code",
   "execution_count": 24,
   "metadata": {},
   "outputs": [],
   "source": [
    "pd_df_top_sellers.to_pickle('/Users/gabriele.sabato/PycharmProjects/raw_data/DataFrames/Top_seller_YTD.pickle')"
   ]
  },
  {
   "cell_type": "code",
   "execution_count": 25,
   "metadata": {},
   "outputs": [],
   "source": [
    "pd_df_top_sellers['log_price'] = np.log(pd_df_top_sellers['item_price'])"
   ]
  },
  {
   "cell_type": "code",
   "execution_count": 26,
   "metadata": {},
   "outputs": [],
   "source": [
    "pd_df_top_sellers['log_delivery_weeks'] = np.log(pd_df_top_sellers['delivery_weeks']+1)"
   ]
  },
  {
   "cell_type": "code",
   "execution_count": 27,
   "outputs": [],
   "source": [
    "pd_df_top_sellers['log_sales'] = np.log(pd_df_top_sellers['sales']+1)\n"
   ],
   "metadata": {
    "collapsed": false,
    "pycharm": {
     "name": "#%%\n"
    }
   }
  },
  {
   "cell_type": "code",
   "execution_count": 28,
   "outputs": [],
   "source": [
    "pd_df_top_sellers.to_pickle('/Users/gabriele.sabato/PycharmProjects/raw_data/DataFrames/Top_seller_YTD.pickle')"
   ],
   "metadata": {
    "collapsed": false,
    "pycharm": {
     "name": "#%%\n"
    }
   }
  },
  {
   "cell_type": "code",
   "execution_count": null,
   "outputs": [],
   "source": [],
   "metadata": {
    "collapsed": false,
    "pycharm": {
     "name": "#%%\n"
    }
   }
  }
 ],
 "metadata": {
  "kernelspec": {
   "name": "python3",
   "language": "python",
   "display_name": "Python 3"
  },
  "language_info": {
   "codemirror_mode": {
    "name": "ipython",
    "version": 3
   },
   "file_extension": ".py",
   "mimetype": "text/x-python",
   "name": "python",
   "nbconvert_exporter": "python",
   "pygments_lexer": "ipython3",
   "version": "3.8.2"
  }
 },
 "nbformat": 4,
 "nbformat_minor": 1
}